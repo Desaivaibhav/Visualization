{
 "cells": [
  {
   "cell_type": "markdown",
   "metadata": {},
   "source": [
    "\n",
    "## Data source\n",
    "*- Yahoo Finance.\n",
    "\n",
    "### In this report, we will be using Python to pull live stock market and create an interactive report using Plotly and Datapane.\n",
    "\n",
    "ref: https://towardsdatascience.com/creating-automated-python-dashboards-using-plotly-datapane-and-github-actions-ff8aa8b4e3"
   ]
  },
  {
   "cell_type": "code",
   "execution_count": 1,
   "metadata": {},
   "outputs": [
    {
     "name": "stdout",
     "output_type": "stream",
     "text": [
      "Collecting datapane\n",
      "  Using cached datapane-0.9.2-py3-none-any.whl (1.4 MB)\n",
      "Requirement already satisfied: jsonschema<4.0.0,>=3.2.0 in c:\\programdata\\anaconda3\\lib\\site-packages (from datapane) (3.2.0)\n",
      "Requirement already satisfied: munch<3.0.0,>=2.5.0 in c:\\programdata\\anaconda3\\lib\\site-packages (from datapane) (2.5.0)\n",
      "Collecting click-spinner<0.2.0,>=0.1.8\n",
      "  Using cached click_spinner-0.1.10-py2.py3-none-any.whl (4.0 kB)\n",
      "Collecting ruamel.yaml<0.17.0,>=0.16.5\n",
      "  Using cached ruamel.yaml-0.16.12-py2.py3-none-any.whl (111 kB)\n",
      "Processing c:\\users\\vd0093\\appdata\\local\\pip\\cache\\wheels\\86\\ab\\a3\\a8fa7e0a07e80f547e03468c03827f8257f7339327986faed1\\stringcase-1.2.0-py3-none-any.whl\n",
      "Collecting nbconvert<6.1.0,>=6.0.0\n",
      "  Using cached nbconvert-6.0.7-py3-none-any.whl (552 kB)\n",
      "Collecting colorlog<5.0.0,>=4.1.0\n",
      "  Using cached colorlog-4.7.2-py2.py3-none-any.whl (10 kB)\n",
      "Requirement already satisfied: requests<3.0.0,>=2.20.0 in c:\\programdata\\anaconda3\\lib\\site-packages (from datapane) (2.22.0)\n",
      "Requirement already satisfied: jinja2<3.0.0,>=2.11.1 in c:\\programdata\\anaconda3\\lib\\site-packages (from datapane) (2.11.1)\n",
      "Collecting tabulate<0.9.0,>=0.8.7\n",
      "  Using cached tabulate-0.8.7-py3-none-any.whl (24 kB)\n",
      "Processing c:\\users\\vd0093\\appdata\\local\\pip\\cache\\wheels\\df\\85\\bd\\769292b86fd351b191369d672f8a12e1e33830e3a59964c195\\micawber-0.5.2-py3-none-any.whl\n",
      "Requirement already satisfied: altair<5.0.0,>=4.0.0 in c:\\programdata\\anaconda3\\lib\\site-packages (from datapane) (4.1.0)\n",
      "Collecting dacite<2.0.0,>=1.5.0\n",
      "  Using cached dacite-1.6.0-py3-none-any.whl (12 kB)\n",
      "Requirement already satisfied: click<8.0.0,>=7.0.0 in c:\\programdata\\anaconda3\\lib\\site-packages (from datapane) (7.0)\n",
      "Requirement already satisfied: pandas<2.0.0,>=1.0.1 in c:\\programdata\\anaconda3\\lib\\site-packages (from datapane) (1.0.5)\n",
      "Collecting pyarrow<3.0.0,>=2.0.0\n",
      "  Using cached pyarrow-2.0.0-cp37-cp37m-win_amd64.whl (10.7 MB)\n",
      "Processing c:\\users\\vd0093\\appdata\\local\\pip\\cache\\wheels\\91\\fc\\b0\\ef9a9e80e667e3f3054f4612a6d203295046ce9c35ca426f43\\bokeh-2.0.0-py3-none-any.whl\n",
      "Collecting requests-toolbelt<0.10.0,>=0.9.1\n",
      "  Using cached requests_toolbelt-0.9.1-py2.py3-none-any.whl (54 kB)\n",
      "Collecting glom<21.0.0,>=20.11.0\n",
      "  Using cached glom-20.11.0-py2.py3-none-any.whl (97 kB)\n",
      "Requirement already satisfied: validators<0.19.0,>=0.18.0 in c:\\programdata\\anaconda3\\lib\\site-packages (from datapane) (0.18.2)\n",
      "Collecting toolz<0.12.0,>=0.11.1\n",
      "  Using cached toolz-0.11.1-py3-none-any.whl (55 kB)\n",
      "Requirement already satisfied: packaging<21.0,>=20.3 in c:\\programdata\\anaconda3\\lib\\site-packages (from datapane) (20.9)\n",
      "Requirement already satisfied: matplotlib<4.0.0,>=3.1.0 in c:\\programdata\\anaconda3\\lib\\site-packages (from datapane) (3.1.3)\n",
      "Requirement already satisfied: PyYAML<6.0.0,>=5.3.0 in c:\\programdata\\anaconda3\\lib\\site-packages (from datapane) (5.3)\n",
      "Collecting furl<3.0.0,>=2.1.0\n",
      "  Using cached furl-2.1.0-py2.py3-none-any.whl (20 kB)\n",
      "Requirement already satisfied: numpy<2.0.0,>=1.18.0 in c:\\programdata\\anaconda3\\lib\\site-packages (from datapane) (1.18.1)\n",
      "Collecting bleach<4.0.0,>=3.2.1\n",
      "  Using cached bleach-3.3.0-py2.py3-none-any.whl (283 kB)\n",
      "Collecting boltons<21.0.0,>=20.2.1\n",
      "  Using cached boltons-20.2.1-py2.py3-none-any.whl (170 kB)\n",
      "Collecting lxml<5.0.0,>=4.5.2\n",
      "  Using cached lxml-4.6.2-cp37-cp37m-win_amd64.whl (3.5 MB)\n",
      "Collecting folium<0.12.0,>=0.11.0\n",
      "  Using cached folium-0.11.0-py2.py3-none-any.whl (93 kB)\n",
      "Collecting flit-core<3.1.0,>=3.0.0\n",
      "  Using cached flit_core-3.0.0-py3-none-any.whl (36 kB)\n",
      "Collecting dominate<3.0.0,>=2.4.0\n",
      "  Using cached dominate-2.6.0-py2.py3-none-any.whl (29 kB)\n",
      "Requirement already satisfied: plotly<5.0.0,>=4.8.1 in c:\\programdata\\anaconda3\\lib\\site-packages (from datapane) (4.14.3)\n",
      "Requirement already satisfied: importlib_resources<4.0.0,>=3.0.0 in c:\\programdata\\anaconda3\\lib\\site-packages (from datapane) (3.0.0)\n",
      "Requirement already satisfied: pyrsistent>=0.14.0 in c:\\programdata\\anaconda3\\lib\\site-packages (from jsonschema<4.0.0,>=3.2.0->datapane) (0.15.7)\n",
      "Requirement already satisfied: setuptools in c:\\programdata\\anaconda3\\lib\\site-packages (from jsonschema<4.0.0,>=3.2.0->datapane) (45.2.0.post20200210)\n",
      "Requirement already satisfied: attrs>=17.4.0 in c:\\programdata\\anaconda3\\lib\\site-packages (from jsonschema<4.0.0,>=3.2.0->datapane) (19.3.0)\n",
      "Requirement already satisfied: importlib-metadata; python_version < \"3.8\" in c:\\programdata\\anaconda3\\lib\\site-packages (from jsonschema<4.0.0,>=3.2.0->datapane) (1.5.0)\n",
      "Requirement already satisfied: six>=1.11.0 in c:\\programdata\\anaconda3\\lib\\site-packages (from jsonschema<4.0.0,>=3.2.0->datapane) (1.14.0)\n",
      "Collecting ruamel.yaml.clib>=0.1.2; platform_python_implementation == \"CPython\" and python_version < \"3.9\"\n",
      "  Using cached ruamel.yaml.clib-0.2.2-cp37-cp37m-win_amd64.whl (118 kB)\n",
      "Requirement already satisfied: pandocfilters>=1.4.1 in c:\\programdata\\anaconda3\\lib\\site-packages (from nbconvert<6.1.0,>=6.0.0->datapane) (1.4.2)\n",
      "Requirement already satisfied: entrypoints>=0.2.2 in c:\\programdata\\anaconda3\\lib\\site-packages (from nbconvert<6.1.0,>=6.0.0->datapane) (0.3)\n",
      "Requirement already satisfied: traitlets>=4.2 in c:\\programdata\\anaconda3\\lib\\site-packages (from nbconvert<6.1.0,>=6.0.0->datapane) (4.3.3)\n",
      "Collecting jupyterlab-pygments\n",
      "  Using cached jupyterlab_pygments-0.1.2-py2.py3-none-any.whl (4.6 kB)\n",
      "Requirement already satisfied: mistune<2,>=0.8.1 in c:\\programdata\\anaconda3\\lib\\site-packages (from nbconvert<6.1.0,>=6.0.0->datapane) (0.8.4)\n",
      "Requirement already satisfied: testpath in c:\\programdata\\anaconda3\\lib\\site-packages (from nbconvert<6.1.0,>=6.0.0->datapane) (0.4.4)\n",
      "Collecting nbclient<0.6.0,>=0.5.0\n",
      "  Using cached nbclient-0.5.2-py3-none-any.whl (65 kB)\n",
      "Requirement already satisfied: pygments>=2.4.1 in c:\\programdata\\anaconda3\\lib\\site-packages (from nbconvert<6.1.0,>=6.0.0->datapane) (2.5.2)\n",
      "Requirement already satisfied: nbformat>=4.4 in c:\\programdata\\anaconda3\\lib\\site-packages (from nbconvert<6.1.0,>=6.0.0->datapane) (5.0.4)\n",
      "Requirement already satisfied: jupyter-core in c:\\programdata\\anaconda3\\lib\\site-packages (from nbconvert<6.1.0,>=6.0.0->datapane) (4.6.1)\n",
      "Requirement already satisfied: defusedxml in c:\\programdata\\anaconda3\\lib\\site-packages (from nbconvert<6.1.0,>=6.0.0->datapane) (0.6.0)\n",
      "Requirement already satisfied: colorama; sys_platform == \"win32\" in c:\\programdata\\anaconda3\\lib\\site-packages (from colorlog<5.0.0,>=4.1.0->datapane) (0.4.3)\n",
      "Requirement already satisfied: certifi>=2017.4.17 in c:\\programdata\\anaconda3\\lib\\site-packages (from requests<3.0.0,>=2.20.0->datapane) (2019.11.28)\n",
      "Requirement already satisfied: urllib3!=1.25.0,!=1.25.1,<1.26,>=1.21.1 in c:\\programdata\\anaconda3\\lib\\site-packages (from requests<3.0.0,>=2.20.0->datapane) (1.25.8)\n",
      "Requirement already satisfied: chardet<3.1.0,>=3.0.2 in c:\\programdata\\anaconda3\\lib\\site-packages (from requests<3.0.0,>=2.20.0->datapane) (3.0.4)\n",
      "Requirement already satisfied: idna<2.9,>=2.5 in c:\\programdata\\anaconda3\\lib\\site-packages (from requests<3.0.0,>=2.20.0->datapane) (2.8)\n",
      "Requirement already satisfied: MarkupSafe>=0.23 in c:\\programdata\\anaconda3\\lib\\site-packages (from jinja2<3.0.0,>=2.11.1->datapane) (1.1.1)\n",
      "Requirement already satisfied: pytz>=2017.2 in c:\\programdata\\anaconda3\\lib\\site-packages (from pandas<2.0.0,>=1.0.1->datapane) (2019.3)\n",
      "Requirement already satisfied: python-dateutil>=2.6.1 in c:\\programdata\\anaconda3\\lib\\site-packages (from pandas<2.0.0,>=1.0.1->datapane) (2.8.1)\n",
      "Requirement already satisfied: typing-extensions>=3.7.4 in c:\\programdata\\anaconda3\\lib\\site-packages (from bokeh==2.0.0->datapane) (3.7.4.3)\n",
      "Requirement already satisfied: tornado>=5 in c:\\programdata\\anaconda3\\lib\\site-packages (from bokeh==2.0.0->datapane) (6.0.3)\n",
      "Requirement already satisfied: pillow>=4.0 in c:\\programdata\\anaconda3\\lib\\site-packages (from bokeh==2.0.0->datapane) (7.0.0)\n",
      "Processing c:\\users\\vd0093\\appdata\\local\\pip\\cache\\wheels\\67\\03\\c2\\76d2e1e694852ce409ac2938b9f461bc0fdf3789901e7bb1f0\\face-20.1.1-py3-none-any.whl\n",
      "Requirement already satisfied: decorator>=3.4.0 in c:\\programdata\\anaconda3\\lib\\site-packages (from validators<0.19.0,>=0.18.0->datapane) (4.4.1)\n",
      "Requirement already satisfied: pyparsing>=2.0.2 in c:\\programdata\\anaconda3\\lib\\site-packages (from packaging<21.0,>=20.3->datapane) (2.4.6)\n",
      "Requirement already satisfied: kiwisolver>=1.0.1 in c:\\programdata\\anaconda3\\lib\\site-packages (from matplotlib<4.0.0,>=3.1.0->datapane) (1.1.0)\n",
      "Requirement already satisfied: cycler>=0.10 in c:\\programdata\\anaconda3\\lib\\site-packages (from matplotlib<4.0.0,>=3.1.0->datapane) (0.10.0)\n",
      "Collecting orderedmultidict>=1.0.1\n",
      "  Using cached orderedmultidict-1.0.1-py2.py3-none-any.whl (11 kB)\n",
      "Requirement already satisfied: webencodings in c:\\programdata\\anaconda3\\lib\\site-packages (from bleach<4.0.0,>=3.2.1->datapane) (0.5.1)\n",
      "Collecting branca>=0.3.0\n",
      "  Using cached branca-0.4.2-py3-none-any.whl (24 kB)\n",
      "Collecting pytoml\n",
      "  Using cached pytoml-0.1.21-py2.py3-none-any.whl (8.5 kB)\n",
      "Requirement already satisfied: retrying>=1.3.3 in c:\\programdata\\anaconda3\\lib\\site-packages (from plotly<5.0.0,>=4.8.1->datapane) (1.3.3)\n",
      "Requirement already satisfied: zipp>=0.4; python_version < \"3.8\" in c:\\programdata\\anaconda3\\lib\\site-packages (from importlib_resources<4.0.0,>=3.0.0->datapane) (2.2.0)\n",
      "Requirement already satisfied: ipython-genutils in c:\\programdata\\anaconda3\\lib\\site-packages (from traitlets>=4.2->nbconvert<6.1.0,>=6.0.0->datapane) (0.2.0)\n",
      "Collecting async-generator\n",
      "  Using cached async_generator-1.10-py3-none-any.whl (18 kB)\n",
      "Collecting nest-asyncio\n",
      "  Using cached nest_asyncio-1.5.1-py3-none-any.whl (5.0 kB)\n",
      "Collecting jupyter-client>=6.1.5\n",
      "  Using cached jupyter_client-6.1.11-py3-none-any.whl (108 kB)\n",
      "Requirement already satisfied: pywin32>=1.0; sys_platform == \"win32\" in c:\\programdata\\anaconda3\\lib\\site-packages (from jupyter-core->nbconvert<6.1.0,>=6.0.0->datapane) (227)\n",
      "Requirement already satisfied: pyzmq>=13 in c:\\programdata\\anaconda3\\lib\\site-packages (from jupyter-client>=6.1.5->nbclient<0.6.0,>=0.5.0->nbconvert<6.1.0,>=6.0.0->datapane) (18.1.1)\n",
      "Installing collected packages: click-spinner, ruamel.yaml.clib, ruamel.yaml, stringcase, jupyterlab-pygments, async-generator, nest-asyncio, jupyter-client, nbclient, bleach, nbconvert, colorlog, tabulate, micawber, dacite, pyarrow, bokeh, requests-toolbelt, boltons, face, glom, toolz, orderedmultidict, furl, lxml, branca, folium, pytoml, flit-core, dominate, datapane\n",
      "  Attempting uninstall: jupyter-client\n",
      "    Found existing installation: jupyter-client 5.3.4\n",
      "    Uninstalling jupyter-client-5.3.4:\n",
      "      Successfully uninstalled jupyter-client-5.3.4\n",
      "  Attempting uninstall: bleach\n",
      "    Found existing installation: bleach 3.1.0\n",
      "    Uninstalling bleach-3.1.0:\n",
      "      Successfully uninstalled bleach-3.1.0\n",
      "  Attempting uninstall: nbconvert\n",
      "    Found existing installation: nbconvert 5.6.1\n",
      "    Uninstalling nbconvert-5.6.1:\n",
      "      Successfully uninstalled nbconvert-5.6.1\n",
      "  Attempting uninstall: pyarrow\n",
      "    Found existing installation: pyarrow 3.0.0\n",
      "    Uninstalling pyarrow-3.0.0:\n",
      "      Successfully uninstalled pyarrow-3.0.0\n",
      "  Attempting uninstall: bokeh\n",
      "    Found existing installation: bokeh 1.4.0\n",
      "    Uninstalling bokeh-1.4.0:\n",
      "      Successfully uninstalled bokeh-1.4.0\n",
      "  Attempting uninstall: toolz\n",
      "    Found existing installation: toolz 0.10.0\n",
      "    Uninstalling toolz-0.10.0:\n",
      "      Successfully uninstalled toolz-0.10.0\n",
      "  Attempting uninstall: lxml\n",
      "    Found existing installation: lxml 4.5.0\n",
      "    Uninstalling lxml-4.5.0:\n",
      "      Successfully uninstalled lxml-4.5.0\n",
      "Successfully installed async-generator-1.10 bleach-3.3.0 bokeh-2.0.0 boltons-20.2.1 branca-0.4.2 click-spinner-0.1.10 colorlog-4.7.2 dacite-1.6.0 datapane-0.9.2 dominate-2.6.0 face-20.1.1 flit-core-3.0.0 folium-0.11.0 furl-2.1.0 glom-20.11.0 jupyter-client-6.1.11 jupyterlab-pygments-0.1.2 lxml-4.6.2 micawber-0.5.2 nbclient-0.5.2 nbconvert-6.0.7 nest-asyncio-1.5.1 orderedmultidict-1.0.1 pyarrow-2.0.0 pytoml-0.1.21 requests-toolbelt-0.9.1 ruamel.yaml-0.16.12 ruamel.yaml.clib-0.2.2 stringcase-1.2.0 tabulate-0.8.7 toolz-0.11.1\n"
     ]
    },
    {
     "name": "stderr",
     "output_type": "stream",
     "text": [
      "ERROR: spyder 4.0.1 requires pyqt5<5.13; python_version >= \"3\", which is not installed.\n",
      "ERROR: spyder 4.0.1 requires pyqtwebengine<5.13; python_version >= \"3\", which is not installed.\n"
     ]
    }
   ],
   "source": [
    "! pip install datapane\n",
    "! pip install pandas_datareader"
   ]
  },
  {
   "cell_type": "code",
   "execution_count": 10,
   "metadata": {},
   "outputs": [
    {
     "name": "stdout",
     "output_type": "stream",
     "text": [
      "          Date       High        Low       Open      Close    Volume  \\\n",
      "0   2020-03-16   4.570000   3.900000   3.930000   4.370000   4866700   \n",
      "1   2020-03-17   4.650000   4.110000   4.400000   4.230000   3562200   \n",
      "2   2020-03-18   4.250000   3.500000   4.100000   3.770000   3651700   \n",
      "3   2020-03-19   4.200000   3.550000   3.710000   4.190000   5039500   \n",
      "4   2020-03-20   4.080000   3.650000   4.080000   3.760000   7722200   \n",
      "..         ...        ...        ...        ...        ...       ...   \n",
      "227 2021-02-08  72.660004  58.020000  72.410004  60.000000  25687300   \n",
      "228 2021-02-09  57.000000  46.520000  56.610001  50.310001  26843100   \n",
      "229 2021-02-10  62.830002  46.549999  50.770000  51.200001  36455000   \n",
      "230 2021-02-11  55.320000  48.220001  50.009998  51.099998  12997400   \n",
      "231 2021-02-12  55.240002  48.049999  50.750000  52.400002  14498000   \n",
      "\n",
      "     Adj Close  \n",
      "0     4.370000  \n",
      "1     4.230000  \n",
      "2     3.770000  \n",
      "3     4.190000  \n",
      "4     3.760000  \n",
      "..         ...  \n",
      "227  60.000000  \n",
      "228  50.310001  \n",
      "229  51.200001  \n",
      "230  51.099998  \n",
      "231  52.400002  \n",
      "\n",
      "[232 rows x 7 columns]\n"
     ]
    }
   ],
   "source": [
    "import pandas as pd\n",
    "import numpy as np\n",
    "import plotly.figure_factory as ff\n",
    "import datapane as dp\n",
    "import plotly.offline as py\n",
    "import plotly.graph_objs as go\n",
    "import plotly.express as px\n",
    "import pandas_datareader.data as web\n",
    "import datetime\n",
    "\n",
    "# py.init_notebook_mode(connected=True)\n",
    "\n",
    "import plotly.io as pio\n",
    "pio.templates.default = \"plotly_dark\"\n",
    "\n",
    "start = datetime.datetime(2020, 3, 15)\n",
    "end = datetime.datetime.now()\n",
    "print(gmstp)\n",
    "gmstp = web.DataReader(\"GME\", 'yahoo', start, end).reset_index()\n",
    "tsla = web.DataReader(\"TSLA\", 'yahoo', start, end).reset_index()\n"
   ]
  },
  {
   "cell_type": "code",
   "execution_count": 11,
   "metadata": {},
   "outputs": [
    {
     "data": {
      "application/vnd.plotly.v1+json": {
       "config": {
        "plotlyServerURL": "https://plot.ly"
       },
       "data": [
        {
         "name": "gmstp",
         "type": "scatter",
         "x": [
          "2020-03-16T00:00:00",
          "2020-03-17T00:00:00",
          "2020-03-18T00:00:00",
          "2020-03-19T00:00:00",
          "2020-03-20T00:00:00",
          "2020-03-23T00:00:00",
          "2020-03-24T00:00:00",
          "2020-03-25T00:00:00",
          "2020-03-26T00:00:00",
          "2020-03-27T00:00:00",
          "2020-03-30T00:00:00",
          "2020-03-31T00:00:00",
          "2020-04-01T00:00:00",
          "2020-04-02T00:00:00",
          "2020-04-03T00:00:00",
          "2020-04-06T00:00:00",
          "2020-04-07T00:00:00",
          "2020-04-08T00:00:00",
          "2020-04-09T00:00:00",
          "2020-04-13T00:00:00",
          "2020-04-14T00:00:00",
          "2020-04-15T00:00:00",
          "2020-04-16T00:00:00",
          "2020-04-17T00:00:00",
          "2020-04-20T00:00:00",
          "2020-04-21T00:00:00",
          "2020-04-22T00:00:00",
          "2020-04-23T00:00:00",
          "2020-04-24T00:00:00",
          "2020-04-27T00:00:00",
          "2020-04-28T00:00:00",
          "2020-04-29T00:00:00",
          "2020-04-30T00:00:00",
          "2020-05-01T00:00:00",
          "2020-05-04T00:00:00",
          "2020-05-05T00:00:00",
          "2020-05-06T00:00:00",
          "2020-05-07T00:00:00",
          "2020-05-08T00:00:00",
          "2020-05-11T00:00:00",
          "2020-05-12T00:00:00",
          "2020-05-13T00:00:00",
          "2020-05-14T00:00:00",
          "2020-05-15T00:00:00",
          "2020-05-18T00:00:00",
          "2020-05-19T00:00:00",
          "2020-05-20T00:00:00",
          "2020-05-21T00:00:00",
          "2020-05-22T00:00:00",
          "2020-05-26T00:00:00",
          "2020-05-27T00:00:00",
          "2020-05-28T00:00:00",
          "2020-05-29T00:00:00",
          "2020-06-01T00:00:00",
          "2020-06-02T00:00:00",
          "2020-06-03T00:00:00",
          "2020-06-04T00:00:00",
          "2020-06-05T00:00:00",
          "2020-06-08T00:00:00",
          "2020-06-09T00:00:00",
          "2020-06-10T00:00:00",
          "2020-06-11T00:00:00",
          "2020-06-12T00:00:00",
          "2020-06-15T00:00:00",
          "2020-06-16T00:00:00",
          "2020-06-17T00:00:00",
          "2020-06-18T00:00:00",
          "2020-06-19T00:00:00",
          "2020-06-22T00:00:00",
          "2020-06-23T00:00:00",
          "2020-06-24T00:00:00",
          "2020-06-25T00:00:00",
          "2020-06-26T00:00:00",
          "2020-06-29T00:00:00",
          "2020-06-30T00:00:00",
          "2020-07-01T00:00:00",
          "2020-07-02T00:00:00",
          "2020-07-06T00:00:00",
          "2020-07-07T00:00:00",
          "2020-07-08T00:00:00",
          "2020-07-09T00:00:00",
          "2020-07-10T00:00:00",
          "2020-07-13T00:00:00",
          "2020-07-14T00:00:00",
          "2020-07-15T00:00:00",
          "2020-07-16T00:00:00",
          "2020-07-17T00:00:00",
          "2020-07-20T00:00:00",
          "2020-07-21T00:00:00",
          "2020-07-22T00:00:00",
          "2020-07-23T00:00:00",
          "2020-07-24T00:00:00",
          "2020-07-27T00:00:00",
          "2020-07-28T00:00:00",
          "2020-07-29T00:00:00",
          "2020-07-30T00:00:00",
          "2020-07-31T00:00:00",
          "2020-08-03T00:00:00",
          "2020-08-04T00:00:00",
          "2020-08-05T00:00:00",
          "2020-08-06T00:00:00",
          "2020-08-07T00:00:00",
          "2020-08-10T00:00:00",
          "2020-08-11T00:00:00",
          "2020-08-12T00:00:00",
          "2020-08-13T00:00:00",
          "2020-08-14T00:00:00",
          "2020-08-17T00:00:00",
          "2020-08-18T00:00:00",
          "2020-08-19T00:00:00",
          "2020-08-20T00:00:00",
          "2020-08-21T00:00:00",
          "2020-08-24T00:00:00",
          "2020-08-25T00:00:00",
          "2020-08-26T00:00:00",
          "2020-08-27T00:00:00",
          "2020-08-28T00:00:00",
          "2020-08-31T00:00:00",
          "2020-09-01T00:00:00",
          "2020-09-02T00:00:00",
          "2020-09-03T00:00:00",
          "2020-09-04T00:00:00",
          "2020-09-08T00:00:00",
          "2020-09-09T00:00:00",
          "2020-09-10T00:00:00",
          "2020-09-11T00:00:00",
          "2020-09-14T00:00:00",
          "2020-09-15T00:00:00",
          "2020-09-16T00:00:00",
          "2020-09-17T00:00:00",
          "2020-09-18T00:00:00",
          "2020-09-21T00:00:00",
          "2020-09-22T00:00:00",
          "2020-09-23T00:00:00",
          "2020-09-24T00:00:00",
          "2020-09-25T00:00:00",
          "2020-09-28T00:00:00",
          "2020-09-29T00:00:00",
          "2020-09-30T00:00:00",
          "2020-10-01T00:00:00",
          "2020-10-02T00:00:00",
          "2020-10-05T00:00:00",
          "2020-10-06T00:00:00",
          "2020-10-07T00:00:00",
          "2020-10-08T00:00:00",
          "2020-10-09T00:00:00",
          "2020-10-12T00:00:00",
          "2020-10-13T00:00:00",
          "2020-10-14T00:00:00",
          "2020-10-15T00:00:00",
          "2020-10-16T00:00:00",
          "2020-10-19T00:00:00",
          "2020-10-20T00:00:00",
          "2020-10-21T00:00:00",
          "2020-10-22T00:00:00",
          "2020-10-23T00:00:00",
          "2020-10-26T00:00:00",
          "2020-10-27T00:00:00",
          "2020-10-28T00:00:00",
          "2020-10-29T00:00:00",
          "2020-10-30T00:00:00",
          "2020-11-02T00:00:00",
          "2020-11-03T00:00:00",
          "2020-11-04T00:00:00",
          "2020-11-05T00:00:00",
          "2020-11-06T00:00:00",
          "2020-11-09T00:00:00",
          "2020-11-10T00:00:00",
          "2020-11-11T00:00:00",
          "2020-11-12T00:00:00",
          "2020-11-13T00:00:00",
          "2020-11-16T00:00:00",
          "2020-11-17T00:00:00",
          "2020-11-18T00:00:00",
          "2020-11-19T00:00:00",
          "2020-11-20T00:00:00",
          "2020-11-23T00:00:00",
          "2020-11-24T00:00:00",
          "2020-11-25T00:00:00",
          "2020-11-27T00:00:00",
          "2020-11-30T00:00:00",
          "2020-12-01T00:00:00",
          "2020-12-02T00:00:00",
          "2020-12-03T00:00:00",
          "2020-12-04T00:00:00",
          "2020-12-07T00:00:00",
          "2020-12-08T00:00:00",
          "2020-12-09T00:00:00",
          "2020-12-10T00:00:00",
          "2020-12-11T00:00:00",
          "2020-12-14T00:00:00",
          "2020-12-15T00:00:00",
          "2020-12-16T00:00:00",
          "2020-12-17T00:00:00",
          "2020-12-18T00:00:00",
          "2020-12-21T00:00:00",
          "2020-12-22T00:00:00",
          "2020-12-23T00:00:00",
          "2020-12-24T00:00:00",
          "2020-12-28T00:00:00",
          "2020-12-29T00:00:00",
          "2020-12-30T00:00:00",
          "2020-12-31T00:00:00",
          "2021-01-04T00:00:00",
          "2021-01-05T00:00:00",
          "2021-01-06T00:00:00",
          "2021-01-07T00:00:00",
          "2021-01-08T00:00:00",
          "2021-01-11T00:00:00",
          "2021-01-12T00:00:00",
          "2021-01-13T00:00:00",
          "2021-01-14T00:00:00",
          "2021-01-15T00:00:00",
          "2021-01-19T00:00:00",
          "2021-01-20T00:00:00",
          "2021-01-21T00:00:00",
          "2021-01-22T00:00:00",
          "2021-01-25T00:00:00",
          "2021-01-26T00:00:00",
          "2021-01-27T00:00:00",
          "2021-01-28T00:00:00",
          "2021-01-29T00:00:00",
          "2021-02-01T00:00:00",
          "2021-02-02T00:00:00",
          "2021-02-03T00:00:00",
          "2021-02-04T00:00:00",
          "2021-02-05T00:00:00",
          "2021-02-08T00:00:00",
          "2021-02-09T00:00:00",
          "2021-02-10T00:00:00",
          "2021-02-11T00:00:00",
          "2021-02-12T00:00:00"
         ],
         "y": [
          4.369999885559082,
          4.230000019073486,
          3.7699999809265137,
          4.190000057220459,
          3.759999990463257,
          3.809999942779541,
          4.159999847412109,
          4.170000076293945,
          4.409999847412109,
          4.21999979019165,
          3.6500000953674316,
          3.5,
          3.25,
          2.8499999046325684,
          2.799999952316284,
          3.0899999141693115,
          3.2699999809265137,
          3.4100000858306885,
          3.890000104904175,
          4.739999771118164,
          5.949999809265137,
          5.269999980926514,
          5.03000020980835,
          4.880000114440918,
          5.610000133514404,
          4.78000020980835,
          4.889999866485596,
          4.699999809265137,
          4.769999980926514,
          5.820000171661377,
          5.639999866485596,
          6.039999961853027,
          5.730000019073486,
          6.050000190734863,
          5.480000019073486,
          5.389999866485596,
          4.929999828338623,
          4.869999885559082,
          4.980000019073486,
          4.760000228881836,
          4.539999961853027,
          4.210000038146973,
          4.130000114440918,
          4.21999979019165,
          4.579999923706055,
          4.440000057220459,
          4.429999828338623,
          4.440000057220459,
          4.179999828338623,
          4.420000076293945,
          4.690000057220459,
          4.329999923706055,
          4.059999942779541,
          4.130000114440918,
          4.179999828338623,
          4.440000057220459,
          4.46999979019165,
          4.139999866485596,
          5.010000228881836,
          4.960000038146973,
          5.070000171661377,
          4.369999885559082,
          4.71999979019165,
          4.690000057220459,
          4.639999866485596,
          4.760000228881836,
          4.949999809265137,
          4.880000114440918,
          4.869999885559082,
          4.829999923706055,
          4.409999847412109,
          4.460000038146973,
          4.349999904632568,
          4.380000114440918,
          4.340000152587891,
          4.440000057220459,
          4.289999961853027,
          4.239999771118164,
          4.090000152587891,
          4.260000228881836,
          4.210000038146973,
          4.340000152587891,
          4.260000228881836,
          4.079999923706055,
          4.190000057220459,
          4.170000076293945,
          3.9600000381469727,
          3.8499999046325684,
          4.010000228881836,
          4.110000133514404,
          4.110000133514404,
          4.03000020980835,
          4.010000228881836,
          3.940000057220459,
          4.059999942779541,
          4.099999904632568,
          4.010000228881836,
          4.150000095367432,
          4.429999828338623,
          4.630000114440918,
          4.429999828338623,
          4.159999847412109,
          4.329999923706055,
          4.349999904632568,
          4.519999980926514,
          4.639999866485596,
          4.75,
          4.630000114440918,
          4.809999942779541,
          4.71999979019165,
          4.610000133514404,
          5.03000020980835,
          4.869999885559082,
          4.980000019073486,
          5.110000133514404,
          5.25,
          5.389999866485596,
          6.679999828338623,
          7.650000095367432,
          7.710000038146973,
          7.820000171661377,
          7.650000095367432,
          7.699999809265137,
          7.349999904632568,
          6.230000019073486,
          6.090000152587891,
          6.909999847412109,
          7.090000152587891,
          8.680000305175781,
          9.199999809265137,
          9.470000267028809,
          8.75,
          10.5600004196167,
          10.039999961853027,
          9.140000343322754,
          10.020000457763672,
          10.09000015258789,
          10.350000381469727,
          10.199999809265137,
          9.770000457763672,
          9.390000343322754,
          9.460000038146973,
          9.130000114440918,
          9.359999656677246,
          13.489999771118164,
          12.020000457763672,
          11.800000190734863,
          11.880000114440918,
          12.25,
          13.829999923706055,
          13.3100004196167,
          13.90999984741211,
          13.859999656677246,
          14.100000381469727,
          14.90999984741211,
          15,
          13.449999809265137,
          12.6899995803833,
          11.819999694824219,
          11.729999542236328,
          10.470000267028809,
          10.75,
          11.569999694824219,
          10.90999984741211,
          11.449999809265137,
          11.859999656677246,
          11.489999771118164,
          11.100000381469727,
          11.75,
          11.130000114440918,
          11.010000228881836,
          12.0600004196167,
          11.630000114440918,
          11.569999694824219,
          12.460000038146973,
          12.710000038146973,
          13.899999618530273,
          13.670000076293945,
          14.75,
          16.079999923706055,
          16.559999465942383,
          15.800000190734863,
          16.579999923706055,
          16.1200008392334,
          16.899999618530273,
          16.350000381469727,
          16.940000534057617,
          13.65999984741211,
          14.119999885559082,
          13.3100004196167,
          12.720000267028809,
          13.850000381469727,
          13.850000381469727,
          14.829999923706055,
          15.630000114440918,
          15.529999732971191,
          19.459999084472656,
          20.56999969482422,
          20.149999618530273,
          20.989999771118164,
          19.3799991607666,
          19.260000228881836,
          18.84000015258789,
          17.25,
          17.3700008392334,
          18.360000610351562,
          18.079999923706055,
          17.690000534057617,
          19.940000534057617,
          19.950000762939453,
          31.399999618530273,
          39.90999984741211,
          35.5,
          39.36000061035156,
          39.119998931884766,
          43.029998779296875,
          65.01000213623047,
          76.79000091552734,
          147.97999572753906,
          347.510009765625,
          193.60000610351562,
          325,
          225,
          90,
          92.41000366210938,
          53.5,
          63.77000045776367,
          60,
          50.310001373291016,
          51.20000076293945,
          51.099998474121094,
          52.400001525878906
         ]
        }
       ],
       "layout": {
        "template": {
         "data": {
          "bar": [
           {
            "error_x": {
             "color": "#f2f5fa"
            },
            "error_y": {
             "color": "#f2f5fa"
            },
            "marker": {
             "line": {
              "color": "rgb(17,17,17)",
              "width": 0.5
             }
            },
            "type": "bar"
           }
          ],
          "barpolar": [
           {
            "marker": {
             "line": {
              "color": "rgb(17,17,17)",
              "width": 0.5
             }
            },
            "type": "barpolar"
           }
          ],
          "carpet": [
           {
            "aaxis": {
             "endlinecolor": "#A2B1C6",
             "gridcolor": "#506784",
             "linecolor": "#506784",
             "minorgridcolor": "#506784",
             "startlinecolor": "#A2B1C6"
            },
            "baxis": {
             "endlinecolor": "#A2B1C6",
             "gridcolor": "#506784",
             "linecolor": "#506784",
             "minorgridcolor": "#506784",
             "startlinecolor": "#A2B1C6"
            },
            "type": "carpet"
           }
          ],
          "choropleth": [
           {
            "colorbar": {
             "outlinewidth": 0,
             "ticks": ""
            },
            "type": "choropleth"
           }
          ],
          "contour": [
           {
            "colorbar": {
             "outlinewidth": 0,
             "ticks": ""
            },
            "colorscale": [
             [
              0,
              "#0d0887"
             ],
             [
              0.1111111111111111,
              "#46039f"
             ],
             [
              0.2222222222222222,
              "#7201a8"
             ],
             [
              0.3333333333333333,
              "#9c179e"
             ],
             [
              0.4444444444444444,
              "#bd3786"
             ],
             [
              0.5555555555555556,
              "#d8576b"
             ],
             [
              0.6666666666666666,
              "#ed7953"
             ],
             [
              0.7777777777777778,
              "#fb9f3a"
             ],
             [
              0.8888888888888888,
              "#fdca26"
             ],
             [
              1,
              "#f0f921"
             ]
            ],
            "type": "contour"
           }
          ],
          "contourcarpet": [
           {
            "colorbar": {
             "outlinewidth": 0,
             "ticks": ""
            },
            "type": "contourcarpet"
           }
          ],
          "heatmap": [
           {
            "colorbar": {
             "outlinewidth": 0,
             "ticks": ""
            },
            "colorscale": [
             [
              0,
              "#0d0887"
             ],
             [
              0.1111111111111111,
              "#46039f"
             ],
             [
              0.2222222222222222,
              "#7201a8"
             ],
             [
              0.3333333333333333,
              "#9c179e"
             ],
             [
              0.4444444444444444,
              "#bd3786"
             ],
             [
              0.5555555555555556,
              "#d8576b"
             ],
             [
              0.6666666666666666,
              "#ed7953"
             ],
             [
              0.7777777777777778,
              "#fb9f3a"
             ],
             [
              0.8888888888888888,
              "#fdca26"
             ],
             [
              1,
              "#f0f921"
             ]
            ],
            "type": "heatmap"
           }
          ],
          "heatmapgl": [
           {
            "colorbar": {
             "outlinewidth": 0,
             "ticks": ""
            },
            "colorscale": [
             [
              0,
              "#0d0887"
             ],
             [
              0.1111111111111111,
              "#46039f"
             ],
             [
              0.2222222222222222,
              "#7201a8"
             ],
             [
              0.3333333333333333,
              "#9c179e"
             ],
             [
              0.4444444444444444,
              "#bd3786"
             ],
             [
              0.5555555555555556,
              "#d8576b"
             ],
             [
              0.6666666666666666,
              "#ed7953"
             ],
             [
              0.7777777777777778,
              "#fb9f3a"
             ],
             [
              0.8888888888888888,
              "#fdca26"
             ],
             [
              1,
              "#f0f921"
             ]
            ],
            "type": "heatmapgl"
           }
          ],
          "histogram": [
           {
            "marker": {
             "colorbar": {
              "outlinewidth": 0,
              "ticks": ""
             }
            },
            "type": "histogram"
           }
          ],
          "histogram2d": [
           {
            "colorbar": {
             "outlinewidth": 0,
             "ticks": ""
            },
            "colorscale": [
             [
              0,
              "#0d0887"
             ],
             [
              0.1111111111111111,
              "#46039f"
             ],
             [
              0.2222222222222222,
              "#7201a8"
             ],
             [
              0.3333333333333333,
              "#9c179e"
             ],
             [
              0.4444444444444444,
              "#bd3786"
             ],
             [
              0.5555555555555556,
              "#d8576b"
             ],
             [
              0.6666666666666666,
              "#ed7953"
             ],
             [
              0.7777777777777778,
              "#fb9f3a"
             ],
             [
              0.8888888888888888,
              "#fdca26"
             ],
             [
              1,
              "#f0f921"
             ]
            ],
            "type": "histogram2d"
           }
          ],
          "histogram2dcontour": [
           {
            "colorbar": {
             "outlinewidth": 0,
             "ticks": ""
            },
            "colorscale": [
             [
              0,
              "#0d0887"
             ],
             [
              0.1111111111111111,
              "#46039f"
             ],
             [
              0.2222222222222222,
              "#7201a8"
             ],
             [
              0.3333333333333333,
              "#9c179e"
             ],
             [
              0.4444444444444444,
              "#bd3786"
             ],
             [
              0.5555555555555556,
              "#d8576b"
             ],
             [
              0.6666666666666666,
              "#ed7953"
             ],
             [
              0.7777777777777778,
              "#fb9f3a"
             ],
             [
              0.8888888888888888,
              "#fdca26"
             ],
             [
              1,
              "#f0f921"
             ]
            ],
            "type": "histogram2dcontour"
           }
          ],
          "mesh3d": [
           {
            "colorbar": {
             "outlinewidth": 0,
             "ticks": ""
            },
            "type": "mesh3d"
           }
          ],
          "parcoords": [
           {
            "line": {
             "colorbar": {
              "outlinewidth": 0,
              "ticks": ""
             }
            },
            "type": "parcoords"
           }
          ],
          "pie": [
           {
            "automargin": true,
            "type": "pie"
           }
          ],
          "scatter": [
           {
            "marker": {
             "line": {
              "color": "#283442"
             }
            },
            "type": "scatter"
           }
          ],
          "scatter3d": [
           {
            "line": {
             "colorbar": {
              "outlinewidth": 0,
              "ticks": ""
             }
            },
            "marker": {
             "colorbar": {
              "outlinewidth": 0,
              "ticks": ""
             }
            },
            "type": "scatter3d"
           }
          ],
          "scattercarpet": [
           {
            "marker": {
             "colorbar": {
              "outlinewidth": 0,
              "ticks": ""
             }
            },
            "type": "scattercarpet"
           }
          ],
          "scattergeo": [
           {
            "marker": {
             "colorbar": {
              "outlinewidth": 0,
              "ticks": ""
             }
            },
            "type": "scattergeo"
           }
          ],
          "scattergl": [
           {
            "marker": {
             "line": {
              "color": "#283442"
             }
            },
            "type": "scattergl"
           }
          ],
          "scattermapbox": [
           {
            "marker": {
             "colorbar": {
              "outlinewidth": 0,
              "ticks": ""
             }
            },
            "type": "scattermapbox"
           }
          ],
          "scatterpolar": [
           {
            "marker": {
             "colorbar": {
              "outlinewidth": 0,
              "ticks": ""
             }
            },
            "type": "scatterpolar"
           }
          ],
          "scatterpolargl": [
           {
            "marker": {
             "colorbar": {
              "outlinewidth": 0,
              "ticks": ""
             }
            },
            "type": "scatterpolargl"
           }
          ],
          "scatterternary": [
           {
            "marker": {
             "colorbar": {
              "outlinewidth": 0,
              "ticks": ""
             }
            },
            "type": "scatterternary"
           }
          ],
          "surface": [
           {
            "colorbar": {
             "outlinewidth": 0,
             "ticks": ""
            },
            "colorscale": [
             [
              0,
              "#0d0887"
             ],
             [
              0.1111111111111111,
              "#46039f"
             ],
             [
              0.2222222222222222,
              "#7201a8"
             ],
             [
              0.3333333333333333,
              "#9c179e"
             ],
             [
              0.4444444444444444,
              "#bd3786"
             ],
             [
              0.5555555555555556,
              "#d8576b"
             ],
             [
              0.6666666666666666,
              "#ed7953"
             ],
             [
              0.7777777777777778,
              "#fb9f3a"
             ],
             [
              0.8888888888888888,
              "#fdca26"
             ],
             [
              1,
              "#f0f921"
             ]
            ],
            "type": "surface"
           }
          ],
          "table": [
           {
            "cells": {
             "fill": {
              "color": "#506784"
             },
             "line": {
              "color": "rgb(17,17,17)"
             }
            },
            "header": {
             "fill": {
              "color": "#2a3f5f"
             },
             "line": {
              "color": "rgb(17,17,17)"
             }
            },
            "type": "table"
           }
          ]
         },
         "layout": {
          "annotationdefaults": {
           "arrowcolor": "#f2f5fa",
           "arrowhead": 0,
           "arrowwidth": 1
          },
          "autotypenumbers": "strict",
          "coloraxis": {
           "colorbar": {
            "outlinewidth": 0,
            "ticks": ""
           }
          },
          "colorscale": {
           "diverging": [
            [
             0,
             "#8e0152"
            ],
            [
             0.1,
             "#c51b7d"
            ],
            [
             0.2,
             "#de77ae"
            ],
            [
             0.3,
             "#f1b6da"
            ],
            [
             0.4,
             "#fde0ef"
            ],
            [
             0.5,
             "#f7f7f7"
            ],
            [
             0.6,
             "#e6f5d0"
            ],
            [
             0.7,
             "#b8e186"
            ],
            [
             0.8,
             "#7fbc41"
            ],
            [
             0.9,
             "#4d9221"
            ],
            [
             1,
             "#276419"
            ]
           ],
           "sequential": [
            [
             0,
             "#0d0887"
            ],
            [
             0.1111111111111111,
             "#46039f"
            ],
            [
             0.2222222222222222,
             "#7201a8"
            ],
            [
             0.3333333333333333,
             "#9c179e"
            ],
            [
             0.4444444444444444,
             "#bd3786"
            ],
            [
             0.5555555555555556,
             "#d8576b"
            ],
            [
             0.6666666666666666,
             "#ed7953"
            ],
            [
             0.7777777777777778,
             "#fb9f3a"
            ],
            [
             0.8888888888888888,
             "#fdca26"
            ],
            [
             1,
             "#f0f921"
            ]
           ],
           "sequentialminus": [
            [
             0,
             "#0d0887"
            ],
            [
             0.1111111111111111,
             "#46039f"
            ],
            [
             0.2222222222222222,
             "#7201a8"
            ],
            [
             0.3333333333333333,
             "#9c179e"
            ],
            [
             0.4444444444444444,
             "#bd3786"
            ],
            [
             0.5555555555555556,
             "#d8576b"
            ],
            [
             0.6666666666666666,
             "#ed7953"
            ],
            [
             0.7777777777777778,
             "#fb9f3a"
            ],
            [
             0.8888888888888888,
             "#fdca26"
            ],
            [
             1,
             "#f0f921"
            ]
           ]
          },
          "colorway": [
           "#636efa",
           "#EF553B",
           "#00cc96",
           "#ab63fa",
           "#FFA15A",
           "#19d3f3",
           "#FF6692",
           "#B6E880",
           "#FF97FF",
           "#FECB52"
          ],
          "font": {
           "color": "#f2f5fa"
          },
          "geo": {
           "bgcolor": "rgb(17,17,17)",
           "lakecolor": "rgb(17,17,17)",
           "landcolor": "rgb(17,17,17)",
           "showlakes": true,
           "showland": true,
           "subunitcolor": "#506784"
          },
          "hoverlabel": {
           "align": "left"
          },
          "hovermode": "closest",
          "mapbox": {
           "style": "dark"
          },
          "paper_bgcolor": "rgb(17,17,17)",
          "plot_bgcolor": "rgb(17,17,17)",
          "polar": {
           "angularaxis": {
            "gridcolor": "#506784",
            "linecolor": "#506784",
            "ticks": ""
           },
           "bgcolor": "rgb(17,17,17)",
           "radialaxis": {
            "gridcolor": "#506784",
            "linecolor": "#506784",
            "ticks": ""
           }
          },
          "scene": {
           "xaxis": {
            "backgroundcolor": "rgb(17,17,17)",
            "gridcolor": "#506784",
            "gridwidth": 2,
            "linecolor": "#506784",
            "showbackground": true,
            "ticks": "",
            "zerolinecolor": "#C8D4E3"
           },
           "yaxis": {
            "backgroundcolor": "rgb(17,17,17)",
            "gridcolor": "#506784",
            "gridwidth": 2,
            "linecolor": "#506784",
            "showbackground": true,
            "ticks": "",
            "zerolinecolor": "#C8D4E3"
           },
           "zaxis": {
            "backgroundcolor": "rgb(17,17,17)",
            "gridcolor": "#506784",
            "gridwidth": 2,
            "linecolor": "#506784",
            "showbackground": true,
            "ticks": "",
            "zerolinecolor": "#C8D4E3"
           }
          },
          "shapedefaults": {
           "line": {
            "color": "#f2f5fa"
           }
          },
          "sliderdefaults": {
           "bgcolor": "#C8D4E3",
           "bordercolor": "rgb(17,17,17)",
           "borderwidth": 1,
           "tickwidth": 0
          },
          "ternary": {
           "aaxis": {
            "gridcolor": "#506784",
            "linecolor": "#506784",
            "ticks": ""
           },
           "baxis": {
            "gridcolor": "#506784",
            "linecolor": "#506784",
            "ticks": ""
           },
           "bgcolor": "rgb(17,17,17)",
           "caxis": {
            "gridcolor": "#506784",
            "linecolor": "#506784",
            "ticks": ""
           }
          },
          "title": {
           "x": 0.05
          },
          "updatemenudefaults": {
           "bgcolor": "#506784",
           "borderwidth": 0
          },
          "xaxis": {
           "automargin": true,
           "gridcolor": "#283442",
           "linecolor": "#506784",
           "ticks": "",
           "title": {
            "standoff": 15
           },
           "zerolinecolor": "#283442",
           "zerolinewidth": 2
          },
          "yaxis": {
           "automargin": true,
           "gridcolor": "#283442",
           "linecolor": "#506784",
           "ticks": "",
           "title": {
            "standoff": 15
           },
           "zerolinecolor": "#283442",
           "zerolinewidth": 2
          }
         }
        },
        "title": {
         "text": "GameStop Stock Price",
         "x": 0.5,
         "xanchor": "center"
        }
       }
      },
      "text/html": [
       "<div>                            <div id=\"ff5790e9-7e03-41de-9ee0-cb325c480b4e\" class=\"plotly-graph-div\" style=\"height:525px; width:100%;\"></div>            <script type=\"text/javascript\">                require([\"plotly\"], function(Plotly) {                    window.PLOTLYENV=window.PLOTLYENV || {};                                    if (document.getElementById(\"ff5790e9-7e03-41de-9ee0-cb325c480b4e\")) {                    Plotly.newPlot(                        \"ff5790e9-7e03-41de-9ee0-cb325c480b4e\",                        [{\"name\": \"gmstp\", \"type\": \"scatter\", \"x\": [\"2020-03-16T00:00:00\", \"2020-03-17T00:00:00\", \"2020-03-18T00:00:00\", \"2020-03-19T00:00:00\", \"2020-03-20T00:00:00\", \"2020-03-23T00:00:00\", \"2020-03-24T00:00:00\", \"2020-03-25T00:00:00\", \"2020-03-26T00:00:00\", \"2020-03-27T00:00:00\", \"2020-03-30T00:00:00\", \"2020-03-31T00:00:00\", \"2020-04-01T00:00:00\", \"2020-04-02T00:00:00\", \"2020-04-03T00:00:00\", \"2020-04-06T00:00:00\", \"2020-04-07T00:00:00\", \"2020-04-08T00:00:00\", \"2020-04-09T00:00:00\", \"2020-04-13T00:00:00\", \"2020-04-14T00:00:00\", \"2020-04-15T00:00:00\", \"2020-04-16T00:00:00\", \"2020-04-17T00:00:00\", \"2020-04-20T00:00:00\", \"2020-04-21T00:00:00\", \"2020-04-22T00:00:00\", \"2020-04-23T00:00:00\", \"2020-04-24T00:00:00\", \"2020-04-27T00:00:00\", \"2020-04-28T00:00:00\", \"2020-04-29T00:00:00\", \"2020-04-30T00:00:00\", \"2020-05-01T00:00:00\", \"2020-05-04T00:00:00\", \"2020-05-05T00:00:00\", \"2020-05-06T00:00:00\", \"2020-05-07T00:00:00\", \"2020-05-08T00:00:00\", \"2020-05-11T00:00:00\", \"2020-05-12T00:00:00\", \"2020-05-13T00:00:00\", \"2020-05-14T00:00:00\", \"2020-05-15T00:00:00\", \"2020-05-18T00:00:00\", \"2020-05-19T00:00:00\", \"2020-05-20T00:00:00\", \"2020-05-21T00:00:00\", \"2020-05-22T00:00:00\", \"2020-05-26T00:00:00\", \"2020-05-27T00:00:00\", \"2020-05-28T00:00:00\", \"2020-05-29T00:00:00\", \"2020-06-01T00:00:00\", \"2020-06-02T00:00:00\", \"2020-06-03T00:00:00\", \"2020-06-04T00:00:00\", \"2020-06-05T00:00:00\", \"2020-06-08T00:00:00\", \"2020-06-09T00:00:00\", \"2020-06-10T00:00:00\", \"2020-06-11T00:00:00\", \"2020-06-12T00:00:00\", \"2020-06-15T00:00:00\", \"2020-06-16T00:00:00\", \"2020-06-17T00:00:00\", \"2020-06-18T00:00:00\", \"2020-06-19T00:00:00\", \"2020-06-22T00:00:00\", \"2020-06-23T00:00:00\", \"2020-06-24T00:00:00\", \"2020-06-25T00:00:00\", \"2020-06-26T00:00:00\", \"2020-06-29T00:00:00\", \"2020-06-30T00:00:00\", \"2020-07-01T00:00:00\", \"2020-07-02T00:00:00\", \"2020-07-06T00:00:00\", \"2020-07-07T00:00:00\", \"2020-07-08T00:00:00\", \"2020-07-09T00:00:00\", \"2020-07-10T00:00:00\", \"2020-07-13T00:00:00\", \"2020-07-14T00:00:00\", \"2020-07-15T00:00:00\", \"2020-07-16T00:00:00\", \"2020-07-17T00:00:00\", \"2020-07-20T00:00:00\", \"2020-07-21T00:00:00\", \"2020-07-22T00:00:00\", \"2020-07-23T00:00:00\", \"2020-07-24T00:00:00\", \"2020-07-27T00:00:00\", \"2020-07-28T00:00:00\", \"2020-07-29T00:00:00\", \"2020-07-30T00:00:00\", \"2020-07-31T00:00:00\", \"2020-08-03T00:00:00\", \"2020-08-04T00:00:00\", \"2020-08-05T00:00:00\", \"2020-08-06T00:00:00\", \"2020-08-07T00:00:00\", \"2020-08-10T00:00:00\", \"2020-08-11T00:00:00\", \"2020-08-12T00:00:00\", \"2020-08-13T00:00:00\", \"2020-08-14T00:00:00\", \"2020-08-17T00:00:00\", \"2020-08-18T00:00:00\", \"2020-08-19T00:00:00\", \"2020-08-20T00:00:00\", \"2020-08-21T00:00:00\", \"2020-08-24T00:00:00\", \"2020-08-25T00:00:00\", \"2020-08-26T00:00:00\", \"2020-08-27T00:00:00\", \"2020-08-28T00:00:00\", \"2020-08-31T00:00:00\", \"2020-09-01T00:00:00\", \"2020-09-02T00:00:00\", \"2020-09-03T00:00:00\", \"2020-09-04T00:00:00\", \"2020-09-08T00:00:00\", \"2020-09-09T00:00:00\", \"2020-09-10T00:00:00\", \"2020-09-11T00:00:00\", \"2020-09-14T00:00:00\", \"2020-09-15T00:00:00\", \"2020-09-16T00:00:00\", \"2020-09-17T00:00:00\", \"2020-09-18T00:00:00\", \"2020-09-21T00:00:00\", \"2020-09-22T00:00:00\", \"2020-09-23T00:00:00\", \"2020-09-24T00:00:00\", \"2020-09-25T00:00:00\", \"2020-09-28T00:00:00\", \"2020-09-29T00:00:00\", \"2020-09-30T00:00:00\", \"2020-10-01T00:00:00\", \"2020-10-02T00:00:00\", \"2020-10-05T00:00:00\", \"2020-10-06T00:00:00\", \"2020-10-07T00:00:00\", \"2020-10-08T00:00:00\", \"2020-10-09T00:00:00\", \"2020-10-12T00:00:00\", \"2020-10-13T00:00:00\", \"2020-10-14T00:00:00\", \"2020-10-15T00:00:00\", \"2020-10-16T00:00:00\", \"2020-10-19T00:00:00\", \"2020-10-20T00:00:00\", \"2020-10-21T00:00:00\", \"2020-10-22T00:00:00\", \"2020-10-23T00:00:00\", \"2020-10-26T00:00:00\", \"2020-10-27T00:00:00\", \"2020-10-28T00:00:00\", \"2020-10-29T00:00:00\", \"2020-10-30T00:00:00\", \"2020-11-02T00:00:00\", \"2020-11-03T00:00:00\", \"2020-11-04T00:00:00\", \"2020-11-05T00:00:00\", \"2020-11-06T00:00:00\", \"2020-11-09T00:00:00\", \"2020-11-10T00:00:00\", \"2020-11-11T00:00:00\", \"2020-11-12T00:00:00\", \"2020-11-13T00:00:00\", \"2020-11-16T00:00:00\", \"2020-11-17T00:00:00\", \"2020-11-18T00:00:00\", \"2020-11-19T00:00:00\", \"2020-11-20T00:00:00\", \"2020-11-23T00:00:00\", \"2020-11-24T00:00:00\", \"2020-11-25T00:00:00\", \"2020-11-27T00:00:00\", \"2020-11-30T00:00:00\", \"2020-12-01T00:00:00\", \"2020-12-02T00:00:00\", \"2020-12-03T00:00:00\", \"2020-12-04T00:00:00\", \"2020-12-07T00:00:00\", \"2020-12-08T00:00:00\", \"2020-12-09T00:00:00\", \"2020-12-10T00:00:00\", \"2020-12-11T00:00:00\", \"2020-12-14T00:00:00\", \"2020-12-15T00:00:00\", \"2020-12-16T00:00:00\", \"2020-12-17T00:00:00\", \"2020-12-18T00:00:00\", \"2020-12-21T00:00:00\", \"2020-12-22T00:00:00\", \"2020-12-23T00:00:00\", \"2020-12-24T00:00:00\", \"2020-12-28T00:00:00\", \"2020-12-29T00:00:00\", \"2020-12-30T00:00:00\", \"2020-12-31T00:00:00\", \"2021-01-04T00:00:00\", \"2021-01-05T00:00:00\", \"2021-01-06T00:00:00\", \"2021-01-07T00:00:00\", \"2021-01-08T00:00:00\", \"2021-01-11T00:00:00\", \"2021-01-12T00:00:00\", \"2021-01-13T00:00:00\", \"2021-01-14T00:00:00\", \"2021-01-15T00:00:00\", \"2021-01-19T00:00:00\", \"2021-01-20T00:00:00\", \"2021-01-21T00:00:00\", \"2021-01-22T00:00:00\", \"2021-01-25T00:00:00\", \"2021-01-26T00:00:00\", \"2021-01-27T00:00:00\", \"2021-01-28T00:00:00\", \"2021-01-29T00:00:00\", \"2021-02-01T00:00:00\", \"2021-02-02T00:00:00\", \"2021-02-03T00:00:00\", \"2021-02-04T00:00:00\", \"2021-02-05T00:00:00\", \"2021-02-08T00:00:00\", \"2021-02-09T00:00:00\", \"2021-02-10T00:00:00\", \"2021-02-11T00:00:00\", \"2021-02-12T00:00:00\"], \"y\": [4.369999885559082, 4.230000019073486, 3.7699999809265137, 4.190000057220459, 3.759999990463257, 3.809999942779541, 4.159999847412109, 4.170000076293945, 4.409999847412109, 4.21999979019165, 3.6500000953674316, 3.5, 3.25, 2.8499999046325684, 2.799999952316284, 3.0899999141693115, 3.2699999809265137, 3.4100000858306885, 3.890000104904175, 4.739999771118164, 5.949999809265137, 5.269999980926514, 5.03000020980835, 4.880000114440918, 5.610000133514404, 4.78000020980835, 4.889999866485596, 4.699999809265137, 4.769999980926514, 5.820000171661377, 5.639999866485596, 6.039999961853027, 5.730000019073486, 6.050000190734863, 5.480000019073486, 5.389999866485596, 4.929999828338623, 4.869999885559082, 4.980000019073486, 4.760000228881836, 4.539999961853027, 4.210000038146973, 4.130000114440918, 4.21999979019165, 4.579999923706055, 4.440000057220459, 4.429999828338623, 4.440000057220459, 4.179999828338623, 4.420000076293945, 4.690000057220459, 4.329999923706055, 4.059999942779541, 4.130000114440918, 4.179999828338623, 4.440000057220459, 4.46999979019165, 4.139999866485596, 5.010000228881836, 4.960000038146973, 5.070000171661377, 4.369999885559082, 4.71999979019165, 4.690000057220459, 4.639999866485596, 4.760000228881836, 4.949999809265137, 4.880000114440918, 4.869999885559082, 4.829999923706055, 4.409999847412109, 4.460000038146973, 4.349999904632568, 4.380000114440918, 4.340000152587891, 4.440000057220459, 4.289999961853027, 4.239999771118164, 4.090000152587891, 4.260000228881836, 4.210000038146973, 4.340000152587891, 4.260000228881836, 4.079999923706055, 4.190000057220459, 4.170000076293945, 3.9600000381469727, 3.8499999046325684, 4.010000228881836, 4.110000133514404, 4.110000133514404, 4.03000020980835, 4.010000228881836, 3.940000057220459, 4.059999942779541, 4.099999904632568, 4.010000228881836, 4.150000095367432, 4.429999828338623, 4.630000114440918, 4.429999828338623, 4.159999847412109, 4.329999923706055, 4.349999904632568, 4.519999980926514, 4.639999866485596, 4.75, 4.630000114440918, 4.809999942779541, 4.71999979019165, 4.610000133514404, 5.03000020980835, 4.869999885559082, 4.980000019073486, 5.110000133514404, 5.25, 5.389999866485596, 6.679999828338623, 7.650000095367432, 7.710000038146973, 7.820000171661377, 7.650000095367432, 7.699999809265137, 7.349999904632568, 6.230000019073486, 6.090000152587891, 6.909999847412109, 7.090000152587891, 8.680000305175781, 9.199999809265137, 9.470000267028809, 8.75, 10.5600004196167, 10.039999961853027, 9.140000343322754, 10.020000457763672, 10.09000015258789, 10.350000381469727, 10.199999809265137, 9.770000457763672, 9.390000343322754, 9.460000038146973, 9.130000114440918, 9.359999656677246, 13.489999771118164, 12.020000457763672, 11.800000190734863, 11.880000114440918, 12.25, 13.829999923706055, 13.3100004196167, 13.90999984741211, 13.859999656677246, 14.100000381469727, 14.90999984741211, 15.0, 13.449999809265137, 12.6899995803833, 11.819999694824219, 11.729999542236328, 10.470000267028809, 10.75, 11.569999694824219, 10.90999984741211, 11.449999809265137, 11.859999656677246, 11.489999771118164, 11.100000381469727, 11.75, 11.130000114440918, 11.010000228881836, 12.0600004196167, 11.630000114440918, 11.569999694824219, 12.460000038146973, 12.710000038146973, 13.899999618530273, 13.670000076293945, 14.75, 16.079999923706055, 16.559999465942383, 15.800000190734863, 16.579999923706055, 16.1200008392334, 16.899999618530273, 16.350000381469727, 16.940000534057617, 13.65999984741211, 14.119999885559082, 13.3100004196167, 12.720000267028809, 13.850000381469727, 13.850000381469727, 14.829999923706055, 15.630000114440918, 15.529999732971191, 19.459999084472656, 20.56999969482422, 20.149999618530273, 20.989999771118164, 19.3799991607666, 19.260000228881836, 18.84000015258789, 17.25, 17.3700008392334, 18.360000610351562, 18.079999923706055, 17.690000534057617, 19.940000534057617, 19.950000762939453, 31.399999618530273, 39.90999984741211, 35.5, 39.36000061035156, 39.119998931884766, 43.029998779296875, 65.01000213623047, 76.79000091552734, 147.97999572753906, 347.510009765625, 193.60000610351562, 325.0, 225.0, 90.0, 92.41000366210938, 53.5, 63.77000045776367, 60.0, 50.310001373291016, 51.20000076293945, 51.099998474121094, 52.400001525878906]}],                        {\"template\": {\"data\": {\"bar\": [{\"error_x\": {\"color\": \"#f2f5fa\"}, \"error_y\": {\"color\": \"#f2f5fa\"}, \"marker\": {\"line\": {\"color\": \"rgb(17,17,17)\", \"width\": 0.5}}, \"type\": \"bar\"}], \"barpolar\": [{\"marker\": {\"line\": {\"color\": \"rgb(17,17,17)\", \"width\": 0.5}}, \"type\": \"barpolar\"}], \"carpet\": [{\"aaxis\": {\"endlinecolor\": \"#A2B1C6\", \"gridcolor\": \"#506784\", \"linecolor\": \"#506784\", \"minorgridcolor\": \"#506784\", \"startlinecolor\": \"#A2B1C6\"}, \"baxis\": {\"endlinecolor\": \"#A2B1C6\", \"gridcolor\": \"#506784\", \"linecolor\": \"#506784\", \"minorgridcolor\": \"#506784\", \"startlinecolor\": \"#A2B1C6\"}, \"type\": \"carpet\"}], \"choropleth\": [{\"colorbar\": {\"outlinewidth\": 0, \"ticks\": \"\"}, \"type\": \"choropleth\"}], \"contour\": [{\"colorbar\": {\"outlinewidth\": 0, \"ticks\": \"\"}, \"colorscale\": [[0.0, \"#0d0887\"], [0.1111111111111111, \"#46039f\"], [0.2222222222222222, \"#7201a8\"], [0.3333333333333333, \"#9c179e\"], [0.4444444444444444, \"#bd3786\"], [0.5555555555555556, \"#d8576b\"], [0.6666666666666666, \"#ed7953\"], [0.7777777777777778, \"#fb9f3a\"], [0.8888888888888888, \"#fdca26\"], [1.0, \"#f0f921\"]], \"type\": \"contour\"}], \"contourcarpet\": [{\"colorbar\": {\"outlinewidth\": 0, \"ticks\": \"\"}, \"type\": \"contourcarpet\"}], \"heatmap\": [{\"colorbar\": {\"outlinewidth\": 0, \"ticks\": \"\"}, \"colorscale\": [[0.0, \"#0d0887\"], [0.1111111111111111, \"#46039f\"], [0.2222222222222222, \"#7201a8\"], [0.3333333333333333, \"#9c179e\"], [0.4444444444444444, \"#bd3786\"], [0.5555555555555556, \"#d8576b\"], [0.6666666666666666, \"#ed7953\"], [0.7777777777777778, \"#fb9f3a\"], [0.8888888888888888, \"#fdca26\"], [1.0, \"#f0f921\"]], \"type\": \"heatmap\"}], \"heatmapgl\": [{\"colorbar\": {\"outlinewidth\": 0, \"ticks\": \"\"}, \"colorscale\": [[0.0, \"#0d0887\"], [0.1111111111111111, \"#46039f\"], [0.2222222222222222, \"#7201a8\"], [0.3333333333333333, \"#9c179e\"], [0.4444444444444444, \"#bd3786\"], [0.5555555555555556, \"#d8576b\"], [0.6666666666666666, \"#ed7953\"], [0.7777777777777778, \"#fb9f3a\"], [0.8888888888888888, \"#fdca26\"], [1.0, \"#f0f921\"]], \"type\": \"heatmapgl\"}], \"histogram\": [{\"marker\": {\"colorbar\": {\"outlinewidth\": 0, \"ticks\": \"\"}}, \"type\": \"histogram\"}], \"histogram2d\": [{\"colorbar\": {\"outlinewidth\": 0, \"ticks\": \"\"}, \"colorscale\": [[0.0, \"#0d0887\"], [0.1111111111111111, \"#46039f\"], [0.2222222222222222, \"#7201a8\"], [0.3333333333333333, \"#9c179e\"], [0.4444444444444444, \"#bd3786\"], [0.5555555555555556, \"#d8576b\"], [0.6666666666666666, \"#ed7953\"], [0.7777777777777778, \"#fb9f3a\"], [0.8888888888888888, \"#fdca26\"], [1.0, \"#f0f921\"]], \"type\": \"histogram2d\"}], \"histogram2dcontour\": [{\"colorbar\": {\"outlinewidth\": 0, \"ticks\": \"\"}, \"colorscale\": [[0.0, \"#0d0887\"], [0.1111111111111111, \"#46039f\"], [0.2222222222222222, \"#7201a8\"], [0.3333333333333333, \"#9c179e\"], [0.4444444444444444, \"#bd3786\"], [0.5555555555555556, \"#d8576b\"], [0.6666666666666666, \"#ed7953\"], [0.7777777777777778, \"#fb9f3a\"], [0.8888888888888888, \"#fdca26\"], [1.0, \"#f0f921\"]], \"type\": \"histogram2dcontour\"}], \"mesh3d\": [{\"colorbar\": {\"outlinewidth\": 0, \"ticks\": \"\"}, \"type\": \"mesh3d\"}], \"parcoords\": [{\"line\": {\"colorbar\": {\"outlinewidth\": 0, \"ticks\": \"\"}}, \"type\": \"parcoords\"}], \"pie\": [{\"automargin\": true, \"type\": \"pie\"}], \"scatter\": [{\"marker\": {\"line\": {\"color\": \"#283442\"}}, \"type\": \"scatter\"}], \"scatter3d\": [{\"line\": {\"colorbar\": {\"outlinewidth\": 0, \"ticks\": \"\"}}, \"marker\": {\"colorbar\": {\"outlinewidth\": 0, \"ticks\": \"\"}}, \"type\": \"scatter3d\"}], \"scattercarpet\": [{\"marker\": {\"colorbar\": {\"outlinewidth\": 0, \"ticks\": \"\"}}, \"type\": \"scattercarpet\"}], \"scattergeo\": [{\"marker\": {\"colorbar\": {\"outlinewidth\": 0, \"ticks\": \"\"}}, \"type\": \"scattergeo\"}], \"scattergl\": [{\"marker\": {\"line\": {\"color\": \"#283442\"}}, \"type\": \"scattergl\"}], \"scattermapbox\": [{\"marker\": {\"colorbar\": {\"outlinewidth\": 0, \"ticks\": \"\"}}, \"type\": \"scattermapbox\"}], \"scatterpolar\": [{\"marker\": {\"colorbar\": {\"outlinewidth\": 0, \"ticks\": \"\"}}, \"type\": \"scatterpolar\"}], \"scatterpolargl\": [{\"marker\": {\"colorbar\": {\"outlinewidth\": 0, \"ticks\": \"\"}}, \"type\": \"scatterpolargl\"}], \"scatterternary\": [{\"marker\": {\"colorbar\": {\"outlinewidth\": 0, \"ticks\": \"\"}}, \"type\": \"scatterternary\"}], \"surface\": [{\"colorbar\": {\"outlinewidth\": 0, \"ticks\": \"\"}, \"colorscale\": [[0.0, \"#0d0887\"], [0.1111111111111111, \"#46039f\"], [0.2222222222222222, \"#7201a8\"], [0.3333333333333333, \"#9c179e\"], [0.4444444444444444, \"#bd3786\"], [0.5555555555555556, \"#d8576b\"], [0.6666666666666666, \"#ed7953\"], [0.7777777777777778, \"#fb9f3a\"], [0.8888888888888888, \"#fdca26\"], [1.0, \"#f0f921\"]], \"type\": \"surface\"}], \"table\": [{\"cells\": {\"fill\": {\"color\": \"#506784\"}, \"line\": {\"color\": \"rgb(17,17,17)\"}}, \"header\": {\"fill\": {\"color\": \"#2a3f5f\"}, \"line\": {\"color\": \"rgb(17,17,17)\"}}, \"type\": \"table\"}]}, \"layout\": {\"annotationdefaults\": {\"arrowcolor\": \"#f2f5fa\", \"arrowhead\": 0, \"arrowwidth\": 1}, \"autotypenumbers\": \"strict\", \"coloraxis\": {\"colorbar\": {\"outlinewidth\": 0, \"ticks\": \"\"}}, \"colorscale\": {\"diverging\": [[0, \"#8e0152\"], [0.1, \"#c51b7d\"], [0.2, \"#de77ae\"], [0.3, \"#f1b6da\"], [0.4, \"#fde0ef\"], [0.5, \"#f7f7f7\"], [0.6, \"#e6f5d0\"], [0.7, \"#b8e186\"], [0.8, \"#7fbc41\"], [0.9, \"#4d9221\"], [1, \"#276419\"]], \"sequential\": [[0.0, \"#0d0887\"], [0.1111111111111111, \"#46039f\"], [0.2222222222222222, \"#7201a8\"], [0.3333333333333333, \"#9c179e\"], [0.4444444444444444, \"#bd3786\"], [0.5555555555555556, \"#d8576b\"], [0.6666666666666666, \"#ed7953\"], [0.7777777777777778, \"#fb9f3a\"], [0.8888888888888888, \"#fdca26\"], [1.0, \"#f0f921\"]], \"sequentialminus\": [[0.0, \"#0d0887\"], [0.1111111111111111, \"#46039f\"], [0.2222222222222222, \"#7201a8\"], [0.3333333333333333, \"#9c179e\"], [0.4444444444444444, \"#bd3786\"], [0.5555555555555556, \"#d8576b\"], [0.6666666666666666, \"#ed7953\"], [0.7777777777777778, \"#fb9f3a\"], [0.8888888888888888, \"#fdca26\"], [1.0, \"#f0f921\"]]}, \"colorway\": [\"#636efa\", \"#EF553B\", \"#00cc96\", \"#ab63fa\", \"#FFA15A\", \"#19d3f3\", \"#FF6692\", \"#B6E880\", \"#FF97FF\", \"#FECB52\"], \"font\": {\"color\": \"#f2f5fa\"}, \"geo\": {\"bgcolor\": \"rgb(17,17,17)\", \"lakecolor\": \"rgb(17,17,17)\", \"landcolor\": \"rgb(17,17,17)\", \"showlakes\": true, \"showland\": true, \"subunitcolor\": \"#506784\"}, \"hoverlabel\": {\"align\": \"left\"}, \"hovermode\": \"closest\", \"mapbox\": {\"style\": \"dark\"}, \"paper_bgcolor\": \"rgb(17,17,17)\", \"plot_bgcolor\": \"rgb(17,17,17)\", \"polar\": {\"angularaxis\": {\"gridcolor\": \"#506784\", \"linecolor\": \"#506784\", \"ticks\": \"\"}, \"bgcolor\": \"rgb(17,17,17)\", \"radialaxis\": {\"gridcolor\": \"#506784\", \"linecolor\": \"#506784\", \"ticks\": \"\"}}, \"scene\": {\"xaxis\": {\"backgroundcolor\": \"rgb(17,17,17)\", \"gridcolor\": \"#506784\", \"gridwidth\": 2, \"linecolor\": \"#506784\", \"showbackground\": true, \"ticks\": \"\", \"zerolinecolor\": \"#C8D4E3\"}, \"yaxis\": {\"backgroundcolor\": \"rgb(17,17,17)\", \"gridcolor\": \"#506784\", \"gridwidth\": 2, \"linecolor\": \"#506784\", \"showbackground\": true, \"ticks\": \"\", \"zerolinecolor\": \"#C8D4E3\"}, \"zaxis\": {\"backgroundcolor\": \"rgb(17,17,17)\", \"gridcolor\": \"#506784\", \"gridwidth\": 2, \"linecolor\": \"#506784\", \"showbackground\": true, \"ticks\": \"\", \"zerolinecolor\": \"#C8D4E3\"}}, \"shapedefaults\": {\"line\": {\"color\": \"#f2f5fa\"}}, \"sliderdefaults\": {\"bgcolor\": \"#C8D4E3\", \"bordercolor\": \"rgb(17,17,17)\", \"borderwidth\": 1, \"tickwidth\": 0}, \"ternary\": {\"aaxis\": {\"gridcolor\": \"#506784\", \"linecolor\": \"#506784\", \"ticks\": \"\"}, \"baxis\": {\"gridcolor\": \"#506784\", \"linecolor\": \"#506784\", \"ticks\": \"\"}, \"bgcolor\": \"rgb(17,17,17)\", \"caxis\": {\"gridcolor\": \"#506784\", \"linecolor\": \"#506784\", \"ticks\": \"\"}}, \"title\": {\"x\": 0.05}, \"updatemenudefaults\": {\"bgcolor\": \"#506784\", \"borderwidth\": 0}, \"xaxis\": {\"automargin\": true, \"gridcolor\": \"#283442\", \"linecolor\": \"#506784\", \"ticks\": \"\", \"title\": {\"standoff\": 15}, \"zerolinecolor\": \"#283442\", \"zerolinewidth\": 2}, \"yaxis\": {\"automargin\": true, \"gridcolor\": \"#283442\", \"linecolor\": \"#506784\", \"ticks\": \"\", \"title\": {\"standoff\": 15}, \"zerolinecolor\": \"#283442\", \"zerolinewidth\": 2}}}, \"title\": {\"text\": \"GameStop Stock Price\", \"x\": 0.5, \"xanchor\": \"center\"}},                        {\"responsive\": true}                    ).then(function(){\n",
       "                            \n",
       "var gd = document.getElementById('ff5790e9-7e03-41de-9ee0-cb325c480b4e');\n",
       "var x = new MutationObserver(function (mutations, observer) {{\n",
       "        var display = window.getComputedStyle(gd).display;\n",
       "        if (!display || display === 'none') {{\n",
       "            console.log([gd, 'removed!']);\n",
       "            Plotly.purge(gd);\n",
       "            observer.disconnect();\n",
       "        }}\n",
       "}});\n",
       "\n",
       "// Listen for the removal of the full notebook cells\n",
       "var notebookContainer = gd.closest('#notebook-container');\n",
       "if (notebookContainer) {{\n",
       "    x.observe(notebookContainer, {childList: true});\n",
       "}}\n",
       "\n",
       "// Listen for the clearing of the current output cell\n",
       "var outputEl = gd.closest('.output');\n",
       "if (outputEl) {{\n",
       "    x.observe(outputEl, {childList: true});\n",
       "}}\n",
       "\n",
       "                        })                };                });            </script>        </div>"
      ]
     },
     "metadata": {},
     "output_type": "display_data"
    }
   ],
   "source": [
    "\n",
    "trace0 = go.Scatter(x=gmstp.Date, y=gmstp.Close, name='gmstp')\n",
    "fig0 = go.Figure([trace0])\n",
    "fig0.update_layout(\n",
    "    title={\n",
    "        'text': \"GameStop Stock Price\",\n",
    "        'x':0.5,\n",
    "        'xanchor': 'center'})\n",
    "fig0.show()"
   ]
  },
  {
   "cell_type": "code",
   "execution_count": 12,
   "metadata": {},
   "outputs": [
    {
     "data": {
      "application/vnd.plotly.v1+json": {
       "config": {
        "plotlyServerURL": "https://plot.ly"
       },
       "data": [
        {
         "name": "NFLX",
         "type": "scatter",
         "x": [
          "2020-03-16T00:00:00",
          "2020-03-17T00:00:00",
          "2020-03-18T00:00:00",
          "2020-03-19T00:00:00",
          "2020-03-20T00:00:00",
          "2020-03-23T00:00:00",
          "2020-03-24T00:00:00",
          "2020-03-25T00:00:00",
          "2020-03-26T00:00:00",
          "2020-03-27T00:00:00",
          "2020-03-30T00:00:00",
          "2020-03-31T00:00:00",
          "2020-04-01T00:00:00",
          "2020-04-02T00:00:00",
          "2020-04-03T00:00:00",
          "2020-04-06T00:00:00",
          "2020-04-07T00:00:00",
          "2020-04-08T00:00:00",
          "2020-04-09T00:00:00",
          "2020-04-13T00:00:00",
          "2020-04-14T00:00:00",
          "2020-04-15T00:00:00",
          "2020-04-16T00:00:00",
          "2020-04-17T00:00:00",
          "2020-04-20T00:00:00",
          "2020-04-21T00:00:00",
          "2020-04-22T00:00:00",
          "2020-04-23T00:00:00",
          "2020-04-24T00:00:00",
          "2020-04-27T00:00:00",
          "2020-04-28T00:00:00",
          "2020-04-29T00:00:00",
          "2020-04-30T00:00:00",
          "2020-05-01T00:00:00",
          "2020-05-04T00:00:00",
          "2020-05-05T00:00:00",
          "2020-05-06T00:00:00",
          "2020-05-07T00:00:00",
          "2020-05-08T00:00:00",
          "2020-05-11T00:00:00",
          "2020-05-12T00:00:00",
          "2020-05-13T00:00:00",
          "2020-05-14T00:00:00",
          "2020-05-15T00:00:00",
          "2020-05-18T00:00:00",
          "2020-05-19T00:00:00",
          "2020-05-20T00:00:00",
          "2020-05-21T00:00:00",
          "2020-05-22T00:00:00",
          "2020-05-26T00:00:00",
          "2020-05-27T00:00:00",
          "2020-05-28T00:00:00",
          "2020-05-29T00:00:00",
          "2020-06-01T00:00:00",
          "2020-06-02T00:00:00",
          "2020-06-03T00:00:00",
          "2020-06-04T00:00:00",
          "2020-06-05T00:00:00",
          "2020-06-08T00:00:00",
          "2020-06-09T00:00:00",
          "2020-06-10T00:00:00",
          "2020-06-11T00:00:00",
          "2020-06-12T00:00:00",
          "2020-06-15T00:00:00",
          "2020-06-16T00:00:00",
          "2020-06-17T00:00:00",
          "2020-06-18T00:00:00",
          "2020-06-19T00:00:00",
          "2020-06-22T00:00:00",
          "2020-06-23T00:00:00",
          "2020-06-24T00:00:00",
          "2020-06-25T00:00:00",
          "2020-06-26T00:00:00",
          "2020-06-29T00:00:00",
          "2020-06-30T00:00:00",
          "2020-07-01T00:00:00",
          "2020-07-02T00:00:00",
          "2020-07-06T00:00:00",
          "2020-07-07T00:00:00",
          "2020-07-08T00:00:00",
          "2020-07-09T00:00:00",
          "2020-07-10T00:00:00",
          "2020-07-13T00:00:00",
          "2020-07-14T00:00:00",
          "2020-07-15T00:00:00",
          "2020-07-16T00:00:00",
          "2020-07-17T00:00:00",
          "2020-07-20T00:00:00",
          "2020-07-21T00:00:00",
          "2020-07-22T00:00:00",
          "2020-07-23T00:00:00",
          "2020-07-24T00:00:00",
          "2020-07-27T00:00:00",
          "2020-07-28T00:00:00",
          "2020-07-29T00:00:00",
          "2020-07-30T00:00:00",
          "2020-07-31T00:00:00",
          "2020-08-03T00:00:00",
          "2020-08-04T00:00:00",
          "2020-08-05T00:00:00",
          "2020-08-06T00:00:00",
          "2020-08-07T00:00:00",
          "2020-08-10T00:00:00",
          "2020-08-11T00:00:00",
          "2020-08-12T00:00:00",
          "2020-08-13T00:00:00",
          "2020-08-14T00:00:00",
          "2020-08-17T00:00:00",
          "2020-08-18T00:00:00",
          "2020-08-19T00:00:00",
          "2020-08-20T00:00:00",
          "2020-08-21T00:00:00",
          "2020-08-24T00:00:00",
          "2020-08-25T00:00:00",
          "2020-08-26T00:00:00",
          "2020-08-27T00:00:00",
          "2020-08-28T00:00:00",
          "2020-08-31T00:00:00",
          "2020-09-01T00:00:00",
          "2020-09-02T00:00:00",
          "2020-09-03T00:00:00",
          "2020-09-04T00:00:00",
          "2020-09-08T00:00:00",
          "2020-09-09T00:00:00",
          "2020-09-10T00:00:00",
          "2020-09-11T00:00:00",
          "2020-09-14T00:00:00",
          "2020-09-15T00:00:00",
          "2020-09-16T00:00:00",
          "2020-09-17T00:00:00",
          "2020-09-18T00:00:00",
          "2020-09-21T00:00:00",
          "2020-09-22T00:00:00",
          "2020-09-23T00:00:00",
          "2020-09-24T00:00:00",
          "2020-09-25T00:00:00",
          "2020-09-28T00:00:00",
          "2020-09-29T00:00:00",
          "2020-09-30T00:00:00",
          "2020-10-01T00:00:00",
          "2020-10-02T00:00:00",
          "2020-10-05T00:00:00",
          "2020-10-06T00:00:00",
          "2020-10-07T00:00:00",
          "2020-10-08T00:00:00",
          "2020-10-09T00:00:00",
          "2020-10-12T00:00:00",
          "2020-10-13T00:00:00",
          "2020-10-14T00:00:00",
          "2020-10-15T00:00:00",
          "2020-10-16T00:00:00",
          "2020-10-19T00:00:00",
          "2020-10-20T00:00:00",
          "2020-10-21T00:00:00",
          "2020-10-22T00:00:00",
          "2020-10-23T00:00:00",
          "2020-10-26T00:00:00",
          "2020-10-27T00:00:00",
          "2020-10-28T00:00:00",
          "2020-10-29T00:00:00",
          "2020-10-30T00:00:00",
          "2020-11-02T00:00:00",
          "2020-11-03T00:00:00",
          "2020-11-04T00:00:00",
          "2020-11-05T00:00:00",
          "2020-11-06T00:00:00",
          "2020-11-09T00:00:00",
          "2020-11-10T00:00:00",
          "2020-11-11T00:00:00",
          "2020-11-12T00:00:00",
          "2020-11-13T00:00:00",
          "2020-11-16T00:00:00",
          "2020-11-17T00:00:00",
          "2020-11-18T00:00:00",
          "2020-11-19T00:00:00",
          "2020-11-20T00:00:00",
          "2020-11-23T00:00:00",
          "2020-11-24T00:00:00",
          "2020-11-25T00:00:00",
          "2020-11-27T00:00:00",
          "2020-11-30T00:00:00",
          "2020-12-01T00:00:00",
          "2020-12-02T00:00:00",
          "2020-12-03T00:00:00",
          "2020-12-04T00:00:00",
          "2020-12-07T00:00:00",
          "2020-12-08T00:00:00",
          "2020-12-09T00:00:00",
          "2020-12-10T00:00:00",
          "2020-12-11T00:00:00",
          "2020-12-14T00:00:00",
          "2020-12-15T00:00:00",
          "2020-12-16T00:00:00",
          "2020-12-17T00:00:00",
          "2020-12-18T00:00:00",
          "2020-12-21T00:00:00",
          "2020-12-22T00:00:00",
          "2020-12-23T00:00:00",
          "2020-12-24T00:00:00",
          "2020-12-28T00:00:00",
          "2020-12-29T00:00:00",
          "2020-12-30T00:00:00",
          "2020-12-31T00:00:00",
          "2021-01-04T00:00:00",
          "2021-01-05T00:00:00",
          "2021-01-06T00:00:00",
          "2021-01-07T00:00:00",
          "2021-01-08T00:00:00",
          "2021-01-11T00:00:00",
          "2021-01-12T00:00:00",
          "2021-01-13T00:00:00",
          "2021-01-14T00:00:00",
          "2021-01-15T00:00:00",
          "2021-01-19T00:00:00",
          "2021-01-20T00:00:00",
          "2021-01-21T00:00:00",
          "2021-01-22T00:00:00",
          "2021-01-25T00:00:00",
          "2021-01-26T00:00:00",
          "2021-01-27T00:00:00",
          "2021-01-28T00:00:00",
          "2021-01-29T00:00:00",
          "2021-02-01T00:00:00",
          "2021-02-02T00:00:00",
          "2021-02-03T00:00:00",
          "2021-02-04T00:00:00",
          "2021-02-05T00:00:00",
          "2021-02-08T00:00:00",
          "2021-02-09T00:00:00",
          "2021-02-10T00:00:00",
          "2021-02-11T00:00:00",
          "2021-02-12T00:00:00"
         ],
         "y": [
          4.369999885559082,
          4.230000019073486,
          3.7699999809265137,
          4.190000057220459,
          3.759999990463257,
          3.809999942779541,
          4.159999847412109,
          4.170000076293945,
          4.409999847412109,
          4.21999979019165,
          3.6500000953674316,
          3.5,
          3.25,
          2.8499999046325684,
          2.799999952316284,
          3.0899999141693115,
          3.2699999809265137,
          3.4100000858306885,
          3.890000104904175,
          4.739999771118164,
          5.949999809265137,
          5.269999980926514,
          5.03000020980835,
          4.880000114440918,
          5.610000133514404,
          4.78000020980835,
          4.889999866485596,
          4.699999809265137,
          4.769999980926514,
          5.820000171661377,
          5.639999866485596,
          6.039999961853027,
          5.730000019073486,
          6.050000190734863,
          5.480000019073486,
          5.389999866485596,
          4.929999828338623,
          4.869999885559082,
          4.980000019073486,
          4.760000228881836,
          4.539999961853027,
          4.210000038146973,
          4.130000114440918,
          4.21999979019165,
          4.579999923706055,
          4.440000057220459,
          4.429999828338623,
          4.440000057220459,
          4.179999828338623,
          4.420000076293945,
          4.690000057220459,
          4.329999923706055,
          4.059999942779541,
          4.130000114440918,
          4.179999828338623,
          4.440000057220459,
          4.46999979019165,
          4.139999866485596,
          5.010000228881836,
          4.960000038146973,
          5.070000171661377,
          4.369999885559082,
          4.71999979019165,
          4.690000057220459,
          4.639999866485596,
          4.760000228881836,
          4.949999809265137,
          4.880000114440918,
          4.869999885559082,
          4.829999923706055,
          4.409999847412109,
          4.460000038146973,
          4.349999904632568,
          4.380000114440918,
          4.340000152587891,
          4.440000057220459,
          4.289999961853027,
          4.239999771118164,
          4.090000152587891,
          4.260000228881836,
          4.210000038146973,
          4.340000152587891,
          4.260000228881836,
          4.079999923706055,
          4.190000057220459,
          4.170000076293945,
          3.9600000381469727,
          3.8499999046325684,
          4.010000228881836,
          4.110000133514404,
          4.110000133514404,
          4.03000020980835,
          4.010000228881836,
          3.940000057220459,
          4.059999942779541,
          4.099999904632568,
          4.010000228881836,
          4.150000095367432,
          4.429999828338623,
          4.630000114440918,
          4.429999828338623,
          4.159999847412109,
          4.329999923706055,
          4.349999904632568,
          4.519999980926514,
          4.639999866485596,
          4.75,
          4.630000114440918,
          4.809999942779541,
          4.71999979019165,
          4.610000133514404,
          5.03000020980835,
          4.869999885559082,
          4.980000019073486,
          5.110000133514404,
          5.25,
          5.389999866485596,
          6.679999828338623,
          7.650000095367432,
          7.710000038146973,
          7.820000171661377,
          7.650000095367432,
          7.699999809265137,
          7.349999904632568,
          6.230000019073486,
          6.090000152587891,
          6.909999847412109,
          7.090000152587891,
          8.680000305175781,
          9.199999809265137,
          9.470000267028809,
          8.75,
          10.5600004196167,
          10.039999961853027,
          9.140000343322754,
          10.020000457763672,
          10.09000015258789,
          10.350000381469727,
          10.199999809265137,
          9.770000457763672,
          9.390000343322754,
          9.460000038146973,
          9.130000114440918,
          9.359999656677246,
          13.489999771118164,
          12.020000457763672,
          11.800000190734863,
          11.880000114440918,
          12.25,
          13.829999923706055,
          13.3100004196167,
          13.90999984741211,
          13.859999656677246,
          14.100000381469727,
          14.90999984741211,
          15,
          13.449999809265137,
          12.6899995803833,
          11.819999694824219,
          11.729999542236328,
          10.470000267028809,
          10.75,
          11.569999694824219,
          10.90999984741211,
          11.449999809265137,
          11.859999656677246,
          11.489999771118164,
          11.100000381469727,
          11.75,
          11.130000114440918,
          11.010000228881836,
          12.0600004196167,
          11.630000114440918,
          11.569999694824219,
          12.460000038146973,
          12.710000038146973,
          13.899999618530273,
          13.670000076293945,
          14.75,
          16.079999923706055,
          16.559999465942383,
          15.800000190734863,
          16.579999923706055,
          16.1200008392334,
          16.899999618530273,
          16.350000381469727,
          16.940000534057617,
          13.65999984741211,
          14.119999885559082,
          13.3100004196167,
          12.720000267028809,
          13.850000381469727,
          13.850000381469727,
          14.829999923706055,
          15.630000114440918,
          15.529999732971191,
          19.459999084472656,
          20.56999969482422,
          20.149999618530273,
          20.989999771118164,
          19.3799991607666,
          19.260000228881836,
          18.84000015258789,
          17.25,
          17.3700008392334,
          18.360000610351562,
          18.079999923706055,
          17.690000534057617,
          19.940000534057617,
          19.950000762939453,
          31.399999618530273,
          39.90999984741211,
          35.5,
          39.36000061035156,
          39.119998931884766,
          43.029998779296875,
          65.01000213623047,
          76.79000091552734,
          147.97999572753906,
          347.510009765625,
          193.60000610351562,
          325,
          225,
          90,
          92.41000366210938,
          53.5,
          63.77000045776367,
          60,
          50.310001373291016,
          51.20000076293945,
          51.099998474121094,
          52.400001525878906
         ]
        },
        {
         "name": "10-day MA",
         "type": "scatter",
         "x": [
          "2020-03-16T00:00:00",
          "2020-03-17T00:00:00",
          "2020-03-18T00:00:00",
          "2020-03-19T00:00:00",
          "2020-03-20T00:00:00",
          "2020-03-23T00:00:00",
          "2020-03-24T00:00:00",
          "2020-03-25T00:00:00",
          "2020-03-26T00:00:00",
          "2020-03-27T00:00:00",
          "2020-03-30T00:00:00",
          "2020-03-31T00:00:00",
          "2020-04-01T00:00:00",
          "2020-04-02T00:00:00",
          "2020-04-03T00:00:00",
          "2020-04-06T00:00:00",
          "2020-04-07T00:00:00",
          "2020-04-08T00:00:00",
          "2020-04-09T00:00:00",
          "2020-04-13T00:00:00",
          "2020-04-14T00:00:00",
          "2020-04-15T00:00:00",
          "2020-04-16T00:00:00",
          "2020-04-17T00:00:00",
          "2020-04-20T00:00:00",
          "2020-04-21T00:00:00",
          "2020-04-22T00:00:00",
          "2020-04-23T00:00:00",
          "2020-04-24T00:00:00",
          "2020-04-27T00:00:00",
          "2020-04-28T00:00:00",
          "2020-04-29T00:00:00",
          "2020-04-30T00:00:00",
          "2020-05-01T00:00:00",
          "2020-05-04T00:00:00",
          "2020-05-05T00:00:00",
          "2020-05-06T00:00:00",
          "2020-05-07T00:00:00",
          "2020-05-08T00:00:00",
          "2020-05-11T00:00:00",
          "2020-05-12T00:00:00",
          "2020-05-13T00:00:00",
          "2020-05-14T00:00:00",
          "2020-05-15T00:00:00",
          "2020-05-18T00:00:00",
          "2020-05-19T00:00:00",
          "2020-05-20T00:00:00",
          "2020-05-21T00:00:00",
          "2020-05-22T00:00:00",
          "2020-05-26T00:00:00",
          "2020-05-27T00:00:00",
          "2020-05-28T00:00:00",
          "2020-05-29T00:00:00",
          "2020-06-01T00:00:00",
          "2020-06-02T00:00:00",
          "2020-06-03T00:00:00",
          "2020-06-04T00:00:00",
          "2020-06-05T00:00:00",
          "2020-06-08T00:00:00",
          "2020-06-09T00:00:00",
          "2020-06-10T00:00:00",
          "2020-06-11T00:00:00",
          "2020-06-12T00:00:00",
          "2020-06-15T00:00:00",
          "2020-06-16T00:00:00",
          "2020-06-17T00:00:00",
          "2020-06-18T00:00:00",
          "2020-06-19T00:00:00",
          "2020-06-22T00:00:00",
          "2020-06-23T00:00:00",
          "2020-06-24T00:00:00",
          "2020-06-25T00:00:00",
          "2020-06-26T00:00:00",
          "2020-06-29T00:00:00",
          "2020-06-30T00:00:00",
          "2020-07-01T00:00:00",
          "2020-07-02T00:00:00",
          "2020-07-06T00:00:00",
          "2020-07-07T00:00:00",
          "2020-07-08T00:00:00",
          "2020-07-09T00:00:00",
          "2020-07-10T00:00:00",
          "2020-07-13T00:00:00",
          "2020-07-14T00:00:00",
          "2020-07-15T00:00:00",
          "2020-07-16T00:00:00",
          "2020-07-17T00:00:00",
          "2020-07-20T00:00:00",
          "2020-07-21T00:00:00",
          "2020-07-22T00:00:00",
          "2020-07-23T00:00:00",
          "2020-07-24T00:00:00",
          "2020-07-27T00:00:00",
          "2020-07-28T00:00:00",
          "2020-07-29T00:00:00",
          "2020-07-30T00:00:00",
          "2020-07-31T00:00:00",
          "2020-08-03T00:00:00",
          "2020-08-04T00:00:00",
          "2020-08-05T00:00:00",
          "2020-08-06T00:00:00",
          "2020-08-07T00:00:00",
          "2020-08-10T00:00:00",
          "2020-08-11T00:00:00",
          "2020-08-12T00:00:00",
          "2020-08-13T00:00:00",
          "2020-08-14T00:00:00",
          "2020-08-17T00:00:00",
          "2020-08-18T00:00:00",
          "2020-08-19T00:00:00",
          "2020-08-20T00:00:00",
          "2020-08-21T00:00:00",
          "2020-08-24T00:00:00",
          "2020-08-25T00:00:00",
          "2020-08-26T00:00:00",
          "2020-08-27T00:00:00",
          "2020-08-28T00:00:00",
          "2020-08-31T00:00:00",
          "2020-09-01T00:00:00",
          "2020-09-02T00:00:00",
          "2020-09-03T00:00:00",
          "2020-09-04T00:00:00",
          "2020-09-08T00:00:00",
          "2020-09-09T00:00:00",
          "2020-09-10T00:00:00",
          "2020-09-11T00:00:00",
          "2020-09-14T00:00:00",
          "2020-09-15T00:00:00",
          "2020-09-16T00:00:00",
          "2020-09-17T00:00:00",
          "2020-09-18T00:00:00",
          "2020-09-21T00:00:00",
          "2020-09-22T00:00:00",
          "2020-09-23T00:00:00",
          "2020-09-24T00:00:00",
          "2020-09-25T00:00:00",
          "2020-09-28T00:00:00",
          "2020-09-29T00:00:00",
          "2020-09-30T00:00:00",
          "2020-10-01T00:00:00",
          "2020-10-02T00:00:00",
          "2020-10-05T00:00:00",
          "2020-10-06T00:00:00",
          "2020-10-07T00:00:00",
          "2020-10-08T00:00:00",
          "2020-10-09T00:00:00",
          "2020-10-12T00:00:00",
          "2020-10-13T00:00:00",
          "2020-10-14T00:00:00",
          "2020-10-15T00:00:00",
          "2020-10-16T00:00:00",
          "2020-10-19T00:00:00",
          "2020-10-20T00:00:00",
          "2020-10-21T00:00:00",
          "2020-10-22T00:00:00",
          "2020-10-23T00:00:00",
          "2020-10-26T00:00:00",
          "2020-10-27T00:00:00",
          "2020-10-28T00:00:00",
          "2020-10-29T00:00:00",
          "2020-10-30T00:00:00",
          "2020-11-02T00:00:00",
          "2020-11-03T00:00:00",
          "2020-11-04T00:00:00",
          "2020-11-05T00:00:00",
          "2020-11-06T00:00:00",
          "2020-11-09T00:00:00",
          "2020-11-10T00:00:00",
          "2020-11-11T00:00:00",
          "2020-11-12T00:00:00",
          "2020-11-13T00:00:00",
          "2020-11-16T00:00:00",
          "2020-11-17T00:00:00",
          "2020-11-18T00:00:00",
          "2020-11-19T00:00:00",
          "2020-11-20T00:00:00",
          "2020-11-23T00:00:00",
          "2020-11-24T00:00:00",
          "2020-11-25T00:00:00",
          "2020-11-27T00:00:00",
          "2020-11-30T00:00:00",
          "2020-12-01T00:00:00",
          "2020-12-02T00:00:00",
          "2020-12-03T00:00:00",
          "2020-12-04T00:00:00",
          "2020-12-07T00:00:00",
          "2020-12-08T00:00:00",
          "2020-12-09T00:00:00",
          "2020-12-10T00:00:00",
          "2020-12-11T00:00:00",
          "2020-12-14T00:00:00",
          "2020-12-15T00:00:00",
          "2020-12-16T00:00:00",
          "2020-12-17T00:00:00",
          "2020-12-18T00:00:00",
          "2020-12-21T00:00:00",
          "2020-12-22T00:00:00",
          "2020-12-23T00:00:00",
          "2020-12-24T00:00:00",
          "2020-12-28T00:00:00",
          "2020-12-29T00:00:00",
          "2020-12-30T00:00:00",
          "2020-12-31T00:00:00",
          "2021-01-04T00:00:00",
          "2021-01-05T00:00:00",
          "2021-01-06T00:00:00",
          "2021-01-07T00:00:00",
          "2021-01-08T00:00:00",
          "2021-01-11T00:00:00",
          "2021-01-12T00:00:00",
          "2021-01-13T00:00:00",
          "2021-01-14T00:00:00",
          "2021-01-15T00:00:00",
          "2021-01-19T00:00:00",
          "2021-01-20T00:00:00",
          "2021-01-21T00:00:00",
          "2021-01-22T00:00:00",
          "2021-01-25T00:00:00",
          "2021-01-26T00:00:00",
          "2021-01-27T00:00:00",
          "2021-01-28T00:00:00",
          "2021-01-29T00:00:00",
          "2021-02-01T00:00:00",
          "2021-02-02T00:00:00",
          "2021-02-03T00:00:00",
          "2021-02-04T00:00:00",
          "2021-02-05T00:00:00",
          "2021-02-08T00:00:00",
          "2021-02-09T00:00:00",
          "2021-02-10T00:00:00",
          "2021-02-11T00:00:00",
          "2021-02-12T00:00:00"
         ],
         "y": [
          null,
          null,
          null,
          null,
          null,
          null,
          null,
          null,
          null,
          4.108999943733215,
          4.036999964714051,
          3.9639999628067017,
          3.91199996471405,
          3.7779999494552614,
          3.681999945640564,
          3.609999942779541,
          3.5209999561309813,
          3.4449999570846557,
          3.3929999828338624,
          3.4449999809265135,
          3.674999952316284,
          3.8519999504089357,
          4.0299999713897705,
          4.232999992370606,
          4.514000010490418,
          4.6830000400543215,
          4.8450000286102295,
          4.974000000953675,
          5.061999988555908,
          5.17000002861023,
          5.139000034332275,
          5.216000032424927,
          5.28600001335144,
          5.403000020980835,
          5.3900000095367435,
          5.450999975204468,
          5.45499997138977,
          5.471999979019165,
          5.4929999828338625,
          5.386999988555909,
          5.276999998092651,
          5.094000005722046,
          4.934000015258789,
          4.750999975204468,
          4.660999965667725,
          4.565999984741211,
          4.515999984741211,
          4.473000001907349,
          4.392999982833862,
          4.358999967575073,
          4.373999977111817,
          4.385999965667724,
          4.378999948501587,
          4.369999980926513,
          4.32999997138977,
          4.32999997138977,
          4.333999967575073,
          4.303999948501587,
          4.386999988555909,
          4.440999984741211,
          4.478999996185303,
          4.482999992370606,
          4.548999977111817,
          4.604999971389771,
          4.650999975204468,
          4.682999992370606,
          4.730999994277954,
          4.8050000190734865,
          4.790999984741211,
          4.777999973297119,
          4.711999940872192,
          4.7209999561309814,
          4.683999967575073,
          4.652999973297119,
          4.623000001907348,
          4.590999984741211,
          4.525,
          4.460999965667725,
          4.382999992370605,
          4.326000022888183,
          4.30600004196167,
          4.294000053405762,
          4.2850000858306885,
          4.255000066757202,
          4.240000057220459,
          4.213000059127808,
          4.180000066757202,
          4.141000080108642,
          4.133000087738037,
          4.118000078201294,
          4.108000087738037,
          4.077000093460083,
          4.052000093460083,
          4.038000106811523,
          4.025000095367432,
          4.018000078201294,
          4.02300009727478,
          4.053000116348267,
          4.095000076293945,
          4.147000074386597,
          4.179000043869019,
          4.192000007629394,
          4.223999977111816,
          4.264999961853027,
          4.310999965667724,
          4.3649999618530275,
          4.438999938964844,
          4.486999940872193,
          4.524999952316284,
          4.533999919891357,
          4.551999950408936,
          4.638999986648559,
          4.692999982833863,
          4.755999994277954,
          4.815000009536743,
          4.876000022888183,
          4.940000009536743,
          5.144999980926514,
          5.428999996185302,
          5.728000020980835,
          6.049000024795532,
          6.311000013351441,
          6.594000005722046,
          6.8309999942779545,
          6.942999982833863,
          7.026999998092651,
          7.178999996185302,
          7.2200000286102295,
          7.323000049591064,
          7.472000026702881,
          7.637000036239624,
          7.747000026702881,
          8.033000087738037,
          8.302000093460084,
          8.593000125885009,
          8.986000156402588,
          9.304000186920167,
          9.63000020980835,
          9.782000160217285,
          9.839000225067139,
          9.831000232696534,
          9.902000236511231,
          9.759000205993653,
          9.691000175476074,
          10.126000118255615,
          10.326000118255616,
          10.497000122070313,
          10.650000095367432,
          10.855000114440918,
          11.261000061035157,
          11.65300006866455,
          12.098000049591064,
          12.571000003814698,
          13.045000076293945,
          13.18700008392334,
          13.485000038146973,
          13.65,
          13.730999946594238,
          13.68799991607666,
          13.477999877929687,
          13.193999862670898,
          12.877999877929687,
          12.648999881744384,
          12.329999828338623,
          11.983999824523925,
          11.66999979019165,
          11.473999786376954,
          11.314999866485596,
          11.307999897003175,
          11.247999954223634,
          11.301999950408936,
          11.432999992370606,
          11.439000034332276,
          11.505000019073487,
          11.60600004196167,
          11.691000080108642,
          11.932000064849854,
          12.189000034332276,
          12.489000034332275,
          12.98400001525879,
          13.538999938964844,
          13.91299991607666,
          14.407999897003174,
          14.863000011444091,
          15.306999969482423,
          15.671000003814697,
          15.975000095367431,
          15.974000072479248,
          15.911000061035157,
          15.634000110626221,
          15.250000190734863,
          15.05500020980835,
          14.782000255584716,
          14.653000164031983,
          14.526000213623046,
          14.444000148773194,
          14.696000003814698,
          15.386999988555909,
          15.989999961853027,
          16.757999897003174,
          17.423999786376953,
          17.964999771118165,
          18.46399974822998,
          18.705999755859374,
          18.879999828338622,
          19.16299991607666,
          19.025,
          18.73700008392334,
          18.716000175476076,
          18.612000274658204,
          19.81400032043457,
          21.8790002822876,
          23.545000267028808,
          25.756000328063966,
          27.9310001373291,
          30.397999954223632,
          35.091000175476076,
          41.001000213623044,
          53.80499973297119,
          86.56100063323974,
          102.78100128173828,
          131.29000129699708,
          150.24000129699706,
          155.30400123596192,
          160.63300170898438,
          161.68000183105468,
          161.556001663208,
          159.87700157165528,
          150.11000213623046,
          120.47900123596192,
          106.22900047302247,
          78.96900062561035
         ]
        },
        {
         "name": "20-day MA",
         "type": "scatter",
         "x": [
          "2020-03-16T00:00:00",
          "2020-03-17T00:00:00",
          "2020-03-18T00:00:00",
          "2020-03-19T00:00:00",
          "2020-03-20T00:00:00",
          "2020-03-23T00:00:00",
          "2020-03-24T00:00:00",
          "2020-03-25T00:00:00",
          "2020-03-26T00:00:00",
          "2020-03-27T00:00:00",
          "2020-03-30T00:00:00",
          "2020-03-31T00:00:00",
          "2020-04-01T00:00:00",
          "2020-04-02T00:00:00",
          "2020-04-03T00:00:00",
          "2020-04-06T00:00:00",
          "2020-04-07T00:00:00",
          "2020-04-08T00:00:00",
          "2020-04-09T00:00:00",
          "2020-04-13T00:00:00",
          "2020-04-14T00:00:00",
          "2020-04-15T00:00:00",
          "2020-04-16T00:00:00",
          "2020-04-17T00:00:00",
          "2020-04-20T00:00:00",
          "2020-04-21T00:00:00",
          "2020-04-22T00:00:00",
          "2020-04-23T00:00:00",
          "2020-04-24T00:00:00",
          "2020-04-27T00:00:00",
          "2020-04-28T00:00:00",
          "2020-04-29T00:00:00",
          "2020-04-30T00:00:00",
          "2020-05-01T00:00:00",
          "2020-05-04T00:00:00",
          "2020-05-05T00:00:00",
          "2020-05-06T00:00:00",
          "2020-05-07T00:00:00",
          "2020-05-08T00:00:00",
          "2020-05-11T00:00:00",
          "2020-05-12T00:00:00",
          "2020-05-13T00:00:00",
          "2020-05-14T00:00:00",
          "2020-05-15T00:00:00",
          "2020-05-18T00:00:00",
          "2020-05-19T00:00:00",
          "2020-05-20T00:00:00",
          "2020-05-21T00:00:00",
          "2020-05-22T00:00:00",
          "2020-05-26T00:00:00",
          "2020-05-27T00:00:00",
          "2020-05-28T00:00:00",
          "2020-05-29T00:00:00",
          "2020-06-01T00:00:00",
          "2020-06-02T00:00:00",
          "2020-06-03T00:00:00",
          "2020-06-04T00:00:00",
          "2020-06-05T00:00:00",
          "2020-06-08T00:00:00",
          "2020-06-09T00:00:00",
          "2020-06-10T00:00:00",
          "2020-06-11T00:00:00",
          "2020-06-12T00:00:00",
          "2020-06-15T00:00:00",
          "2020-06-16T00:00:00",
          "2020-06-17T00:00:00",
          "2020-06-18T00:00:00",
          "2020-06-19T00:00:00",
          "2020-06-22T00:00:00",
          "2020-06-23T00:00:00",
          "2020-06-24T00:00:00",
          "2020-06-25T00:00:00",
          "2020-06-26T00:00:00",
          "2020-06-29T00:00:00",
          "2020-06-30T00:00:00",
          "2020-07-01T00:00:00",
          "2020-07-02T00:00:00",
          "2020-07-06T00:00:00",
          "2020-07-07T00:00:00",
          "2020-07-08T00:00:00",
          "2020-07-09T00:00:00",
          "2020-07-10T00:00:00",
          "2020-07-13T00:00:00",
          "2020-07-14T00:00:00",
          "2020-07-15T00:00:00",
          "2020-07-16T00:00:00",
          "2020-07-17T00:00:00",
          "2020-07-20T00:00:00",
          "2020-07-21T00:00:00",
          "2020-07-22T00:00:00",
          "2020-07-23T00:00:00",
          "2020-07-24T00:00:00",
          "2020-07-27T00:00:00",
          "2020-07-28T00:00:00",
          "2020-07-29T00:00:00",
          "2020-07-30T00:00:00",
          "2020-07-31T00:00:00",
          "2020-08-03T00:00:00",
          "2020-08-04T00:00:00",
          "2020-08-05T00:00:00",
          "2020-08-06T00:00:00",
          "2020-08-07T00:00:00",
          "2020-08-10T00:00:00",
          "2020-08-11T00:00:00",
          "2020-08-12T00:00:00",
          "2020-08-13T00:00:00",
          "2020-08-14T00:00:00",
          "2020-08-17T00:00:00",
          "2020-08-18T00:00:00",
          "2020-08-19T00:00:00",
          "2020-08-20T00:00:00",
          "2020-08-21T00:00:00",
          "2020-08-24T00:00:00",
          "2020-08-25T00:00:00",
          "2020-08-26T00:00:00",
          "2020-08-27T00:00:00",
          "2020-08-28T00:00:00",
          "2020-08-31T00:00:00",
          "2020-09-01T00:00:00",
          "2020-09-02T00:00:00",
          "2020-09-03T00:00:00",
          "2020-09-04T00:00:00",
          "2020-09-08T00:00:00",
          "2020-09-09T00:00:00",
          "2020-09-10T00:00:00",
          "2020-09-11T00:00:00",
          "2020-09-14T00:00:00",
          "2020-09-15T00:00:00",
          "2020-09-16T00:00:00",
          "2020-09-17T00:00:00",
          "2020-09-18T00:00:00",
          "2020-09-21T00:00:00",
          "2020-09-22T00:00:00",
          "2020-09-23T00:00:00",
          "2020-09-24T00:00:00",
          "2020-09-25T00:00:00",
          "2020-09-28T00:00:00",
          "2020-09-29T00:00:00",
          "2020-09-30T00:00:00",
          "2020-10-01T00:00:00",
          "2020-10-02T00:00:00",
          "2020-10-05T00:00:00",
          "2020-10-06T00:00:00",
          "2020-10-07T00:00:00",
          "2020-10-08T00:00:00",
          "2020-10-09T00:00:00",
          "2020-10-12T00:00:00",
          "2020-10-13T00:00:00",
          "2020-10-14T00:00:00",
          "2020-10-15T00:00:00",
          "2020-10-16T00:00:00",
          "2020-10-19T00:00:00",
          "2020-10-20T00:00:00",
          "2020-10-21T00:00:00",
          "2020-10-22T00:00:00",
          "2020-10-23T00:00:00",
          "2020-10-26T00:00:00",
          "2020-10-27T00:00:00",
          "2020-10-28T00:00:00",
          "2020-10-29T00:00:00",
          "2020-10-30T00:00:00",
          "2020-11-02T00:00:00",
          "2020-11-03T00:00:00",
          "2020-11-04T00:00:00",
          "2020-11-05T00:00:00",
          "2020-11-06T00:00:00",
          "2020-11-09T00:00:00",
          "2020-11-10T00:00:00",
          "2020-11-11T00:00:00",
          "2020-11-12T00:00:00",
          "2020-11-13T00:00:00",
          "2020-11-16T00:00:00",
          "2020-11-17T00:00:00",
          "2020-11-18T00:00:00",
          "2020-11-19T00:00:00",
          "2020-11-20T00:00:00",
          "2020-11-23T00:00:00",
          "2020-11-24T00:00:00",
          "2020-11-25T00:00:00",
          "2020-11-27T00:00:00",
          "2020-11-30T00:00:00",
          "2020-12-01T00:00:00",
          "2020-12-02T00:00:00",
          "2020-12-03T00:00:00",
          "2020-12-04T00:00:00",
          "2020-12-07T00:00:00",
          "2020-12-08T00:00:00",
          "2020-12-09T00:00:00",
          "2020-12-10T00:00:00",
          "2020-12-11T00:00:00",
          "2020-12-14T00:00:00",
          "2020-12-15T00:00:00",
          "2020-12-16T00:00:00",
          "2020-12-17T00:00:00",
          "2020-12-18T00:00:00",
          "2020-12-21T00:00:00",
          "2020-12-22T00:00:00",
          "2020-12-23T00:00:00",
          "2020-12-24T00:00:00",
          "2020-12-28T00:00:00",
          "2020-12-29T00:00:00",
          "2020-12-30T00:00:00",
          "2020-12-31T00:00:00",
          "2021-01-04T00:00:00",
          "2021-01-05T00:00:00",
          "2021-01-06T00:00:00",
          "2021-01-07T00:00:00",
          "2021-01-08T00:00:00",
          "2021-01-11T00:00:00",
          "2021-01-12T00:00:00",
          "2021-01-13T00:00:00",
          "2021-01-14T00:00:00",
          "2021-01-15T00:00:00",
          "2021-01-19T00:00:00",
          "2021-01-20T00:00:00",
          "2021-01-21T00:00:00",
          "2021-01-22T00:00:00",
          "2021-01-25T00:00:00",
          "2021-01-26T00:00:00",
          "2021-01-27T00:00:00",
          "2021-01-28T00:00:00",
          "2021-01-29T00:00:00",
          "2021-02-01T00:00:00",
          "2021-02-02T00:00:00",
          "2021-02-03T00:00:00",
          "2021-02-04T00:00:00",
          "2021-02-05T00:00:00",
          "2021-02-08T00:00:00",
          "2021-02-09T00:00:00",
          "2021-02-10T00:00:00",
          "2021-02-11T00:00:00",
          "2021-02-12T00:00:00"
         ],
         "y": [
          null,
          null,
          null,
          null,
          null,
          null,
          null,
          null,
          null,
          null,
          null,
          null,
          null,
          null,
          null,
          null,
          null,
          null,
          null,
          3.7769999623298647,
          3.8559999585151674,
          3.9079999566078185,
          3.9709999680519106,
          4.0054999709129335,
          4.0979999780654905,
          4.146499991416931,
          4.182999992370606,
          4.209499979019165,
          4.227499985694886,
          4.307500004768372,
          4.40699999332428,
          4.533999991416931,
          4.6579999923706055,
          4.81800000667572,
          4.95200001001358,
          5.067000007629394,
          5.15,
          5.22299998998642,
          5.277499985694885,
          5.278500008583069,
          5.208000016212464,
          5.155000019073486,
          5.110000014305115,
          5.076999998092651,
          5.025499987602234,
          5.008499979972839,
          4.985499978065491,
          4.972499990463257,
          4.942999982833863,
          4.872999978065491,
          4.8254999876022335,
          4.739999985694885,
          4.656499981880188,
          4.560499978065491,
          4.495499968528748,
          4.447999978065491,
          4.4249999761581424,
          4.388499975204468,
          4.389999985694885,
          4.399999976158142,
          4.42649998664856,
          4.434499979019165,
          4.463999962806701,
          4.4874999761581424,
          4.490499973297119,
          4.506499981880188,
          4.532499980926514,
          4.554499983787537,
          4.58899998664856,
          4.609499979019165,
          4.595499968528747,
          4.601999974250793,
          4.616499972343445,
          4.628999972343445,
          4.636999988555909,
          4.636999988555909,
          4.627999997138977,
          4.632999992370605,
          4.586999988555908,
          4.5519999980926515,
          4.508999991416931,
          4.507500004768372,
          4.4845000267028805,
          4.454000020027161,
          4.431500029563904,
          4.4020000219345095,
          4.352500033378601,
          4.301000022888184,
          4.258000040054322,
          4.222000050544739,
          4.207000064849853,
          4.185500073432922,
          4.168500089645386,
          4.146500086784362,
          4.132500076293946,
          4.11550006866455,
          4.101500082015991,
          4.097000098228454,
          4.114000082015991,
          4.132500076293946,
          4.1435000658035275,
          4.134500050544739,
          4.13800003528595,
          4.151500034332275,
          4.168000030517578,
          4.191500020027161,
          4.231000018119812,
          4.270000028610229,
          4.310000014305115,
          4.340499997138977,
          4.365499997138977,
          4.415499997138977,
          4.4584999799728395,
          4.510499978065491,
          4.562999987602234,
          4.620499992370606,
          4.6894999742507935,
          4.815999960899353,
          4.976999974250793,
          5.130999970436096,
          5.300499987602234,
          5.475,
          5.6434999942779545,
          5.793499994277954,
          5.878999996185303,
          5.951500010490418,
          6.059500002861023,
          6.182500004768372,
          6.376000022888183,
          6.600000023841858,
          6.843000030517578,
          7.02900002002716,
          7.3135000467300415,
          7.566500043869018,
          7.768000054359436,
          8.006500077247619,
          8.241500091552734,
          8.42500011920929,
          8.552500104904174,
          8.655500125885009,
          8.73400013446808,
          8.824500131607056,
          8.896000146865845,
          8.996500134468079,
          9.359500122070312,
          9.656000137329102,
          9.900500154495239,
          10.140000152587891,
          10.318500137329101,
          10.550000143051147,
          10.742000150680543,
          11.000000143051148,
          11.165000104904175,
          11.36800012588501,
          11.656500101089478,
          11.905500078201294,
          12.073500061035157,
          12.190500020980835,
          12.27150001525879,
          12.369499969482423,
          12.423499965667725,
          12.487999963760377,
          12.609999942779542,
          12.687499952316283,
          12.585499954223632,
          12.577499914169312,
          12.561999893188476,
          12.522999906539917,
          12.497999906539917,
          12.36299991607666,
          12.247999906539917,
          12.155499935150146,
          12.04399995803833,
          11.917499923706055,
          11.794999933242797,
          11.680499935150147,
          11.702999925613403,
          11.751999950408935,
          11.898499965667725,
          12.115999984741212,
          12.42049994468689,
          12.672999954223632,
          12.923499965667725,
          13.184000015258789,
          13.456500005722045,
          13.68100004196167,
          13.953500080108643,
          14.081500053405762,
          14.200000047683716,
          14.309000062942506,
          14.394500064849854,
          14.484000062942505,
          14.595000076293946,
          14.758000087738036,
          14.916500091552734,
          15.057500076293945,
          15.335500049591065,
          15.680500030517578,
          15.950500011444092,
          16.196000003814696,
          16.33699998855591,
          16.509999990463257,
          16.62300000190735,
          16.67949995994568,
          16.703000020980834,
          16.803500032424928,
          16.860500001907347,
          17.062000036239624,
          17.35300006866455,
          17.685000085830687,
          18.619000053405763,
          19.922000026702882,
          21.004500007629396,
          22.23100004196167,
          23.405499982833863,
          24.780499935150146,
          27.058000087738037,
          29.869000148773193,
          36.26049995422363,
          52.58650045394897,
          61.29750080108643,
          76.58450078964233,
          86.89250078201295,
          90.53000078201293,
          94.28200092315674,
          96.03900089263917,
          98.32350091934204,
          100.43900089263916,
          101.95750093460083,
          103.52000093460083,
          104.50500087738037,
          105.1295009613037
         ]
        }
       ],
       "layout": {
        "template": {
         "data": {
          "bar": [
           {
            "error_x": {
             "color": "#f2f5fa"
            },
            "error_y": {
             "color": "#f2f5fa"
            },
            "marker": {
             "line": {
              "color": "rgb(17,17,17)",
              "width": 0.5
             }
            },
            "type": "bar"
           }
          ],
          "barpolar": [
           {
            "marker": {
             "line": {
              "color": "rgb(17,17,17)",
              "width": 0.5
             }
            },
            "type": "barpolar"
           }
          ],
          "carpet": [
           {
            "aaxis": {
             "endlinecolor": "#A2B1C6",
             "gridcolor": "#506784",
             "linecolor": "#506784",
             "minorgridcolor": "#506784",
             "startlinecolor": "#A2B1C6"
            },
            "baxis": {
             "endlinecolor": "#A2B1C6",
             "gridcolor": "#506784",
             "linecolor": "#506784",
             "minorgridcolor": "#506784",
             "startlinecolor": "#A2B1C6"
            },
            "type": "carpet"
           }
          ],
          "choropleth": [
           {
            "colorbar": {
             "outlinewidth": 0,
             "ticks": ""
            },
            "type": "choropleth"
           }
          ],
          "contour": [
           {
            "colorbar": {
             "outlinewidth": 0,
             "ticks": ""
            },
            "colorscale": [
             [
              0,
              "#0d0887"
             ],
             [
              0.1111111111111111,
              "#46039f"
             ],
             [
              0.2222222222222222,
              "#7201a8"
             ],
             [
              0.3333333333333333,
              "#9c179e"
             ],
             [
              0.4444444444444444,
              "#bd3786"
             ],
             [
              0.5555555555555556,
              "#d8576b"
             ],
             [
              0.6666666666666666,
              "#ed7953"
             ],
             [
              0.7777777777777778,
              "#fb9f3a"
             ],
             [
              0.8888888888888888,
              "#fdca26"
             ],
             [
              1,
              "#f0f921"
             ]
            ],
            "type": "contour"
           }
          ],
          "contourcarpet": [
           {
            "colorbar": {
             "outlinewidth": 0,
             "ticks": ""
            },
            "type": "contourcarpet"
           }
          ],
          "heatmap": [
           {
            "colorbar": {
             "outlinewidth": 0,
             "ticks": ""
            },
            "colorscale": [
             [
              0,
              "#0d0887"
             ],
             [
              0.1111111111111111,
              "#46039f"
             ],
             [
              0.2222222222222222,
              "#7201a8"
             ],
             [
              0.3333333333333333,
              "#9c179e"
             ],
             [
              0.4444444444444444,
              "#bd3786"
             ],
             [
              0.5555555555555556,
              "#d8576b"
             ],
             [
              0.6666666666666666,
              "#ed7953"
             ],
             [
              0.7777777777777778,
              "#fb9f3a"
             ],
             [
              0.8888888888888888,
              "#fdca26"
             ],
             [
              1,
              "#f0f921"
             ]
            ],
            "type": "heatmap"
           }
          ],
          "heatmapgl": [
           {
            "colorbar": {
             "outlinewidth": 0,
             "ticks": ""
            },
            "colorscale": [
             [
              0,
              "#0d0887"
             ],
             [
              0.1111111111111111,
              "#46039f"
             ],
             [
              0.2222222222222222,
              "#7201a8"
             ],
             [
              0.3333333333333333,
              "#9c179e"
             ],
             [
              0.4444444444444444,
              "#bd3786"
             ],
             [
              0.5555555555555556,
              "#d8576b"
             ],
             [
              0.6666666666666666,
              "#ed7953"
             ],
             [
              0.7777777777777778,
              "#fb9f3a"
             ],
             [
              0.8888888888888888,
              "#fdca26"
             ],
             [
              1,
              "#f0f921"
             ]
            ],
            "type": "heatmapgl"
           }
          ],
          "histogram": [
           {
            "marker": {
             "colorbar": {
              "outlinewidth": 0,
              "ticks": ""
             }
            },
            "type": "histogram"
           }
          ],
          "histogram2d": [
           {
            "colorbar": {
             "outlinewidth": 0,
             "ticks": ""
            },
            "colorscale": [
             [
              0,
              "#0d0887"
             ],
             [
              0.1111111111111111,
              "#46039f"
             ],
             [
              0.2222222222222222,
              "#7201a8"
             ],
             [
              0.3333333333333333,
              "#9c179e"
             ],
             [
              0.4444444444444444,
              "#bd3786"
             ],
             [
              0.5555555555555556,
              "#d8576b"
             ],
             [
              0.6666666666666666,
              "#ed7953"
             ],
             [
              0.7777777777777778,
              "#fb9f3a"
             ],
             [
              0.8888888888888888,
              "#fdca26"
             ],
             [
              1,
              "#f0f921"
             ]
            ],
            "type": "histogram2d"
           }
          ],
          "histogram2dcontour": [
           {
            "colorbar": {
             "outlinewidth": 0,
             "ticks": ""
            },
            "colorscale": [
             [
              0,
              "#0d0887"
             ],
             [
              0.1111111111111111,
              "#46039f"
             ],
             [
              0.2222222222222222,
              "#7201a8"
             ],
             [
              0.3333333333333333,
              "#9c179e"
             ],
             [
              0.4444444444444444,
              "#bd3786"
             ],
             [
              0.5555555555555556,
              "#d8576b"
             ],
             [
              0.6666666666666666,
              "#ed7953"
             ],
             [
              0.7777777777777778,
              "#fb9f3a"
             ],
             [
              0.8888888888888888,
              "#fdca26"
             ],
             [
              1,
              "#f0f921"
             ]
            ],
            "type": "histogram2dcontour"
           }
          ],
          "mesh3d": [
           {
            "colorbar": {
             "outlinewidth": 0,
             "ticks": ""
            },
            "type": "mesh3d"
           }
          ],
          "parcoords": [
           {
            "line": {
             "colorbar": {
              "outlinewidth": 0,
              "ticks": ""
             }
            },
            "type": "parcoords"
           }
          ],
          "pie": [
           {
            "automargin": true,
            "type": "pie"
           }
          ],
          "scatter": [
           {
            "marker": {
             "line": {
              "color": "#283442"
             }
            },
            "type": "scatter"
           }
          ],
          "scatter3d": [
           {
            "line": {
             "colorbar": {
              "outlinewidth": 0,
              "ticks": ""
             }
            },
            "marker": {
             "colorbar": {
              "outlinewidth": 0,
              "ticks": ""
             }
            },
            "type": "scatter3d"
           }
          ],
          "scattercarpet": [
           {
            "marker": {
             "colorbar": {
              "outlinewidth": 0,
              "ticks": ""
             }
            },
            "type": "scattercarpet"
           }
          ],
          "scattergeo": [
           {
            "marker": {
             "colorbar": {
              "outlinewidth": 0,
              "ticks": ""
             }
            },
            "type": "scattergeo"
           }
          ],
          "scattergl": [
           {
            "marker": {
             "line": {
              "color": "#283442"
             }
            },
            "type": "scattergl"
           }
          ],
          "scattermapbox": [
           {
            "marker": {
             "colorbar": {
              "outlinewidth": 0,
              "ticks": ""
             }
            },
            "type": "scattermapbox"
           }
          ],
          "scatterpolar": [
           {
            "marker": {
             "colorbar": {
              "outlinewidth": 0,
              "ticks": ""
             }
            },
            "type": "scatterpolar"
           }
          ],
          "scatterpolargl": [
           {
            "marker": {
             "colorbar": {
              "outlinewidth": 0,
              "ticks": ""
             }
            },
            "type": "scatterpolargl"
           }
          ],
          "scatterternary": [
           {
            "marker": {
             "colorbar": {
              "outlinewidth": 0,
              "ticks": ""
             }
            },
            "type": "scatterternary"
           }
          ],
          "surface": [
           {
            "colorbar": {
             "outlinewidth": 0,
             "ticks": ""
            },
            "colorscale": [
             [
              0,
              "#0d0887"
             ],
             [
              0.1111111111111111,
              "#46039f"
             ],
             [
              0.2222222222222222,
              "#7201a8"
             ],
             [
              0.3333333333333333,
              "#9c179e"
             ],
             [
              0.4444444444444444,
              "#bd3786"
             ],
             [
              0.5555555555555556,
              "#d8576b"
             ],
             [
              0.6666666666666666,
              "#ed7953"
             ],
             [
              0.7777777777777778,
              "#fb9f3a"
             ],
             [
              0.8888888888888888,
              "#fdca26"
             ],
             [
              1,
              "#f0f921"
             ]
            ],
            "type": "surface"
           }
          ],
          "table": [
           {
            "cells": {
             "fill": {
              "color": "#506784"
             },
             "line": {
              "color": "rgb(17,17,17)"
             }
            },
            "header": {
             "fill": {
              "color": "#2a3f5f"
             },
             "line": {
              "color": "rgb(17,17,17)"
             }
            },
            "type": "table"
           }
          ]
         },
         "layout": {
          "annotationdefaults": {
           "arrowcolor": "#f2f5fa",
           "arrowhead": 0,
           "arrowwidth": 1
          },
          "autotypenumbers": "strict",
          "coloraxis": {
           "colorbar": {
            "outlinewidth": 0,
            "ticks": ""
           }
          },
          "colorscale": {
           "diverging": [
            [
             0,
             "#8e0152"
            ],
            [
             0.1,
             "#c51b7d"
            ],
            [
             0.2,
             "#de77ae"
            ],
            [
             0.3,
             "#f1b6da"
            ],
            [
             0.4,
             "#fde0ef"
            ],
            [
             0.5,
             "#f7f7f7"
            ],
            [
             0.6,
             "#e6f5d0"
            ],
            [
             0.7,
             "#b8e186"
            ],
            [
             0.8,
             "#7fbc41"
            ],
            [
             0.9,
             "#4d9221"
            ],
            [
             1,
             "#276419"
            ]
           ],
           "sequential": [
            [
             0,
             "#0d0887"
            ],
            [
             0.1111111111111111,
             "#46039f"
            ],
            [
             0.2222222222222222,
             "#7201a8"
            ],
            [
             0.3333333333333333,
             "#9c179e"
            ],
            [
             0.4444444444444444,
             "#bd3786"
            ],
            [
             0.5555555555555556,
             "#d8576b"
            ],
            [
             0.6666666666666666,
             "#ed7953"
            ],
            [
             0.7777777777777778,
             "#fb9f3a"
            ],
            [
             0.8888888888888888,
             "#fdca26"
            ],
            [
             1,
             "#f0f921"
            ]
           ],
           "sequentialminus": [
            [
             0,
             "#0d0887"
            ],
            [
             0.1111111111111111,
             "#46039f"
            ],
            [
             0.2222222222222222,
             "#7201a8"
            ],
            [
             0.3333333333333333,
             "#9c179e"
            ],
            [
             0.4444444444444444,
             "#bd3786"
            ],
            [
             0.5555555555555556,
             "#d8576b"
            ],
            [
             0.6666666666666666,
             "#ed7953"
            ],
            [
             0.7777777777777778,
             "#fb9f3a"
            ],
            [
             0.8888888888888888,
             "#fdca26"
            ],
            [
             1,
             "#f0f921"
            ]
           ]
          },
          "colorway": [
           "#636efa",
           "#EF553B",
           "#00cc96",
           "#ab63fa",
           "#FFA15A",
           "#19d3f3",
           "#FF6692",
           "#B6E880",
           "#FF97FF",
           "#FECB52"
          ],
          "font": {
           "color": "#f2f5fa"
          },
          "geo": {
           "bgcolor": "rgb(17,17,17)",
           "lakecolor": "rgb(17,17,17)",
           "landcolor": "rgb(17,17,17)",
           "showlakes": true,
           "showland": true,
           "subunitcolor": "#506784"
          },
          "hoverlabel": {
           "align": "left"
          },
          "hovermode": "closest",
          "mapbox": {
           "style": "dark"
          },
          "paper_bgcolor": "rgb(17,17,17)",
          "plot_bgcolor": "rgb(17,17,17)",
          "polar": {
           "angularaxis": {
            "gridcolor": "#506784",
            "linecolor": "#506784",
            "ticks": ""
           },
           "bgcolor": "rgb(17,17,17)",
           "radialaxis": {
            "gridcolor": "#506784",
            "linecolor": "#506784",
            "ticks": ""
           }
          },
          "scene": {
           "xaxis": {
            "backgroundcolor": "rgb(17,17,17)",
            "gridcolor": "#506784",
            "gridwidth": 2,
            "linecolor": "#506784",
            "showbackground": true,
            "ticks": "",
            "zerolinecolor": "#C8D4E3"
           },
           "yaxis": {
            "backgroundcolor": "rgb(17,17,17)",
            "gridcolor": "#506784",
            "gridwidth": 2,
            "linecolor": "#506784",
            "showbackground": true,
            "ticks": "",
            "zerolinecolor": "#C8D4E3"
           },
           "zaxis": {
            "backgroundcolor": "rgb(17,17,17)",
            "gridcolor": "#506784",
            "gridwidth": 2,
            "linecolor": "#506784",
            "showbackground": true,
            "ticks": "",
            "zerolinecolor": "#C8D4E3"
           }
          },
          "shapedefaults": {
           "line": {
            "color": "#f2f5fa"
           }
          },
          "sliderdefaults": {
           "bgcolor": "#C8D4E3",
           "bordercolor": "rgb(17,17,17)",
           "borderwidth": 1,
           "tickwidth": 0
          },
          "ternary": {
           "aaxis": {
            "gridcolor": "#506784",
            "linecolor": "#506784",
            "ticks": ""
           },
           "baxis": {
            "gridcolor": "#506784",
            "linecolor": "#506784",
            "ticks": ""
           },
           "bgcolor": "rgb(17,17,17)",
           "caxis": {
            "gridcolor": "#506784",
            "linecolor": "#506784",
            "ticks": ""
           }
          },
          "title": {
           "x": 0.05
          },
          "updatemenudefaults": {
           "bgcolor": "#506784",
           "borderwidth": 0
          },
          "xaxis": {
           "automargin": true,
           "gridcolor": "#283442",
           "linecolor": "#506784",
           "ticks": "",
           "title": {
            "standoff": 15
           },
           "zerolinecolor": "#283442",
           "zerolinewidth": 2
          },
          "yaxis": {
           "automargin": true,
           "gridcolor": "#283442",
           "linecolor": "#506784",
           "ticks": "",
           "title": {
            "standoff": 15
           },
           "zerolinecolor": "#283442",
           "zerolinewidth": 2
          }
         }
        },
        "title": {
         "text": "GameStopo Stock Price",
         "x": 0.5,
         "xanchor": "center"
        }
       }
      },
      "text/html": [
       "<div>                            <div id=\"38cd0681-995a-4165-a82b-0b9182209a83\" class=\"plotly-graph-div\" style=\"height:525px; width:100%;\"></div>            <script type=\"text/javascript\">                require([\"plotly\"], function(Plotly) {                    window.PLOTLYENV=window.PLOTLYENV || {};                                    if (document.getElementById(\"38cd0681-995a-4165-a82b-0b9182209a83\")) {                    Plotly.newPlot(                        \"38cd0681-995a-4165-a82b-0b9182209a83\",                        [{\"name\": \"NFLX\", \"type\": \"scatter\", \"x\": [\"2020-03-16T00:00:00\", \"2020-03-17T00:00:00\", \"2020-03-18T00:00:00\", \"2020-03-19T00:00:00\", \"2020-03-20T00:00:00\", \"2020-03-23T00:00:00\", \"2020-03-24T00:00:00\", \"2020-03-25T00:00:00\", \"2020-03-26T00:00:00\", \"2020-03-27T00:00:00\", \"2020-03-30T00:00:00\", \"2020-03-31T00:00:00\", \"2020-04-01T00:00:00\", \"2020-04-02T00:00:00\", \"2020-04-03T00:00:00\", \"2020-04-06T00:00:00\", \"2020-04-07T00:00:00\", \"2020-04-08T00:00:00\", \"2020-04-09T00:00:00\", \"2020-04-13T00:00:00\", \"2020-04-14T00:00:00\", \"2020-04-15T00:00:00\", \"2020-04-16T00:00:00\", \"2020-04-17T00:00:00\", \"2020-04-20T00:00:00\", \"2020-04-21T00:00:00\", \"2020-04-22T00:00:00\", \"2020-04-23T00:00:00\", \"2020-04-24T00:00:00\", \"2020-04-27T00:00:00\", \"2020-04-28T00:00:00\", \"2020-04-29T00:00:00\", \"2020-04-30T00:00:00\", \"2020-05-01T00:00:00\", \"2020-05-04T00:00:00\", \"2020-05-05T00:00:00\", \"2020-05-06T00:00:00\", \"2020-05-07T00:00:00\", \"2020-05-08T00:00:00\", \"2020-05-11T00:00:00\", \"2020-05-12T00:00:00\", \"2020-05-13T00:00:00\", \"2020-05-14T00:00:00\", \"2020-05-15T00:00:00\", \"2020-05-18T00:00:00\", \"2020-05-19T00:00:00\", \"2020-05-20T00:00:00\", \"2020-05-21T00:00:00\", \"2020-05-22T00:00:00\", \"2020-05-26T00:00:00\", \"2020-05-27T00:00:00\", \"2020-05-28T00:00:00\", \"2020-05-29T00:00:00\", \"2020-06-01T00:00:00\", \"2020-06-02T00:00:00\", \"2020-06-03T00:00:00\", \"2020-06-04T00:00:00\", \"2020-06-05T00:00:00\", \"2020-06-08T00:00:00\", \"2020-06-09T00:00:00\", \"2020-06-10T00:00:00\", \"2020-06-11T00:00:00\", \"2020-06-12T00:00:00\", \"2020-06-15T00:00:00\", \"2020-06-16T00:00:00\", \"2020-06-17T00:00:00\", \"2020-06-18T00:00:00\", \"2020-06-19T00:00:00\", \"2020-06-22T00:00:00\", \"2020-06-23T00:00:00\", \"2020-06-24T00:00:00\", \"2020-06-25T00:00:00\", \"2020-06-26T00:00:00\", \"2020-06-29T00:00:00\", \"2020-06-30T00:00:00\", \"2020-07-01T00:00:00\", \"2020-07-02T00:00:00\", \"2020-07-06T00:00:00\", \"2020-07-07T00:00:00\", \"2020-07-08T00:00:00\", \"2020-07-09T00:00:00\", \"2020-07-10T00:00:00\", \"2020-07-13T00:00:00\", \"2020-07-14T00:00:00\", \"2020-07-15T00:00:00\", \"2020-07-16T00:00:00\", \"2020-07-17T00:00:00\", \"2020-07-20T00:00:00\", \"2020-07-21T00:00:00\", \"2020-07-22T00:00:00\", \"2020-07-23T00:00:00\", \"2020-07-24T00:00:00\", \"2020-07-27T00:00:00\", \"2020-07-28T00:00:00\", \"2020-07-29T00:00:00\", \"2020-07-30T00:00:00\", \"2020-07-31T00:00:00\", \"2020-08-03T00:00:00\", \"2020-08-04T00:00:00\", \"2020-08-05T00:00:00\", \"2020-08-06T00:00:00\", \"2020-08-07T00:00:00\", \"2020-08-10T00:00:00\", \"2020-08-11T00:00:00\", \"2020-08-12T00:00:00\", \"2020-08-13T00:00:00\", \"2020-08-14T00:00:00\", \"2020-08-17T00:00:00\", \"2020-08-18T00:00:00\", \"2020-08-19T00:00:00\", \"2020-08-20T00:00:00\", \"2020-08-21T00:00:00\", \"2020-08-24T00:00:00\", \"2020-08-25T00:00:00\", \"2020-08-26T00:00:00\", \"2020-08-27T00:00:00\", \"2020-08-28T00:00:00\", \"2020-08-31T00:00:00\", \"2020-09-01T00:00:00\", \"2020-09-02T00:00:00\", \"2020-09-03T00:00:00\", \"2020-09-04T00:00:00\", \"2020-09-08T00:00:00\", \"2020-09-09T00:00:00\", \"2020-09-10T00:00:00\", \"2020-09-11T00:00:00\", \"2020-09-14T00:00:00\", \"2020-09-15T00:00:00\", \"2020-09-16T00:00:00\", \"2020-09-17T00:00:00\", \"2020-09-18T00:00:00\", \"2020-09-21T00:00:00\", \"2020-09-22T00:00:00\", \"2020-09-23T00:00:00\", \"2020-09-24T00:00:00\", \"2020-09-25T00:00:00\", \"2020-09-28T00:00:00\", \"2020-09-29T00:00:00\", \"2020-09-30T00:00:00\", \"2020-10-01T00:00:00\", \"2020-10-02T00:00:00\", \"2020-10-05T00:00:00\", \"2020-10-06T00:00:00\", \"2020-10-07T00:00:00\", \"2020-10-08T00:00:00\", \"2020-10-09T00:00:00\", \"2020-10-12T00:00:00\", \"2020-10-13T00:00:00\", \"2020-10-14T00:00:00\", \"2020-10-15T00:00:00\", \"2020-10-16T00:00:00\", \"2020-10-19T00:00:00\", \"2020-10-20T00:00:00\", \"2020-10-21T00:00:00\", \"2020-10-22T00:00:00\", \"2020-10-23T00:00:00\", \"2020-10-26T00:00:00\", \"2020-10-27T00:00:00\", \"2020-10-28T00:00:00\", \"2020-10-29T00:00:00\", \"2020-10-30T00:00:00\", \"2020-11-02T00:00:00\", \"2020-11-03T00:00:00\", \"2020-11-04T00:00:00\", \"2020-11-05T00:00:00\", \"2020-11-06T00:00:00\", \"2020-11-09T00:00:00\", \"2020-11-10T00:00:00\", \"2020-11-11T00:00:00\", \"2020-11-12T00:00:00\", \"2020-11-13T00:00:00\", \"2020-11-16T00:00:00\", \"2020-11-17T00:00:00\", \"2020-11-18T00:00:00\", \"2020-11-19T00:00:00\", \"2020-11-20T00:00:00\", \"2020-11-23T00:00:00\", \"2020-11-24T00:00:00\", \"2020-11-25T00:00:00\", \"2020-11-27T00:00:00\", \"2020-11-30T00:00:00\", \"2020-12-01T00:00:00\", \"2020-12-02T00:00:00\", \"2020-12-03T00:00:00\", \"2020-12-04T00:00:00\", \"2020-12-07T00:00:00\", \"2020-12-08T00:00:00\", \"2020-12-09T00:00:00\", \"2020-12-10T00:00:00\", \"2020-12-11T00:00:00\", \"2020-12-14T00:00:00\", \"2020-12-15T00:00:00\", \"2020-12-16T00:00:00\", \"2020-12-17T00:00:00\", \"2020-12-18T00:00:00\", \"2020-12-21T00:00:00\", \"2020-12-22T00:00:00\", \"2020-12-23T00:00:00\", \"2020-12-24T00:00:00\", \"2020-12-28T00:00:00\", \"2020-12-29T00:00:00\", \"2020-12-30T00:00:00\", \"2020-12-31T00:00:00\", \"2021-01-04T00:00:00\", \"2021-01-05T00:00:00\", \"2021-01-06T00:00:00\", \"2021-01-07T00:00:00\", \"2021-01-08T00:00:00\", \"2021-01-11T00:00:00\", \"2021-01-12T00:00:00\", \"2021-01-13T00:00:00\", \"2021-01-14T00:00:00\", \"2021-01-15T00:00:00\", \"2021-01-19T00:00:00\", \"2021-01-20T00:00:00\", \"2021-01-21T00:00:00\", \"2021-01-22T00:00:00\", \"2021-01-25T00:00:00\", \"2021-01-26T00:00:00\", \"2021-01-27T00:00:00\", \"2021-01-28T00:00:00\", \"2021-01-29T00:00:00\", \"2021-02-01T00:00:00\", \"2021-02-02T00:00:00\", \"2021-02-03T00:00:00\", \"2021-02-04T00:00:00\", \"2021-02-05T00:00:00\", \"2021-02-08T00:00:00\", \"2021-02-09T00:00:00\", \"2021-02-10T00:00:00\", \"2021-02-11T00:00:00\", \"2021-02-12T00:00:00\"], \"y\": [4.369999885559082, 4.230000019073486, 3.7699999809265137, 4.190000057220459, 3.759999990463257, 3.809999942779541, 4.159999847412109, 4.170000076293945, 4.409999847412109, 4.21999979019165, 3.6500000953674316, 3.5, 3.25, 2.8499999046325684, 2.799999952316284, 3.0899999141693115, 3.2699999809265137, 3.4100000858306885, 3.890000104904175, 4.739999771118164, 5.949999809265137, 5.269999980926514, 5.03000020980835, 4.880000114440918, 5.610000133514404, 4.78000020980835, 4.889999866485596, 4.699999809265137, 4.769999980926514, 5.820000171661377, 5.639999866485596, 6.039999961853027, 5.730000019073486, 6.050000190734863, 5.480000019073486, 5.389999866485596, 4.929999828338623, 4.869999885559082, 4.980000019073486, 4.760000228881836, 4.539999961853027, 4.210000038146973, 4.130000114440918, 4.21999979019165, 4.579999923706055, 4.440000057220459, 4.429999828338623, 4.440000057220459, 4.179999828338623, 4.420000076293945, 4.690000057220459, 4.329999923706055, 4.059999942779541, 4.130000114440918, 4.179999828338623, 4.440000057220459, 4.46999979019165, 4.139999866485596, 5.010000228881836, 4.960000038146973, 5.070000171661377, 4.369999885559082, 4.71999979019165, 4.690000057220459, 4.639999866485596, 4.760000228881836, 4.949999809265137, 4.880000114440918, 4.869999885559082, 4.829999923706055, 4.409999847412109, 4.460000038146973, 4.349999904632568, 4.380000114440918, 4.340000152587891, 4.440000057220459, 4.289999961853027, 4.239999771118164, 4.090000152587891, 4.260000228881836, 4.210000038146973, 4.340000152587891, 4.260000228881836, 4.079999923706055, 4.190000057220459, 4.170000076293945, 3.9600000381469727, 3.8499999046325684, 4.010000228881836, 4.110000133514404, 4.110000133514404, 4.03000020980835, 4.010000228881836, 3.940000057220459, 4.059999942779541, 4.099999904632568, 4.010000228881836, 4.150000095367432, 4.429999828338623, 4.630000114440918, 4.429999828338623, 4.159999847412109, 4.329999923706055, 4.349999904632568, 4.519999980926514, 4.639999866485596, 4.75, 4.630000114440918, 4.809999942779541, 4.71999979019165, 4.610000133514404, 5.03000020980835, 4.869999885559082, 4.980000019073486, 5.110000133514404, 5.25, 5.389999866485596, 6.679999828338623, 7.650000095367432, 7.710000038146973, 7.820000171661377, 7.650000095367432, 7.699999809265137, 7.349999904632568, 6.230000019073486, 6.090000152587891, 6.909999847412109, 7.090000152587891, 8.680000305175781, 9.199999809265137, 9.470000267028809, 8.75, 10.5600004196167, 10.039999961853027, 9.140000343322754, 10.020000457763672, 10.09000015258789, 10.350000381469727, 10.199999809265137, 9.770000457763672, 9.390000343322754, 9.460000038146973, 9.130000114440918, 9.359999656677246, 13.489999771118164, 12.020000457763672, 11.800000190734863, 11.880000114440918, 12.25, 13.829999923706055, 13.3100004196167, 13.90999984741211, 13.859999656677246, 14.100000381469727, 14.90999984741211, 15.0, 13.449999809265137, 12.6899995803833, 11.819999694824219, 11.729999542236328, 10.470000267028809, 10.75, 11.569999694824219, 10.90999984741211, 11.449999809265137, 11.859999656677246, 11.489999771118164, 11.100000381469727, 11.75, 11.130000114440918, 11.010000228881836, 12.0600004196167, 11.630000114440918, 11.569999694824219, 12.460000038146973, 12.710000038146973, 13.899999618530273, 13.670000076293945, 14.75, 16.079999923706055, 16.559999465942383, 15.800000190734863, 16.579999923706055, 16.1200008392334, 16.899999618530273, 16.350000381469727, 16.940000534057617, 13.65999984741211, 14.119999885559082, 13.3100004196167, 12.720000267028809, 13.850000381469727, 13.850000381469727, 14.829999923706055, 15.630000114440918, 15.529999732971191, 19.459999084472656, 20.56999969482422, 20.149999618530273, 20.989999771118164, 19.3799991607666, 19.260000228881836, 18.84000015258789, 17.25, 17.3700008392334, 18.360000610351562, 18.079999923706055, 17.690000534057617, 19.940000534057617, 19.950000762939453, 31.399999618530273, 39.90999984741211, 35.5, 39.36000061035156, 39.119998931884766, 43.029998779296875, 65.01000213623047, 76.79000091552734, 147.97999572753906, 347.510009765625, 193.60000610351562, 325.0, 225.0, 90.0, 92.41000366210938, 53.5, 63.77000045776367, 60.0, 50.310001373291016, 51.20000076293945, 51.099998474121094, 52.400001525878906]}, {\"name\": \"10-day MA\", \"type\": \"scatter\", \"x\": [\"2020-03-16T00:00:00\", \"2020-03-17T00:00:00\", \"2020-03-18T00:00:00\", \"2020-03-19T00:00:00\", \"2020-03-20T00:00:00\", \"2020-03-23T00:00:00\", \"2020-03-24T00:00:00\", \"2020-03-25T00:00:00\", \"2020-03-26T00:00:00\", \"2020-03-27T00:00:00\", \"2020-03-30T00:00:00\", \"2020-03-31T00:00:00\", \"2020-04-01T00:00:00\", \"2020-04-02T00:00:00\", \"2020-04-03T00:00:00\", \"2020-04-06T00:00:00\", \"2020-04-07T00:00:00\", \"2020-04-08T00:00:00\", \"2020-04-09T00:00:00\", \"2020-04-13T00:00:00\", \"2020-04-14T00:00:00\", \"2020-04-15T00:00:00\", \"2020-04-16T00:00:00\", \"2020-04-17T00:00:00\", \"2020-04-20T00:00:00\", \"2020-04-21T00:00:00\", \"2020-04-22T00:00:00\", \"2020-04-23T00:00:00\", \"2020-04-24T00:00:00\", \"2020-04-27T00:00:00\", \"2020-04-28T00:00:00\", \"2020-04-29T00:00:00\", \"2020-04-30T00:00:00\", \"2020-05-01T00:00:00\", \"2020-05-04T00:00:00\", \"2020-05-05T00:00:00\", \"2020-05-06T00:00:00\", \"2020-05-07T00:00:00\", \"2020-05-08T00:00:00\", \"2020-05-11T00:00:00\", \"2020-05-12T00:00:00\", \"2020-05-13T00:00:00\", \"2020-05-14T00:00:00\", \"2020-05-15T00:00:00\", \"2020-05-18T00:00:00\", \"2020-05-19T00:00:00\", \"2020-05-20T00:00:00\", \"2020-05-21T00:00:00\", \"2020-05-22T00:00:00\", \"2020-05-26T00:00:00\", \"2020-05-27T00:00:00\", \"2020-05-28T00:00:00\", \"2020-05-29T00:00:00\", \"2020-06-01T00:00:00\", \"2020-06-02T00:00:00\", \"2020-06-03T00:00:00\", \"2020-06-04T00:00:00\", \"2020-06-05T00:00:00\", \"2020-06-08T00:00:00\", \"2020-06-09T00:00:00\", \"2020-06-10T00:00:00\", \"2020-06-11T00:00:00\", \"2020-06-12T00:00:00\", \"2020-06-15T00:00:00\", \"2020-06-16T00:00:00\", \"2020-06-17T00:00:00\", \"2020-06-18T00:00:00\", \"2020-06-19T00:00:00\", \"2020-06-22T00:00:00\", \"2020-06-23T00:00:00\", \"2020-06-24T00:00:00\", \"2020-06-25T00:00:00\", \"2020-06-26T00:00:00\", \"2020-06-29T00:00:00\", \"2020-06-30T00:00:00\", \"2020-07-01T00:00:00\", \"2020-07-02T00:00:00\", \"2020-07-06T00:00:00\", \"2020-07-07T00:00:00\", \"2020-07-08T00:00:00\", \"2020-07-09T00:00:00\", \"2020-07-10T00:00:00\", \"2020-07-13T00:00:00\", \"2020-07-14T00:00:00\", \"2020-07-15T00:00:00\", \"2020-07-16T00:00:00\", \"2020-07-17T00:00:00\", \"2020-07-20T00:00:00\", \"2020-07-21T00:00:00\", \"2020-07-22T00:00:00\", \"2020-07-23T00:00:00\", \"2020-07-24T00:00:00\", \"2020-07-27T00:00:00\", \"2020-07-28T00:00:00\", \"2020-07-29T00:00:00\", \"2020-07-30T00:00:00\", \"2020-07-31T00:00:00\", \"2020-08-03T00:00:00\", \"2020-08-04T00:00:00\", \"2020-08-05T00:00:00\", \"2020-08-06T00:00:00\", \"2020-08-07T00:00:00\", \"2020-08-10T00:00:00\", \"2020-08-11T00:00:00\", \"2020-08-12T00:00:00\", \"2020-08-13T00:00:00\", \"2020-08-14T00:00:00\", \"2020-08-17T00:00:00\", \"2020-08-18T00:00:00\", \"2020-08-19T00:00:00\", \"2020-08-20T00:00:00\", \"2020-08-21T00:00:00\", \"2020-08-24T00:00:00\", \"2020-08-25T00:00:00\", \"2020-08-26T00:00:00\", \"2020-08-27T00:00:00\", \"2020-08-28T00:00:00\", \"2020-08-31T00:00:00\", \"2020-09-01T00:00:00\", \"2020-09-02T00:00:00\", \"2020-09-03T00:00:00\", \"2020-09-04T00:00:00\", \"2020-09-08T00:00:00\", \"2020-09-09T00:00:00\", \"2020-09-10T00:00:00\", \"2020-09-11T00:00:00\", \"2020-09-14T00:00:00\", \"2020-09-15T00:00:00\", \"2020-09-16T00:00:00\", \"2020-09-17T00:00:00\", \"2020-09-18T00:00:00\", \"2020-09-21T00:00:00\", \"2020-09-22T00:00:00\", \"2020-09-23T00:00:00\", \"2020-09-24T00:00:00\", \"2020-09-25T00:00:00\", \"2020-09-28T00:00:00\", \"2020-09-29T00:00:00\", \"2020-09-30T00:00:00\", \"2020-10-01T00:00:00\", \"2020-10-02T00:00:00\", \"2020-10-05T00:00:00\", \"2020-10-06T00:00:00\", \"2020-10-07T00:00:00\", \"2020-10-08T00:00:00\", \"2020-10-09T00:00:00\", \"2020-10-12T00:00:00\", \"2020-10-13T00:00:00\", \"2020-10-14T00:00:00\", \"2020-10-15T00:00:00\", \"2020-10-16T00:00:00\", \"2020-10-19T00:00:00\", \"2020-10-20T00:00:00\", \"2020-10-21T00:00:00\", \"2020-10-22T00:00:00\", \"2020-10-23T00:00:00\", \"2020-10-26T00:00:00\", \"2020-10-27T00:00:00\", \"2020-10-28T00:00:00\", \"2020-10-29T00:00:00\", \"2020-10-30T00:00:00\", \"2020-11-02T00:00:00\", \"2020-11-03T00:00:00\", \"2020-11-04T00:00:00\", \"2020-11-05T00:00:00\", \"2020-11-06T00:00:00\", \"2020-11-09T00:00:00\", \"2020-11-10T00:00:00\", \"2020-11-11T00:00:00\", \"2020-11-12T00:00:00\", \"2020-11-13T00:00:00\", \"2020-11-16T00:00:00\", \"2020-11-17T00:00:00\", \"2020-11-18T00:00:00\", \"2020-11-19T00:00:00\", \"2020-11-20T00:00:00\", \"2020-11-23T00:00:00\", \"2020-11-24T00:00:00\", \"2020-11-25T00:00:00\", \"2020-11-27T00:00:00\", \"2020-11-30T00:00:00\", \"2020-12-01T00:00:00\", \"2020-12-02T00:00:00\", \"2020-12-03T00:00:00\", \"2020-12-04T00:00:00\", \"2020-12-07T00:00:00\", \"2020-12-08T00:00:00\", \"2020-12-09T00:00:00\", \"2020-12-10T00:00:00\", \"2020-12-11T00:00:00\", \"2020-12-14T00:00:00\", \"2020-12-15T00:00:00\", \"2020-12-16T00:00:00\", \"2020-12-17T00:00:00\", \"2020-12-18T00:00:00\", \"2020-12-21T00:00:00\", \"2020-12-22T00:00:00\", \"2020-12-23T00:00:00\", \"2020-12-24T00:00:00\", \"2020-12-28T00:00:00\", \"2020-12-29T00:00:00\", \"2020-12-30T00:00:00\", \"2020-12-31T00:00:00\", \"2021-01-04T00:00:00\", \"2021-01-05T00:00:00\", \"2021-01-06T00:00:00\", \"2021-01-07T00:00:00\", \"2021-01-08T00:00:00\", \"2021-01-11T00:00:00\", \"2021-01-12T00:00:00\", \"2021-01-13T00:00:00\", \"2021-01-14T00:00:00\", \"2021-01-15T00:00:00\", \"2021-01-19T00:00:00\", \"2021-01-20T00:00:00\", \"2021-01-21T00:00:00\", \"2021-01-22T00:00:00\", \"2021-01-25T00:00:00\", \"2021-01-26T00:00:00\", \"2021-01-27T00:00:00\", \"2021-01-28T00:00:00\", \"2021-01-29T00:00:00\", \"2021-02-01T00:00:00\", \"2021-02-02T00:00:00\", \"2021-02-03T00:00:00\", \"2021-02-04T00:00:00\", \"2021-02-05T00:00:00\", \"2021-02-08T00:00:00\", \"2021-02-09T00:00:00\", \"2021-02-10T00:00:00\", \"2021-02-11T00:00:00\", \"2021-02-12T00:00:00\"], \"y\": [null, null, null, null, null, null, null, null, null, 4.108999943733215, 4.036999964714051, 3.9639999628067017, 3.91199996471405, 3.7779999494552614, 3.681999945640564, 3.609999942779541, 3.5209999561309813, 3.4449999570846557, 3.3929999828338624, 3.4449999809265135, 3.674999952316284, 3.8519999504089357, 4.0299999713897705, 4.232999992370606, 4.514000010490418, 4.6830000400543215, 4.8450000286102295, 4.974000000953675, 5.061999988555908, 5.17000002861023, 5.139000034332275, 5.216000032424927, 5.28600001335144, 5.403000020980835, 5.3900000095367435, 5.450999975204468, 5.45499997138977, 5.471999979019165, 5.4929999828338625, 5.386999988555909, 5.276999998092651, 5.094000005722046, 4.934000015258789, 4.750999975204468, 4.660999965667725, 4.565999984741211, 4.515999984741211, 4.473000001907349, 4.392999982833862, 4.358999967575073, 4.373999977111817, 4.385999965667724, 4.378999948501587, 4.369999980926513, 4.32999997138977, 4.32999997138977, 4.333999967575073, 4.303999948501587, 4.386999988555909, 4.440999984741211, 4.478999996185303, 4.482999992370606, 4.548999977111817, 4.604999971389771, 4.650999975204468, 4.682999992370606, 4.730999994277954, 4.8050000190734865, 4.790999984741211, 4.777999973297119, 4.711999940872192, 4.7209999561309814, 4.683999967575073, 4.652999973297119, 4.623000001907348, 4.590999984741211, 4.525, 4.460999965667725, 4.382999992370605, 4.326000022888183, 4.30600004196167, 4.294000053405762, 4.2850000858306885, 4.255000066757202, 4.240000057220459, 4.213000059127808, 4.180000066757202, 4.141000080108642, 4.133000087738037, 4.118000078201294, 4.108000087738037, 4.077000093460083, 4.052000093460083, 4.038000106811523, 4.025000095367432, 4.018000078201294, 4.02300009727478, 4.053000116348267, 4.095000076293945, 4.147000074386597, 4.179000043869019, 4.192000007629394, 4.223999977111816, 4.264999961853027, 4.310999965667724, 4.3649999618530275, 4.438999938964844, 4.486999940872193, 4.524999952316284, 4.533999919891357, 4.551999950408936, 4.638999986648559, 4.692999982833863, 4.755999994277954, 4.815000009536743, 4.876000022888183, 4.940000009536743, 5.144999980926514, 5.428999996185302, 5.728000020980835, 6.049000024795532, 6.311000013351441, 6.594000005722046, 6.8309999942779545, 6.942999982833863, 7.026999998092651, 7.178999996185302, 7.2200000286102295, 7.323000049591064, 7.472000026702881, 7.637000036239624, 7.747000026702881, 8.033000087738037, 8.302000093460084, 8.593000125885009, 8.986000156402588, 9.304000186920167, 9.63000020980835, 9.782000160217285, 9.839000225067139, 9.831000232696534, 9.902000236511231, 9.759000205993653, 9.691000175476074, 10.126000118255615, 10.326000118255616, 10.497000122070313, 10.650000095367432, 10.855000114440918, 11.261000061035157, 11.65300006866455, 12.098000049591064, 12.571000003814698, 13.045000076293945, 13.18700008392334, 13.485000038146973, 13.65, 13.730999946594238, 13.68799991607666, 13.477999877929687, 13.193999862670898, 12.877999877929687, 12.648999881744384, 12.329999828338623, 11.983999824523925, 11.66999979019165, 11.473999786376954, 11.314999866485596, 11.307999897003175, 11.247999954223634, 11.301999950408936, 11.432999992370606, 11.439000034332276, 11.505000019073487, 11.60600004196167, 11.691000080108642, 11.932000064849854, 12.189000034332276, 12.489000034332275, 12.98400001525879, 13.538999938964844, 13.91299991607666, 14.407999897003174, 14.863000011444091, 15.306999969482423, 15.671000003814697, 15.975000095367431, 15.974000072479248, 15.911000061035157, 15.634000110626221, 15.250000190734863, 15.05500020980835, 14.782000255584716, 14.653000164031983, 14.526000213623046, 14.444000148773194, 14.696000003814698, 15.386999988555909, 15.989999961853027, 16.757999897003174, 17.423999786376953, 17.964999771118165, 18.46399974822998, 18.705999755859374, 18.879999828338622, 19.16299991607666, 19.025, 18.73700008392334, 18.716000175476076, 18.612000274658204, 19.81400032043457, 21.8790002822876, 23.545000267028808, 25.756000328063966, 27.9310001373291, 30.397999954223632, 35.091000175476076, 41.001000213623044, 53.80499973297119, 86.56100063323974, 102.78100128173828, 131.29000129699708, 150.24000129699706, 155.30400123596192, 160.63300170898438, 161.68000183105468, 161.556001663208, 159.87700157165528, 150.11000213623046, 120.47900123596192, 106.22900047302247, 78.96900062561035]}, {\"name\": \"20-day MA\", \"type\": \"scatter\", \"x\": [\"2020-03-16T00:00:00\", \"2020-03-17T00:00:00\", \"2020-03-18T00:00:00\", \"2020-03-19T00:00:00\", \"2020-03-20T00:00:00\", \"2020-03-23T00:00:00\", \"2020-03-24T00:00:00\", \"2020-03-25T00:00:00\", \"2020-03-26T00:00:00\", \"2020-03-27T00:00:00\", \"2020-03-30T00:00:00\", \"2020-03-31T00:00:00\", \"2020-04-01T00:00:00\", \"2020-04-02T00:00:00\", \"2020-04-03T00:00:00\", \"2020-04-06T00:00:00\", \"2020-04-07T00:00:00\", \"2020-04-08T00:00:00\", \"2020-04-09T00:00:00\", \"2020-04-13T00:00:00\", \"2020-04-14T00:00:00\", \"2020-04-15T00:00:00\", \"2020-04-16T00:00:00\", \"2020-04-17T00:00:00\", \"2020-04-20T00:00:00\", \"2020-04-21T00:00:00\", \"2020-04-22T00:00:00\", \"2020-04-23T00:00:00\", \"2020-04-24T00:00:00\", \"2020-04-27T00:00:00\", \"2020-04-28T00:00:00\", \"2020-04-29T00:00:00\", \"2020-04-30T00:00:00\", \"2020-05-01T00:00:00\", \"2020-05-04T00:00:00\", \"2020-05-05T00:00:00\", \"2020-05-06T00:00:00\", \"2020-05-07T00:00:00\", \"2020-05-08T00:00:00\", \"2020-05-11T00:00:00\", \"2020-05-12T00:00:00\", \"2020-05-13T00:00:00\", \"2020-05-14T00:00:00\", \"2020-05-15T00:00:00\", \"2020-05-18T00:00:00\", \"2020-05-19T00:00:00\", \"2020-05-20T00:00:00\", \"2020-05-21T00:00:00\", \"2020-05-22T00:00:00\", \"2020-05-26T00:00:00\", \"2020-05-27T00:00:00\", \"2020-05-28T00:00:00\", \"2020-05-29T00:00:00\", \"2020-06-01T00:00:00\", \"2020-06-02T00:00:00\", \"2020-06-03T00:00:00\", \"2020-06-04T00:00:00\", \"2020-06-05T00:00:00\", \"2020-06-08T00:00:00\", \"2020-06-09T00:00:00\", \"2020-06-10T00:00:00\", \"2020-06-11T00:00:00\", \"2020-06-12T00:00:00\", \"2020-06-15T00:00:00\", \"2020-06-16T00:00:00\", \"2020-06-17T00:00:00\", \"2020-06-18T00:00:00\", \"2020-06-19T00:00:00\", \"2020-06-22T00:00:00\", \"2020-06-23T00:00:00\", \"2020-06-24T00:00:00\", \"2020-06-25T00:00:00\", \"2020-06-26T00:00:00\", \"2020-06-29T00:00:00\", \"2020-06-30T00:00:00\", \"2020-07-01T00:00:00\", \"2020-07-02T00:00:00\", \"2020-07-06T00:00:00\", \"2020-07-07T00:00:00\", \"2020-07-08T00:00:00\", \"2020-07-09T00:00:00\", \"2020-07-10T00:00:00\", \"2020-07-13T00:00:00\", \"2020-07-14T00:00:00\", \"2020-07-15T00:00:00\", \"2020-07-16T00:00:00\", \"2020-07-17T00:00:00\", \"2020-07-20T00:00:00\", \"2020-07-21T00:00:00\", \"2020-07-22T00:00:00\", \"2020-07-23T00:00:00\", \"2020-07-24T00:00:00\", \"2020-07-27T00:00:00\", \"2020-07-28T00:00:00\", \"2020-07-29T00:00:00\", \"2020-07-30T00:00:00\", \"2020-07-31T00:00:00\", \"2020-08-03T00:00:00\", \"2020-08-04T00:00:00\", \"2020-08-05T00:00:00\", \"2020-08-06T00:00:00\", \"2020-08-07T00:00:00\", \"2020-08-10T00:00:00\", \"2020-08-11T00:00:00\", \"2020-08-12T00:00:00\", \"2020-08-13T00:00:00\", \"2020-08-14T00:00:00\", \"2020-08-17T00:00:00\", \"2020-08-18T00:00:00\", \"2020-08-19T00:00:00\", \"2020-08-20T00:00:00\", \"2020-08-21T00:00:00\", \"2020-08-24T00:00:00\", \"2020-08-25T00:00:00\", \"2020-08-26T00:00:00\", \"2020-08-27T00:00:00\", \"2020-08-28T00:00:00\", \"2020-08-31T00:00:00\", \"2020-09-01T00:00:00\", \"2020-09-02T00:00:00\", \"2020-09-03T00:00:00\", \"2020-09-04T00:00:00\", \"2020-09-08T00:00:00\", \"2020-09-09T00:00:00\", \"2020-09-10T00:00:00\", \"2020-09-11T00:00:00\", \"2020-09-14T00:00:00\", \"2020-09-15T00:00:00\", \"2020-09-16T00:00:00\", \"2020-09-17T00:00:00\", \"2020-09-18T00:00:00\", \"2020-09-21T00:00:00\", \"2020-09-22T00:00:00\", \"2020-09-23T00:00:00\", \"2020-09-24T00:00:00\", \"2020-09-25T00:00:00\", \"2020-09-28T00:00:00\", \"2020-09-29T00:00:00\", \"2020-09-30T00:00:00\", \"2020-10-01T00:00:00\", \"2020-10-02T00:00:00\", \"2020-10-05T00:00:00\", \"2020-10-06T00:00:00\", \"2020-10-07T00:00:00\", \"2020-10-08T00:00:00\", \"2020-10-09T00:00:00\", \"2020-10-12T00:00:00\", \"2020-10-13T00:00:00\", \"2020-10-14T00:00:00\", \"2020-10-15T00:00:00\", \"2020-10-16T00:00:00\", \"2020-10-19T00:00:00\", \"2020-10-20T00:00:00\", \"2020-10-21T00:00:00\", \"2020-10-22T00:00:00\", \"2020-10-23T00:00:00\", \"2020-10-26T00:00:00\", \"2020-10-27T00:00:00\", \"2020-10-28T00:00:00\", \"2020-10-29T00:00:00\", \"2020-10-30T00:00:00\", \"2020-11-02T00:00:00\", \"2020-11-03T00:00:00\", \"2020-11-04T00:00:00\", \"2020-11-05T00:00:00\", \"2020-11-06T00:00:00\", \"2020-11-09T00:00:00\", \"2020-11-10T00:00:00\", \"2020-11-11T00:00:00\", \"2020-11-12T00:00:00\", \"2020-11-13T00:00:00\", \"2020-11-16T00:00:00\", \"2020-11-17T00:00:00\", \"2020-11-18T00:00:00\", \"2020-11-19T00:00:00\", \"2020-11-20T00:00:00\", \"2020-11-23T00:00:00\", \"2020-11-24T00:00:00\", \"2020-11-25T00:00:00\", \"2020-11-27T00:00:00\", \"2020-11-30T00:00:00\", \"2020-12-01T00:00:00\", \"2020-12-02T00:00:00\", \"2020-12-03T00:00:00\", \"2020-12-04T00:00:00\", \"2020-12-07T00:00:00\", \"2020-12-08T00:00:00\", \"2020-12-09T00:00:00\", \"2020-12-10T00:00:00\", \"2020-12-11T00:00:00\", \"2020-12-14T00:00:00\", \"2020-12-15T00:00:00\", \"2020-12-16T00:00:00\", \"2020-12-17T00:00:00\", \"2020-12-18T00:00:00\", \"2020-12-21T00:00:00\", \"2020-12-22T00:00:00\", \"2020-12-23T00:00:00\", \"2020-12-24T00:00:00\", \"2020-12-28T00:00:00\", \"2020-12-29T00:00:00\", \"2020-12-30T00:00:00\", \"2020-12-31T00:00:00\", \"2021-01-04T00:00:00\", \"2021-01-05T00:00:00\", \"2021-01-06T00:00:00\", \"2021-01-07T00:00:00\", \"2021-01-08T00:00:00\", \"2021-01-11T00:00:00\", \"2021-01-12T00:00:00\", \"2021-01-13T00:00:00\", \"2021-01-14T00:00:00\", \"2021-01-15T00:00:00\", \"2021-01-19T00:00:00\", \"2021-01-20T00:00:00\", \"2021-01-21T00:00:00\", \"2021-01-22T00:00:00\", \"2021-01-25T00:00:00\", \"2021-01-26T00:00:00\", \"2021-01-27T00:00:00\", \"2021-01-28T00:00:00\", \"2021-01-29T00:00:00\", \"2021-02-01T00:00:00\", \"2021-02-02T00:00:00\", \"2021-02-03T00:00:00\", \"2021-02-04T00:00:00\", \"2021-02-05T00:00:00\", \"2021-02-08T00:00:00\", \"2021-02-09T00:00:00\", \"2021-02-10T00:00:00\", \"2021-02-11T00:00:00\", \"2021-02-12T00:00:00\"], \"y\": [null, null, null, null, null, null, null, null, null, null, null, null, null, null, null, null, null, null, null, 3.7769999623298647, 3.8559999585151674, 3.9079999566078185, 3.9709999680519106, 4.0054999709129335, 4.0979999780654905, 4.146499991416931, 4.182999992370606, 4.209499979019165, 4.227499985694886, 4.307500004768372, 4.40699999332428, 4.533999991416931, 4.6579999923706055, 4.81800000667572, 4.95200001001358, 5.067000007629394, 5.15, 5.22299998998642, 5.277499985694885, 5.278500008583069, 5.208000016212464, 5.155000019073486, 5.110000014305115, 5.076999998092651, 5.025499987602234, 5.008499979972839, 4.985499978065491, 4.972499990463257, 4.942999982833863, 4.872999978065491, 4.8254999876022335, 4.739999985694885, 4.656499981880188, 4.560499978065491, 4.495499968528748, 4.447999978065491, 4.4249999761581424, 4.388499975204468, 4.389999985694885, 4.399999976158142, 4.42649998664856, 4.434499979019165, 4.463999962806701, 4.4874999761581424, 4.490499973297119, 4.506499981880188, 4.532499980926514, 4.554499983787537, 4.58899998664856, 4.609499979019165, 4.595499968528747, 4.601999974250793, 4.616499972343445, 4.628999972343445, 4.636999988555909, 4.636999988555909, 4.627999997138977, 4.632999992370605, 4.586999988555908, 4.5519999980926515, 4.508999991416931, 4.507500004768372, 4.4845000267028805, 4.454000020027161, 4.431500029563904, 4.4020000219345095, 4.352500033378601, 4.301000022888184, 4.258000040054322, 4.222000050544739, 4.207000064849853, 4.185500073432922, 4.168500089645386, 4.146500086784362, 4.132500076293946, 4.11550006866455, 4.101500082015991, 4.097000098228454, 4.114000082015991, 4.132500076293946, 4.1435000658035275, 4.134500050544739, 4.13800003528595, 4.151500034332275, 4.168000030517578, 4.191500020027161, 4.231000018119812, 4.270000028610229, 4.310000014305115, 4.340499997138977, 4.365499997138977, 4.415499997138977, 4.4584999799728395, 4.510499978065491, 4.562999987602234, 4.620499992370606, 4.6894999742507935, 4.815999960899353, 4.976999974250793, 5.130999970436096, 5.300499987602234, 5.475, 5.6434999942779545, 5.793499994277954, 5.878999996185303, 5.951500010490418, 6.059500002861023, 6.182500004768372, 6.376000022888183, 6.600000023841858, 6.843000030517578, 7.02900002002716, 7.3135000467300415, 7.566500043869018, 7.768000054359436, 8.006500077247619, 8.241500091552734, 8.42500011920929, 8.552500104904174, 8.655500125885009, 8.73400013446808, 8.824500131607056, 8.896000146865845, 8.996500134468079, 9.359500122070312, 9.656000137329102, 9.900500154495239, 10.140000152587891, 10.318500137329101, 10.550000143051147, 10.742000150680543, 11.000000143051148, 11.165000104904175, 11.36800012588501, 11.656500101089478, 11.905500078201294, 12.073500061035157, 12.190500020980835, 12.27150001525879, 12.369499969482423, 12.423499965667725, 12.487999963760377, 12.609999942779542, 12.687499952316283, 12.585499954223632, 12.577499914169312, 12.561999893188476, 12.522999906539917, 12.497999906539917, 12.36299991607666, 12.247999906539917, 12.155499935150146, 12.04399995803833, 11.917499923706055, 11.794999933242797, 11.680499935150147, 11.702999925613403, 11.751999950408935, 11.898499965667725, 12.115999984741212, 12.42049994468689, 12.672999954223632, 12.923499965667725, 13.184000015258789, 13.456500005722045, 13.68100004196167, 13.953500080108643, 14.081500053405762, 14.200000047683716, 14.309000062942506, 14.394500064849854, 14.484000062942505, 14.595000076293946, 14.758000087738036, 14.916500091552734, 15.057500076293945, 15.335500049591065, 15.680500030517578, 15.950500011444092, 16.196000003814696, 16.33699998855591, 16.509999990463257, 16.62300000190735, 16.67949995994568, 16.703000020980834, 16.803500032424928, 16.860500001907347, 17.062000036239624, 17.35300006866455, 17.685000085830687, 18.619000053405763, 19.922000026702882, 21.004500007629396, 22.23100004196167, 23.405499982833863, 24.780499935150146, 27.058000087738037, 29.869000148773193, 36.26049995422363, 52.58650045394897, 61.29750080108643, 76.58450078964233, 86.89250078201295, 90.53000078201293, 94.28200092315674, 96.03900089263917, 98.32350091934204, 100.43900089263916, 101.95750093460083, 103.52000093460083, 104.50500087738037, 105.1295009613037]}],                        {\"template\": {\"data\": {\"bar\": [{\"error_x\": {\"color\": \"#f2f5fa\"}, \"error_y\": {\"color\": \"#f2f5fa\"}, \"marker\": {\"line\": {\"color\": \"rgb(17,17,17)\", \"width\": 0.5}}, \"type\": \"bar\"}], \"barpolar\": [{\"marker\": {\"line\": {\"color\": \"rgb(17,17,17)\", \"width\": 0.5}}, \"type\": \"barpolar\"}], \"carpet\": [{\"aaxis\": {\"endlinecolor\": \"#A2B1C6\", \"gridcolor\": \"#506784\", \"linecolor\": \"#506784\", \"minorgridcolor\": \"#506784\", \"startlinecolor\": \"#A2B1C6\"}, \"baxis\": {\"endlinecolor\": \"#A2B1C6\", \"gridcolor\": \"#506784\", \"linecolor\": \"#506784\", \"minorgridcolor\": \"#506784\", \"startlinecolor\": \"#A2B1C6\"}, \"type\": \"carpet\"}], \"choropleth\": [{\"colorbar\": {\"outlinewidth\": 0, \"ticks\": \"\"}, \"type\": \"choropleth\"}], \"contour\": [{\"colorbar\": {\"outlinewidth\": 0, \"ticks\": \"\"}, \"colorscale\": [[0.0, \"#0d0887\"], [0.1111111111111111, \"#46039f\"], [0.2222222222222222, \"#7201a8\"], [0.3333333333333333, \"#9c179e\"], [0.4444444444444444, \"#bd3786\"], [0.5555555555555556, \"#d8576b\"], [0.6666666666666666, \"#ed7953\"], [0.7777777777777778, \"#fb9f3a\"], [0.8888888888888888, \"#fdca26\"], [1.0, \"#f0f921\"]], \"type\": \"contour\"}], \"contourcarpet\": [{\"colorbar\": {\"outlinewidth\": 0, \"ticks\": \"\"}, \"type\": \"contourcarpet\"}], \"heatmap\": [{\"colorbar\": {\"outlinewidth\": 0, \"ticks\": \"\"}, \"colorscale\": [[0.0, \"#0d0887\"], [0.1111111111111111, \"#46039f\"], [0.2222222222222222, \"#7201a8\"], [0.3333333333333333, \"#9c179e\"], [0.4444444444444444, \"#bd3786\"], [0.5555555555555556, \"#d8576b\"], [0.6666666666666666, \"#ed7953\"], [0.7777777777777778, \"#fb9f3a\"], [0.8888888888888888, \"#fdca26\"], [1.0, \"#f0f921\"]], \"type\": \"heatmap\"}], \"heatmapgl\": [{\"colorbar\": {\"outlinewidth\": 0, \"ticks\": \"\"}, \"colorscale\": [[0.0, \"#0d0887\"], [0.1111111111111111, \"#46039f\"], [0.2222222222222222, \"#7201a8\"], [0.3333333333333333, \"#9c179e\"], [0.4444444444444444, \"#bd3786\"], [0.5555555555555556, \"#d8576b\"], [0.6666666666666666, \"#ed7953\"], [0.7777777777777778, \"#fb9f3a\"], [0.8888888888888888, \"#fdca26\"], [1.0, \"#f0f921\"]], \"type\": \"heatmapgl\"}], \"histogram\": [{\"marker\": {\"colorbar\": {\"outlinewidth\": 0, \"ticks\": \"\"}}, \"type\": \"histogram\"}], \"histogram2d\": [{\"colorbar\": {\"outlinewidth\": 0, \"ticks\": \"\"}, \"colorscale\": [[0.0, \"#0d0887\"], [0.1111111111111111, \"#46039f\"], [0.2222222222222222, \"#7201a8\"], [0.3333333333333333, \"#9c179e\"], [0.4444444444444444, \"#bd3786\"], [0.5555555555555556, \"#d8576b\"], [0.6666666666666666, \"#ed7953\"], [0.7777777777777778, \"#fb9f3a\"], [0.8888888888888888, \"#fdca26\"], [1.0, \"#f0f921\"]], \"type\": \"histogram2d\"}], \"histogram2dcontour\": [{\"colorbar\": {\"outlinewidth\": 0, \"ticks\": \"\"}, \"colorscale\": [[0.0, \"#0d0887\"], [0.1111111111111111, \"#46039f\"], [0.2222222222222222, \"#7201a8\"], [0.3333333333333333, \"#9c179e\"], [0.4444444444444444, \"#bd3786\"], [0.5555555555555556, \"#d8576b\"], [0.6666666666666666, \"#ed7953\"], [0.7777777777777778, \"#fb9f3a\"], [0.8888888888888888, \"#fdca26\"], [1.0, \"#f0f921\"]], \"type\": \"histogram2dcontour\"}], \"mesh3d\": [{\"colorbar\": {\"outlinewidth\": 0, \"ticks\": \"\"}, \"type\": \"mesh3d\"}], \"parcoords\": [{\"line\": {\"colorbar\": {\"outlinewidth\": 0, \"ticks\": \"\"}}, \"type\": \"parcoords\"}], \"pie\": [{\"automargin\": true, \"type\": \"pie\"}], \"scatter\": [{\"marker\": {\"line\": {\"color\": \"#283442\"}}, \"type\": \"scatter\"}], \"scatter3d\": [{\"line\": {\"colorbar\": {\"outlinewidth\": 0, \"ticks\": \"\"}}, \"marker\": {\"colorbar\": {\"outlinewidth\": 0, \"ticks\": \"\"}}, \"type\": \"scatter3d\"}], \"scattercarpet\": [{\"marker\": {\"colorbar\": {\"outlinewidth\": 0, \"ticks\": \"\"}}, \"type\": \"scattercarpet\"}], \"scattergeo\": [{\"marker\": {\"colorbar\": {\"outlinewidth\": 0, \"ticks\": \"\"}}, \"type\": \"scattergeo\"}], \"scattergl\": [{\"marker\": {\"line\": {\"color\": \"#283442\"}}, \"type\": \"scattergl\"}], \"scattermapbox\": [{\"marker\": {\"colorbar\": {\"outlinewidth\": 0, \"ticks\": \"\"}}, \"type\": \"scattermapbox\"}], \"scatterpolar\": [{\"marker\": {\"colorbar\": {\"outlinewidth\": 0, \"ticks\": \"\"}}, \"type\": \"scatterpolar\"}], \"scatterpolargl\": [{\"marker\": {\"colorbar\": {\"outlinewidth\": 0, \"ticks\": \"\"}}, \"type\": \"scatterpolargl\"}], \"scatterternary\": [{\"marker\": {\"colorbar\": {\"outlinewidth\": 0, \"ticks\": \"\"}}, \"type\": \"scatterternary\"}], \"surface\": [{\"colorbar\": {\"outlinewidth\": 0, \"ticks\": \"\"}, \"colorscale\": [[0.0, \"#0d0887\"], [0.1111111111111111, \"#46039f\"], [0.2222222222222222, \"#7201a8\"], [0.3333333333333333, \"#9c179e\"], [0.4444444444444444, \"#bd3786\"], [0.5555555555555556, \"#d8576b\"], [0.6666666666666666, \"#ed7953\"], [0.7777777777777778, \"#fb9f3a\"], [0.8888888888888888, \"#fdca26\"], [1.0, \"#f0f921\"]], \"type\": \"surface\"}], \"table\": [{\"cells\": {\"fill\": {\"color\": \"#506784\"}, \"line\": {\"color\": \"rgb(17,17,17)\"}}, \"header\": {\"fill\": {\"color\": \"#2a3f5f\"}, \"line\": {\"color\": \"rgb(17,17,17)\"}}, \"type\": \"table\"}]}, \"layout\": {\"annotationdefaults\": {\"arrowcolor\": \"#f2f5fa\", \"arrowhead\": 0, \"arrowwidth\": 1}, \"autotypenumbers\": \"strict\", \"coloraxis\": {\"colorbar\": {\"outlinewidth\": 0, \"ticks\": \"\"}}, \"colorscale\": {\"diverging\": [[0, \"#8e0152\"], [0.1, \"#c51b7d\"], [0.2, \"#de77ae\"], [0.3, \"#f1b6da\"], [0.4, \"#fde0ef\"], [0.5, \"#f7f7f7\"], [0.6, \"#e6f5d0\"], [0.7, \"#b8e186\"], [0.8, \"#7fbc41\"], [0.9, \"#4d9221\"], [1, \"#276419\"]], \"sequential\": [[0.0, \"#0d0887\"], [0.1111111111111111, \"#46039f\"], [0.2222222222222222, \"#7201a8\"], [0.3333333333333333, \"#9c179e\"], [0.4444444444444444, \"#bd3786\"], [0.5555555555555556, \"#d8576b\"], [0.6666666666666666, \"#ed7953\"], [0.7777777777777778, \"#fb9f3a\"], [0.8888888888888888, \"#fdca26\"], [1.0, \"#f0f921\"]], \"sequentialminus\": [[0.0, \"#0d0887\"], [0.1111111111111111, \"#46039f\"], [0.2222222222222222, \"#7201a8\"], [0.3333333333333333, \"#9c179e\"], [0.4444444444444444, \"#bd3786\"], [0.5555555555555556, \"#d8576b\"], [0.6666666666666666, \"#ed7953\"], [0.7777777777777778, \"#fb9f3a\"], [0.8888888888888888, \"#fdca26\"], [1.0, \"#f0f921\"]]}, \"colorway\": [\"#636efa\", \"#EF553B\", \"#00cc96\", \"#ab63fa\", \"#FFA15A\", \"#19d3f3\", \"#FF6692\", \"#B6E880\", \"#FF97FF\", \"#FECB52\"], \"font\": {\"color\": \"#f2f5fa\"}, \"geo\": {\"bgcolor\": \"rgb(17,17,17)\", \"lakecolor\": \"rgb(17,17,17)\", \"landcolor\": \"rgb(17,17,17)\", \"showlakes\": true, \"showland\": true, \"subunitcolor\": \"#506784\"}, \"hoverlabel\": {\"align\": \"left\"}, \"hovermode\": \"closest\", \"mapbox\": {\"style\": \"dark\"}, \"paper_bgcolor\": \"rgb(17,17,17)\", \"plot_bgcolor\": \"rgb(17,17,17)\", \"polar\": {\"angularaxis\": {\"gridcolor\": \"#506784\", \"linecolor\": \"#506784\", \"ticks\": \"\"}, \"bgcolor\": \"rgb(17,17,17)\", \"radialaxis\": {\"gridcolor\": \"#506784\", \"linecolor\": \"#506784\", \"ticks\": \"\"}}, \"scene\": {\"xaxis\": {\"backgroundcolor\": \"rgb(17,17,17)\", \"gridcolor\": \"#506784\", \"gridwidth\": 2, \"linecolor\": \"#506784\", \"showbackground\": true, \"ticks\": \"\", \"zerolinecolor\": \"#C8D4E3\"}, \"yaxis\": {\"backgroundcolor\": \"rgb(17,17,17)\", \"gridcolor\": \"#506784\", \"gridwidth\": 2, \"linecolor\": \"#506784\", \"showbackground\": true, \"ticks\": \"\", \"zerolinecolor\": \"#C8D4E3\"}, \"zaxis\": {\"backgroundcolor\": \"rgb(17,17,17)\", \"gridcolor\": \"#506784\", \"gridwidth\": 2, \"linecolor\": \"#506784\", \"showbackground\": true, \"ticks\": \"\", \"zerolinecolor\": \"#C8D4E3\"}}, \"shapedefaults\": {\"line\": {\"color\": \"#f2f5fa\"}}, \"sliderdefaults\": {\"bgcolor\": \"#C8D4E3\", \"bordercolor\": \"rgb(17,17,17)\", \"borderwidth\": 1, \"tickwidth\": 0}, \"ternary\": {\"aaxis\": {\"gridcolor\": \"#506784\", \"linecolor\": \"#506784\", \"ticks\": \"\"}, \"baxis\": {\"gridcolor\": \"#506784\", \"linecolor\": \"#506784\", \"ticks\": \"\"}, \"bgcolor\": \"rgb(17,17,17)\", \"caxis\": {\"gridcolor\": \"#506784\", \"linecolor\": \"#506784\", \"ticks\": \"\"}}, \"title\": {\"x\": 0.05}, \"updatemenudefaults\": {\"bgcolor\": \"#506784\", \"borderwidth\": 0}, \"xaxis\": {\"automargin\": true, \"gridcolor\": \"#283442\", \"linecolor\": \"#506784\", \"ticks\": \"\", \"title\": {\"standoff\": 15}, \"zerolinecolor\": \"#283442\", \"zerolinewidth\": 2}, \"yaxis\": {\"automargin\": true, \"gridcolor\": \"#283442\", \"linecolor\": \"#506784\", \"ticks\": \"\", \"title\": {\"standoff\": 15}, \"zerolinecolor\": \"#283442\", \"zerolinewidth\": 2}}}, \"title\": {\"text\": \"GameStopo Stock Price\", \"x\": 0.5, \"xanchor\": \"center\"}},                        {\"responsive\": true}                    ).then(function(){\n",
       "                            \n",
       "var gd = document.getElementById('38cd0681-995a-4165-a82b-0b9182209a83');\n",
       "var x = new MutationObserver(function (mutations, observer) {{\n",
       "        var display = window.getComputedStyle(gd).display;\n",
       "        if (!display || display === 'none') {{\n",
       "            console.log([gd, 'removed!']);\n",
       "            Plotly.purge(gd);\n",
       "            observer.disconnect();\n",
       "        }}\n",
       "}});\n",
       "\n",
       "// Listen for the removal of the full notebook cells\n",
       "var notebookContainer = gd.closest('#notebook-container');\n",
       "if (notebookContainer) {{\n",
       "    x.observe(notebookContainer, {childList: true});\n",
       "}}\n",
       "\n",
       "// Listen for the clearing of the current output cell\n",
       "var outputEl = gd.closest('.output');\n",
       "if (outputEl) {{\n",
       "    x.observe(outputEl, {childList: true});\n",
       "}}\n",
       "\n",
       "                        })                };                });            </script>        </div>"
      ]
     },
     "metadata": {},
     "output_type": "display_data"
    }
   ],
   "source": [
    "gmstp['10-day MA'] = gmstp['Close'].rolling(window=10).mean()\n",
    "gmstp['20-day MA'] = gmstp['Close'].rolling(window=20).mean()\n",
    "gmstp['50-day MA'] = gmstp['Close'].rolling(window=50).mean()\n",
    "\n",
    "trace0 = go.Scatter(x=gmstp.Date, y=gmstp.Close, name='GME')\n",
    "trace1 = go.Scatter(x=gmstp.Date, y=gmstp['10-day MA'], name='10-day MA')\n",
    "trace2 = go.Scatter(x=gmstp.Date, y=gmstp['20-day MA'], name='20-day MA')\n",
    "fig1 = go.Figure([trace0, trace1, trace2])\n",
    "fig1.update_layout(\n",
    "    title={\n",
    "        'text': \"GameStop Stock Price\",\n",
    "        'x':0.5,\n",
    "        'xanchor': 'center'})\n",
    "fig1.show()"
   ]
  },
  {
   "cell_type": "code",
   "execution_count": 13,
   "metadata": {},
   "outputs": [
    {
     "data": {
      "application/vnd.plotly.v1+json": {
       "config": {
        "plotlyServerURL": "https://plot.ly"
       },
       "data": [
        {
         "close": [
          4.369999885559082,
          4.230000019073486,
          3.7699999809265137,
          4.190000057220459,
          3.759999990463257,
          3.809999942779541,
          4.159999847412109,
          4.170000076293945,
          4.409999847412109,
          4.21999979019165,
          3.6500000953674316,
          3.5,
          3.25,
          2.8499999046325684,
          2.799999952316284,
          3.0899999141693115,
          3.2699999809265137,
          3.4100000858306885,
          3.890000104904175,
          4.739999771118164,
          5.949999809265137,
          5.269999980926514,
          5.03000020980835,
          4.880000114440918,
          5.610000133514404,
          4.78000020980835,
          4.889999866485596,
          4.699999809265137,
          4.769999980926514,
          5.820000171661377,
          5.639999866485596,
          6.039999961853027,
          5.730000019073486,
          6.050000190734863,
          5.480000019073486,
          5.389999866485596,
          4.929999828338623,
          4.869999885559082,
          4.980000019073486,
          4.760000228881836,
          4.539999961853027,
          4.210000038146973,
          4.130000114440918,
          4.21999979019165,
          4.579999923706055,
          4.440000057220459,
          4.429999828338623,
          4.440000057220459,
          4.179999828338623,
          4.420000076293945,
          4.690000057220459,
          4.329999923706055,
          4.059999942779541,
          4.130000114440918,
          4.179999828338623,
          4.440000057220459,
          4.46999979019165,
          4.139999866485596,
          5.010000228881836,
          4.960000038146973,
          5.070000171661377,
          4.369999885559082,
          4.71999979019165,
          4.690000057220459,
          4.639999866485596,
          4.760000228881836,
          4.949999809265137,
          4.880000114440918,
          4.869999885559082,
          4.829999923706055,
          4.409999847412109,
          4.460000038146973,
          4.349999904632568,
          4.380000114440918,
          4.340000152587891,
          4.440000057220459,
          4.289999961853027,
          4.239999771118164,
          4.090000152587891,
          4.260000228881836,
          4.210000038146973,
          4.340000152587891,
          4.260000228881836,
          4.079999923706055,
          4.190000057220459,
          4.170000076293945,
          3.9600000381469727,
          3.8499999046325684,
          4.010000228881836,
          4.110000133514404,
          4.110000133514404,
          4.03000020980835,
          4.010000228881836,
          3.940000057220459,
          4.059999942779541,
          4.099999904632568,
          4.010000228881836,
          4.150000095367432,
          4.429999828338623,
          4.630000114440918,
          4.429999828338623,
          4.159999847412109,
          4.329999923706055,
          4.349999904632568,
          4.519999980926514,
          4.639999866485596,
          4.75,
          4.630000114440918,
          4.809999942779541,
          4.71999979019165,
          4.610000133514404,
          5.03000020980835,
          4.869999885559082,
          4.980000019073486,
          5.110000133514404,
          5.25,
          5.389999866485596,
          6.679999828338623,
          7.650000095367432,
          7.710000038146973,
          7.820000171661377,
          7.650000095367432,
          7.699999809265137,
          7.349999904632568,
          6.230000019073486,
          6.090000152587891,
          6.909999847412109,
          7.090000152587891,
          8.680000305175781,
          9.199999809265137,
          9.470000267028809,
          8.75,
          10.5600004196167,
          10.039999961853027,
          9.140000343322754,
          10.020000457763672,
          10.09000015258789,
          10.350000381469727,
          10.199999809265137,
          9.770000457763672,
          9.390000343322754,
          9.460000038146973,
          9.130000114440918,
          9.359999656677246,
          13.489999771118164,
          12.020000457763672,
          11.800000190734863,
          11.880000114440918,
          12.25,
          13.829999923706055,
          13.3100004196167,
          13.90999984741211,
          13.859999656677246,
          14.100000381469727,
          14.90999984741211,
          15,
          13.449999809265137,
          12.6899995803833,
          11.819999694824219,
          11.729999542236328,
          10.470000267028809,
          10.75,
          11.569999694824219,
          10.90999984741211,
          11.449999809265137,
          11.859999656677246,
          11.489999771118164,
          11.100000381469727,
          11.75,
          11.130000114440918,
          11.010000228881836,
          12.0600004196167,
          11.630000114440918,
          11.569999694824219,
          12.460000038146973,
          12.710000038146973,
          13.899999618530273,
          13.670000076293945,
          14.75,
          16.079999923706055,
          16.559999465942383,
          15.800000190734863,
          16.579999923706055,
          16.1200008392334,
          16.899999618530273,
          16.350000381469727,
          16.940000534057617,
          13.65999984741211,
          14.119999885559082,
          13.3100004196167,
          12.720000267028809,
          13.850000381469727,
          13.850000381469727,
          14.829999923706055,
          15.630000114440918,
          15.529999732971191,
          19.459999084472656,
          20.56999969482422,
          20.149999618530273,
          20.989999771118164,
          19.3799991607666,
          19.260000228881836,
          18.84000015258789,
          17.25,
          17.3700008392334,
          18.360000610351562,
          18.079999923706055,
          17.690000534057617,
          19.940000534057617,
          19.950000762939453,
          31.399999618530273,
          39.90999984741211,
          35.5,
          39.36000061035156,
          39.119998931884766,
          43.029998779296875,
          65.01000213623047,
          76.79000091552734,
          147.97999572753906,
          347.510009765625,
          193.60000610351562,
          325,
          225,
          90,
          92.41000366210938,
          53.5,
          63.77000045776367,
          60,
          50.310001373291016,
          51.20000076293945,
          51.099998474121094,
          52.400001525878906
         ],
         "high": [
          4.570000171661377,
          4.650000095367432,
          4.25,
          4.199999809265137,
          4.079999923706055,
          3.859999895095825,
          4.210000038146973,
          4.489999771118164,
          4.710000038146973,
          5.090000152587891,
          4.269999980926514,
          3.799999952316284,
          3.490000009536743,
          3.3499999046325684,
          2.940000057220459,
          3.200000047683716,
          3.440000057220459,
          3.6700000762939453,
          4.25,
          4.760000228881836,
          6.46999979019165,
          5.670000076293945,
          5.440000057220459,
          5.28000020980835,
          5.900000095367432,
          5.300000190734863,
          5.170000076293945,
          4.889999866485596,
          4.849999904632568,
          5.989999771118164,
          6.039999961853027,
          6.090000152587891,
          5.980000019073486,
          6.179999828338623,
          5.929999828338623,
          5.630000114440918,
          5.400000095367432,
          4.929999828338623,
          5.190000057220459,
          4.960000038146973,
          4.920000076293945,
          4.539999961853027,
          4.190000057220459,
          4.449999809265137,
          4.630000114440918,
          4.75,
          4.690000057220459,
          4.650000095367432,
          4.489999771118164,
          4.610000133514404,
          4.710000038146973,
          4.760000228881836,
          4.420000076293945,
          4.360000133514404,
          4.309999942779541,
          4.519999980926514,
          4.71999979019165,
          4.409999847412109,
          5.139999866485596,
          5,
          5.53000020980835,
          4.900000095367432,
          4.78000020980835,
          4.769999980926514,
          4.949999809265137,
          4.829999923706055,
          4.949999809265137,
          5.079999923706055,
          4.949999809265137,
          4.989999771118164,
          4.840000152587891,
          4.539999961853027,
          4.5,
          4.519999980926514,
          4.510000228881836,
          4.5,
          4.510000228881836,
          4.340000152587891,
          4.25,
          4.289999961853027,
          4.320000171661377,
          4.380000114440918,
          4.550000190734863,
          4.309999942779541,
          4.289999961853027,
          4.199999809265137,
          4.230000019073486,
          4.059999942779541,
          4.090000152587891,
          4.119999885559082,
          4.309999942779541,
          4.230000019073486,
          4.119999885559082,
          4.050000190734863,
          4.179999828338623,
          4.230000019073486,
          4.159999847412109,
          4.25,
          4.739999771118164,
          4.760000228881836,
          4.659999847412109,
          4.400000095367432,
          4.570000171661377,
          4.570000171661377,
          4.630000114440918,
          4.710000038146973,
          4.829999923706055,
          4.78000020980835,
          4.869999885559082,
          4.840000152587891,
          4.679999828338623,
          5.599999904632568,
          5.130000114440918,
          5.25,
          5.21999979019165,
          5.380000114440918,
          5.570000171661377,
          7.150000095367432,
          7.820000171661377,
          8.050000190734863,
          8.449999809265137,
          7.920000076293945,
          8.279999732971191,
          7.989999771118164,
          6.949999809265137,
          6.329999923706055,
          7,
          7.260000228881836,
          9.039999961853027,
          9.770000457763672,
          9.770000457763672,
          9.600000381469727,
          11.170000076293945,
          10.859999656677246,
          9.8100004196167,
          10.180000305175781,
          10.260000228881836,
          10.649999618530273,
          10.760000228881836,
          10.25,
          9.779999732971191,
          9.59000015258789,
          9.84000015258789,
          9.5600004196167,
          13.640000343322754,
          14.800000190734863,
          12.770000457763672,
          12.420000076293945,
          12.680000305175781,
          15.100000381469727,
          13.899999618530273,
          14.5,
          14.140000343322754,
          14.420000076293945,
          15.869999885559082,
          15.380000114440918,
          15.449999809265137,
          13.710000038146973,
          13.050000190734863,
          12.25,
          11.640000343322754,
          11.09000015258789,
          11.859999656677246,
          11.770000457763672,
          11.84000015258789,
          12.170000076293945,
          12.930000305175781,
          11.65999984741211,
          11.949999809265137,
          11.869999885559082,
          11.550000190734863,
          12.65999984741211,
          11.920000076293945,
          12.039999961853027,
          12.789999961853027,
          13.460000038146973,
          14.119999885559082,
          14.260000228881836,
          15.25,
          16.739999771118164,
          19.420000076293945,
          17.399999618530273,
          16.68000030517578,
          16.639999389648438,
          17.290000915527344,
          17.5,
          17.209999084472656,
          14.729999542236328,
          14.40999984741211,
          14,
          13.430000305175781,
          14.020000457763672,
          14.3100004196167,
          14.979999542236328,
          16.299999237060547,
          16.350000381469727,
          20.040000915527344,
          22.350000381469727,
          21.479999542236328,
          21.969999313354492,
          21.06999969482422,
          20,
          19.799999237060547,
          19.100000381469727,
          18.079999923706055,
          18.979999542236328,
          19.450000762939453,
          18.299999237060547,
          20.649999618530273,
          20.399999618530273,
          38.650001525878906,
          43.060001373291016,
          40.75,
          45.52000045776367,
          41.189998626708984,
          44.75,
          76.76000213623047,
          159.17999267578125,
          150,
          380,
          483,
          413.9800109863281,
          322,
          158,
          113.4000015258789,
          91.5,
          95,
          72.66000366210938,
          57,
          62.83000183105469,
          55.31999969482422,
          55.2400016784668
         ],
         "low": [
          3.9000000953674316,
          4.110000133514404,
          3.5,
          3.549999952316284,
          3.6500000953674316,
          3.5,
          3.890000104904175,
          4.039999961853027,
          4.239999771118164,
          4.150000095367432,
          3.6500000953674316,
          3.5,
          3.119999885559082,
          2.8499999046325684,
          2.569999933242798,
          2.8299999237060547,
          3.0999999046325684,
          3.200000047683716,
          3.490000009536743,
          4.159999847412109,
          5.139999866485596,
          4.900000095367432,
          4.880000114440918,
          4.429999828338623,
          4.78000020980835,
          4.760000228881836,
          4.829999923706055,
          4.579999923706055,
          4.659999847412109,
          4.809999942779541,
          5.059999942779541,
          5.449999809265137,
          5.639999866485596,
          5.449999809265137,
          5.400000095367432,
          5.349999904632568,
          4.900000095367432,
          4.650000095367432,
          4.820000171661377,
          4.75,
          4.460000038146973,
          4.070000171661377,
          3.9600000381469727,
          4.039999961853027,
          4.360000133514404,
          4.369999885559082,
          4.340000152587891,
          4.400000095367432,
          4.130000114440918,
          4.329999923706055,
          4.360000133514404,
          4.300000190734863,
          4.050000190734863,
          4.019999980926514,
          4.059999942779541,
          4.199999809265137,
          4.369999885559082,
          4.090000152587891,
          4.269999980926514,
          4.550000190734863,
          4.679999828338623,
          4.179999828338623,
          4.389999866485596,
          4.420000076293945,
          4.510000228881836,
          4.53000020980835,
          4.650000095367432,
          4.690000057220459,
          4.71999979019165,
          4.800000190734863,
          4.380000114440918,
          4.300000190734863,
          4.269999980926514,
          4.300000190734863,
          4.199999809265137,
          4.309999942779541,
          4.289999961853027,
          4.190000057220459,
          4.059999942779541,
          4.03000020980835,
          4.130000114440918,
          4.179999828338623,
          4.260000228881836,
          4.070000171661377,
          4.130000114440918,
          4.090000152587891,
          3.940000057220459,
          3.7699999809265137,
          3.880000114440918,
          3.9200000762939453,
          4.059999942779541,
          4.010000228881836,
          3.950000047683716,
          3.9200000762939453,
          3.9200000762939453,
          3.9700000286102295,
          3.990000009536743,
          4,
          4.130000114440918,
          4.25,
          4.380000114440918,
          4.059999942779541,
          4.179999828338623,
          4.340000152587891,
          4.360000133514404,
          4.5,
          4.550000190734863,
          4.559999942779541,
          4.429999828338623,
          4.639999866485596,
          4.510000228881836,
          4.599999904632568,
          4.559999942779541,
          4.880000114440918,
          4.920000076293945,
          5.019999980926514,
          5.21999979019165,
          5.690000057220459,
          6.769999980926514,
          7.110000133514404,
          7.239999771118164,
          7.170000076293945,
          7.480000019073486,
          7.309999942779541,
          6.190000057220459,
          5.869999885559082,
          6.429999828338623,
          6.690000057220459,
          7.03000020980835,
          8.40999984741211,
          8.90999984741211,
          8.380000114440918,
          9.899999618530273,
          9.920000076293945,
          9.010000228881836,
          9.100000381469727,
          9.550000190734863,
          9.930000305175781,
          10.0600004196167,
          9.6899995803833,
          9.300000190734863,
          9.25,
          9.100000381469727,
          9.170000076293945,
          9.1899995803833,
          11.899999618530273,
          11.399999618530273,
          11.649999618530273,
          12.050000190734863,
          11.989999771118164,
          13.079999923706055,
          13.380000114440918,
          13.670000076293945,
          13.800000190734863,
          14.1899995803833,
          14.550000190734863,
          13.260000228881836,
          12.359999656677246,
          11.779999732971191,
          11.680000305175781,
          10.359999656677246,
          10.5,
          10.630000114440918,
          10.609999656677246,
          11.0600004196167,
          11.319999694824219,
          11.25,
          10.829999923706055,
          11.210000038146973,
          10.970000267028809,
          11,
          10.720000267028809,
          11.229999542236328,
          11.5600004196167,
          11.449999809265137,
          12.539999961853027,
          12.670000076293945,
          13.300000190734863,
          13.420000076293945,
          14.880000114440918,
          16.559999465942383,
          15.760000228881836,
          15.380000114440918,
          15.869999885559082,
          16.260000228881836,
          16.219999313354492,
          15.930000305175781,
          13.229999542236328,
          13.050000190734863,
          13.020000457763672,
          12.140000343322754,
          12.479999542236328,
          13.579999923706055,
          13.59000015258789,
          15.180000305175781,
          15.279999732971191,
          16.149999618530273,
          19.1299991607666,
          19.950000762939453,
          20.350000381469727,
          18.559999465942383,
          18.850000381469727,
          18.799999237060547,
          17.149999618530273,
          17.229999542236328,
          17.329999923706055,
          18.020000457763672,
          17.079999923706055,
          19.010000228881836,
          19.31999969482422,
          20.030000686645508,
          33.04999923706055,
          34.0099983215332,
          36.63999938964844,
          36.060001373291016,
          37,
          42.31999969482422,
          61.130001068115234,
          80.19999694824219,
          249,
          112.25,
          250,
          212,
          74.22000122070312,
          85.25,
          53.33000183105469,
          51.09000015258789,
          58.02000045776367,
          46.52000045776367,
          46.54999923706055,
          48.220001220703125,
          48.04999923706055
         ],
         "open": [
          3.930000066757202,
          4.400000095367432,
          4.099999904632568,
          3.7100000381469727,
          4.079999923706055,
          3.5799999237060547,
          3.950000047683716,
          4.150000095367432,
          4.239999771118164,
          4.940000057220459,
          4.21999979019165,
          3.630000114440918,
          3.450000047683716,
          3.259999990463257,
          2.8499999046325684,
          2.859999895095825,
          3.390000104904175,
          3.2300000190734863,
          3.5999999046325684,
          4.25,
          5.210000038146973,
          5.659999847412109,
          5.119999885559082,
          5.21999979019165,
          4.849999904632568,
          5.230000019073486,
          5.139999866485596,
          4.75,
          4.78000020980835,
          4.849999904632568,
          5.920000076293945,
          5.829999923706055,
          5.869999885559082,
          5.650000095367432,
          5.840000152587891,
          5.550000190734863,
          5.400000095367432,
          4.829999923706055,
          4.880000114440918,
          4.920000076293945,
          4.78000020980835,
          4.539999961853027,
          4.150000095367432,
          4.050000190734863,
          4.400000095367432,
          4.579999923706055,
          4.5,
          4.449999809265137,
          4.460000038146973,
          4.340000152587891,
          4.570000171661377,
          4.75,
          4.329999923706055,
          4.119999885559082,
          4.269999980926514,
          4.239999771118164,
          4.440000057220459,
          4.289999961853027,
          4.28000020980835,
          5,
          4.78000020980835,
          4.639999866485596,
          4.599999904632568,
          4.5,
          4.949999809265137,
          4.539999961853027,
          4.670000076293945,
          4.949999809265137,
          4.789999961853027,
          4.949999809265137,
          4.829999923706055,
          4.329999923706055,
          4.480000019073486,
          4.349999904632568,
          4.329999923706055,
          4.309999942779541,
          4.489999771118164,
          4.309999942779541,
          4.199999809265137,
          4.099999904632568,
          4.269999980926514,
          4.199999809265137,
          4.349999904632568,
          4.21999979019165,
          4.130000114440918,
          4.190000057220459,
          4.159999847412109,
          3.950000047683716,
          3.9000000953674316,
          4.019999980926514,
          4.090000152587891,
          4.059999942779541,
          4.019999980926514,
          3.9600000381469727,
          3.940000057220459,
          4,
          4.059999942779541,
          4.03000020980835,
          4.130000114440918,
          4.5,
          4.599999904632568,
          4.389999866485596,
          4.199999809265137,
          4.429999828338623,
          4.400000095367432,
          4.519999980926514,
          4.599999904632568,
          4.78000020980835,
          4.610000133514404,
          4.800000190734863,
          4.619999885559082,
          4.599999904632568,
          5.099999904632568,
          4.880000114440918,
          4.96999979019165,
          5.110000133514404,
          5.300000190734863,
          5.769999980926514,
          7.300000190734863,
          7.800000190734863,
          7.880000114440918,
          7.78000020980835,
          7.550000190734863,
          7.960000038146973,
          6.650000095367432,
          6.260000228881836,
          6.800000190734863,
          6.860000133514404,
          7.03000020980835,
          8.569999694824219,
          9.199999809265137,
          9.350000381469727,
          10.449999809265137,
          10.600000381469727,
          9.710000038146973,
          9.1899995803833,
          10.15999984741211,
          10,
          10.25,
          10.09000015258789,
          9.380000114440918,
          9.4399995803833,
          9.5600004196167,
          9.229999542236328,
          9.539999961853027,
          12.829999923706055,
          11.65999984741211,
          11.729999542236328,
          12.670000076293945,
          11.989999771118164,
          13.770000457763672,
          13.4399995803833,
          14.029999732971191,
          13.899999618530273,
          14.199999809265137,
          15.050000190734863,
          14.930000305175781,
          13.710000038146973,
          12.270000457763672,
          11.880000114440918,
          11.640000343322754,
          10.819999694824219,
          10.75,
          11.760000228881836,
          11.270000457763672,
          11.520000457763672,
          12.760000228881836,
          11.5,
          11.5,
          11.739999771118164,
          11.359999656677246,
          11.15999984741211,
          11.649999618530273,
          11.800000190734863,
          11.600000381469727,
          12.550000190734863,
          12.899999618530273,
          14.229999542236328,
          13.600000381469727,
          15.289999961853027,
          18.170000076293945,
          17.110000610351562,
          15.699999809265137,
          16.479999542236328,
          16.299999237060547,
          17,
          16.3700008392334,
          13.920000076293945,
          13.119999885559082,
          13.90999984741211,
          13.34000015258789,
          12.779999732971191,
          13.960000038146973,
          13.960000038146973,
          15.779999732971191,
          15.8100004196167,
          16.219999313354492,
          20.170000076293945,
          21.010000228881836,
          21.309999465942383,
          20.81999969482422,
          19.3799991607666,
          19.25,
          19,
          17.350000381469727,
          17.34000015258789,
          18.469999313354492,
          18.18000030517578,
          19.40999984741211,
          19.959999084472656,
          20.420000076293945,
          38.09000015258789,
          38.4900016784668,
          41.54999923706055,
          37.369998931884766,
          39.22999954223633,
          42.59000015258789,
          96.7300033569336,
          88.55999755859375,
          354.8299865722656,
          265,
          379.7099914550781,
          316.55999755859375,
          140.75999450683594,
          112.01000213623047,
          91.19000244140625,
          54.040000915527344,
          72.41000366210938,
          56.61000061035156,
          50.77000045776367,
          50.0099983215332,
          50.75
         ],
         "type": "candlestick",
         "x": [
          "2020-03-16T00:00:00",
          "2020-03-17T00:00:00",
          "2020-03-18T00:00:00",
          "2020-03-19T00:00:00",
          "2020-03-20T00:00:00",
          "2020-03-23T00:00:00",
          "2020-03-24T00:00:00",
          "2020-03-25T00:00:00",
          "2020-03-26T00:00:00",
          "2020-03-27T00:00:00",
          "2020-03-30T00:00:00",
          "2020-03-31T00:00:00",
          "2020-04-01T00:00:00",
          "2020-04-02T00:00:00",
          "2020-04-03T00:00:00",
          "2020-04-06T00:00:00",
          "2020-04-07T00:00:00",
          "2020-04-08T00:00:00",
          "2020-04-09T00:00:00",
          "2020-04-13T00:00:00",
          "2020-04-14T00:00:00",
          "2020-04-15T00:00:00",
          "2020-04-16T00:00:00",
          "2020-04-17T00:00:00",
          "2020-04-20T00:00:00",
          "2020-04-21T00:00:00",
          "2020-04-22T00:00:00",
          "2020-04-23T00:00:00",
          "2020-04-24T00:00:00",
          "2020-04-27T00:00:00",
          "2020-04-28T00:00:00",
          "2020-04-29T00:00:00",
          "2020-04-30T00:00:00",
          "2020-05-01T00:00:00",
          "2020-05-04T00:00:00",
          "2020-05-05T00:00:00",
          "2020-05-06T00:00:00",
          "2020-05-07T00:00:00",
          "2020-05-08T00:00:00",
          "2020-05-11T00:00:00",
          "2020-05-12T00:00:00",
          "2020-05-13T00:00:00",
          "2020-05-14T00:00:00",
          "2020-05-15T00:00:00",
          "2020-05-18T00:00:00",
          "2020-05-19T00:00:00",
          "2020-05-20T00:00:00",
          "2020-05-21T00:00:00",
          "2020-05-22T00:00:00",
          "2020-05-26T00:00:00",
          "2020-05-27T00:00:00",
          "2020-05-28T00:00:00",
          "2020-05-29T00:00:00",
          "2020-06-01T00:00:00",
          "2020-06-02T00:00:00",
          "2020-06-03T00:00:00",
          "2020-06-04T00:00:00",
          "2020-06-05T00:00:00",
          "2020-06-08T00:00:00",
          "2020-06-09T00:00:00",
          "2020-06-10T00:00:00",
          "2020-06-11T00:00:00",
          "2020-06-12T00:00:00",
          "2020-06-15T00:00:00",
          "2020-06-16T00:00:00",
          "2020-06-17T00:00:00",
          "2020-06-18T00:00:00",
          "2020-06-19T00:00:00",
          "2020-06-22T00:00:00",
          "2020-06-23T00:00:00",
          "2020-06-24T00:00:00",
          "2020-06-25T00:00:00",
          "2020-06-26T00:00:00",
          "2020-06-29T00:00:00",
          "2020-06-30T00:00:00",
          "2020-07-01T00:00:00",
          "2020-07-02T00:00:00",
          "2020-07-06T00:00:00",
          "2020-07-07T00:00:00",
          "2020-07-08T00:00:00",
          "2020-07-09T00:00:00",
          "2020-07-10T00:00:00",
          "2020-07-13T00:00:00",
          "2020-07-14T00:00:00",
          "2020-07-15T00:00:00",
          "2020-07-16T00:00:00",
          "2020-07-17T00:00:00",
          "2020-07-20T00:00:00",
          "2020-07-21T00:00:00",
          "2020-07-22T00:00:00",
          "2020-07-23T00:00:00",
          "2020-07-24T00:00:00",
          "2020-07-27T00:00:00",
          "2020-07-28T00:00:00",
          "2020-07-29T00:00:00",
          "2020-07-30T00:00:00",
          "2020-07-31T00:00:00",
          "2020-08-03T00:00:00",
          "2020-08-04T00:00:00",
          "2020-08-05T00:00:00",
          "2020-08-06T00:00:00",
          "2020-08-07T00:00:00",
          "2020-08-10T00:00:00",
          "2020-08-11T00:00:00",
          "2020-08-12T00:00:00",
          "2020-08-13T00:00:00",
          "2020-08-14T00:00:00",
          "2020-08-17T00:00:00",
          "2020-08-18T00:00:00",
          "2020-08-19T00:00:00",
          "2020-08-20T00:00:00",
          "2020-08-21T00:00:00",
          "2020-08-24T00:00:00",
          "2020-08-25T00:00:00",
          "2020-08-26T00:00:00",
          "2020-08-27T00:00:00",
          "2020-08-28T00:00:00",
          "2020-08-31T00:00:00",
          "2020-09-01T00:00:00",
          "2020-09-02T00:00:00",
          "2020-09-03T00:00:00",
          "2020-09-04T00:00:00",
          "2020-09-08T00:00:00",
          "2020-09-09T00:00:00",
          "2020-09-10T00:00:00",
          "2020-09-11T00:00:00",
          "2020-09-14T00:00:00",
          "2020-09-15T00:00:00",
          "2020-09-16T00:00:00",
          "2020-09-17T00:00:00",
          "2020-09-18T00:00:00",
          "2020-09-21T00:00:00",
          "2020-09-22T00:00:00",
          "2020-09-23T00:00:00",
          "2020-09-24T00:00:00",
          "2020-09-25T00:00:00",
          "2020-09-28T00:00:00",
          "2020-09-29T00:00:00",
          "2020-09-30T00:00:00",
          "2020-10-01T00:00:00",
          "2020-10-02T00:00:00",
          "2020-10-05T00:00:00",
          "2020-10-06T00:00:00",
          "2020-10-07T00:00:00",
          "2020-10-08T00:00:00",
          "2020-10-09T00:00:00",
          "2020-10-12T00:00:00",
          "2020-10-13T00:00:00",
          "2020-10-14T00:00:00",
          "2020-10-15T00:00:00",
          "2020-10-16T00:00:00",
          "2020-10-19T00:00:00",
          "2020-10-20T00:00:00",
          "2020-10-21T00:00:00",
          "2020-10-22T00:00:00",
          "2020-10-23T00:00:00",
          "2020-10-26T00:00:00",
          "2020-10-27T00:00:00",
          "2020-10-28T00:00:00",
          "2020-10-29T00:00:00",
          "2020-10-30T00:00:00",
          "2020-11-02T00:00:00",
          "2020-11-03T00:00:00",
          "2020-11-04T00:00:00",
          "2020-11-05T00:00:00",
          "2020-11-06T00:00:00",
          "2020-11-09T00:00:00",
          "2020-11-10T00:00:00",
          "2020-11-11T00:00:00",
          "2020-11-12T00:00:00",
          "2020-11-13T00:00:00",
          "2020-11-16T00:00:00",
          "2020-11-17T00:00:00",
          "2020-11-18T00:00:00",
          "2020-11-19T00:00:00",
          "2020-11-20T00:00:00",
          "2020-11-23T00:00:00",
          "2020-11-24T00:00:00",
          "2020-11-25T00:00:00",
          "2020-11-27T00:00:00",
          "2020-11-30T00:00:00",
          "2020-12-01T00:00:00",
          "2020-12-02T00:00:00",
          "2020-12-03T00:00:00",
          "2020-12-04T00:00:00",
          "2020-12-07T00:00:00",
          "2020-12-08T00:00:00",
          "2020-12-09T00:00:00",
          "2020-12-10T00:00:00",
          "2020-12-11T00:00:00",
          "2020-12-14T00:00:00",
          "2020-12-15T00:00:00",
          "2020-12-16T00:00:00",
          "2020-12-17T00:00:00",
          "2020-12-18T00:00:00",
          "2020-12-21T00:00:00",
          "2020-12-22T00:00:00",
          "2020-12-23T00:00:00",
          "2020-12-24T00:00:00",
          "2020-12-28T00:00:00",
          "2020-12-29T00:00:00",
          "2020-12-30T00:00:00",
          "2020-12-31T00:00:00",
          "2021-01-04T00:00:00",
          "2021-01-05T00:00:00",
          "2021-01-06T00:00:00",
          "2021-01-07T00:00:00",
          "2021-01-08T00:00:00",
          "2021-01-11T00:00:00",
          "2021-01-12T00:00:00",
          "2021-01-13T00:00:00",
          "2021-01-14T00:00:00",
          "2021-01-15T00:00:00",
          "2021-01-19T00:00:00",
          "2021-01-20T00:00:00",
          "2021-01-21T00:00:00",
          "2021-01-22T00:00:00",
          "2021-01-25T00:00:00",
          "2021-01-26T00:00:00",
          "2021-01-27T00:00:00",
          "2021-01-28T00:00:00",
          "2021-01-29T00:00:00",
          "2021-02-01T00:00:00",
          "2021-02-02T00:00:00",
          "2021-02-03T00:00:00",
          "2021-02-04T00:00:00",
          "2021-02-05T00:00:00",
          "2021-02-08T00:00:00",
          "2021-02-09T00:00:00",
          "2021-02-10T00:00:00",
          "2021-02-11T00:00:00",
          "2021-02-12T00:00:00"
         ]
        }
       ],
       "layout": {
        "template": {
         "data": {
          "bar": [
           {
            "error_x": {
             "color": "#f2f5fa"
            },
            "error_y": {
             "color": "#f2f5fa"
            },
            "marker": {
             "line": {
              "color": "rgb(17,17,17)",
              "width": 0.5
             }
            },
            "type": "bar"
           }
          ],
          "barpolar": [
           {
            "marker": {
             "line": {
              "color": "rgb(17,17,17)",
              "width": 0.5
             }
            },
            "type": "barpolar"
           }
          ],
          "carpet": [
           {
            "aaxis": {
             "endlinecolor": "#A2B1C6",
             "gridcolor": "#506784",
             "linecolor": "#506784",
             "minorgridcolor": "#506784",
             "startlinecolor": "#A2B1C6"
            },
            "baxis": {
             "endlinecolor": "#A2B1C6",
             "gridcolor": "#506784",
             "linecolor": "#506784",
             "minorgridcolor": "#506784",
             "startlinecolor": "#A2B1C6"
            },
            "type": "carpet"
           }
          ],
          "choropleth": [
           {
            "colorbar": {
             "outlinewidth": 0,
             "ticks": ""
            },
            "type": "choropleth"
           }
          ],
          "contour": [
           {
            "colorbar": {
             "outlinewidth": 0,
             "ticks": ""
            },
            "colorscale": [
             [
              0,
              "#0d0887"
             ],
             [
              0.1111111111111111,
              "#46039f"
             ],
             [
              0.2222222222222222,
              "#7201a8"
             ],
             [
              0.3333333333333333,
              "#9c179e"
             ],
             [
              0.4444444444444444,
              "#bd3786"
             ],
             [
              0.5555555555555556,
              "#d8576b"
             ],
             [
              0.6666666666666666,
              "#ed7953"
             ],
             [
              0.7777777777777778,
              "#fb9f3a"
             ],
             [
              0.8888888888888888,
              "#fdca26"
             ],
             [
              1,
              "#f0f921"
             ]
            ],
            "type": "contour"
           }
          ],
          "contourcarpet": [
           {
            "colorbar": {
             "outlinewidth": 0,
             "ticks": ""
            },
            "type": "contourcarpet"
           }
          ],
          "heatmap": [
           {
            "colorbar": {
             "outlinewidth": 0,
             "ticks": ""
            },
            "colorscale": [
             [
              0,
              "#0d0887"
             ],
             [
              0.1111111111111111,
              "#46039f"
             ],
             [
              0.2222222222222222,
              "#7201a8"
             ],
             [
              0.3333333333333333,
              "#9c179e"
             ],
             [
              0.4444444444444444,
              "#bd3786"
             ],
             [
              0.5555555555555556,
              "#d8576b"
             ],
             [
              0.6666666666666666,
              "#ed7953"
             ],
             [
              0.7777777777777778,
              "#fb9f3a"
             ],
             [
              0.8888888888888888,
              "#fdca26"
             ],
             [
              1,
              "#f0f921"
             ]
            ],
            "type": "heatmap"
           }
          ],
          "heatmapgl": [
           {
            "colorbar": {
             "outlinewidth": 0,
             "ticks": ""
            },
            "colorscale": [
             [
              0,
              "#0d0887"
             ],
             [
              0.1111111111111111,
              "#46039f"
             ],
             [
              0.2222222222222222,
              "#7201a8"
             ],
             [
              0.3333333333333333,
              "#9c179e"
             ],
             [
              0.4444444444444444,
              "#bd3786"
             ],
             [
              0.5555555555555556,
              "#d8576b"
             ],
             [
              0.6666666666666666,
              "#ed7953"
             ],
             [
              0.7777777777777778,
              "#fb9f3a"
             ],
             [
              0.8888888888888888,
              "#fdca26"
             ],
             [
              1,
              "#f0f921"
             ]
            ],
            "type": "heatmapgl"
           }
          ],
          "histogram": [
           {
            "marker": {
             "colorbar": {
              "outlinewidth": 0,
              "ticks": ""
             }
            },
            "type": "histogram"
           }
          ],
          "histogram2d": [
           {
            "colorbar": {
             "outlinewidth": 0,
             "ticks": ""
            },
            "colorscale": [
             [
              0,
              "#0d0887"
             ],
             [
              0.1111111111111111,
              "#46039f"
             ],
             [
              0.2222222222222222,
              "#7201a8"
             ],
             [
              0.3333333333333333,
              "#9c179e"
             ],
             [
              0.4444444444444444,
              "#bd3786"
             ],
             [
              0.5555555555555556,
              "#d8576b"
             ],
             [
              0.6666666666666666,
              "#ed7953"
             ],
             [
              0.7777777777777778,
              "#fb9f3a"
             ],
             [
              0.8888888888888888,
              "#fdca26"
             ],
             [
              1,
              "#f0f921"
             ]
            ],
            "type": "histogram2d"
           }
          ],
          "histogram2dcontour": [
           {
            "colorbar": {
             "outlinewidth": 0,
             "ticks": ""
            },
            "colorscale": [
             [
              0,
              "#0d0887"
             ],
             [
              0.1111111111111111,
              "#46039f"
             ],
             [
              0.2222222222222222,
              "#7201a8"
             ],
             [
              0.3333333333333333,
              "#9c179e"
             ],
             [
              0.4444444444444444,
              "#bd3786"
             ],
             [
              0.5555555555555556,
              "#d8576b"
             ],
             [
              0.6666666666666666,
              "#ed7953"
             ],
             [
              0.7777777777777778,
              "#fb9f3a"
             ],
             [
              0.8888888888888888,
              "#fdca26"
             ],
             [
              1,
              "#f0f921"
             ]
            ],
            "type": "histogram2dcontour"
           }
          ],
          "mesh3d": [
           {
            "colorbar": {
             "outlinewidth": 0,
             "ticks": ""
            },
            "type": "mesh3d"
           }
          ],
          "parcoords": [
           {
            "line": {
             "colorbar": {
              "outlinewidth": 0,
              "ticks": ""
             }
            },
            "type": "parcoords"
           }
          ],
          "pie": [
           {
            "automargin": true,
            "type": "pie"
           }
          ],
          "scatter": [
           {
            "marker": {
             "line": {
              "color": "#283442"
             }
            },
            "type": "scatter"
           }
          ],
          "scatter3d": [
           {
            "line": {
             "colorbar": {
              "outlinewidth": 0,
              "ticks": ""
             }
            },
            "marker": {
             "colorbar": {
              "outlinewidth": 0,
              "ticks": ""
             }
            },
            "type": "scatter3d"
           }
          ],
          "scattercarpet": [
           {
            "marker": {
             "colorbar": {
              "outlinewidth": 0,
              "ticks": ""
             }
            },
            "type": "scattercarpet"
           }
          ],
          "scattergeo": [
           {
            "marker": {
             "colorbar": {
              "outlinewidth": 0,
              "ticks": ""
             }
            },
            "type": "scattergeo"
           }
          ],
          "scattergl": [
           {
            "marker": {
             "line": {
              "color": "#283442"
             }
            },
            "type": "scattergl"
           }
          ],
          "scattermapbox": [
           {
            "marker": {
             "colorbar": {
              "outlinewidth": 0,
              "ticks": ""
             }
            },
            "type": "scattermapbox"
           }
          ],
          "scatterpolar": [
           {
            "marker": {
             "colorbar": {
              "outlinewidth": 0,
              "ticks": ""
             }
            },
            "type": "scatterpolar"
           }
          ],
          "scatterpolargl": [
           {
            "marker": {
             "colorbar": {
              "outlinewidth": 0,
              "ticks": ""
             }
            },
            "type": "scatterpolargl"
           }
          ],
          "scatterternary": [
           {
            "marker": {
             "colorbar": {
              "outlinewidth": 0,
              "ticks": ""
             }
            },
            "type": "scatterternary"
           }
          ],
          "surface": [
           {
            "colorbar": {
             "outlinewidth": 0,
             "ticks": ""
            },
            "colorscale": [
             [
              0,
              "#0d0887"
             ],
             [
              0.1111111111111111,
              "#46039f"
             ],
             [
              0.2222222222222222,
              "#7201a8"
             ],
             [
              0.3333333333333333,
              "#9c179e"
             ],
             [
              0.4444444444444444,
              "#bd3786"
             ],
             [
              0.5555555555555556,
              "#d8576b"
             ],
             [
              0.6666666666666666,
              "#ed7953"
             ],
             [
              0.7777777777777778,
              "#fb9f3a"
             ],
             [
              0.8888888888888888,
              "#fdca26"
             ],
             [
              1,
              "#f0f921"
             ]
            ],
            "type": "surface"
           }
          ],
          "table": [
           {
            "cells": {
             "fill": {
              "color": "#506784"
             },
             "line": {
              "color": "rgb(17,17,17)"
             }
            },
            "header": {
             "fill": {
              "color": "#2a3f5f"
             },
             "line": {
              "color": "rgb(17,17,17)"
             }
            },
            "type": "table"
           }
          ]
         },
         "layout": {
          "annotationdefaults": {
           "arrowcolor": "#f2f5fa",
           "arrowhead": 0,
           "arrowwidth": 1
          },
          "autotypenumbers": "strict",
          "coloraxis": {
           "colorbar": {
            "outlinewidth": 0,
            "ticks": ""
           }
          },
          "colorscale": {
           "diverging": [
            [
             0,
             "#8e0152"
            ],
            [
             0.1,
             "#c51b7d"
            ],
            [
             0.2,
             "#de77ae"
            ],
            [
             0.3,
             "#f1b6da"
            ],
            [
             0.4,
             "#fde0ef"
            ],
            [
             0.5,
             "#f7f7f7"
            ],
            [
             0.6,
             "#e6f5d0"
            ],
            [
             0.7,
             "#b8e186"
            ],
            [
             0.8,
             "#7fbc41"
            ],
            [
             0.9,
             "#4d9221"
            ],
            [
             1,
             "#276419"
            ]
           ],
           "sequential": [
            [
             0,
             "#0d0887"
            ],
            [
             0.1111111111111111,
             "#46039f"
            ],
            [
             0.2222222222222222,
             "#7201a8"
            ],
            [
             0.3333333333333333,
             "#9c179e"
            ],
            [
             0.4444444444444444,
             "#bd3786"
            ],
            [
             0.5555555555555556,
             "#d8576b"
            ],
            [
             0.6666666666666666,
             "#ed7953"
            ],
            [
             0.7777777777777778,
             "#fb9f3a"
            ],
            [
             0.8888888888888888,
             "#fdca26"
            ],
            [
             1,
             "#f0f921"
            ]
           ],
           "sequentialminus": [
            [
             0,
             "#0d0887"
            ],
            [
             0.1111111111111111,
             "#46039f"
            ],
            [
             0.2222222222222222,
             "#7201a8"
            ],
            [
             0.3333333333333333,
             "#9c179e"
            ],
            [
             0.4444444444444444,
             "#bd3786"
            ],
            [
             0.5555555555555556,
             "#d8576b"
            ],
            [
             0.6666666666666666,
             "#ed7953"
            ],
            [
             0.7777777777777778,
             "#fb9f3a"
            ],
            [
             0.8888888888888888,
             "#fdca26"
            ],
            [
             1,
             "#f0f921"
            ]
           ]
          },
          "colorway": [
           "#636efa",
           "#EF553B",
           "#00cc96",
           "#ab63fa",
           "#FFA15A",
           "#19d3f3",
           "#FF6692",
           "#B6E880",
           "#FF97FF",
           "#FECB52"
          ],
          "font": {
           "color": "#f2f5fa"
          },
          "geo": {
           "bgcolor": "rgb(17,17,17)",
           "lakecolor": "rgb(17,17,17)",
           "landcolor": "rgb(17,17,17)",
           "showlakes": true,
           "showland": true,
           "subunitcolor": "#506784"
          },
          "hoverlabel": {
           "align": "left"
          },
          "hovermode": "closest",
          "mapbox": {
           "style": "dark"
          },
          "paper_bgcolor": "rgb(17,17,17)",
          "plot_bgcolor": "rgb(17,17,17)",
          "polar": {
           "angularaxis": {
            "gridcolor": "#506784",
            "linecolor": "#506784",
            "ticks": ""
           },
           "bgcolor": "rgb(17,17,17)",
           "radialaxis": {
            "gridcolor": "#506784",
            "linecolor": "#506784",
            "ticks": ""
           }
          },
          "scene": {
           "xaxis": {
            "backgroundcolor": "rgb(17,17,17)",
            "gridcolor": "#506784",
            "gridwidth": 2,
            "linecolor": "#506784",
            "showbackground": true,
            "ticks": "",
            "zerolinecolor": "#C8D4E3"
           },
           "yaxis": {
            "backgroundcolor": "rgb(17,17,17)",
            "gridcolor": "#506784",
            "gridwidth": 2,
            "linecolor": "#506784",
            "showbackground": true,
            "ticks": "",
            "zerolinecolor": "#C8D4E3"
           },
           "zaxis": {
            "backgroundcolor": "rgb(17,17,17)",
            "gridcolor": "#506784",
            "gridwidth": 2,
            "linecolor": "#506784",
            "showbackground": true,
            "ticks": "",
            "zerolinecolor": "#C8D4E3"
           }
          },
          "shapedefaults": {
           "line": {
            "color": "#f2f5fa"
           }
          },
          "sliderdefaults": {
           "bgcolor": "#C8D4E3",
           "bordercolor": "rgb(17,17,17)",
           "borderwidth": 1,
           "tickwidth": 0
          },
          "ternary": {
           "aaxis": {
            "gridcolor": "#506784",
            "linecolor": "#506784",
            "ticks": ""
           },
           "baxis": {
            "gridcolor": "#506784",
            "linecolor": "#506784",
            "ticks": ""
           },
           "bgcolor": "rgb(17,17,17)",
           "caxis": {
            "gridcolor": "#506784",
            "linecolor": "#506784",
            "ticks": ""
           }
          },
          "title": {
           "x": 0.05
          },
          "updatemenudefaults": {
           "bgcolor": "#506784",
           "borderwidth": 0
          },
          "xaxis": {
           "automargin": true,
           "gridcolor": "#283442",
           "linecolor": "#506784",
           "ticks": "",
           "title": {
            "standoff": 15
           },
           "zerolinecolor": "#283442",
           "zerolinewidth": 2
          },
          "yaxis": {
           "automargin": true,
           "gridcolor": "#283442",
           "linecolor": "#506784",
           "ticks": "",
           "title": {
            "standoff": 15
           },
           "zerolinecolor": "#283442",
           "zerolinewidth": 2
          }
         }
        },
        "title": {
         "text": "GameStop Stock Price (Candle Stick)",
         "x": 0.5,
         "xanchor": "center"
        }
       }
      },
      "text/html": [
       "<div>                            <div id=\"f075ddc2-547b-49fe-9d29-f01a9145da29\" class=\"plotly-graph-div\" style=\"height:525px; width:100%;\"></div>            <script type=\"text/javascript\">                require([\"plotly\"], function(Plotly) {                    window.PLOTLYENV=window.PLOTLYENV || {};                                    if (document.getElementById(\"f075ddc2-547b-49fe-9d29-f01a9145da29\")) {                    Plotly.newPlot(                        \"f075ddc2-547b-49fe-9d29-f01a9145da29\",                        [{\"close\": [4.369999885559082, 4.230000019073486, 3.7699999809265137, 4.190000057220459, 3.759999990463257, 3.809999942779541, 4.159999847412109, 4.170000076293945, 4.409999847412109, 4.21999979019165, 3.6500000953674316, 3.5, 3.25, 2.8499999046325684, 2.799999952316284, 3.0899999141693115, 3.2699999809265137, 3.4100000858306885, 3.890000104904175, 4.739999771118164, 5.949999809265137, 5.269999980926514, 5.03000020980835, 4.880000114440918, 5.610000133514404, 4.78000020980835, 4.889999866485596, 4.699999809265137, 4.769999980926514, 5.820000171661377, 5.639999866485596, 6.039999961853027, 5.730000019073486, 6.050000190734863, 5.480000019073486, 5.389999866485596, 4.929999828338623, 4.869999885559082, 4.980000019073486, 4.760000228881836, 4.539999961853027, 4.210000038146973, 4.130000114440918, 4.21999979019165, 4.579999923706055, 4.440000057220459, 4.429999828338623, 4.440000057220459, 4.179999828338623, 4.420000076293945, 4.690000057220459, 4.329999923706055, 4.059999942779541, 4.130000114440918, 4.179999828338623, 4.440000057220459, 4.46999979019165, 4.139999866485596, 5.010000228881836, 4.960000038146973, 5.070000171661377, 4.369999885559082, 4.71999979019165, 4.690000057220459, 4.639999866485596, 4.760000228881836, 4.949999809265137, 4.880000114440918, 4.869999885559082, 4.829999923706055, 4.409999847412109, 4.460000038146973, 4.349999904632568, 4.380000114440918, 4.340000152587891, 4.440000057220459, 4.289999961853027, 4.239999771118164, 4.090000152587891, 4.260000228881836, 4.210000038146973, 4.340000152587891, 4.260000228881836, 4.079999923706055, 4.190000057220459, 4.170000076293945, 3.9600000381469727, 3.8499999046325684, 4.010000228881836, 4.110000133514404, 4.110000133514404, 4.03000020980835, 4.010000228881836, 3.940000057220459, 4.059999942779541, 4.099999904632568, 4.010000228881836, 4.150000095367432, 4.429999828338623, 4.630000114440918, 4.429999828338623, 4.159999847412109, 4.329999923706055, 4.349999904632568, 4.519999980926514, 4.639999866485596, 4.75, 4.630000114440918, 4.809999942779541, 4.71999979019165, 4.610000133514404, 5.03000020980835, 4.869999885559082, 4.980000019073486, 5.110000133514404, 5.25, 5.389999866485596, 6.679999828338623, 7.650000095367432, 7.710000038146973, 7.820000171661377, 7.650000095367432, 7.699999809265137, 7.349999904632568, 6.230000019073486, 6.090000152587891, 6.909999847412109, 7.090000152587891, 8.680000305175781, 9.199999809265137, 9.470000267028809, 8.75, 10.5600004196167, 10.039999961853027, 9.140000343322754, 10.020000457763672, 10.09000015258789, 10.350000381469727, 10.199999809265137, 9.770000457763672, 9.390000343322754, 9.460000038146973, 9.130000114440918, 9.359999656677246, 13.489999771118164, 12.020000457763672, 11.800000190734863, 11.880000114440918, 12.25, 13.829999923706055, 13.3100004196167, 13.90999984741211, 13.859999656677246, 14.100000381469727, 14.90999984741211, 15.0, 13.449999809265137, 12.6899995803833, 11.819999694824219, 11.729999542236328, 10.470000267028809, 10.75, 11.569999694824219, 10.90999984741211, 11.449999809265137, 11.859999656677246, 11.489999771118164, 11.100000381469727, 11.75, 11.130000114440918, 11.010000228881836, 12.0600004196167, 11.630000114440918, 11.569999694824219, 12.460000038146973, 12.710000038146973, 13.899999618530273, 13.670000076293945, 14.75, 16.079999923706055, 16.559999465942383, 15.800000190734863, 16.579999923706055, 16.1200008392334, 16.899999618530273, 16.350000381469727, 16.940000534057617, 13.65999984741211, 14.119999885559082, 13.3100004196167, 12.720000267028809, 13.850000381469727, 13.850000381469727, 14.829999923706055, 15.630000114440918, 15.529999732971191, 19.459999084472656, 20.56999969482422, 20.149999618530273, 20.989999771118164, 19.3799991607666, 19.260000228881836, 18.84000015258789, 17.25, 17.3700008392334, 18.360000610351562, 18.079999923706055, 17.690000534057617, 19.940000534057617, 19.950000762939453, 31.399999618530273, 39.90999984741211, 35.5, 39.36000061035156, 39.119998931884766, 43.029998779296875, 65.01000213623047, 76.79000091552734, 147.97999572753906, 347.510009765625, 193.60000610351562, 325.0, 225.0, 90.0, 92.41000366210938, 53.5, 63.77000045776367, 60.0, 50.310001373291016, 51.20000076293945, 51.099998474121094, 52.400001525878906], \"high\": [4.570000171661377, 4.650000095367432, 4.25, 4.199999809265137, 4.079999923706055, 3.859999895095825, 4.210000038146973, 4.489999771118164, 4.710000038146973, 5.090000152587891, 4.269999980926514, 3.799999952316284, 3.490000009536743, 3.3499999046325684, 2.940000057220459, 3.200000047683716, 3.440000057220459, 3.6700000762939453, 4.25, 4.760000228881836, 6.46999979019165, 5.670000076293945, 5.440000057220459, 5.28000020980835, 5.900000095367432, 5.300000190734863, 5.170000076293945, 4.889999866485596, 4.849999904632568, 5.989999771118164, 6.039999961853027, 6.090000152587891, 5.980000019073486, 6.179999828338623, 5.929999828338623, 5.630000114440918, 5.400000095367432, 4.929999828338623, 5.190000057220459, 4.960000038146973, 4.920000076293945, 4.539999961853027, 4.190000057220459, 4.449999809265137, 4.630000114440918, 4.75, 4.690000057220459, 4.650000095367432, 4.489999771118164, 4.610000133514404, 4.710000038146973, 4.760000228881836, 4.420000076293945, 4.360000133514404, 4.309999942779541, 4.519999980926514, 4.71999979019165, 4.409999847412109, 5.139999866485596, 5.0, 5.53000020980835, 4.900000095367432, 4.78000020980835, 4.769999980926514, 4.949999809265137, 4.829999923706055, 4.949999809265137, 5.079999923706055, 4.949999809265137, 4.989999771118164, 4.840000152587891, 4.539999961853027, 4.5, 4.519999980926514, 4.510000228881836, 4.5, 4.510000228881836, 4.340000152587891, 4.25, 4.289999961853027, 4.320000171661377, 4.380000114440918, 4.550000190734863, 4.309999942779541, 4.289999961853027, 4.199999809265137, 4.230000019073486, 4.059999942779541, 4.090000152587891, 4.119999885559082, 4.309999942779541, 4.230000019073486, 4.119999885559082, 4.050000190734863, 4.179999828338623, 4.230000019073486, 4.159999847412109, 4.25, 4.739999771118164, 4.760000228881836, 4.659999847412109, 4.400000095367432, 4.570000171661377, 4.570000171661377, 4.630000114440918, 4.710000038146973, 4.829999923706055, 4.78000020980835, 4.869999885559082, 4.840000152587891, 4.679999828338623, 5.599999904632568, 5.130000114440918, 5.25, 5.21999979019165, 5.380000114440918, 5.570000171661377, 7.150000095367432, 7.820000171661377, 8.050000190734863, 8.449999809265137, 7.920000076293945, 8.279999732971191, 7.989999771118164, 6.949999809265137, 6.329999923706055, 7.0, 7.260000228881836, 9.039999961853027, 9.770000457763672, 9.770000457763672, 9.600000381469727, 11.170000076293945, 10.859999656677246, 9.8100004196167, 10.180000305175781, 10.260000228881836, 10.649999618530273, 10.760000228881836, 10.25, 9.779999732971191, 9.59000015258789, 9.84000015258789, 9.5600004196167, 13.640000343322754, 14.800000190734863, 12.770000457763672, 12.420000076293945, 12.680000305175781, 15.100000381469727, 13.899999618530273, 14.5, 14.140000343322754, 14.420000076293945, 15.869999885559082, 15.380000114440918, 15.449999809265137, 13.710000038146973, 13.050000190734863, 12.25, 11.640000343322754, 11.09000015258789, 11.859999656677246, 11.770000457763672, 11.84000015258789, 12.170000076293945, 12.930000305175781, 11.65999984741211, 11.949999809265137, 11.869999885559082, 11.550000190734863, 12.65999984741211, 11.920000076293945, 12.039999961853027, 12.789999961853027, 13.460000038146973, 14.119999885559082, 14.260000228881836, 15.25, 16.739999771118164, 19.420000076293945, 17.399999618530273, 16.68000030517578, 16.639999389648438, 17.290000915527344, 17.5, 17.209999084472656, 14.729999542236328, 14.40999984741211, 14.0, 13.430000305175781, 14.020000457763672, 14.3100004196167, 14.979999542236328, 16.299999237060547, 16.350000381469727, 20.040000915527344, 22.350000381469727, 21.479999542236328, 21.969999313354492, 21.06999969482422, 20.0, 19.799999237060547, 19.100000381469727, 18.079999923706055, 18.979999542236328, 19.450000762939453, 18.299999237060547, 20.649999618530273, 20.399999618530273, 38.650001525878906, 43.060001373291016, 40.75, 45.52000045776367, 41.189998626708984, 44.75, 76.76000213623047, 159.17999267578125, 150.0, 380.0, 483.0, 413.9800109863281, 322.0, 158.0, 113.4000015258789, 91.5, 95.0, 72.66000366210938, 57.0, 62.83000183105469, 55.31999969482422, 55.2400016784668], \"low\": [3.9000000953674316, 4.110000133514404, 3.5, 3.549999952316284, 3.6500000953674316, 3.5, 3.890000104904175, 4.039999961853027, 4.239999771118164, 4.150000095367432, 3.6500000953674316, 3.5, 3.119999885559082, 2.8499999046325684, 2.569999933242798, 2.8299999237060547, 3.0999999046325684, 3.200000047683716, 3.490000009536743, 4.159999847412109, 5.139999866485596, 4.900000095367432, 4.880000114440918, 4.429999828338623, 4.78000020980835, 4.760000228881836, 4.829999923706055, 4.579999923706055, 4.659999847412109, 4.809999942779541, 5.059999942779541, 5.449999809265137, 5.639999866485596, 5.449999809265137, 5.400000095367432, 5.349999904632568, 4.900000095367432, 4.650000095367432, 4.820000171661377, 4.75, 4.460000038146973, 4.070000171661377, 3.9600000381469727, 4.039999961853027, 4.360000133514404, 4.369999885559082, 4.340000152587891, 4.400000095367432, 4.130000114440918, 4.329999923706055, 4.360000133514404, 4.300000190734863, 4.050000190734863, 4.019999980926514, 4.059999942779541, 4.199999809265137, 4.369999885559082, 4.090000152587891, 4.269999980926514, 4.550000190734863, 4.679999828338623, 4.179999828338623, 4.389999866485596, 4.420000076293945, 4.510000228881836, 4.53000020980835, 4.650000095367432, 4.690000057220459, 4.71999979019165, 4.800000190734863, 4.380000114440918, 4.300000190734863, 4.269999980926514, 4.300000190734863, 4.199999809265137, 4.309999942779541, 4.289999961853027, 4.190000057220459, 4.059999942779541, 4.03000020980835, 4.130000114440918, 4.179999828338623, 4.260000228881836, 4.070000171661377, 4.130000114440918, 4.090000152587891, 3.940000057220459, 3.7699999809265137, 3.880000114440918, 3.9200000762939453, 4.059999942779541, 4.010000228881836, 3.950000047683716, 3.9200000762939453, 3.9200000762939453, 3.9700000286102295, 3.990000009536743, 4.0, 4.130000114440918, 4.25, 4.380000114440918, 4.059999942779541, 4.179999828338623, 4.340000152587891, 4.360000133514404, 4.5, 4.550000190734863, 4.559999942779541, 4.429999828338623, 4.639999866485596, 4.510000228881836, 4.599999904632568, 4.559999942779541, 4.880000114440918, 4.920000076293945, 5.019999980926514, 5.21999979019165, 5.690000057220459, 6.769999980926514, 7.110000133514404, 7.239999771118164, 7.170000076293945, 7.480000019073486, 7.309999942779541, 6.190000057220459, 5.869999885559082, 6.429999828338623, 6.690000057220459, 7.03000020980835, 8.40999984741211, 8.90999984741211, 8.380000114440918, 9.899999618530273, 9.920000076293945, 9.010000228881836, 9.100000381469727, 9.550000190734863, 9.930000305175781, 10.0600004196167, 9.6899995803833, 9.300000190734863, 9.25, 9.100000381469727, 9.170000076293945, 9.1899995803833, 11.899999618530273, 11.399999618530273, 11.649999618530273, 12.050000190734863, 11.989999771118164, 13.079999923706055, 13.380000114440918, 13.670000076293945, 13.800000190734863, 14.1899995803833, 14.550000190734863, 13.260000228881836, 12.359999656677246, 11.779999732971191, 11.680000305175781, 10.359999656677246, 10.5, 10.630000114440918, 10.609999656677246, 11.0600004196167, 11.319999694824219, 11.25, 10.829999923706055, 11.210000038146973, 10.970000267028809, 11.0, 10.720000267028809, 11.229999542236328, 11.5600004196167, 11.449999809265137, 12.539999961853027, 12.670000076293945, 13.300000190734863, 13.420000076293945, 14.880000114440918, 16.559999465942383, 15.760000228881836, 15.380000114440918, 15.869999885559082, 16.260000228881836, 16.219999313354492, 15.930000305175781, 13.229999542236328, 13.050000190734863, 13.020000457763672, 12.140000343322754, 12.479999542236328, 13.579999923706055, 13.59000015258789, 15.180000305175781, 15.279999732971191, 16.149999618530273, 19.1299991607666, 19.950000762939453, 20.350000381469727, 18.559999465942383, 18.850000381469727, 18.799999237060547, 17.149999618530273, 17.229999542236328, 17.329999923706055, 18.020000457763672, 17.079999923706055, 19.010000228881836, 19.31999969482422, 20.030000686645508, 33.04999923706055, 34.0099983215332, 36.63999938964844, 36.060001373291016, 37.0, 42.31999969482422, 61.130001068115234, 80.19999694824219, 249.0, 112.25, 250.0, 212.0, 74.22000122070312, 85.25, 53.33000183105469, 51.09000015258789, 58.02000045776367, 46.52000045776367, 46.54999923706055, 48.220001220703125, 48.04999923706055], \"open\": [3.930000066757202, 4.400000095367432, 4.099999904632568, 3.7100000381469727, 4.079999923706055, 3.5799999237060547, 3.950000047683716, 4.150000095367432, 4.239999771118164, 4.940000057220459, 4.21999979019165, 3.630000114440918, 3.450000047683716, 3.259999990463257, 2.8499999046325684, 2.859999895095825, 3.390000104904175, 3.2300000190734863, 3.5999999046325684, 4.25, 5.210000038146973, 5.659999847412109, 5.119999885559082, 5.21999979019165, 4.849999904632568, 5.230000019073486, 5.139999866485596, 4.75, 4.78000020980835, 4.849999904632568, 5.920000076293945, 5.829999923706055, 5.869999885559082, 5.650000095367432, 5.840000152587891, 5.550000190734863, 5.400000095367432, 4.829999923706055, 4.880000114440918, 4.920000076293945, 4.78000020980835, 4.539999961853027, 4.150000095367432, 4.050000190734863, 4.400000095367432, 4.579999923706055, 4.5, 4.449999809265137, 4.460000038146973, 4.340000152587891, 4.570000171661377, 4.75, 4.329999923706055, 4.119999885559082, 4.269999980926514, 4.239999771118164, 4.440000057220459, 4.289999961853027, 4.28000020980835, 5.0, 4.78000020980835, 4.639999866485596, 4.599999904632568, 4.5, 4.949999809265137, 4.539999961853027, 4.670000076293945, 4.949999809265137, 4.789999961853027, 4.949999809265137, 4.829999923706055, 4.329999923706055, 4.480000019073486, 4.349999904632568, 4.329999923706055, 4.309999942779541, 4.489999771118164, 4.309999942779541, 4.199999809265137, 4.099999904632568, 4.269999980926514, 4.199999809265137, 4.349999904632568, 4.21999979019165, 4.130000114440918, 4.190000057220459, 4.159999847412109, 3.950000047683716, 3.9000000953674316, 4.019999980926514, 4.090000152587891, 4.059999942779541, 4.019999980926514, 3.9600000381469727, 3.940000057220459, 4.0, 4.059999942779541, 4.03000020980835, 4.130000114440918, 4.5, 4.599999904632568, 4.389999866485596, 4.199999809265137, 4.429999828338623, 4.400000095367432, 4.519999980926514, 4.599999904632568, 4.78000020980835, 4.610000133514404, 4.800000190734863, 4.619999885559082, 4.599999904632568, 5.099999904632568, 4.880000114440918, 4.96999979019165, 5.110000133514404, 5.300000190734863, 5.769999980926514, 7.300000190734863, 7.800000190734863, 7.880000114440918, 7.78000020980835, 7.550000190734863, 7.960000038146973, 6.650000095367432, 6.260000228881836, 6.800000190734863, 6.860000133514404, 7.03000020980835, 8.569999694824219, 9.199999809265137, 9.350000381469727, 10.449999809265137, 10.600000381469727, 9.710000038146973, 9.1899995803833, 10.15999984741211, 10.0, 10.25, 10.09000015258789, 9.380000114440918, 9.4399995803833, 9.5600004196167, 9.229999542236328, 9.539999961853027, 12.829999923706055, 11.65999984741211, 11.729999542236328, 12.670000076293945, 11.989999771118164, 13.770000457763672, 13.4399995803833, 14.029999732971191, 13.899999618530273, 14.199999809265137, 15.050000190734863, 14.930000305175781, 13.710000038146973, 12.270000457763672, 11.880000114440918, 11.640000343322754, 10.819999694824219, 10.75, 11.760000228881836, 11.270000457763672, 11.520000457763672, 12.760000228881836, 11.5, 11.5, 11.739999771118164, 11.359999656677246, 11.15999984741211, 11.649999618530273, 11.800000190734863, 11.600000381469727, 12.550000190734863, 12.899999618530273, 14.229999542236328, 13.600000381469727, 15.289999961853027, 18.170000076293945, 17.110000610351562, 15.699999809265137, 16.479999542236328, 16.299999237060547, 17.0, 16.3700008392334, 13.920000076293945, 13.119999885559082, 13.90999984741211, 13.34000015258789, 12.779999732971191, 13.960000038146973, 13.960000038146973, 15.779999732971191, 15.8100004196167, 16.219999313354492, 20.170000076293945, 21.010000228881836, 21.309999465942383, 20.81999969482422, 19.3799991607666, 19.25, 19.0, 17.350000381469727, 17.34000015258789, 18.469999313354492, 18.18000030517578, 19.40999984741211, 19.959999084472656, 20.420000076293945, 38.09000015258789, 38.4900016784668, 41.54999923706055, 37.369998931884766, 39.22999954223633, 42.59000015258789, 96.7300033569336, 88.55999755859375, 354.8299865722656, 265.0, 379.7099914550781, 316.55999755859375, 140.75999450683594, 112.01000213623047, 91.19000244140625, 54.040000915527344, 72.41000366210938, 56.61000061035156, 50.77000045776367, 50.0099983215332, 50.75], \"type\": \"candlestick\", \"x\": [\"2020-03-16T00:00:00\", \"2020-03-17T00:00:00\", \"2020-03-18T00:00:00\", \"2020-03-19T00:00:00\", \"2020-03-20T00:00:00\", \"2020-03-23T00:00:00\", \"2020-03-24T00:00:00\", \"2020-03-25T00:00:00\", \"2020-03-26T00:00:00\", \"2020-03-27T00:00:00\", \"2020-03-30T00:00:00\", \"2020-03-31T00:00:00\", \"2020-04-01T00:00:00\", \"2020-04-02T00:00:00\", \"2020-04-03T00:00:00\", \"2020-04-06T00:00:00\", \"2020-04-07T00:00:00\", \"2020-04-08T00:00:00\", \"2020-04-09T00:00:00\", \"2020-04-13T00:00:00\", \"2020-04-14T00:00:00\", \"2020-04-15T00:00:00\", \"2020-04-16T00:00:00\", \"2020-04-17T00:00:00\", \"2020-04-20T00:00:00\", \"2020-04-21T00:00:00\", \"2020-04-22T00:00:00\", \"2020-04-23T00:00:00\", \"2020-04-24T00:00:00\", \"2020-04-27T00:00:00\", \"2020-04-28T00:00:00\", \"2020-04-29T00:00:00\", \"2020-04-30T00:00:00\", \"2020-05-01T00:00:00\", \"2020-05-04T00:00:00\", \"2020-05-05T00:00:00\", \"2020-05-06T00:00:00\", \"2020-05-07T00:00:00\", \"2020-05-08T00:00:00\", \"2020-05-11T00:00:00\", \"2020-05-12T00:00:00\", \"2020-05-13T00:00:00\", \"2020-05-14T00:00:00\", \"2020-05-15T00:00:00\", \"2020-05-18T00:00:00\", \"2020-05-19T00:00:00\", \"2020-05-20T00:00:00\", \"2020-05-21T00:00:00\", \"2020-05-22T00:00:00\", \"2020-05-26T00:00:00\", \"2020-05-27T00:00:00\", \"2020-05-28T00:00:00\", \"2020-05-29T00:00:00\", \"2020-06-01T00:00:00\", \"2020-06-02T00:00:00\", \"2020-06-03T00:00:00\", \"2020-06-04T00:00:00\", \"2020-06-05T00:00:00\", \"2020-06-08T00:00:00\", \"2020-06-09T00:00:00\", \"2020-06-10T00:00:00\", \"2020-06-11T00:00:00\", \"2020-06-12T00:00:00\", \"2020-06-15T00:00:00\", \"2020-06-16T00:00:00\", \"2020-06-17T00:00:00\", \"2020-06-18T00:00:00\", \"2020-06-19T00:00:00\", \"2020-06-22T00:00:00\", \"2020-06-23T00:00:00\", \"2020-06-24T00:00:00\", \"2020-06-25T00:00:00\", \"2020-06-26T00:00:00\", \"2020-06-29T00:00:00\", \"2020-06-30T00:00:00\", \"2020-07-01T00:00:00\", \"2020-07-02T00:00:00\", \"2020-07-06T00:00:00\", \"2020-07-07T00:00:00\", \"2020-07-08T00:00:00\", \"2020-07-09T00:00:00\", \"2020-07-10T00:00:00\", \"2020-07-13T00:00:00\", \"2020-07-14T00:00:00\", \"2020-07-15T00:00:00\", \"2020-07-16T00:00:00\", \"2020-07-17T00:00:00\", \"2020-07-20T00:00:00\", \"2020-07-21T00:00:00\", \"2020-07-22T00:00:00\", \"2020-07-23T00:00:00\", \"2020-07-24T00:00:00\", \"2020-07-27T00:00:00\", \"2020-07-28T00:00:00\", \"2020-07-29T00:00:00\", \"2020-07-30T00:00:00\", \"2020-07-31T00:00:00\", \"2020-08-03T00:00:00\", \"2020-08-04T00:00:00\", \"2020-08-05T00:00:00\", \"2020-08-06T00:00:00\", \"2020-08-07T00:00:00\", \"2020-08-10T00:00:00\", \"2020-08-11T00:00:00\", \"2020-08-12T00:00:00\", \"2020-08-13T00:00:00\", \"2020-08-14T00:00:00\", \"2020-08-17T00:00:00\", \"2020-08-18T00:00:00\", \"2020-08-19T00:00:00\", \"2020-08-20T00:00:00\", \"2020-08-21T00:00:00\", \"2020-08-24T00:00:00\", \"2020-08-25T00:00:00\", \"2020-08-26T00:00:00\", \"2020-08-27T00:00:00\", \"2020-08-28T00:00:00\", \"2020-08-31T00:00:00\", \"2020-09-01T00:00:00\", \"2020-09-02T00:00:00\", \"2020-09-03T00:00:00\", \"2020-09-04T00:00:00\", \"2020-09-08T00:00:00\", \"2020-09-09T00:00:00\", \"2020-09-10T00:00:00\", \"2020-09-11T00:00:00\", \"2020-09-14T00:00:00\", \"2020-09-15T00:00:00\", \"2020-09-16T00:00:00\", \"2020-09-17T00:00:00\", \"2020-09-18T00:00:00\", \"2020-09-21T00:00:00\", \"2020-09-22T00:00:00\", \"2020-09-23T00:00:00\", \"2020-09-24T00:00:00\", \"2020-09-25T00:00:00\", \"2020-09-28T00:00:00\", \"2020-09-29T00:00:00\", \"2020-09-30T00:00:00\", \"2020-10-01T00:00:00\", \"2020-10-02T00:00:00\", \"2020-10-05T00:00:00\", \"2020-10-06T00:00:00\", \"2020-10-07T00:00:00\", \"2020-10-08T00:00:00\", \"2020-10-09T00:00:00\", \"2020-10-12T00:00:00\", \"2020-10-13T00:00:00\", \"2020-10-14T00:00:00\", \"2020-10-15T00:00:00\", \"2020-10-16T00:00:00\", \"2020-10-19T00:00:00\", \"2020-10-20T00:00:00\", \"2020-10-21T00:00:00\", \"2020-10-22T00:00:00\", \"2020-10-23T00:00:00\", \"2020-10-26T00:00:00\", \"2020-10-27T00:00:00\", \"2020-10-28T00:00:00\", \"2020-10-29T00:00:00\", \"2020-10-30T00:00:00\", \"2020-11-02T00:00:00\", \"2020-11-03T00:00:00\", \"2020-11-04T00:00:00\", \"2020-11-05T00:00:00\", \"2020-11-06T00:00:00\", \"2020-11-09T00:00:00\", \"2020-11-10T00:00:00\", \"2020-11-11T00:00:00\", \"2020-11-12T00:00:00\", \"2020-11-13T00:00:00\", \"2020-11-16T00:00:00\", \"2020-11-17T00:00:00\", \"2020-11-18T00:00:00\", \"2020-11-19T00:00:00\", \"2020-11-20T00:00:00\", \"2020-11-23T00:00:00\", \"2020-11-24T00:00:00\", \"2020-11-25T00:00:00\", \"2020-11-27T00:00:00\", \"2020-11-30T00:00:00\", \"2020-12-01T00:00:00\", \"2020-12-02T00:00:00\", \"2020-12-03T00:00:00\", \"2020-12-04T00:00:00\", \"2020-12-07T00:00:00\", \"2020-12-08T00:00:00\", \"2020-12-09T00:00:00\", \"2020-12-10T00:00:00\", \"2020-12-11T00:00:00\", \"2020-12-14T00:00:00\", \"2020-12-15T00:00:00\", \"2020-12-16T00:00:00\", \"2020-12-17T00:00:00\", \"2020-12-18T00:00:00\", \"2020-12-21T00:00:00\", \"2020-12-22T00:00:00\", \"2020-12-23T00:00:00\", \"2020-12-24T00:00:00\", \"2020-12-28T00:00:00\", \"2020-12-29T00:00:00\", \"2020-12-30T00:00:00\", \"2020-12-31T00:00:00\", \"2021-01-04T00:00:00\", \"2021-01-05T00:00:00\", \"2021-01-06T00:00:00\", \"2021-01-07T00:00:00\", \"2021-01-08T00:00:00\", \"2021-01-11T00:00:00\", \"2021-01-12T00:00:00\", \"2021-01-13T00:00:00\", \"2021-01-14T00:00:00\", \"2021-01-15T00:00:00\", \"2021-01-19T00:00:00\", \"2021-01-20T00:00:00\", \"2021-01-21T00:00:00\", \"2021-01-22T00:00:00\", \"2021-01-25T00:00:00\", \"2021-01-26T00:00:00\", \"2021-01-27T00:00:00\", \"2021-01-28T00:00:00\", \"2021-01-29T00:00:00\", \"2021-02-01T00:00:00\", \"2021-02-02T00:00:00\", \"2021-02-03T00:00:00\", \"2021-02-04T00:00:00\", \"2021-02-05T00:00:00\", \"2021-02-08T00:00:00\", \"2021-02-09T00:00:00\", \"2021-02-10T00:00:00\", \"2021-02-11T00:00:00\", \"2021-02-12T00:00:00\"]}],                        {\"template\": {\"data\": {\"bar\": [{\"error_x\": {\"color\": \"#f2f5fa\"}, \"error_y\": {\"color\": \"#f2f5fa\"}, \"marker\": {\"line\": {\"color\": \"rgb(17,17,17)\", \"width\": 0.5}}, \"type\": \"bar\"}], \"barpolar\": [{\"marker\": {\"line\": {\"color\": \"rgb(17,17,17)\", \"width\": 0.5}}, \"type\": \"barpolar\"}], \"carpet\": [{\"aaxis\": {\"endlinecolor\": \"#A2B1C6\", \"gridcolor\": \"#506784\", \"linecolor\": \"#506784\", \"minorgridcolor\": \"#506784\", \"startlinecolor\": \"#A2B1C6\"}, \"baxis\": {\"endlinecolor\": \"#A2B1C6\", \"gridcolor\": \"#506784\", \"linecolor\": \"#506784\", \"minorgridcolor\": \"#506784\", \"startlinecolor\": \"#A2B1C6\"}, \"type\": \"carpet\"}], \"choropleth\": [{\"colorbar\": {\"outlinewidth\": 0, \"ticks\": \"\"}, \"type\": \"choropleth\"}], \"contour\": [{\"colorbar\": {\"outlinewidth\": 0, \"ticks\": \"\"}, \"colorscale\": [[0.0, \"#0d0887\"], [0.1111111111111111, \"#46039f\"], [0.2222222222222222, \"#7201a8\"], [0.3333333333333333, \"#9c179e\"], [0.4444444444444444, \"#bd3786\"], [0.5555555555555556, \"#d8576b\"], [0.6666666666666666, \"#ed7953\"], [0.7777777777777778, \"#fb9f3a\"], [0.8888888888888888, \"#fdca26\"], [1.0, \"#f0f921\"]], \"type\": \"contour\"}], \"contourcarpet\": [{\"colorbar\": {\"outlinewidth\": 0, \"ticks\": \"\"}, \"type\": \"contourcarpet\"}], \"heatmap\": [{\"colorbar\": {\"outlinewidth\": 0, \"ticks\": \"\"}, \"colorscale\": [[0.0, \"#0d0887\"], [0.1111111111111111, \"#46039f\"], [0.2222222222222222, \"#7201a8\"], [0.3333333333333333, \"#9c179e\"], [0.4444444444444444, \"#bd3786\"], [0.5555555555555556, \"#d8576b\"], [0.6666666666666666, \"#ed7953\"], [0.7777777777777778, \"#fb9f3a\"], [0.8888888888888888, \"#fdca26\"], [1.0, \"#f0f921\"]], \"type\": \"heatmap\"}], \"heatmapgl\": [{\"colorbar\": {\"outlinewidth\": 0, \"ticks\": \"\"}, \"colorscale\": [[0.0, \"#0d0887\"], [0.1111111111111111, \"#46039f\"], [0.2222222222222222, \"#7201a8\"], [0.3333333333333333, \"#9c179e\"], [0.4444444444444444, \"#bd3786\"], [0.5555555555555556, \"#d8576b\"], [0.6666666666666666, \"#ed7953\"], [0.7777777777777778, \"#fb9f3a\"], [0.8888888888888888, \"#fdca26\"], [1.0, \"#f0f921\"]], \"type\": \"heatmapgl\"}], \"histogram\": [{\"marker\": {\"colorbar\": {\"outlinewidth\": 0, \"ticks\": \"\"}}, \"type\": \"histogram\"}], \"histogram2d\": [{\"colorbar\": {\"outlinewidth\": 0, \"ticks\": \"\"}, \"colorscale\": [[0.0, \"#0d0887\"], [0.1111111111111111, \"#46039f\"], [0.2222222222222222, \"#7201a8\"], [0.3333333333333333, \"#9c179e\"], [0.4444444444444444, \"#bd3786\"], [0.5555555555555556, \"#d8576b\"], [0.6666666666666666, \"#ed7953\"], [0.7777777777777778, \"#fb9f3a\"], [0.8888888888888888, \"#fdca26\"], [1.0, \"#f0f921\"]], \"type\": \"histogram2d\"}], \"histogram2dcontour\": [{\"colorbar\": {\"outlinewidth\": 0, \"ticks\": \"\"}, \"colorscale\": [[0.0, \"#0d0887\"], [0.1111111111111111, \"#46039f\"], [0.2222222222222222, \"#7201a8\"], [0.3333333333333333, \"#9c179e\"], [0.4444444444444444, \"#bd3786\"], [0.5555555555555556, \"#d8576b\"], [0.6666666666666666, \"#ed7953\"], [0.7777777777777778, \"#fb9f3a\"], [0.8888888888888888, \"#fdca26\"], [1.0, \"#f0f921\"]], \"type\": \"histogram2dcontour\"}], \"mesh3d\": [{\"colorbar\": {\"outlinewidth\": 0, \"ticks\": \"\"}, \"type\": \"mesh3d\"}], \"parcoords\": [{\"line\": {\"colorbar\": {\"outlinewidth\": 0, \"ticks\": \"\"}}, \"type\": \"parcoords\"}], \"pie\": [{\"automargin\": true, \"type\": \"pie\"}], \"scatter\": [{\"marker\": {\"line\": {\"color\": \"#283442\"}}, \"type\": \"scatter\"}], \"scatter3d\": [{\"line\": {\"colorbar\": {\"outlinewidth\": 0, \"ticks\": \"\"}}, \"marker\": {\"colorbar\": {\"outlinewidth\": 0, \"ticks\": \"\"}}, \"type\": \"scatter3d\"}], \"scattercarpet\": [{\"marker\": {\"colorbar\": {\"outlinewidth\": 0, \"ticks\": \"\"}}, \"type\": \"scattercarpet\"}], \"scattergeo\": [{\"marker\": {\"colorbar\": {\"outlinewidth\": 0, \"ticks\": \"\"}}, \"type\": \"scattergeo\"}], \"scattergl\": [{\"marker\": {\"line\": {\"color\": \"#283442\"}}, \"type\": \"scattergl\"}], \"scattermapbox\": [{\"marker\": {\"colorbar\": {\"outlinewidth\": 0, \"ticks\": \"\"}}, \"type\": \"scattermapbox\"}], \"scatterpolar\": [{\"marker\": {\"colorbar\": {\"outlinewidth\": 0, \"ticks\": \"\"}}, \"type\": \"scatterpolar\"}], \"scatterpolargl\": [{\"marker\": {\"colorbar\": {\"outlinewidth\": 0, \"ticks\": \"\"}}, \"type\": \"scatterpolargl\"}], \"scatterternary\": [{\"marker\": {\"colorbar\": {\"outlinewidth\": 0, \"ticks\": \"\"}}, \"type\": \"scatterternary\"}], \"surface\": [{\"colorbar\": {\"outlinewidth\": 0, \"ticks\": \"\"}, \"colorscale\": [[0.0, \"#0d0887\"], [0.1111111111111111, \"#46039f\"], [0.2222222222222222, \"#7201a8\"], [0.3333333333333333, \"#9c179e\"], [0.4444444444444444, \"#bd3786\"], [0.5555555555555556, \"#d8576b\"], [0.6666666666666666, \"#ed7953\"], [0.7777777777777778, \"#fb9f3a\"], [0.8888888888888888, \"#fdca26\"], [1.0, \"#f0f921\"]], \"type\": \"surface\"}], \"table\": [{\"cells\": {\"fill\": {\"color\": \"#506784\"}, \"line\": {\"color\": \"rgb(17,17,17)\"}}, \"header\": {\"fill\": {\"color\": \"#2a3f5f\"}, \"line\": {\"color\": \"rgb(17,17,17)\"}}, \"type\": \"table\"}]}, \"layout\": {\"annotationdefaults\": {\"arrowcolor\": \"#f2f5fa\", \"arrowhead\": 0, \"arrowwidth\": 1}, \"autotypenumbers\": \"strict\", \"coloraxis\": {\"colorbar\": {\"outlinewidth\": 0, \"ticks\": \"\"}}, \"colorscale\": {\"diverging\": [[0, \"#8e0152\"], [0.1, \"#c51b7d\"], [0.2, \"#de77ae\"], [0.3, \"#f1b6da\"], [0.4, \"#fde0ef\"], [0.5, \"#f7f7f7\"], [0.6, \"#e6f5d0\"], [0.7, \"#b8e186\"], [0.8, \"#7fbc41\"], [0.9, \"#4d9221\"], [1, \"#276419\"]], \"sequential\": [[0.0, \"#0d0887\"], [0.1111111111111111, \"#46039f\"], [0.2222222222222222, \"#7201a8\"], [0.3333333333333333, \"#9c179e\"], [0.4444444444444444, \"#bd3786\"], [0.5555555555555556, \"#d8576b\"], [0.6666666666666666, \"#ed7953\"], [0.7777777777777778, \"#fb9f3a\"], [0.8888888888888888, \"#fdca26\"], [1.0, \"#f0f921\"]], \"sequentialminus\": [[0.0, \"#0d0887\"], [0.1111111111111111, \"#46039f\"], [0.2222222222222222, \"#7201a8\"], [0.3333333333333333, \"#9c179e\"], [0.4444444444444444, \"#bd3786\"], [0.5555555555555556, \"#d8576b\"], [0.6666666666666666, \"#ed7953\"], [0.7777777777777778, \"#fb9f3a\"], [0.8888888888888888, \"#fdca26\"], [1.0, \"#f0f921\"]]}, \"colorway\": [\"#636efa\", \"#EF553B\", \"#00cc96\", \"#ab63fa\", \"#FFA15A\", \"#19d3f3\", \"#FF6692\", \"#B6E880\", \"#FF97FF\", \"#FECB52\"], \"font\": {\"color\": \"#f2f5fa\"}, \"geo\": {\"bgcolor\": \"rgb(17,17,17)\", \"lakecolor\": \"rgb(17,17,17)\", \"landcolor\": \"rgb(17,17,17)\", \"showlakes\": true, \"showland\": true, \"subunitcolor\": \"#506784\"}, \"hoverlabel\": {\"align\": \"left\"}, \"hovermode\": \"closest\", \"mapbox\": {\"style\": \"dark\"}, \"paper_bgcolor\": \"rgb(17,17,17)\", \"plot_bgcolor\": \"rgb(17,17,17)\", \"polar\": {\"angularaxis\": {\"gridcolor\": \"#506784\", \"linecolor\": \"#506784\", \"ticks\": \"\"}, \"bgcolor\": \"rgb(17,17,17)\", \"radialaxis\": {\"gridcolor\": \"#506784\", \"linecolor\": \"#506784\", \"ticks\": \"\"}}, \"scene\": {\"xaxis\": {\"backgroundcolor\": \"rgb(17,17,17)\", \"gridcolor\": \"#506784\", \"gridwidth\": 2, \"linecolor\": \"#506784\", \"showbackground\": true, \"ticks\": \"\", \"zerolinecolor\": \"#C8D4E3\"}, \"yaxis\": {\"backgroundcolor\": \"rgb(17,17,17)\", \"gridcolor\": \"#506784\", \"gridwidth\": 2, \"linecolor\": \"#506784\", \"showbackground\": true, \"ticks\": \"\", \"zerolinecolor\": \"#C8D4E3\"}, \"zaxis\": {\"backgroundcolor\": \"rgb(17,17,17)\", \"gridcolor\": \"#506784\", \"gridwidth\": 2, \"linecolor\": \"#506784\", \"showbackground\": true, \"ticks\": \"\", \"zerolinecolor\": \"#C8D4E3\"}}, \"shapedefaults\": {\"line\": {\"color\": \"#f2f5fa\"}}, \"sliderdefaults\": {\"bgcolor\": \"#C8D4E3\", \"bordercolor\": \"rgb(17,17,17)\", \"borderwidth\": 1, \"tickwidth\": 0}, \"ternary\": {\"aaxis\": {\"gridcolor\": \"#506784\", \"linecolor\": \"#506784\", \"ticks\": \"\"}, \"baxis\": {\"gridcolor\": \"#506784\", \"linecolor\": \"#506784\", \"ticks\": \"\"}, \"bgcolor\": \"rgb(17,17,17)\", \"caxis\": {\"gridcolor\": \"#506784\", \"linecolor\": \"#506784\", \"ticks\": \"\"}}, \"title\": {\"x\": 0.05}, \"updatemenudefaults\": {\"bgcolor\": \"#506784\", \"borderwidth\": 0}, \"xaxis\": {\"automargin\": true, \"gridcolor\": \"#283442\", \"linecolor\": \"#506784\", \"ticks\": \"\", \"title\": {\"standoff\": 15}, \"zerolinecolor\": \"#283442\", \"zerolinewidth\": 2}, \"yaxis\": {\"automargin\": true, \"gridcolor\": \"#283442\", \"linecolor\": \"#506784\", \"ticks\": \"\", \"title\": {\"standoff\": 15}, \"zerolinecolor\": \"#283442\", \"zerolinewidth\": 2}}}, \"title\": {\"text\": \"GameStop Stock Price (Candle Stick)\", \"x\": 0.5, \"xanchor\": \"center\"}},                        {\"responsive\": true}                    ).then(function(){\n",
       "                            \n",
       "var gd = document.getElementById('f075ddc2-547b-49fe-9d29-f01a9145da29');\n",
       "var x = new MutationObserver(function (mutations, observer) {{\n",
       "        var display = window.getComputedStyle(gd).display;\n",
       "        if (!display || display === 'none') {{\n",
       "            console.log([gd, 'removed!']);\n",
       "            Plotly.purge(gd);\n",
       "            observer.disconnect();\n",
       "        }}\n",
       "}});\n",
       "\n",
       "// Listen for the removal of the full notebook cells\n",
       "var notebookContainer = gd.closest('#notebook-container');\n",
       "if (notebookContainer) {{\n",
       "    x.observe(notebookContainer, {childList: true});\n",
       "}}\n",
       "\n",
       "// Listen for the clearing of the current output cell\n",
       "var outputEl = gd.closest('.output');\n",
       "if (outputEl) {{\n",
       "    x.observe(outputEl, {childList: true});\n",
       "}}\n",
       "\n",
       "                        })                };                });            </script>        </div>"
      ]
     },
     "metadata": {},
     "output_type": "display_data"
    }
   ],
   "source": [
    "fig2 = go.Figure(go.Candlestick(x=gmstp.Date, open=gmstp.Open, high=gmstp.High, low=gmstp.Low, close=gmstp.Close))\n",
    "fig2.update_layout(\n",
    "    title={\n",
    "        'text': \"GameStop Stock Price (Candle Stick)\",\n",
    "        'x':0.5,\n",
    "        'xanchor': 'center'})\n",
    "fig2.show()"
   ]
  },
  {
   "cell_type": "code",
   "execution_count": 14,
   "metadata": {},
   "outputs": [
    {
     "data": {
      "application/vnd.plotly.v1+json": {
       "config": {
        "plotlyServerURL": "https://plot.ly"
       },
       "data": [
        {
         "alignmentgroup": "True",
         "hovertemplate": "Date=%{x}<br>Daily return (%)=%{y}<extra></extra>",
         "legendgroup": "",
         "marker": {
          "color": "#636efa"
         },
         "name": "",
         "offsetgroup": "",
         "orientation": "v",
         "showlegend": false,
         "textposition": "auto",
         "type": "bar",
         "x": [
          "2020-03-16T00:00:00",
          "2020-03-17T00:00:00",
          "2020-03-18T00:00:00",
          "2020-03-19T00:00:00",
          "2020-03-20T00:00:00",
          "2020-03-23T00:00:00",
          "2020-03-24T00:00:00",
          "2020-03-25T00:00:00",
          "2020-03-26T00:00:00",
          "2020-03-27T00:00:00",
          "2020-03-30T00:00:00",
          "2020-03-31T00:00:00",
          "2020-04-01T00:00:00",
          "2020-04-02T00:00:00",
          "2020-04-03T00:00:00",
          "2020-04-06T00:00:00",
          "2020-04-07T00:00:00",
          "2020-04-08T00:00:00",
          "2020-04-09T00:00:00",
          "2020-04-13T00:00:00",
          "2020-04-14T00:00:00",
          "2020-04-15T00:00:00",
          "2020-04-16T00:00:00",
          "2020-04-17T00:00:00",
          "2020-04-20T00:00:00",
          "2020-04-21T00:00:00",
          "2020-04-22T00:00:00",
          "2020-04-23T00:00:00",
          "2020-04-24T00:00:00",
          "2020-04-27T00:00:00",
          "2020-04-28T00:00:00",
          "2020-04-29T00:00:00",
          "2020-04-30T00:00:00",
          "2020-05-01T00:00:00",
          "2020-05-04T00:00:00",
          "2020-05-05T00:00:00",
          "2020-05-06T00:00:00",
          "2020-05-07T00:00:00",
          "2020-05-08T00:00:00",
          "2020-05-11T00:00:00",
          "2020-05-12T00:00:00",
          "2020-05-13T00:00:00",
          "2020-05-14T00:00:00",
          "2020-05-15T00:00:00",
          "2020-05-18T00:00:00",
          "2020-05-19T00:00:00",
          "2020-05-20T00:00:00",
          "2020-05-21T00:00:00",
          "2020-05-22T00:00:00",
          "2020-05-26T00:00:00",
          "2020-05-27T00:00:00",
          "2020-05-28T00:00:00",
          "2020-05-29T00:00:00",
          "2020-06-01T00:00:00",
          "2020-06-02T00:00:00",
          "2020-06-03T00:00:00",
          "2020-06-04T00:00:00",
          "2020-06-05T00:00:00",
          "2020-06-08T00:00:00",
          "2020-06-09T00:00:00",
          "2020-06-10T00:00:00",
          "2020-06-11T00:00:00",
          "2020-06-12T00:00:00",
          "2020-06-15T00:00:00",
          "2020-06-16T00:00:00",
          "2020-06-17T00:00:00",
          "2020-06-18T00:00:00",
          "2020-06-19T00:00:00",
          "2020-06-22T00:00:00",
          "2020-06-23T00:00:00",
          "2020-06-24T00:00:00",
          "2020-06-25T00:00:00",
          "2020-06-26T00:00:00",
          "2020-06-29T00:00:00",
          "2020-06-30T00:00:00",
          "2020-07-01T00:00:00",
          "2020-07-02T00:00:00",
          "2020-07-06T00:00:00",
          "2020-07-07T00:00:00",
          "2020-07-08T00:00:00",
          "2020-07-09T00:00:00",
          "2020-07-10T00:00:00",
          "2020-07-13T00:00:00",
          "2020-07-14T00:00:00",
          "2020-07-15T00:00:00",
          "2020-07-16T00:00:00",
          "2020-07-17T00:00:00",
          "2020-07-20T00:00:00",
          "2020-07-21T00:00:00",
          "2020-07-22T00:00:00",
          "2020-07-23T00:00:00",
          "2020-07-24T00:00:00",
          "2020-07-27T00:00:00",
          "2020-07-28T00:00:00",
          "2020-07-29T00:00:00",
          "2020-07-30T00:00:00",
          "2020-07-31T00:00:00",
          "2020-08-03T00:00:00",
          "2020-08-04T00:00:00",
          "2020-08-05T00:00:00",
          "2020-08-06T00:00:00",
          "2020-08-07T00:00:00",
          "2020-08-10T00:00:00",
          "2020-08-11T00:00:00",
          "2020-08-12T00:00:00",
          "2020-08-13T00:00:00",
          "2020-08-14T00:00:00",
          "2020-08-17T00:00:00",
          "2020-08-18T00:00:00",
          "2020-08-19T00:00:00",
          "2020-08-20T00:00:00",
          "2020-08-21T00:00:00",
          "2020-08-24T00:00:00",
          "2020-08-25T00:00:00",
          "2020-08-26T00:00:00",
          "2020-08-27T00:00:00",
          "2020-08-28T00:00:00",
          "2020-08-31T00:00:00",
          "2020-09-01T00:00:00",
          "2020-09-02T00:00:00",
          "2020-09-03T00:00:00",
          "2020-09-04T00:00:00",
          "2020-09-08T00:00:00",
          "2020-09-09T00:00:00",
          "2020-09-10T00:00:00",
          "2020-09-11T00:00:00",
          "2020-09-14T00:00:00",
          "2020-09-15T00:00:00",
          "2020-09-16T00:00:00",
          "2020-09-17T00:00:00",
          "2020-09-18T00:00:00",
          "2020-09-21T00:00:00",
          "2020-09-22T00:00:00",
          "2020-09-23T00:00:00",
          "2020-09-24T00:00:00",
          "2020-09-25T00:00:00",
          "2020-09-28T00:00:00",
          "2020-09-29T00:00:00",
          "2020-09-30T00:00:00",
          "2020-10-01T00:00:00",
          "2020-10-02T00:00:00",
          "2020-10-05T00:00:00",
          "2020-10-06T00:00:00",
          "2020-10-07T00:00:00",
          "2020-10-08T00:00:00",
          "2020-10-09T00:00:00",
          "2020-10-12T00:00:00",
          "2020-10-13T00:00:00",
          "2020-10-14T00:00:00",
          "2020-10-15T00:00:00",
          "2020-10-16T00:00:00",
          "2020-10-19T00:00:00",
          "2020-10-20T00:00:00",
          "2020-10-21T00:00:00",
          "2020-10-22T00:00:00",
          "2020-10-23T00:00:00",
          "2020-10-26T00:00:00",
          "2020-10-27T00:00:00",
          "2020-10-28T00:00:00",
          "2020-10-29T00:00:00",
          "2020-10-30T00:00:00",
          "2020-11-02T00:00:00",
          "2020-11-03T00:00:00",
          "2020-11-04T00:00:00",
          "2020-11-05T00:00:00",
          "2020-11-06T00:00:00",
          "2020-11-09T00:00:00",
          "2020-11-10T00:00:00",
          "2020-11-11T00:00:00",
          "2020-11-12T00:00:00",
          "2020-11-13T00:00:00",
          "2020-11-16T00:00:00",
          "2020-11-17T00:00:00",
          "2020-11-18T00:00:00",
          "2020-11-19T00:00:00",
          "2020-11-20T00:00:00",
          "2020-11-23T00:00:00",
          "2020-11-24T00:00:00",
          "2020-11-25T00:00:00",
          "2020-11-27T00:00:00",
          "2020-11-30T00:00:00",
          "2020-12-01T00:00:00",
          "2020-12-02T00:00:00",
          "2020-12-03T00:00:00",
          "2020-12-04T00:00:00",
          "2020-12-07T00:00:00",
          "2020-12-08T00:00:00",
          "2020-12-09T00:00:00",
          "2020-12-10T00:00:00",
          "2020-12-11T00:00:00",
          "2020-12-14T00:00:00",
          "2020-12-15T00:00:00",
          "2020-12-16T00:00:00",
          "2020-12-17T00:00:00",
          "2020-12-18T00:00:00",
          "2020-12-21T00:00:00",
          "2020-12-22T00:00:00",
          "2020-12-23T00:00:00",
          "2020-12-24T00:00:00",
          "2020-12-28T00:00:00",
          "2020-12-29T00:00:00",
          "2020-12-30T00:00:00",
          "2020-12-31T00:00:00",
          "2021-01-04T00:00:00",
          "2021-01-05T00:00:00",
          "2021-01-06T00:00:00",
          "2021-01-07T00:00:00",
          "2021-01-08T00:00:00",
          "2021-01-11T00:00:00",
          "2021-01-12T00:00:00",
          "2021-01-13T00:00:00",
          "2021-01-14T00:00:00",
          "2021-01-15T00:00:00",
          "2021-01-19T00:00:00",
          "2021-01-20T00:00:00",
          "2021-01-21T00:00:00",
          "2021-01-22T00:00:00",
          "2021-01-25T00:00:00",
          "2021-01-26T00:00:00",
          "2021-01-27T00:00:00",
          "2021-01-28T00:00:00",
          "2021-01-29T00:00:00",
          "2021-02-01T00:00:00",
          "2021-02-02T00:00:00",
          "2021-02-03T00:00:00",
          "2021-02-04T00:00:00",
          "2021-02-05T00:00:00",
          "2021-02-08T00:00:00",
          "2021-02-09T00:00:00",
          "2021-02-10T00:00:00",
          "2021-02-11T00:00:00",
          "2021-02-12T00:00:00"
         ],
         "xaxis": "x",
         "y": [
          null,
          -3.2,
          -10.87,
          11.14,
          -10.26,
          1.33,
          9.19,
          0.24,
          5.76,
          -4.31,
          -13.51,
          -4.11,
          -7.14,
          -12.31,
          -1.75,
          10.36,
          5.83,
          4.28,
          14.08,
          21.85,
          25.53,
          -11.43,
          -4.55,
          -2.98,
          14.96,
          -14.8,
          2.3,
          -3.89,
          1.49,
          22.01,
          -3.09,
          7.09,
          -5.13,
          5.58,
          -9.42,
          -1.64,
          -8.53,
          -1.22,
          2.26,
          -4.42,
          -4.62,
          -7.27,
          -1.9,
          2.18,
          8.53,
          -3.06,
          -0.23,
          0.23,
          -5.86,
          5.74,
          6.11,
          -7.68,
          -6.24,
          1.72,
          1.21,
          6.22,
          0.68,
          -7.38,
          21.01,
          -1,
          2.22,
          -13.81,
          8.01,
          -0.64,
          -1.07,
          2.59,
          3.99,
          -1.41,
          -0.2,
          -0.82,
          -8.7,
          1.13,
          -2.47,
          0.69,
          -0.91,
          2.3,
          -3.38,
          -1.17,
          -3.54,
          4.16,
          -1.17,
          3.09,
          -1.84,
          -4.23,
          2.7,
          -0.48,
          -5.04,
          -2.78,
          4.16,
          2.49,
          0,
          -1.95,
          -0.5,
          -1.75,
          3.05,
          0.99,
          -2.2,
          3.49,
          6.75,
          4.51,
          -4.32,
          -6.09,
          4.09,
          0.46,
          3.91,
          2.65,
          2.37,
          -2.53,
          3.89,
          -1.87,
          -2.33,
          9.11,
          -3.18,
          2.26,
          2.61,
          2.74,
          2.67,
          23.93,
          14.52,
          0.78,
          1.43,
          -2.17,
          0.65,
          -4.55,
          -15.24,
          -2.25,
          13.46,
          2.6,
          22.43,
          5.99,
          2.93,
          -7.6,
          20.69,
          -4.92,
          -8.96,
          9.63,
          0.7,
          2.58,
          -1.45,
          -4.22,
          -3.89,
          0.75,
          -3.49,
          2.52,
          44.12,
          -10.9,
          -1.83,
          0.68,
          3.11,
          12.9,
          -3.76,
          4.51,
          -0.36,
          1.73,
          5.74,
          0.6,
          -10.33,
          -5.65,
          -6.86,
          -0.76,
          -10.74,
          2.67,
          7.63,
          -5.7,
          4.95,
          3.58,
          -3.12,
          -3.39,
          5.86,
          -5.28,
          -1.08,
          9.54,
          -3.57,
          -0.52,
          7.69,
          2.01,
          9.36,
          -1.65,
          7.9,
          9.02,
          2.99,
          -4.59,
          4.94,
          -2.77,
          4.84,
          -3.25,
          3.61,
          -19.36,
          3.37,
          -5.74,
          -4.43,
          8.88,
          0,
          7.08,
          5.39,
          -0.64,
          25.31,
          5.7,
          -2.04,
          4.17,
          -7.67,
          -0.62,
          -2.18,
          -8.44,
          0.7,
          5.7,
          -1.53,
          -2.16,
          12.72,
          0.05,
          57.39,
          27.1,
          -11.05,
          10.87,
          -0.61,
          9.99,
          51.08,
          18.12,
          92.71,
          134.84,
          -44.29,
          67.87,
          -30.77,
          -60,
          2.68,
          -42.11,
          19.2,
          -5.91,
          -16.15,
          1.77,
          -0.2,
          2.54
         ],
         "yaxis": "y"
        }
       ],
       "layout": {
        "barmode": "relative",
        "legend": {
         "tracegroupgap": 0
        },
        "margin": {
         "t": 60
        },
        "template": {
         "data": {
          "bar": [
           {
            "error_x": {
             "color": "#f2f5fa"
            },
            "error_y": {
             "color": "#f2f5fa"
            },
            "marker": {
             "line": {
              "color": "rgb(17,17,17)",
              "width": 0.5
             }
            },
            "type": "bar"
           }
          ],
          "barpolar": [
           {
            "marker": {
             "line": {
              "color": "rgb(17,17,17)",
              "width": 0.5
             }
            },
            "type": "barpolar"
           }
          ],
          "carpet": [
           {
            "aaxis": {
             "endlinecolor": "#A2B1C6",
             "gridcolor": "#506784",
             "linecolor": "#506784",
             "minorgridcolor": "#506784",
             "startlinecolor": "#A2B1C6"
            },
            "baxis": {
             "endlinecolor": "#A2B1C6",
             "gridcolor": "#506784",
             "linecolor": "#506784",
             "minorgridcolor": "#506784",
             "startlinecolor": "#A2B1C6"
            },
            "type": "carpet"
           }
          ],
          "choropleth": [
           {
            "colorbar": {
             "outlinewidth": 0,
             "ticks": ""
            },
            "type": "choropleth"
           }
          ],
          "contour": [
           {
            "colorbar": {
             "outlinewidth": 0,
             "ticks": ""
            },
            "colorscale": [
             [
              0,
              "#0d0887"
             ],
             [
              0.1111111111111111,
              "#46039f"
             ],
             [
              0.2222222222222222,
              "#7201a8"
             ],
             [
              0.3333333333333333,
              "#9c179e"
             ],
             [
              0.4444444444444444,
              "#bd3786"
             ],
             [
              0.5555555555555556,
              "#d8576b"
             ],
             [
              0.6666666666666666,
              "#ed7953"
             ],
             [
              0.7777777777777778,
              "#fb9f3a"
             ],
             [
              0.8888888888888888,
              "#fdca26"
             ],
             [
              1,
              "#f0f921"
             ]
            ],
            "type": "contour"
           }
          ],
          "contourcarpet": [
           {
            "colorbar": {
             "outlinewidth": 0,
             "ticks": ""
            },
            "type": "contourcarpet"
           }
          ],
          "heatmap": [
           {
            "colorbar": {
             "outlinewidth": 0,
             "ticks": ""
            },
            "colorscale": [
             [
              0,
              "#0d0887"
             ],
             [
              0.1111111111111111,
              "#46039f"
             ],
             [
              0.2222222222222222,
              "#7201a8"
             ],
             [
              0.3333333333333333,
              "#9c179e"
             ],
             [
              0.4444444444444444,
              "#bd3786"
             ],
             [
              0.5555555555555556,
              "#d8576b"
             ],
             [
              0.6666666666666666,
              "#ed7953"
             ],
             [
              0.7777777777777778,
              "#fb9f3a"
             ],
             [
              0.8888888888888888,
              "#fdca26"
             ],
             [
              1,
              "#f0f921"
             ]
            ],
            "type": "heatmap"
           }
          ],
          "heatmapgl": [
           {
            "colorbar": {
             "outlinewidth": 0,
             "ticks": ""
            },
            "colorscale": [
             [
              0,
              "#0d0887"
             ],
             [
              0.1111111111111111,
              "#46039f"
             ],
             [
              0.2222222222222222,
              "#7201a8"
             ],
             [
              0.3333333333333333,
              "#9c179e"
             ],
             [
              0.4444444444444444,
              "#bd3786"
             ],
             [
              0.5555555555555556,
              "#d8576b"
             ],
             [
              0.6666666666666666,
              "#ed7953"
             ],
             [
              0.7777777777777778,
              "#fb9f3a"
             ],
             [
              0.8888888888888888,
              "#fdca26"
             ],
             [
              1,
              "#f0f921"
             ]
            ],
            "type": "heatmapgl"
           }
          ],
          "histogram": [
           {
            "marker": {
             "colorbar": {
              "outlinewidth": 0,
              "ticks": ""
             }
            },
            "type": "histogram"
           }
          ],
          "histogram2d": [
           {
            "colorbar": {
             "outlinewidth": 0,
             "ticks": ""
            },
            "colorscale": [
             [
              0,
              "#0d0887"
             ],
             [
              0.1111111111111111,
              "#46039f"
             ],
             [
              0.2222222222222222,
              "#7201a8"
             ],
             [
              0.3333333333333333,
              "#9c179e"
             ],
             [
              0.4444444444444444,
              "#bd3786"
             ],
             [
              0.5555555555555556,
              "#d8576b"
             ],
             [
              0.6666666666666666,
              "#ed7953"
             ],
             [
              0.7777777777777778,
              "#fb9f3a"
             ],
             [
              0.8888888888888888,
              "#fdca26"
             ],
             [
              1,
              "#f0f921"
             ]
            ],
            "type": "histogram2d"
           }
          ],
          "histogram2dcontour": [
           {
            "colorbar": {
             "outlinewidth": 0,
             "ticks": ""
            },
            "colorscale": [
             [
              0,
              "#0d0887"
             ],
             [
              0.1111111111111111,
              "#46039f"
             ],
             [
              0.2222222222222222,
              "#7201a8"
             ],
             [
              0.3333333333333333,
              "#9c179e"
             ],
             [
              0.4444444444444444,
              "#bd3786"
             ],
             [
              0.5555555555555556,
              "#d8576b"
             ],
             [
              0.6666666666666666,
              "#ed7953"
             ],
             [
              0.7777777777777778,
              "#fb9f3a"
             ],
             [
              0.8888888888888888,
              "#fdca26"
             ],
             [
              1,
              "#f0f921"
             ]
            ],
            "type": "histogram2dcontour"
           }
          ],
          "mesh3d": [
           {
            "colorbar": {
             "outlinewidth": 0,
             "ticks": ""
            },
            "type": "mesh3d"
           }
          ],
          "parcoords": [
           {
            "line": {
             "colorbar": {
              "outlinewidth": 0,
              "ticks": ""
             }
            },
            "type": "parcoords"
           }
          ],
          "pie": [
           {
            "automargin": true,
            "type": "pie"
           }
          ],
          "scatter": [
           {
            "marker": {
             "line": {
              "color": "#283442"
             }
            },
            "type": "scatter"
           }
          ],
          "scatter3d": [
           {
            "line": {
             "colorbar": {
              "outlinewidth": 0,
              "ticks": ""
             }
            },
            "marker": {
             "colorbar": {
              "outlinewidth": 0,
              "ticks": ""
             }
            },
            "type": "scatter3d"
           }
          ],
          "scattercarpet": [
           {
            "marker": {
             "colorbar": {
              "outlinewidth": 0,
              "ticks": ""
             }
            },
            "type": "scattercarpet"
           }
          ],
          "scattergeo": [
           {
            "marker": {
             "colorbar": {
              "outlinewidth": 0,
              "ticks": ""
             }
            },
            "type": "scattergeo"
           }
          ],
          "scattergl": [
           {
            "marker": {
             "line": {
              "color": "#283442"
             }
            },
            "type": "scattergl"
           }
          ],
          "scattermapbox": [
           {
            "marker": {
             "colorbar": {
              "outlinewidth": 0,
              "ticks": ""
             }
            },
            "type": "scattermapbox"
           }
          ],
          "scatterpolar": [
           {
            "marker": {
             "colorbar": {
              "outlinewidth": 0,
              "ticks": ""
             }
            },
            "type": "scatterpolar"
           }
          ],
          "scatterpolargl": [
           {
            "marker": {
             "colorbar": {
              "outlinewidth": 0,
              "ticks": ""
             }
            },
            "type": "scatterpolargl"
           }
          ],
          "scatterternary": [
           {
            "marker": {
             "colorbar": {
              "outlinewidth": 0,
              "ticks": ""
             }
            },
            "type": "scatterternary"
           }
          ],
          "surface": [
           {
            "colorbar": {
             "outlinewidth": 0,
             "ticks": ""
            },
            "colorscale": [
             [
              0,
              "#0d0887"
             ],
             [
              0.1111111111111111,
              "#46039f"
             ],
             [
              0.2222222222222222,
              "#7201a8"
             ],
             [
              0.3333333333333333,
              "#9c179e"
             ],
             [
              0.4444444444444444,
              "#bd3786"
             ],
             [
              0.5555555555555556,
              "#d8576b"
             ],
             [
              0.6666666666666666,
              "#ed7953"
             ],
             [
              0.7777777777777778,
              "#fb9f3a"
             ],
             [
              0.8888888888888888,
              "#fdca26"
             ],
             [
              1,
              "#f0f921"
             ]
            ],
            "type": "surface"
           }
          ],
          "table": [
           {
            "cells": {
             "fill": {
              "color": "#506784"
             },
             "line": {
              "color": "rgb(17,17,17)"
             }
            },
            "header": {
             "fill": {
              "color": "#2a3f5f"
             },
             "line": {
              "color": "rgb(17,17,17)"
             }
            },
            "type": "table"
           }
          ]
         },
         "layout": {
          "annotationdefaults": {
           "arrowcolor": "#f2f5fa",
           "arrowhead": 0,
           "arrowwidth": 1
          },
          "autotypenumbers": "strict",
          "coloraxis": {
           "colorbar": {
            "outlinewidth": 0,
            "ticks": ""
           }
          },
          "colorscale": {
           "diverging": [
            [
             0,
             "#8e0152"
            ],
            [
             0.1,
             "#c51b7d"
            ],
            [
             0.2,
             "#de77ae"
            ],
            [
             0.3,
             "#f1b6da"
            ],
            [
             0.4,
             "#fde0ef"
            ],
            [
             0.5,
             "#f7f7f7"
            ],
            [
             0.6,
             "#e6f5d0"
            ],
            [
             0.7,
             "#b8e186"
            ],
            [
             0.8,
             "#7fbc41"
            ],
            [
             0.9,
             "#4d9221"
            ],
            [
             1,
             "#276419"
            ]
           ],
           "sequential": [
            [
             0,
             "#0d0887"
            ],
            [
             0.1111111111111111,
             "#46039f"
            ],
            [
             0.2222222222222222,
             "#7201a8"
            ],
            [
             0.3333333333333333,
             "#9c179e"
            ],
            [
             0.4444444444444444,
             "#bd3786"
            ],
            [
             0.5555555555555556,
             "#d8576b"
            ],
            [
             0.6666666666666666,
             "#ed7953"
            ],
            [
             0.7777777777777778,
             "#fb9f3a"
            ],
            [
             0.8888888888888888,
             "#fdca26"
            ],
            [
             1,
             "#f0f921"
            ]
           ],
           "sequentialminus": [
            [
             0,
             "#0d0887"
            ],
            [
             0.1111111111111111,
             "#46039f"
            ],
            [
             0.2222222222222222,
             "#7201a8"
            ],
            [
             0.3333333333333333,
             "#9c179e"
            ],
            [
             0.4444444444444444,
             "#bd3786"
            ],
            [
             0.5555555555555556,
             "#d8576b"
            ],
            [
             0.6666666666666666,
             "#ed7953"
            ],
            [
             0.7777777777777778,
             "#fb9f3a"
            ],
            [
             0.8888888888888888,
             "#fdca26"
            ],
            [
             1,
             "#f0f921"
            ]
           ]
          },
          "colorway": [
           "#636efa",
           "#EF553B",
           "#00cc96",
           "#ab63fa",
           "#FFA15A",
           "#19d3f3",
           "#FF6692",
           "#B6E880",
           "#FF97FF",
           "#FECB52"
          ],
          "font": {
           "color": "#f2f5fa"
          },
          "geo": {
           "bgcolor": "rgb(17,17,17)",
           "lakecolor": "rgb(17,17,17)",
           "landcolor": "rgb(17,17,17)",
           "showlakes": true,
           "showland": true,
           "subunitcolor": "#506784"
          },
          "hoverlabel": {
           "align": "left"
          },
          "hovermode": "closest",
          "mapbox": {
           "style": "dark"
          },
          "paper_bgcolor": "rgb(17,17,17)",
          "plot_bgcolor": "rgb(17,17,17)",
          "polar": {
           "angularaxis": {
            "gridcolor": "#506784",
            "linecolor": "#506784",
            "ticks": ""
           },
           "bgcolor": "rgb(17,17,17)",
           "radialaxis": {
            "gridcolor": "#506784",
            "linecolor": "#506784",
            "ticks": ""
           }
          },
          "scene": {
           "xaxis": {
            "backgroundcolor": "rgb(17,17,17)",
            "gridcolor": "#506784",
            "gridwidth": 2,
            "linecolor": "#506784",
            "showbackground": true,
            "ticks": "",
            "zerolinecolor": "#C8D4E3"
           },
           "yaxis": {
            "backgroundcolor": "rgb(17,17,17)",
            "gridcolor": "#506784",
            "gridwidth": 2,
            "linecolor": "#506784",
            "showbackground": true,
            "ticks": "",
            "zerolinecolor": "#C8D4E3"
           },
           "zaxis": {
            "backgroundcolor": "rgb(17,17,17)",
            "gridcolor": "#506784",
            "gridwidth": 2,
            "linecolor": "#506784",
            "showbackground": true,
            "ticks": "",
            "zerolinecolor": "#C8D4E3"
           }
          },
          "shapedefaults": {
           "line": {
            "color": "#f2f5fa"
           }
          },
          "sliderdefaults": {
           "bgcolor": "#C8D4E3",
           "bordercolor": "rgb(17,17,17)",
           "borderwidth": 1,
           "tickwidth": 0
          },
          "ternary": {
           "aaxis": {
            "gridcolor": "#506784",
            "linecolor": "#506784",
            "ticks": ""
           },
           "baxis": {
            "gridcolor": "#506784",
            "linecolor": "#506784",
            "ticks": ""
           },
           "bgcolor": "rgb(17,17,17)",
           "caxis": {
            "gridcolor": "#506784",
            "linecolor": "#506784",
            "ticks": ""
           }
          },
          "title": {
           "x": 0.05
          },
          "updatemenudefaults": {
           "bgcolor": "#506784",
           "borderwidth": 0
          },
          "xaxis": {
           "automargin": true,
           "gridcolor": "#283442",
           "linecolor": "#506784",
           "ticks": "",
           "title": {
            "standoff": 15
           },
           "zerolinecolor": "#283442",
           "zerolinewidth": 2
          },
          "yaxis": {
           "automargin": true,
           "gridcolor": "#283442",
           "linecolor": "#506784",
           "ticks": "",
           "title": {
            "standoff": 15
           },
           "zerolinecolor": "#283442",
           "zerolinewidth": 2
          }
         }
        },
        "title": {
         "text": "GameStop Stock Daily Return",
         "x": 0.5,
         "xanchor": "center"
        },
        "xaxis": {
         "anchor": "y",
         "domain": [
          0,
          1
         ],
         "title": {
          "text": "Date"
         }
        },
        "yaxis": {
         "anchor": "x",
         "domain": [
          0,
          1
         ],
         "title": {
          "text": "Daily return (%)"
         }
        }
       }
      },
      "text/html": [
       "<div>                            <div id=\"21e53702-27e1-461a-b035-75232be7859f\" class=\"plotly-graph-div\" style=\"height:525px; width:100%;\"></div>            <script type=\"text/javascript\">                require([\"plotly\"], function(Plotly) {                    window.PLOTLYENV=window.PLOTLYENV || {};                                    if (document.getElementById(\"21e53702-27e1-461a-b035-75232be7859f\")) {                    Plotly.newPlot(                        \"21e53702-27e1-461a-b035-75232be7859f\",                        [{\"alignmentgroup\": \"True\", \"hovertemplate\": \"Date=%{x}<br>Daily return (%)=%{y}<extra></extra>\", \"legendgroup\": \"\", \"marker\": {\"color\": \"#636efa\"}, \"name\": \"\", \"offsetgroup\": \"\", \"orientation\": \"v\", \"showlegend\": false, \"textposition\": \"auto\", \"type\": \"bar\", \"x\": [\"2020-03-16T00:00:00\", \"2020-03-17T00:00:00\", \"2020-03-18T00:00:00\", \"2020-03-19T00:00:00\", \"2020-03-20T00:00:00\", \"2020-03-23T00:00:00\", \"2020-03-24T00:00:00\", \"2020-03-25T00:00:00\", \"2020-03-26T00:00:00\", \"2020-03-27T00:00:00\", \"2020-03-30T00:00:00\", \"2020-03-31T00:00:00\", \"2020-04-01T00:00:00\", \"2020-04-02T00:00:00\", \"2020-04-03T00:00:00\", \"2020-04-06T00:00:00\", \"2020-04-07T00:00:00\", \"2020-04-08T00:00:00\", \"2020-04-09T00:00:00\", \"2020-04-13T00:00:00\", \"2020-04-14T00:00:00\", \"2020-04-15T00:00:00\", \"2020-04-16T00:00:00\", \"2020-04-17T00:00:00\", \"2020-04-20T00:00:00\", \"2020-04-21T00:00:00\", \"2020-04-22T00:00:00\", \"2020-04-23T00:00:00\", \"2020-04-24T00:00:00\", \"2020-04-27T00:00:00\", \"2020-04-28T00:00:00\", \"2020-04-29T00:00:00\", \"2020-04-30T00:00:00\", \"2020-05-01T00:00:00\", \"2020-05-04T00:00:00\", \"2020-05-05T00:00:00\", \"2020-05-06T00:00:00\", \"2020-05-07T00:00:00\", \"2020-05-08T00:00:00\", \"2020-05-11T00:00:00\", \"2020-05-12T00:00:00\", \"2020-05-13T00:00:00\", \"2020-05-14T00:00:00\", \"2020-05-15T00:00:00\", \"2020-05-18T00:00:00\", \"2020-05-19T00:00:00\", \"2020-05-20T00:00:00\", \"2020-05-21T00:00:00\", \"2020-05-22T00:00:00\", \"2020-05-26T00:00:00\", \"2020-05-27T00:00:00\", \"2020-05-28T00:00:00\", \"2020-05-29T00:00:00\", \"2020-06-01T00:00:00\", \"2020-06-02T00:00:00\", \"2020-06-03T00:00:00\", \"2020-06-04T00:00:00\", \"2020-06-05T00:00:00\", \"2020-06-08T00:00:00\", \"2020-06-09T00:00:00\", \"2020-06-10T00:00:00\", \"2020-06-11T00:00:00\", \"2020-06-12T00:00:00\", \"2020-06-15T00:00:00\", \"2020-06-16T00:00:00\", \"2020-06-17T00:00:00\", \"2020-06-18T00:00:00\", \"2020-06-19T00:00:00\", \"2020-06-22T00:00:00\", \"2020-06-23T00:00:00\", \"2020-06-24T00:00:00\", \"2020-06-25T00:00:00\", \"2020-06-26T00:00:00\", \"2020-06-29T00:00:00\", \"2020-06-30T00:00:00\", \"2020-07-01T00:00:00\", \"2020-07-02T00:00:00\", \"2020-07-06T00:00:00\", \"2020-07-07T00:00:00\", \"2020-07-08T00:00:00\", \"2020-07-09T00:00:00\", \"2020-07-10T00:00:00\", \"2020-07-13T00:00:00\", \"2020-07-14T00:00:00\", \"2020-07-15T00:00:00\", \"2020-07-16T00:00:00\", \"2020-07-17T00:00:00\", \"2020-07-20T00:00:00\", \"2020-07-21T00:00:00\", \"2020-07-22T00:00:00\", \"2020-07-23T00:00:00\", \"2020-07-24T00:00:00\", \"2020-07-27T00:00:00\", \"2020-07-28T00:00:00\", \"2020-07-29T00:00:00\", \"2020-07-30T00:00:00\", \"2020-07-31T00:00:00\", \"2020-08-03T00:00:00\", \"2020-08-04T00:00:00\", \"2020-08-05T00:00:00\", \"2020-08-06T00:00:00\", \"2020-08-07T00:00:00\", \"2020-08-10T00:00:00\", \"2020-08-11T00:00:00\", \"2020-08-12T00:00:00\", \"2020-08-13T00:00:00\", \"2020-08-14T00:00:00\", \"2020-08-17T00:00:00\", \"2020-08-18T00:00:00\", \"2020-08-19T00:00:00\", \"2020-08-20T00:00:00\", \"2020-08-21T00:00:00\", \"2020-08-24T00:00:00\", \"2020-08-25T00:00:00\", \"2020-08-26T00:00:00\", \"2020-08-27T00:00:00\", \"2020-08-28T00:00:00\", \"2020-08-31T00:00:00\", \"2020-09-01T00:00:00\", \"2020-09-02T00:00:00\", \"2020-09-03T00:00:00\", \"2020-09-04T00:00:00\", \"2020-09-08T00:00:00\", \"2020-09-09T00:00:00\", \"2020-09-10T00:00:00\", \"2020-09-11T00:00:00\", \"2020-09-14T00:00:00\", \"2020-09-15T00:00:00\", \"2020-09-16T00:00:00\", \"2020-09-17T00:00:00\", \"2020-09-18T00:00:00\", \"2020-09-21T00:00:00\", \"2020-09-22T00:00:00\", \"2020-09-23T00:00:00\", \"2020-09-24T00:00:00\", \"2020-09-25T00:00:00\", \"2020-09-28T00:00:00\", \"2020-09-29T00:00:00\", \"2020-09-30T00:00:00\", \"2020-10-01T00:00:00\", \"2020-10-02T00:00:00\", \"2020-10-05T00:00:00\", \"2020-10-06T00:00:00\", \"2020-10-07T00:00:00\", \"2020-10-08T00:00:00\", \"2020-10-09T00:00:00\", \"2020-10-12T00:00:00\", \"2020-10-13T00:00:00\", \"2020-10-14T00:00:00\", \"2020-10-15T00:00:00\", \"2020-10-16T00:00:00\", \"2020-10-19T00:00:00\", \"2020-10-20T00:00:00\", \"2020-10-21T00:00:00\", \"2020-10-22T00:00:00\", \"2020-10-23T00:00:00\", \"2020-10-26T00:00:00\", \"2020-10-27T00:00:00\", \"2020-10-28T00:00:00\", \"2020-10-29T00:00:00\", \"2020-10-30T00:00:00\", \"2020-11-02T00:00:00\", \"2020-11-03T00:00:00\", \"2020-11-04T00:00:00\", \"2020-11-05T00:00:00\", \"2020-11-06T00:00:00\", \"2020-11-09T00:00:00\", \"2020-11-10T00:00:00\", \"2020-11-11T00:00:00\", \"2020-11-12T00:00:00\", \"2020-11-13T00:00:00\", \"2020-11-16T00:00:00\", \"2020-11-17T00:00:00\", \"2020-11-18T00:00:00\", \"2020-11-19T00:00:00\", \"2020-11-20T00:00:00\", \"2020-11-23T00:00:00\", \"2020-11-24T00:00:00\", \"2020-11-25T00:00:00\", \"2020-11-27T00:00:00\", \"2020-11-30T00:00:00\", \"2020-12-01T00:00:00\", \"2020-12-02T00:00:00\", \"2020-12-03T00:00:00\", \"2020-12-04T00:00:00\", \"2020-12-07T00:00:00\", \"2020-12-08T00:00:00\", \"2020-12-09T00:00:00\", \"2020-12-10T00:00:00\", \"2020-12-11T00:00:00\", \"2020-12-14T00:00:00\", \"2020-12-15T00:00:00\", \"2020-12-16T00:00:00\", \"2020-12-17T00:00:00\", \"2020-12-18T00:00:00\", \"2020-12-21T00:00:00\", \"2020-12-22T00:00:00\", \"2020-12-23T00:00:00\", \"2020-12-24T00:00:00\", \"2020-12-28T00:00:00\", \"2020-12-29T00:00:00\", \"2020-12-30T00:00:00\", \"2020-12-31T00:00:00\", \"2021-01-04T00:00:00\", \"2021-01-05T00:00:00\", \"2021-01-06T00:00:00\", \"2021-01-07T00:00:00\", \"2021-01-08T00:00:00\", \"2021-01-11T00:00:00\", \"2021-01-12T00:00:00\", \"2021-01-13T00:00:00\", \"2021-01-14T00:00:00\", \"2021-01-15T00:00:00\", \"2021-01-19T00:00:00\", \"2021-01-20T00:00:00\", \"2021-01-21T00:00:00\", \"2021-01-22T00:00:00\", \"2021-01-25T00:00:00\", \"2021-01-26T00:00:00\", \"2021-01-27T00:00:00\", \"2021-01-28T00:00:00\", \"2021-01-29T00:00:00\", \"2021-02-01T00:00:00\", \"2021-02-02T00:00:00\", \"2021-02-03T00:00:00\", \"2021-02-04T00:00:00\", \"2021-02-05T00:00:00\", \"2021-02-08T00:00:00\", \"2021-02-09T00:00:00\", \"2021-02-10T00:00:00\", \"2021-02-11T00:00:00\", \"2021-02-12T00:00:00\"], \"xaxis\": \"x\", \"y\": [null, -3.2, -10.87, 11.14, -10.26, 1.33, 9.19, 0.24, 5.76, -4.31, -13.51, -4.11, -7.14, -12.31, -1.75, 10.36, 5.83, 4.28, 14.08, 21.85, 25.53, -11.43, -4.55, -2.98, 14.96, -14.8, 2.3, -3.89, 1.49, 22.01, -3.09, 7.09, -5.13, 5.58, -9.42, -1.64, -8.53, -1.22, 2.26, -4.42, -4.62, -7.27, -1.9, 2.18, 8.53, -3.06, -0.23, 0.23, -5.86, 5.74, 6.11, -7.68, -6.24, 1.72, 1.21, 6.22, 0.68, -7.38, 21.01, -1.0, 2.22, -13.81, 8.01, -0.64, -1.07, 2.59, 3.99, -1.41, -0.2, -0.82, -8.7, 1.13, -2.47, 0.69, -0.91, 2.3, -3.38, -1.17, -3.54, 4.16, -1.17, 3.09, -1.84, -4.23, 2.7, -0.48, -5.04, -2.78, 4.16, 2.49, 0.0, -1.95, -0.5, -1.75, 3.05, 0.99, -2.2, 3.49, 6.75, 4.51, -4.32, -6.09, 4.09, 0.46, 3.91, 2.65, 2.37, -2.53, 3.89, -1.87, -2.33, 9.11, -3.18, 2.26, 2.61, 2.74, 2.67, 23.93, 14.52, 0.78, 1.43, -2.17, 0.65, -4.55, -15.24, -2.25, 13.46, 2.6, 22.43, 5.99, 2.93, -7.6, 20.69, -4.92, -8.96, 9.63, 0.7, 2.58, -1.45, -4.22, -3.89, 0.75, -3.49, 2.52, 44.12, -10.9, -1.83, 0.68, 3.11, 12.9, -3.76, 4.51, -0.36, 1.73, 5.74, 0.6, -10.33, -5.65, -6.86, -0.76, -10.74, 2.67, 7.63, -5.7, 4.95, 3.58, -3.12, -3.39, 5.86, -5.28, -1.08, 9.54, -3.57, -0.52, 7.69, 2.01, 9.36, -1.65, 7.9, 9.02, 2.99, -4.59, 4.94, -2.77, 4.84, -3.25, 3.61, -19.36, 3.37, -5.74, -4.43, 8.88, 0.0, 7.08, 5.39, -0.64, 25.31, 5.7, -2.04, 4.17, -7.67, -0.62, -2.18, -8.44, 0.7, 5.7, -1.53, -2.16, 12.72, 0.05, 57.39, 27.1, -11.05, 10.87, -0.61, 9.99, 51.08, 18.12, 92.71, 134.84, -44.29, 67.87, -30.77, -60.0, 2.68, -42.11, 19.2, -5.91, -16.15, 1.77, -0.2, 2.54], \"yaxis\": \"y\"}],                        {\"barmode\": \"relative\", \"legend\": {\"tracegroupgap\": 0}, \"margin\": {\"t\": 60}, \"template\": {\"data\": {\"bar\": [{\"error_x\": {\"color\": \"#f2f5fa\"}, \"error_y\": {\"color\": \"#f2f5fa\"}, \"marker\": {\"line\": {\"color\": \"rgb(17,17,17)\", \"width\": 0.5}}, \"type\": \"bar\"}], \"barpolar\": [{\"marker\": {\"line\": {\"color\": \"rgb(17,17,17)\", \"width\": 0.5}}, \"type\": \"barpolar\"}], \"carpet\": [{\"aaxis\": {\"endlinecolor\": \"#A2B1C6\", \"gridcolor\": \"#506784\", \"linecolor\": \"#506784\", \"minorgridcolor\": \"#506784\", \"startlinecolor\": \"#A2B1C6\"}, \"baxis\": {\"endlinecolor\": \"#A2B1C6\", \"gridcolor\": \"#506784\", \"linecolor\": \"#506784\", \"minorgridcolor\": \"#506784\", \"startlinecolor\": \"#A2B1C6\"}, \"type\": \"carpet\"}], \"choropleth\": [{\"colorbar\": {\"outlinewidth\": 0, \"ticks\": \"\"}, \"type\": \"choropleth\"}], \"contour\": [{\"colorbar\": {\"outlinewidth\": 0, \"ticks\": \"\"}, \"colorscale\": [[0.0, \"#0d0887\"], [0.1111111111111111, \"#46039f\"], [0.2222222222222222, \"#7201a8\"], [0.3333333333333333, \"#9c179e\"], [0.4444444444444444, \"#bd3786\"], [0.5555555555555556, \"#d8576b\"], [0.6666666666666666, \"#ed7953\"], [0.7777777777777778, \"#fb9f3a\"], [0.8888888888888888, \"#fdca26\"], [1.0, \"#f0f921\"]], \"type\": \"contour\"}], \"contourcarpet\": [{\"colorbar\": {\"outlinewidth\": 0, \"ticks\": \"\"}, \"type\": \"contourcarpet\"}], \"heatmap\": [{\"colorbar\": {\"outlinewidth\": 0, \"ticks\": \"\"}, \"colorscale\": [[0.0, \"#0d0887\"], [0.1111111111111111, \"#46039f\"], [0.2222222222222222, \"#7201a8\"], [0.3333333333333333, \"#9c179e\"], [0.4444444444444444, \"#bd3786\"], [0.5555555555555556, \"#d8576b\"], [0.6666666666666666, \"#ed7953\"], [0.7777777777777778, \"#fb9f3a\"], [0.8888888888888888, \"#fdca26\"], [1.0, \"#f0f921\"]], \"type\": \"heatmap\"}], \"heatmapgl\": [{\"colorbar\": {\"outlinewidth\": 0, \"ticks\": \"\"}, \"colorscale\": [[0.0, \"#0d0887\"], [0.1111111111111111, \"#46039f\"], [0.2222222222222222, \"#7201a8\"], [0.3333333333333333, \"#9c179e\"], [0.4444444444444444, \"#bd3786\"], [0.5555555555555556, \"#d8576b\"], [0.6666666666666666, \"#ed7953\"], [0.7777777777777778, \"#fb9f3a\"], [0.8888888888888888, \"#fdca26\"], [1.0, \"#f0f921\"]], \"type\": \"heatmapgl\"}], \"histogram\": [{\"marker\": {\"colorbar\": {\"outlinewidth\": 0, \"ticks\": \"\"}}, \"type\": \"histogram\"}], \"histogram2d\": [{\"colorbar\": {\"outlinewidth\": 0, \"ticks\": \"\"}, \"colorscale\": [[0.0, \"#0d0887\"], [0.1111111111111111, \"#46039f\"], [0.2222222222222222, \"#7201a8\"], [0.3333333333333333, \"#9c179e\"], [0.4444444444444444, \"#bd3786\"], [0.5555555555555556, \"#d8576b\"], [0.6666666666666666, \"#ed7953\"], [0.7777777777777778, \"#fb9f3a\"], [0.8888888888888888, \"#fdca26\"], [1.0, \"#f0f921\"]], \"type\": \"histogram2d\"}], \"histogram2dcontour\": [{\"colorbar\": {\"outlinewidth\": 0, \"ticks\": \"\"}, \"colorscale\": [[0.0, \"#0d0887\"], [0.1111111111111111, \"#46039f\"], [0.2222222222222222, \"#7201a8\"], [0.3333333333333333, \"#9c179e\"], [0.4444444444444444, \"#bd3786\"], [0.5555555555555556, \"#d8576b\"], [0.6666666666666666, \"#ed7953\"], [0.7777777777777778, \"#fb9f3a\"], [0.8888888888888888, \"#fdca26\"], [1.0, \"#f0f921\"]], \"type\": \"histogram2dcontour\"}], \"mesh3d\": [{\"colorbar\": {\"outlinewidth\": 0, \"ticks\": \"\"}, \"type\": \"mesh3d\"}], \"parcoords\": [{\"line\": {\"colorbar\": {\"outlinewidth\": 0, \"ticks\": \"\"}}, \"type\": \"parcoords\"}], \"pie\": [{\"automargin\": true, \"type\": \"pie\"}], \"scatter\": [{\"marker\": {\"line\": {\"color\": \"#283442\"}}, \"type\": \"scatter\"}], \"scatter3d\": [{\"line\": {\"colorbar\": {\"outlinewidth\": 0, \"ticks\": \"\"}}, \"marker\": {\"colorbar\": {\"outlinewidth\": 0, \"ticks\": \"\"}}, \"type\": \"scatter3d\"}], \"scattercarpet\": [{\"marker\": {\"colorbar\": {\"outlinewidth\": 0, \"ticks\": \"\"}}, \"type\": \"scattercarpet\"}], \"scattergeo\": [{\"marker\": {\"colorbar\": {\"outlinewidth\": 0, \"ticks\": \"\"}}, \"type\": \"scattergeo\"}], \"scattergl\": [{\"marker\": {\"line\": {\"color\": \"#283442\"}}, \"type\": \"scattergl\"}], \"scattermapbox\": [{\"marker\": {\"colorbar\": {\"outlinewidth\": 0, \"ticks\": \"\"}}, \"type\": \"scattermapbox\"}], \"scatterpolar\": [{\"marker\": {\"colorbar\": {\"outlinewidth\": 0, \"ticks\": \"\"}}, \"type\": \"scatterpolar\"}], \"scatterpolargl\": [{\"marker\": {\"colorbar\": {\"outlinewidth\": 0, \"ticks\": \"\"}}, \"type\": \"scatterpolargl\"}], \"scatterternary\": [{\"marker\": {\"colorbar\": {\"outlinewidth\": 0, \"ticks\": \"\"}}, \"type\": \"scatterternary\"}], \"surface\": [{\"colorbar\": {\"outlinewidth\": 0, \"ticks\": \"\"}, \"colorscale\": [[0.0, \"#0d0887\"], [0.1111111111111111, \"#46039f\"], [0.2222222222222222, \"#7201a8\"], [0.3333333333333333, \"#9c179e\"], [0.4444444444444444, \"#bd3786\"], [0.5555555555555556, \"#d8576b\"], [0.6666666666666666, \"#ed7953\"], [0.7777777777777778, \"#fb9f3a\"], [0.8888888888888888, \"#fdca26\"], [1.0, \"#f0f921\"]], \"type\": \"surface\"}], \"table\": [{\"cells\": {\"fill\": {\"color\": \"#506784\"}, \"line\": {\"color\": \"rgb(17,17,17)\"}}, \"header\": {\"fill\": {\"color\": \"#2a3f5f\"}, \"line\": {\"color\": \"rgb(17,17,17)\"}}, \"type\": \"table\"}]}, \"layout\": {\"annotationdefaults\": {\"arrowcolor\": \"#f2f5fa\", \"arrowhead\": 0, \"arrowwidth\": 1}, \"autotypenumbers\": \"strict\", \"coloraxis\": {\"colorbar\": {\"outlinewidth\": 0, \"ticks\": \"\"}}, \"colorscale\": {\"diverging\": [[0, \"#8e0152\"], [0.1, \"#c51b7d\"], [0.2, \"#de77ae\"], [0.3, \"#f1b6da\"], [0.4, \"#fde0ef\"], [0.5, \"#f7f7f7\"], [0.6, \"#e6f5d0\"], [0.7, \"#b8e186\"], [0.8, \"#7fbc41\"], [0.9, \"#4d9221\"], [1, \"#276419\"]], \"sequential\": [[0.0, \"#0d0887\"], [0.1111111111111111, \"#46039f\"], [0.2222222222222222, \"#7201a8\"], [0.3333333333333333, \"#9c179e\"], [0.4444444444444444, \"#bd3786\"], [0.5555555555555556, \"#d8576b\"], [0.6666666666666666, \"#ed7953\"], [0.7777777777777778, \"#fb9f3a\"], [0.8888888888888888, \"#fdca26\"], [1.0, \"#f0f921\"]], \"sequentialminus\": [[0.0, \"#0d0887\"], [0.1111111111111111, \"#46039f\"], [0.2222222222222222, \"#7201a8\"], [0.3333333333333333, \"#9c179e\"], [0.4444444444444444, \"#bd3786\"], [0.5555555555555556, \"#d8576b\"], [0.6666666666666666, \"#ed7953\"], [0.7777777777777778, \"#fb9f3a\"], [0.8888888888888888, \"#fdca26\"], [1.0, \"#f0f921\"]]}, \"colorway\": [\"#636efa\", \"#EF553B\", \"#00cc96\", \"#ab63fa\", \"#FFA15A\", \"#19d3f3\", \"#FF6692\", \"#B6E880\", \"#FF97FF\", \"#FECB52\"], \"font\": {\"color\": \"#f2f5fa\"}, \"geo\": {\"bgcolor\": \"rgb(17,17,17)\", \"lakecolor\": \"rgb(17,17,17)\", \"landcolor\": \"rgb(17,17,17)\", \"showlakes\": true, \"showland\": true, \"subunitcolor\": \"#506784\"}, \"hoverlabel\": {\"align\": \"left\"}, \"hovermode\": \"closest\", \"mapbox\": {\"style\": \"dark\"}, \"paper_bgcolor\": \"rgb(17,17,17)\", \"plot_bgcolor\": \"rgb(17,17,17)\", \"polar\": {\"angularaxis\": {\"gridcolor\": \"#506784\", \"linecolor\": \"#506784\", \"ticks\": \"\"}, \"bgcolor\": \"rgb(17,17,17)\", \"radialaxis\": {\"gridcolor\": \"#506784\", \"linecolor\": \"#506784\", \"ticks\": \"\"}}, \"scene\": {\"xaxis\": {\"backgroundcolor\": \"rgb(17,17,17)\", \"gridcolor\": \"#506784\", \"gridwidth\": 2, \"linecolor\": \"#506784\", \"showbackground\": true, \"ticks\": \"\", \"zerolinecolor\": \"#C8D4E3\"}, \"yaxis\": {\"backgroundcolor\": \"rgb(17,17,17)\", \"gridcolor\": \"#506784\", \"gridwidth\": 2, \"linecolor\": \"#506784\", \"showbackground\": true, \"ticks\": \"\", \"zerolinecolor\": \"#C8D4E3\"}, \"zaxis\": {\"backgroundcolor\": \"rgb(17,17,17)\", \"gridcolor\": \"#506784\", \"gridwidth\": 2, \"linecolor\": \"#506784\", \"showbackground\": true, \"ticks\": \"\", \"zerolinecolor\": \"#C8D4E3\"}}, \"shapedefaults\": {\"line\": {\"color\": \"#f2f5fa\"}}, \"sliderdefaults\": {\"bgcolor\": \"#C8D4E3\", \"bordercolor\": \"rgb(17,17,17)\", \"borderwidth\": 1, \"tickwidth\": 0}, \"ternary\": {\"aaxis\": {\"gridcolor\": \"#506784\", \"linecolor\": \"#506784\", \"ticks\": \"\"}, \"baxis\": {\"gridcolor\": \"#506784\", \"linecolor\": \"#506784\", \"ticks\": \"\"}, \"bgcolor\": \"rgb(17,17,17)\", \"caxis\": {\"gridcolor\": \"#506784\", \"linecolor\": \"#506784\", \"ticks\": \"\"}}, \"title\": {\"x\": 0.05}, \"updatemenudefaults\": {\"bgcolor\": \"#506784\", \"borderwidth\": 0}, \"xaxis\": {\"automargin\": true, \"gridcolor\": \"#283442\", \"linecolor\": \"#506784\", \"ticks\": \"\", \"title\": {\"standoff\": 15}, \"zerolinecolor\": \"#283442\", \"zerolinewidth\": 2}, \"yaxis\": {\"automargin\": true, \"gridcolor\": \"#283442\", \"linecolor\": \"#506784\", \"ticks\": \"\", \"title\": {\"standoff\": 15}, \"zerolinecolor\": \"#283442\", \"zerolinewidth\": 2}}}, \"title\": {\"text\": \"GameStop Stock Daily Return\", \"x\": 0.5, \"xanchor\": \"center\"}, \"xaxis\": {\"anchor\": \"y\", \"domain\": [0.0, 1.0], \"title\": {\"text\": \"Date\"}}, \"yaxis\": {\"anchor\": \"x\", \"domain\": [0.0, 1.0], \"title\": {\"text\": \"Daily return (%)\"}}},                        {\"responsive\": true}                    ).then(function(){\n",
       "                            \n",
       "var gd = document.getElementById('21e53702-27e1-461a-b035-75232be7859f');\n",
       "var x = new MutationObserver(function (mutations, observer) {{\n",
       "        var display = window.getComputedStyle(gd).display;\n",
       "        if (!display || display === 'none') {{\n",
       "            console.log([gd, 'removed!']);\n",
       "            Plotly.purge(gd);\n",
       "            observer.disconnect();\n",
       "        }}\n",
       "}});\n",
       "\n",
       "// Listen for the removal of the full notebook cells\n",
       "var notebookContainer = gd.closest('#notebook-container');\n",
       "if (notebookContainer) {{\n",
       "    x.observe(notebookContainer, {childList: true});\n",
       "}}\n",
       "\n",
       "// Listen for the clearing of the current output cell\n",
       "var outputEl = gd.closest('.output');\n",
       "if (outputEl) {{\n",
       "    x.observe(outputEl, {childList: true});\n",
       "}}\n",
       "\n",
       "                        })                };                });            </script>        </div>"
      ]
     },
     "metadata": {},
     "output_type": "display_data"
    }
   ],
   "source": [
    "gmstp['Daily return (%)'] = round(gmstp['Close'].pct_change()*100, 2)\n",
    "\n",
    "fig3 = px.bar(gmstp, x=\"Date\", y=\"Daily return (%)\")\n",
    "fig3.update_layout(\n",
    "    title={\n",
    "        'text': \"GameStop Stock Daily Return\",\n",
    "        'x':0.5,\n",
    "        'xanchor': 'center'})\n",
    "fig3.show()"
   ]
  },
  {
   "cell_type": "code",
   "execution_count": 15,
   "metadata": {},
   "outputs": [
    {
     "data": {
      "application/vnd.plotly.v1+json": {
       "config": {
        "plotlyServerURL": "https://plot.ly"
       },
       "data": [
        {
         "line": {
          "color": "lime"
         },
         "name": "GME",
         "type": "scatter",
         "x": [
          "2020-03-16T00:00:00",
          "2020-03-17T00:00:00",
          "2020-03-18T00:00:00",
          "2020-03-19T00:00:00",
          "2020-03-20T00:00:00",
          "2020-03-23T00:00:00",
          "2020-03-24T00:00:00",
          "2020-03-25T00:00:00",
          "2020-03-26T00:00:00",
          "2020-03-27T00:00:00",
          "2020-03-30T00:00:00",
          "2020-03-31T00:00:00",
          "2020-04-01T00:00:00",
          "2020-04-02T00:00:00",
          "2020-04-03T00:00:00",
          "2020-04-06T00:00:00",
          "2020-04-07T00:00:00",
          "2020-04-08T00:00:00",
          "2020-04-09T00:00:00",
          "2020-04-13T00:00:00",
          "2020-04-14T00:00:00",
          "2020-04-15T00:00:00",
          "2020-04-16T00:00:00",
          "2020-04-17T00:00:00",
          "2020-04-20T00:00:00",
          "2020-04-21T00:00:00",
          "2020-04-22T00:00:00",
          "2020-04-23T00:00:00",
          "2020-04-24T00:00:00",
          "2020-04-27T00:00:00",
          "2020-04-28T00:00:00",
          "2020-04-29T00:00:00",
          "2020-04-30T00:00:00",
          "2020-05-01T00:00:00",
          "2020-05-04T00:00:00",
          "2020-05-05T00:00:00",
          "2020-05-06T00:00:00",
          "2020-05-07T00:00:00",
          "2020-05-08T00:00:00",
          "2020-05-11T00:00:00",
          "2020-05-12T00:00:00",
          "2020-05-13T00:00:00",
          "2020-05-14T00:00:00",
          "2020-05-15T00:00:00",
          "2020-05-18T00:00:00",
          "2020-05-19T00:00:00",
          "2020-05-20T00:00:00",
          "2020-05-21T00:00:00",
          "2020-05-22T00:00:00",
          "2020-05-26T00:00:00",
          "2020-05-27T00:00:00",
          "2020-05-28T00:00:00",
          "2020-05-29T00:00:00",
          "2020-06-01T00:00:00",
          "2020-06-02T00:00:00",
          "2020-06-03T00:00:00",
          "2020-06-04T00:00:00",
          "2020-06-05T00:00:00",
          "2020-06-08T00:00:00",
          "2020-06-09T00:00:00",
          "2020-06-10T00:00:00",
          "2020-06-11T00:00:00",
          "2020-06-12T00:00:00",
          "2020-06-15T00:00:00",
          "2020-06-16T00:00:00",
          "2020-06-17T00:00:00",
          "2020-06-18T00:00:00",
          "2020-06-19T00:00:00",
          "2020-06-22T00:00:00",
          "2020-06-23T00:00:00",
          "2020-06-24T00:00:00",
          "2020-06-25T00:00:00",
          "2020-06-26T00:00:00",
          "2020-06-29T00:00:00",
          "2020-06-30T00:00:00",
          "2020-07-01T00:00:00",
          "2020-07-02T00:00:00",
          "2020-07-06T00:00:00",
          "2020-07-07T00:00:00",
          "2020-07-08T00:00:00",
          "2020-07-09T00:00:00",
          "2020-07-10T00:00:00",
          "2020-07-13T00:00:00",
          "2020-07-14T00:00:00",
          "2020-07-15T00:00:00",
          "2020-07-16T00:00:00",
          "2020-07-17T00:00:00",
          "2020-07-20T00:00:00",
          "2020-07-21T00:00:00",
          "2020-07-22T00:00:00",
          "2020-07-23T00:00:00",
          "2020-07-24T00:00:00",
          "2020-07-27T00:00:00",
          "2020-07-28T00:00:00",
          "2020-07-29T00:00:00",
          "2020-07-30T00:00:00",
          "2020-07-31T00:00:00",
          "2020-08-03T00:00:00",
          "2020-08-04T00:00:00",
          "2020-08-05T00:00:00",
          "2020-08-06T00:00:00",
          "2020-08-07T00:00:00",
          "2020-08-10T00:00:00",
          "2020-08-11T00:00:00",
          "2020-08-12T00:00:00",
          "2020-08-13T00:00:00",
          "2020-08-14T00:00:00",
          "2020-08-17T00:00:00",
          "2020-08-18T00:00:00",
          "2020-08-19T00:00:00",
          "2020-08-20T00:00:00",
          "2020-08-21T00:00:00",
          "2020-08-24T00:00:00",
          "2020-08-25T00:00:00",
          "2020-08-26T00:00:00",
          "2020-08-27T00:00:00",
          "2020-08-28T00:00:00",
          "2020-08-31T00:00:00",
          "2020-09-01T00:00:00",
          "2020-09-02T00:00:00",
          "2020-09-03T00:00:00",
          "2020-09-04T00:00:00",
          "2020-09-08T00:00:00",
          "2020-09-09T00:00:00",
          "2020-09-10T00:00:00",
          "2020-09-11T00:00:00",
          "2020-09-14T00:00:00",
          "2020-09-15T00:00:00",
          "2020-09-16T00:00:00",
          "2020-09-17T00:00:00",
          "2020-09-18T00:00:00",
          "2020-09-21T00:00:00",
          "2020-09-22T00:00:00",
          "2020-09-23T00:00:00",
          "2020-09-24T00:00:00",
          "2020-09-25T00:00:00",
          "2020-09-28T00:00:00",
          "2020-09-29T00:00:00",
          "2020-09-30T00:00:00",
          "2020-10-01T00:00:00",
          "2020-10-02T00:00:00",
          "2020-10-05T00:00:00",
          "2020-10-06T00:00:00",
          "2020-10-07T00:00:00",
          "2020-10-08T00:00:00",
          "2020-10-09T00:00:00",
          "2020-10-12T00:00:00",
          "2020-10-13T00:00:00",
          "2020-10-14T00:00:00",
          "2020-10-15T00:00:00",
          "2020-10-16T00:00:00",
          "2020-10-19T00:00:00",
          "2020-10-20T00:00:00",
          "2020-10-21T00:00:00",
          "2020-10-22T00:00:00",
          "2020-10-23T00:00:00",
          "2020-10-26T00:00:00",
          "2020-10-27T00:00:00",
          "2020-10-28T00:00:00",
          "2020-10-29T00:00:00",
          "2020-10-30T00:00:00",
          "2020-11-02T00:00:00",
          "2020-11-03T00:00:00",
          "2020-11-04T00:00:00",
          "2020-11-05T00:00:00",
          "2020-11-06T00:00:00",
          "2020-11-09T00:00:00",
          "2020-11-10T00:00:00",
          "2020-11-11T00:00:00",
          "2020-11-12T00:00:00",
          "2020-11-13T00:00:00",
          "2020-11-16T00:00:00",
          "2020-11-17T00:00:00",
          "2020-11-18T00:00:00",
          "2020-11-19T00:00:00",
          "2020-11-20T00:00:00",
          "2020-11-23T00:00:00",
          "2020-11-24T00:00:00",
          "2020-11-25T00:00:00",
          "2020-11-27T00:00:00",
          "2020-11-30T00:00:00",
          "2020-12-01T00:00:00",
          "2020-12-02T00:00:00",
          "2020-12-03T00:00:00",
          "2020-12-04T00:00:00",
          "2020-12-07T00:00:00",
          "2020-12-08T00:00:00",
          "2020-12-09T00:00:00",
          "2020-12-10T00:00:00",
          "2020-12-11T00:00:00",
          "2020-12-14T00:00:00",
          "2020-12-15T00:00:00",
          "2020-12-16T00:00:00",
          "2020-12-17T00:00:00",
          "2020-12-18T00:00:00",
          "2020-12-21T00:00:00",
          "2020-12-22T00:00:00",
          "2020-12-23T00:00:00",
          "2020-12-24T00:00:00",
          "2020-12-28T00:00:00",
          "2020-12-29T00:00:00",
          "2020-12-30T00:00:00",
          "2020-12-31T00:00:00",
          "2021-01-04T00:00:00",
          "2021-01-05T00:00:00",
          "2021-01-06T00:00:00",
          "2021-01-07T00:00:00",
          "2021-01-08T00:00:00",
          "2021-01-11T00:00:00",
          "2021-01-12T00:00:00",
          "2021-01-13T00:00:00",
          "2021-01-14T00:00:00",
          "2021-01-15T00:00:00",
          "2021-01-19T00:00:00",
          "2021-01-20T00:00:00",
          "2021-01-21T00:00:00",
          "2021-01-22T00:00:00",
          "2021-01-25T00:00:00",
          "2021-01-26T00:00:00",
          "2021-01-27T00:00:00",
          "2021-01-28T00:00:00",
          "2021-01-29T00:00:00",
          "2021-02-01T00:00:00",
          "2021-02-02T00:00:00",
          "2021-02-03T00:00:00",
          "2021-02-04T00:00:00",
          "2021-02-05T00:00:00",
          "2021-02-08T00:00:00",
          "2021-02-09T00:00:00",
          "2021-02-10T00:00:00",
          "2021-02-11T00:00:00",
          "2021-02-12T00:00:00"
         ],
         "y": [
          4.369999885559082,
          4.230000019073486,
          3.7699999809265137,
          4.190000057220459,
          3.759999990463257,
          3.809999942779541,
          4.159999847412109,
          4.170000076293945,
          4.409999847412109,
          4.21999979019165,
          3.6500000953674316,
          3.5,
          3.25,
          2.8499999046325684,
          2.799999952316284,
          3.0899999141693115,
          3.2699999809265137,
          3.4100000858306885,
          3.890000104904175,
          4.739999771118164,
          5.949999809265137,
          5.269999980926514,
          5.03000020980835,
          4.880000114440918,
          5.610000133514404,
          4.78000020980835,
          4.889999866485596,
          4.699999809265137,
          4.769999980926514,
          5.820000171661377,
          5.639999866485596,
          6.039999961853027,
          5.730000019073486,
          6.050000190734863,
          5.480000019073486,
          5.389999866485596,
          4.929999828338623,
          4.869999885559082,
          4.980000019073486,
          4.760000228881836,
          4.539999961853027,
          4.210000038146973,
          4.130000114440918,
          4.21999979019165,
          4.579999923706055,
          4.440000057220459,
          4.429999828338623,
          4.440000057220459,
          4.179999828338623,
          4.420000076293945,
          4.690000057220459,
          4.329999923706055,
          4.059999942779541,
          4.130000114440918,
          4.179999828338623,
          4.440000057220459,
          4.46999979019165,
          4.139999866485596,
          5.010000228881836,
          4.960000038146973,
          5.070000171661377,
          4.369999885559082,
          4.71999979019165,
          4.690000057220459,
          4.639999866485596,
          4.760000228881836,
          4.949999809265137,
          4.880000114440918,
          4.869999885559082,
          4.829999923706055,
          4.409999847412109,
          4.460000038146973,
          4.349999904632568,
          4.380000114440918,
          4.340000152587891,
          4.440000057220459,
          4.289999961853027,
          4.239999771118164,
          4.090000152587891,
          4.260000228881836,
          4.210000038146973,
          4.340000152587891,
          4.260000228881836,
          4.079999923706055,
          4.190000057220459,
          4.170000076293945,
          3.9600000381469727,
          3.8499999046325684,
          4.010000228881836,
          4.110000133514404,
          4.110000133514404,
          4.03000020980835,
          4.010000228881836,
          3.940000057220459,
          4.059999942779541,
          4.099999904632568,
          4.010000228881836,
          4.150000095367432,
          4.429999828338623,
          4.630000114440918,
          4.429999828338623,
          4.159999847412109,
          4.329999923706055,
          4.349999904632568,
          4.519999980926514,
          4.639999866485596,
          4.75,
          4.630000114440918,
          4.809999942779541,
          4.71999979019165,
          4.610000133514404,
          5.03000020980835,
          4.869999885559082,
          4.980000019073486,
          5.110000133514404,
          5.25,
          5.389999866485596,
          6.679999828338623,
          7.650000095367432,
          7.710000038146973,
          7.820000171661377,
          7.650000095367432,
          7.699999809265137,
          7.349999904632568,
          6.230000019073486,
          6.090000152587891,
          6.909999847412109,
          7.090000152587891,
          8.680000305175781,
          9.199999809265137,
          9.470000267028809,
          8.75,
          10.5600004196167,
          10.039999961853027,
          9.140000343322754,
          10.020000457763672,
          10.09000015258789,
          10.350000381469727,
          10.199999809265137,
          9.770000457763672,
          9.390000343322754,
          9.460000038146973,
          9.130000114440918,
          9.359999656677246,
          13.489999771118164,
          12.020000457763672,
          11.800000190734863,
          11.880000114440918,
          12.25,
          13.829999923706055,
          13.3100004196167,
          13.90999984741211,
          13.859999656677246,
          14.100000381469727,
          14.90999984741211,
          15,
          13.449999809265137,
          12.6899995803833,
          11.819999694824219,
          11.729999542236328,
          10.470000267028809,
          10.75,
          11.569999694824219,
          10.90999984741211,
          11.449999809265137,
          11.859999656677246,
          11.489999771118164,
          11.100000381469727,
          11.75,
          11.130000114440918,
          11.010000228881836,
          12.0600004196167,
          11.630000114440918,
          11.569999694824219,
          12.460000038146973,
          12.710000038146973,
          13.899999618530273,
          13.670000076293945,
          14.75,
          16.079999923706055,
          16.559999465942383,
          15.800000190734863,
          16.579999923706055,
          16.1200008392334,
          16.899999618530273,
          16.350000381469727,
          16.940000534057617,
          13.65999984741211,
          14.119999885559082,
          13.3100004196167,
          12.720000267028809,
          13.850000381469727,
          13.850000381469727,
          14.829999923706055,
          15.630000114440918,
          15.529999732971191,
          19.459999084472656,
          20.56999969482422,
          20.149999618530273,
          20.989999771118164,
          19.3799991607666,
          19.260000228881836,
          18.84000015258789,
          17.25,
          17.3700008392334,
          18.360000610351562,
          18.079999923706055,
          17.690000534057617,
          19.940000534057617,
          19.950000762939453,
          31.399999618530273,
          39.90999984741211,
          35.5,
          39.36000061035156,
          39.119998931884766,
          43.029998779296875,
          65.01000213623047,
          76.79000091552734,
          147.97999572753906,
          347.510009765625,
          193.60000610351562,
          325,
          225,
          90,
          92.41000366210938,
          53.5,
          63.77000045776367,
          60,
          50.310001373291016,
          51.20000076293945,
          51.099998474121094,
          52.400001525878906
         ]
        },
        {
         "line": {
          "color": "red"
         },
         "name": "TSLA",
         "type": "scatter",
         "x": [
          "2020-03-16T00:00:00",
          "2020-03-17T00:00:00",
          "2020-03-18T00:00:00",
          "2020-03-19T00:00:00",
          "2020-03-20T00:00:00",
          "2020-03-23T00:00:00",
          "2020-03-24T00:00:00",
          "2020-03-25T00:00:00",
          "2020-03-26T00:00:00",
          "2020-03-27T00:00:00",
          "2020-03-30T00:00:00",
          "2020-03-31T00:00:00",
          "2020-04-01T00:00:00",
          "2020-04-02T00:00:00",
          "2020-04-03T00:00:00",
          "2020-04-06T00:00:00",
          "2020-04-07T00:00:00",
          "2020-04-08T00:00:00",
          "2020-04-09T00:00:00",
          "2020-04-13T00:00:00",
          "2020-04-14T00:00:00",
          "2020-04-15T00:00:00",
          "2020-04-16T00:00:00",
          "2020-04-17T00:00:00",
          "2020-04-20T00:00:00",
          "2020-04-21T00:00:00",
          "2020-04-22T00:00:00",
          "2020-04-23T00:00:00",
          "2020-04-24T00:00:00",
          "2020-04-27T00:00:00",
          "2020-04-28T00:00:00",
          "2020-04-29T00:00:00",
          "2020-04-30T00:00:00",
          "2020-05-01T00:00:00",
          "2020-05-04T00:00:00",
          "2020-05-05T00:00:00",
          "2020-05-06T00:00:00",
          "2020-05-07T00:00:00",
          "2020-05-08T00:00:00",
          "2020-05-11T00:00:00",
          "2020-05-12T00:00:00",
          "2020-05-13T00:00:00",
          "2020-05-14T00:00:00",
          "2020-05-15T00:00:00",
          "2020-05-18T00:00:00",
          "2020-05-19T00:00:00",
          "2020-05-20T00:00:00",
          "2020-05-21T00:00:00",
          "2020-05-22T00:00:00",
          "2020-05-26T00:00:00",
          "2020-05-27T00:00:00",
          "2020-05-28T00:00:00",
          "2020-05-29T00:00:00",
          "2020-06-01T00:00:00",
          "2020-06-02T00:00:00",
          "2020-06-03T00:00:00",
          "2020-06-04T00:00:00",
          "2020-06-05T00:00:00",
          "2020-06-08T00:00:00",
          "2020-06-09T00:00:00",
          "2020-06-10T00:00:00",
          "2020-06-11T00:00:00",
          "2020-06-12T00:00:00",
          "2020-06-15T00:00:00",
          "2020-06-16T00:00:00",
          "2020-06-17T00:00:00",
          "2020-06-18T00:00:00",
          "2020-06-19T00:00:00",
          "2020-06-22T00:00:00",
          "2020-06-23T00:00:00",
          "2020-06-24T00:00:00",
          "2020-06-25T00:00:00",
          "2020-06-26T00:00:00",
          "2020-06-29T00:00:00",
          "2020-06-30T00:00:00",
          "2020-07-01T00:00:00",
          "2020-07-02T00:00:00",
          "2020-07-06T00:00:00",
          "2020-07-07T00:00:00",
          "2020-07-08T00:00:00",
          "2020-07-09T00:00:00",
          "2020-07-10T00:00:00",
          "2020-07-13T00:00:00",
          "2020-07-14T00:00:00",
          "2020-07-15T00:00:00",
          "2020-07-16T00:00:00",
          "2020-07-17T00:00:00",
          "2020-07-20T00:00:00",
          "2020-07-21T00:00:00",
          "2020-07-22T00:00:00",
          "2020-07-23T00:00:00",
          "2020-07-24T00:00:00",
          "2020-07-27T00:00:00",
          "2020-07-28T00:00:00",
          "2020-07-29T00:00:00",
          "2020-07-30T00:00:00",
          "2020-07-31T00:00:00",
          "2020-08-03T00:00:00",
          "2020-08-04T00:00:00",
          "2020-08-05T00:00:00",
          "2020-08-06T00:00:00",
          "2020-08-07T00:00:00",
          "2020-08-10T00:00:00",
          "2020-08-11T00:00:00",
          "2020-08-12T00:00:00",
          "2020-08-13T00:00:00",
          "2020-08-14T00:00:00",
          "2020-08-17T00:00:00",
          "2020-08-18T00:00:00",
          "2020-08-19T00:00:00",
          "2020-08-20T00:00:00",
          "2020-08-21T00:00:00",
          "2020-08-24T00:00:00",
          "2020-08-25T00:00:00",
          "2020-08-26T00:00:00",
          "2020-08-27T00:00:00",
          "2020-08-28T00:00:00",
          "2020-08-31T00:00:00",
          "2020-09-01T00:00:00",
          "2020-09-02T00:00:00",
          "2020-09-03T00:00:00",
          "2020-09-04T00:00:00",
          "2020-09-08T00:00:00",
          "2020-09-09T00:00:00",
          "2020-09-10T00:00:00",
          "2020-09-11T00:00:00",
          "2020-09-14T00:00:00",
          "2020-09-15T00:00:00",
          "2020-09-16T00:00:00",
          "2020-09-17T00:00:00",
          "2020-09-18T00:00:00",
          "2020-09-21T00:00:00",
          "2020-09-22T00:00:00",
          "2020-09-23T00:00:00",
          "2020-09-24T00:00:00",
          "2020-09-25T00:00:00",
          "2020-09-28T00:00:00",
          "2020-09-29T00:00:00",
          "2020-09-30T00:00:00",
          "2020-10-01T00:00:00",
          "2020-10-02T00:00:00",
          "2020-10-05T00:00:00",
          "2020-10-06T00:00:00",
          "2020-10-07T00:00:00",
          "2020-10-08T00:00:00",
          "2020-10-09T00:00:00",
          "2020-10-12T00:00:00",
          "2020-10-13T00:00:00",
          "2020-10-14T00:00:00",
          "2020-10-15T00:00:00",
          "2020-10-16T00:00:00",
          "2020-10-19T00:00:00",
          "2020-10-20T00:00:00",
          "2020-10-21T00:00:00",
          "2020-10-22T00:00:00",
          "2020-10-23T00:00:00",
          "2020-10-26T00:00:00",
          "2020-10-27T00:00:00",
          "2020-10-28T00:00:00",
          "2020-10-29T00:00:00",
          "2020-10-30T00:00:00",
          "2020-11-02T00:00:00",
          "2020-11-03T00:00:00",
          "2020-11-04T00:00:00",
          "2020-11-05T00:00:00",
          "2020-11-06T00:00:00",
          "2020-11-09T00:00:00",
          "2020-11-10T00:00:00",
          "2020-11-11T00:00:00",
          "2020-11-12T00:00:00",
          "2020-11-13T00:00:00",
          "2020-11-16T00:00:00",
          "2020-11-17T00:00:00",
          "2020-11-18T00:00:00",
          "2020-11-19T00:00:00",
          "2020-11-20T00:00:00",
          "2020-11-23T00:00:00",
          "2020-11-24T00:00:00",
          "2020-11-25T00:00:00",
          "2020-11-27T00:00:00",
          "2020-11-30T00:00:00",
          "2020-12-01T00:00:00",
          "2020-12-02T00:00:00",
          "2020-12-03T00:00:00",
          "2020-12-04T00:00:00",
          "2020-12-07T00:00:00",
          "2020-12-08T00:00:00",
          "2020-12-09T00:00:00",
          "2020-12-10T00:00:00",
          "2020-12-11T00:00:00",
          "2020-12-14T00:00:00",
          "2020-12-15T00:00:00",
          "2020-12-16T00:00:00",
          "2020-12-17T00:00:00",
          "2020-12-18T00:00:00",
          "2020-12-21T00:00:00",
          "2020-12-22T00:00:00",
          "2020-12-23T00:00:00",
          "2020-12-24T00:00:00",
          "2020-12-28T00:00:00",
          "2020-12-29T00:00:00",
          "2020-12-30T00:00:00",
          "2020-12-31T00:00:00",
          "2021-01-04T00:00:00",
          "2021-01-05T00:00:00",
          "2021-01-06T00:00:00",
          "2021-01-07T00:00:00",
          "2021-01-08T00:00:00",
          "2021-01-11T00:00:00",
          "2021-01-12T00:00:00",
          "2021-01-13T00:00:00",
          "2021-01-14T00:00:00",
          "2021-01-15T00:00:00",
          "2021-01-19T00:00:00",
          "2021-01-20T00:00:00",
          "2021-01-21T00:00:00",
          "2021-01-22T00:00:00",
          "2021-01-25T00:00:00",
          "2021-01-26T00:00:00",
          "2021-01-27T00:00:00",
          "2021-01-28T00:00:00",
          "2021-01-29T00:00:00",
          "2021-02-01T00:00:00",
          "2021-02-02T00:00:00",
          "2021-02-03T00:00:00",
          "2021-02-04T00:00:00",
          "2021-02-05T00:00:00",
          "2021-02-08T00:00:00",
          "2021-02-09T00:00:00",
          "2021-02-10T00:00:00",
          "2021-02-11T00:00:00",
          "2021-02-12T00:00:00"
         ],
         "y": [
          89.01399993896484,
          86.04000091552734,
          72.24400329589844,
          85.52799987792969,
          85.50599670410156,
          86.85800170898438,
          101,
          107.8499984741211,
          105.63200378417969,
          102.87200164794922,
          100.4260025024414,
          104.80000305175781,
          96.31199645996094,
          90.89399719238281,
          96.00199890136719,
          103.24800109863281,
          109.08999633789062,
          109.76799774169922,
          114.5999984741211,
          130.19000244140625,
          141.97799682617188,
          145.96600341796875,
          149.04200744628906,
          150.7779998779297,
          149.27200317382812,
          137.343994140625,
          146.4219970703125,
          141.12600708007812,
          145.02999877929688,
          159.75,
          153.82400512695312,
          160.1020050048828,
          156.37600708007812,
          140.26400756835938,
          152.23800659179688,
          153.64199829101562,
          156.51600646972656,
          156.00799560546875,
          163.88400268554688,
          162.25799560546875,
          161.8820037841797,
          158.19200134277344,
          160.66600036621094,
          159.83399963378906,
          162.7259979248047,
          161.6020050048828,
          163.11199951171875,
          165.52000427246094,
          163.37600708007812,
          163.7740020751953,
          164.04600524902344,
          161.16200256347656,
          167,
          179.6199951171875,
          176.31199645996094,
          176.5919952392578,
          172.87600708007812,
          177.1320037841797,
          189.98399353027344,
          188.13400268554688,
          205.00999450683594,
          194.5679931640625,
          187.05599975585938,
          198.17999267578125,
          196.42599487304688,
          198.35800170898438,
          200.79200744628906,
          200.17999267578125,
          198.86399841308594,
          200.3560028076172,
          192.1699981689453,
          197.1959991455078,
          191.947998046875,
          201.8699951171875,
          215.96200561523438,
          223.92599487304688,
          241.73199462890625,
          274.3160095214844,
          277.97198486328125,
          273.1759948730469,
          278.8559875488281,
          308.92999267578125,
          299.4119873046875,
          303.3599853515625,
          309.2019958496094,
          300.12799072265625,
          300.1679992675781,
          328.6000061035156,
          313.6719970703125,
          318.46600341796875,
          302.614013671875,
          283.3999938964844,
          307.9200134277344,
          295.2980041503906,
          299.8219909667969,
          297.49798583984375,
          286.1520080566406,
          297,
          297.3999938964844,
          297.0039978027344,
          297.9159851074219,
          290.5419921875,
          283.7139892578125,
          274.87799072265625,
          310.9519958496094,
          324.20001220703125,
          330.1419982910156,
          367.12799072265625,
          377.4179992675781,
          375.70599365234375,
          400.3659973144531,
          409.9960021972656,
          402.8399963378906,
          404.6679992675781,
          430.6340026855469,
          447.75,
          442.67999267578125,
          498.32000732421875,
          475.04998779296875,
          447.3699951171875,
          407,
          418.32000732421875,
          330.2099914550781,
          366.2799987792969,
          371.3399963378906,
          372.7200012207031,
          419.6199951171875,
          449.760009765625,
          441.760009765625,
          423.42999267578125,
          442.1499938964844,
          449.3900146484375,
          424.2300109863281,
          380.3599853515625,
          387.7900085449219,
          407.3399963378906,
          421.20001220703125,
          419.07000732421875,
          429.010009765625,
          448.1600036621094,
          415.0899963378906,
          425.67999267578125,
          413.9800109863281,
          425.29998779296875,
          425.9200134277344,
          434,
          442.29998779296875,
          446.6499938964844,
          461.29998779296875,
          448.8800048828125,
          439.6700134277344,
          430.8299865722656,
          421.94000244140625,
          422.6400146484375,
          425.7900085449219,
          420.6300048828125,
          420.2799987792969,
          424.67999267578125,
          406.0199890136719,
          410.8299865722656,
          388.0400085449219,
          400.510009765625,
          423.8999938964844,
          420.9800109863281,
          438.0899963378906,
          429.95001220703125,
          421.260009765625,
          410.3599853515625,
          417.1300048828125,
          411.760009765625,
          408.5,
          408.0899963378906,
          441.6099853515625,
          486.6400146484375,
          499.2699890136719,
          489.6099853515625,
          521.8499755859375,
          555.3800048828125,
          574,
          585.760009765625,
          567.5999755859375,
          584.760009765625,
          568.8200073242188,
          593.3800048828125,
          599.0399780273438,
          641.760009765625,
          649.8800048828125,
          604.47998046875,
          627.0700073242188,
          609.989990234375,
          639.8300170898438,
          633.25,
          622.77001953125,
          655.9000244140625,
          695,
          649.8599853515625,
          640.3400268554688,
          645.97998046875,
          661.77001953125,
          663.6900024414062,
          665.989990234375,
          694.780029296875,
          705.6699829101562,
          729.77001953125,
          735.1099853515625,
          755.97998046875,
          816.0399780273438,
          880.02001953125,
          811.1900024414062,
          849.4400024414062,
          854.4099731445312,
          845,
          826.1599731445312,
          844.5499877929688,
          850.4500122070312,
          844.989990234375,
          846.6400146484375,
          880.7999877929688,
          883.0900268554688,
          864.1599731445312,
          835.4299926757812,
          793.530029296875,
          839.8099975585938,
          872.7899780273438,
          854.6900024414062,
          849.989990234375,
          852.22998046875,
          863.4199829101562,
          849.4600219726562,
          804.8200073242188,
          811.6599731445312,
          816.1199951171875
         ]
        }
       ],
       "layout": {
        "template": {
         "data": {
          "bar": [
           {
            "error_x": {
             "color": "#f2f5fa"
            },
            "error_y": {
             "color": "#f2f5fa"
            },
            "marker": {
             "line": {
              "color": "rgb(17,17,17)",
              "width": 0.5
             }
            },
            "type": "bar"
           }
          ],
          "barpolar": [
           {
            "marker": {
             "line": {
              "color": "rgb(17,17,17)",
              "width": 0.5
             }
            },
            "type": "barpolar"
           }
          ],
          "carpet": [
           {
            "aaxis": {
             "endlinecolor": "#A2B1C6",
             "gridcolor": "#506784",
             "linecolor": "#506784",
             "minorgridcolor": "#506784",
             "startlinecolor": "#A2B1C6"
            },
            "baxis": {
             "endlinecolor": "#A2B1C6",
             "gridcolor": "#506784",
             "linecolor": "#506784",
             "minorgridcolor": "#506784",
             "startlinecolor": "#A2B1C6"
            },
            "type": "carpet"
           }
          ],
          "choropleth": [
           {
            "colorbar": {
             "outlinewidth": 0,
             "ticks": ""
            },
            "type": "choropleth"
           }
          ],
          "contour": [
           {
            "colorbar": {
             "outlinewidth": 0,
             "ticks": ""
            },
            "colorscale": [
             [
              0,
              "#0d0887"
             ],
             [
              0.1111111111111111,
              "#46039f"
             ],
             [
              0.2222222222222222,
              "#7201a8"
             ],
             [
              0.3333333333333333,
              "#9c179e"
             ],
             [
              0.4444444444444444,
              "#bd3786"
             ],
             [
              0.5555555555555556,
              "#d8576b"
             ],
             [
              0.6666666666666666,
              "#ed7953"
             ],
             [
              0.7777777777777778,
              "#fb9f3a"
             ],
             [
              0.8888888888888888,
              "#fdca26"
             ],
             [
              1,
              "#f0f921"
             ]
            ],
            "type": "contour"
           }
          ],
          "contourcarpet": [
           {
            "colorbar": {
             "outlinewidth": 0,
             "ticks": ""
            },
            "type": "contourcarpet"
           }
          ],
          "heatmap": [
           {
            "colorbar": {
             "outlinewidth": 0,
             "ticks": ""
            },
            "colorscale": [
             [
              0,
              "#0d0887"
             ],
             [
              0.1111111111111111,
              "#46039f"
             ],
             [
              0.2222222222222222,
              "#7201a8"
             ],
             [
              0.3333333333333333,
              "#9c179e"
             ],
             [
              0.4444444444444444,
              "#bd3786"
             ],
             [
              0.5555555555555556,
              "#d8576b"
             ],
             [
              0.6666666666666666,
              "#ed7953"
             ],
             [
              0.7777777777777778,
              "#fb9f3a"
             ],
             [
              0.8888888888888888,
              "#fdca26"
             ],
             [
              1,
              "#f0f921"
             ]
            ],
            "type": "heatmap"
           }
          ],
          "heatmapgl": [
           {
            "colorbar": {
             "outlinewidth": 0,
             "ticks": ""
            },
            "colorscale": [
             [
              0,
              "#0d0887"
             ],
             [
              0.1111111111111111,
              "#46039f"
             ],
             [
              0.2222222222222222,
              "#7201a8"
             ],
             [
              0.3333333333333333,
              "#9c179e"
             ],
             [
              0.4444444444444444,
              "#bd3786"
             ],
             [
              0.5555555555555556,
              "#d8576b"
             ],
             [
              0.6666666666666666,
              "#ed7953"
             ],
             [
              0.7777777777777778,
              "#fb9f3a"
             ],
             [
              0.8888888888888888,
              "#fdca26"
             ],
             [
              1,
              "#f0f921"
             ]
            ],
            "type": "heatmapgl"
           }
          ],
          "histogram": [
           {
            "marker": {
             "colorbar": {
              "outlinewidth": 0,
              "ticks": ""
             }
            },
            "type": "histogram"
           }
          ],
          "histogram2d": [
           {
            "colorbar": {
             "outlinewidth": 0,
             "ticks": ""
            },
            "colorscale": [
             [
              0,
              "#0d0887"
             ],
             [
              0.1111111111111111,
              "#46039f"
             ],
             [
              0.2222222222222222,
              "#7201a8"
             ],
             [
              0.3333333333333333,
              "#9c179e"
             ],
             [
              0.4444444444444444,
              "#bd3786"
             ],
             [
              0.5555555555555556,
              "#d8576b"
             ],
             [
              0.6666666666666666,
              "#ed7953"
             ],
             [
              0.7777777777777778,
              "#fb9f3a"
             ],
             [
              0.8888888888888888,
              "#fdca26"
             ],
             [
              1,
              "#f0f921"
             ]
            ],
            "type": "histogram2d"
           }
          ],
          "histogram2dcontour": [
           {
            "colorbar": {
             "outlinewidth": 0,
             "ticks": ""
            },
            "colorscale": [
             [
              0,
              "#0d0887"
             ],
             [
              0.1111111111111111,
              "#46039f"
             ],
             [
              0.2222222222222222,
              "#7201a8"
             ],
             [
              0.3333333333333333,
              "#9c179e"
             ],
             [
              0.4444444444444444,
              "#bd3786"
             ],
             [
              0.5555555555555556,
              "#d8576b"
             ],
             [
              0.6666666666666666,
              "#ed7953"
             ],
             [
              0.7777777777777778,
              "#fb9f3a"
             ],
             [
              0.8888888888888888,
              "#fdca26"
             ],
             [
              1,
              "#f0f921"
             ]
            ],
            "type": "histogram2dcontour"
           }
          ],
          "mesh3d": [
           {
            "colorbar": {
             "outlinewidth": 0,
             "ticks": ""
            },
            "type": "mesh3d"
           }
          ],
          "parcoords": [
           {
            "line": {
             "colorbar": {
              "outlinewidth": 0,
              "ticks": ""
             }
            },
            "type": "parcoords"
           }
          ],
          "pie": [
           {
            "automargin": true,
            "type": "pie"
           }
          ],
          "scatter": [
           {
            "marker": {
             "line": {
              "color": "#283442"
             }
            },
            "type": "scatter"
           }
          ],
          "scatter3d": [
           {
            "line": {
             "colorbar": {
              "outlinewidth": 0,
              "ticks": ""
             }
            },
            "marker": {
             "colorbar": {
              "outlinewidth": 0,
              "ticks": ""
             }
            },
            "type": "scatter3d"
           }
          ],
          "scattercarpet": [
           {
            "marker": {
             "colorbar": {
              "outlinewidth": 0,
              "ticks": ""
             }
            },
            "type": "scattercarpet"
           }
          ],
          "scattergeo": [
           {
            "marker": {
             "colorbar": {
              "outlinewidth": 0,
              "ticks": ""
             }
            },
            "type": "scattergeo"
           }
          ],
          "scattergl": [
           {
            "marker": {
             "line": {
              "color": "#283442"
             }
            },
            "type": "scattergl"
           }
          ],
          "scattermapbox": [
           {
            "marker": {
             "colorbar": {
              "outlinewidth": 0,
              "ticks": ""
             }
            },
            "type": "scattermapbox"
           }
          ],
          "scatterpolar": [
           {
            "marker": {
             "colorbar": {
              "outlinewidth": 0,
              "ticks": ""
             }
            },
            "type": "scatterpolar"
           }
          ],
          "scatterpolargl": [
           {
            "marker": {
             "colorbar": {
              "outlinewidth": 0,
              "ticks": ""
             }
            },
            "type": "scatterpolargl"
           }
          ],
          "scatterternary": [
           {
            "marker": {
             "colorbar": {
              "outlinewidth": 0,
              "ticks": ""
             }
            },
            "type": "scatterternary"
           }
          ],
          "surface": [
           {
            "colorbar": {
             "outlinewidth": 0,
             "ticks": ""
            },
            "colorscale": [
             [
              0,
              "#0d0887"
             ],
             [
              0.1111111111111111,
              "#46039f"
             ],
             [
              0.2222222222222222,
              "#7201a8"
             ],
             [
              0.3333333333333333,
              "#9c179e"
             ],
             [
              0.4444444444444444,
              "#bd3786"
             ],
             [
              0.5555555555555556,
              "#d8576b"
             ],
             [
              0.6666666666666666,
              "#ed7953"
             ],
             [
              0.7777777777777778,
              "#fb9f3a"
             ],
             [
              0.8888888888888888,
              "#fdca26"
             ],
             [
              1,
              "#f0f921"
             ]
            ],
            "type": "surface"
           }
          ],
          "table": [
           {
            "cells": {
             "fill": {
              "color": "#506784"
             },
             "line": {
              "color": "rgb(17,17,17)"
             }
            },
            "header": {
             "fill": {
              "color": "#2a3f5f"
             },
             "line": {
              "color": "rgb(17,17,17)"
             }
            },
            "type": "table"
           }
          ]
         },
         "layout": {
          "annotationdefaults": {
           "arrowcolor": "#f2f5fa",
           "arrowhead": 0,
           "arrowwidth": 1
          },
          "autotypenumbers": "strict",
          "coloraxis": {
           "colorbar": {
            "outlinewidth": 0,
            "ticks": ""
           }
          },
          "colorscale": {
           "diverging": [
            [
             0,
             "#8e0152"
            ],
            [
             0.1,
             "#c51b7d"
            ],
            [
             0.2,
             "#de77ae"
            ],
            [
             0.3,
             "#f1b6da"
            ],
            [
             0.4,
             "#fde0ef"
            ],
            [
             0.5,
             "#f7f7f7"
            ],
            [
             0.6,
             "#e6f5d0"
            ],
            [
             0.7,
             "#b8e186"
            ],
            [
             0.8,
             "#7fbc41"
            ],
            [
             0.9,
             "#4d9221"
            ],
            [
             1,
             "#276419"
            ]
           ],
           "sequential": [
            [
             0,
             "#0d0887"
            ],
            [
             0.1111111111111111,
             "#46039f"
            ],
            [
             0.2222222222222222,
             "#7201a8"
            ],
            [
             0.3333333333333333,
             "#9c179e"
            ],
            [
             0.4444444444444444,
             "#bd3786"
            ],
            [
             0.5555555555555556,
             "#d8576b"
            ],
            [
             0.6666666666666666,
             "#ed7953"
            ],
            [
             0.7777777777777778,
             "#fb9f3a"
            ],
            [
             0.8888888888888888,
             "#fdca26"
            ],
            [
             1,
             "#f0f921"
            ]
           ],
           "sequentialminus": [
            [
             0,
             "#0d0887"
            ],
            [
             0.1111111111111111,
             "#46039f"
            ],
            [
             0.2222222222222222,
             "#7201a8"
            ],
            [
             0.3333333333333333,
             "#9c179e"
            ],
            [
             0.4444444444444444,
             "#bd3786"
            ],
            [
             0.5555555555555556,
             "#d8576b"
            ],
            [
             0.6666666666666666,
             "#ed7953"
            ],
            [
             0.7777777777777778,
             "#fb9f3a"
            ],
            [
             0.8888888888888888,
             "#fdca26"
            ],
            [
             1,
             "#f0f921"
            ]
           ]
          },
          "colorway": [
           "#636efa",
           "#EF553B",
           "#00cc96",
           "#ab63fa",
           "#FFA15A",
           "#19d3f3",
           "#FF6692",
           "#B6E880",
           "#FF97FF",
           "#FECB52"
          ],
          "font": {
           "color": "#f2f5fa"
          },
          "geo": {
           "bgcolor": "rgb(17,17,17)",
           "lakecolor": "rgb(17,17,17)",
           "landcolor": "rgb(17,17,17)",
           "showlakes": true,
           "showland": true,
           "subunitcolor": "#506784"
          },
          "hoverlabel": {
           "align": "left"
          },
          "hovermode": "closest",
          "mapbox": {
           "style": "dark"
          },
          "paper_bgcolor": "rgb(17,17,17)",
          "plot_bgcolor": "rgb(17,17,17)",
          "polar": {
           "angularaxis": {
            "gridcolor": "#506784",
            "linecolor": "#506784",
            "ticks": ""
           },
           "bgcolor": "rgb(17,17,17)",
           "radialaxis": {
            "gridcolor": "#506784",
            "linecolor": "#506784",
            "ticks": ""
           }
          },
          "scene": {
           "xaxis": {
            "backgroundcolor": "rgb(17,17,17)",
            "gridcolor": "#506784",
            "gridwidth": 2,
            "linecolor": "#506784",
            "showbackground": true,
            "ticks": "",
            "zerolinecolor": "#C8D4E3"
           },
           "yaxis": {
            "backgroundcolor": "rgb(17,17,17)",
            "gridcolor": "#506784",
            "gridwidth": 2,
            "linecolor": "#506784",
            "showbackground": true,
            "ticks": "",
            "zerolinecolor": "#C8D4E3"
           },
           "zaxis": {
            "backgroundcolor": "rgb(17,17,17)",
            "gridcolor": "#506784",
            "gridwidth": 2,
            "linecolor": "#506784",
            "showbackground": true,
            "ticks": "",
            "zerolinecolor": "#C8D4E3"
           }
          },
          "shapedefaults": {
           "line": {
            "color": "#f2f5fa"
           }
          },
          "sliderdefaults": {
           "bgcolor": "#C8D4E3",
           "bordercolor": "rgb(17,17,17)",
           "borderwidth": 1,
           "tickwidth": 0
          },
          "ternary": {
           "aaxis": {
            "gridcolor": "#506784",
            "linecolor": "#506784",
            "ticks": ""
           },
           "baxis": {
            "gridcolor": "#506784",
            "linecolor": "#506784",
            "ticks": ""
           },
           "bgcolor": "rgb(17,17,17)",
           "caxis": {
            "gridcolor": "#506784",
            "linecolor": "#506784",
            "ticks": ""
           }
          },
          "title": {
           "x": 0.05
          },
          "updatemenudefaults": {
           "bgcolor": "#506784",
           "borderwidth": 0
          },
          "xaxis": {
           "automargin": true,
           "gridcolor": "#283442",
           "linecolor": "#506784",
           "ticks": "",
           "title": {
            "standoff": 15
           },
           "zerolinecolor": "#283442",
           "zerolinewidth": 2
          },
          "yaxis": {
           "automargin": true,
           "gridcolor": "#283442",
           "linecolor": "#506784",
           "ticks": "",
           "title": {
            "standoff": 15
           },
           "zerolinecolor": "#283442",
           "zerolinewidth": 2
          }
         }
        },
        "title": {
         "text": "GameStop vs Tesla Stock Price",
         "x": 0.5,
         "xanchor": "center"
        },
        "xaxis": {
         "rangeselector": {
          "buttons": [
           {
            "count": 1,
            "label": "1m",
            "step": "month",
            "stepmode": "backward"
           },
           {
            "count": 3,
            "label": "3m",
            "step": "month",
            "stepmode": "backward"
           },
           {
            "count": 6,
            "label": "6m",
            "step": "month",
            "stepmode": "backward"
           },
           {
            "count": 12,
            "label": "12m",
            "step": "month",
            "stepmode": "backward"
           }
          ]
         },
         "rangeslider": {
          "visible": true
         },
         "type": "date"
        }
       }
      },
      "text/html": [
       "<div>                            <div id=\"7b015127-d18d-4655-a7ec-277cb1345ed3\" class=\"plotly-graph-div\" style=\"height:525px; width:100%;\"></div>            <script type=\"text/javascript\">                require([\"plotly\"], function(Plotly) {                    window.PLOTLYENV=window.PLOTLYENV || {};                                    if (document.getElementById(\"7b015127-d18d-4655-a7ec-277cb1345ed3\")) {                    Plotly.newPlot(                        \"7b015127-d18d-4655-a7ec-277cb1345ed3\",                        [{\"line\": {\"color\": \"lime\"}, \"name\": \"GME\", \"type\": \"scatter\", \"x\": [\"2020-03-16T00:00:00\", \"2020-03-17T00:00:00\", \"2020-03-18T00:00:00\", \"2020-03-19T00:00:00\", \"2020-03-20T00:00:00\", \"2020-03-23T00:00:00\", \"2020-03-24T00:00:00\", \"2020-03-25T00:00:00\", \"2020-03-26T00:00:00\", \"2020-03-27T00:00:00\", \"2020-03-30T00:00:00\", \"2020-03-31T00:00:00\", \"2020-04-01T00:00:00\", \"2020-04-02T00:00:00\", \"2020-04-03T00:00:00\", \"2020-04-06T00:00:00\", \"2020-04-07T00:00:00\", \"2020-04-08T00:00:00\", \"2020-04-09T00:00:00\", \"2020-04-13T00:00:00\", \"2020-04-14T00:00:00\", \"2020-04-15T00:00:00\", \"2020-04-16T00:00:00\", \"2020-04-17T00:00:00\", \"2020-04-20T00:00:00\", \"2020-04-21T00:00:00\", \"2020-04-22T00:00:00\", \"2020-04-23T00:00:00\", \"2020-04-24T00:00:00\", \"2020-04-27T00:00:00\", \"2020-04-28T00:00:00\", \"2020-04-29T00:00:00\", \"2020-04-30T00:00:00\", \"2020-05-01T00:00:00\", \"2020-05-04T00:00:00\", \"2020-05-05T00:00:00\", \"2020-05-06T00:00:00\", \"2020-05-07T00:00:00\", \"2020-05-08T00:00:00\", \"2020-05-11T00:00:00\", \"2020-05-12T00:00:00\", \"2020-05-13T00:00:00\", \"2020-05-14T00:00:00\", \"2020-05-15T00:00:00\", \"2020-05-18T00:00:00\", \"2020-05-19T00:00:00\", \"2020-05-20T00:00:00\", \"2020-05-21T00:00:00\", \"2020-05-22T00:00:00\", \"2020-05-26T00:00:00\", \"2020-05-27T00:00:00\", \"2020-05-28T00:00:00\", \"2020-05-29T00:00:00\", \"2020-06-01T00:00:00\", \"2020-06-02T00:00:00\", \"2020-06-03T00:00:00\", \"2020-06-04T00:00:00\", \"2020-06-05T00:00:00\", \"2020-06-08T00:00:00\", \"2020-06-09T00:00:00\", \"2020-06-10T00:00:00\", \"2020-06-11T00:00:00\", \"2020-06-12T00:00:00\", \"2020-06-15T00:00:00\", \"2020-06-16T00:00:00\", \"2020-06-17T00:00:00\", \"2020-06-18T00:00:00\", \"2020-06-19T00:00:00\", \"2020-06-22T00:00:00\", \"2020-06-23T00:00:00\", \"2020-06-24T00:00:00\", \"2020-06-25T00:00:00\", \"2020-06-26T00:00:00\", \"2020-06-29T00:00:00\", \"2020-06-30T00:00:00\", \"2020-07-01T00:00:00\", \"2020-07-02T00:00:00\", \"2020-07-06T00:00:00\", \"2020-07-07T00:00:00\", \"2020-07-08T00:00:00\", \"2020-07-09T00:00:00\", \"2020-07-10T00:00:00\", \"2020-07-13T00:00:00\", \"2020-07-14T00:00:00\", \"2020-07-15T00:00:00\", \"2020-07-16T00:00:00\", \"2020-07-17T00:00:00\", \"2020-07-20T00:00:00\", \"2020-07-21T00:00:00\", \"2020-07-22T00:00:00\", \"2020-07-23T00:00:00\", \"2020-07-24T00:00:00\", \"2020-07-27T00:00:00\", \"2020-07-28T00:00:00\", \"2020-07-29T00:00:00\", \"2020-07-30T00:00:00\", \"2020-07-31T00:00:00\", \"2020-08-03T00:00:00\", \"2020-08-04T00:00:00\", \"2020-08-05T00:00:00\", \"2020-08-06T00:00:00\", \"2020-08-07T00:00:00\", \"2020-08-10T00:00:00\", \"2020-08-11T00:00:00\", \"2020-08-12T00:00:00\", \"2020-08-13T00:00:00\", \"2020-08-14T00:00:00\", \"2020-08-17T00:00:00\", \"2020-08-18T00:00:00\", \"2020-08-19T00:00:00\", \"2020-08-20T00:00:00\", \"2020-08-21T00:00:00\", \"2020-08-24T00:00:00\", \"2020-08-25T00:00:00\", \"2020-08-26T00:00:00\", \"2020-08-27T00:00:00\", \"2020-08-28T00:00:00\", \"2020-08-31T00:00:00\", \"2020-09-01T00:00:00\", \"2020-09-02T00:00:00\", \"2020-09-03T00:00:00\", \"2020-09-04T00:00:00\", \"2020-09-08T00:00:00\", \"2020-09-09T00:00:00\", \"2020-09-10T00:00:00\", \"2020-09-11T00:00:00\", \"2020-09-14T00:00:00\", \"2020-09-15T00:00:00\", \"2020-09-16T00:00:00\", \"2020-09-17T00:00:00\", \"2020-09-18T00:00:00\", \"2020-09-21T00:00:00\", \"2020-09-22T00:00:00\", \"2020-09-23T00:00:00\", \"2020-09-24T00:00:00\", \"2020-09-25T00:00:00\", \"2020-09-28T00:00:00\", \"2020-09-29T00:00:00\", \"2020-09-30T00:00:00\", \"2020-10-01T00:00:00\", \"2020-10-02T00:00:00\", \"2020-10-05T00:00:00\", \"2020-10-06T00:00:00\", \"2020-10-07T00:00:00\", \"2020-10-08T00:00:00\", \"2020-10-09T00:00:00\", \"2020-10-12T00:00:00\", \"2020-10-13T00:00:00\", \"2020-10-14T00:00:00\", \"2020-10-15T00:00:00\", \"2020-10-16T00:00:00\", \"2020-10-19T00:00:00\", \"2020-10-20T00:00:00\", \"2020-10-21T00:00:00\", \"2020-10-22T00:00:00\", \"2020-10-23T00:00:00\", \"2020-10-26T00:00:00\", \"2020-10-27T00:00:00\", \"2020-10-28T00:00:00\", \"2020-10-29T00:00:00\", \"2020-10-30T00:00:00\", \"2020-11-02T00:00:00\", \"2020-11-03T00:00:00\", \"2020-11-04T00:00:00\", \"2020-11-05T00:00:00\", \"2020-11-06T00:00:00\", \"2020-11-09T00:00:00\", \"2020-11-10T00:00:00\", \"2020-11-11T00:00:00\", \"2020-11-12T00:00:00\", \"2020-11-13T00:00:00\", \"2020-11-16T00:00:00\", \"2020-11-17T00:00:00\", \"2020-11-18T00:00:00\", \"2020-11-19T00:00:00\", \"2020-11-20T00:00:00\", \"2020-11-23T00:00:00\", \"2020-11-24T00:00:00\", \"2020-11-25T00:00:00\", \"2020-11-27T00:00:00\", \"2020-11-30T00:00:00\", \"2020-12-01T00:00:00\", \"2020-12-02T00:00:00\", \"2020-12-03T00:00:00\", \"2020-12-04T00:00:00\", \"2020-12-07T00:00:00\", \"2020-12-08T00:00:00\", \"2020-12-09T00:00:00\", \"2020-12-10T00:00:00\", \"2020-12-11T00:00:00\", \"2020-12-14T00:00:00\", \"2020-12-15T00:00:00\", \"2020-12-16T00:00:00\", \"2020-12-17T00:00:00\", \"2020-12-18T00:00:00\", \"2020-12-21T00:00:00\", \"2020-12-22T00:00:00\", \"2020-12-23T00:00:00\", \"2020-12-24T00:00:00\", \"2020-12-28T00:00:00\", \"2020-12-29T00:00:00\", \"2020-12-30T00:00:00\", \"2020-12-31T00:00:00\", \"2021-01-04T00:00:00\", \"2021-01-05T00:00:00\", \"2021-01-06T00:00:00\", \"2021-01-07T00:00:00\", \"2021-01-08T00:00:00\", \"2021-01-11T00:00:00\", \"2021-01-12T00:00:00\", \"2021-01-13T00:00:00\", \"2021-01-14T00:00:00\", \"2021-01-15T00:00:00\", \"2021-01-19T00:00:00\", \"2021-01-20T00:00:00\", \"2021-01-21T00:00:00\", \"2021-01-22T00:00:00\", \"2021-01-25T00:00:00\", \"2021-01-26T00:00:00\", \"2021-01-27T00:00:00\", \"2021-01-28T00:00:00\", \"2021-01-29T00:00:00\", \"2021-02-01T00:00:00\", \"2021-02-02T00:00:00\", \"2021-02-03T00:00:00\", \"2021-02-04T00:00:00\", \"2021-02-05T00:00:00\", \"2021-02-08T00:00:00\", \"2021-02-09T00:00:00\", \"2021-02-10T00:00:00\", \"2021-02-11T00:00:00\", \"2021-02-12T00:00:00\"], \"y\": [4.369999885559082, 4.230000019073486, 3.7699999809265137, 4.190000057220459, 3.759999990463257, 3.809999942779541, 4.159999847412109, 4.170000076293945, 4.409999847412109, 4.21999979019165, 3.6500000953674316, 3.5, 3.25, 2.8499999046325684, 2.799999952316284, 3.0899999141693115, 3.2699999809265137, 3.4100000858306885, 3.890000104904175, 4.739999771118164, 5.949999809265137, 5.269999980926514, 5.03000020980835, 4.880000114440918, 5.610000133514404, 4.78000020980835, 4.889999866485596, 4.699999809265137, 4.769999980926514, 5.820000171661377, 5.639999866485596, 6.039999961853027, 5.730000019073486, 6.050000190734863, 5.480000019073486, 5.389999866485596, 4.929999828338623, 4.869999885559082, 4.980000019073486, 4.760000228881836, 4.539999961853027, 4.210000038146973, 4.130000114440918, 4.21999979019165, 4.579999923706055, 4.440000057220459, 4.429999828338623, 4.440000057220459, 4.179999828338623, 4.420000076293945, 4.690000057220459, 4.329999923706055, 4.059999942779541, 4.130000114440918, 4.179999828338623, 4.440000057220459, 4.46999979019165, 4.139999866485596, 5.010000228881836, 4.960000038146973, 5.070000171661377, 4.369999885559082, 4.71999979019165, 4.690000057220459, 4.639999866485596, 4.760000228881836, 4.949999809265137, 4.880000114440918, 4.869999885559082, 4.829999923706055, 4.409999847412109, 4.460000038146973, 4.349999904632568, 4.380000114440918, 4.340000152587891, 4.440000057220459, 4.289999961853027, 4.239999771118164, 4.090000152587891, 4.260000228881836, 4.210000038146973, 4.340000152587891, 4.260000228881836, 4.079999923706055, 4.190000057220459, 4.170000076293945, 3.9600000381469727, 3.8499999046325684, 4.010000228881836, 4.110000133514404, 4.110000133514404, 4.03000020980835, 4.010000228881836, 3.940000057220459, 4.059999942779541, 4.099999904632568, 4.010000228881836, 4.150000095367432, 4.429999828338623, 4.630000114440918, 4.429999828338623, 4.159999847412109, 4.329999923706055, 4.349999904632568, 4.519999980926514, 4.639999866485596, 4.75, 4.630000114440918, 4.809999942779541, 4.71999979019165, 4.610000133514404, 5.03000020980835, 4.869999885559082, 4.980000019073486, 5.110000133514404, 5.25, 5.389999866485596, 6.679999828338623, 7.650000095367432, 7.710000038146973, 7.820000171661377, 7.650000095367432, 7.699999809265137, 7.349999904632568, 6.230000019073486, 6.090000152587891, 6.909999847412109, 7.090000152587891, 8.680000305175781, 9.199999809265137, 9.470000267028809, 8.75, 10.5600004196167, 10.039999961853027, 9.140000343322754, 10.020000457763672, 10.09000015258789, 10.350000381469727, 10.199999809265137, 9.770000457763672, 9.390000343322754, 9.460000038146973, 9.130000114440918, 9.359999656677246, 13.489999771118164, 12.020000457763672, 11.800000190734863, 11.880000114440918, 12.25, 13.829999923706055, 13.3100004196167, 13.90999984741211, 13.859999656677246, 14.100000381469727, 14.90999984741211, 15.0, 13.449999809265137, 12.6899995803833, 11.819999694824219, 11.729999542236328, 10.470000267028809, 10.75, 11.569999694824219, 10.90999984741211, 11.449999809265137, 11.859999656677246, 11.489999771118164, 11.100000381469727, 11.75, 11.130000114440918, 11.010000228881836, 12.0600004196167, 11.630000114440918, 11.569999694824219, 12.460000038146973, 12.710000038146973, 13.899999618530273, 13.670000076293945, 14.75, 16.079999923706055, 16.559999465942383, 15.800000190734863, 16.579999923706055, 16.1200008392334, 16.899999618530273, 16.350000381469727, 16.940000534057617, 13.65999984741211, 14.119999885559082, 13.3100004196167, 12.720000267028809, 13.850000381469727, 13.850000381469727, 14.829999923706055, 15.630000114440918, 15.529999732971191, 19.459999084472656, 20.56999969482422, 20.149999618530273, 20.989999771118164, 19.3799991607666, 19.260000228881836, 18.84000015258789, 17.25, 17.3700008392334, 18.360000610351562, 18.079999923706055, 17.690000534057617, 19.940000534057617, 19.950000762939453, 31.399999618530273, 39.90999984741211, 35.5, 39.36000061035156, 39.119998931884766, 43.029998779296875, 65.01000213623047, 76.79000091552734, 147.97999572753906, 347.510009765625, 193.60000610351562, 325.0, 225.0, 90.0, 92.41000366210938, 53.5, 63.77000045776367, 60.0, 50.310001373291016, 51.20000076293945, 51.099998474121094, 52.400001525878906]}, {\"line\": {\"color\": \"red\"}, \"name\": \"TSLA\", \"type\": \"scatter\", \"x\": [\"2020-03-16T00:00:00\", \"2020-03-17T00:00:00\", \"2020-03-18T00:00:00\", \"2020-03-19T00:00:00\", \"2020-03-20T00:00:00\", \"2020-03-23T00:00:00\", \"2020-03-24T00:00:00\", \"2020-03-25T00:00:00\", \"2020-03-26T00:00:00\", \"2020-03-27T00:00:00\", \"2020-03-30T00:00:00\", \"2020-03-31T00:00:00\", \"2020-04-01T00:00:00\", \"2020-04-02T00:00:00\", \"2020-04-03T00:00:00\", \"2020-04-06T00:00:00\", \"2020-04-07T00:00:00\", \"2020-04-08T00:00:00\", \"2020-04-09T00:00:00\", \"2020-04-13T00:00:00\", \"2020-04-14T00:00:00\", \"2020-04-15T00:00:00\", \"2020-04-16T00:00:00\", \"2020-04-17T00:00:00\", \"2020-04-20T00:00:00\", \"2020-04-21T00:00:00\", \"2020-04-22T00:00:00\", \"2020-04-23T00:00:00\", \"2020-04-24T00:00:00\", \"2020-04-27T00:00:00\", \"2020-04-28T00:00:00\", \"2020-04-29T00:00:00\", \"2020-04-30T00:00:00\", \"2020-05-01T00:00:00\", \"2020-05-04T00:00:00\", \"2020-05-05T00:00:00\", \"2020-05-06T00:00:00\", \"2020-05-07T00:00:00\", \"2020-05-08T00:00:00\", \"2020-05-11T00:00:00\", \"2020-05-12T00:00:00\", \"2020-05-13T00:00:00\", \"2020-05-14T00:00:00\", \"2020-05-15T00:00:00\", \"2020-05-18T00:00:00\", \"2020-05-19T00:00:00\", \"2020-05-20T00:00:00\", \"2020-05-21T00:00:00\", \"2020-05-22T00:00:00\", \"2020-05-26T00:00:00\", \"2020-05-27T00:00:00\", \"2020-05-28T00:00:00\", \"2020-05-29T00:00:00\", \"2020-06-01T00:00:00\", \"2020-06-02T00:00:00\", \"2020-06-03T00:00:00\", \"2020-06-04T00:00:00\", \"2020-06-05T00:00:00\", \"2020-06-08T00:00:00\", \"2020-06-09T00:00:00\", \"2020-06-10T00:00:00\", \"2020-06-11T00:00:00\", \"2020-06-12T00:00:00\", \"2020-06-15T00:00:00\", \"2020-06-16T00:00:00\", \"2020-06-17T00:00:00\", \"2020-06-18T00:00:00\", \"2020-06-19T00:00:00\", \"2020-06-22T00:00:00\", \"2020-06-23T00:00:00\", \"2020-06-24T00:00:00\", \"2020-06-25T00:00:00\", \"2020-06-26T00:00:00\", \"2020-06-29T00:00:00\", \"2020-06-30T00:00:00\", \"2020-07-01T00:00:00\", \"2020-07-02T00:00:00\", \"2020-07-06T00:00:00\", \"2020-07-07T00:00:00\", \"2020-07-08T00:00:00\", \"2020-07-09T00:00:00\", \"2020-07-10T00:00:00\", \"2020-07-13T00:00:00\", \"2020-07-14T00:00:00\", \"2020-07-15T00:00:00\", \"2020-07-16T00:00:00\", \"2020-07-17T00:00:00\", \"2020-07-20T00:00:00\", \"2020-07-21T00:00:00\", \"2020-07-22T00:00:00\", \"2020-07-23T00:00:00\", \"2020-07-24T00:00:00\", \"2020-07-27T00:00:00\", \"2020-07-28T00:00:00\", \"2020-07-29T00:00:00\", \"2020-07-30T00:00:00\", \"2020-07-31T00:00:00\", \"2020-08-03T00:00:00\", \"2020-08-04T00:00:00\", \"2020-08-05T00:00:00\", \"2020-08-06T00:00:00\", \"2020-08-07T00:00:00\", \"2020-08-10T00:00:00\", \"2020-08-11T00:00:00\", \"2020-08-12T00:00:00\", \"2020-08-13T00:00:00\", \"2020-08-14T00:00:00\", \"2020-08-17T00:00:00\", \"2020-08-18T00:00:00\", \"2020-08-19T00:00:00\", \"2020-08-20T00:00:00\", \"2020-08-21T00:00:00\", \"2020-08-24T00:00:00\", \"2020-08-25T00:00:00\", \"2020-08-26T00:00:00\", \"2020-08-27T00:00:00\", \"2020-08-28T00:00:00\", \"2020-08-31T00:00:00\", \"2020-09-01T00:00:00\", \"2020-09-02T00:00:00\", \"2020-09-03T00:00:00\", \"2020-09-04T00:00:00\", \"2020-09-08T00:00:00\", \"2020-09-09T00:00:00\", \"2020-09-10T00:00:00\", \"2020-09-11T00:00:00\", \"2020-09-14T00:00:00\", \"2020-09-15T00:00:00\", \"2020-09-16T00:00:00\", \"2020-09-17T00:00:00\", \"2020-09-18T00:00:00\", \"2020-09-21T00:00:00\", \"2020-09-22T00:00:00\", \"2020-09-23T00:00:00\", \"2020-09-24T00:00:00\", \"2020-09-25T00:00:00\", \"2020-09-28T00:00:00\", \"2020-09-29T00:00:00\", \"2020-09-30T00:00:00\", \"2020-10-01T00:00:00\", \"2020-10-02T00:00:00\", \"2020-10-05T00:00:00\", \"2020-10-06T00:00:00\", \"2020-10-07T00:00:00\", \"2020-10-08T00:00:00\", \"2020-10-09T00:00:00\", \"2020-10-12T00:00:00\", \"2020-10-13T00:00:00\", \"2020-10-14T00:00:00\", \"2020-10-15T00:00:00\", \"2020-10-16T00:00:00\", \"2020-10-19T00:00:00\", \"2020-10-20T00:00:00\", \"2020-10-21T00:00:00\", \"2020-10-22T00:00:00\", \"2020-10-23T00:00:00\", \"2020-10-26T00:00:00\", \"2020-10-27T00:00:00\", \"2020-10-28T00:00:00\", \"2020-10-29T00:00:00\", \"2020-10-30T00:00:00\", \"2020-11-02T00:00:00\", \"2020-11-03T00:00:00\", \"2020-11-04T00:00:00\", \"2020-11-05T00:00:00\", \"2020-11-06T00:00:00\", \"2020-11-09T00:00:00\", \"2020-11-10T00:00:00\", \"2020-11-11T00:00:00\", \"2020-11-12T00:00:00\", \"2020-11-13T00:00:00\", \"2020-11-16T00:00:00\", \"2020-11-17T00:00:00\", \"2020-11-18T00:00:00\", \"2020-11-19T00:00:00\", \"2020-11-20T00:00:00\", \"2020-11-23T00:00:00\", \"2020-11-24T00:00:00\", \"2020-11-25T00:00:00\", \"2020-11-27T00:00:00\", \"2020-11-30T00:00:00\", \"2020-12-01T00:00:00\", \"2020-12-02T00:00:00\", \"2020-12-03T00:00:00\", \"2020-12-04T00:00:00\", \"2020-12-07T00:00:00\", \"2020-12-08T00:00:00\", \"2020-12-09T00:00:00\", \"2020-12-10T00:00:00\", \"2020-12-11T00:00:00\", \"2020-12-14T00:00:00\", \"2020-12-15T00:00:00\", \"2020-12-16T00:00:00\", \"2020-12-17T00:00:00\", \"2020-12-18T00:00:00\", \"2020-12-21T00:00:00\", \"2020-12-22T00:00:00\", \"2020-12-23T00:00:00\", \"2020-12-24T00:00:00\", \"2020-12-28T00:00:00\", \"2020-12-29T00:00:00\", \"2020-12-30T00:00:00\", \"2020-12-31T00:00:00\", \"2021-01-04T00:00:00\", \"2021-01-05T00:00:00\", \"2021-01-06T00:00:00\", \"2021-01-07T00:00:00\", \"2021-01-08T00:00:00\", \"2021-01-11T00:00:00\", \"2021-01-12T00:00:00\", \"2021-01-13T00:00:00\", \"2021-01-14T00:00:00\", \"2021-01-15T00:00:00\", \"2021-01-19T00:00:00\", \"2021-01-20T00:00:00\", \"2021-01-21T00:00:00\", \"2021-01-22T00:00:00\", \"2021-01-25T00:00:00\", \"2021-01-26T00:00:00\", \"2021-01-27T00:00:00\", \"2021-01-28T00:00:00\", \"2021-01-29T00:00:00\", \"2021-02-01T00:00:00\", \"2021-02-02T00:00:00\", \"2021-02-03T00:00:00\", \"2021-02-04T00:00:00\", \"2021-02-05T00:00:00\", \"2021-02-08T00:00:00\", \"2021-02-09T00:00:00\", \"2021-02-10T00:00:00\", \"2021-02-11T00:00:00\", \"2021-02-12T00:00:00\"], \"y\": [89.01399993896484, 86.04000091552734, 72.24400329589844, 85.52799987792969, 85.50599670410156, 86.85800170898438, 101.0, 107.8499984741211, 105.63200378417969, 102.87200164794922, 100.4260025024414, 104.80000305175781, 96.31199645996094, 90.89399719238281, 96.00199890136719, 103.24800109863281, 109.08999633789062, 109.76799774169922, 114.5999984741211, 130.19000244140625, 141.97799682617188, 145.96600341796875, 149.04200744628906, 150.7779998779297, 149.27200317382812, 137.343994140625, 146.4219970703125, 141.12600708007812, 145.02999877929688, 159.75, 153.82400512695312, 160.1020050048828, 156.37600708007812, 140.26400756835938, 152.23800659179688, 153.64199829101562, 156.51600646972656, 156.00799560546875, 163.88400268554688, 162.25799560546875, 161.8820037841797, 158.19200134277344, 160.66600036621094, 159.83399963378906, 162.7259979248047, 161.6020050048828, 163.11199951171875, 165.52000427246094, 163.37600708007812, 163.7740020751953, 164.04600524902344, 161.16200256347656, 167.0, 179.6199951171875, 176.31199645996094, 176.5919952392578, 172.87600708007812, 177.1320037841797, 189.98399353027344, 188.13400268554688, 205.00999450683594, 194.5679931640625, 187.05599975585938, 198.17999267578125, 196.42599487304688, 198.35800170898438, 200.79200744628906, 200.17999267578125, 198.86399841308594, 200.3560028076172, 192.1699981689453, 197.1959991455078, 191.947998046875, 201.8699951171875, 215.96200561523438, 223.92599487304688, 241.73199462890625, 274.3160095214844, 277.97198486328125, 273.1759948730469, 278.8559875488281, 308.92999267578125, 299.4119873046875, 303.3599853515625, 309.2019958496094, 300.12799072265625, 300.1679992675781, 328.6000061035156, 313.6719970703125, 318.46600341796875, 302.614013671875, 283.3999938964844, 307.9200134277344, 295.2980041503906, 299.8219909667969, 297.49798583984375, 286.1520080566406, 297.0, 297.3999938964844, 297.0039978027344, 297.9159851074219, 290.5419921875, 283.7139892578125, 274.87799072265625, 310.9519958496094, 324.20001220703125, 330.1419982910156, 367.12799072265625, 377.4179992675781, 375.70599365234375, 400.3659973144531, 409.9960021972656, 402.8399963378906, 404.6679992675781, 430.6340026855469, 447.75, 442.67999267578125, 498.32000732421875, 475.04998779296875, 447.3699951171875, 407.0, 418.32000732421875, 330.2099914550781, 366.2799987792969, 371.3399963378906, 372.7200012207031, 419.6199951171875, 449.760009765625, 441.760009765625, 423.42999267578125, 442.1499938964844, 449.3900146484375, 424.2300109863281, 380.3599853515625, 387.7900085449219, 407.3399963378906, 421.20001220703125, 419.07000732421875, 429.010009765625, 448.1600036621094, 415.0899963378906, 425.67999267578125, 413.9800109863281, 425.29998779296875, 425.9200134277344, 434.0, 442.29998779296875, 446.6499938964844, 461.29998779296875, 448.8800048828125, 439.6700134277344, 430.8299865722656, 421.94000244140625, 422.6400146484375, 425.7900085449219, 420.6300048828125, 420.2799987792969, 424.67999267578125, 406.0199890136719, 410.8299865722656, 388.0400085449219, 400.510009765625, 423.8999938964844, 420.9800109863281, 438.0899963378906, 429.95001220703125, 421.260009765625, 410.3599853515625, 417.1300048828125, 411.760009765625, 408.5, 408.0899963378906, 441.6099853515625, 486.6400146484375, 499.2699890136719, 489.6099853515625, 521.8499755859375, 555.3800048828125, 574.0, 585.760009765625, 567.5999755859375, 584.760009765625, 568.8200073242188, 593.3800048828125, 599.0399780273438, 641.760009765625, 649.8800048828125, 604.47998046875, 627.0700073242188, 609.989990234375, 639.8300170898438, 633.25, 622.77001953125, 655.9000244140625, 695.0, 649.8599853515625, 640.3400268554688, 645.97998046875, 661.77001953125, 663.6900024414062, 665.989990234375, 694.780029296875, 705.6699829101562, 729.77001953125, 735.1099853515625, 755.97998046875, 816.0399780273438, 880.02001953125, 811.1900024414062, 849.4400024414062, 854.4099731445312, 845.0, 826.1599731445312, 844.5499877929688, 850.4500122070312, 844.989990234375, 846.6400146484375, 880.7999877929688, 883.0900268554688, 864.1599731445312, 835.4299926757812, 793.530029296875, 839.8099975585938, 872.7899780273438, 854.6900024414062, 849.989990234375, 852.22998046875, 863.4199829101562, 849.4600219726562, 804.8200073242188, 811.6599731445312, 816.1199951171875]}],                        {\"template\": {\"data\": {\"bar\": [{\"error_x\": {\"color\": \"#f2f5fa\"}, \"error_y\": {\"color\": \"#f2f5fa\"}, \"marker\": {\"line\": {\"color\": \"rgb(17,17,17)\", \"width\": 0.5}}, \"type\": \"bar\"}], \"barpolar\": [{\"marker\": {\"line\": {\"color\": \"rgb(17,17,17)\", \"width\": 0.5}}, \"type\": \"barpolar\"}], \"carpet\": [{\"aaxis\": {\"endlinecolor\": \"#A2B1C6\", \"gridcolor\": \"#506784\", \"linecolor\": \"#506784\", \"minorgridcolor\": \"#506784\", \"startlinecolor\": \"#A2B1C6\"}, \"baxis\": {\"endlinecolor\": \"#A2B1C6\", \"gridcolor\": \"#506784\", \"linecolor\": \"#506784\", \"minorgridcolor\": \"#506784\", \"startlinecolor\": \"#A2B1C6\"}, \"type\": \"carpet\"}], \"choropleth\": [{\"colorbar\": {\"outlinewidth\": 0, \"ticks\": \"\"}, \"type\": \"choropleth\"}], \"contour\": [{\"colorbar\": {\"outlinewidth\": 0, \"ticks\": \"\"}, \"colorscale\": [[0.0, \"#0d0887\"], [0.1111111111111111, \"#46039f\"], [0.2222222222222222, \"#7201a8\"], [0.3333333333333333, \"#9c179e\"], [0.4444444444444444, \"#bd3786\"], [0.5555555555555556, \"#d8576b\"], [0.6666666666666666, \"#ed7953\"], [0.7777777777777778, \"#fb9f3a\"], [0.8888888888888888, \"#fdca26\"], [1.0, \"#f0f921\"]], \"type\": \"contour\"}], \"contourcarpet\": [{\"colorbar\": {\"outlinewidth\": 0, \"ticks\": \"\"}, \"type\": \"contourcarpet\"}], \"heatmap\": [{\"colorbar\": {\"outlinewidth\": 0, \"ticks\": \"\"}, \"colorscale\": [[0.0, \"#0d0887\"], [0.1111111111111111, \"#46039f\"], [0.2222222222222222, \"#7201a8\"], [0.3333333333333333, \"#9c179e\"], [0.4444444444444444, \"#bd3786\"], [0.5555555555555556, \"#d8576b\"], [0.6666666666666666, \"#ed7953\"], [0.7777777777777778, \"#fb9f3a\"], [0.8888888888888888, \"#fdca26\"], [1.0, \"#f0f921\"]], \"type\": \"heatmap\"}], \"heatmapgl\": [{\"colorbar\": {\"outlinewidth\": 0, \"ticks\": \"\"}, \"colorscale\": [[0.0, \"#0d0887\"], [0.1111111111111111, \"#46039f\"], [0.2222222222222222, \"#7201a8\"], [0.3333333333333333, \"#9c179e\"], [0.4444444444444444, \"#bd3786\"], [0.5555555555555556, \"#d8576b\"], [0.6666666666666666, \"#ed7953\"], [0.7777777777777778, \"#fb9f3a\"], [0.8888888888888888, \"#fdca26\"], [1.0, \"#f0f921\"]], \"type\": \"heatmapgl\"}], \"histogram\": [{\"marker\": {\"colorbar\": {\"outlinewidth\": 0, \"ticks\": \"\"}}, \"type\": \"histogram\"}], \"histogram2d\": [{\"colorbar\": {\"outlinewidth\": 0, \"ticks\": \"\"}, \"colorscale\": [[0.0, \"#0d0887\"], [0.1111111111111111, \"#46039f\"], [0.2222222222222222, \"#7201a8\"], [0.3333333333333333, \"#9c179e\"], [0.4444444444444444, \"#bd3786\"], [0.5555555555555556, \"#d8576b\"], [0.6666666666666666, \"#ed7953\"], [0.7777777777777778, \"#fb9f3a\"], [0.8888888888888888, \"#fdca26\"], [1.0, \"#f0f921\"]], \"type\": \"histogram2d\"}], \"histogram2dcontour\": [{\"colorbar\": {\"outlinewidth\": 0, \"ticks\": \"\"}, \"colorscale\": [[0.0, \"#0d0887\"], [0.1111111111111111, \"#46039f\"], [0.2222222222222222, \"#7201a8\"], [0.3333333333333333, \"#9c179e\"], [0.4444444444444444, \"#bd3786\"], [0.5555555555555556, \"#d8576b\"], [0.6666666666666666, \"#ed7953\"], [0.7777777777777778, \"#fb9f3a\"], [0.8888888888888888, \"#fdca26\"], [1.0, \"#f0f921\"]], \"type\": \"histogram2dcontour\"}], \"mesh3d\": [{\"colorbar\": {\"outlinewidth\": 0, \"ticks\": \"\"}, \"type\": \"mesh3d\"}], \"parcoords\": [{\"line\": {\"colorbar\": {\"outlinewidth\": 0, \"ticks\": \"\"}}, \"type\": \"parcoords\"}], \"pie\": [{\"automargin\": true, \"type\": \"pie\"}], \"scatter\": [{\"marker\": {\"line\": {\"color\": \"#283442\"}}, \"type\": \"scatter\"}], \"scatter3d\": [{\"line\": {\"colorbar\": {\"outlinewidth\": 0, \"ticks\": \"\"}}, \"marker\": {\"colorbar\": {\"outlinewidth\": 0, \"ticks\": \"\"}}, \"type\": \"scatter3d\"}], \"scattercarpet\": [{\"marker\": {\"colorbar\": {\"outlinewidth\": 0, \"ticks\": \"\"}}, \"type\": \"scattercarpet\"}], \"scattergeo\": [{\"marker\": {\"colorbar\": {\"outlinewidth\": 0, \"ticks\": \"\"}}, \"type\": \"scattergeo\"}], \"scattergl\": [{\"marker\": {\"line\": {\"color\": \"#283442\"}}, \"type\": \"scattergl\"}], \"scattermapbox\": [{\"marker\": {\"colorbar\": {\"outlinewidth\": 0, \"ticks\": \"\"}}, \"type\": \"scattermapbox\"}], \"scatterpolar\": [{\"marker\": {\"colorbar\": {\"outlinewidth\": 0, \"ticks\": \"\"}}, \"type\": \"scatterpolar\"}], \"scatterpolargl\": [{\"marker\": {\"colorbar\": {\"outlinewidth\": 0, \"ticks\": \"\"}}, \"type\": \"scatterpolargl\"}], \"scatterternary\": [{\"marker\": {\"colorbar\": {\"outlinewidth\": 0, \"ticks\": \"\"}}, \"type\": \"scatterternary\"}], \"surface\": [{\"colorbar\": {\"outlinewidth\": 0, \"ticks\": \"\"}, \"colorscale\": [[0.0, \"#0d0887\"], [0.1111111111111111, \"#46039f\"], [0.2222222222222222, \"#7201a8\"], [0.3333333333333333, \"#9c179e\"], [0.4444444444444444, \"#bd3786\"], [0.5555555555555556, \"#d8576b\"], [0.6666666666666666, \"#ed7953\"], [0.7777777777777778, \"#fb9f3a\"], [0.8888888888888888, \"#fdca26\"], [1.0, \"#f0f921\"]], \"type\": \"surface\"}], \"table\": [{\"cells\": {\"fill\": {\"color\": \"#506784\"}, \"line\": {\"color\": \"rgb(17,17,17)\"}}, \"header\": {\"fill\": {\"color\": \"#2a3f5f\"}, \"line\": {\"color\": \"rgb(17,17,17)\"}}, \"type\": \"table\"}]}, \"layout\": {\"annotationdefaults\": {\"arrowcolor\": \"#f2f5fa\", \"arrowhead\": 0, \"arrowwidth\": 1}, \"autotypenumbers\": \"strict\", \"coloraxis\": {\"colorbar\": {\"outlinewidth\": 0, \"ticks\": \"\"}}, \"colorscale\": {\"diverging\": [[0, \"#8e0152\"], [0.1, \"#c51b7d\"], [0.2, \"#de77ae\"], [0.3, \"#f1b6da\"], [0.4, \"#fde0ef\"], [0.5, \"#f7f7f7\"], [0.6, \"#e6f5d0\"], [0.7, \"#b8e186\"], [0.8, \"#7fbc41\"], [0.9, \"#4d9221\"], [1, \"#276419\"]], \"sequential\": [[0.0, \"#0d0887\"], [0.1111111111111111, \"#46039f\"], [0.2222222222222222, \"#7201a8\"], [0.3333333333333333, \"#9c179e\"], [0.4444444444444444, \"#bd3786\"], [0.5555555555555556, \"#d8576b\"], [0.6666666666666666, \"#ed7953\"], [0.7777777777777778, \"#fb9f3a\"], [0.8888888888888888, \"#fdca26\"], [1.0, \"#f0f921\"]], \"sequentialminus\": [[0.0, \"#0d0887\"], [0.1111111111111111, \"#46039f\"], [0.2222222222222222, \"#7201a8\"], [0.3333333333333333, \"#9c179e\"], [0.4444444444444444, \"#bd3786\"], [0.5555555555555556, \"#d8576b\"], [0.6666666666666666, \"#ed7953\"], [0.7777777777777778, \"#fb9f3a\"], [0.8888888888888888, \"#fdca26\"], [1.0, \"#f0f921\"]]}, \"colorway\": [\"#636efa\", \"#EF553B\", \"#00cc96\", \"#ab63fa\", \"#FFA15A\", \"#19d3f3\", \"#FF6692\", \"#B6E880\", \"#FF97FF\", \"#FECB52\"], \"font\": {\"color\": \"#f2f5fa\"}, \"geo\": {\"bgcolor\": \"rgb(17,17,17)\", \"lakecolor\": \"rgb(17,17,17)\", \"landcolor\": \"rgb(17,17,17)\", \"showlakes\": true, \"showland\": true, \"subunitcolor\": \"#506784\"}, \"hoverlabel\": {\"align\": \"left\"}, \"hovermode\": \"closest\", \"mapbox\": {\"style\": \"dark\"}, \"paper_bgcolor\": \"rgb(17,17,17)\", \"plot_bgcolor\": \"rgb(17,17,17)\", \"polar\": {\"angularaxis\": {\"gridcolor\": \"#506784\", \"linecolor\": \"#506784\", \"ticks\": \"\"}, \"bgcolor\": \"rgb(17,17,17)\", \"radialaxis\": {\"gridcolor\": \"#506784\", \"linecolor\": \"#506784\", \"ticks\": \"\"}}, \"scene\": {\"xaxis\": {\"backgroundcolor\": \"rgb(17,17,17)\", \"gridcolor\": \"#506784\", \"gridwidth\": 2, \"linecolor\": \"#506784\", \"showbackground\": true, \"ticks\": \"\", \"zerolinecolor\": \"#C8D4E3\"}, \"yaxis\": {\"backgroundcolor\": \"rgb(17,17,17)\", \"gridcolor\": \"#506784\", \"gridwidth\": 2, \"linecolor\": \"#506784\", \"showbackground\": true, \"ticks\": \"\", \"zerolinecolor\": \"#C8D4E3\"}, \"zaxis\": {\"backgroundcolor\": \"rgb(17,17,17)\", \"gridcolor\": \"#506784\", \"gridwidth\": 2, \"linecolor\": \"#506784\", \"showbackground\": true, \"ticks\": \"\", \"zerolinecolor\": \"#C8D4E3\"}}, \"shapedefaults\": {\"line\": {\"color\": \"#f2f5fa\"}}, \"sliderdefaults\": {\"bgcolor\": \"#C8D4E3\", \"bordercolor\": \"rgb(17,17,17)\", \"borderwidth\": 1, \"tickwidth\": 0}, \"ternary\": {\"aaxis\": {\"gridcolor\": \"#506784\", \"linecolor\": \"#506784\", \"ticks\": \"\"}, \"baxis\": {\"gridcolor\": \"#506784\", \"linecolor\": \"#506784\", \"ticks\": \"\"}, \"bgcolor\": \"rgb(17,17,17)\", \"caxis\": {\"gridcolor\": \"#506784\", \"linecolor\": \"#506784\", \"ticks\": \"\"}}, \"title\": {\"x\": 0.05}, \"updatemenudefaults\": {\"bgcolor\": \"#506784\", \"borderwidth\": 0}, \"xaxis\": {\"automargin\": true, \"gridcolor\": \"#283442\", \"linecolor\": \"#506784\", \"ticks\": \"\", \"title\": {\"standoff\": 15}, \"zerolinecolor\": \"#283442\", \"zerolinewidth\": 2}, \"yaxis\": {\"automargin\": true, \"gridcolor\": \"#283442\", \"linecolor\": \"#506784\", \"ticks\": \"\", \"title\": {\"standoff\": 15}, \"zerolinecolor\": \"#283442\", \"zerolinewidth\": 2}}}, \"title\": {\"text\": \"GameStop vs Tesla Stock Price\", \"x\": 0.5, \"xanchor\": \"center\"}, \"xaxis\": {\"rangeselector\": {\"buttons\": [{\"count\": 1, \"label\": \"1m\", \"step\": \"month\", \"stepmode\": \"backward\"}, {\"count\": 3, \"label\": \"3m\", \"step\": \"month\", \"stepmode\": \"backward\"}, {\"count\": 6, \"label\": \"6m\", \"step\": \"month\", \"stepmode\": \"backward\"}, {\"count\": 12, \"label\": \"12m\", \"step\": \"month\", \"stepmode\": \"backward\"}]}, \"rangeslider\": {\"visible\": true}, \"type\": \"date\"}},                        {\"responsive\": true}                    ).then(function(){\n",
       "                            \n",
       "var gd = document.getElementById('7b015127-d18d-4655-a7ec-277cb1345ed3');\n",
       "var x = new MutationObserver(function (mutations, observer) {{\n",
       "        var display = window.getComputedStyle(gd).display;\n",
       "        if (!display || display === 'none') {{\n",
       "            console.log([gd, 'removed!']);\n",
       "            Plotly.purge(gd);\n",
       "            observer.disconnect();\n",
       "        }}\n",
       "}});\n",
       "\n",
       "// Listen for the removal of the full notebook cells\n",
       "var notebookContainer = gd.closest('#notebook-container');\n",
       "if (notebookContainer) {{\n",
       "    x.observe(notebookContainer, {childList: true});\n",
       "}}\n",
       "\n",
       "// Listen for the clearing of the current output cell\n",
       "var outputEl = gd.closest('.output');\n",
       "if (outputEl) {{\n",
       "    x.observe(outputEl, {childList: true});\n",
       "}}\n",
       "\n",
       "                        })                };                });            </script>        </div>"
      ]
     },
     "metadata": {},
     "output_type": "display_data"
    }
   ],
   "source": [
    "trace0 = go.Scatter(x=gmstp.Date, y=gmstp.Close, name='GME', line=dict(color='lime'))\n",
    "trace1 = go.Scatter(x=tsla.Date, y=tsla.Close, name='TSLA', line=dict(color='red'))\n",
    "\n",
    "fig4 = go.Figure([trace0, trace1])\n",
    "fig4.update_layout(dict(\n",
    "    title=dict({\n",
    "        'text': \"GameStop vs Tesla Stock Price\",\n",
    "        'x':0.5,\n",
    "        'xanchor': 'center'}),\n",
    "    xaxis=dict(\n",
    "        rangeselector=dict(\n",
    "            buttons=list([\n",
    "                dict(count=1,\n",
    "                     label='1m',\n",
    "                     step='month',\n",
    "                     stepmode='backward'),\n",
    "                dict(count=3,\n",
    "                     label='3m',\n",
    "                     step='month',\n",
    "                     stepmode='backward'),\n",
    "                dict(count=6,\n",
    "                     label='6m',\n",
    "                     step='month',\n",
    "                     stepmode='backward'),\n",
    "                dict(count=12,\n",
    "                     label='12m',\n",
    "                     step='month',\n",
    "                     stepmode='backward')\n",
    "            ])\n",
    "        ),\n",
    "        rangeslider=dict(\n",
    "            visible = True\n",
    "        ),\n",
    "        type='date')))\n",
    "fig4.show()"
   ]
  },
  {
   "cell_type": "code",
   "execution_count": 16,
   "metadata": {},
   "outputs": [
    {
     "data": {
      "application/vnd.plotly.v1+json": {
       "config": {
        "plotlyServerURL": "https://plot.ly"
       },
       "data": [
        {
         "fill": "toself",
         "line": {
          "color": "lime"
         },
         "name": "GME",
         "r": [
          16.776638029978194,
          2.8499999046325684,
          2.569999933242798,
          483
         ],
         "theta": [
          "Close",
          "Open",
          "Low",
          "High"
         ],
         "type": "scatterpolar"
        },
        {
         "fill": "toself",
         "line": {
          "color": "red"
         },
         "name": "TSLA",
         "r": [
          392.01752514674746,
          74.94000244140625,
          70.10199737548828,
          900.4000244140625
         ],
         "theta": [
          "Close",
          "Open",
          "Low",
          "High"
         ],
         "type": "scatterpolar"
        }
       ],
       "layout": {
        "polar": {
         "radialaxis": {
          "visible": true
         }
        },
        "template": {
         "data": {
          "bar": [
           {
            "error_x": {
             "color": "#f2f5fa"
            },
            "error_y": {
             "color": "#f2f5fa"
            },
            "marker": {
             "line": {
              "color": "rgb(17,17,17)",
              "width": 0.5
             }
            },
            "type": "bar"
           }
          ],
          "barpolar": [
           {
            "marker": {
             "line": {
              "color": "rgb(17,17,17)",
              "width": 0.5
             }
            },
            "type": "barpolar"
           }
          ],
          "carpet": [
           {
            "aaxis": {
             "endlinecolor": "#A2B1C6",
             "gridcolor": "#506784",
             "linecolor": "#506784",
             "minorgridcolor": "#506784",
             "startlinecolor": "#A2B1C6"
            },
            "baxis": {
             "endlinecolor": "#A2B1C6",
             "gridcolor": "#506784",
             "linecolor": "#506784",
             "minorgridcolor": "#506784",
             "startlinecolor": "#A2B1C6"
            },
            "type": "carpet"
           }
          ],
          "choropleth": [
           {
            "colorbar": {
             "outlinewidth": 0,
             "ticks": ""
            },
            "type": "choropleth"
           }
          ],
          "contour": [
           {
            "colorbar": {
             "outlinewidth": 0,
             "ticks": ""
            },
            "colorscale": [
             [
              0,
              "#0d0887"
             ],
             [
              0.1111111111111111,
              "#46039f"
             ],
             [
              0.2222222222222222,
              "#7201a8"
             ],
             [
              0.3333333333333333,
              "#9c179e"
             ],
             [
              0.4444444444444444,
              "#bd3786"
             ],
             [
              0.5555555555555556,
              "#d8576b"
             ],
             [
              0.6666666666666666,
              "#ed7953"
             ],
             [
              0.7777777777777778,
              "#fb9f3a"
             ],
             [
              0.8888888888888888,
              "#fdca26"
             ],
             [
              1,
              "#f0f921"
             ]
            ],
            "type": "contour"
           }
          ],
          "contourcarpet": [
           {
            "colorbar": {
             "outlinewidth": 0,
             "ticks": ""
            },
            "type": "contourcarpet"
           }
          ],
          "heatmap": [
           {
            "colorbar": {
             "outlinewidth": 0,
             "ticks": ""
            },
            "colorscale": [
             [
              0,
              "#0d0887"
             ],
             [
              0.1111111111111111,
              "#46039f"
             ],
             [
              0.2222222222222222,
              "#7201a8"
             ],
             [
              0.3333333333333333,
              "#9c179e"
             ],
             [
              0.4444444444444444,
              "#bd3786"
             ],
             [
              0.5555555555555556,
              "#d8576b"
             ],
             [
              0.6666666666666666,
              "#ed7953"
             ],
             [
              0.7777777777777778,
              "#fb9f3a"
             ],
             [
              0.8888888888888888,
              "#fdca26"
             ],
             [
              1,
              "#f0f921"
             ]
            ],
            "type": "heatmap"
           }
          ],
          "heatmapgl": [
           {
            "colorbar": {
             "outlinewidth": 0,
             "ticks": ""
            },
            "colorscale": [
             [
              0,
              "#0d0887"
             ],
             [
              0.1111111111111111,
              "#46039f"
             ],
             [
              0.2222222222222222,
              "#7201a8"
             ],
             [
              0.3333333333333333,
              "#9c179e"
             ],
             [
              0.4444444444444444,
              "#bd3786"
             ],
             [
              0.5555555555555556,
              "#d8576b"
             ],
             [
              0.6666666666666666,
              "#ed7953"
             ],
             [
              0.7777777777777778,
              "#fb9f3a"
             ],
             [
              0.8888888888888888,
              "#fdca26"
             ],
             [
              1,
              "#f0f921"
             ]
            ],
            "type": "heatmapgl"
           }
          ],
          "histogram": [
           {
            "marker": {
             "colorbar": {
              "outlinewidth": 0,
              "ticks": ""
             }
            },
            "type": "histogram"
           }
          ],
          "histogram2d": [
           {
            "colorbar": {
             "outlinewidth": 0,
             "ticks": ""
            },
            "colorscale": [
             [
              0,
              "#0d0887"
             ],
             [
              0.1111111111111111,
              "#46039f"
             ],
             [
              0.2222222222222222,
              "#7201a8"
             ],
             [
              0.3333333333333333,
              "#9c179e"
             ],
             [
              0.4444444444444444,
              "#bd3786"
             ],
             [
              0.5555555555555556,
              "#d8576b"
             ],
             [
              0.6666666666666666,
              "#ed7953"
             ],
             [
              0.7777777777777778,
              "#fb9f3a"
             ],
             [
              0.8888888888888888,
              "#fdca26"
             ],
             [
              1,
              "#f0f921"
             ]
            ],
            "type": "histogram2d"
           }
          ],
          "histogram2dcontour": [
           {
            "colorbar": {
             "outlinewidth": 0,
             "ticks": ""
            },
            "colorscale": [
             [
              0,
              "#0d0887"
             ],
             [
              0.1111111111111111,
              "#46039f"
             ],
             [
              0.2222222222222222,
              "#7201a8"
             ],
             [
              0.3333333333333333,
              "#9c179e"
             ],
             [
              0.4444444444444444,
              "#bd3786"
             ],
             [
              0.5555555555555556,
              "#d8576b"
             ],
             [
              0.6666666666666666,
              "#ed7953"
             ],
             [
              0.7777777777777778,
              "#fb9f3a"
             ],
             [
              0.8888888888888888,
              "#fdca26"
             ],
             [
              1,
              "#f0f921"
             ]
            ],
            "type": "histogram2dcontour"
           }
          ],
          "mesh3d": [
           {
            "colorbar": {
             "outlinewidth": 0,
             "ticks": ""
            },
            "type": "mesh3d"
           }
          ],
          "parcoords": [
           {
            "line": {
             "colorbar": {
              "outlinewidth": 0,
              "ticks": ""
             }
            },
            "type": "parcoords"
           }
          ],
          "pie": [
           {
            "automargin": true,
            "type": "pie"
           }
          ],
          "scatter": [
           {
            "marker": {
             "line": {
              "color": "#283442"
             }
            },
            "type": "scatter"
           }
          ],
          "scatter3d": [
           {
            "line": {
             "colorbar": {
              "outlinewidth": 0,
              "ticks": ""
             }
            },
            "marker": {
             "colorbar": {
              "outlinewidth": 0,
              "ticks": ""
             }
            },
            "type": "scatter3d"
           }
          ],
          "scattercarpet": [
           {
            "marker": {
             "colorbar": {
              "outlinewidth": 0,
              "ticks": ""
             }
            },
            "type": "scattercarpet"
           }
          ],
          "scattergeo": [
           {
            "marker": {
             "colorbar": {
              "outlinewidth": 0,
              "ticks": ""
             }
            },
            "type": "scattergeo"
           }
          ],
          "scattergl": [
           {
            "marker": {
             "line": {
              "color": "#283442"
             }
            },
            "type": "scattergl"
           }
          ],
          "scattermapbox": [
           {
            "marker": {
             "colorbar": {
              "outlinewidth": 0,
              "ticks": ""
             }
            },
            "type": "scattermapbox"
           }
          ],
          "scatterpolar": [
           {
            "marker": {
             "colorbar": {
              "outlinewidth": 0,
              "ticks": ""
             }
            },
            "type": "scatterpolar"
           }
          ],
          "scatterpolargl": [
           {
            "marker": {
             "colorbar": {
              "outlinewidth": 0,
              "ticks": ""
             }
            },
            "type": "scatterpolargl"
           }
          ],
          "scatterternary": [
           {
            "marker": {
             "colorbar": {
              "outlinewidth": 0,
              "ticks": ""
             }
            },
            "type": "scatterternary"
           }
          ],
          "surface": [
           {
            "colorbar": {
             "outlinewidth": 0,
             "ticks": ""
            },
            "colorscale": [
             [
              0,
              "#0d0887"
             ],
             [
              0.1111111111111111,
              "#46039f"
             ],
             [
              0.2222222222222222,
              "#7201a8"
             ],
             [
              0.3333333333333333,
              "#9c179e"
             ],
             [
              0.4444444444444444,
              "#bd3786"
             ],
             [
              0.5555555555555556,
              "#d8576b"
             ],
             [
              0.6666666666666666,
              "#ed7953"
             ],
             [
              0.7777777777777778,
              "#fb9f3a"
             ],
             [
              0.8888888888888888,
              "#fdca26"
             ],
             [
              1,
              "#f0f921"
             ]
            ],
            "type": "surface"
           }
          ],
          "table": [
           {
            "cells": {
             "fill": {
              "color": "#506784"
             },
             "line": {
              "color": "rgb(17,17,17)"
             }
            },
            "header": {
             "fill": {
              "color": "#2a3f5f"
             },
             "line": {
              "color": "rgb(17,17,17)"
             }
            },
            "type": "table"
           }
          ]
         },
         "layout": {
          "annotationdefaults": {
           "arrowcolor": "#f2f5fa",
           "arrowhead": 0,
           "arrowwidth": 1
          },
          "autotypenumbers": "strict",
          "coloraxis": {
           "colorbar": {
            "outlinewidth": 0,
            "ticks": ""
           }
          },
          "colorscale": {
           "diverging": [
            [
             0,
             "#8e0152"
            ],
            [
             0.1,
             "#c51b7d"
            ],
            [
             0.2,
             "#de77ae"
            ],
            [
             0.3,
             "#f1b6da"
            ],
            [
             0.4,
             "#fde0ef"
            ],
            [
             0.5,
             "#f7f7f7"
            ],
            [
             0.6,
             "#e6f5d0"
            ],
            [
             0.7,
             "#b8e186"
            ],
            [
             0.8,
             "#7fbc41"
            ],
            [
             0.9,
             "#4d9221"
            ],
            [
             1,
             "#276419"
            ]
           ],
           "sequential": [
            [
             0,
             "#0d0887"
            ],
            [
             0.1111111111111111,
             "#46039f"
            ],
            [
             0.2222222222222222,
             "#7201a8"
            ],
            [
             0.3333333333333333,
             "#9c179e"
            ],
            [
             0.4444444444444444,
             "#bd3786"
            ],
            [
             0.5555555555555556,
             "#d8576b"
            ],
            [
             0.6666666666666666,
             "#ed7953"
            ],
            [
             0.7777777777777778,
             "#fb9f3a"
            ],
            [
             0.8888888888888888,
             "#fdca26"
            ],
            [
             1,
             "#f0f921"
            ]
           ],
           "sequentialminus": [
            [
             0,
             "#0d0887"
            ],
            [
             0.1111111111111111,
             "#46039f"
            ],
            [
             0.2222222222222222,
             "#7201a8"
            ],
            [
             0.3333333333333333,
             "#9c179e"
            ],
            [
             0.4444444444444444,
             "#bd3786"
            ],
            [
             0.5555555555555556,
             "#d8576b"
            ],
            [
             0.6666666666666666,
             "#ed7953"
            ],
            [
             0.7777777777777778,
             "#fb9f3a"
            ],
            [
             0.8888888888888888,
             "#fdca26"
            ],
            [
             1,
             "#f0f921"
            ]
           ]
          },
          "colorway": [
           "#636efa",
           "#EF553B",
           "#00cc96",
           "#ab63fa",
           "#FFA15A",
           "#19d3f3",
           "#FF6692",
           "#B6E880",
           "#FF97FF",
           "#FECB52"
          ],
          "font": {
           "color": "#f2f5fa"
          },
          "geo": {
           "bgcolor": "rgb(17,17,17)",
           "lakecolor": "rgb(17,17,17)",
           "landcolor": "rgb(17,17,17)",
           "showlakes": true,
           "showland": true,
           "subunitcolor": "#506784"
          },
          "hoverlabel": {
           "align": "left"
          },
          "hovermode": "closest",
          "mapbox": {
           "style": "dark"
          },
          "paper_bgcolor": "rgb(17,17,17)",
          "plot_bgcolor": "rgb(17,17,17)",
          "polar": {
           "angularaxis": {
            "gridcolor": "#506784",
            "linecolor": "#506784",
            "ticks": ""
           },
           "bgcolor": "rgb(17,17,17)",
           "radialaxis": {
            "gridcolor": "#506784",
            "linecolor": "#506784",
            "ticks": ""
           }
          },
          "scene": {
           "xaxis": {
            "backgroundcolor": "rgb(17,17,17)",
            "gridcolor": "#506784",
            "gridwidth": 2,
            "linecolor": "#506784",
            "showbackground": true,
            "ticks": "",
            "zerolinecolor": "#C8D4E3"
           },
           "yaxis": {
            "backgroundcolor": "rgb(17,17,17)",
            "gridcolor": "#506784",
            "gridwidth": 2,
            "linecolor": "#506784",
            "showbackground": true,
            "ticks": "",
            "zerolinecolor": "#C8D4E3"
           },
           "zaxis": {
            "backgroundcolor": "rgb(17,17,17)",
            "gridcolor": "#506784",
            "gridwidth": 2,
            "linecolor": "#506784",
            "showbackground": true,
            "ticks": "",
            "zerolinecolor": "#C8D4E3"
           }
          },
          "shapedefaults": {
           "line": {
            "color": "#f2f5fa"
           }
          },
          "sliderdefaults": {
           "bgcolor": "#C8D4E3",
           "bordercolor": "rgb(17,17,17)",
           "borderwidth": 1,
           "tickwidth": 0
          },
          "ternary": {
           "aaxis": {
            "gridcolor": "#506784",
            "linecolor": "#506784",
            "ticks": ""
           },
           "baxis": {
            "gridcolor": "#506784",
            "linecolor": "#506784",
            "ticks": ""
           },
           "bgcolor": "rgb(17,17,17)",
           "caxis": {
            "gridcolor": "#506784",
            "linecolor": "#506784",
            "ticks": ""
           }
          },
          "title": {
           "x": 0.05
          },
          "updatemenudefaults": {
           "bgcolor": "#506784",
           "borderwidth": 0
          },
          "xaxis": {
           "automargin": true,
           "gridcolor": "#283442",
           "linecolor": "#506784",
           "ticks": "",
           "title": {
            "standoff": 15
           },
           "zerolinecolor": "#283442",
           "zerolinewidth": 2
          },
          "yaxis": {
           "automargin": true,
           "gridcolor": "#283442",
           "linecolor": "#506784",
           "ticks": "",
           "title": {
            "standoff": 15
           },
           "zerolinecolor": "#283442",
           "zerolinewidth": 2
          }
         }
        },
        "title": {
         "text": "GameStop vs Tesla Stock Price (Radar Chart)",
         "x": 0.5,
         "xanchor": "center"
        }
       }
      },
      "text/html": [
       "<div>                            <div id=\"bb8e9dcb-a553-4727-b7fc-f79e70ae250a\" class=\"plotly-graph-div\" style=\"height:525px; width:100%;\"></div>            <script type=\"text/javascript\">                require([\"plotly\"], function(Plotly) {                    window.PLOTLYENV=window.PLOTLYENV || {};                                    if (document.getElementById(\"bb8e9dcb-a553-4727-b7fc-f79e70ae250a\")) {                    Plotly.newPlot(                        \"bb8e9dcb-a553-4727-b7fc-f79e70ae250a\",                        [{\"fill\": \"toself\", \"line\": {\"color\": \"lime\"}, \"name\": \"GME\", \"r\": [16.776638029978194, 2.8499999046325684, 2.569999933242798, 483.0], \"theta\": [\"Close\", \"Open\", \"Low\", \"High\"], \"type\": \"scatterpolar\"}, {\"fill\": \"toself\", \"line\": {\"color\": \"red\"}, \"name\": \"TSLA\", \"r\": [392.01752514674746, 74.94000244140625, 70.10199737548828, 900.4000244140625], \"theta\": [\"Close\", \"Open\", \"Low\", \"High\"], \"type\": \"scatterpolar\"}],                        {\"polar\": {\"radialaxis\": {\"visible\": true}}, \"template\": {\"data\": {\"bar\": [{\"error_x\": {\"color\": \"#f2f5fa\"}, \"error_y\": {\"color\": \"#f2f5fa\"}, \"marker\": {\"line\": {\"color\": \"rgb(17,17,17)\", \"width\": 0.5}}, \"type\": \"bar\"}], \"barpolar\": [{\"marker\": {\"line\": {\"color\": \"rgb(17,17,17)\", \"width\": 0.5}}, \"type\": \"barpolar\"}], \"carpet\": [{\"aaxis\": {\"endlinecolor\": \"#A2B1C6\", \"gridcolor\": \"#506784\", \"linecolor\": \"#506784\", \"minorgridcolor\": \"#506784\", \"startlinecolor\": \"#A2B1C6\"}, \"baxis\": {\"endlinecolor\": \"#A2B1C6\", \"gridcolor\": \"#506784\", \"linecolor\": \"#506784\", \"minorgridcolor\": \"#506784\", \"startlinecolor\": \"#A2B1C6\"}, \"type\": \"carpet\"}], \"choropleth\": [{\"colorbar\": {\"outlinewidth\": 0, \"ticks\": \"\"}, \"type\": \"choropleth\"}], \"contour\": [{\"colorbar\": {\"outlinewidth\": 0, \"ticks\": \"\"}, \"colorscale\": [[0.0, \"#0d0887\"], [0.1111111111111111, \"#46039f\"], [0.2222222222222222, \"#7201a8\"], [0.3333333333333333, \"#9c179e\"], [0.4444444444444444, \"#bd3786\"], [0.5555555555555556, \"#d8576b\"], [0.6666666666666666, \"#ed7953\"], [0.7777777777777778, \"#fb9f3a\"], [0.8888888888888888, \"#fdca26\"], [1.0, \"#f0f921\"]], \"type\": \"contour\"}], \"contourcarpet\": [{\"colorbar\": {\"outlinewidth\": 0, \"ticks\": \"\"}, \"type\": \"contourcarpet\"}], \"heatmap\": [{\"colorbar\": {\"outlinewidth\": 0, \"ticks\": \"\"}, \"colorscale\": [[0.0, \"#0d0887\"], [0.1111111111111111, \"#46039f\"], [0.2222222222222222, \"#7201a8\"], [0.3333333333333333, \"#9c179e\"], [0.4444444444444444, \"#bd3786\"], [0.5555555555555556, \"#d8576b\"], [0.6666666666666666, \"#ed7953\"], [0.7777777777777778, \"#fb9f3a\"], [0.8888888888888888, \"#fdca26\"], [1.0, \"#f0f921\"]], \"type\": \"heatmap\"}], \"heatmapgl\": [{\"colorbar\": {\"outlinewidth\": 0, \"ticks\": \"\"}, \"colorscale\": [[0.0, \"#0d0887\"], [0.1111111111111111, \"#46039f\"], [0.2222222222222222, \"#7201a8\"], [0.3333333333333333, \"#9c179e\"], [0.4444444444444444, \"#bd3786\"], [0.5555555555555556, \"#d8576b\"], [0.6666666666666666, \"#ed7953\"], [0.7777777777777778, \"#fb9f3a\"], [0.8888888888888888, \"#fdca26\"], [1.0, \"#f0f921\"]], \"type\": \"heatmapgl\"}], \"histogram\": [{\"marker\": {\"colorbar\": {\"outlinewidth\": 0, \"ticks\": \"\"}}, \"type\": \"histogram\"}], \"histogram2d\": [{\"colorbar\": {\"outlinewidth\": 0, \"ticks\": \"\"}, \"colorscale\": [[0.0, \"#0d0887\"], [0.1111111111111111, \"#46039f\"], [0.2222222222222222, \"#7201a8\"], [0.3333333333333333, \"#9c179e\"], [0.4444444444444444, \"#bd3786\"], [0.5555555555555556, \"#d8576b\"], [0.6666666666666666, \"#ed7953\"], [0.7777777777777778, \"#fb9f3a\"], [0.8888888888888888, \"#fdca26\"], [1.0, \"#f0f921\"]], \"type\": \"histogram2d\"}], \"histogram2dcontour\": [{\"colorbar\": {\"outlinewidth\": 0, \"ticks\": \"\"}, \"colorscale\": [[0.0, \"#0d0887\"], [0.1111111111111111, \"#46039f\"], [0.2222222222222222, \"#7201a8\"], [0.3333333333333333, \"#9c179e\"], [0.4444444444444444, \"#bd3786\"], [0.5555555555555556, \"#d8576b\"], [0.6666666666666666, \"#ed7953\"], [0.7777777777777778, \"#fb9f3a\"], [0.8888888888888888, \"#fdca26\"], [1.0, \"#f0f921\"]], \"type\": \"histogram2dcontour\"}], \"mesh3d\": [{\"colorbar\": {\"outlinewidth\": 0, \"ticks\": \"\"}, \"type\": \"mesh3d\"}], \"parcoords\": [{\"line\": {\"colorbar\": {\"outlinewidth\": 0, \"ticks\": \"\"}}, \"type\": \"parcoords\"}], \"pie\": [{\"automargin\": true, \"type\": \"pie\"}], \"scatter\": [{\"marker\": {\"line\": {\"color\": \"#283442\"}}, \"type\": \"scatter\"}], \"scatter3d\": [{\"line\": {\"colorbar\": {\"outlinewidth\": 0, \"ticks\": \"\"}}, \"marker\": {\"colorbar\": {\"outlinewidth\": 0, \"ticks\": \"\"}}, \"type\": \"scatter3d\"}], \"scattercarpet\": [{\"marker\": {\"colorbar\": {\"outlinewidth\": 0, \"ticks\": \"\"}}, \"type\": \"scattercarpet\"}], \"scattergeo\": [{\"marker\": {\"colorbar\": {\"outlinewidth\": 0, \"ticks\": \"\"}}, \"type\": \"scattergeo\"}], \"scattergl\": [{\"marker\": {\"line\": {\"color\": \"#283442\"}}, \"type\": \"scattergl\"}], \"scattermapbox\": [{\"marker\": {\"colorbar\": {\"outlinewidth\": 0, \"ticks\": \"\"}}, \"type\": \"scattermapbox\"}], \"scatterpolar\": [{\"marker\": {\"colorbar\": {\"outlinewidth\": 0, \"ticks\": \"\"}}, \"type\": \"scatterpolar\"}], \"scatterpolargl\": [{\"marker\": {\"colorbar\": {\"outlinewidth\": 0, \"ticks\": \"\"}}, \"type\": \"scatterpolargl\"}], \"scatterternary\": [{\"marker\": {\"colorbar\": {\"outlinewidth\": 0, \"ticks\": \"\"}}, \"type\": \"scatterternary\"}], \"surface\": [{\"colorbar\": {\"outlinewidth\": 0, \"ticks\": \"\"}, \"colorscale\": [[0.0, \"#0d0887\"], [0.1111111111111111, \"#46039f\"], [0.2222222222222222, \"#7201a8\"], [0.3333333333333333, \"#9c179e\"], [0.4444444444444444, \"#bd3786\"], [0.5555555555555556, \"#d8576b\"], [0.6666666666666666, \"#ed7953\"], [0.7777777777777778, \"#fb9f3a\"], [0.8888888888888888, \"#fdca26\"], [1.0, \"#f0f921\"]], \"type\": \"surface\"}], \"table\": [{\"cells\": {\"fill\": {\"color\": \"#506784\"}, \"line\": {\"color\": \"rgb(17,17,17)\"}}, \"header\": {\"fill\": {\"color\": \"#2a3f5f\"}, \"line\": {\"color\": \"rgb(17,17,17)\"}}, \"type\": \"table\"}]}, \"layout\": {\"annotationdefaults\": {\"arrowcolor\": \"#f2f5fa\", \"arrowhead\": 0, \"arrowwidth\": 1}, \"autotypenumbers\": \"strict\", \"coloraxis\": {\"colorbar\": {\"outlinewidth\": 0, \"ticks\": \"\"}}, \"colorscale\": {\"diverging\": [[0, \"#8e0152\"], [0.1, \"#c51b7d\"], [0.2, \"#de77ae\"], [0.3, \"#f1b6da\"], [0.4, \"#fde0ef\"], [0.5, \"#f7f7f7\"], [0.6, \"#e6f5d0\"], [0.7, \"#b8e186\"], [0.8, \"#7fbc41\"], [0.9, \"#4d9221\"], [1, \"#276419\"]], \"sequential\": [[0.0, \"#0d0887\"], [0.1111111111111111, \"#46039f\"], [0.2222222222222222, \"#7201a8\"], [0.3333333333333333, \"#9c179e\"], [0.4444444444444444, \"#bd3786\"], [0.5555555555555556, \"#d8576b\"], [0.6666666666666666, \"#ed7953\"], [0.7777777777777778, \"#fb9f3a\"], [0.8888888888888888, \"#fdca26\"], [1.0, \"#f0f921\"]], \"sequentialminus\": [[0.0, \"#0d0887\"], [0.1111111111111111, \"#46039f\"], [0.2222222222222222, \"#7201a8\"], [0.3333333333333333, \"#9c179e\"], [0.4444444444444444, \"#bd3786\"], [0.5555555555555556, \"#d8576b\"], [0.6666666666666666, \"#ed7953\"], [0.7777777777777778, \"#fb9f3a\"], [0.8888888888888888, \"#fdca26\"], [1.0, \"#f0f921\"]]}, \"colorway\": [\"#636efa\", \"#EF553B\", \"#00cc96\", \"#ab63fa\", \"#FFA15A\", \"#19d3f3\", \"#FF6692\", \"#B6E880\", \"#FF97FF\", \"#FECB52\"], \"font\": {\"color\": \"#f2f5fa\"}, \"geo\": {\"bgcolor\": \"rgb(17,17,17)\", \"lakecolor\": \"rgb(17,17,17)\", \"landcolor\": \"rgb(17,17,17)\", \"showlakes\": true, \"showland\": true, \"subunitcolor\": \"#506784\"}, \"hoverlabel\": {\"align\": \"left\"}, \"hovermode\": \"closest\", \"mapbox\": {\"style\": \"dark\"}, \"paper_bgcolor\": \"rgb(17,17,17)\", \"plot_bgcolor\": \"rgb(17,17,17)\", \"polar\": {\"angularaxis\": {\"gridcolor\": \"#506784\", \"linecolor\": \"#506784\", \"ticks\": \"\"}, \"bgcolor\": \"rgb(17,17,17)\", \"radialaxis\": {\"gridcolor\": \"#506784\", \"linecolor\": \"#506784\", \"ticks\": \"\"}}, \"scene\": {\"xaxis\": {\"backgroundcolor\": \"rgb(17,17,17)\", \"gridcolor\": \"#506784\", \"gridwidth\": 2, \"linecolor\": \"#506784\", \"showbackground\": true, \"ticks\": \"\", \"zerolinecolor\": \"#C8D4E3\"}, \"yaxis\": {\"backgroundcolor\": \"rgb(17,17,17)\", \"gridcolor\": \"#506784\", \"gridwidth\": 2, \"linecolor\": \"#506784\", \"showbackground\": true, \"ticks\": \"\", \"zerolinecolor\": \"#C8D4E3\"}, \"zaxis\": {\"backgroundcolor\": \"rgb(17,17,17)\", \"gridcolor\": \"#506784\", \"gridwidth\": 2, \"linecolor\": \"#506784\", \"showbackground\": true, \"ticks\": \"\", \"zerolinecolor\": \"#C8D4E3\"}}, \"shapedefaults\": {\"line\": {\"color\": \"#f2f5fa\"}}, \"sliderdefaults\": {\"bgcolor\": \"#C8D4E3\", \"bordercolor\": \"rgb(17,17,17)\", \"borderwidth\": 1, \"tickwidth\": 0}, \"ternary\": {\"aaxis\": {\"gridcolor\": \"#506784\", \"linecolor\": \"#506784\", \"ticks\": \"\"}, \"baxis\": {\"gridcolor\": \"#506784\", \"linecolor\": \"#506784\", \"ticks\": \"\"}, \"bgcolor\": \"rgb(17,17,17)\", \"caxis\": {\"gridcolor\": \"#506784\", \"linecolor\": \"#506784\", \"ticks\": \"\"}}, \"title\": {\"x\": 0.05}, \"updatemenudefaults\": {\"bgcolor\": \"#506784\", \"borderwidth\": 0}, \"xaxis\": {\"automargin\": true, \"gridcolor\": \"#283442\", \"linecolor\": \"#506784\", \"ticks\": \"\", \"title\": {\"standoff\": 15}, \"zerolinecolor\": \"#283442\", \"zerolinewidth\": 2}, \"yaxis\": {\"automargin\": true, \"gridcolor\": \"#283442\", \"linecolor\": \"#506784\", \"ticks\": \"\", \"title\": {\"standoff\": 15}, \"zerolinecolor\": \"#283442\", \"zerolinewidth\": 2}}}, \"title\": {\"text\": \"GameStop vs Tesla Stock Price (Radar Chart)\", \"x\": 0.5, \"xanchor\": \"center\"}},                        {\"responsive\": true}                    ).then(function(){\n",
       "                            \n",
       "var gd = document.getElementById('bb8e9dcb-a553-4727-b7fc-f79e70ae250a');\n",
       "var x = new MutationObserver(function (mutations, observer) {{\n",
       "        var display = window.getComputedStyle(gd).display;\n",
       "        if (!display || display === 'none') {{\n",
       "            console.log([gd, 'removed!']);\n",
       "            Plotly.purge(gd);\n",
       "            observer.disconnect();\n",
       "        }}\n",
       "}});\n",
       "\n",
       "// Listen for the removal of the full notebook cells\n",
       "var notebookContainer = gd.closest('#notebook-container');\n",
       "if (notebookContainer) {{\n",
       "    x.observe(notebookContainer, {childList: true});\n",
       "}}\n",
       "\n",
       "// Listen for the clearing of the current output cell\n",
       "var outputEl = gd.closest('.output');\n",
       "if (outputEl) {{\n",
       "    x.observe(outputEl, {childList: true});\n",
       "}}\n",
       "\n",
       "                        })                };                });            </script>        </div>"
      ]
     },
     "metadata": {},
     "output_type": "display_data"
    }
   ],
   "source": [
    "trace0 = go.Scatterpolar(\n",
    "      r = [gmstp['Close'].mean(),gmstp['Open'].min(), gmstp['Low'].min(),gmstp['High'].max()],\n",
    "      theta = ['Close','Open','Low','High'], line =  dict(\n",
    "            color = 'lime'), name='GME',\n",
    "      fill = 'toself')\n",
    "\n",
    "trace1 = go.Scatterpolar(\n",
    "      r = [tsla['Close'].mean(),tsla['Open'].min(), tsla['Low'].min(),tsla['High'].max()],\n",
    "      theta = ['Close','Open','Low','High'], line =  dict(\n",
    "            color = 'red'), name='TSLA',\n",
    "      fill = 'toself'\n",
    "    )\n",
    "\n",
    "fig5 = go.Figure([trace0,trace1])\n",
    "fig5.update_layout(go.Layout(\n",
    "      polar = dict(\n",
    "        radialaxis = dict(\n",
    "          visible = True)),\n",
    "            title=dict({\n",
    "        'text': \"GameStop vs Tesla Stock Price (Radar Chart)\",\n",
    "        'x':0.5,\n",
    "        'xanchor': 'center'})))\n",
    "fig5.show()"
   ]
  },
  {
   "cell_type": "code",
   "execution_count": 17,
   "metadata": {},
   "outputs": [
    {
     "data": {
      "application/vnd.plotly.v1+json": {
       "config": {
        "plotlyServerURL": "https://plot.ly"
       },
       "data": [
        {
         "line": {
          "color": "blue"
         },
         "name": "BABA",
         "type": "box",
         "y": [
          178.85000610351562,
          184.80999755859375,
          180,
          180.8800048828125,
          181.3000030517578,
          176.33999633789062,
          185.75,
          188.55999755859375,
          195.32000732421875,
          188.58999633789062,
          191.27000427246094,
          194.47999572753906,
          187.55999755859375,
          188.89999389648438,
          187.11000061035156,
          196.4499969482422,
          198,
          195.97999572753906,
          196.3699951171875,
          199.44000244140625,
          204.77999877929688,
          208.1699981689453,
          212.66000366210938,
          209.5,
          212.1300048828125,
          207.33999633789062,
          209.9600067138672,
          205.24000549316406,
          204.36000061035156,
          203.69000244140625,
          201.14999389648438,
          206.6999969482422,
          202.6699981689453,
          194.47999572753906,
          191.14999389648438,
          195.02000427246094,
          195.1699981689453,
          196.49000549316406,
          201.19000244140625,
          205.39999389648438,
          200.30999755859375,
          199.4600067138672,
          201.3000030517578,
          203.67999267578125,
          215.27999877929688,
          217.1999969482422,
          216.7899932861328,
          212.16000366210938,
          199.6999969482422,
          201.72000122070312,
          201.17999267578125,
          199.49000549316406,
          207.38999938964844,
          206.57000732421875,
          214.3300018310547,
          218.61000061035156,
          218.0399932861328,
          219.5500030517578,
          219,
          220.72000122070312,
          223.67999267578125,
          215.24000549316406,
          217.63999938964844,
          217.02999877929688,
          222.6199951171875,
          224.25,
          223.5399932861328,
          220.63999938964844,
          221.41000366210938,
          228.75,
          226.22000122070312,
          222.16000366210938,
          215.7100067138672,
          215.02000427246094,
          215.6999969482422,
          215.9499969482422,
          223.60000610351562,
          240,
          236.50999450683594,
          257.67999267578125,
          261.5799865722656,
          261.010009765625,
          251.6699981689453,
          248.5800018310547,
          249.2100067138672,
          242.5,
          247.13999938964844,
          254.80999755859375,
          257.8999938964844,
          251.6999969482422,
          251.8800048828125,
          249,
          250.86000061035156,
          249.0500030517578,
          252.4499969482422,
          252.74000549316406,
          251.02000427246094,
          257.94000244140625,
          262.20001220703125,
          264.9100036621094,
          265.67999267578125,
          252.10000610351562,
          248.1300048828125,
          248.4199981689453,
          255.19000244140625,
          253.72000122070312,
          253.97000122070312,
          256.9599914550781,
          259.20001220703125,
          260.5899963378906,
          257.9700012207031,
          265.79998779296875,
          276.0199890136719,
          286,
          291.9599914550781,
          284.1700134277344,
          289,
          287.0299987792969,
          298,
          296.07000732421875,
          282.5,
          281.3900146484375,
          270.0199890136719,
          273.1499938964844,
          267.54998779296875,
          271.6099853515625,
          274.1000061035156,
          277.9599914550781,
          278.1400146484375,
          275.7200012207031,
          272.4100036621094,
          273.82000732421875,
          275.2900085449219,
          272.95001220703125,
          269.7300109863281,
          271.0899963378906,
          276.010009765625,
          276.92999267578125,
          293.9800109863281,
          290.04998779296875,
          288.1700134277344,
          288.2699890136719,
          292.3900146484375,
          296.5,
          300.5400085449219,
          299.739990234375,
          306.3399963378906,
          308.7799987792969,
          301.0400085449219,
          299.4599914550781,
          307.30999755859375,
          305.2900085449219,
          309.80999755859375,
          307.9700012207031,
          306.2799987792969,
          309.9200134277344,
          306.8699951171875,
          317.1400146484375,
          307.94000244140625,
          312.55999755859375,
          304.69000244140625,
          310.8399963378906,
          285.57000732421875,
          295.7099914550781,
          287.75,
          299.95001220703125,
          290.5299987792969,
          266.5400085449219,
          265.6499938964844,
          264.30999755859375,
          260.8399963378906,
          258.30999755859375,
          256.79998779296875,
          255.8300018310547,
          259.8900146484375,
          270.739990234375,
          270.1099853515625,
          279.9599914550781,
          277.7200012207031,
          276.4800109863281,
          263.3599853515625,
          264.010009765625,
          261.32000732421875,
          266.9100036621094,
          267.25,
          264,
          266.0899963378906,
          263.79998779296875,
          264.8699951171875,
          264.5400085449219,
          256.0299987792969,
          255.11000061035156,
          261.8900146484375,
          264.42999267578125,
          260,
          260.42999267578125,
          255.8300018310547,
          256.17999267578125,
          222,
          222.36000061035156,
          236.25999450683594,
          238.38999938964844,
          232.72999572753906,
          227.85000610351562,
          240.39999389648438,
          227.61000061035156,
          226.89999389648438,
          236.19000244140625,
          227.3699951171875,
          225.60000610351562,
          235.3000030517578,
          242.97999572753906,
          243.4600067138672,
          251.64999389648438,
          265.489990234375,
          260,
          258.6199951171875,
          261.3800048828125,
          265.9200134277344,
          260.25,
          260.760009765625,
          253.8300018310547,
          264.69000244140625,
          254.5,
          263.42999267578125,
          266.9599914550781,
          265.6700134277344,
          262.5899963378906,
          266.489990234375,
          267.7900085449219,
          268.92999267578125,
          267.8500061035156
         ]
        },
        {
         "line": {
          "color": "red"
         },
         "name": "FB",
         "type": "box",
         "y": [
          146.00999450683594,
          149.4199981689453,
          146.9600067138672,
          153.1300048828125,
          149.72999572753906,
          148.10000610351562,
          160.97999572753906,
          156.2100067138672,
          163.33999633789062,
          156.7899932861328,
          165.9499969482422,
          166.8000030517578,
          159.60000610351562,
          158.19000244140625,
          154.17999267578125,
          165.5500030517578,
          168.8300018310547,
          174.27999877929688,
          175.19000244140625,
          174.7899932861328,
          178.1699981689453,
          176.97000122070312,
          176.25,
          179.24000549316406,
          178.24000549316406,
          170.8000030517578,
          182.27999877929688,
          185.1300048828125,
          190.07000732421875,
          187.5,
          182.91000366210938,
          194.19000244140625,
          204.7100067138672,
          202.27000427246094,
          205.25999450683594,
          207.07000732421875,
          208.47000122070312,
          211.25999450683594,
          212.35000610351562,
          213.17999267578125,
          210.10000610351562,
          205.10000610351562,
          206.80999755859375,
          210.8800048828125,
          213.19000244140625,
          216.8800048828125,
          229.97000122070312,
          231.38999938964844,
          234.91000366210938,
          232.1999969482422,
          229.13999938964844,
          225.4600067138672,
          225.08999633789062,
          231.91000366210938,
          232.72000122070312,
          230.16000366210938,
          226.2899932861328,
          230.77000427246094,
          231.39999389648438,
          238.6699981689453,
          236.72999572753906,
          224.42999267578125,
          228.5800018310547,
          232.5,
          235.64999389648438,
          235.52999877929688,
          235.94000244140625,
          238.7899932861328,
          239.22000122070312,
          242.24000549316406,
          234.02000427246094,
          235.67999267578125,
          216.0800018310547,
          220.63999938964844,
          227.07000732421875,
          237.5500030517578,
          233.4199981689453,
          240.27999877929688,
          240.86000061035156,
          243.5800018310547,
          244.5,
          245.07000732421875,
          239,
          239.72999572753906,
          240.27999877929688,
          240.92999267578125,
          242.02999877929688,
          245.4199981689453,
          241.75,
          239.8699951171875,
          232.60000610351562,
          230.7100067138672,
          233.5,
          230.1199951171875,
          233.2899932861328,
          234.5,
          253.6699981689453,
          251.9600067138672,
          249.8300018310547,
          249.1199951171875,
          265.2799987792969,
          268.44000244140625,
          263,
          256.1300048828125,
          259.8900146484375,
          261.29998779296875,
          261.239990234375,
          261.1600036621094,
          262.3399963378906,
          262.5899963378906,
          269.010009765625,
          267.010009765625,
          271.3900146484375,
          280.82000732421875,
          303.9100036621094,
          293.2200012207031,
          293.6600036621094,
          293.20001220703125,
          295.44000244140625,
          302.5,
          291.1199951171875,
          282.7300109863281,
          271.1600036621094,
          273.7200012207031,
          268.0899963378906,
          266.6099853515625,
          266.1499938964844,
          272.4200134277344,
          263.5199890136719,
          254.82000732421875,
          252.52999877929688,
          248.14999389648438,
          254.75,
          249.02000427246094,
          249.52999877929688,
          254.82000732421875,
          256.82000732421875,
          261.7900085449219,
          261.8999938964844,
          266.6300048828125,
          259.94000244140625,
          264.6499938964844,
          258.6600036621094,
          258.1199951171875,
          263.760009765625,
          264.45001220703125,
          275.75,
          276.1400146484375,
          271.82000732421875,
          266.7200012207031,
          265.92999267578125,
          261.3999938964844,
          267.55999755859375,
          278.7300109863281,
          278.1199951171875,
          284.7900085449219,
          277.1099853515625,
          283.2900085449219,
          267.6700134277344,
          280.8299865722656,
          263.1099853515625,
          261.3599853515625,
          265.29998779296875,
          287.3800048828125,
          294.67999267578125,
          293.4100036621094,
          278.7699890136719,
          272.42999267578125,
          276.4800109863281,
          275.0799865722656,
          276.95001220703125,
          278.9599914550781,
          275,
          271.9700012207031,
          272.94000244140625,
          269.70001220703125,
          268.42999267578125,
          276.9200134277344,
          275.5899963378906,
          277.80999755859375,
          276.9700012207031,
          286.54998779296875,
          287.5199890136719,
          281.8500061035156,
          279.70001220703125,
          285.5799865722656,
          283.3999938964844,
          277.9200134277344,
          277.1199951171875,
          273.54998779296875,
          274.19000244140625,
          275.54998779296875,
          275.6700134277344,
          274.4800109863281,
          276.3999938964844,
          272.7900085449219,
          267.0899963378906,
          268.1099853515625,
          267.3999938964844,
          277,
          276.7799987792969,
          271.8699951171875,
          273.1600036621094,
          268.94000244140625,
          270.9700012207031,
          263.30999755859375,
          268.739990234375,
          267.57000732421875,
          256.8399963378906,
          251.08999633789062,
          251.63999938964844,
          245.63999938964844,
          251.36000061035156,
          261.1000061035156,
          267.4800109863281,
          272.8699951171875,
          274.5,
          278.010009765625,
          282.04998779296875,
          272.1400146484375,
          265,
          258.3299865722656,
          262.010009765625,
          267.0799865722656,
          266.6499938964844,
          266.489990234375,
          268.1000061035156,
          266.5799865722656,
          269.45001220703125,
          271.8699951171875,
          270.3900146484375,
          270.5
         ]
        },
        {
         "line": {
          "color": "green"
         },
         "name": "AAPL",
         "type": "box",
         "y": [
          60.5525016784668,
          63.21500015258789,
          61.66749954223633,
          61.19499969482422,
          57.310001373291016,
          56.092498779296875,
          61.720001220703125,
          61.380001068115234,
          64.61000061035156,
          61.935001373291016,
          63.70249938964844,
          63.5724983215332,
          60.227500915527344,
          61.23249816894531,
          60.352500915527344,
          65.61750030517578,
          64.85749816894531,
          66.51750183105469,
          66.99749755859375,
          68.3125,
          71.76249694824219,
          71.10749816894531,
          71.67250061035156,
          70.69999694824219,
          69.23249816894531,
          67.09249877929688,
          69.0250015258789,
          68.75749969482422,
          70.74250030517578,
          70.7925033569336,
          69.6449966430664,
          71.93250274658203,
          73.44999694824219,
          72.26750183105469,
          73.29000091552734,
          74.38999938964844,
          75.15750122070312,
          75.93499755859375,
          77.53250122070312,
          78.75250244140625,
          77.85250091552734,
          76.9124984741211,
          77.38500213623047,
          76.92749786376953,
          78.73999786376953,
          78.28500366210938,
          79.80750274658203,
          79.2125015258789,
          79.72250366210938,
          79.18250274658203,
          79.52749633789062,
          79.5625,
          79.48500061035156,
          80.4625015258789,
          80.83499908447266,
          81.27999877929688,
          80.58000183105469,
          82.875,
          83.36499786376953,
          85.99749755859375,
          88.20999908447266,
          83.9749984741211,
          84.69999694824219,
          85.74749755859375,
          88.0199966430664,
          87.89749908447266,
          87.93250274658203,
          87.43000030517578,
          89.71749877929688,
          91.63249969482422,
          90.01499938964844,
          91.20999908447266,
          88.40750122070312,
          90.44499969482422,
          91.19999694824219,
          91.02749633789062,
          91.02749633789062,
          93.4625015258789,
          93.17250061035156,
          95.34249877929688,
          95.75250244140625,
          95.91999816894531,
          95.47750091552734,
          97.05750274658203,
          97.7249984741211,
          96.52249908447266,
          96.32749938964844,
          98.35749816894531,
          97,
          97.27249908447266,
          92.84500122070312,
          92.61499786376953,
          94.80999755859375,
          93.25250244140625,
          95.04000091552734,
          96.19000244140625,
          106.26000213623047,
          108.9375,
          109.66500091552734,
          110.0625,
          113.90249633789062,
          111.11250305175781,
          112.72750091552734,
          109.375,
          113.01000213623047,
          115.01000213623047,
          114.90750122070312,
          114.60749816894531,
          115.5625,
          115.7074966430664,
          118.2750015258789,
          124.37000274658203,
          125.85749816894531,
          124.82499694824219,
          126.52249908447266,
          125.01000213623047,
          124.80750274658203,
          129.0399932861328,
          134.17999267578125,
          131.39999389648438,
          120.87999725341797,
          120.95999908447266,
          112.81999969482422,
          117.31999969482422,
          113.48999786376953,
          112,
          115.36000061035156,
          115.54000091552734,
          112.12999725341797,
          110.33999633789062,
          106.83999633789062,
          110.08000183105469,
          111.80999755859375,
          107.12000274658203,
          108.22000122070312,
          112.27999877929688,
          114.95999908447266,
          114.08999633789062,
          115.80999755859375,
          116.79000091552734,
          113.0199966430664,
          116.5,
          113.16000366210938,
          115.08000183105469,
          114.97000122070312,
          116.97000122070312,
          124.4000015258789,
          121.0999984741211,
          121.19000244140625,
          120.70999908447266,
          119.0199966430664,
          115.9800033569336,
          117.51000213623047,
          116.87000274658203,
          115.75,
          115.04000091552734,
          115.05000305175781,
          116.5999984741211,
          111.19999694824219,
          115.31999969482422,
          108.86000061035156,
          108.7699966430664,
          110.44000244140625,
          114.94999694824219,
          119.02999877929688,
          118.69000244140625,
          116.31999969482422,
          115.97000122070312,
          119.48999786376953,
          119.20999908447266,
          119.26000213623047,
          120.30000305175781,
          119.38999938964844,
          118.02999877929688,
          118.63999938964844,
          117.33999633789062,
          113.8499984741211,
          115.16999816894531,
          116.02999877929688,
          116.58999633789062,
          119.05000305175781,
          122.72000122070312,
          123.08000183105469,
          122.94000244140625,
          122.25,
          123.75,
          124.37999725341797,
          121.77999877929688,
          123.23999786376953,
          122.41000366210938,
          121.77999877929688,
          127.87999725341797,
          127.80999755859375,
          128.6999969482422,
          126.66000366210938,
          128.22999572753906,
          131.8800048828125,
          130.9600067138672,
          131.97000122070312,
          136.69000244140625,
          134.8699951171875,
          133.72000122070312,
          132.69000244140625,
          129.41000366210938,
          131.00999450683594,
          126.5999984741211,
          130.9199981689453,
          132.0500030517578,
          128.97999572753906,
          128.8000030517578,
          130.88999938964844,
          128.91000366210938,
          127.13999938964844,
          127.83000183105469,
          132.02999877929688,
          136.8699951171875,
          139.07000732421875,
          142.9199981689453,
          143.16000366210938,
          142.05999755859375,
          137.08999633789062,
          131.9600067138672,
          134.13999938964844,
          134.99000549316406,
          133.94000244140625,
          137.38999938964844,
          136.75999450683594,
          136.91000366210938,
          136.00999450683594,
          135.38999938964844,
          135.1300048828125,
          135.3699951171875
         ]
        },
        {
         "line": {
          "color": "purple"
         },
         "name": "MSFT",
         "type": "box",
         "y": [
          135.4199981689453,
          146.57000732421875,
          140.39999389648438,
          142.7100067138672,
          137.35000610351562,
          135.97999572753906,
          148.33999633789062,
          146.9199981689453,
          156.11000061035156,
          149.6999969482422,
          160.22999572753906,
          157.7100067138672,
          152.11000061035156,
          155.25999450683594,
          153.8300018310547,
          165.27000427246094,
          163.49000549316406,
          165.1300048828125,
          165.13999938964844,
          165.50999450683594,
          173.6999969482422,
          171.8800048828125,
          177.0399932861328,
          178.60000610351562,
          175.05999755859375,
          167.82000732421875,
          173.52000427246094,
          171.4199981689453,
          174.5500030517578,
          174.0500030517578,
          169.80999755859375,
          177.42999267578125,
          179.2100067138672,
          174.57000732421875,
          178.83999633789062,
          180.75999450683594,
          182.5399932861328,
          183.60000610351562,
          184.67999267578125,
          186.74000549316406,
          182.50999450683594,
          179.75,
          180.52999877929688,
          183.16000366210938,
          184.91000366210938,
          183.6300048828125,
          185.66000366210938,
          183.42999267578125,
          183.50999450683594,
          181.57000732421875,
          181.80999755859375,
          181.39999389648438,
          183.25,
          182.8300018310547,
          184.91000366210938,
          185.36000061035156,
          182.9199981689453,
          187.1999969482422,
          188.36000061035156,
          189.8000030517578,
          196.83999633789062,
          186.27000427246094,
          187.74000549316406,
          188.94000244140625,
          193.57000732421875,
          194.24000549316406,
          196.32000732421875,
          195.14999389648438,
          200.57000732421875,
          201.91000366210938,
          197.83999633789062,
          200.33999633789062,
          196.3300018310547,
          198.44000244140625,
          203.50999450683594,
          204.6999969482422,
          206.25999450683594,
          210.6999969482422,
          208.25,
          212.8300018310547,
          214.32000732421875,
          213.6699981689453,
          207.07000732421875,
          208.35000610351562,
          208.0399932861328,
          203.9199981689453,
          202.8800048828125,
          211.60000610351562,
          208.75,
          211.75,
          202.5399932861328,
          201.3000030517578,
          203.85000610351562,
          202.02000427246094,
          204.05999755859375,
          203.89999389648438,
          205.00999450683594,
          216.5399932861328,
          213.2899932861328,
          212.94000244140625,
          216.35000610351562,
          212.47999572753906,
          208.25,
          203.3800048828125,
          209.19000244140625,
          208.6999969482422,
          208.89999389648438,
          210.27999877929688,
          211.49000549316406,
          209.6999969482422,
          214.5800018310547,
          213.02000427246094,
          213.69000244140625,
          216.47000122070312,
          221.14999389648438,
          226.5800018310547,
          228.91000366210938,
          225.52999877929688,
          227.27000427246094,
          231.64999389648438,
          217.3000030517578,
          214.25,
          202.66000366210938,
          211.2899932861328,
          205.3699951171875,
          204.02999877929688,
          205.41000366210938,
          208.77999877929688,
          205.0500030517578,
          202.91000366210938,
          200.38999938964844,
          202.5399932861328,
          207.4199981689453,
          200.58999633789062,
          203.19000244140625,
          207.82000732421875,
          209.44000244140625,
          207.25999450683594,
          210.3300018310547,
          212.4600067138672,
          206.19000244140625,
          210.3800048828125,
          205.91000366210938,
          209.8300018310547,
          210.5800018310547,
          215.80999755859375,
          221.39999389648438,
          222.86000061035156,
          220.86000061035156,
          219.66000366210938,
          219.66000366210938,
          214.22000122070312,
          214.64999389648438,
          214.8000030517578,
          214.88999938964844,
          216.22999572753906,
          210.0800018310547,
          213.25,
          202.67999267578125,
          204.72000122070312,
          202.47000122070312,
          202.3300018310547,
          206.42999267578125,
          216.38999938964844,
          223.2899932861328,
          223.72000122070312,
          218.38999938964844,
          211.00999450683594,
          216.5500030517578,
          215.44000244140625,
          216.50999450683594,
          217.22999572753906,
          214.4600067138672,
          211.0800018310547,
          212.4199981689453,
          210.38999938964844,
          210.11000061035156,
          213.86000061035156,
          213.8699951171875,
          215.22999572753906,
          214.07000732421875,
          216.2100067138672,
          215.3699951171875,
          214.24000549316406,
          214.36000061035156,
          214.2899932861328,
          216.00999450683594,
          211.8000030517578,
          210.52000427246094,
          213.25999450683594,
          214.1999969482422,
          214.1300048828125,
          219.27999877929688,
          219.4199981689453,
          218.58999633789062,
          222.58999633789062,
          223.94000244140625,
          221.02000427246094,
          222.75,
          224.9600067138672,
          224.14999389648438,
          221.67999267578125,
          222.4199981689453,
          217.69000244140625,
          217.89999389648438,
          212.25,
          218.2899932861328,
          219.6199951171875,
          217.49000549316406,
          214.92999267578125,
          216.33999633789062,
          213.02000427246094,
          212.64999389648438,
          216.44000244140625,
          224.33999633789062,
          224.97000122070312,
          225.9499969482422,
          229.52999877929688,
          232.3300018310547,
          232.89999389648438,
          238.92999267578125,
          231.9600067138672,
          239.64999389648438,
          239.50999450683594,
          243,
          242.00999450683594,
          242.1999969482422,
          242.47000122070312,
          243.77000427246094,
          242.82000732421875,
          244.49000549316406,
          244.99000549316406
         ]
        }
       ],
       "layout": {
        "template": {
         "data": {
          "bar": [
           {
            "error_x": {
             "color": "#f2f5fa"
            },
            "error_y": {
             "color": "#f2f5fa"
            },
            "marker": {
             "line": {
              "color": "rgb(17,17,17)",
              "width": 0.5
             }
            },
            "type": "bar"
           }
          ],
          "barpolar": [
           {
            "marker": {
             "line": {
              "color": "rgb(17,17,17)",
              "width": 0.5
             }
            },
            "type": "barpolar"
           }
          ],
          "carpet": [
           {
            "aaxis": {
             "endlinecolor": "#A2B1C6",
             "gridcolor": "#506784",
             "linecolor": "#506784",
             "minorgridcolor": "#506784",
             "startlinecolor": "#A2B1C6"
            },
            "baxis": {
             "endlinecolor": "#A2B1C6",
             "gridcolor": "#506784",
             "linecolor": "#506784",
             "minorgridcolor": "#506784",
             "startlinecolor": "#A2B1C6"
            },
            "type": "carpet"
           }
          ],
          "choropleth": [
           {
            "colorbar": {
             "outlinewidth": 0,
             "ticks": ""
            },
            "type": "choropleth"
           }
          ],
          "contour": [
           {
            "colorbar": {
             "outlinewidth": 0,
             "ticks": ""
            },
            "colorscale": [
             [
              0,
              "#0d0887"
             ],
             [
              0.1111111111111111,
              "#46039f"
             ],
             [
              0.2222222222222222,
              "#7201a8"
             ],
             [
              0.3333333333333333,
              "#9c179e"
             ],
             [
              0.4444444444444444,
              "#bd3786"
             ],
             [
              0.5555555555555556,
              "#d8576b"
             ],
             [
              0.6666666666666666,
              "#ed7953"
             ],
             [
              0.7777777777777778,
              "#fb9f3a"
             ],
             [
              0.8888888888888888,
              "#fdca26"
             ],
             [
              1,
              "#f0f921"
             ]
            ],
            "type": "contour"
           }
          ],
          "contourcarpet": [
           {
            "colorbar": {
             "outlinewidth": 0,
             "ticks": ""
            },
            "type": "contourcarpet"
           }
          ],
          "heatmap": [
           {
            "colorbar": {
             "outlinewidth": 0,
             "ticks": ""
            },
            "colorscale": [
             [
              0,
              "#0d0887"
             ],
             [
              0.1111111111111111,
              "#46039f"
             ],
             [
              0.2222222222222222,
              "#7201a8"
             ],
             [
              0.3333333333333333,
              "#9c179e"
             ],
             [
              0.4444444444444444,
              "#bd3786"
             ],
             [
              0.5555555555555556,
              "#d8576b"
             ],
             [
              0.6666666666666666,
              "#ed7953"
             ],
             [
              0.7777777777777778,
              "#fb9f3a"
             ],
             [
              0.8888888888888888,
              "#fdca26"
             ],
             [
              1,
              "#f0f921"
             ]
            ],
            "type": "heatmap"
           }
          ],
          "heatmapgl": [
           {
            "colorbar": {
             "outlinewidth": 0,
             "ticks": ""
            },
            "colorscale": [
             [
              0,
              "#0d0887"
             ],
             [
              0.1111111111111111,
              "#46039f"
             ],
             [
              0.2222222222222222,
              "#7201a8"
             ],
             [
              0.3333333333333333,
              "#9c179e"
             ],
             [
              0.4444444444444444,
              "#bd3786"
             ],
             [
              0.5555555555555556,
              "#d8576b"
             ],
             [
              0.6666666666666666,
              "#ed7953"
             ],
             [
              0.7777777777777778,
              "#fb9f3a"
             ],
             [
              0.8888888888888888,
              "#fdca26"
             ],
             [
              1,
              "#f0f921"
             ]
            ],
            "type": "heatmapgl"
           }
          ],
          "histogram": [
           {
            "marker": {
             "colorbar": {
              "outlinewidth": 0,
              "ticks": ""
             }
            },
            "type": "histogram"
           }
          ],
          "histogram2d": [
           {
            "colorbar": {
             "outlinewidth": 0,
             "ticks": ""
            },
            "colorscale": [
             [
              0,
              "#0d0887"
             ],
             [
              0.1111111111111111,
              "#46039f"
             ],
             [
              0.2222222222222222,
              "#7201a8"
             ],
             [
              0.3333333333333333,
              "#9c179e"
             ],
             [
              0.4444444444444444,
              "#bd3786"
             ],
             [
              0.5555555555555556,
              "#d8576b"
             ],
             [
              0.6666666666666666,
              "#ed7953"
             ],
             [
              0.7777777777777778,
              "#fb9f3a"
             ],
             [
              0.8888888888888888,
              "#fdca26"
             ],
             [
              1,
              "#f0f921"
             ]
            ],
            "type": "histogram2d"
           }
          ],
          "histogram2dcontour": [
           {
            "colorbar": {
             "outlinewidth": 0,
             "ticks": ""
            },
            "colorscale": [
             [
              0,
              "#0d0887"
             ],
             [
              0.1111111111111111,
              "#46039f"
             ],
             [
              0.2222222222222222,
              "#7201a8"
             ],
             [
              0.3333333333333333,
              "#9c179e"
             ],
             [
              0.4444444444444444,
              "#bd3786"
             ],
             [
              0.5555555555555556,
              "#d8576b"
             ],
             [
              0.6666666666666666,
              "#ed7953"
             ],
             [
              0.7777777777777778,
              "#fb9f3a"
             ],
             [
              0.8888888888888888,
              "#fdca26"
             ],
             [
              1,
              "#f0f921"
             ]
            ],
            "type": "histogram2dcontour"
           }
          ],
          "mesh3d": [
           {
            "colorbar": {
             "outlinewidth": 0,
             "ticks": ""
            },
            "type": "mesh3d"
           }
          ],
          "parcoords": [
           {
            "line": {
             "colorbar": {
              "outlinewidth": 0,
              "ticks": ""
             }
            },
            "type": "parcoords"
           }
          ],
          "pie": [
           {
            "automargin": true,
            "type": "pie"
           }
          ],
          "scatter": [
           {
            "marker": {
             "line": {
              "color": "#283442"
             }
            },
            "type": "scatter"
           }
          ],
          "scatter3d": [
           {
            "line": {
             "colorbar": {
              "outlinewidth": 0,
              "ticks": ""
             }
            },
            "marker": {
             "colorbar": {
              "outlinewidth": 0,
              "ticks": ""
             }
            },
            "type": "scatter3d"
           }
          ],
          "scattercarpet": [
           {
            "marker": {
             "colorbar": {
              "outlinewidth": 0,
              "ticks": ""
             }
            },
            "type": "scattercarpet"
           }
          ],
          "scattergeo": [
           {
            "marker": {
             "colorbar": {
              "outlinewidth": 0,
              "ticks": ""
             }
            },
            "type": "scattergeo"
           }
          ],
          "scattergl": [
           {
            "marker": {
             "line": {
              "color": "#283442"
             }
            },
            "type": "scattergl"
           }
          ],
          "scattermapbox": [
           {
            "marker": {
             "colorbar": {
              "outlinewidth": 0,
              "ticks": ""
             }
            },
            "type": "scattermapbox"
           }
          ],
          "scatterpolar": [
           {
            "marker": {
             "colorbar": {
              "outlinewidth": 0,
              "ticks": ""
             }
            },
            "type": "scatterpolar"
           }
          ],
          "scatterpolargl": [
           {
            "marker": {
             "colorbar": {
              "outlinewidth": 0,
              "ticks": ""
             }
            },
            "type": "scatterpolargl"
           }
          ],
          "scatterternary": [
           {
            "marker": {
             "colorbar": {
              "outlinewidth": 0,
              "ticks": ""
             }
            },
            "type": "scatterternary"
           }
          ],
          "surface": [
           {
            "colorbar": {
             "outlinewidth": 0,
             "ticks": ""
            },
            "colorscale": [
             [
              0,
              "#0d0887"
             ],
             [
              0.1111111111111111,
              "#46039f"
             ],
             [
              0.2222222222222222,
              "#7201a8"
             ],
             [
              0.3333333333333333,
              "#9c179e"
             ],
             [
              0.4444444444444444,
              "#bd3786"
             ],
             [
              0.5555555555555556,
              "#d8576b"
             ],
             [
              0.6666666666666666,
              "#ed7953"
             ],
             [
              0.7777777777777778,
              "#fb9f3a"
             ],
             [
              0.8888888888888888,
              "#fdca26"
             ],
             [
              1,
              "#f0f921"
             ]
            ],
            "type": "surface"
           }
          ],
          "table": [
           {
            "cells": {
             "fill": {
              "color": "#506784"
             },
             "line": {
              "color": "rgb(17,17,17)"
             }
            },
            "header": {
             "fill": {
              "color": "#2a3f5f"
             },
             "line": {
              "color": "rgb(17,17,17)"
             }
            },
            "type": "table"
           }
          ]
         },
         "layout": {
          "annotationdefaults": {
           "arrowcolor": "#f2f5fa",
           "arrowhead": 0,
           "arrowwidth": 1
          },
          "autotypenumbers": "strict",
          "coloraxis": {
           "colorbar": {
            "outlinewidth": 0,
            "ticks": ""
           }
          },
          "colorscale": {
           "diverging": [
            [
             0,
             "#8e0152"
            ],
            [
             0.1,
             "#c51b7d"
            ],
            [
             0.2,
             "#de77ae"
            ],
            [
             0.3,
             "#f1b6da"
            ],
            [
             0.4,
             "#fde0ef"
            ],
            [
             0.5,
             "#f7f7f7"
            ],
            [
             0.6,
             "#e6f5d0"
            ],
            [
             0.7,
             "#b8e186"
            ],
            [
             0.8,
             "#7fbc41"
            ],
            [
             0.9,
             "#4d9221"
            ],
            [
             1,
             "#276419"
            ]
           ],
           "sequential": [
            [
             0,
             "#0d0887"
            ],
            [
             0.1111111111111111,
             "#46039f"
            ],
            [
             0.2222222222222222,
             "#7201a8"
            ],
            [
             0.3333333333333333,
             "#9c179e"
            ],
            [
             0.4444444444444444,
             "#bd3786"
            ],
            [
             0.5555555555555556,
             "#d8576b"
            ],
            [
             0.6666666666666666,
             "#ed7953"
            ],
            [
             0.7777777777777778,
             "#fb9f3a"
            ],
            [
             0.8888888888888888,
             "#fdca26"
            ],
            [
             1,
             "#f0f921"
            ]
           ],
           "sequentialminus": [
            [
             0,
             "#0d0887"
            ],
            [
             0.1111111111111111,
             "#46039f"
            ],
            [
             0.2222222222222222,
             "#7201a8"
            ],
            [
             0.3333333333333333,
             "#9c179e"
            ],
            [
             0.4444444444444444,
             "#bd3786"
            ],
            [
             0.5555555555555556,
             "#d8576b"
            ],
            [
             0.6666666666666666,
             "#ed7953"
            ],
            [
             0.7777777777777778,
             "#fb9f3a"
            ],
            [
             0.8888888888888888,
             "#fdca26"
            ],
            [
             1,
             "#f0f921"
            ]
           ]
          },
          "colorway": [
           "#636efa",
           "#EF553B",
           "#00cc96",
           "#ab63fa",
           "#FFA15A",
           "#19d3f3",
           "#FF6692",
           "#B6E880",
           "#FF97FF",
           "#FECB52"
          ],
          "font": {
           "color": "#f2f5fa"
          },
          "geo": {
           "bgcolor": "rgb(17,17,17)",
           "lakecolor": "rgb(17,17,17)",
           "landcolor": "rgb(17,17,17)",
           "showlakes": true,
           "showland": true,
           "subunitcolor": "#506784"
          },
          "hoverlabel": {
           "align": "left"
          },
          "hovermode": "closest",
          "mapbox": {
           "style": "dark"
          },
          "paper_bgcolor": "rgb(17,17,17)",
          "plot_bgcolor": "rgb(17,17,17)",
          "polar": {
           "angularaxis": {
            "gridcolor": "#506784",
            "linecolor": "#506784",
            "ticks": ""
           },
           "bgcolor": "rgb(17,17,17)",
           "radialaxis": {
            "gridcolor": "#506784",
            "linecolor": "#506784",
            "ticks": ""
           }
          },
          "scene": {
           "xaxis": {
            "backgroundcolor": "rgb(17,17,17)",
            "gridcolor": "#506784",
            "gridwidth": 2,
            "linecolor": "#506784",
            "showbackground": true,
            "ticks": "",
            "zerolinecolor": "#C8D4E3"
           },
           "yaxis": {
            "backgroundcolor": "rgb(17,17,17)",
            "gridcolor": "#506784",
            "gridwidth": 2,
            "linecolor": "#506784",
            "showbackground": true,
            "ticks": "",
            "zerolinecolor": "#C8D4E3"
           },
           "zaxis": {
            "backgroundcolor": "rgb(17,17,17)",
            "gridcolor": "#506784",
            "gridwidth": 2,
            "linecolor": "#506784",
            "showbackground": true,
            "ticks": "",
            "zerolinecolor": "#C8D4E3"
           }
          },
          "shapedefaults": {
           "line": {
            "color": "#f2f5fa"
           }
          },
          "sliderdefaults": {
           "bgcolor": "#C8D4E3",
           "bordercolor": "rgb(17,17,17)",
           "borderwidth": 1,
           "tickwidth": 0
          },
          "ternary": {
           "aaxis": {
            "gridcolor": "#506784",
            "linecolor": "#506784",
            "ticks": ""
           },
           "baxis": {
            "gridcolor": "#506784",
            "linecolor": "#506784",
            "ticks": ""
           },
           "bgcolor": "rgb(17,17,17)",
           "caxis": {
            "gridcolor": "#506784",
            "linecolor": "#506784",
            "ticks": ""
           }
          },
          "title": {
           "x": 0.05
          },
          "updatemenudefaults": {
           "bgcolor": "#506784",
           "borderwidth": 0
          },
          "xaxis": {
           "automargin": true,
           "gridcolor": "#283442",
           "linecolor": "#506784",
           "ticks": "",
           "title": {
            "standoff": 15
           },
           "zerolinecolor": "#283442",
           "zerolinewidth": 2
          },
          "yaxis": {
           "automargin": true,
           "gridcolor": "#283442",
           "linecolor": "#506784",
           "ticks": "",
           "title": {
            "standoff": 15
           },
           "zerolinecolor": "#283442",
           "zerolinewidth": 2
          }
         }
        },
        "title": {
         "text": "Stock Prices",
         "x": 0.5,
         "xanchor": "center"
        }
       }
      },
      "text/html": [
       "<div>                            <div id=\"46e6fe3f-3dcc-4f09-b5c4-e919160cbeae\" class=\"plotly-graph-div\" style=\"height:525px; width:100%;\"></div>            <script type=\"text/javascript\">                require([\"plotly\"], function(Plotly) {                    window.PLOTLYENV=window.PLOTLYENV || {};                                    if (document.getElementById(\"46e6fe3f-3dcc-4f09-b5c4-e919160cbeae\")) {                    Plotly.newPlot(                        \"46e6fe3f-3dcc-4f09-b5c4-e919160cbeae\",                        [{\"line\": {\"color\": \"blue\"}, \"name\": \"BABA\", \"type\": \"box\", \"y\": [178.85000610351562, 184.80999755859375, 180.0, 180.8800048828125, 181.3000030517578, 176.33999633789062, 185.75, 188.55999755859375, 195.32000732421875, 188.58999633789062, 191.27000427246094, 194.47999572753906, 187.55999755859375, 188.89999389648438, 187.11000061035156, 196.4499969482422, 198.0, 195.97999572753906, 196.3699951171875, 199.44000244140625, 204.77999877929688, 208.1699981689453, 212.66000366210938, 209.5, 212.1300048828125, 207.33999633789062, 209.9600067138672, 205.24000549316406, 204.36000061035156, 203.69000244140625, 201.14999389648438, 206.6999969482422, 202.6699981689453, 194.47999572753906, 191.14999389648438, 195.02000427246094, 195.1699981689453, 196.49000549316406, 201.19000244140625, 205.39999389648438, 200.30999755859375, 199.4600067138672, 201.3000030517578, 203.67999267578125, 215.27999877929688, 217.1999969482422, 216.7899932861328, 212.16000366210938, 199.6999969482422, 201.72000122070312, 201.17999267578125, 199.49000549316406, 207.38999938964844, 206.57000732421875, 214.3300018310547, 218.61000061035156, 218.0399932861328, 219.5500030517578, 219.0, 220.72000122070312, 223.67999267578125, 215.24000549316406, 217.63999938964844, 217.02999877929688, 222.6199951171875, 224.25, 223.5399932861328, 220.63999938964844, 221.41000366210938, 228.75, 226.22000122070312, 222.16000366210938, 215.7100067138672, 215.02000427246094, 215.6999969482422, 215.9499969482422, 223.60000610351562, 240.0, 236.50999450683594, 257.67999267578125, 261.5799865722656, 261.010009765625, 251.6699981689453, 248.5800018310547, 249.2100067138672, 242.5, 247.13999938964844, 254.80999755859375, 257.8999938964844, 251.6999969482422, 251.8800048828125, 249.0, 250.86000061035156, 249.0500030517578, 252.4499969482422, 252.74000549316406, 251.02000427246094, 257.94000244140625, 262.20001220703125, 264.9100036621094, 265.67999267578125, 252.10000610351562, 248.1300048828125, 248.4199981689453, 255.19000244140625, 253.72000122070312, 253.97000122070312, 256.9599914550781, 259.20001220703125, 260.5899963378906, 257.9700012207031, 265.79998779296875, 276.0199890136719, 286.0, 291.9599914550781, 284.1700134277344, 289.0, 287.0299987792969, 298.0, 296.07000732421875, 282.5, 281.3900146484375, 270.0199890136719, 273.1499938964844, 267.54998779296875, 271.6099853515625, 274.1000061035156, 277.9599914550781, 278.1400146484375, 275.7200012207031, 272.4100036621094, 273.82000732421875, 275.2900085449219, 272.95001220703125, 269.7300109863281, 271.0899963378906, 276.010009765625, 276.92999267578125, 293.9800109863281, 290.04998779296875, 288.1700134277344, 288.2699890136719, 292.3900146484375, 296.5, 300.5400085449219, 299.739990234375, 306.3399963378906, 308.7799987792969, 301.0400085449219, 299.4599914550781, 307.30999755859375, 305.2900085449219, 309.80999755859375, 307.9700012207031, 306.2799987792969, 309.9200134277344, 306.8699951171875, 317.1400146484375, 307.94000244140625, 312.55999755859375, 304.69000244140625, 310.8399963378906, 285.57000732421875, 295.7099914550781, 287.75, 299.95001220703125, 290.5299987792969, 266.5400085449219, 265.6499938964844, 264.30999755859375, 260.8399963378906, 258.30999755859375, 256.79998779296875, 255.8300018310547, 259.8900146484375, 270.739990234375, 270.1099853515625, 279.9599914550781, 277.7200012207031, 276.4800109863281, 263.3599853515625, 264.010009765625, 261.32000732421875, 266.9100036621094, 267.25, 264.0, 266.0899963378906, 263.79998779296875, 264.8699951171875, 264.5400085449219, 256.0299987792969, 255.11000061035156, 261.8900146484375, 264.42999267578125, 260.0, 260.42999267578125, 255.8300018310547, 256.17999267578125, 222.0, 222.36000061035156, 236.25999450683594, 238.38999938964844, 232.72999572753906, 227.85000610351562, 240.39999389648438, 227.61000061035156, 226.89999389648438, 236.19000244140625, 227.3699951171875, 225.60000610351562, 235.3000030517578, 242.97999572753906, 243.4600067138672, 251.64999389648438, 265.489990234375, 260.0, 258.6199951171875, 261.3800048828125, 265.9200134277344, 260.25, 260.760009765625, 253.8300018310547, 264.69000244140625, 254.5, 263.42999267578125, 266.9599914550781, 265.6700134277344, 262.5899963378906, 266.489990234375, 267.7900085449219, 268.92999267578125, 267.8500061035156]}, {\"line\": {\"color\": \"red\"}, \"name\": \"FB\", \"type\": \"box\", \"y\": [146.00999450683594, 149.4199981689453, 146.9600067138672, 153.1300048828125, 149.72999572753906, 148.10000610351562, 160.97999572753906, 156.2100067138672, 163.33999633789062, 156.7899932861328, 165.9499969482422, 166.8000030517578, 159.60000610351562, 158.19000244140625, 154.17999267578125, 165.5500030517578, 168.8300018310547, 174.27999877929688, 175.19000244140625, 174.7899932861328, 178.1699981689453, 176.97000122070312, 176.25, 179.24000549316406, 178.24000549316406, 170.8000030517578, 182.27999877929688, 185.1300048828125, 190.07000732421875, 187.5, 182.91000366210938, 194.19000244140625, 204.7100067138672, 202.27000427246094, 205.25999450683594, 207.07000732421875, 208.47000122070312, 211.25999450683594, 212.35000610351562, 213.17999267578125, 210.10000610351562, 205.10000610351562, 206.80999755859375, 210.8800048828125, 213.19000244140625, 216.8800048828125, 229.97000122070312, 231.38999938964844, 234.91000366210938, 232.1999969482422, 229.13999938964844, 225.4600067138672, 225.08999633789062, 231.91000366210938, 232.72000122070312, 230.16000366210938, 226.2899932861328, 230.77000427246094, 231.39999389648438, 238.6699981689453, 236.72999572753906, 224.42999267578125, 228.5800018310547, 232.5, 235.64999389648438, 235.52999877929688, 235.94000244140625, 238.7899932861328, 239.22000122070312, 242.24000549316406, 234.02000427246094, 235.67999267578125, 216.0800018310547, 220.63999938964844, 227.07000732421875, 237.5500030517578, 233.4199981689453, 240.27999877929688, 240.86000061035156, 243.5800018310547, 244.5, 245.07000732421875, 239.0, 239.72999572753906, 240.27999877929688, 240.92999267578125, 242.02999877929688, 245.4199981689453, 241.75, 239.8699951171875, 232.60000610351562, 230.7100067138672, 233.5, 230.1199951171875, 233.2899932861328, 234.5, 253.6699981689453, 251.9600067138672, 249.8300018310547, 249.1199951171875, 265.2799987792969, 268.44000244140625, 263.0, 256.1300048828125, 259.8900146484375, 261.29998779296875, 261.239990234375, 261.1600036621094, 262.3399963378906, 262.5899963378906, 269.010009765625, 267.010009765625, 271.3900146484375, 280.82000732421875, 303.9100036621094, 293.2200012207031, 293.6600036621094, 293.20001220703125, 295.44000244140625, 302.5, 291.1199951171875, 282.7300109863281, 271.1600036621094, 273.7200012207031, 268.0899963378906, 266.6099853515625, 266.1499938964844, 272.4200134277344, 263.5199890136719, 254.82000732421875, 252.52999877929688, 248.14999389648438, 254.75, 249.02000427246094, 249.52999877929688, 254.82000732421875, 256.82000732421875, 261.7900085449219, 261.8999938964844, 266.6300048828125, 259.94000244140625, 264.6499938964844, 258.6600036621094, 258.1199951171875, 263.760009765625, 264.45001220703125, 275.75, 276.1400146484375, 271.82000732421875, 266.7200012207031, 265.92999267578125, 261.3999938964844, 267.55999755859375, 278.7300109863281, 278.1199951171875, 284.7900085449219, 277.1099853515625, 283.2900085449219, 267.6700134277344, 280.8299865722656, 263.1099853515625, 261.3599853515625, 265.29998779296875, 287.3800048828125, 294.67999267578125, 293.4100036621094, 278.7699890136719, 272.42999267578125, 276.4800109863281, 275.0799865722656, 276.95001220703125, 278.9599914550781, 275.0, 271.9700012207031, 272.94000244140625, 269.70001220703125, 268.42999267578125, 276.9200134277344, 275.5899963378906, 277.80999755859375, 276.9700012207031, 286.54998779296875, 287.5199890136719, 281.8500061035156, 279.70001220703125, 285.5799865722656, 283.3999938964844, 277.9200134277344, 277.1199951171875, 273.54998779296875, 274.19000244140625, 275.54998779296875, 275.6700134277344, 274.4800109863281, 276.3999938964844, 272.7900085449219, 267.0899963378906, 268.1099853515625, 267.3999938964844, 277.0, 276.7799987792969, 271.8699951171875, 273.1600036621094, 268.94000244140625, 270.9700012207031, 263.30999755859375, 268.739990234375, 267.57000732421875, 256.8399963378906, 251.08999633789062, 251.63999938964844, 245.63999938964844, 251.36000061035156, 261.1000061035156, 267.4800109863281, 272.8699951171875, 274.5, 278.010009765625, 282.04998779296875, 272.1400146484375, 265.0, 258.3299865722656, 262.010009765625, 267.0799865722656, 266.6499938964844, 266.489990234375, 268.1000061035156, 266.5799865722656, 269.45001220703125, 271.8699951171875, 270.3900146484375, 270.5]}, {\"line\": {\"color\": \"green\"}, \"name\": \"AAPL\", \"type\": \"box\", \"y\": [60.5525016784668, 63.21500015258789, 61.66749954223633, 61.19499969482422, 57.310001373291016, 56.092498779296875, 61.720001220703125, 61.380001068115234, 64.61000061035156, 61.935001373291016, 63.70249938964844, 63.5724983215332, 60.227500915527344, 61.23249816894531, 60.352500915527344, 65.61750030517578, 64.85749816894531, 66.51750183105469, 66.99749755859375, 68.3125, 71.76249694824219, 71.10749816894531, 71.67250061035156, 70.69999694824219, 69.23249816894531, 67.09249877929688, 69.0250015258789, 68.75749969482422, 70.74250030517578, 70.7925033569336, 69.6449966430664, 71.93250274658203, 73.44999694824219, 72.26750183105469, 73.29000091552734, 74.38999938964844, 75.15750122070312, 75.93499755859375, 77.53250122070312, 78.75250244140625, 77.85250091552734, 76.9124984741211, 77.38500213623047, 76.92749786376953, 78.73999786376953, 78.28500366210938, 79.80750274658203, 79.2125015258789, 79.72250366210938, 79.18250274658203, 79.52749633789062, 79.5625, 79.48500061035156, 80.4625015258789, 80.83499908447266, 81.27999877929688, 80.58000183105469, 82.875, 83.36499786376953, 85.99749755859375, 88.20999908447266, 83.9749984741211, 84.69999694824219, 85.74749755859375, 88.0199966430664, 87.89749908447266, 87.93250274658203, 87.43000030517578, 89.71749877929688, 91.63249969482422, 90.01499938964844, 91.20999908447266, 88.40750122070312, 90.44499969482422, 91.19999694824219, 91.02749633789062, 91.02749633789062, 93.4625015258789, 93.17250061035156, 95.34249877929688, 95.75250244140625, 95.91999816894531, 95.47750091552734, 97.05750274658203, 97.7249984741211, 96.52249908447266, 96.32749938964844, 98.35749816894531, 97.0, 97.27249908447266, 92.84500122070312, 92.61499786376953, 94.80999755859375, 93.25250244140625, 95.04000091552734, 96.19000244140625, 106.26000213623047, 108.9375, 109.66500091552734, 110.0625, 113.90249633789062, 111.11250305175781, 112.72750091552734, 109.375, 113.01000213623047, 115.01000213623047, 114.90750122070312, 114.60749816894531, 115.5625, 115.7074966430664, 118.2750015258789, 124.37000274658203, 125.85749816894531, 124.82499694824219, 126.52249908447266, 125.01000213623047, 124.80750274658203, 129.0399932861328, 134.17999267578125, 131.39999389648438, 120.87999725341797, 120.95999908447266, 112.81999969482422, 117.31999969482422, 113.48999786376953, 112.0, 115.36000061035156, 115.54000091552734, 112.12999725341797, 110.33999633789062, 106.83999633789062, 110.08000183105469, 111.80999755859375, 107.12000274658203, 108.22000122070312, 112.27999877929688, 114.95999908447266, 114.08999633789062, 115.80999755859375, 116.79000091552734, 113.0199966430664, 116.5, 113.16000366210938, 115.08000183105469, 114.97000122070312, 116.97000122070312, 124.4000015258789, 121.0999984741211, 121.19000244140625, 120.70999908447266, 119.0199966430664, 115.9800033569336, 117.51000213623047, 116.87000274658203, 115.75, 115.04000091552734, 115.05000305175781, 116.5999984741211, 111.19999694824219, 115.31999969482422, 108.86000061035156, 108.7699966430664, 110.44000244140625, 114.94999694824219, 119.02999877929688, 118.69000244140625, 116.31999969482422, 115.97000122070312, 119.48999786376953, 119.20999908447266, 119.26000213623047, 120.30000305175781, 119.38999938964844, 118.02999877929688, 118.63999938964844, 117.33999633789062, 113.8499984741211, 115.16999816894531, 116.02999877929688, 116.58999633789062, 119.05000305175781, 122.72000122070312, 123.08000183105469, 122.94000244140625, 122.25, 123.75, 124.37999725341797, 121.77999877929688, 123.23999786376953, 122.41000366210938, 121.77999877929688, 127.87999725341797, 127.80999755859375, 128.6999969482422, 126.66000366210938, 128.22999572753906, 131.8800048828125, 130.9600067138672, 131.97000122070312, 136.69000244140625, 134.8699951171875, 133.72000122070312, 132.69000244140625, 129.41000366210938, 131.00999450683594, 126.5999984741211, 130.9199981689453, 132.0500030517578, 128.97999572753906, 128.8000030517578, 130.88999938964844, 128.91000366210938, 127.13999938964844, 127.83000183105469, 132.02999877929688, 136.8699951171875, 139.07000732421875, 142.9199981689453, 143.16000366210938, 142.05999755859375, 137.08999633789062, 131.9600067138672, 134.13999938964844, 134.99000549316406, 133.94000244140625, 137.38999938964844, 136.75999450683594, 136.91000366210938, 136.00999450683594, 135.38999938964844, 135.1300048828125, 135.3699951171875]}, {\"line\": {\"color\": \"purple\"}, \"name\": \"MSFT\", \"type\": \"box\", \"y\": [135.4199981689453, 146.57000732421875, 140.39999389648438, 142.7100067138672, 137.35000610351562, 135.97999572753906, 148.33999633789062, 146.9199981689453, 156.11000061035156, 149.6999969482422, 160.22999572753906, 157.7100067138672, 152.11000061035156, 155.25999450683594, 153.8300018310547, 165.27000427246094, 163.49000549316406, 165.1300048828125, 165.13999938964844, 165.50999450683594, 173.6999969482422, 171.8800048828125, 177.0399932861328, 178.60000610351562, 175.05999755859375, 167.82000732421875, 173.52000427246094, 171.4199981689453, 174.5500030517578, 174.0500030517578, 169.80999755859375, 177.42999267578125, 179.2100067138672, 174.57000732421875, 178.83999633789062, 180.75999450683594, 182.5399932861328, 183.60000610351562, 184.67999267578125, 186.74000549316406, 182.50999450683594, 179.75, 180.52999877929688, 183.16000366210938, 184.91000366210938, 183.6300048828125, 185.66000366210938, 183.42999267578125, 183.50999450683594, 181.57000732421875, 181.80999755859375, 181.39999389648438, 183.25, 182.8300018310547, 184.91000366210938, 185.36000061035156, 182.9199981689453, 187.1999969482422, 188.36000061035156, 189.8000030517578, 196.83999633789062, 186.27000427246094, 187.74000549316406, 188.94000244140625, 193.57000732421875, 194.24000549316406, 196.32000732421875, 195.14999389648438, 200.57000732421875, 201.91000366210938, 197.83999633789062, 200.33999633789062, 196.3300018310547, 198.44000244140625, 203.50999450683594, 204.6999969482422, 206.25999450683594, 210.6999969482422, 208.25, 212.8300018310547, 214.32000732421875, 213.6699981689453, 207.07000732421875, 208.35000610351562, 208.0399932861328, 203.9199981689453, 202.8800048828125, 211.60000610351562, 208.75, 211.75, 202.5399932861328, 201.3000030517578, 203.85000610351562, 202.02000427246094, 204.05999755859375, 203.89999389648438, 205.00999450683594, 216.5399932861328, 213.2899932861328, 212.94000244140625, 216.35000610351562, 212.47999572753906, 208.25, 203.3800048828125, 209.19000244140625, 208.6999969482422, 208.89999389648438, 210.27999877929688, 211.49000549316406, 209.6999969482422, 214.5800018310547, 213.02000427246094, 213.69000244140625, 216.47000122070312, 221.14999389648438, 226.5800018310547, 228.91000366210938, 225.52999877929688, 227.27000427246094, 231.64999389648438, 217.3000030517578, 214.25, 202.66000366210938, 211.2899932861328, 205.3699951171875, 204.02999877929688, 205.41000366210938, 208.77999877929688, 205.0500030517578, 202.91000366210938, 200.38999938964844, 202.5399932861328, 207.4199981689453, 200.58999633789062, 203.19000244140625, 207.82000732421875, 209.44000244140625, 207.25999450683594, 210.3300018310547, 212.4600067138672, 206.19000244140625, 210.3800048828125, 205.91000366210938, 209.8300018310547, 210.5800018310547, 215.80999755859375, 221.39999389648438, 222.86000061035156, 220.86000061035156, 219.66000366210938, 219.66000366210938, 214.22000122070312, 214.64999389648438, 214.8000030517578, 214.88999938964844, 216.22999572753906, 210.0800018310547, 213.25, 202.67999267578125, 204.72000122070312, 202.47000122070312, 202.3300018310547, 206.42999267578125, 216.38999938964844, 223.2899932861328, 223.72000122070312, 218.38999938964844, 211.00999450683594, 216.5500030517578, 215.44000244140625, 216.50999450683594, 217.22999572753906, 214.4600067138672, 211.0800018310547, 212.4199981689453, 210.38999938964844, 210.11000061035156, 213.86000061035156, 213.8699951171875, 215.22999572753906, 214.07000732421875, 216.2100067138672, 215.3699951171875, 214.24000549316406, 214.36000061035156, 214.2899932861328, 216.00999450683594, 211.8000030517578, 210.52000427246094, 213.25999450683594, 214.1999969482422, 214.1300048828125, 219.27999877929688, 219.4199981689453, 218.58999633789062, 222.58999633789062, 223.94000244140625, 221.02000427246094, 222.75, 224.9600067138672, 224.14999389648438, 221.67999267578125, 222.4199981689453, 217.69000244140625, 217.89999389648438, 212.25, 218.2899932861328, 219.6199951171875, 217.49000549316406, 214.92999267578125, 216.33999633789062, 213.02000427246094, 212.64999389648438, 216.44000244140625, 224.33999633789062, 224.97000122070312, 225.9499969482422, 229.52999877929688, 232.3300018310547, 232.89999389648438, 238.92999267578125, 231.9600067138672, 239.64999389648438, 239.50999450683594, 243.0, 242.00999450683594, 242.1999969482422, 242.47000122070312, 243.77000427246094, 242.82000732421875, 244.49000549316406, 244.99000549316406]}],                        {\"template\": {\"data\": {\"bar\": [{\"error_x\": {\"color\": \"#f2f5fa\"}, \"error_y\": {\"color\": \"#f2f5fa\"}, \"marker\": {\"line\": {\"color\": \"rgb(17,17,17)\", \"width\": 0.5}}, \"type\": \"bar\"}], \"barpolar\": [{\"marker\": {\"line\": {\"color\": \"rgb(17,17,17)\", \"width\": 0.5}}, \"type\": \"barpolar\"}], \"carpet\": [{\"aaxis\": {\"endlinecolor\": \"#A2B1C6\", \"gridcolor\": \"#506784\", \"linecolor\": \"#506784\", \"minorgridcolor\": \"#506784\", \"startlinecolor\": \"#A2B1C6\"}, \"baxis\": {\"endlinecolor\": \"#A2B1C6\", \"gridcolor\": \"#506784\", \"linecolor\": \"#506784\", \"minorgridcolor\": \"#506784\", \"startlinecolor\": \"#A2B1C6\"}, \"type\": \"carpet\"}], \"choropleth\": [{\"colorbar\": {\"outlinewidth\": 0, \"ticks\": \"\"}, \"type\": \"choropleth\"}], \"contour\": [{\"colorbar\": {\"outlinewidth\": 0, \"ticks\": \"\"}, \"colorscale\": [[0.0, \"#0d0887\"], [0.1111111111111111, \"#46039f\"], [0.2222222222222222, \"#7201a8\"], [0.3333333333333333, \"#9c179e\"], [0.4444444444444444, \"#bd3786\"], [0.5555555555555556, \"#d8576b\"], [0.6666666666666666, \"#ed7953\"], [0.7777777777777778, \"#fb9f3a\"], [0.8888888888888888, \"#fdca26\"], [1.0, \"#f0f921\"]], \"type\": \"contour\"}], \"contourcarpet\": [{\"colorbar\": {\"outlinewidth\": 0, \"ticks\": \"\"}, \"type\": \"contourcarpet\"}], \"heatmap\": [{\"colorbar\": {\"outlinewidth\": 0, \"ticks\": \"\"}, \"colorscale\": [[0.0, \"#0d0887\"], [0.1111111111111111, \"#46039f\"], [0.2222222222222222, \"#7201a8\"], [0.3333333333333333, \"#9c179e\"], [0.4444444444444444, \"#bd3786\"], [0.5555555555555556, \"#d8576b\"], [0.6666666666666666, \"#ed7953\"], [0.7777777777777778, \"#fb9f3a\"], [0.8888888888888888, \"#fdca26\"], [1.0, \"#f0f921\"]], \"type\": \"heatmap\"}], \"heatmapgl\": [{\"colorbar\": {\"outlinewidth\": 0, \"ticks\": \"\"}, \"colorscale\": [[0.0, \"#0d0887\"], [0.1111111111111111, \"#46039f\"], [0.2222222222222222, \"#7201a8\"], [0.3333333333333333, \"#9c179e\"], [0.4444444444444444, \"#bd3786\"], [0.5555555555555556, \"#d8576b\"], [0.6666666666666666, \"#ed7953\"], [0.7777777777777778, \"#fb9f3a\"], [0.8888888888888888, \"#fdca26\"], [1.0, \"#f0f921\"]], \"type\": \"heatmapgl\"}], \"histogram\": [{\"marker\": {\"colorbar\": {\"outlinewidth\": 0, \"ticks\": \"\"}}, \"type\": \"histogram\"}], \"histogram2d\": [{\"colorbar\": {\"outlinewidth\": 0, \"ticks\": \"\"}, \"colorscale\": [[0.0, \"#0d0887\"], [0.1111111111111111, \"#46039f\"], [0.2222222222222222, \"#7201a8\"], [0.3333333333333333, \"#9c179e\"], [0.4444444444444444, \"#bd3786\"], [0.5555555555555556, \"#d8576b\"], [0.6666666666666666, \"#ed7953\"], [0.7777777777777778, \"#fb9f3a\"], [0.8888888888888888, \"#fdca26\"], [1.0, \"#f0f921\"]], \"type\": \"histogram2d\"}], \"histogram2dcontour\": [{\"colorbar\": {\"outlinewidth\": 0, \"ticks\": \"\"}, \"colorscale\": [[0.0, \"#0d0887\"], [0.1111111111111111, \"#46039f\"], [0.2222222222222222, \"#7201a8\"], [0.3333333333333333, \"#9c179e\"], [0.4444444444444444, \"#bd3786\"], [0.5555555555555556, \"#d8576b\"], [0.6666666666666666, \"#ed7953\"], [0.7777777777777778, \"#fb9f3a\"], [0.8888888888888888, \"#fdca26\"], [1.0, \"#f0f921\"]], \"type\": \"histogram2dcontour\"}], \"mesh3d\": [{\"colorbar\": {\"outlinewidth\": 0, \"ticks\": \"\"}, \"type\": \"mesh3d\"}], \"parcoords\": [{\"line\": {\"colorbar\": {\"outlinewidth\": 0, \"ticks\": \"\"}}, \"type\": \"parcoords\"}], \"pie\": [{\"automargin\": true, \"type\": \"pie\"}], \"scatter\": [{\"marker\": {\"line\": {\"color\": \"#283442\"}}, \"type\": \"scatter\"}], \"scatter3d\": [{\"line\": {\"colorbar\": {\"outlinewidth\": 0, \"ticks\": \"\"}}, \"marker\": {\"colorbar\": {\"outlinewidth\": 0, \"ticks\": \"\"}}, \"type\": \"scatter3d\"}], \"scattercarpet\": [{\"marker\": {\"colorbar\": {\"outlinewidth\": 0, \"ticks\": \"\"}}, \"type\": \"scattercarpet\"}], \"scattergeo\": [{\"marker\": {\"colorbar\": {\"outlinewidth\": 0, \"ticks\": \"\"}}, \"type\": \"scattergeo\"}], \"scattergl\": [{\"marker\": {\"line\": {\"color\": \"#283442\"}}, \"type\": \"scattergl\"}], \"scattermapbox\": [{\"marker\": {\"colorbar\": {\"outlinewidth\": 0, \"ticks\": \"\"}}, \"type\": \"scattermapbox\"}], \"scatterpolar\": [{\"marker\": {\"colorbar\": {\"outlinewidth\": 0, \"ticks\": \"\"}}, \"type\": \"scatterpolar\"}], \"scatterpolargl\": [{\"marker\": {\"colorbar\": {\"outlinewidth\": 0, \"ticks\": \"\"}}, \"type\": \"scatterpolargl\"}], \"scatterternary\": [{\"marker\": {\"colorbar\": {\"outlinewidth\": 0, \"ticks\": \"\"}}, \"type\": \"scatterternary\"}], \"surface\": [{\"colorbar\": {\"outlinewidth\": 0, \"ticks\": \"\"}, \"colorscale\": [[0.0, \"#0d0887\"], [0.1111111111111111, \"#46039f\"], [0.2222222222222222, \"#7201a8\"], [0.3333333333333333, \"#9c179e\"], [0.4444444444444444, \"#bd3786\"], [0.5555555555555556, \"#d8576b\"], [0.6666666666666666, \"#ed7953\"], [0.7777777777777778, \"#fb9f3a\"], [0.8888888888888888, \"#fdca26\"], [1.0, \"#f0f921\"]], \"type\": \"surface\"}], \"table\": [{\"cells\": {\"fill\": {\"color\": \"#506784\"}, \"line\": {\"color\": \"rgb(17,17,17)\"}}, \"header\": {\"fill\": {\"color\": \"#2a3f5f\"}, \"line\": {\"color\": \"rgb(17,17,17)\"}}, \"type\": \"table\"}]}, \"layout\": {\"annotationdefaults\": {\"arrowcolor\": \"#f2f5fa\", \"arrowhead\": 0, \"arrowwidth\": 1}, \"autotypenumbers\": \"strict\", \"coloraxis\": {\"colorbar\": {\"outlinewidth\": 0, \"ticks\": \"\"}}, \"colorscale\": {\"diverging\": [[0, \"#8e0152\"], [0.1, \"#c51b7d\"], [0.2, \"#de77ae\"], [0.3, \"#f1b6da\"], [0.4, \"#fde0ef\"], [0.5, \"#f7f7f7\"], [0.6, \"#e6f5d0\"], [0.7, \"#b8e186\"], [0.8, \"#7fbc41\"], [0.9, \"#4d9221\"], [1, \"#276419\"]], \"sequential\": [[0.0, \"#0d0887\"], [0.1111111111111111, \"#46039f\"], [0.2222222222222222, \"#7201a8\"], [0.3333333333333333, \"#9c179e\"], [0.4444444444444444, \"#bd3786\"], [0.5555555555555556, \"#d8576b\"], [0.6666666666666666, \"#ed7953\"], [0.7777777777777778, \"#fb9f3a\"], [0.8888888888888888, \"#fdca26\"], [1.0, \"#f0f921\"]], \"sequentialminus\": [[0.0, \"#0d0887\"], [0.1111111111111111, \"#46039f\"], [0.2222222222222222, \"#7201a8\"], [0.3333333333333333, \"#9c179e\"], [0.4444444444444444, \"#bd3786\"], [0.5555555555555556, \"#d8576b\"], [0.6666666666666666, \"#ed7953\"], [0.7777777777777778, \"#fb9f3a\"], [0.8888888888888888, \"#fdca26\"], [1.0, \"#f0f921\"]]}, \"colorway\": [\"#636efa\", \"#EF553B\", \"#00cc96\", \"#ab63fa\", \"#FFA15A\", \"#19d3f3\", \"#FF6692\", \"#B6E880\", \"#FF97FF\", \"#FECB52\"], \"font\": {\"color\": \"#f2f5fa\"}, \"geo\": {\"bgcolor\": \"rgb(17,17,17)\", \"lakecolor\": \"rgb(17,17,17)\", \"landcolor\": \"rgb(17,17,17)\", \"showlakes\": true, \"showland\": true, \"subunitcolor\": \"#506784\"}, \"hoverlabel\": {\"align\": \"left\"}, \"hovermode\": \"closest\", \"mapbox\": {\"style\": \"dark\"}, \"paper_bgcolor\": \"rgb(17,17,17)\", \"plot_bgcolor\": \"rgb(17,17,17)\", \"polar\": {\"angularaxis\": {\"gridcolor\": \"#506784\", \"linecolor\": \"#506784\", \"ticks\": \"\"}, \"bgcolor\": \"rgb(17,17,17)\", \"radialaxis\": {\"gridcolor\": \"#506784\", \"linecolor\": \"#506784\", \"ticks\": \"\"}}, \"scene\": {\"xaxis\": {\"backgroundcolor\": \"rgb(17,17,17)\", \"gridcolor\": \"#506784\", \"gridwidth\": 2, \"linecolor\": \"#506784\", \"showbackground\": true, \"ticks\": \"\", \"zerolinecolor\": \"#C8D4E3\"}, \"yaxis\": {\"backgroundcolor\": \"rgb(17,17,17)\", \"gridcolor\": \"#506784\", \"gridwidth\": 2, \"linecolor\": \"#506784\", \"showbackground\": true, \"ticks\": \"\", \"zerolinecolor\": \"#C8D4E3\"}, \"zaxis\": {\"backgroundcolor\": \"rgb(17,17,17)\", \"gridcolor\": \"#506784\", \"gridwidth\": 2, \"linecolor\": \"#506784\", \"showbackground\": true, \"ticks\": \"\", \"zerolinecolor\": \"#C8D4E3\"}}, \"shapedefaults\": {\"line\": {\"color\": \"#f2f5fa\"}}, \"sliderdefaults\": {\"bgcolor\": \"#C8D4E3\", \"bordercolor\": \"rgb(17,17,17)\", \"borderwidth\": 1, \"tickwidth\": 0}, \"ternary\": {\"aaxis\": {\"gridcolor\": \"#506784\", \"linecolor\": \"#506784\", \"ticks\": \"\"}, \"baxis\": {\"gridcolor\": \"#506784\", \"linecolor\": \"#506784\", \"ticks\": \"\"}, \"bgcolor\": \"rgb(17,17,17)\", \"caxis\": {\"gridcolor\": \"#506784\", \"linecolor\": \"#506784\", \"ticks\": \"\"}}, \"title\": {\"x\": 0.05}, \"updatemenudefaults\": {\"bgcolor\": \"#506784\", \"borderwidth\": 0}, \"xaxis\": {\"automargin\": true, \"gridcolor\": \"#283442\", \"linecolor\": \"#506784\", \"ticks\": \"\", \"title\": {\"standoff\": 15}, \"zerolinecolor\": \"#283442\", \"zerolinewidth\": 2}, \"yaxis\": {\"automargin\": true, \"gridcolor\": \"#283442\", \"linecolor\": \"#506784\", \"ticks\": \"\", \"title\": {\"standoff\": 15}, \"zerolinecolor\": \"#283442\", \"zerolinewidth\": 2}}}, \"title\": {\"text\": \"Stock Prices\", \"x\": 0.5, \"xanchor\": \"center\"}},                        {\"responsive\": true}                    ).then(function(){\n",
       "                            \n",
       "var gd = document.getElementById('46e6fe3f-3dcc-4f09-b5c4-e919160cbeae');\n",
       "var x = new MutationObserver(function (mutations, observer) {{\n",
       "        var display = window.getComputedStyle(gd).display;\n",
       "        if (!display || display === 'none') {{\n",
       "            console.log([gd, 'removed!']);\n",
       "            Plotly.purge(gd);\n",
       "            observer.disconnect();\n",
       "        }}\n",
       "}});\n",
       "\n",
       "// Listen for the removal of the full notebook cells\n",
       "var notebookContainer = gd.closest('#notebook-container');\n",
       "if (notebookContainer) {{\n",
       "    x.observe(notebookContainer, {childList: true});\n",
       "}}\n",
       "\n",
       "// Listen for the clearing of the current output cell\n",
       "var outputEl = gd.closest('.output');\n",
       "if (outputEl) {{\n",
       "    x.observe(outputEl, {childList: true});\n",
       "}}\n",
       "\n",
       "                        })                };                });            </script>        </div>"
      ]
     },
     "metadata": {},
     "output_type": "display_data"
    }
   ],
   "source": [
    "\n",
    "df = web.DataReader(['BABA', 'FB', 'AAPL', 'MSFT'], 'yahoo', start, end)['Close']\n",
    "\n",
    "trace0 = go.Box(y=df.BABA, name='BABA', line=dict(color='blue'))\n",
    "trace1 = go.Box(y=df.FB, name='FB', line=dict(color='red'))\n",
    "trace2 = go.Box(y=df.AAPL, name='AAPL', line=dict(color='green'))\n",
    "trace3 = go.Box(y=df.MSFT, name='MSFT', line=dict(color='purple'))\n",
    "\n",
    "fig6 = go.Figure([trace0, trace1, trace2, trace3])\n",
    "fig6.update_layout(\n",
    "    title={\n",
    "        'text': \"Stock Prices\",\n",
    "        'x':0.5,\n",
    "        'xanchor': 'center'})\n",
    "fig6.show()"
   ]
  },
  {
   "cell_type": "code",
   "execution_count": 18,
   "metadata": {},
   "outputs": [
    {
     "data": {
      "application/vnd.plotly.v1+json": {
       "config": {
        "plotlyServerURL": "https://plot.ly"
       },
       "data": [
        {
         "hovertemplate": "Symbols=BABA<br>Date=%{x}<br>value=%{y}<extra></extra>",
         "legendgroup": "BABA",
         "line": {
          "color": "#636efa"
         },
         "mode": "lines",
         "name": "BABA",
         "orientation": "v",
         "showlegend": true,
         "stackgroup": "1",
         "type": "scatter",
         "x": [
          "2020-03-16T00:00:00",
          "2020-03-17T00:00:00",
          "2020-03-18T00:00:00",
          "2020-03-19T00:00:00",
          "2020-03-20T00:00:00",
          "2020-03-23T00:00:00",
          "2020-03-24T00:00:00",
          "2020-03-25T00:00:00",
          "2020-03-26T00:00:00",
          "2020-03-27T00:00:00",
          "2020-03-30T00:00:00",
          "2020-03-31T00:00:00",
          "2020-04-01T00:00:00",
          "2020-04-02T00:00:00",
          "2020-04-03T00:00:00",
          "2020-04-06T00:00:00",
          "2020-04-07T00:00:00",
          "2020-04-08T00:00:00",
          "2020-04-09T00:00:00",
          "2020-04-13T00:00:00",
          "2020-04-14T00:00:00",
          "2020-04-15T00:00:00",
          "2020-04-16T00:00:00",
          "2020-04-17T00:00:00",
          "2020-04-20T00:00:00",
          "2020-04-21T00:00:00",
          "2020-04-22T00:00:00",
          "2020-04-23T00:00:00",
          "2020-04-24T00:00:00",
          "2020-04-27T00:00:00",
          "2020-04-28T00:00:00",
          "2020-04-29T00:00:00",
          "2020-04-30T00:00:00",
          "2020-05-01T00:00:00",
          "2020-05-04T00:00:00",
          "2020-05-05T00:00:00",
          "2020-05-06T00:00:00",
          "2020-05-07T00:00:00",
          "2020-05-08T00:00:00",
          "2020-05-11T00:00:00",
          "2020-05-12T00:00:00",
          "2020-05-13T00:00:00",
          "2020-05-14T00:00:00",
          "2020-05-15T00:00:00",
          "2020-05-18T00:00:00",
          "2020-05-19T00:00:00",
          "2020-05-20T00:00:00",
          "2020-05-21T00:00:00",
          "2020-05-22T00:00:00",
          "2020-05-26T00:00:00",
          "2020-05-27T00:00:00",
          "2020-05-28T00:00:00",
          "2020-05-29T00:00:00",
          "2020-06-01T00:00:00",
          "2020-06-02T00:00:00",
          "2020-06-03T00:00:00",
          "2020-06-04T00:00:00",
          "2020-06-05T00:00:00",
          "2020-06-08T00:00:00",
          "2020-06-09T00:00:00",
          "2020-06-10T00:00:00",
          "2020-06-11T00:00:00",
          "2020-06-12T00:00:00",
          "2020-06-15T00:00:00",
          "2020-06-16T00:00:00",
          "2020-06-17T00:00:00",
          "2020-06-18T00:00:00",
          "2020-06-19T00:00:00",
          "2020-06-22T00:00:00",
          "2020-06-23T00:00:00",
          "2020-06-24T00:00:00",
          "2020-06-25T00:00:00",
          "2020-06-26T00:00:00",
          "2020-06-29T00:00:00",
          "2020-06-30T00:00:00",
          "2020-07-01T00:00:00",
          "2020-07-02T00:00:00",
          "2020-07-06T00:00:00",
          "2020-07-07T00:00:00",
          "2020-07-08T00:00:00",
          "2020-07-09T00:00:00",
          "2020-07-10T00:00:00",
          "2020-07-13T00:00:00",
          "2020-07-14T00:00:00",
          "2020-07-15T00:00:00",
          "2020-07-16T00:00:00",
          "2020-07-17T00:00:00",
          "2020-07-20T00:00:00",
          "2020-07-21T00:00:00",
          "2020-07-22T00:00:00",
          "2020-07-23T00:00:00",
          "2020-07-24T00:00:00",
          "2020-07-27T00:00:00",
          "2020-07-28T00:00:00",
          "2020-07-29T00:00:00",
          "2020-07-30T00:00:00",
          "2020-07-31T00:00:00",
          "2020-08-03T00:00:00",
          "2020-08-04T00:00:00",
          "2020-08-05T00:00:00",
          "2020-08-06T00:00:00",
          "2020-08-07T00:00:00",
          "2020-08-10T00:00:00",
          "2020-08-11T00:00:00",
          "2020-08-12T00:00:00",
          "2020-08-13T00:00:00",
          "2020-08-14T00:00:00",
          "2020-08-17T00:00:00",
          "2020-08-18T00:00:00",
          "2020-08-19T00:00:00",
          "2020-08-20T00:00:00",
          "2020-08-21T00:00:00",
          "2020-08-24T00:00:00",
          "2020-08-25T00:00:00",
          "2020-08-26T00:00:00",
          "2020-08-27T00:00:00",
          "2020-08-28T00:00:00",
          "2020-08-31T00:00:00",
          "2020-09-01T00:00:00",
          "2020-09-02T00:00:00",
          "2020-09-03T00:00:00",
          "2020-09-04T00:00:00",
          "2020-09-08T00:00:00",
          "2020-09-09T00:00:00",
          "2020-09-10T00:00:00",
          "2020-09-11T00:00:00",
          "2020-09-14T00:00:00",
          "2020-09-15T00:00:00",
          "2020-09-16T00:00:00",
          "2020-09-17T00:00:00",
          "2020-09-18T00:00:00",
          "2020-09-21T00:00:00",
          "2020-09-22T00:00:00",
          "2020-09-23T00:00:00",
          "2020-09-24T00:00:00",
          "2020-09-25T00:00:00",
          "2020-09-28T00:00:00",
          "2020-09-29T00:00:00",
          "2020-09-30T00:00:00",
          "2020-10-01T00:00:00",
          "2020-10-02T00:00:00",
          "2020-10-05T00:00:00",
          "2020-10-06T00:00:00",
          "2020-10-07T00:00:00",
          "2020-10-08T00:00:00",
          "2020-10-09T00:00:00",
          "2020-10-12T00:00:00",
          "2020-10-13T00:00:00",
          "2020-10-14T00:00:00",
          "2020-10-15T00:00:00",
          "2020-10-16T00:00:00",
          "2020-10-19T00:00:00",
          "2020-10-20T00:00:00",
          "2020-10-21T00:00:00",
          "2020-10-22T00:00:00",
          "2020-10-23T00:00:00",
          "2020-10-26T00:00:00",
          "2020-10-27T00:00:00",
          "2020-10-28T00:00:00",
          "2020-10-29T00:00:00",
          "2020-10-30T00:00:00",
          "2020-11-02T00:00:00",
          "2020-11-03T00:00:00",
          "2020-11-04T00:00:00",
          "2020-11-05T00:00:00",
          "2020-11-06T00:00:00",
          "2020-11-09T00:00:00",
          "2020-11-10T00:00:00",
          "2020-11-11T00:00:00",
          "2020-11-12T00:00:00",
          "2020-11-13T00:00:00",
          "2020-11-16T00:00:00",
          "2020-11-17T00:00:00",
          "2020-11-18T00:00:00",
          "2020-11-19T00:00:00",
          "2020-11-20T00:00:00",
          "2020-11-23T00:00:00",
          "2020-11-24T00:00:00",
          "2020-11-25T00:00:00",
          "2020-11-27T00:00:00",
          "2020-11-30T00:00:00",
          "2020-12-01T00:00:00",
          "2020-12-02T00:00:00",
          "2020-12-03T00:00:00",
          "2020-12-04T00:00:00",
          "2020-12-07T00:00:00",
          "2020-12-08T00:00:00",
          "2020-12-09T00:00:00",
          "2020-12-10T00:00:00",
          "2020-12-11T00:00:00",
          "2020-12-14T00:00:00",
          "2020-12-15T00:00:00",
          "2020-12-16T00:00:00",
          "2020-12-17T00:00:00",
          "2020-12-18T00:00:00",
          "2020-12-21T00:00:00",
          "2020-12-22T00:00:00",
          "2020-12-23T00:00:00",
          "2020-12-24T00:00:00",
          "2020-12-28T00:00:00",
          "2020-12-29T00:00:00",
          "2020-12-30T00:00:00",
          "2020-12-31T00:00:00",
          "2021-01-04T00:00:00",
          "2021-01-05T00:00:00",
          "2021-01-06T00:00:00",
          "2021-01-07T00:00:00",
          "2021-01-08T00:00:00",
          "2021-01-11T00:00:00",
          "2021-01-12T00:00:00",
          "2021-01-13T00:00:00",
          "2021-01-14T00:00:00",
          "2021-01-15T00:00:00",
          "2021-01-19T00:00:00",
          "2021-01-20T00:00:00",
          "2021-01-21T00:00:00",
          "2021-01-22T00:00:00",
          "2021-01-25T00:00:00",
          "2021-01-26T00:00:00",
          "2021-01-27T00:00:00",
          "2021-01-28T00:00:00",
          "2021-01-29T00:00:00",
          "2021-02-01T00:00:00",
          "2021-02-02T00:00:00",
          "2021-02-03T00:00:00",
          "2021-02-04T00:00:00",
          "2021-02-05T00:00:00",
          "2021-02-08T00:00:00",
          "2021-02-09T00:00:00",
          "2021-02-10T00:00:00",
          "2021-02-11T00:00:00",
          "2021-02-12T00:00:00"
         ],
         "xaxis": "x3",
         "y": [
          178.85000610351562,
          184.80999755859375,
          180,
          180.8800048828125,
          181.3000030517578,
          176.33999633789062,
          185.75,
          188.55999755859375,
          195.32000732421875,
          188.58999633789062,
          191.27000427246094,
          194.47999572753906,
          187.55999755859375,
          188.89999389648438,
          187.11000061035156,
          196.4499969482422,
          198,
          195.97999572753906,
          196.3699951171875,
          199.44000244140625,
          204.77999877929688,
          208.1699981689453,
          212.66000366210938,
          209.5,
          212.1300048828125,
          207.33999633789062,
          209.9600067138672,
          205.24000549316406,
          204.36000061035156,
          203.69000244140625,
          201.14999389648438,
          206.6999969482422,
          202.6699981689453,
          194.47999572753906,
          191.14999389648438,
          195.02000427246094,
          195.1699981689453,
          196.49000549316406,
          201.19000244140625,
          205.39999389648438,
          200.30999755859375,
          199.4600067138672,
          201.3000030517578,
          203.67999267578125,
          215.27999877929688,
          217.1999969482422,
          216.7899932861328,
          212.16000366210938,
          199.6999969482422,
          201.72000122070312,
          201.17999267578125,
          199.49000549316406,
          207.38999938964844,
          206.57000732421875,
          214.3300018310547,
          218.61000061035156,
          218.0399932861328,
          219.5500030517578,
          219,
          220.72000122070312,
          223.67999267578125,
          215.24000549316406,
          217.63999938964844,
          217.02999877929688,
          222.6199951171875,
          224.25,
          223.5399932861328,
          220.63999938964844,
          221.41000366210938,
          228.75,
          226.22000122070312,
          222.16000366210938,
          215.7100067138672,
          215.02000427246094,
          215.6999969482422,
          215.9499969482422,
          223.60000610351562,
          240,
          236.50999450683594,
          257.67999267578125,
          261.5799865722656,
          261.010009765625,
          251.6699981689453,
          248.5800018310547,
          249.2100067138672,
          242.5,
          247.13999938964844,
          254.80999755859375,
          257.8999938964844,
          251.6999969482422,
          251.8800048828125,
          249,
          250.86000061035156,
          249.0500030517578,
          252.4499969482422,
          252.74000549316406,
          251.02000427246094,
          257.94000244140625,
          262.20001220703125,
          264.9100036621094,
          265.67999267578125,
          252.10000610351562,
          248.1300048828125,
          248.4199981689453,
          255.19000244140625,
          253.72000122070312,
          253.97000122070312,
          256.9599914550781,
          259.20001220703125,
          260.5899963378906,
          257.9700012207031,
          265.79998779296875,
          276.0199890136719,
          286,
          291.9599914550781,
          284.1700134277344,
          289,
          287.0299987792969,
          298,
          296.07000732421875,
          282.5,
          281.3900146484375,
          270.0199890136719,
          273.1499938964844,
          267.54998779296875,
          271.6099853515625,
          274.1000061035156,
          277.9599914550781,
          278.1400146484375,
          275.7200012207031,
          272.4100036621094,
          273.82000732421875,
          275.2900085449219,
          272.95001220703125,
          269.7300109863281,
          271.0899963378906,
          276.010009765625,
          276.92999267578125,
          293.9800109863281,
          290.04998779296875,
          288.1700134277344,
          288.2699890136719,
          292.3900146484375,
          296.5,
          300.5400085449219,
          299.739990234375,
          306.3399963378906,
          308.7799987792969,
          301.0400085449219,
          299.4599914550781,
          307.30999755859375,
          305.2900085449219,
          309.80999755859375,
          307.9700012207031,
          306.2799987792969,
          309.9200134277344,
          306.8699951171875,
          317.1400146484375,
          307.94000244140625,
          312.55999755859375,
          304.69000244140625,
          310.8399963378906,
          285.57000732421875,
          295.7099914550781,
          287.75,
          299.95001220703125,
          290.5299987792969,
          266.5400085449219,
          265.6499938964844,
          264.30999755859375,
          260.8399963378906,
          258.30999755859375,
          256.79998779296875,
          255.8300018310547,
          259.8900146484375,
          270.739990234375,
          270.1099853515625,
          279.9599914550781,
          277.7200012207031,
          276.4800109863281,
          263.3599853515625,
          264.010009765625,
          261.32000732421875,
          266.9100036621094,
          267.25,
          264,
          266.0899963378906,
          263.79998779296875,
          264.8699951171875,
          264.5400085449219,
          256.0299987792969,
          255.11000061035156,
          261.8900146484375,
          264.42999267578125,
          260,
          260.42999267578125,
          255.8300018310547,
          256.17999267578125,
          222,
          222.36000061035156,
          236.25999450683594,
          238.38999938964844,
          232.72999572753906,
          227.85000610351562,
          240.39999389648438,
          227.61000061035156,
          226.89999389648438,
          236.19000244140625,
          227.3699951171875,
          225.60000610351562,
          235.3000030517578,
          242.97999572753906,
          243.4600067138672,
          251.64999389648438,
          265.489990234375,
          260,
          258.6199951171875,
          261.3800048828125,
          265.9200134277344,
          260.25,
          260.760009765625,
          253.8300018310547,
          264.69000244140625,
          254.5,
          263.42999267578125,
          266.9599914550781,
          265.6700134277344,
          262.5899963378906,
          266.489990234375,
          267.7900085449219,
          268.92999267578125,
          267.8500061035156
         ],
         "yaxis": "y3"
        },
        {
         "hovertemplate": "Symbols=FB<br>Date=%{x}<br>value=%{y}<extra></extra>",
         "legendgroup": "FB",
         "line": {
          "color": "#EF553B"
         },
         "mode": "lines",
         "name": "FB",
         "orientation": "v",
         "showlegend": true,
         "stackgroup": "1",
         "type": "scatter",
         "x": [
          "2020-03-16T00:00:00",
          "2020-03-17T00:00:00",
          "2020-03-18T00:00:00",
          "2020-03-19T00:00:00",
          "2020-03-20T00:00:00",
          "2020-03-23T00:00:00",
          "2020-03-24T00:00:00",
          "2020-03-25T00:00:00",
          "2020-03-26T00:00:00",
          "2020-03-27T00:00:00",
          "2020-03-30T00:00:00",
          "2020-03-31T00:00:00",
          "2020-04-01T00:00:00",
          "2020-04-02T00:00:00",
          "2020-04-03T00:00:00",
          "2020-04-06T00:00:00",
          "2020-04-07T00:00:00",
          "2020-04-08T00:00:00",
          "2020-04-09T00:00:00",
          "2020-04-13T00:00:00",
          "2020-04-14T00:00:00",
          "2020-04-15T00:00:00",
          "2020-04-16T00:00:00",
          "2020-04-17T00:00:00",
          "2020-04-20T00:00:00",
          "2020-04-21T00:00:00",
          "2020-04-22T00:00:00",
          "2020-04-23T00:00:00",
          "2020-04-24T00:00:00",
          "2020-04-27T00:00:00",
          "2020-04-28T00:00:00",
          "2020-04-29T00:00:00",
          "2020-04-30T00:00:00",
          "2020-05-01T00:00:00",
          "2020-05-04T00:00:00",
          "2020-05-05T00:00:00",
          "2020-05-06T00:00:00",
          "2020-05-07T00:00:00",
          "2020-05-08T00:00:00",
          "2020-05-11T00:00:00",
          "2020-05-12T00:00:00",
          "2020-05-13T00:00:00",
          "2020-05-14T00:00:00",
          "2020-05-15T00:00:00",
          "2020-05-18T00:00:00",
          "2020-05-19T00:00:00",
          "2020-05-20T00:00:00",
          "2020-05-21T00:00:00",
          "2020-05-22T00:00:00",
          "2020-05-26T00:00:00",
          "2020-05-27T00:00:00",
          "2020-05-28T00:00:00",
          "2020-05-29T00:00:00",
          "2020-06-01T00:00:00",
          "2020-06-02T00:00:00",
          "2020-06-03T00:00:00",
          "2020-06-04T00:00:00",
          "2020-06-05T00:00:00",
          "2020-06-08T00:00:00",
          "2020-06-09T00:00:00",
          "2020-06-10T00:00:00",
          "2020-06-11T00:00:00",
          "2020-06-12T00:00:00",
          "2020-06-15T00:00:00",
          "2020-06-16T00:00:00",
          "2020-06-17T00:00:00",
          "2020-06-18T00:00:00",
          "2020-06-19T00:00:00",
          "2020-06-22T00:00:00",
          "2020-06-23T00:00:00",
          "2020-06-24T00:00:00",
          "2020-06-25T00:00:00",
          "2020-06-26T00:00:00",
          "2020-06-29T00:00:00",
          "2020-06-30T00:00:00",
          "2020-07-01T00:00:00",
          "2020-07-02T00:00:00",
          "2020-07-06T00:00:00",
          "2020-07-07T00:00:00",
          "2020-07-08T00:00:00",
          "2020-07-09T00:00:00",
          "2020-07-10T00:00:00",
          "2020-07-13T00:00:00",
          "2020-07-14T00:00:00",
          "2020-07-15T00:00:00",
          "2020-07-16T00:00:00",
          "2020-07-17T00:00:00",
          "2020-07-20T00:00:00",
          "2020-07-21T00:00:00",
          "2020-07-22T00:00:00",
          "2020-07-23T00:00:00",
          "2020-07-24T00:00:00",
          "2020-07-27T00:00:00",
          "2020-07-28T00:00:00",
          "2020-07-29T00:00:00",
          "2020-07-30T00:00:00",
          "2020-07-31T00:00:00",
          "2020-08-03T00:00:00",
          "2020-08-04T00:00:00",
          "2020-08-05T00:00:00",
          "2020-08-06T00:00:00",
          "2020-08-07T00:00:00",
          "2020-08-10T00:00:00",
          "2020-08-11T00:00:00",
          "2020-08-12T00:00:00",
          "2020-08-13T00:00:00",
          "2020-08-14T00:00:00",
          "2020-08-17T00:00:00",
          "2020-08-18T00:00:00",
          "2020-08-19T00:00:00",
          "2020-08-20T00:00:00",
          "2020-08-21T00:00:00",
          "2020-08-24T00:00:00",
          "2020-08-25T00:00:00",
          "2020-08-26T00:00:00",
          "2020-08-27T00:00:00",
          "2020-08-28T00:00:00",
          "2020-08-31T00:00:00",
          "2020-09-01T00:00:00",
          "2020-09-02T00:00:00",
          "2020-09-03T00:00:00",
          "2020-09-04T00:00:00",
          "2020-09-08T00:00:00",
          "2020-09-09T00:00:00",
          "2020-09-10T00:00:00",
          "2020-09-11T00:00:00",
          "2020-09-14T00:00:00",
          "2020-09-15T00:00:00",
          "2020-09-16T00:00:00",
          "2020-09-17T00:00:00",
          "2020-09-18T00:00:00",
          "2020-09-21T00:00:00",
          "2020-09-22T00:00:00",
          "2020-09-23T00:00:00",
          "2020-09-24T00:00:00",
          "2020-09-25T00:00:00",
          "2020-09-28T00:00:00",
          "2020-09-29T00:00:00",
          "2020-09-30T00:00:00",
          "2020-10-01T00:00:00",
          "2020-10-02T00:00:00",
          "2020-10-05T00:00:00",
          "2020-10-06T00:00:00",
          "2020-10-07T00:00:00",
          "2020-10-08T00:00:00",
          "2020-10-09T00:00:00",
          "2020-10-12T00:00:00",
          "2020-10-13T00:00:00",
          "2020-10-14T00:00:00",
          "2020-10-15T00:00:00",
          "2020-10-16T00:00:00",
          "2020-10-19T00:00:00",
          "2020-10-20T00:00:00",
          "2020-10-21T00:00:00",
          "2020-10-22T00:00:00",
          "2020-10-23T00:00:00",
          "2020-10-26T00:00:00",
          "2020-10-27T00:00:00",
          "2020-10-28T00:00:00",
          "2020-10-29T00:00:00",
          "2020-10-30T00:00:00",
          "2020-11-02T00:00:00",
          "2020-11-03T00:00:00",
          "2020-11-04T00:00:00",
          "2020-11-05T00:00:00",
          "2020-11-06T00:00:00",
          "2020-11-09T00:00:00",
          "2020-11-10T00:00:00",
          "2020-11-11T00:00:00",
          "2020-11-12T00:00:00",
          "2020-11-13T00:00:00",
          "2020-11-16T00:00:00",
          "2020-11-17T00:00:00",
          "2020-11-18T00:00:00",
          "2020-11-19T00:00:00",
          "2020-11-20T00:00:00",
          "2020-11-23T00:00:00",
          "2020-11-24T00:00:00",
          "2020-11-25T00:00:00",
          "2020-11-27T00:00:00",
          "2020-11-30T00:00:00",
          "2020-12-01T00:00:00",
          "2020-12-02T00:00:00",
          "2020-12-03T00:00:00",
          "2020-12-04T00:00:00",
          "2020-12-07T00:00:00",
          "2020-12-08T00:00:00",
          "2020-12-09T00:00:00",
          "2020-12-10T00:00:00",
          "2020-12-11T00:00:00",
          "2020-12-14T00:00:00",
          "2020-12-15T00:00:00",
          "2020-12-16T00:00:00",
          "2020-12-17T00:00:00",
          "2020-12-18T00:00:00",
          "2020-12-21T00:00:00",
          "2020-12-22T00:00:00",
          "2020-12-23T00:00:00",
          "2020-12-24T00:00:00",
          "2020-12-28T00:00:00",
          "2020-12-29T00:00:00",
          "2020-12-30T00:00:00",
          "2020-12-31T00:00:00",
          "2021-01-04T00:00:00",
          "2021-01-05T00:00:00",
          "2021-01-06T00:00:00",
          "2021-01-07T00:00:00",
          "2021-01-08T00:00:00",
          "2021-01-11T00:00:00",
          "2021-01-12T00:00:00",
          "2021-01-13T00:00:00",
          "2021-01-14T00:00:00",
          "2021-01-15T00:00:00",
          "2021-01-19T00:00:00",
          "2021-01-20T00:00:00",
          "2021-01-21T00:00:00",
          "2021-01-22T00:00:00",
          "2021-01-25T00:00:00",
          "2021-01-26T00:00:00",
          "2021-01-27T00:00:00",
          "2021-01-28T00:00:00",
          "2021-01-29T00:00:00",
          "2021-02-01T00:00:00",
          "2021-02-02T00:00:00",
          "2021-02-03T00:00:00",
          "2021-02-04T00:00:00",
          "2021-02-05T00:00:00",
          "2021-02-08T00:00:00",
          "2021-02-09T00:00:00",
          "2021-02-10T00:00:00",
          "2021-02-11T00:00:00",
          "2021-02-12T00:00:00"
         ],
         "xaxis": "x4",
         "y": [
          146.00999450683594,
          149.4199981689453,
          146.9600067138672,
          153.1300048828125,
          149.72999572753906,
          148.10000610351562,
          160.97999572753906,
          156.2100067138672,
          163.33999633789062,
          156.7899932861328,
          165.9499969482422,
          166.8000030517578,
          159.60000610351562,
          158.19000244140625,
          154.17999267578125,
          165.5500030517578,
          168.8300018310547,
          174.27999877929688,
          175.19000244140625,
          174.7899932861328,
          178.1699981689453,
          176.97000122070312,
          176.25,
          179.24000549316406,
          178.24000549316406,
          170.8000030517578,
          182.27999877929688,
          185.1300048828125,
          190.07000732421875,
          187.5,
          182.91000366210938,
          194.19000244140625,
          204.7100067138672,
          202.27000427246094,
          205.25999450683594,
          207.07000732421875,
          208.47000122070312,
          211.25999450683594,
          212.35000610351562,
          213.17999267578125,
          210.10000610351562,
          205.10000610351562,
          206.80999755859375,
          210.8800048828125,
          213.19000244140625,
          216.8800048828125,
          229.97000122070312,
          231.38999938964844,
          234.91000366210938,
          232.1999969482422,
          229.13999938964844,
          225.4600067138672,
          225.08999633789062,
          231.91000366210938,
          232.72000122070312,
          230.16000366210938,
          226.2899932861328,
          230.77000427246094,
          231.39999389648438,
          238.6699981689453,
          236.72999572753906,
          224.42999267578125,
          228.5800018310547,
          232.5,
          235.64999389648438,
          235.52999877929688,
          235.94000244140625,
          238.7899932861328,
          239.22000122070312,
          242.24000549316406,
          234.02000427246094,
          235.67999267578125,
          216.0800018310547,
          220.63999938964844,
          227.07000732421875,
          237.5500030517578,
          233.4199981689453,
          240.27999877929688,
          240.86000061035156,
          243.5800018310547,
          244.5,
          245.07000732421875,
          239,
          239.72999572753906,
          240.27999877929688,
          240.92999267578125,
          242.02999877929688,
          245.4199981689453,
          241.75,
          239.8699951171875,
          232.60000610351562,
          230.7100067138672,
          233.5,
          230.1199951171875,
          233.2899932861328,
          234.5,
          253.6699981689453,
          251.9600067138672,
          249.8300018310547,
          249.1199951171875,
          265.2799987792969,
          268.44000244140625,
          263,
          256.1300048828125,
          259.8900146484375,
          261.29998779296875,
          261.239990234375,
          261.1600036621094,
          262.3399963378906,
          262.5899963378906,
          269.010009765625,
          267.010009765625,
          271.3900146484375,
          280.82000732421875,
          303.9100036621094,
          293.2200012207031,
          293.6600036621094,
          293.20001220703125,
          295.44000244140625,
          302.5,
          291.1199951171875,
          282.7300109863281,
          271.1600036621094,
          273.7200012207031,
          268.0899963378906,
          266.6099853515625,
          266.1499938964844,
          272.4200134277344,
          263.5199890136719,
          254.82000732421875,
          252.52999877929688,
          248.14999389648438,
          254.75,
          249.02000427246094,
          249.52999877929688,
          254.82000732421875,
          256.82000732421875,
          261.7900085449219,
          261.8999938964844,
          266.6300048828125,
          259.94000244140625,
          264.6499938964844,
          258.6600036621094,
          258.1199951171875,
          263.760009765625,
          264.45001220703125,
          275.75,
          276.1400146484375,
          271.82000732421875,
          266.7200012207031,
          265.92999267578125,
          261.3999938964844,
          267.55999755859375,
          278.7300109863281,
          278.1199951171875,
          284.7900085449219,
          277.1099853515625,
          283.2900085449219,
          267.6700134277344,
          280.8299865722656,
          263.1099853515625,
          261.3599853515625,
          265.29998779296875,
          287.3800048828125,
          294.67999267578125,
          293.4100036621094,
          278.7699890136719,
          272.42999267578125,
          276.4800109863281,
          275.0799865722656,
          276.95001220703125,
          278.9599914550781,
          275,
          271.9700012207031,
          272.94000244140625,
          269.70001220703125,
          268.42999267578125,
          276.9200134277344,
          275.5899963378906,
          277.80999755859375,
          276.9700012207031,
          286.54998779296875,
          287.5199890136719,
          281.8500061035156,
          279.70001220703125,
          285.5799865722656,
          283.3999938964844,
          277.9200134277344,
          277.1199951171875,
          273.54998779296875,
          274.19000244140625,
          275.54998779296875,
          275.6700134277344,
          274.4800109863281,
          276.3999938964844,
          272.7900085449219,
          267.0899963378906,
          268.1099853515625,
          267.3999938964844,
          277,
          276.7799987792969,
          271.8699951171875,
          273.1600036621094,
          268.94000244140625,
          270.9700012207031,
          263.30999755859375,
          268.739990234375,
          267.57000732421875,
          256.8399963378906,
          251.08999633789062,
          251.63999938964844,
          245.63999938964844,
          251.36000061035156,
          261.1000061035156,
          267.4800109863281,
          272.8699951171875,
          274.5,
          278.010009765625,
          282.04998779296875,
          272.1400146484375,
          265,
          258.3299865722656,
          262.010009765625,
          267.0799865722656,
          266.6499938964844,
          266.489990234375,
          268.1000061035156,
          266.5799865722656,
          269.45001220703125,
          271.8699951171875,
          270.3900146484375,
          270.5
         ],
         "yaxis": "y4"
        },
        {
         "hovertemplate": "Symbols=AAPL<br>Date=%{x}<br>value=%{y}<extra></extra>",
         "legendgroup": "AAPL",
         "line": {
          "color": "#00cc96"
         },
         "mode": "lines",
         "name": "AAPL",
         "orientation": "v",
         "showlegend": true,
         "stackgroup": "1",
         "type": "scatter",
         "x": [
          "2020-03-16T00:00:00",
          "2020-03-17T00:00:00",
          "2020-03-18T00:00:00",
          "2020-03-19T00:00:00",
          "2020-03-20T00:00:00",
          "2020-03-23T00:00:00",
          "2020-03-24T00:00:00",
          "2020-03-25T00:00:00",
          "2020-03-26T00:00:00",
          "2020-03-27T00:00:00",
          "2020-03-30T00:00:00",
          "2020-03-31T00:00:00",
          "2020-04-01T00:00:00",
          "2020-04-02T00:00:00",
          "2020-04-03T00:00:00",
          "2020-04-06T00:00:00",
          "2020-04-07T00:00:00",
          "2020-04-08T00:00:00",
          "2020-04-09T00:00:00",
          "2020-04-13T00:00:00",
          "2020-04-14T00:00:00",
          "2020-04-15T00:00:00",
          "2020-04-16T00:00:00",
          "2020-04-17T00:00:00",
          "2020-04-20T00:00:00",
          "2020-04-21T00:00:00",
          "2020-04-22T00:00:00",
          "2020-04-23T00:00:00",
          "2020-04-24T00:00:00",
          "2020-04-27T00:00:00",
          "2020-04-28T00:00:00",
          "2020-04-29T00:00:00",
          "2020-04-30T00:00:00",
          "2020-05-01T00:00:00",
          "2020-05-04T00:00:00",
          "2020-05-05T00:00:00",
          "2020-05-06T00:00:00",
          "2020-05-07T00:00:00",
          "2020-05-08T00:00:00",
          "2020-05-11T00:00:00",
          "2020-05-12T00:00:00",
          "2020-05-13T00:00:00",
          "2020-05-14T00:00:00",
          "2020-05-15T00:00:00",
          "2020-05-18T00:00:00",
          "2020-05-19T00:00:00",
          "2020-05-20T00:00:00",
          "2020-05-21T00:00:00",
          "2020-05-22T00:00:00",
          "2020-05-26T00:00:00",
          "2020-05-27T00:00:00",
          "2020-05-28T00:00:00",
          "2020-05-29T00:00:00",
          "2020-06-01T00:00:00",
          "2020-06-02T00:00:00",
          "2020-06-03T00:00:00",
          "2020-06-04T00:00:00",
          "2020-06-05T00:00:00",
          "2020-06-08T00:00:00",
          "2020-06-09T00:00:00",
          "2020-06-10T00:00:00",
          "2020-06-11T00:00:00",
          "2020-06-12T00:00:00",
          "2020-06-15T00:00:00",
          "2020-06-16T00:00:00",
          "2020-06-17T00:00:00",
          "2020-06-18T00:00:00",
          "2020-06-19T00:00:00",
          "2020-06-22T00:00:00",
          "2020-06-23T00:00:00",
          "2020-06-24T00:00:00",
          "2020-06-25T00:00:00",
          "2020-06-26T00:00:00",
          "2020-06-29T00:00:00",
          "2020-06-30T00:00:00",
          "2020-07-01T00:00:00",
          "2020-07-02T00:00:00",
          "2020-07-06T00:00:00",
          "2020-07-07T00:00:00",
          "2020-07-08T00:00:00",
          "2020-07-09T00:00:00",
          "2020-07-10T00:00:00",
          "2020-07-13T00:00:00",
          "2020-07-14T00:00:00",
          "2020-07-15T00:00:00",
          "2020-07-16T00:00:00",
          "2020-07-17T00:00:00",
          "2020-07-20T00:00:00",
          "2020-07-21T00:00:00",
          "2020-07-22T00:00:00",
          "2020-07-23T00:00:00",
          "2020-07-24T00:00:00",
          "2020-07-27T00:00:00",
          "2020-07-28T00:00:00",
          "2020-07-29T00:00:00",
          "2020-07-30T00:00:00",
          "2020-07-31T00:00:00",
          "2020-08-03T00:00:00",
          "2020-08-04T00:00:00",
          "2020-08-05T00:00:00",
          "2020-08-06T00:00:00",
          "2020-08-07T00:00:00",
          "2020-08-10T00:00:00",
          "2020-08-11T00:00:00",
          "2020-08-12T00:00:00",
          "2020-08-13T00:00:00",
          "2020-08-14T00:00:00",
          "2020-08-17T00:00:00",
          "2020-08-18T00:00:00",
          "2020-08-19T00:00:00",
          "2020-08-20T00:00:00",
          "2020-08-21T00:00:00",
          "2020-08-24T00:00:00",
          "2020-08-25T00:00:00",
          "2020-08-26T00:00:00",
          "2020-08-27T00:00:00",
          "2020-08-28T00:00:00",
          "2020-08-31T00:00:00",
          "2020-09-01T00:00:00",
          "2020-09-02T00:00:00",
          "2020-09-03T00:00:00",
          "2020-09-04T00:00:00",
          "2020-09-08T00:00:00",
          "2020-09-09T00:00:00",
          "2020-09-10T00:00:00",
          "2020-09-11T00:00:00",
          "2020-09-14T00:00:00",
          "2020-09-15T00:00:00",
          "2020-09-16T00:00:00",
          "2020-09-17T00:00:00",
          "2020-09-18T00:00:00",
          "2020-09-21T00:00:00",
          "2020-09-22T00:00:00",
          "2020-09-23T00:00:00",
          "2020-09-24T00:00:00",
          "2020-09-25T00:00:00",
          "2020-09-28T00:00:00",
          "2020-09-29T00:00:00",
          "2020-09-30T00:00:00",
          "2020-10-01T00:00:00",
          "2020-10-02T00:00:00",
          "2020-10-05T00:00:00",
          "2020-10-06T00:00:00",
          "2020-10-07T00:00:00",
          "2020-10-08T00:00:00",
          "2020-10-09T00:00:00",
          "2020-10-12T00:00:00",
          "2020-10-13T00:00:00",
          "2020-10-14T00:00:00",
          "2020-10-15T00:00:00",
          "2020-10-16T00:00:00",
          "2020-10-19T00:00:00",
          "2020-10-20T00:00:00",
          "2020-10-21T00:00:00",
          "2020-10-22T00:00:00",
          "2020-10-23T00:00:00",
          "2020-10-26T00:00:00",
          "2020-10-27T00:00:00",
          "2020-10-28T00:00:00",
          "2020-10-29T00:00:00",
          "2020-10-30T00:00:00",
          "2020-11-02T00:00:00",
          "2020-11-03T00:00:00",
          "2020-11-04T00:00:00",
          "2020-11-05T00:00:00",
          "2020-11-06T00:00:00",
          "2020-11-09T00:00:00",
          "2020-11-10T00:00:00",
          "2020-11-11T00:00:00",
          "2020-11-12T00:00:00",
          "2020-11-13T00:00:00",
          "2020-11-16T00:00:00",
          "2020-11-17T00:00:00",
          "2020-11-18T00:00:00",
          "2020-11-19T00:00:00",
          "2020-11-20T00:00:00",
          "2020-11-23T00:00:00",
          "2020-11-24T00:00:00",
          "2020-11-25T00:00:00",
          "2020-11-27T00:00:00",
          "2020-11-30T00:00:00",
          "2020-12-01T00:00:00",
          "2020-12-02T00:00:00",
          "2020-12-03T00:00:00",
          "2020-12-04T00:00:00",
          "2020-12-07T00:00:00",
          "2020-12-08T00:00:00",
          "2020-12-09T00:00:00",
          "2020-12-10T00:00:00",
          "2020-12-11T00:00:00",
          "2020-12-14T00:00:00",
          "2020-12-15T00:00:00",
          "2020-12-16T00:00:00",
          "2020-12-17T00:00:00",
          "2020-12-18T00:00:00",
          "2020-12-21T00:00:00",
          "2020-12-22T00:00:00",
          "2020-12-23T00:00:00",
          "2020-12-24T00:00:00",
          "2020-12-28T00:00:00",
          "2020-12-29T00:00:00",
          "2020-12-30T00:00:00",
          "2020-12-31T00:00:00",
          "2021-01-04T00:00:00",
          "2021-01-05T00:00:00",
          "2021-01-06T00:00:00",
          "2021-01-07T00:00:00",
          "2021-01-08T00:00:00",
          "2021-01-11T00:00:00",
          "2021-01-12T00:00:00",
          "2021-01-13T00:00:00",
          "2021-01-14T00:00:00",
          "2021-01-15T00:00:00",
          "2021-01-19T00:00:00",
          "2021-01-20T00:00:00",
          "2021-01-21T00:00:00",
          "2021-01-22T00:00:00",
          "2021-01-25T00:00:00",
          "2021-01-26T00:00:00",
          "2021-01-27T00:00:00",
          "2021-01-28T00:00:00",
          "2021-01-29T00:00:00",
          "2021-02-01T00:00:00",
          "2021-02-02T00:00:00",
          "2021-02-03T00:00:00",
          "2021-02-04T00:00:00",
          "2021-02-05T00:00:00",
          "2021-02-08T00:00:00",
          "2021-02-09T00:00:00",
          "2021-02-10T00:00:00",
          "2021-02-11T00:00:00",
          "2021-02-12T00:00:00"
         ],
         "xaxis": "x",
         "y": [
          60.5525016784668,
          63.21500015258789,
          61.66749954223633,
          61.19499969482422,
          57.310001373291016,
          56.092498779296875,
          61.720001220703125,
          61.380001068115234,
          64.61000061035156,
          61.935001373291016,
          63.70249938964844,
          63.5724983215332,
          60.227500915527344,
          61.23249816894531,
          60.352500915527344,
          65.61750030517578,
          64.85749816894531,
          66.51750183105469,
          66.99749755859375,
          68.3125,
          71.76249694824219,
          71.10749816894531,
          71.67250061035156,
          70.69999694824219,
          69.23249816894531,
          67.09249877929688,
          69.0250015258789,
          68.75749969482422,
          70.74250030517578,
          70.7925033569336,
          69.6449966430664,
          71.93250274658203,
          73.44999694824219,
          72.26750183105469,
          73.29000091552734,
          74.38999938964844,
          75.15750122070312,
          75.93499755859375,
          77.53250122070312,
          78.75250244140625,
          77.85250091552734,
          76.9124984741211,
          77.38500213623047,
          76.92749786376953,
          78.73999786376953,
          78.28500366210938,
          79.80750274658203,
          79.2125015258789,
          79.72250366210938,
          79.18250274658203,
          79.52749633789062,
          79.5625,
          79.48500061035156,
          80.4625015258789,
          80.83499908447266,
          81.27999877929688,
          80.58000183105469,
          82.875,
          83.36499786376953,
          85.99749755859375,
          88.20999908447266,
          83.9749984741211,
          84.69999694824219,
          85.74749755859375,
          88.0199966430664,
          87.89749908447266,
          87.93250274658203,
          87.43000030517578,
          89.71749877929688,
          91.63249969482422,
          90.01499938964844,
          91.20999908447266,
          88.40750122070312,
          90.44499969482422,
          91.19999694824219,
          91.02749633789062,
          91.02749633789062,
          93.4625015258789,
          93.17250061035156,
          95.34249877929688,
          95.75250244140625,
          95.91999816894531,
          95.47750091552734,
          97.05750274658203,
          97.7249984741211,
          96.52249908447266,
          96.32749938964844,
          98.35749816894531,
          97,
          97.27249908447266,
          92.84500122070312,
          92.61499786376953,
          94.80999755859375,
          93.25250244140625,
          95.04000091552734,
          96.19000244140625,
          106.26000213623047,
          108.9375,
          109.66500091552734,
          110.0625,
          113.90249633789062,
          111.11250305175781,
          112.72750091552734,
          109.375,
          113.01000213623047,
          115.01000213623047,
          114.90750122070312,
          114.60749816894531,
          115.5625,
          115.7074966430664,
          118.2750015258789,
          124.37000274658203,
          125.85749816894531,
          124.82499694824219,
          126.52249908447266,
          125.01000213623047,
          124.80750274658203,
          129.0399932861328,
          134.17999267578125,
          131.39999389648438,
          120.87999725341797,
          120.95999908447266,
          112.81999969482422,
          117.31999969482422,
          113.48999786376953,
          112,
          115.36000061035156,
          115.54000091552734,
          112.12999725341797,
          110.33999633789062,
          106.83999633789062,
          110.08000183105469,
          111.80999755859375,
          107.12000274658203,
          108.22000122070312,
          112.27999877929688,
          114.95999908447266,
          114.08999633789062,
          115.80999755859375,
          116.79000091552734,
          113.0199966430664,
          116.5,
          113.16000366210938,
          115.08000183105469,
          114.97000122070312,
          116.97000122070312,
          124.4000015258789,
          121.0999984741211,
          121.19000244140625,
          120.70999908447266,
          119.0199966430664,
          115.9800033569336,
          117.51000213623047,
          116.87000274658203,
          115.75,
          115.04000091552734,
          115.05000305175781,
          116.5999984741211,
          111.19999694824219,
          115.31999969482422,
          108.86000061035156,
          108.7699966430664,
          110.44000244140625,
          114.94999694824219,
          119.02999877929688,
          118.69000244140625,
          116.31999969482422,
          115.97000122070312,
          119.48999786376953,
          119.20999908447266,
          119.26000213623047,
          120.30000305175781,
          119.38999938964844,
          118.02999877929688,
          118.63999938964844,
          117.33999633789062,
          113.8499984741211,
          115.16999816894531,
          116.02999877929688,
          116.58999633789062,
          119.05000305175781,
          122.72000122070312,
          123.08000183105469,
          122.94000244140625,
          122.25,
          123.75,
          124.37999725341797,
          121.77999877929688,
          123.23999786376953,
          122.41000366210938,
          121.77999877929688,
          127.87999725341797,
          127.80999755859375,
          128.6999969482422,
          126.66000366210938,
          128.22999572753906,
          131.8800048828125,
          130.9600067138672,
          131.97000122070312,
          136.69000244140625,
          134.8699951171875,
          133.72000122070312,
          132.69000244140625,
          129.41000366210938,
          131.00999450683594,
          126.5999984741211,
          130.9199981689453,
          132.0500030517578,
          128.97999572753906,
          128.8000030517578,
          130.88999938964844,
          128.91000366210938,
          127.13999938964844,
          127.83000183105469,
          132.02999877929688,
          136.8699951171875,
          139.07000732421875,
          142.9199981689453,
          143.16000366210938,
          142.05999755859375,
          137.08999633789062,
          131.9600067138672,
          134.13999938964844,
          134.99000549316406,
          133.94000244140625,
          137.38999938964844,
          136.75999450683594,
          136.91000366210938,
          136.00999450683594,
          135.38999938964844,
          135.1300048828125,
          135.3699951171875
         ],
         "yaxis": "y"
        },
        {
         "hovertemplate": "Symbols=MSFT<br>Date=%{x}<br>value=%{y}<extra></extra>",
         "legendgroup": "MSFT",
         "line": {
          "color": "#ab63fa"
         },
         "mode": "lines",
         "name": "MSFT",
         "orientation": "v",
         "showlegend": true,
         "stackgroup": "1",
         "type": "scatter",
         "x": [
          "2020-03-16T00:00:00",
          "2020-03-17T00:00:00",
          "2020-03-18T00:00:00",
          "2020-03-19T00:00:00",
          "2020-03-20T00:00:00",
          "2020-03-23T00:00:00",
          "2020-03-24T00:00:00",
          "2020-03-25T00:00:00",
          "2020-03-26T00:00:00",
          "2020-03-27T00:00:00",
          "2020-03-30T00:00:00",
          "2020-03-31T00:00:00",
          "2020-04-01T00:00:00",
          "2020-04-02T00:00:00",
          "2020-04-03T00:00:00",
          "2020-04-06T00:00:00",
          "2020-04-07T00:00:00",
          "2020-04-08T00:00:00",
          "2020-04-09T00:00:00",
          "2020-04-13T00:00:00",
          "2020-04-14T00:00:00",
          "2020-04-15T00:00:00",
          "2020-04-16T00:00:00",
          "2020-04-17T00:00:00",
          "2020-04-20T00:00:00",
          "2020-04-21T00:00:00",
          "2020-04-22T00:00:00",
          "2020-04-23T00:00:00",
          "2020-04-24T00:00:00",
          "2020-04-27T00:00:00",
          "2020-04-28T00:00:00",
          "2020-04-29T00:00:00",
          "2020-04-30T00:00:00",
          "2020-05-01T00:00:00",
          "2020-05-04T00:00:00",
          "2020-05-05T00:00:00",
          "2020-05-06T00:00:00",
          "2020-05-07T00:00:00",
          "2020-05-08T00:00:00",
          "2020-05-11T00:00:00",
          "2020-05-12T00:00:00",
          "2020-05-13T00:00:00",
          "2020-05-14T00:00:00",
          "2020-05-15T00:00:00",
          "2020-05-18T00:00:00",
          "2020-05-19T00:00:00",
          "2020-05-20T00:00:00",
          "2020-05-21T00:00:00",
          "2020-05-22T00:00:00",
          "2020-05-26T00:00:00",
          "2020-05-27T00:00:00",
          "2020-05-28T00:00:00",
          "2020-05-29T00:00:00",
          "2020-06-01T00:00:00",
          "2020-06-02T00:00:00",
          "2020-06-03T00:00:00",
          "2020-06-04T00:00:00",
          "2020-06-05T00:00:00",
          "2020-06-08T00:00:00",
          "2020-06-09T00:00:00",
          "2020-06-10T00:00:00",
          "2020-06-11T00:00:00",
          "2020-06-12T00:00:00",
          "2020-06-15T00:00:00",
          "2020-06-16T00:00:00",
          "2020-06-17T00:00:00",
          "2020-06-18T00:00:00",
          "2020-06-19T00:00:00",
          "2020-06-22T00:00:00",
          "2020-06-23T00:00:00",
          "2020-06-24T00:00:00",
          "2020-06-25T00:00:00",
          "2020-06-26T00:00:00",
          "2020-06-29T00:00:00",
          "2020-06-30T00:00:00",
          "2020-07-01T00:00:00",
          "2020-07-02T00:00:00",
          "2020-07-06T00:00:00",
          "2020-07-07T00:00:00",
          "2020-07-08T00:00:00",
          "2020-07-09T00:00:00",
          "2020-07-10T00:00:00",
          "2020-07-13T00:00:00",
          "2020-07-14T00:00:00",
          "2020-07-15T00:00:00",
          "2020-07-16T00:00:00",
          "2020-07-17T00:00:00",
          "2020-07-20T00:00:00",
          "2020-07-21T00:00:00",
          "2020-07-22T00:00:00",
          "2020-07-23T00:00:00",
          "2020-07-24T00:00:00",
          "2020-07-27T00:00:00",
          "2020-07-28T00:00:00",
          "2020-07-29T00:00:00",
          "2020-07-30T00:00:00",
          "2020-07-31T00:00:00",
          "2020-08-03T00:00:00",
          "2020-08-04T00:00:00",
          "2020-08-05T00:00:00",
          "2020-08-06T00:00:00",
          "2020-08-07T00:00:00",
          "2020-08-10T00:00:00",
          "2020-08-11T00:00:00",
          "2020-08-12T00:00:00",
          "2020-08-13T00:00:00",
          "2020-08-14T00:00:00",
          "2020-08-17T00:00:00",
          "2020-08-18T00:00:00",
          "2020-08-19T00:00:00",
          "2020-08-20T00:00:00",
          "2020-08-21T00:00:00",
          "2020-08-24T00:00:00",
          "2020-08-25T00:00:00",
          "2020-08-26T00:00:00",
          "2020-08-27T00:00:00",
          "2020-08-28T00:00:00",
          "2020-08-31T00:00:00",
          "2020-09-01T00:00:00",
          "2020-09-02T00:00:00",
          "2020-09-03T00:00:00",
          "2020-09-04T00:00:00",
          "2020-09-08T00:00:00",
          "2020-09-09T00:00:00",
          "2020-09-10T00:00:00",
          "2020-09-11T00:00:00",
          "2020-09-14T00:00:00",
          "2020-09-15T00:00:00",
          "2020-09-16T00:00:00",
          "2020-09-17T00:00:00",
          "2020-09-18T00:00:00",
          "2020-09-21T00:00:00",
          "2020-09-22T00:00:00",
          "2020-09-23T00:00:00",
          "2020-09-24T00:00:00",
          "2020-09-25T00:00:00",
          "2020-09-28T00:00:00",
          "2020-09-29T00:00:00",
          "2020-09-30T00:00:00",
          "2020-10-01T00:00:00",
          "2020-10-02T00:00:00",
          "2020-10-05T00:00:00",
          "2020-10-06T00:00:00",
          "2020-10-07T00:00:00",
          "2020-10-08T00:00:00",
          "2020-10-09T00:00:00",
          "2020-10-12T00:00:00",
          "2020-10-13T00:00:00",
          "2020-10-14T00:00:00",
          "2020-10-15T00:00:00",
          "2020-10-16T00:00:00",
          "2020-10-19T00:00:00",
          "2020-10-20T00:00:00",
          "2020-10-21T00:00:00",
          "2020-10-22T00:00:00",
          "2020-10-23T00:00:00",
          "2020-10-26T00:00:00",
          "2020-10-27T00:00:00",
          "2020-10-28T00:00:00",
          "2020-10-29T00:00:00",
          "2020-10-30T00:00:00",
          "2020-11-02T00:00:00",
          "2020-11-03T00:00:00",
          "2020-11-04T00:00:00",
          "2020-11-05T00:00:00",
          "2020-11-06T00:00:00",
          "2020-11-09T00:00:00",
          "2020-11-10T00:00:00",
          "2020-11-11T00:00:00",
          "2020-11-12T00:00:00",
          "2020-11-13T00:00:00",
          "2020-11-16T00:00:00",
          "2020-11-17T00:00:00",
          "2020-11-18T00:00:00",
          "2020-11-19T00:00:00",
          "2020-11-20T00:00:00",
          "2020-11-23T00:00:00",
          "2020-11-24T00:00:00",
          "2020-11-25T00:00:00",
          "2020-11-27T00:00:00",
          "2020-11-30T00:00:00",
          "2020-12-01T00:00:00",
          "2020-12-02T00:00:00",
          "2020-12-03T00:00:00",
          "2020-12-04T00:00:00",
          "2020-12-07T00:00:00",
          "2020-12-08T00:00:00",
          "2020-12-09T00:00:00",
          "2020-12-10T00:00:00",
          "2020-12-11T00:00:00",
          "2020-12-14T00:00:00",
          "2020-12-15T00:00:00",
          "2020-12-16T00:00:00",
          "2020-12-17T00:00:00",
          "2020-12-18T00:00:00",
          "2020-12-21T00:00:00",
          "2020-12-22T00:00:00",
          "2020-12-23T00:00:00",
          "2020-12-24T00:00:00",
          "2020-12-28T00:00:00",
          "2020-12-29T00:00:00",
          "2020-12-30T00:00:00",
          "2020-12-31T00:00:00",
          "2021-01-04T00:00:00",
          "2021-01-05T00:00:00",
          "2021-01-06T00:00:00",
          "2021-01-07T00:00:00",
          "2021-01-08T00:00:00",
          "2021-01-11T00:00:00",
          "2021-01-12T00:00:00",
          "2021-01-13T00:00:00",
          "2021-01-14T00:00:00",
          "2021-01-15T00:00:00",
          "2021-01-19T00:00:00",
          "2021-01-20T00:00:00",
          "2021-01-21T00:00:00",
          "2021-01-22T00:00:00",
          "2021-01-25T00:00:00",
          "2021-01-26T00:00:00",
          "2021-01-27T00:00:00",
          "2021-01-28T00:00:00",
          "2021-01-29T00:00:00",
          "2021-02-01T00:00:00",
          "2021-02-02T00:00:00",
          "2021-02-03T00:00:00",
          "2021-02-04T00:00:00",
          "2021-02-05T00:00:00",
          "2021-02-08T00:00:00",
          "2021-02-09T00:00:00",
          "2021-02-10T00:00:00",
          "2021-02-11T00:00:00",
          "2021-02-12T00:00:00"
         ],
         "xaxis": "x2",
         "y": [
          135.4199981689453,
          146.57000732421875,
          140.39999389648438,
          142.7100067138672,
          137.35000610351562,
          135.97999572753906,
          148.33999633789062,
          146.9199981689453,
          156.11000061035156,
          149.6999969482422,
          160.22999572753906,
          157.7100067138672,
          152.11000061035156,
          155.25999450683594,
          153.8300018310547,
          165.27000427246094,
          163.49000549316406,
          165.1300048828125,
          165.13999938964844,
          165.50999450683594,
          173.6999969482422,
          171.8800048828125,
          177.0399932861328,
          178.60000610351562,
          175.05999755859375,
          167.82000732421875,
          173.52000427246094,
          171.4199981689453,
          174.5500030517578,
          174.0500030517578,
          169.80999755859375,
          177.42999267578125,
          179.2100067138672,
          174.57000732421875,
          178.83999633789062,
          180.75999450683594,
          182.5399932861328,
          183.60000610351562,
          184.67999267578125,
          186.74000549316406,
          182.50999450683594,
          179.75,
          180.52999877929688,
          183.16000366210938,
          184.91000366210938,
          183.6300048828125,
          185.66000366210938,
          183.42999267578125,
          183.50999450683594,
          181.57000732421875,
          181.80999755859375,
          181.39999389648438,
          183.25,
          182.8300018310547,
          184.91000366210938,
          185.36000061035156,
          182.9199981689453,
          187.1999969482422,
          188.36000061035156,
          189.8000030517578,
          196.83999633789062,
          186.27000427246094,
          187.74000549316406,
          188.94000244140625,
          193.57000732421875,
          194.24000549316406,
          196.32000732421875,
          195.14999389648438,
          200.57000732421875,
          201.91000366210938,
          197.83999633789062,
          200.33999633789062,
          196.3300018310547,
          198.44000244140625,
          203.50999450683594,
          204.6999969482422,
          206.25999450683594,
          210.6999969482422,
          208.25,
          212.8300018310547,
          214.32000732421875,
          213.6699981689453,
          207.07000732421875,
          208.35000610351562,
          208.0399932861328,
          203.9199981689453,
          202.8800048828125,
          211.60000610351562,
          208.75,
          211.75,
          202.5399932861328,
          201.3000030517578,
          203.85000610351562,
          202.02000427246094,
          204.05999755859375,
          203.89999389648438,
          205.00999450683594,
          216.5399932861328,
          213.2899932861328,
          212.94000244140625,
          216.35000610351562,
          212.47999572753906,
          208.25,
          203.3800048828125,
          209.19000244140625,
          208.6999969482422,
          208.89999389648438,
          210.27999877929688,
          211.49000549316406,
          209.6999969482422,
          214.5800018310547,
          213.02000427246094,
          213.69000244140625,
          216.47000122070312,
          221.14999389648438,
          226.5800018310547,
          228.91000366210938,
          225.52999877929688,
          227.27000427246094,
          231.64999389648438,
          217.3000030517578,
          214.25,
          202.66000366210938,
          211.2899932861328,
          205.3699951171875,
          204.02999877929688,
          205.41000366210938,
          208.77999877929688,
          205.0500030517578,
          202.91000366210938,
          200.38999938964844,
          202.5399932861328,
          207.4199981689453,
          200.58999633789062,
          203.19000244140625,
          207.82000732421875,
          209.44000244140625,
          207.25999450683594,
          210.3300018310547,
          212.4600067138672,
          206.19000244140625,
          210.3800048828125,
          205.91000366210938,
          209.8300018310547,
          210.5800018310547,
          215.80999755859375,
          221.39999389648438,
          222.86000061035156,
          220.86000061035156,
          219.66000366210938,
          219.66000366210938,
          214.22000122070312,
          214.64999389648438,
          214.8000030517578,
          214.88999938964844,
          216.22999572753906,
          210.0800018310547,
          213.25,
          202.67999267578125,
          204.72000122070312,
          202.47000122070312,
          202.3300018310547,
          206.42999267578125,
          216.38999938964844,
          223.2899932861328,
          223.72000122070312,
          218.38999938964844,
          211.00999450683594,
          216.5500030517578,
          215.44000244140625,
          216.50999450683594,
          217.22999572753906,
          214.4600067138672,
          211.0800018310547,
          212.4199981689453,
          210.38999938964844,
          210.11000061035156,
          213.86000061035156,
          213.8699951171875,
          215.22999572753906,
          214.07000732421875,
          216.2100067138672,
          215.3699951171875,
          214.24000549316406,
          214.36000061035156,
          214.2899932861328,
          216.00999450683594,
          211.8000030517578,
          210.52000427246094,
          213.25999450683594,
          214.1999969482422,
          214.1300048828125,
          219.27999877929688,
          219.4199981689453,
          218.58999633789062,
          222.58999633789062,
          223.94000244140625,
          221.02000427246094,
          222.75,
          224.9600067138672,
          224.14999389648438,
          221.67999267578125,
          222.4199981689453,
          217.69000244140625,
          217.89999389648438,
          212.25,
          218.2899932861328,
          219.6199951171875,
          217.49000549316406,
          214.92999267578125,
          216.33999633789062,
          213.02000427246094,
          212.64999389648438,
          216.44000244140625,
          224.33999633789062,
          224.97000122070312,
          225.9499969482422,
          229.52999877929688,
          232.3300018310547,
          232.89999389648438,
          238.92999267578125,
          231.9600067138672,
          239.64999389648438,
          239.50999450683594,
          243,
          242.00999450683594,
          242.1999969482422,
          242.47000122070312,
          243.77000427246094,
          242.82000732421875,
          244.49000549316406,
          244.99000549316406
         ],
         "yaxis": "y2"
        }
       ],
       "layout": {
        "annotations": [
         {
          "font": {},
          "showarrow": false,
          "text": "Symbols=AAPL",
          "x": 0.245,
          "xanchor": "center",
          "xref": "paper",
          "y": 0.46499999999999997,
          "yanchor": "bottom",
          "yref": "paper"
         },
         {
          "font": {},
          "showarrow": false,
          "text": "Symbols=MSFT",
          "x": 0.755,
          "xanchor": "center",
          "xref": "paper",
          "y": 0.46499999999999997,
          "yanchor": "bottom",
          "yref": "paper"
         },
         {
          "font": {},
          "showarrow": false,
          "text": "Symbols=BABA",
          "x": 0.245,
          "xanchor": "center",
          "xref": "paper",
          "y": 0.9999999999999999,
          "yanchor": "bottom",
          "yref": "paper"
         },
         {
          "font": {},
          "showarrow": false,
          "text": "Symbols=FB",
          "x": 0.755,
          "xanchor": "center",
          "xref": "paper",
          "y": 0.9999999999999999,
          "yanchor": "bottom",
          "yref": "paper"
         }
        ],
        "legend": {
         "title": {
          "text": "Symbols"
         },
         "tracegroupgap": 0
        },
        "margin": {
         "t": 60
        },
        "template": {
         "data": {
          "bar": [
           {
            "error_x": {
             "color": "#f2f5fa"
            },
            "error_y": {
             "color": "#f2f5fa"
            },
            "marker": {
             "line": {
              "color": "rgb(17,17,17)",
              "width": 0.5
             }
            },
            "type": "bar"
           }
          ],
          "barpolar": [
           {
            "marker": {
             "line": {
              "color": "rgb(17,17,17)",
              "width": 0.5
             }
            },
            "type": "barpolar"
           }
          ],
          "carpet": [
           {
            "aaxis": {
             "endlinecolor": "#A2B1C6",
             "gridcolor": "#506784",
             "linecolor": "#506784",
             "minorgridcolor": "#506784",
             "startlinecolor": "#A2B1C6"
            },
            "baxis": {
             "endlinecolor": "#A2B1C6",
             "gridcolor": "#506784",
             "linecolor": "#506784",
             "minorgridcolor": "#506784",
             "startlinecolor": "#A2B1C6"
            },
            "type": "carpet"
           }
          ],
          "choropleth": [
           {
            "colorbar": {
             "outlinewidth": 0,
             "ticks": ""
            },
            "type": "choropleth"
           }
          ],
          "contour": [
           {
            "colorbar": {
             "outlinewidth": 0,
             "ticks": ""
            },
            "colorscale": [
             [
              0,
              "#0d0887"
             ],
             [
              0.1111111111111111,
              "#46039f"
             ],
             [
              0.2222222222222222,
              "#7201a8"
             ],
             [
              0.3333333333333333,
              "#9c179e"
             ],
             [
              0.4444444444444444,
              "#bd3786"
             ],
             [
              0.5555555555555556,
              "#d8576b"
             ],
             [
              0.6666666666666666,
              "#ed7953"
             ],
             [
              0.7777777777777778,
              "#fb9f3a"
             ],
             [
              0.8888888888888888,
              "#fdca26"
             ],
             [
              1,
              "#f0f921"
             ]
            ],
            "type": "contour"
           }
          ],
          "contourcarpet": [
           {
            "colorbar": {
             "outlinewidth": 0,
             "ticks": ""
            },
            "type": "contourcarpet"
           }
          ],
          "heatmap": [
           {
            "colorbar": {
             "outlinewidth": 0,
             "ticks": ""
            },
            "colorscale": [
             [
              0,
              "#0d0887"
             ],
             [
              0.1111111111111111,
              "#46039f"
             ],
             [
              0.2222222222222222,
              "#7201a8"
             ],
             [
              0.3333333333333333,
              "#9c179e"
             ],
             [
              0.4444444444444444,
              "#bd3786"
             ],
             [
              0.5555555555555556,
              "#d8576b"
             ],
             [
              0.6666666666666666,
              "#ed7953"
             ],
             [
              0.7777777777777778,
              "#fb9f3a"
             ],
             [
              0.8888888888888888,
              "#fdca26"
             ],
             [
              1,
              "#f0f921"
             ]
            ],
            "type": "heatmap"
           }
          ],
          "heatmapgl": [
           {
            "colorbar": {
             "outlinewidth": 0,
             "ticks": ""
            },
            "colorscale": [
             [
              0,
              "#0d0887"
             ],
             [
              0.1111111111111111,
              "#46039f"
             ],
             [
              0.2222222222222222,
              "#7201a8"
             ],
             [
              0.3333333333333333,
              "#9c179e"
             ],
             [
              0.4444444444444444,
              "#bd3786"
             ],
             [
              0.5555555555555556,
              "#d8576b"
             ],
             [
              0.6666666666666666,
              "#ed7953"
             ],
             [
              0.7777777777777778,
              "#fb9f3a"
             ],
             [
              0.8888888888888888,
              "#fdca26"
             ],
             [
              1,
              "#f0f921"
             ]
            ],
            "type": "heatmapgl"
           }
          ],
          "histogram": [
           {
            "marker": {
             "colorbar": {
              "outlinewidth": 0,
              "ticks": ""
             }
            },
            "type": "histogram"
           }
          ],
          "histogram2d": [
           {
            "colorbar": {
             "outlinewidth": 0,
             "ticks": ""
            },
            "colorscale": [
             [
              0,
              "#0d0887"
             ],
             [
              0.1111111111111111,
              "#46039f"
             ],
             [
              0.2222222222222222,
              "#7201a8"
             ],
             [
              0.3333333333333333,
              "#9c179e"
             ],
             [
              0.4444444444444444,
              "#bd3786"
             ],
             [
              0.5555555555555556,
              "#d8576b"
             ],
             [
              0.6666666666666666,
              "#ed7953"
             ],
             [
              0.7777777777777778,
              "#fb9f3a"
             ],
             [
              0.8888888888888888,
              "#fdca26"
             ],
             [
              1,
              "#f0f921"
             ]
            ],
            "type": "histogram2d"
           }
          ],
          "histogram2dcontour": [
           {
            "colorbar": {
             "outlinewidth": 0,
             "ticks": ""
            },
            "colorscale": [
             [
              0,
              "#0d0887"
             ],
             [
              0.1111111111111111,
              "#46039f"
             ],
             [
              0.2222222222222222,
              "#7201a8"
             ],
             [
              0.3333333333333333,
              "#9c179e"
             ],
             [
              0.4444444444444444,
              "#bd3786"
             ],
             [
              0.5555555555555556,
              "#d8576b"
             ],
             [
              0.6666666666666666,
              "#ed7953"
             ],
             [
              0.7777777777777778,
              "#fb9f3a"
             ],
             [
              0.8888888888888888,
              "#fdca26"
             ],
             [
              1,
              "#f0f921"
             ]
            ],
            "type": "histogram2dcontour"
           }
          ],
          "mesh3d": [
           {
            "colorbar": {
             "outlinewidth": 0,
             "ticks": ""
            },
            "type": "mesh3d"
           }
          ],
          "parcoords": [
           {
            "line": {
             "colorbar": {
              "outlinewidth": 0,
              "ticks": ""
             }
            },
            "type": "parcoords"
           }
          ],
          "pie": [
           {
            "automargin": true,
            "type": "pie"
           }
          ],
          "scatter": [
           {
            "marker": {
             "line": {
              "color": "#283442"
             }
            },
            "type": "scatter"
           }
          ],
          "scatter3d": [
           {
            "line": {
             "colorbar": {
              "outlinewidth": 0,
              "ticks": ""
             }
            },
            "marker": {
             "colorbar": {
              "outlinewidth": 0,
              "ticks": ""
             }
            },
            "type": "scatter3d"
           }
          ],
          "scattercarpet": [
           {
            "marker": {
             "colorbar": {
              "outlinewidth": 0,
              "ticks": ""
             }
            },
            "type": "scattercarpet"
           }
          ],
          "scattergeo": [
           {
            "marker": {
             "colorbar": {
              "outlinewidth": 0,
              "ticks": ""
             }
            },
            "type": "scattergeo"
           }
          ],
          "scattergl": [
           {
            "marker": {
             "line": {
              "color": "#283442"
             }
            },
            "type": "scattergl"
           }
          ],
          "scattermapbox": [
           {
            "marker": {
             "colorbar": {
              "outlinewidth": 0,
              "ticks": ""
             }
            },
            "type": "scattermapbox"
           }
          ],
          "scatterpolar": [
           {
            "marker": {
             "colorbar": {
              "outlinewidth": 0,
              "ticks": ""
             }
            },
            "type": "scatterpolar"
           }
          ],
          "scatterpolargl": [
           {
            "marker": {
             "colorbar": {
              "outlinewidth": 0,
              "ticks": ""
             }
            },
            "type": "scatterpolargl"
           }
          ],
          "scatterternary": [
           {
            "marker": {
             "colorbar": {
              "outlinewidth": 0,
              "ticks": ""
             }
            },
            "type": "scatterternary"
           }
          ],
          "surface": [
           {
            "colorbar": {
             "outlinewidth": 0,
             "ticks": ""
            },
            "colorscale": [
             [
              0,
              "#0d0887"
             ],
             [
              0.1111111111111111,
              "#46039f"
             ],
             [
              0.2222222222222222,
              "#7201a8"
             ],
             [
              0.3333333333333333,
              "#9c179e"
             ],
             [
              0.4444444444444444,
              "#bd3786"
             ],
             [
              0.5555555555555556,
              "#d8576b"
             ],
             [
              0.6666666666666666,
              "#ed7953"
             ],
             [
              0.7777777777777778,
              "#fb9f3a"
             ],
             [
              0.8888888888888888,
              "#fdca26"
             ],
             [
              1,
              "#f0f921"
             ]
            ],
            "type": "surface"
           }
          ],
          "table": [
           {
            "cells": {
             "fill": {
              "color": "#506784"
             },
             "line": {
              "color": "rgb(17,17,17)"
             }
            },
            "header": {
             "fill": {
              "color": "#2a3f5f"
             },
             "line": {
              "color": "rgb(17,17,17)"
             }
            },
            "type": "table"
           }
          ]
         },
         "layout": {
          "annotationdefaults": {
           "arrowcolor": "#f2f5fa",
           "arrowhead": 0,
           "arrowwidth": 1
          },
          "autotypenumbers": "strict",
          "coloraxis": {
           "colorbar": {
            "outlinewidth": 0,
            "ticks": ""
           }
          },
          "colorscale": {
           "diverging": [
            [
             0,
             "#8e0152"
            ],
            [
             0.1,
             "#c51b7d"
            ],
            [
             0.2,
             "#de77ae"
            ],
            [
             0.3,
             "#f1b6da"
            ],
            [
             0.4,
             "#fde0ef"
            ],
            [
             0.5,
             "#f7f7f7"
            ],
            [
             0.6,
             "#e6f5d0"
            ],
            [
             0.7,
             "#b8e186"
            ],
            [
             0.8,
             "#7fbc41"
            ],
            [
             0.9,
             "#4d9221"
            ],
            [
             1,
             "#276419"
            ]
           ],
           "sequential": [
            [
             0,
             "#0d0887"
            ],
            [
             0.1111111111111111,
             "#46039f"
            ],
            [
             0.2222222222222222,
             "#7201a8"
            ],
            [
             0.3333333333333333,
             "#9c179e"
            ],
            [
             0.4444444444444444,
             "#bd3786"
            ],
            [
             0.5555555555555556,
             "#d8576b"
            ],
            [
             0.6666666666666666,
             "#ed7953"
            ],
            [
             0.7777777777777778,
             "#fb9f3a"
            ],
            [
             0.8888888888888888,
             "#fdca26"
            ],
            [
             1,
             "#f0f921"
            ]
           ],
           "sequentialminus": [
            [
             0,
             "#0d0887"
            ],
            [
             0.1111111111111111,
             "#46039f"
            ],
            [
             0.2222222222222222,
             "#7201a8"
            ],
            [
             0.3333333333333333,
             "#9c179e"
            ],
            [
             0.4444444444444444,
             "#bd3786"
            ],
            [
             0.5555555555555556,
             "#d8576b"
            ],
            [
             0.6666666666666666,
             "#ed7953"
            ],
            [
             0.7777777777777778,
             "#fb9f3a"
            ],
            [
             0.8888888888888888,
             "#fdca26"
            ],
            [
             1,
             "#f0f921"
            ]
           ]
          },
          "colorway": [
           "#636efa",
           "#EF553B",
           "#00cc96",
           "#ab63fa",
           "#FFA15A",
           "#19d3f3",
           "#FF6692",
           "#B6E880",
           "#FF97FF",
           "#FECB52"
          ],
          "font": {
           "color": "#f2f5fa"
          },
          "geo": {
           "bgcolor": "rgb(17,17,17)",
           "lakecolor": "rgb(17,17,17)",
           "landcolor": "rgb(17,17,17)",
           "showlakes": true,
           "showland": true,
           "subunitcolor": "#506784"
          },
          "hoverlabel": {
           "align": "left"
          },
          "hovermode": "closest",
          "mapbox": {
           "style": "dark"
          },
          "paper_bgcolor": "rgb(17,17,17)",
          "plot_bgcolor": "rgb(17,17,17)",
          "polar": {
           "angularaxis": {
            "gridcolor": "#506784",
            "linecolor": "#506784",
            "ticks": ""
           },
           "bgcolor": "rgb(17,17,17)",
           "radialaxis": {
            "gridcolor": "#506784",
            "linecolor": "#506784",
            "ticks": ""
           }
          },
          "scene": {
           "xaxis": {
            "backgroundcolor": "rgb(17,17,17)",
            "gridcolor": "#506784",
            "gridwidth": 2,
            "linecolor": "#506784",
            "showbackground": true,
            "ticks": "",
            "zerolinecolor": "#C8D4E3"
           },
           "yaxis": {
            "backgroundcolor": "rgb(17,17,17)",
            "gridcolor": "#506784",
            "gridwidth": 2,
            "linecolor": "#506784",
            "showbackground": true,
            "ticks": "",
            "zerolinecolor": "#C8D4E3"
           },
           "zaxis": {
            "backgroundcolor": "rgb(17,17,17)",
            "gridcolor": "#506784",
            "gridwidth": 2,
            "linecolor": "#506784",
            "showbackground": true,
            "ticks": "",
            "zerolinecolor": "#C8D4E3"
           }
          },
          "shapedefaults": {
           "line": {
            "color": "#f2f5fa"
           }
          },
          "sliderdefaults": {
           "bgcolor": "#C8D4E3",
           "bordercolor": "rgb(17,17,17)",
           "borderwidth": 1,
           "tickwidth": 0
          },
          "ternary": {
           "aaxis": {
            "gridcolor": "#506784",
            "linecolor": "#506784",
            "ticks": ""
           },
           "baxis": {
            "gridcolor": "#506784",
            "linecolor": "#506784",
            "ticks": ""
           },
           "bgcolor": "rgb(17,17,17)",
           "caxis": {
            "gridcolor": "#506784",
            "linecolor": "#506784",
            "ticks": ""
           }
          },
          "title": {
           "x": 0.05
          },
          "updatemenudefaults": {
           "bgcolor": "#506784",
           "borderwidth": 0
          },
          "xaxis": {
           "automargin": true,
           "gridcolor": "#283442",
           "linecolor": "#506784",
           "ticks": "",
           "title": {
            "standoff": 15
           },
           "zerolinecolor": "#283442",
           "zerolinewidth": 2
          },
          "yaxis": {
           "automargin": true,
           "gridcolor": "#283442",
           "linecolor": "#506784",
           "ticks": "",
           "title": {
            "standoff": 15
           },
           "zerolinecolor": "#283442",
           "zerolinewidth": 2
          }
         }
        },
        "title": {
         "text": "Stock Prices",
         "x": 0.5,
         "xanchor": "center"
        },
        "xaxis": {
         "anchor": "y",
         "domain": [
          0,
          0.49
         ],
         "title": {
          "text": "Date"
         }
        },
        "xaxis2": {
         "anchor": "y2",
         "domain": [
          0.51,
          1
         ],
         "matches": "x",
         "title": {
          "text": "Date"
         }
        },
        "xaxis3": {
         "anchor": "y3",
         "domain": [
          0,
          0.49
         ],
         "matches": "x",
         "showticklabels": false
        },
        "xaxis4": {
         "anchor": "y4",
         "domain": [
          0.51,
          1
         ],
         "matches": "x",
         "showticklabels": false
        },
        "yaxis": {
         "anchor": "x",
         "domain": [
          0,
          0.46499999999999997
         ],
         "title": {
          "text": "value"
         }
        },
        "yaxis2": {
         "anchor": "x2",
         "domain": [
          0,
          0.46499999999999997
         ],
         "matches": "y",
         "showticklabels": false
        },
        "yaxis3": {
         "anchor": "x3",
         "domain": [
          0.5349999999999999,
          0.9999999999999999
         ],
         "matches": "y",
         "title": {
          "text": "value"
         }
        },
        "yaxis4": {
         "anchor": "x4",
         "domain": [
          0.5349999999999999,
          0.9999999999999999
         ],
         "matches": "y",
         "showticklabels": false
        }
       }
      },
      "text/html": [
       "<div>                            <div id=\"48ee1c9a-1ef4-42e2-9c4b-ab700494c666\" class=\"plotly-graph-div\" style=\"height:525px; width:100%;\"></div>            <script type=\"text/javascript\">                require([\"plotly\"], function(Plotly) {                    window.PLOTLYENV=window.PLOTLYENV || {};                                    if (document.getElementById(\"48ee1c9a-1ef4-42e2-9c4b-ab700494c666\")) {                    Plotly.newPlot(                        \"48ee1c9a-1ef4-42e2-9c4b-ab700494c666\",                        [{\"hovertemplate\": \"Symbols=BABA<br>Date=%{x}<br>value=%{y}<extra></extra>\", \"legendgroup\": \"BABA\", \"line\": {\"color\": \"#636efa\"}, \"mode\": \"lines\", \"name\": \"BABA\", \"orientation\": \"v\", \"showlegend\": true, \"stackgroup\": \"1\", \"type\": \"scatter\", \"x\": [\"2020-03-16T00:00:00\", \"2020-03-17T00:00:00\", \"2020-03-18T00:00:00\", \"2020-03-19T00:00:00\", \"2020-03-20T00:00:00\", \"2020-03-23T00:00:00\", \"2020-03-24T00:00:00\", \"2020-03-25T00:00:00\", \"2020-03-26T00:00:00\", \"2020-03-27T00:00:00\", \"2020-03-30T00:00:00\", \"2020-03-31T00:00:00\", \"2020-04-01T00:00:00\", \"2020-04-02T00:00:00\", \"2020-04-03T00:00:00\", \"2020-04-06T00:00:00\", \"2020-04-07T00:00:00\", \"2020-04-08T00:00:00\", \"2020-04-09T00:00:00\", \"2020-04-13T00:00:00\", \"2020-04-14T00:00:00\", \"2020-04-15T00:00:00\", \"2020-04-16T00:00:00\", \"2020-04-17T00:00:00\", \"2020-04-20T00:00:00\", \"2020-04-21T00:00:00\", \"2020-04-22T00:00:00\", \"2020-04-23T00:00:00\", \"2020-04-24T00:00:00\", \"2020-04-27T00:00:00\", \"2020-04-28T00:00:00\", \"2020-04-29T00:00:00\", \"2020-04-30T00:00:00\", \"2020-05-01T00:00:00\", \"2020-05-04T00:00:00\", \"2020-05-05T00:00:00\", \"2020-05-06T00:00:00\", \"2020-05-07T00:00:00\", \"2020-05-08T00:00:00\", \"2020-05-11T00:00:00\", \"2020-05-12T00:00:00\", \"2020-05-13T00:00:00\", \"2020-05-14T00:00:00\", \"2020-05-15T00:00:00\", \"2020-05-18T00:00:00\", \"2020-05-19T00:00:00\", \"2020-05-20T00:00:00\", \"2020-05-21T00:00:00\", \"2020-05-22T00:00:00\", \"2020-05-26T00:00:00\", \"2020-05-27T00:00:00\", \"2020-05-28T00:00:00\", \"2020-05-29T00:00:00\", \"2020-06-01T00:00:00\", \"2020-06-02T00:00:00\", \"2020-06-03T00:00:00\", \"2020-06-04T00:00:00\", \"2020-06-05T00:00:00\", \"2020-06-08T00:00:00\", \"2020-06-09T00:00:00\", \"2020-06-10T00:00:00\", \"2020-06-11T00:00:00\", \"2020-06-12T00:00:00\", \"2020-06-15T00:00:00\", \"2020-06-16T00:00:00\", \"2020-06-17T00:00:00\", \"2020-06-18T00:00:00\", \"2020-06-19T00:00:00\", \"2020-06-22T00:00:00\", \"2020-06-23T00:00:00\", \"2020-06-24T00:00:00\", \"2020-06-25T00:00:00\", \"2020-06-26T00:00:00\", \"2020-06-29T00:00:00\", \"2020-06-30T00:00:00\", \"2020-07-01T00:00:00\", \"2020-07-02T00:00:00\", \"2020-07-06T00:00:00\", \"2020-07-07T00:00:00\", \"2020-07-08T00:00:00\", \"2020-07-09T00:00:00\", \"2020-07-10T00:00:00\", \"2020-07-13T00:00:00\", \"2020-07-14T00:00:00\", \"2020-07-15T00:00:00\", \"2020-07-16T00:00:00\", \"2020-07-17T00:00:00\", \"2020-07-20T00:00:00\", \"2020-07-21T00:00:00\", \"2020-07-22T00:00:00\", \"2020-07-23T00:00:00\", \"2020-07-24T00:00:00\", \"2020-07-27T00:00:00\", \"2020-07-28T00:00:00\", \"2020-07-29T00:00:00\", \"2020-07-30T00:00:00\", \"2020-07-31T00:00:00\", \"2020-08-03T00:00:00\", \"2020-08-04T00:00:00\", \"2020-08-05T00:00:00\", \"2020-08-06T00:00:00\", \"2020-08-07T00:00:00\", \"2020-08-10T00:00:00\", \"2020-08-11T00:00:00\", \"2020-08-12T00:00:00\", \"2020-08-13T00:00:00\", \"2020-08-14T00:00:00\", \"2020-08-17T00:00:00\", \"2020-08-18T00:00:00\", \"2020-08-19T00:00:00\", \"2020-08-20T00:00:00\", \"2020-08-21T00:00:00\", \"2020-08-24T00:00:00\", \"2020-08-25T00:00:00\", \"2020-08-26T00:00:00\", \"2020-08-27T00:00:00\", \"2020-08-28T00:00:00\", \"2020-08-31T00:00:00\", \"2020-09-01T00:00:00\", \"2020-09-02T00:00:00\", \"2020-09-03T00:00:00\", \"2020-09-04T00:00:00\", \"2020-09-08T00:00:00\", \"2020-09-09T00:00:00\", \"2020-09-10T00:00:00\", \"2020-09-11T00:00:00\", \"2020-09-14T00:00:00\", \"2020-09-15T00:00:00\", \"2020-09-16T00:00:00\", \"2020-09-17T00:00:00\", \"2020-09-18T00:00:00\", \"2020-09-21T00:00:00\", \"2020-09-22T00:00:00\", \"2020-09-23T00:00:00\", \"2020-09-24T00:00:00\", \"2020-09-25T00:00:00\", \"2020-09-28T00:00:00\", \"2020-09-29T00:00:00\", \"2020-09-30T00:00:00\", \"2020-10-01T00:00:00\", \"2020-10-02T00:00:00\", \"2020-10-05T00:00:00\", \"2020-10-06T00:00:00\", \"2020-10-07T00:00:00\", \"2020-10-08T00:00:00\", \"2020-10-09T00:00:00\", \"2020-10-12T00:00:00\", \"2020-10-13T00:00:00\", \"2020-10-14T00:00:00\", \"2020-10-15T00:00:00\", \"2020-10-16T00:00:00\", \"2020-10-19T00:00:00\", \"2020-10-20T00:00:00\", \"2020-10-21T00:00:00\", \"2020-10-22T00:00:00\", \"2020-10-23T00:00:00\", \"2020-10-26T00:00:00\", \"2020-10-27T00:00:00\", \"2020-10-28T00:00:00\", \"2020-10-29T00:00:00\", \"2020-10-30T00:00:00\", \"2020-11-02T00:00:00\", \"2020-11-03T00:00:00\", \"2020-11-04T00:00:00\", \"2020-11-05T00:00:00\", \"2020-11-06T00:00:00\", \"2020-11-09T00:00:00\", \"2020-11-10T00:00:00\", \"2020-11-11T00:00:00\", \"2020-11-12T00:00:00\", \"2020-11-13T00:00:00\", \"2020-11-16T00:00:00\", \"2020-11-17T00:00:00\", \"2020-11-18T00:00:00\", \"2020-11-19T00:00:00\", \"2020-11-20T00:00:00\", \"2020-11-23T00:00:00\", \"2020-11-24T00:00:00\", \"2020-11-25T00:00:00\", \"2020-11-27T00:00:00\", \"2020-11-30T00:00:00\", \"2020-12-01T00:00:00\", \"2020-12-02T00:00:00\", \"2020-12-03T00:00:00\", \"2020-12-04T00:00:00\", \"2020-12-07T00:00:00\", \"2020-12-08T00:00:00\", \"2020-12-09T00:00:00\", \"2020-12-10T00:00:00\", \"2020-12-11T00:00:00\", \"2020-12-14T00:00:00\", \"2020-12-15T00:00:00\", \"2020-12-16T00:00:00\", \"2020-12-17T00:00:00\", \"2020-12-18T00:00:00\", \"2020-12-21T00:00:00\", \"2020-12-22T00:00:00\", \"2020-12-23T00:00:00\", \"2020-12-24T00:00:00\", \"2020-12-28T00:00:00\", \"2020-12-29T00:00:00\", \"2020-12-30T00:00:00\", \"2020-12-31T00:00:00\", \"2021-01-04T00:00:00\", \"2021-01-05T00:00:00\", \"2021-01-06T00:00:00\", \"2021-01-07T00:00:00\", \"2021-01-08T00:00:00\", \"2021-01-11T00:00:00\", \"2021-01-12T00:00:00\", \"2021-01-13T00:00:00\", \"2021-01-14T00:00:00\", \"2021-01-15T00:00:00\", \"2021-01-19T00:00:00\", \"2021-01-20T00:00:00\", \"2021-01-21T00:00:00\", \"2021-01-22T00:00:00\", \"2021-01-25T00:00:00\", \"2021-01-26T00:00:00\", \"2021-01-27T00:00:00\", \"2021-01-28T00:00:00\", \"2021-01-29T00:00:00\", \"2021-02-01T00:00:00\", \"2021-02-02T00:00:00\", \"2021-02-03T00:00:00\", \"2021-02-04T00:00:00\", \"2021-02-05T00:00:00\", \"2021-02-08T00:00:00\", \"2021-02-09T00:00:00\", \"2021-02-10T00:00:00\", \"2021-02-11T00:00:00\", \"2021-02-12T00:00:00\"], \"xaxis\": \"x3\", \"y\": [178.85000610351562, 184.80999755859375, 180.0, 180.8800048828125, 181.3000030517578, 176.33999633789062, 185.75, 188.55999755859375, 195.32000732421875, 188.58999633789062, 191.27000427246094, 194.47999572753906, 187.55999755859375, 188.89999389648438, 187.11000061035156, 196.4499969482422, 198.0, 195.97999572753906, 196.3699951171875, 199.44000244140625, 204.77999877929688, 208.1699981689453, 212.66000366210938, 209.5, 212.1300048828125, 207.33999633789062, 209.9600067138672, 205.24000549316406, 204.36000061035156, 203.69000244140625, 201.14999389648438, 206.6999969482422, 202.6699981689453, 194.47999572753906, 191.14999389648438, 195.02000427246094, 195.1699981689453, 196.49000549316406, 201.19000244140625, 205.39999389648438, 200.30999755859375, 199.4600067138672, 201.3000030517578, 203.67999267578125, 215.27999877929688, 217.1999969482422, 216.7899932861328, 212.16000366210938, 199.6999969482422, 201.72000122070312, 201.17999267578125, 199.49000549316406, 207.38999938964844, 206.57000732421875, 214.3300018310547, 218.61000061035156, 218.0399932861328, 219.5500030517578, 219.0, 220.72000122070312, 223.67999267578125, 215.24000549316406, 217.63999938964844, 217.02999877929688, 222.6199951171875, 224.25, 223.5399932861328, 220.63999938964844, 221.41000366210938, 228.75, 226.22000122070312, 222.16000366210938, 215.7100067138672, 215.02000427246094, 215.6999969482422, 215.9499969482422, 223.60000610351562, 240.0, 236.50999450683594, 257.67999267578125, 261.5799865722656, 261.010009765625, 251.6699981689453, 248.5800018310547, 249.2100067138672, 242.5, 247.13999938964844, 254.80999755859375, 257.8999938964844, 251.6999969482422, 251.8800048828125, 249.0, 250.86000061035156, 249.0500030517578, 252.4499969482422, 252.74000549316406, 251.02000427246094, 257.94000244140625, 262.20001220703125, 264.9100036621094, 265.67999267578125, 252.10000610351562, 248.1300048828125, 248.4199981689453, 255.19000244140625, 253.72000122070312, 253.97000122070312, 256.9599914550781, 259.20001220703125, 260.5899963378906, 257.9700012207031, 265.79998779296875, 276.0199890136719, 286.0, 291.9599914550781, 284.1700134277344, 289.0, 287.0299987792969, 298.0, 296.07000732421875, 282.5, 281.3900146484375, 270.0199890136719, 273.1499938964844, 267.54998779296875, 271.6099853515625, 274.1000061035156, 277.9599914550781, 278.1400146484375, 275.7200012207031, 272.4100036621094, 273.82000732421875, 275.2900085449219, 272.95001220703125, 269.7300109863281, 271.0899963378906, 276.010009765625, 276.92999267578125, 293.9800109863281, 290.04998779296875, 288.1700134277344, 288.2699890136719, 292.3900146484375, 296.5, 300.5400085449219, 299.739990234375, 306.3399963378906, 308.7799987792969, 301.0400085449219, 299.4599914550781, 307.30999755859375, 305.2900085449219, 309.80999755859375, 307.9700012207031, 306.2799987792969, 309.9200134277344, 306.8699951171875, 317.1400146484375, 307.94000244140625, 312.55999755859375, 304.69000244140625, 310.8399963378906, 285.57000732421875, 295.7099914550781, 287.75, 299.95001220703125, 290.5299987792969, 266.5400085449219, 265.6499938964844, 264.30999755859375, 260.8399963378906, 258.30999755859375, 256.79998779296875, 255.8300018310547, 259.8900146484375, 270.739990234375, 270.1099853515625, 279.9599914550781, 277.7200012207031, 276.4800109863281, 263.3599853515625, 264.010009765625, 261.32000732421875, 266.9100036621094, 267.25, 264.0, 266.0899963378906, 263.79998779296875, 264.8699951171875, 264.5400085449219, 256.0299987792969, 255.11000061035156, 261.8900146484375, 264.42999267578125, 260.0, 260.42999267578125, 255.8300018310547, 256.17999267578125, 222.0, 222.36000061035156, 236.25999450683594, 238.38999938964844, 232.72999572753906, 227.85000610351562, 240.39999389648438, 227.61000061035156, 226.89999389648438, 236.19000244140625, 227.3699951171875, 225.60000610351562, 235.3000030517578, 242.97999572753906, 243.4600067138672, 251.64999389648438, 265.489990234375, 260.0, 258.6199951171875, 261.3800048828125, 265.9200134277344, 260.25, 260.760009765625, 253.8300018310547, 264.69000244140625, 254.5, 263.42999267578125, 266.9599914550781, 265.6700134277344, 262.5899963378906, 266.489990234375, 267.7900085449219, 268.92999267578125, 267.8500061035156], \"yaxis\": \"y3\"}, {\"hovertemplate\": \"Symbols=FB<br>Date=%{x}<br>value=%{y}<extra></extra>\", \"legendgroup\": \"FB\", \"line\": {\"color\": \"#EF553B\"}, \"mode\": \"lines\", \"name\": \"FB\", \"orientation\": \"v\", \"showlegend\": true, \"stackgroup\": \"1\", \"type\": \"scatter\", \"x\": [\"2020-03-16T00:00:00\", \"2020-03-17T00:00:00\", \"2020-03-18T00:00:00\", \"2020-03-19T00:00:00\", \"2020-03-20T00:00:00\", \"2020-03-23T00:00:00\", \"2020-03-24T00:00:00\", \"2020-03-25T00:00:00\", \"2020-03-26T00:00:00\", \"2020-03-27T00:00:00\", \"2020-03-30T00:00:00\", \"2020-03-31T00:00:00\", \"2020-04-01T00:00:00\", \"2020-04-02T00:00:00\", \"2020-04-03T00:00:00\", \"2020-04-06T00:00:00\", \"2020-04-07T00:00:00\", \"2020-04-08T00:00:00\", \"2020-04-09T00:00:00\", \"2020-04-13T00:00:00\", \"2020-04-14T00:00:00\", \"2020-04-15T00:00:00\", \"2020-04-16T00:00:00\", \"2020-04-17T00:00:00\", \"2020-04-20T00:00:00\", \"2020-04-21T00:00:00\", \"2020-04-22T00:00:00\", \"2020-04-23T00:00:00\", \"2020-04-24T00:00:00\", \"2020-04-27T00:00:00\", \"2020-04-28T00:00:00\", \"2020-04-29T00:00:00\", \"2020-04-30T00:00:00\", \"2020-05-01T00:00:00\", \"2020-05-04T00:00:00\", \"2020-05-05T00:00:00\", \"2020-05-06T00:00:00\", \"2020-05-07T00:00:00\", \"2020-05-08T00:00:00\", \"2020-05-11T00:00:00\", \"2020-05-12T00:00:00\", \"2020-05-13T00:00:00\", \"2020-05-14T00:00:00\", \"2020-05-15T00:00:00\", \"2020-05-18T00:00:00\", \"2020-05-19T00:00:00\", \"2020-05-20T00:00:00\", \"2020-05-21T00:00:00\", \"2020-05-22T00:00:00\", \"2020-05-26T00:00:00\", \"2020-05-27T00:00:00\", \"2020-05-28T00:00:00\", \"2020-05-29T00:00:00\", \"2020-06-01T00:00:00\", \"2020-06-02T00:00:00\", \"2020-06-03T00:00:00\", \"2020-06-04T00:00:00\", \"2020-06-05T00:00:00\", \"2020-06-08T00:00:00\", \"2020-06-09T00:00:00\", \"2020-06-10T00:00:00\", \"2020-06-11T00:00:00\", \"2020-06-12T00:00:00\", \"2020-06-15T00:00:00\", \"2020-06-16T00:00:00\", \"2020-06-17T00:00:00\", \"2020-06-18T00:00:00\", \"2020-06-19T00:00:00\", \"2020-06-22T00:00:00\", \"2020-06-23T00:00:00\", \"2020-06-24T00:00:00\", \"2020-06-25T00:00:00\", \"2020-06-26T00:00:00\", \"2020-06-29T00:00:00\", \"2020-06-30T00:00:00\", \"2020-07-01T00:00:00\", \"2020-07-02T00:00:00\", \"2020-07-06T00:00:00\", \"2020-07-07T00:00:00\", \"2020-07-08T00:00:00\", \"2020-07-09T00:00:00\", \"2020-07-10T00:00:00\", \"2020-07-13T00:00:00\", \"2020-07-14T00:00:00\", \"2020-07-15T00:00:00\", \"2020-07-16T00:00:00\", \"2020-07-17T00:00:00\", \"2020-07-20T00:00:00\", \"2020-07-21T00:00:00\", \"2020-07-22T00:00:00\", \"2020-07-23T00:00:00\", \"2020-07-24T00:00:00\", \"2020-07-27T00:00:00\", \"2020-07-28T00:00:00\", \"2020-07-29T00:00:00\", \"2020-07-30T00:00:00\", \"2020-07-31T00:00:00\", \"2020-08-03T00:00:00\", \"2020-08-04T00:00:00\", \"2020-08-05T00:00:00\", \"2020-08-06T00:00:00\", \"2020-08-07T00:00:00\", \"2020-08-10T00:00:00\", \"2020-08-11T00:00:00\", \"2020-08-12T00:00:00\", \"2020-08-13T00:00:00\", \"2020-08-14T00:00:00\", \"2020-08-17T00:00:00\", \"2020-08-18T00:00:00\", \"2020-08-19T00:00:00\", \"2020-08-20T00:00:00\", \"2020-08-21T00:00:00\", \"2020-08-24T00:00:00\", \"2020-08-25T00:00:00\", \"2020-08-26T00:00:00\", \"2020-08-27T00:00:00\", \"2020-08-28T00:00:00\", \"2020-08-31T00:00:00\", \"2020-09-01T00:00:00\", \"2020-09-02T00:00:00\", \"2020-09-03T00:00:00\", \"2020-09-04T00:00:00\", \"2020-09-08T00:00:00\", \"2020-09-09T00:00:00\", \"2020-09-10T00:00:00\", \"2020-09-11T00:00:00\", \"2020-09-14T00:00:00\", \"2020-09-15T00:00:00\", \"2020-09-16T00:00:00\", \"2020-09-17T00:00:00\", \"2020-09-18T00:00:00\", \"2020-09-21T00:00:00\", \"2020-09-22T00:00:00\", \"2020-09-23T00:00:00\", \"2020-09-24T00:00:00\", \"2020-09-25T00:00:00\", \"2020-09-28T00:00:00\", \"2020-09-29T00:00:00\", \"2020-09-30T00:00:00\", \"2020-10-01T00:00:00\", \"2020-10-02T00:00:00\", \"2020-10-05T00:00:00\", \"2020-10-06T00:00:00\", \"2020-10-07T00:00:00\", \"2020-10-08T00:00:00\", \"2020-10-09T00:00:00\", \"2020-10-12T00:00:00\", \"2020-10-13T00:00:00\", \"2020-10-14T00:00:00\", \"2020-10-15T00:00:00\", \"2020-10-16T00:00:00\", \"2020-10-19T00:00:00\", \"2020-10-20T00:00:00\", \"2020-10-21T00:00:00\", \"2020-10-22T00:00:00\", \"2020-10-23T00:00:00\", \"2020-10-26T00:00:00\", \"2020-10-27T00:00:00\", \"2020-10-28T00:00:00\", \"2020-10-29T00:00:00\", \"2020-10-30T00:00:00\", \"2020-11-02T00:00:00\", \"2020-11-03T00:00:00\", \"2020-11-04T00:00:00\", \"2020-11-05T00:00:00\", \"2020-11-06T00:00:00\", \"2020-11-09T00:00:00\", \"2020-11-10T00:00:00\", \"2020-11-11T00:00:00\", \"2020-11-12T00:00:00\", \"2020-11-13T00:00:00\", \"2020-11-16T00:00:00\", \"2020-11-17T00:00:00\", \"2020-11-18T00:00:00\", \"2020-11-19T00:00:00\", \"2020-11-20T00:00:00\", \"2020-11-23T00:00:00\", \"2020-11-24T00:00:00\", \"2020-11-25T00:00:00\", \"2020-11-27T00:00:00\", \"2020-11-30T00:00:00\", \"2020-12-01T00:00:00\", \"2020-12-02T00:00:00\", \"2020-12-03T00:00:00\", \"2020-12-04T00:00:00\", \"2020-12-07T00:00:00\", \"2020-12-08T00:00:00\", \"2020-12-09T00:00:00\", \"2020-12-10T00:00:00\", \"2020-12-11T00:00:00\", \"2020-12-14T00:00:00\", \"2020-12-15T00:00:00\", \"2020-12-16T00:00:00\", \"2020-12-17T00:00:00\", \"2020-12-18T00:00:00\", \"2020-12-21T00:00:00\", \"2020-12-22T00:00:00\", \"2020-12-23T00:00:00\", \"2020-12-24T00:00:00\", \"2020-12-28T00:00:00\", \"2020-12-29T00:00:00\", \"2020-12-30T00:00:00\", \"2020-12-31T00:00:00\", \"2021-01-04T00:00:00\", \"2021-01-05T00:00:00\", \"2021-01-06T00:00:00\", \"2021-01-07T00:00:00\", \"2021-01-08T00:00:00\", \"2021-01-11T00:00:00\", \"2021-01-12T00:00:00\", \"2021-01-13T00:00:00\", \"2021-01-14T00:00:00\", \"2021-01-15T00:00:00\", \"2021-01-19T00:00:00\", \"2021-01-20T00:00:00\", \"2021-01-21T00:00:00\", \"2021-01-22T00:00:00\", \"2021-01-25T00:00:00\", \"2021-01-26T00:00:00\", \"2021-01-27T00:00:00\", \"2021-01-28T00:00:00\", \"2021-01-29T00:00:00\", \"2021-02-01T00:00:00\", \"2021-02-02T00:00:00\", \"2021-02-03T00:00:00\", \"2021-02-04T00:00:00\", \"2021-02-05T00:00:00\", \"2021-02-08T00:00:00\", \"2021-02-09T00:00:00\", \"2021-02-10T00:00:00\", \"2021-02-11T00:00:00\", \"2021-02-12T00:00:00\"], \"xaxis\": \"x4\", \"y\": [146.00999450683594, 149.4199981689453, 146.9600067138672, 153.1300048828125, 149.72999572753906, 148.10000610351562, 160.97999572753906, 156.2100067138672, 163.33999633789062, 156.7899932861328, 165.9499969482422, 166.8000030517578, 159.60000610351562, 158.19000244140625, 154.17999267578125, 165.5500030517578, 168.8300018310547, 174.27999877929688, 175.19000244140625, 174.7899932861328, 178.1699981689453, 176.97000122070312, 176.25, 179.24000549316406, 178.24000549316406, 170.8000030517578, 182.27999877929688, 185.1300048828125, 190.07000732421875, 187.5, 182.91000366210938, 194.19000244140625, 204.7100067138672, 202.27000427246094, 205.25999450683594, 207.07000732421875, 208.47000122070312, 211.25999450683594, 212.35000610351562, 213.17999267578125, 210.10000610351562, 205.10000610351562, 206.80999755859375, 210.8800048828125, 213.19000244140625, 216.8800048828125, 229.97000122070312, 231.38999938964844, 234.91000366210938, 232.1999969482422, 229.13999938964844, 225.4600067138672, 225.08999633789062, 231.91000366210938, 232.72000122070312, 230.16000366210938, 226.2899932861328, 230.77000427246094, 231.39999389648438, 238.6699981689453, 236.72999572753906, 224.42999267578125, 228.5800018310547, 232.5, 235.64999389648438, 235.52999877929688, 235.94000244140625, 238.7899932861328, 239.22000122070312, 242.24000549316406, 234.02000427246094, 235.67999267578125, 216.0800018310547, 220.63999938964844, 227.07000732421875, 237.5500030517578, 233.4199981689453, 240.27999877929688, 240.86000061035156, 243.5800018310547, 244.5, 245.07000732421875, 239.0, 239.72999572753906, 240.27999877929688, 240.92999267578125, 242.02999877929688, 245.4199981689453, 241.75, 239.8699951171875, 232.60000610351562, 230.7100067138672, 233.5, 230.1199951171875, 233.2899932861328, 234.5, 253.6699981689453, 251.9600067138672, 249.8300018310547, 249.1199951171875, 265.2799987792969, 268.44000244140625, 263.0, 256.1300048828125, 259.8900146484375, 261.29998779296875, 261.239990234375, 261.1600036621094, 262.3399963378906, 262.5899963378906, 269.010009765625, 267.010009765625, 271.3900146484375, 280.82000732421875, 303.9100036621094, 293.2200012207031, 293.6600036621094, 293.20001220703125, 295.44000244140625, 302.5, 291.1199951171875, 282.7300109863281, 271.1600036621094, 273.7200012207031, 268.0899963378906, 266.6099853515625, 266.1499938964844, 272.4200134277344, 263.5199890136719, 254.82000732421875, 252.52999877929688, 248.14999389648438, 254.75, 249.02000427246094, 249.52999877929688, 254.82000732421875, 256.82000732421875, 261.7900085449219, 261.8999938964844, 266.6300048828125, 259.94000244140625, 264.6499938964844, 258.6600036621094, 258.1199951171875, 263.760009765625, 264.45001220703125, 275.75, 276.1400146484375, 271.82000732421875, 266.7200012207031, 265.92999267578125, 261.3999938964844, 267.55999755859375, 278.7300109863281, 278.1199951171875, 284.7900085449219, 277.1099853515625, 283.2900085449219, 267.6700134277344, 280.8299865722656, 263.1099853515625, 261.3599853515625, 265.29998779296875, 287.3800048828125, 294.67999267578125, 293.4100036621094, 278.7699890136719, 272.42999267578125, 276.4800109863281, 275.0799865722656, 276.95001220703125, 278.9599914550781, 275.0, 271.9700012207031, 272.94000244140625, 269.70001220703125, 268.42999267578125, 276.9200134277344, 275.5899963378906, 277.80999755859375, 276.9700012207031, 286.54998779296875, 287.5199890136719, 281.8500061035156, 279.70001220703125, 285.5799865722656, 283.3999938964844, 277.9200134277344, 277.1199951171875, 273.54998779296875, 274.19000244140625, 275.54998779296875, 275.6700134277344, 274.4800109863281, 276.3999938964844, 272.7900085449219, 267.0899963378906, 268.1099853515625, 267.3999938964844, 277.0, 276.7799987792969, 271.8699951171875, 273.1600036621094, 268.94000244140625, 270.9700012207031, 263.30999755859375, 268.739990234375, 267.57000732421875, 256.8399963378906, 251.08999633789062, 251.63999938964844, 245.63999938964844, 251.36000061035156, 261.1000061035156, 267.4800109863281, 272.8699951171875, 274.5, 278.010009765625, 282.04998779296875, 272.1400146484375, 265.0, 258.3299865722656, 262.010009765625, 267.0799865722656, 266.6499938964844, 266.489990234375, 268.1000061035156, 266.5799865722656, 269.45001220703125, 271.8699951171875, 270.3900146484375, 270.5], \"yaxis\": \"y4\"}, {\"hovertemplate\": \"Symbols=AAPL<br>Date=%{x}<br>value=%{y}<extra></extra>\", \"legendgroup\": \"AAPL\", \"line\": {\"color\": \"#00cc96\"}, \"mode\": \"lines\", \"name\": \"AAPL\", \"orientation\": \"v\", \"showlegend\": true, \"stackgroup\": \"1\", \"type\": \"scatter\", \"x\": [\"2020-03-16T00:00:00\", \"2020-03-17T00:00:00\", \"2020-03-18T00:00:00\", \"2020-03-19T00:00:00\", \"2020-03-20T00:00:00\", \"2020-03-23T00:00:00\", \"2020-03-24T00:00:00\", \"2020-03-25T00:00:00\", \"2020-03-26T00:00:00\", \"2020-03-27T00:00:00\", \"2020-03-30T00:00:00\", \"2020-03-31T00:00:00\", \"2020-04-01T00:00:00\", \"2020-04-02T00:00:00\", \"2020-04-03T00:00:00\", \"2020-04-06T00:00:00\", \"2020-04-07T00:00:00\", \"2020-04-08T00:00:00\", \"2020-04-09T00:00:00\", \"2020-04-13T00:00:00\", \"2020-04-14T00:00:00\", \"2020-04-15T00:00:00\", \"2020-04-16T00:00:00\", \"2020-04-17T00:00:00\", \"2020-04-20T00:00:00\", \"2020-04-21T00:00:00\", \"2020-04-22T00:00:00\", \"2020-04-23T00:00:00\", \"2020-04-24T00:00:00\", \"2020-04-27T00:00:00\", \"2020-04-28T00:00:00\", \"2020-04-29T00:00:00\", \"2020-04-30T00:00:00\", \"2020-05-01T00:00:00\", \"2020-05-04T00:00:00\", \"2020-05-05T00:00:00\", \"2020-05-06T00:00:00\", \"2020-05-07T00:00:00\", \"2020-05-08T00:00:00\", \"2020-05-11T00:00:00\", \"2020-05-12T00:00:00\", \"2020-05-13T00:00:00\", \"2020-05-14T00:00:00\", \"2020-05-15T00:00:00\", \"2020-05-18T00:00:00\", \"2020-05-19T00:00:00\", \"2020-05-20T00:00:00\", \"2020-05-21T00:00:00\", \"2020-05-22T00:00:00\", \"2020-05-26T00:00:00\", \"2020-05-27T00:00:00\", \"2020-05-28T00:00:00\", \"2020-05-29T00:00:00\", \"2020-06-01T00:00:00\", \"2020-06-02T00:00:00\", \"2020-06-03T00:00:00\", \"2020-06-04T00:00:00\", \"2020-06-05T00:00:00\", \"2020-06-08T00:00:00\", \"2020-06-09T00:00:00\", \"2020-06-10T00:00:00\", \"2020-06-11T00:00:00\", \"2020-06-12T00:00:00\", \"2020-06-15T00:00:00\", \"2020-06-16T00:00:00\", \"2020-06-17T00:00:00\", \"2020-06-18T00:00:00\", \"2020-06-19T00:00:00\", \"2020-06-22T00:00:00\", \"2020-06-23T00:00:00\", \"2020-06-24T00:00:00\", \"2020-06-25T00:00:00\", \"2020-06-26T00:00:00\", \"2020-06-29T00:00:00\", \"2020-06-30T00:00:00\", \"2020-07-01T00:00:00\", \"2020-07-02T00:00:00\", \"2020-07-06T00:00:00\", \"2020-07-07T00:00:00\", \"2020-07-08T00:00:00\", \"2020-07-09T00:00:00\", \"2020-07-10T00:00:00\", \"2020-07-13T00:00:00\", \"2020-07-14T00:00:00\", \"2020-07-15T00:00:00\", \"2020-07-16T00:00:00\", \"2020-07-17T00:00:00\", \"2020-07-20T00:00:00\", \"2020-07-21T00:00:00\", \"2020-07-22T00:00:00\", \"2020-07-23T00:00:00\", \"2020-07-24T00:00:00\", \"2020-07-27T00:00:00\", \"2020-07-28T00:00:00\", \"2020-07-29T00:00:00\", \"2020-07-30T00:00:00\", \"2020-07-31T00:00:00\", \"2020-08-03T00:00:00\", \"2020-08-04T00:00:00\", \"2020-08-05T00:00:00\", \"2020-08-06T00:00:00\", \"2020-08-07T00:00:00\", \"2020-08-10T00:00:00\", \"2020-08-11T00:00:00\", \"2020-08-12T00:00:00\", \"2020-08-13T00:00:00\", \"2020-08-14T00:00:00\", \"2020-08-17T00:00:00\", \"2020-08-18T00:00:00\", \"2020-08-19T00:00:00\", \"2020-08-20T00:00:00\", \"2020-08-21T00:00:00\", \"2020-08-24T00:00:00\", \"2020-08-25T00:00:00\", \"2020-08-26T00:00:00\", \"2020-08-27T00:00:00\", \"2020-08-28T00:00:00\", \"2020-08-31T00:00:00\", \"2020-09-01T00:00:00\", \"2020-09-02T00:00:00\", \"2020-09-03T00:00:00\", \"2020-09-04T00:00:00\", \"2020-09-08T00:00:00\", \"2020-09-09T00:00:00\", \"2020-09-10T00:00:00\", \"2020-09-11T00:00:00\", \"2020-09-14T00:00:00\", \"2020-09-15T00:00:00\", \"2020-09-16T00:00:00\", \"2020-09-17T00:00:00\", \"2020-09-18T00:00:00\", \"2020-09-21T00:00:00\", \"2020-09-22T00:00:00\", \"2020-09-23T00:00:00\", \"2020-09-24T00:00:00\", \"2020-09-25T00:00:00\", \"2020-09-28T00:00:00\", \"2020-09-29T00:00:00\", \"2020-09-30T00:00:00\", \"2020-10-01T00:00:00\", \"2020-10-02T00:00:00\", \"2020-10-05T00:00:00\", \"2020-10-06T00:00:00\", \"2020-10-07T00:00:00\", \"2020-10-08T00:00:00\", \"2020-10-09T00:00:00\", \"2020-10-12T00:00:00\", \"2020-10-13T00:00:00\", \"2020-10-14T00:00:00\", \"2020-10-15T00:00:00\", \"2020-10-16T00:00:00\", \"2020-10-19T00:00:00\", \"2020-10-20T00:00:00\", \"2020-10-21T00:00:00\", \"2020-10-22T00:00:00\", \"2020-10-23T00:00:00\", \"2020-10-26T00:00:00\", \"2020-10-27T00:00:00\", \"2020-10-28T00:00:00\", \"2020-10-29T00:00:00\", \"2020-10-30T00:00:00\", \"2020-11-02T00:00:00\", \"2020-11-03T00:00:00\", \"2020-11-04T00:00:00\", \"2020-11-05T00:00:00\", \"2020-11-06T00:00:00\", \"2020-11-09T00:00:00\", \"2020-11-10T00:00:00\", \"2020-11-11T00:00:00\", \"2020-11-12T00:00:00\", \"2020-11-13T00:00:00\", \"2020-11-16T00:00:00\", \"2020-11-17T00:00:00\", \"2020-11-18T00:00:00\", \"2020-11-19T00:00:00\", \"2020-11-20T00:00:00\", \"2020-11-23T00:00:00\", \"2020-11-24T00:00:00\", \"2020-11-25T00:00:00\", \"2020-11-27T00:00:00\", \"2020-11-30T00:00:00\", \"2020-12-01T00:00:00\", \"2020-12-02T00:00:00\", \"2020-12-03T00:00:00\", \"2020-12-04T00:00:00\", \"2020-12-07T00:00:00\", \"2020-12-08T00:00:00\", \"2020-12-09T00:00:00\", \"2020-12-10T00:00:00\", \"2020-12-11T00:00:00\", \"2020-12-14T00:00:00\", \"2020-12-15T00:00:00\", \"2020-12-16T00:00:00\", \"2020-12-17T00:00:00\", \"2020-12-18T00:00:00\", \"2020-12-21T00:00:00\", \"2020-12-22T00:00:00\", \"2020-12-23T00:00:00\", \"2020-12-24T00:00:00\", \"2020-12-28T00:00:00\", \"2020-12-29T00:00:00\", \"2020-12-30T00:00:00\", \"2020-12-31T00:00:00\", \"2021-01-04T00:00:00\", \"2021-01-05T00:00:00\", \"2021-01-06T00:00:00\", \"2021-01-07T00:00:00\", \"2021-01-08T00:00:00\", \"2021-01-11T00:00:00\", \"2021-01-12T00:00:00\", \"2021-01-13T00:00:00\", \"2021-01-14T00:00:00\", \"2021-01-15T00:00:00\", \"2021-01-19T00:00:00\", \"2021-01-20T00:00:00\", \"2021-01-21T00:00:00\", \"2021-01-22T00:00:00\", \"2021-01-25T00:00:00\", \"2021-01-26T00:00:00\", \"2021-01-27T00:00:00\", \"2021-01-28T00:00:00\", \"2021-01-29T00:00:00\", \"2021-02-01T00:00:00\", \"2021-02-02T00:00:00\", \"2021-02-03T00:00:00\", \"2021-02-04T00:00:00\", \"2021-02-05T00:00:00\", \"2021-02-08T00:00:00\", \"2021-02-09T00:00:00\", \"2021-02-10T00:00:00\", \"2021-02-11T00:00:00\", \"2021-02-12T00:00:00\"], \"xaxis\": \"x\", \"y\": [60.5525016784668, 63.21500015258789, 61.66749954223633, 61.19499969482422, 57.310001373291016, 56.092498779296875, 61.720001220703125, 61.380001068115234, 64.61000061035156, 61.935001373291016, 63.70249938964844, 63.5724983215332, 60.227500915527344, 61.23249816894531, 60.352500915527344, 65.61750030517578, 64.85749816894531, 66.51750183105469, 66.99749755859375, 68.3125, 71.76249694824219, 71.10749816894531, 71.67250061035156, 70.69999694824219, 69.23249816894531, 67.09249877929688, 69.0250015258789, 68.75749969482422, 70.74250030517578, 70.7925033569336, 69.6449966430664, 71.93250274658203, 73.44999694824219, 72.26750183105469, 73.29000091552734, 74.38999938964844, 75.15750122070312, 75.93499755859375, 77.53250122070312, 78.75250244140625, 77.85250091552734, 76.9124984741211, 77.38500213623047, 76.92749786376953, 78.73999786376953, 78.28500366210938, 79.80750274658203, 79.2125015258789, 79.72250366210938, 79.18250274658203, 79.52749633789062, 79.5625, 79.48500061035156, 80.4625015258789, 80.83499908447266, 81.27999877929688, 80.58000183105469, 82.875, 83.36499786376953, 85.99749755859375, 88.20999908447266, 83.9749984741211, 84.69999694824219, 85.74749755859375, 88.0199966430664, 87.89749908447266, 87.93250274658203, 87.43000030517578, 89.71749877929688, 91.63249969482422, 90.01499938964844, 91.20999908447266, 88.40750122070312, 90.44499969482422, 91.19999694824219, 91.02749633789062, 91.02749633789062, 93.4625015258789, 93.17250061035156, 95.34249877929688, 95.75250244140625, 95.91999816894531, 95.47750091552734, 97.05750274658203, 97.7249984741211, 96.52249908447266, 96.32749938964844, 98.35749816894531, 97.0, 97.27249908447266, 92.84500122070312, 92.61499786376953, 94.80999755859375, 93.25250244140625, 95.04000091552734, 96.19000244140625, 106.26000213623047, 108.9375, 109.66500091552734, 110.0625, 113.90249633789062, 111.11250305175781, 112.72750091552734, 109.375, 113.01000213623047, 115.01000213623047, 114.90750122070312, 114.60749816894531, 115.5625, 115.7074966430664, 118.2750015258789, 124.37000274658203, 125.85749816894531, 124.82499694824219, 126.52249908447266, 125.01000213623047, 124.80750274658203, 129.0399932861328, 134.17999267578125, 131.39999389648438, 120.87999725341797, 120.95999908447266, 112.81999969482422, 117.31999969482422, 113.48999786376953, 112.0, 115.36000061035156, 115.54000091552734, 112.12999725341797, 110.33999633789062, 106.83999633789062, 110.08000183105469, 111.80999755859375, 107.12000274658203, 108.22000122070312, 112.27999877929688, 114.95999908447266, 114.08999633789062, 115.80999755859375, 116.79000091552734, 113.0199966430664, 116.5, 113.16000366210938, 115.08000183105469, 114.97000122070312, 116.97000122070312, 124.4000015258789, 121.0999984741211, 121.19000244140625, 120.70999908447266, 119.0199966430664, 115.9800033569336, 117.51000213623047, 116.87000274658203, 115.75, 115.04000091552734, 115.05000305175781, 116.5999984741211, 111.19999694824219, 115.31999969482422, 108.86000061035156, 108.7699966430664, 110.44000244140625, 114.94999694824219, 119.02999877929688, 118.69000244140625, 116.31999969482422, 115.97000122070312, 119.48999786376953, 119.20999908447266, 119.26000213623047, 120.30000305175781, 119.38999938964844, 118.02999877929688, 118.63999938964844, 117.33999633789062, 113.8499984741211, 115.16999816894531, 116.02999877929688, 116.58999633789062, 119.05000305175781, 122.72000122070312, 123.08000183105469, 122.94000244140625, 122.25, 123.75, 124.37999725341797, 121.77999877929688, 123.23999786376953, 122.41000366210938, 121.77999877929688, 127.87999725341797, 127.80999755859375, 128.6999969482422, 126.66000366210938, 128.22999572753906, 131.8800048828125, 130.9600067138672, 131.97000122070312, 136.69000244140625, 134.8699951171875, 133.72000122070312, 132.69000244140625, 129.41000366210938, 131.00999450683594, 126.5999984741211, 130.9199981689453, 132.0500030517578, 128.97999572753906, 128.8000030517578, 130.88999938964844, 128.91000366210938, 127.13999938964844, 127.83000183105469, 132.02999877929688, 136.8699951171875, 139.07000732421875, 142.9199981689453, 143.16000366210938, 142.05999755859375, 137.08999633789062, 131.9600067138672, 134.13999938964844, 134.99000549316406, 133.94000244140625, 137.38999938964844, 136.75999450683594, 136.91000366210938, 136.00999450683594, 135.38999938964844, 135.1300048828125, 135.3699951171875], \"yaxis\": \"y\"}, {\"hovertemplate\": \"Symbols=MSFT<br>Date=%{x}<br>value=%{y}<extra></extra>\", \"legendgroup\": \"MSFT\", \"line\": {\"color\": \"#ab63fa\"}, \"mode\": \"lines\", \"name\": \"MSFT\", \"orientation\": \"v\", \"showlegend\": true, \"stackgroup\": \"1\", \"type\": \"scatter\", \"x\": [\"2020-03-16T00:00:00\", \"2020-03-17T00:00:00\", \"2020-03-18T00:00:00\", \"2020-03-19T00:00:00\", \"2020-03-20T00:00:00\", \"2020-03-23T00:00:00\", \"2020-03-24T00:00:00\", \"2020-03-25T00:00:00\", \"2020-03-26T00:00:00\", \"2020-03-27T00:00:00\", \"2020-03-30T00:00:00\", \"2020-03-31T00:00:00\", \"2020-04-01T00:00:00\", \"2020-04-02T00:00:00\", \"2020-04-03T00:00:00\", \"2020-04-06T00:00:00\", \"2020-04-07T00:00:00\", \"2020-04-08T00:00:00\", \"2020-04-09T00:00:00\", \"2020-04-13T00:00:00\", \"2020-04-14T00:00:00\", \"2020-04-15T00:00:00\", \"2020-04-16T00:00:00\", \"2020-04-17T00:00:00\", \"2020-04-20T00:00:00\", \"2020-04-21T00:00:00\", \"2020-04-22T00:00:00\", \"2020-04-23T00:00:00\", \"2020-04-24T00:00:00\", \"2020-04-27T00:00:00\", \"2020-04-28T00:00:00\", \"2020-04-29T00:00:00\", \"2020-04-30T00:00:00\", \"2020-05-01T00:00:00\", \"2020-05-04T00:00:00\", \"2020-05-05T00:00:00\", \"2020-05-06T00:00:00\", \"2020-05-07T00:00:00\", \"2020-05-08T00:00:00\", \"2020-05-11T00:00:00\", \"2020-05-12T00:00:00\", \"2020-05-13T00:00:00\", \"2020-05-14T00:00:00\", \"2020-05-15T00:00:00\", \"2020-05-18T00:00:00\", \"2020-05-19T00:00:00\", \"2020-05-20T00:00:00\", \"2020-05-21T00:00:00\", \"2020-05-22T00:00:00\", \"2020-05-26T00:00:00\", \"2020-05-27T00:00:00\", \"2020-05-28T00:00:00\", \"2020-05-29T00:00:00\", \"2020-06-01T00:00:00\", \"2020-06-02T00:00:00\", \"2020-06-03T00:00:00\", \"2020-06-04T00:00:00\", \"2020-06-05T00:00:00\", \"2020-06-08T00:00:00\", \"2020-06-09T00:00:00\", \"2020-06-10T00:00:00\", \"2020-06-11T00:00:00\", \"2020-06-12T00:00:00\", \"2020-06-15T00:00:00\", \"2020-06-16T00:00:00\", \"2020-06-17T00:00:00\", \"2020-06-18T00:00:00\", \"2020-06-19T00:00:00\", \"2020-06-22T00:00:00\", \"2020-06-23T00:00:00\", \"2020-06-24T00:00:00\", \"2020-06-25T00:00:00\", \"2020-06-26T00:00:00\", \"2020-06-29T00:00:00\", \"2020-06-30T00:00:00\", \"2020-07-01T00:00:00\", \"2020-07-02T00:00:00\", \"2020-07-06T00:00:00\", \"2020-07-07T00:00:00\", \"2020-07-08T00:00:00\", \"2020-07-09T00:00:00\", \"2020-07-10T00:00:00\", \"2020-07-13T00:00:00\", \"2020-07-14T00:00:00\", \"2020-07-15T00:00:00\", \"2020-07-16T00:00:00\", \"2020-07-17T00:00:00\", \"2020-07-20T00:00:00\", \"2020-07-21T00:00:00\", \"2020-07-22T00:00:00\", \"2020-07-23T00:00:00\", \"2020-07-24T00:00:00\", \"2020-07-27T00:00:00\", \"2020-07-28T00:00:00\", \"2020-07-29T00:00:00\", \"2020-07-30T00:00:00\", \"2020-07-31T00:00:00\", \"2020-08-03T00:00:00\", \"2020-08-04T00:00:00\", \"2020-08-05T00:00:00\", \"2020-08-06T00:00:00\", \"2020-08-07T00:00:00\", \"2020-08-10T00:00:00\", \"2020-08-11T00:00:00\", \"2020-08-12T00:00:00\", \"2020-08-13T00:00:00\", \"2020-08-14T00:00:00\", \"2020-08-17T00:00:00\", \"2020-08-18T00:00:00\", \"2020-08-19T00:00:00\", \"2020-08-20T00:00:00\", \"2020-08-21T00:00:00\", \"2020-08-24T00:00:00\", \"2020-08-25T00:00:00\", \"2020-08-26T00:00:00\", \"2020-08-27T00:00:00\", \"2020-08-28T00:00:00\", \"2020-08-31T00:00:00\", \"2020-09-01T00:00:00\", \"2020-09-02T00:00:00\", \"2020-09-03T00:00:00\", \"2020-09-04T00:00:00\", \"2020-09-08T00:00:00\", \"2020-09-09T00:00:00\", \"2020-09-10T00:00:00\", \"2020-09-11T00:00:00\", \"2020-09-14T00:00:00\", \"2020-09-15T00:00:00\", \"2020-09-16T00:00:00\", \"2020-09-17T00:00:00\", \"2020-09-18T00:00:00\", \"2020-09-21T00:00:00\", \"2020-09-22T00:00:00\", \"2020-09-23T00:00:00\", \"2020-09-24T00:00:00\", \"2020-09-25T00:00:00\", \"2020-09-28T00:00:00\", \"2020-09-29T00:00:00\", \"2020-09-30T00:00:00\", \"2020-10-01T00:00:00\", \"2020-10-02T00:00:00\", \"2020-10-05T00:00:00\", \"2020-10-06T00:00:00\", \"2020-10-07T00:00:00\", \"2020-10-08T00:00:00\", \"2020-10-09T00:00:00\", \"2020-10-12T00:00:00\", \"2020-10-13T00:00:00\", \"2020-10-14T00:00:00\", \"2020-10-15T00:00:00\", \"2020-10-16T00:00:00\", \"2020-10-19T00:00:00\", \"2020-10-20T00:00:00\", \"2020-10-21T00:00:00\", \"2020-10-22T00:00:00\", \"2020-10-23T00:00:00\", \"2020-10-26T00:00:00\", \"2020-10-27T00:00:00\", \"2020-10-28T00:00:00\", \"2020-10-29T00:00:00\", \"2020-10-30T00:00:00\", \"2020-11-02T00:00:00\", \"2020-11-03T00:00:00\", \"2020-11-04T00:00:00\", \"2020-11-05T00:00:00\", \"2020-11-06T00:00:00\", \"2020-11-09T00:00:00\", \"2020-11-10T00:00:00\", \"2020-11-11T00:00:00\", \"2020-11-12T00:00:00\", \"2020-11-13T00:00:00\", \"2020-11-16T00:00:00\", \"2020-11-17T00:00:00\", \"2020-11-18T00:00:00\", \"2020-11-19T00:00:00\", \"2020-11-20T00:00:00\", \"2020-11-23T00:00:00\", \"2020-11-24T00:00:00\", \"2020-11-25T00:00:00\", \"2020-11-27T00:00:00\", \"2020-11-30T00:00:00\", \"2020-12-01T00:00:00\", \"2020-12-02T00:00:00\", \"2020-12-03T00:00:00\", \"2020-12-04T00:00:00\", \"2020-12-07T00:00:00\", \"2020-12-08T00:00:00\", \"2020-12-09T00:00:00\", \"2020-12-10T00:00:00\", \"2020-12-11T00:00:00\", \"2020-12-14T00:00:00\", \"2020-12-15T00:00:00\", \"2020-12-16T00:00:00\", \"2020-12-17T00:00:00\", \"2020-12-18T00:00:00\", \"2020-12-21T00:00:00\", \"2020-12-22T00:00:00\", \"2020-12-23T00:00:00\", \"2020-12-24T00:00:00\", \"2020-12-28T00:00:00\", \"2020-12-29T00:00:00\", \"2020-12-30T00:00:00\", \"2020-12-31T00:00:00\", \"2021-01-04T00:00:00\", \"2021-01-05T00:00:00\", \"2021-01-06T00:00:00\", \"2021-01-07T00:00:00\", \"2021-01-08T00:00:00\", \"2021-01-11T00:00:00\", \"2021-01-12T00:00:00\", \"2021-01-13T00:00:00\", \"2021-01-14T00:00:00\", \"2021-01-15T00:00:00\", \"2021-01-19T00:00:00\", \"2021-01-20T00:00:00\", \"2021-01-21T00:00:00\", \"2021-01-22T00:00:00\", \"2021-01-25T00:00:00\", \"2021-01-26T00:00:00\", \"2021-01-27T00:00:00\", \"2021-01-28T00:00:00\", \"2021-01-29T00:00:00\", \"2021-02-01T00:00:00\", \"2021-02-02T00:00:00\", \"2021-02-03T00:00:00\", \"2021-02-04T00:00:00\", \"2021-02-05T00:00:00\", \"2021-02-08T00:00:00\", \"2021-02-09T00:00:00\", \"2021-02-10T00:00:00\", \"2021-02-11T00:00:00\", \"2021-02-12T00:00:00\"], \"xaxis\": \"x2\", \"y\": [135.4199981689453, 146.57000732421875, 140.39999389648438, 142.7100067138672, 137.35000610351562, 135.97999572753906, 148.33999633789062, 146.9199981689453, 156.11000061035156, 149.6999969482422, 160.22999572753906, 157.7100067138672, 152.11000061035156, 155.25999450683594, 153.8300018310547, 165.27000427246094, 163.49000549316406, 165.1300048828125, 165.13999938964844, 165.50999450683594, 173.6999969482422, 171.8800048828125, 177.0399932861328, 178.60000610351562, 175.05999755859375, 167.82000732421875, 173.52000427246094, 171.4199981689453, 174.5500030517578, 174.0500030517578, 169.80999755859375, 177.42999267578125, 179.2100067138672, 174.57000732421875, 178.83999633789062, 180.75999450683594, 182.5399932861328, 183.60000610351562, 184.67999267578125, 186.74000549316406, 182.50999450683594, 179.75, 180.52999877929688, 183.16000366210938, 184.91000366210938, 183.6300048828125, 185.66000366210938, 183.42999267578125, 183.50999450683594, 181.57000732421875, 181.80999755859375, 181.39999389648438, 183.25, 182.8300018310547, 184.91000366210938, 185.36000061035156, 182.9199981689453, 187.1999969482422, 188.36000061035156, 189.8000030517578, 196.83999633789062, 186.27000427246094, 187.74000549316406, 188.94000244140625, 193.57000732421875, 194.24000549316406, 196.32000732421875, 195.14999389648438, 200.57000732421875, 201.91000366210938, 197.83999633789062, 200.33999633789062, 196.3300018310547, 198.44000244140625, 203.50999450683594, 204.6999969482422, 206.25999450683594, 210.6999969482422, 208.25, 212.8300018310547, 214.32000732421875, 213.6699981689453, 207.07000732421875, 208.35000610351562, 208.0399932861328, 203.9199981689453, 202.8800048828125, 211.60000610351562, 208.75, 211.75, 202.5399932861328, 201.3000030517578, 203.85000610351562, 202.02000427246094, 204.05999755859375, 203.89999389648438, 205.00999450683594, 216.5399932861328, 213.2899932861328, 212.94000244140625, 216.35000610351562, 212.47999572753906, 208.25, 203.3800048828125, 209.19000244140625, 208.6999969482422, 208.89999389648438, 210.27999877929688, 211.49000549316406, 209.6999969482422, 214.5800018310547, 213.02000427246094, 213.69000244140625, 216.47000122070312, 221.14999389648438, 226.5800018310547, 228.91000366210938, 225.52999877929688, 227.27000427246094, 231.64999389648438, 217.3000030517578, 214.25, 202.66000366210938, 211.2899932861328, 205.3699951171875, 204.02999877929688, 205.41000366210938, 208.77999877929688, 205.0500030517578, 202.91000366210938, 200.38999938964844, 202.5399932861328, 207.4199981689453, 200.58999633789062, 203.19000244140625, 207.82000732421875, 209.44000244140625, 207.25999450683594, 210.3300018310547, 212.4600067138672, 206.19000244140625, 210.3800048828125, 205.91000366210938, 209.8300018310547, 210.5800018310547, 215.80999755859375, 221.39999389648438, 222.86000061035156, 220.86000061035156, 219.66000366210938, 219.66000366210938, 214.22000122070312, 214.64999389648438, 214.8000030517578, 214.88999938964844, 216.22999572753906, 210.0800018310547, 213.25, 202.67999267578125, 204.72000122070312, 202.47000122070312, 202.3300018310547, 206.42999267578125, 216.38999938964844, 223.2899932861328, 223.72000122070312, 218.38999938964844, 211.00999450683594, 216.5500030517578, 215.44000244140625, 216.50999450683594, 217.22999572753906, 214.4600067138672, 211.0800018310547, 212.4199981689453, 210.38999938964844, 210.11000061035156, 213.86000061035156, 213.8699951171875, 215.22999572753906, 214.07000732421875, 216.2100067138672, 215.3699951171875, 214.24000549316406, 214.36000061035156, 214.2899932861328, 216.00999450683594, 211.8000030517578, 210.52000427246094, 213.25999450683594, 214.1999969482422, 214.1300048828125, 219.27999877929688, 219.4199981689453, 218.58999633789062, 222.58999633789062, 223.94000244140625, 221.02000427246094, 222.75, 224.9600067138672, 224.14999389648438, 221.67999267578125, 222.4199981689453, 217.69000244140625, 217.89999389648438, 212.25, 218.2899932861328, 219.6199951171875, 217.49000549316406, 214.92999267578125, 216.33999633789062, 213.02000427246094, 212.64999389648438, 216.44000244140625, 224.33999633789062, 224.97000122070312, 225.9499969482422, 229.52999877929688, 232.3300018310547, 232.89999389648438, 238.92999267578125, 231.9600067138672, 239.64999389648438, 239.50999450683594, 243.0, 242.00999450683594, 242.1999969482422, 242.47000122070312, 243.77000427246094, 242.82000732421875, 244.49000549316406, 244.99000549316406], \"yaxis\": \"y2\"}],                        {\"annotations\": [{\"font\": {}, \"showarrow\": false, \"text\": \"Symbols=AAPL\", \"x\": 0.245, \"xanchor\": \"center\", \"xref\": \"paper\", \"y\": 0.46499999999999997, \"yanchor\": \"bottom\", \"yref\": \"paper\"}, {\"font\": {}, \"showarrow\": false, \"text\": \"Symbols=MSFT\", \"x\": 0.755, \"xanchor\": \"center\", \"xref\": \"paper\", \"y\": 0.46499999999999997, \"yanchor\": \"bottom\", \"yref\": \"paper\"}, {\"font\": {}, \"showarrow\": false, \"text\": \"Symbols=BABA\", \"x\": 0.245, \"xanchor\": \"center\", \"xref\": \"paper\", \"y\": 0.9999999999999999, \"yanchor\": \"bottom\", \"yref\": \"paper\"}, {\"font\": {}, \"showarrow\": false, \"text\": \"Symbols=FB\", \"x\": 0.755, \"xanchor\": \"center\", \"xref\": \"paper\", \"y\": 0.9999999999999999, \"yanchor\": \"bottom\", \"yref\": \"paper\"}], \"legend\": {\"title\": {\"text\": \"Symbols\"}, \"tracegroupgap\": 0}, \"margin\": {\"t\": 60}, \"template\": {\"data\": {\"bar\": [{\"error_x\": {\"color\": \"#f2f5fa\"}, \"error_y\": {\"color\": \"#f2f5fa\"}, \"marker\": {\"line\": {\"color\": \"rgb(17,17,17)\", \"width\": 0.5}}, \"type\": \"bar\"}], \"barpolar\": [{\"marker\": {\"line\": {\"color\": \"rgb(17,17,17)\", \"width\": 0.5}}, \"type\": \"barpolar\"}], \"carpet\": [{\"aaxis\": {\"endlinecolor\": \"#A2B1C6\", \"gridcolor\": \"#506784\", \"linecolor\": \"#506784\", \"minorgridcolor\": \"#506784\", \"startlinecolor\": \"#A2B1C6\"}, \"baxis\": {\"endlinecolor\": \"#A2B1C6\", \"gridcolor\": \"#506784\", \"linecolor\": \"#506784\", \"minorgridcolor\": \"#506784\", \"startlinecolor\": \"#A2B1C6\"}, \"type\": \"carpet\"}], \"choropleth\": [{\"colorbar\": {\"outlinewidth\": 0, \"ticks\": \"\"}, \"type\": \"choropleth\"}], \"contour\": [{\"colorbar\": {\"outlinewidth\": 0, \"ticks\": \"\"}, \"colorscale\": [[0.0, \"#0d0887\"], [0.1111111111111111, \"#46039f\"], [0.2222222222222222, \"#7201a8\"], [0.3333333333333333, \"#9c179e\"], [0.4444444444444444, \"#bd3786\"], [0.5555555555555556, \"#d8576b\"], [0.6666666666666666, \"#ed7953\"], [0.7777777777777778, \"#fb9f3a\"], [0.8888888888888888, \"#fdca26\"], [1.0, \"#f0f921\"]], \"type\": \"contour\"}], \"contourcarpet\": [{\"colorbar\": {\"outlinewidth\": 0, \"ticks\": \"\"}, \"type\": \"contourcarpet\"}], \"heatmap\": [{\"colorbar\": {\"outlinewidth\": 0, \"ticks\": \"\"}, \"colorscale\": [[0.0, \"#0d0887\"], [0.1111111111111111, \"#46039f\"], [0.2222222222222222, \"#7201a8\"], [0.3333333333333333, \"#9c179e\"], [0.4444444444444444, \"#bd3786\"], [0.5555555555555556, \"#d8576b\"], [0.6666666666666666, \"#ed7953\"], [0.7777777777777778, \"#fb9f3a\"], [0.8888888888888888, \"#fdca26\"], [1.0, \"#f0f921\"]], \"type\": \"heatmap\"}], \"heatmapgl\": [{\"colorbar\": {\"outlinewidth\": 0, \"ticks\": \"\"}, \"colorscale\": [[0.0, \"#0d0887\"], [0.1111111111111111, \"#46039f\"], [0.2222222222222222, \"#7201a8\"], [0.3333333333333333, \"#9c179e\"], [0.4444444444444444, \"#bd3786\"], [0.5555555555555556, \"#d8576b\"], [0.6666666666666666, \"#ed7953\"], [0.7777777777777778, \"#fb9f3a\"], [0.8888888888888888, \"#fdca26\"], [1.0, \"#f0f921\"]], \"type\": \"heatmapgl\"}], \"histogram\": [{\"marker\": {\"colorbar\": {\"outlinewidth\": 0, \"ticks\": \"\"}}, \"type\": \"histogram\"}], \"histogram2d\": [{\"colorbar\": {\"outlinewidth\": 0, \"ticks\": \"\"}, \"colorscale\": [[0.0, \"#0d0887\"], [0.1111111111111111, \"#46039f\"], [0.2222222222222222, \"#7201a8\"], [0.3333333333333333, \"#9c179e\"], [0.4444444444444444, \"#bd3786\"], [0.5555555555555556, \"#d8576b\"], [0.6666666666666666, \"#ed7953\"], [0.7777777777777778, \"#fb9f3a\"], [0.8888888888888888, \"#fdca26\"], [1.0, \"#f0f921\"]], \"type\": \"histogram2d\"}], \"histogram2dcontour\": [{\"colorbar\": {\"outlinewidth\": 0, \"ticks\": \"\"}, \"colorscale\": [[0.0, \"#0d0887\"], [0.1111111111111111, \"#46039f\"], [0.2222222222222222, \"#7201a8\"], [0.3333333333333333, \"#9c179e\"], [0.4444444444444444, \"#bd3786\"], [0.5555555555555556, \"#d8576b\"], [0.6666666666666666, \"#ed7953\"], [0.7777777777777778, \"#fb9f3a\"], [0.8888888888888888, \"#fdca26\"], [1.0, \"#f0f921\"]], \"type\": \"histogram2dcontour\"}], \"mesh3d\": [{\"colorbar\": {\"outlinewidth\": 0, \"ticks\": \"\"}, \"type\": \"mesh3d\"}], \"parcoords\": [{\"line\": {\"colorbar\": {\"outlinewidth\": 0, \"ticks\": \"\"}}, \"type\": \"parcoords\"}], \"pie\": [{\"automargin\": true, \"type\": \"pie\"}], \"scatter\": [{\"marker\": {\"line\": {\"color\": \"#283442\"}}, \"type\": \"scatter\"}], \"scatter3d\": [{\"line\": {\"colorbar\": {\"outlinewidth\": 0, \"ticks\": \"\"}}, \"marker\": {\"colorbar\": {\"outlinewidth\": 0, \"ticks\": \"\"}}, \"type\": \"scatter3d\"}], \"scattercarpet\": [{\"marker\": {\"colorbar\": {\"outlinewidth\": 0, \"ticks\": \"\"}}, \"type\": \"scattercarpet\"}], \"scattergeo\": [{\"marker\": {\"colorbar\": {\"outlinewidth\": 0, \"ticks\": \"\"}}, \"type\": \"scattergeo\"}], \"scattergl\": [{\"marker\": {\"line\": {\"color\": \"#283442\"}}, \"type\": \"scattergl\"}], \"scattermapbox\": [{\"marker\": {\"colorbar\": {\"outlinewidth\": 0, \"ticks\": \"\"}}, \"type\": \"scattermapbox\"}], \"scatterpolar\": [{\"marker\": {\"colorbar\": {\"outlinewidth\": 0, \"ticks\": \"\"}}, \"type\": \"scatterpolar\"}], \"scatterpolargl\": [{\"marker\": {\"colorbar\": {\"outlinewidth\": 0, \"ticks\": \"\"}}, \"type\": \"scatterpolargl\"}], \"scatterternary\": [{\"marker\": {\"colorbar\": {\"outlinewidth\": 0, \"ticks\": \"\"}}, \"type\": \"scatterternary\"}], \"surface\": [{\"colorbar\": {\"outlinewidth\": 0, \"ticks\": \"\"}, \"colorscale\": [[0.0, \"#0d0887\"], [0.1111111111111111, \"#46039f\"], [0.2222222222222222, \"#7201a8\"], [0.3333333333333333, \"#9c179e\"], [0.4444444444444444, \"#bd3786\"], [0.5555555555555556, \"#d8576b\"], [0.6666666666666666, \"#ed7953\"], [0.7777777777777778, \"#fb9f3a\"], [0.8888888888888888, \"#fdca26\"], [1.0, \"#f0f921\"]], \"type\": \"surface\"}], \"table\": [{\"cells\": {\"fill\": {\"color\": \"#506784\"}, \"line\": {\"color\": \"rgb(17,17,17)\"}}, \"header\": {\"fill\": {\"color\": \"#2a3f5f\"}, \"line\": {\"color\": \"rgb(17,17,17)\"}}, \"type\": \"table\"}]}, \"layout\": {\"annotationdefaults\": {\"arrowcolor\": \"#f2f5fa\", \"arrowhead\": 0, \"arrowwidth\": 1}, \"autotypenumbers\": \"strict\", \"coloraxis\": {\"colorbar\": {\"outlinewidth\": 0, \"ticks\": \"\"}}, \"colorscale\": {\"diverging\": [[0, \"#8e0152\"], [0.1, \"#c51b7d\"], [0.2, \"#de77ae\"], [0.3, \"#f1b6da\"], [0.4, \"#fde0ef\"], [0.5, \"#f7f7f7\"], [0.6, \"#e6f5d0\"], [0.7, \"#b8e186\"], [0.8, \"#7fbc41\"], [0.9, \"#4d9221\"], [1, \"#276419\"]], \"sequential\": [[0.0, \"#0d0887\"], [0.1111111111111111, \"#46039f\"], [0.2222222222222222, \"#7201a8\"], [0.3333333333333333, \"#9c179e\"], [0.4444444444444444, \"#bd3786\"], [0.5555555555555556, \"#d8576b\"], [0.6666666666666666, \"#ed7953\"], [0.7777777777777778, \"#fb9f3a\"], [0.8888888888888888, \"#fdca26\"], [1.0, \"#f0f921\"]], \"sequentialminus\": [[0.0, \"#0d0887\"], [0.1111111111111111, \"#46039f\"], [0.2222222222222222, \"#7201a8\"], [0.3333333333333333, \"#9c179e\"], [0.4444444444444444, \"#bd3786\"], [0.5555555555555556, \"#d8576b\"], [0.6666666666666666, \"#ed7953\"], [0.7777777777777778, \"#fb9f3a\"], [0.8888888888888888, \"#fdca26\"], [1.0, \"#f0f921\"]]}, \"colorway\": [\"#636efa\", \"#EF553B\", \"#00cc96\", \"#ab63fa\", \"#FFA15A\", \"#19d3f3\", \"#FF6692\", \"#B6E880\", \"#FF97FF\", \"#FECB52\"], \"font\": {\"color\": \"#f2f5fa\"}, \"geo\": {\"bgcolor\": \"rgb(17,17,17)\", \"lakecolor\": \"rgb(17,17,17)\", \"landcolor\": \"rgb(17,17,17)\", \"showlakes\": true, \"showland\": true, \"subunitcolor\": \"#506784\"}, \"hoverlabel\": {\"align\": \"left\"}, \"hovermode\": \"closest\", \"mapbox\": {\"style\": \"dark\"}, \"paper_bgcolor\": \"rgb(17,17,17)\", \"plot_bgcolor\": \"rgb(17,17,17)\", \"polar\": {\"angularaxis\": {\"gridcolor\": \"#506784\", \"linecolor\": \"#506784\", \"ticks\": \"\"}, \"bgcolor\": \"rgb(17,17,17)\", \"radialaxis\": {\"gridcolor\": \"#506784\", \"linecolor\": \"#506784\", \"ticks\": \"\"}}, \"scene\": {\"xaxis\": {\"backgroundcolor\": \"rgb(17,17,17)\", \"gridcolor\": \"#506784\", \"gridwidth\": 2, \"linecolor\": \"#506784\", \"showbackground\": true, \"ticks\": \"\", \"zerolinecolor\": \"#C8D4E3\"}, \"yaxis\": {\"backgroundcolor\": \"rgb(17,17,17)\", \"gridcolor\": \"#506784\", \"gridwidth\": 2, \"linecolor\": \"#506784\", \"showbackground\": true, \"ticks\": \"\", \"zerolinecolor\": \"#C8D4E3\"}, \"zaxis\": {\"backgroundcolor\": \"rgb(17,17,17)\", \"gridcolor\": \"#506784\", \"gridwidth\": 2, \"linecolor\": \"#506784\", \"showbackground\": true, \"ticks\": \"\", \"zerolinecolor\": \"#C8D4E3\"}}, \"shapedefaults\": {\"line\": {\"color\": \"#f2f5fa\"}}, \"sliderdefaults\": {\"bgcolor\": \"#C8D4E3\", \"bordercolor\": \"rgb(17,17,17)\", \"borderwidth\": 1, \"tickwidth\": 0}, \"ternary\": {\"aaxis\": {\"gridcolor\": \"#506784\", \"linecolor\": \"#506784\", \"ticks\": \"\"}, \"baxis\": {\"gridcolor\": \"#506784\", \"linecolor\": \"#506784\", \"ticks\": \"\"}, \"bgcolor\": \"rgb(17,17,17)\", \"caxis\": {\"gridcolor\": \"#506784\", \"linecolor\": \"#506784\", \"ticks\": \"\"}}, \"title\": {\"x\": 0.05}, \"updatemenudefaults\": {\"bgcolor\": \"#506784\", \"borderwidth\": 0}, \"xaxis\": {\"automargin\": true, \"gridcolor\": \"#283442\", \"linecolor\": \"#506784\", \"ticks\": \"\", \"title\": {\"standoff\": 15}, \"zerolinecolor\": \"#283442\", \"zerolinewidth\": 2}, \"yaxis\": {\"automargin\": true, \"gridcolor\": \"#283442\", \"linecolor\": \"#506784\", \"ticks\": \"\", \"title\": {\"standoff\": 15}, \"zerolinecolor\": \"#283442\", \"zerolinewidth\": 2}}}, \"title\": {\"text\": \"Stock Prices\", \"x\": 0.5, \"xanchor\": \"center\"}, \"xaxis\": {\"anchor\": \"y\", \"domain\": [0.0, 0.49], \"title\": {\"text\": \"Date\"}}, \"xaxis2\": {\"anchor\": \"y2\", \"domain\": [0.51, 1.0], \"matches\": \"x\", \"title\": {\"text\": \"Date\"}}, \"xaxis3\": {\"anchor\": \"y3\", \"domain\": [0.0, 0.49], \"matches\": \"x\", \"showticklabels\": false}, \"xaxis4\": {\"anchor\": \"y4\", \"domain\": [0.51, 1.0], \"matches\": \"x\", \"showticklabels\": false}, \"yaxis\": {\"anchor\": \"x\", \"domain\": [0.0, 0.46499999999999997], \"title\": {\"text\": \"value\"}}, \"yaxis2\": {\"anchor\": \"x2\", \"domain\": [0.0, 0.46499999999999997], \"matches\": \"y\", \"showticklabels\": false}, \"yaxis3\": {\"anchor\": \"x3\", \"domain\": [0.5349999999999999, 0.9999999999999999], \"matches\": \"y\", \"title\": {\"text\": \"value\"}}, \"yaxis4\": {\"anchor\": \"x4\", \"domain\": [0.5349999999999999, 0.9999999999999999], \"matches\": \"y\", \"showticklabels\": false}},                        {\"responsive\": true}                    ).then(function(){\n",
       "                            \n",
       "var gd = document.getElementById('48ee1c9a-1ef4-42e2-9c4b-ab700494c666');\n",
       "var x = new MutationObserver(function (mutations, observer) {{\n",
       "        var display = window.getComputedStyle(gd).display;\n",
       "        if (!display || display === 'none') {{\n",
       "            console.log([gd, 'removed!']);\n",
       "            Plotly.purge(gd);\n",
       "            observer.disconnect();\n",
       "        }}\n",
       "}});\n",
       "\n",
       "// Listen for the removal of the full notebook cells\n",
       "var notebookContainer = gd.closest('#notebook-container');\n",
       "if (notebookContainer) {{\n",
       "    x.observe(notebookContainer, {childList: true});\n",
       "}}\n",
       "\n",
       "// Listen for the clearing of the current output cell\n",
       "var outputEl = gd.closest('.output');\n",
       "if (outputEl) {{\n",
       "    x.observe(outputEl, {childList: true});\n",
       "}}\n",
       "\n",
       "                        })                };                });            </script>        </div>"
      ]
     },
     "metadata": {},
     "output_type": "display_data"
    }
   ],
   "source": [
    "fig7 = px.area(df, facet_col=\"Symbols\", facet_col_wrap=2)\n",
    "fig7.update_layout(\n",
    "    title={\n",
    "        'text': \"Stock Prices\",\n",
    "        'x':0.5,\n",
    "        'xanchor': 'center'})\n",
    "fig7.show()"
   ]
  },
  {
   "cell_type": "code",
   "execution_count": 19,
   "metadata": {},
   "outputs": [
    {
     "data": {
      "application/vnd.plotly.v1+json": {
       "config": {
        "plotlyServerURL": "https://plot.ly"
       },
       "data": [
        {
         "marker": {
          "color": "rgb(5, 10, 172)"
         },
         "showlegend": false,
         "type": "box",
         "xaxis": "x",
         "y": [
          3.930000066757202,
          4.400000095367432,
          4.099999904632568,
          3.7100000381469727,
          4.079999923706055,
          3.5799999237060547,
          3.950000047683716,
          4.150000095367432,
          4.239999771118164,
          4.940000057220459,
          4.21999979019165,
          3.630000114440918,
          3.450000047683716,
          3.259999990463257,
          2.8499999046325684,
          2.859999895095825,
          3.390000104904175,
          3.2300000190734863,
          3.5999999046325684,
          4.25,
          5.210000038146973,
          5.659999847412109,
          5.119999885559082,
          5.21999979019165,
          4.849999904632568,
          5.230000019073486,
          5.139999866485596,
          4.75,
          4.78000020980835,
          4.849999904632568,
          5.920000076293945,
          5.829999923706055,
          5.869999885559082,
          5.650000095367432,
          5.840000152587891,
          5.550000190734863,
          5.400000095367432,
          4.829999923706055,
          4.880000114440918,
          4.920000076293945,
          4.78000020980835,
          4.539999961853027,
          4.150000095367432,
          4.050000190734863,
          4.400000095367432,
          4.579999923706055,
          4.5,
          4.449999809265137,
          4.460000038146973,
          4.340000152587891,
          4.570000171661377,
          4.75,
          4.329999923706055,
          4.119999885559082,
          4.269999980926514,
          4.239999771118164,
          4.440000057220459,
          4.289999961853027,
          4.28000020980835,
          5,
          4.78000020980835,
          4.639999866485596,
          4.599999904632568,
          4.5,
          4.949999809265137,
          4.539999961853027,
          4.670000076293945,
          4.949999809265137,
          4.789999961853027,
          4.949999809265137,
          4.829999923706055,
          4.329999923706055,
          4.480000019073486,
          4.349999904632568,
          4.329999923706055,
          4.309999942779541,
          4.489999771118164,
          4.309999942779541,
          4.199999809265137,
          4.099999904632568,
          4.269999980926514,
          4.199999809265137,
          4.349999904632568,
          4.21999979019165,
          4.130000114440918,
          4.190000057220459,
          4.159999847412109,
          3.950000047683716,
          3.9000000953674316,
          4.019999980926514,
          4.090000152587891,
          4.059999942779541,
          4.019999980926514,
          3.9600000381469727,
          3.940000057220459,
          4,
          4.059999942779541,
          4.03000020980835,
          4.130000114440918,
          4.5,
          4.599999904632568,
          4.389999866485596,
          4.199999809265137,
          4.429999828338623,
          4.400000095367432,
          4.519999980926514,
          4.599999904632568,
          4.78000020980835,
          4.610000133514404,
          4.800000190734863,
          4.619999885559082,
          4.599999904632568,
          5.099999904632568,
          4.880000114440918,
          4.96999979019165,
          5.110000133514404,
          5.300000190734863,
          5.769999980926514,
          7.300000190734863,
          7.800000190734863,
          7.880000114440918,
          7.78000020980835,
          7.550000190734863,
          7.960000038146973,
          6.650000095367432,
          6.260000228881836,
          6.800000190734863,
          6.860000133514404,
          7.03000020980835,
          8.569999694824219,
          9.199999809265137,
          9.350000381469727,
          10.449999809265137,
          10.600000381469727,
          9.710000038146973,
          9.1899995803833,
          10.15999984741211,
          10,
          10.25,
          10.09000015258789,
          9.380000114440918,
          9.4399995803833,
          9.5600004196167,
          9.229999542236328,
          9.539999961853027,
          12.829999923706055,
          11.65999984741211,
          11.729999542236328,
          12.670000076293945,
          11.989999771118164,
          13.770000457763672,
          13.4399995803833,
          14.029999732971191,
          13.899999618530273,
          14.199999809265137,
          15.050000190734863,
          14.930000305175781,
          13.710000038146973,
          12.270000457763672,
          11.880000114440918,
          11.640000343322754,
          10.819999694824219,
          10.75,
          11.760000228881836,
          11.270000457763672,
          11.520000457763672,
          12.760000228881836,
          11.5,
          11.5,
          11.739999771118164,
          11.359999656677246,
          11.15999984741211,
          11.649999618530273,
          11.800000190734863,
          11.600000381469727,
          12.550000190734863,
          12.899999618530273,
          14.229999542236328,
          13.600000381469727,
          15.289999961853027,
          18.170000076293945,
          17.110000610351562,
          15.699999809265137,
          16.479999542236328,
          16.299999237060547,
          17,
          16.3700008392334,
          13.920000076293945,
          13.119999885559082,
          13.90999984741211,
          13.34000015258789,
          12.779999732971191,
          13.960000038146973,
          13.960000038146973,
          15.779999732971191,
          15.8100004196167,
          16.219999313354492,
          20.170000076293945,
          21.010000228881836,
          21.309999465942383,
          20.81999969482422,
          19.3799991607666,
          19.25,
          19,
          17.350000381469727,
          17.34000015258789,
          18.469999313354492,
          18.18000030517578,
          19.40999984741211,
          19.959999084472656,
          20.420000076293945,
          38.09000015258789,
          38.4900016784668,
          41.54999923706055,
          37.369998931884766,
          39.22999954223633,
          42.59000015258789,
          96.7300033569336,
          88.55999755859375,
          354.8299865722656,
          265,
          379.7099914550781,
          316.55999755859375,
          140.75999450683594,
          112.01000213623047,
          91.19000244140625,
          54.040000915527344,
          72.41000366210938,
          56.61000061035156,
          50.77000045776367,
          50.0099983215332,
          50.75
         ],
         "yaxis": "y"
        },
        {
         "marker": {
          "color": [
           0,
           1,
           2,
           3,
           4,
           5,
           6,
           7,
           8,
           9,
           10,
           11,
           12,
           13,
           14,
           15,
           16,
           17,
           18,
           19,
           20,
           21,
           22,
           23,
           24,
           25,
           26,
           27,
           28,
           29,
           30,
           31,
           32,
           33,
           34,
           35,
           36,
           37,
           38,
           39,
           40,
           41,
           42,
           43,
           44,
           45,
           46,
           47,
           48,
           49,
           50,
           51,
           52,
           53,
           54,
           55,
           56,
           57,
           58,
           59,
           60,
           61,
           62,
           63,
           64,
           65,
           66,
           67,
           68,
           69,
           70,
           71,
           72,
           73,
           74,
           75,
           76,
           77,
           78,
           79,
           80,
           81,
           82,
           83,
           84,
           85,
           86,
           87,
           88,
           89,
           90,
           91,
           92,
           93,
           94,
           95,
           96,
           97,
           98,
           99,
           100,
           101,
           102,
           103,
           104,
           105,
           106,
           107,
           108,
           109,
           110,
           111,
           112,
           113,
           114,
           115,
           116,
           117,
           118,
           119,
           120,
           121,
           122,
           123,
           124,
           125,
           126,
           127,
           128,
           129,
           130,
           131,
           132,
           133,
           134,
           135,
           136,
           137,
           138,
           139,
           140,
           141,
           142,
           143,
           144,
           145,
           146,
           147,
           148,
           149,
           150,
           151,
           152,
           153,
           154,
           155,
           156,
           157,
           158,
           159,
           160,
           161,
           162,
           163,
           164,
           165,
           166,
           167,
           168,
           169,
           170,
           171,
           172,
           173,
           174,
           175,
           176,
           177,
           178,
           179,
           180,
           181,
           182,
           183,
           184,
           185,
           186,
           187,
           188,
           189,
           190,
           191,
           192,
           193,
           194,
           195,
           196,
           197,
           198,
           199,
           200,
           201,
           202,
           203,
           204,
           205,
           206,
           207,
           208,
           209,
           210,
           211,
           212,
           213,
           214,
           215,
           216,
           217,
           218,
           219,
           220,
           221,
           222,
           223,
           224,
           225,
           226,
           227,
           228,
           229,
           230,
           231
          ],
          "colorscale": [
           [
            0,
            "rgb(5, 10, 172)"
           ],
           [
            1,
            "rgb(178, 10, 28)"
           ]
          ],
          "showscale": true,
          "size": 3
         },
         "mode": "markers",
         "showlegend": false,
         "type": "scatter",
         "x": [
          4.369999885559082,
          4.230000019073486,
          3.7699999809265137,
          4.190000057220459,
          3.759999990463257,
          3.809999942779541,
          4.159999847412109,
          4.170000076293945,
          4.409999847412109,
          4.21999979019165,
          3.6500000953674316,
          3.5,
          3.25,
          2.8499999046325684,
          2.799999952316284,
          3.0899999141693115,
          3.2699999809265137,
          3.4100000858306885,
          3.890000104904175,
          4.739999771118164,
          5.949999809265137,
          5.269999980926514,
          5.03000020980835,
          4.880000114440918,
          5.610000133514404,
          4.78000020980835,
          4.889999866485596,
          4.699999809265137,
          4.769999980926514,
          5.820000171661377,
          5.639999866485596,
          6.039999961853027,
          5.730000019073486,
          6.050000190734863,
          5.480000019073486,
          5.389999866485596,
          4.929999828338623,
          4.869999885559082,
          4.980000019073486,
          4.760000228881836,
          4.539999961853027,
          4.210000038146973,
          4.130000114440918,
          4.21999979019165,
          4.579999923706055,
          4.440000057220459,
          4.429999828338623,
          4.440000057220459,
          4.179999828338623,
          4.420000076293945,
          4.690000057220459,
          4.329999923706055,
          4.059999942779541,
          4.130000114440918,
          4.179999828338623,
          4.440000057220459,
          4.46999979019165,
          4.139999866485596,
          5.010000228881836,
          4.960000038146973,
          5.070000171661377,
          4.369999885559082,
          4.71999979019165,
          4.690000057220459,
          4.639999866485596,
          4.760000228881836,
          4.949999809265137,
          4.880000114440918,
          4.869999885559082,
          4.829999923706055,
          4.409999847412109,
          4.460000038146973,
          4.349999904632568,
          4.380000114440918,
          4.340000152587891,
          4.440000057220459,
          4.289999961853027,
          4.239999771118164,
          4.090000152587891,
          4.260000228881836,
          4.210000038146973,
          4.340000152587891,
          4.260000228881836,
          4.079999923706055,
          4.190000057220459,
          4.170000076293945,
          3.9600000381469727,
          3.8499999046325684,
          4.010000228881836,
          4.110000133514404,
          4.110000133514404,
          4.03000020980835,
          4.010000228881836,
          3.940000057220459,
          4.059999942779541,
          4.099999904632568,
          4.010000228881836,
          4.150000095367432,
          4.429999828338623,
          4.630000114440918,
          4.429999828338623,
          4.159999847412109,
          4.329999923706055,
          4.349999904632568,
          4.519999980926514,
          4.639999866485596,
          4.75,
          4.630000114440918,
          4.809999942779541,
          4.71999979019165,
          4.610000133514404,
          5.03000020980835,
          4.869999885559082,
          4.980000019073486,
          5.110000133514404,
          5.25,
          5.389999866485596,
          6.679999828338623,
          7.650000095367432,
          7.710000038146973,
          7.820000171661377,
          7.650000095367432,
          7.699999809265137,
          7.349999904632568,
          6.230000019073486,
          6.090000152587891,
          6.909999847412109,
          7.090000152587891,
          8.680000305175781,
          9.199999809265137,
          9.470000267028809,
          8.75,
          10.5600004196167,
          10.039999961853027,
          9.140000343322754,
          10.020000457763672,
          10.09000015258789,
          10.350000381469727,
          10.199999809265137,
          9.770000457763672,
          9.390000343322754,
          9.460000038146973,
          9.130000114440918,
          9.359999656677246,
          13.489999771118164,
          12.020000457763672,
          11.800000190734863,
          11.880000114440918,
          12.25,
          13.829999923706055,
          13.3100004196167,
          13.90999984741211,
          13.859999656677246,
          14.100000381469727,
          14.90999984741211,
          15,
          13.449999809265137,
          12.6899995803833,
          11.819999694824219,
          11.729999542236328,
          10.470000267028809,
          10.75,
          11.569999694824219,
          10.90999984741211,
          11.449999809265137,
          11.859999656677246,
          11.489999771118164,
          11.100000381469727,
          11.75,
          11.130000114440918,
          11.010000228881836,
          12.0600004196167,
          11.630000114440918,
          11.569999694824219,
          12.460000038146973,
          12.710000038146973,
          13.899999618530273,
          13.670000076293945,
          14.75,
          16.079999923706055,
          16.559999465942383,
          15.800000190734863,
          16.579999923706055,
          16.1200008392334,
          16.899999618530273,
          16.350000381469727,
          16.940000534057617,
          13.65999984741211,
          14.119999885559082,
          13.3100004196167,
          12.720000267028809,
          13.850000381469727,
          13.850000381469727,
          14.829999923706055,
          15.630000114440918,
          15.529999732971191,
          19.459999084472656,
          20.56999969482422,
          20.149999618530273,
          20.989999771118164,
          19.3799991607666,
          19.260000228881836,
          18.84000015258789,
          17.25,
          17.3700008392334,
          18.360000610351562,
          18.079999923706055,
          17.690000534057617,
          19.940000534057617,
          19.950000762939453,
          31.399999618530273,
          39.90999984741211,
          35.5,
          39.36000061035156,
          39.119998931884766,
          43.029998779296875,
          65.01000213623047,
          76.79000091552734,
          147.97999572753906,
          347.510009765625,
          193.60000610351562,
          325,
          225,
          90,
          92.41000366210938,
          53.5,
          63.77000045776367,
          60,
          50.310001373291016,
          51.20000076293945,
          51.099998474121094,
          52.400001525878906
         ],
         "xaxis": "x2",
         "y": [
          3.930000066757202,
          4.400000095367432,
          4.099999904632568,
          3.7100000381469727,
          4.079999923706055,
          3.5799999237060547,
          3.950000047683716,
          4.150000095367432,
          4.239999771118164,
          4.940000057220459,
          4.21999979019165,
          3.630000114440918,
          3.450000047683716,
          3.259999990463257,
          2.8499999046325684,
          2.859999895095825,
          3.390000104904175,
          3.2300000190734863,
          3.5999999046325684,
          4.25,
          5.210000038146973,
          5.659999847412109,
          5.119999885559082,
          5.21999979019165,
          4.849999904632568,
          5.230000019073486,
          5.139999866485596,
          4.75,
          4.78000020980835,
          4.849999904632568,
          5.920000076293945,
          5.829999923706055,
          5.869999885559082,
          5.650000095367432,
          5.840000152587891,
          5.550000190734863,
          5.400000095367432,
          4.829999923706055,
          4.880000114440918,
          4.920000076293945,
          4.78000020980835,
          4.539999961853027,
          4.150000095367432,
          4.050000190734863,
          4.400000095367432,
          4.579999923706055,
          4.5,
          4.449999809265137,
          4.460000038146973,
          4.340000152587891,
          4.570000171661377,
          4.75,
          4.329999923706055,
          4.119999885559082,
          4.269999980926514,
          4.239999771118164,
          4.440000057220459,
          4.289999961853027,
          4.28000020980835,
          5,
          4.78000020980835,
          4.639999866485596,
          4.599999904632568,
          4.5,
          4.949999809265137,
          4.539999961853027,
          4.670000076293945,
          4.949999809265137,
          4.789999961853027,
          4.949999809265137,
          4.829999923706055,
          4.329999923706055,
          4.480000019073486,
          4.349999904632568,
          4.329999923706055,
          4.309999942779541,
          4.489999771118164,
          4.309999942779541,
          4.199999809265137,
          4.099999904632568,
          4.269999980926514,
          4.199999809265137,
          4.349999904632568,
          4.21999979019165,
          4.130000114440918,
          4.190000057220459,
          4.159999847412109,
          3.950000047683716,
          3.9000000953674316,
          4.019999980926514,
          4.090000152587891,
          4.059999942779541,
          4.019999980926514,
          3.9600000381469727,
          3.940000057220459,
          4,
          4.059999942779541,
          4.03000020980835,
          4.130000114440918,
          4.5,
          4.599999904632568,
          4.389999866485596,
          4.199999809265137,
          4.429999828338623,
          4.400000095367432,
          4.519999980926514,
          4.599999904632568,
          4.78000020980835,
          4.610000133514404,
          4.800000190734863,
          4.619999885559082,
          4.599999904632568,
          5.099999904632568,
          4.880000114440918,
          4.96999979019165,
          5.110000133514404,
          5.300000190734863,
          5.769999980926514,
          7.300000190734863,
          7.800000190734863,
          7.880000114440918,
          7.78000020980835,
          7.550000190734863,
          7.960000038146973,
          6.650000095367432,
          6.260000228881836,
          6.800000190734863,
          6.860000133514404,
          7.03000020980835,
          8.569999694824219,
          9.199999809265137,
          9.350000381469727,
          10.449999809265137,
          10.600000381469727,
          9.710000038146973,
          9.1899995803833,
          10.15999984741211,
          10,
          10.25,
          10.09000015258789,
          9.380000114440918,
          9.4399995803833,
          9.5600004196167,
          9.229999542236328,
          9.539999961853027,
          12.829999923706055,
          11.65999984741211,
          11.729999542236328,
          12.670000076293945,
          11.989999771118164,
          13.770000457763672,
          13.4399995803833,
          14.029999732971191,
          13.899999618530273,
          14.199999809265137,
          15.050000190734863,
          14.930000305175781,
          13.710000038146973,
          12.270000457763672,
          11.880000114440918,
          11.640000343322754,
          10.819999694824219,
          10.75,
          11.760000228881836,
          11.270000457763672,
          11.520000457763672,
          12.760000228881836,
          11.5,
          11.5,
          11.739999771118164,
          11.359999656677246,
          11.15999984741211,
          11.649999618530273,
          11.800000190734863,
          11.600000381469727,
          12.550000190734863,
          12.899999618530273,
          14.229999542236328,
          13.600000381469727,
          15.289999961853027,
          18.170000076293945,
          17.110000610351562,
          15.699999809265137,
          16.479999542236328,
          16.299999237060547,
          17,
          16.3700008392334,
          13.920000076293945,
          13.119999885559082,
          13.90999984741211,
          13.34000015258789,
          12.779999732971191,
          13.960000038146973,
          13.960000038146973,
          15.779999732971191,
          15.8100004196167,
          16.219999313354492,
          20.170000076293945,
          21.010000228881836,
          21.309999465942383,
          20.81999969482422,
          19.3799991607666,
          19.25,
          19,
          17.350000381469727,
          17.34000015258789,
          18.469999313354492,
          18.18000030517578,
          19.40999984741211,
          19.959999084472656,
          20.420000076293945,
          38.09000015258789,
          38.4900016784668,
          41.54999923706055,
          37.369998931884766,
          39.22999954223633,
          42.59000015258789,
          96.7300033569336,
          88.55999755859375,
          354.8299865722656,
          265,
          379.7099914550781,
          316.55999755859375,
          140.75999450683594,
          112.01000213623047,
          91.19000244140625,
          54.040000915527344,
          72.41000366210938,
          56.61000061035156,
          50.77000045776367,
          50.0099983215332,
          50.75
         ],
         "yaxis": "y2"
        },
        {
         "marker": {
          "color": [
           0,
           1,
           2,
           3,
           4,
           5,
           6,
           7,
           8,
           9,
           10,
           11,
           12,
           13,
           14,
           15,
           16,
           17,
           18,
           19,
           20,
           21,
           22,
           23,
           24,
           25,
           26,
           27,
           28,
           29,
           30,
           31,
           32,
           33,
           34,
           35,
           36,
           37,
           38,
           39,
           40,
           41,
           42,
           43,
           44,
           45,
           46,
           47,
           48,
           49,
           50,
           51,
           52,
           53,
           54,
           55,
           56,
           57,
           58,
           59,
           60,
           61,
           62,
           63,
           64,
           65,
           66,
           67,
           68,
           69,
           70,
           71,
           72,
           73,
           74,
           75,
           76,
           77,
           78,
           79,
           80,
           81,
           82,
           83,
           84,
           85,
           86,
           87,
           88,
           89,
           90,
           91,
           92,
           93,
           94,
           95,
           96,
           97,
           98,
           99,
           100,
           101,
           102,
           103,
           104,
           105,
           106,
           107,
           108,
           109,
           110,
           111,
           112,
           113,
           114,
           115,
           116,
           117,
           118,
           119,
           120,
           121,
           122,
           123,
           124,
           125,
           126,
           127,
           128,
           129,
           130,
           131,
           132,
           133,
           134,
           135,
           136,
           137,
           138,
           139,
           140,
           141,
           142,
           143,
           144,
           145,
           146,
           147,
           148,
           149,
           150,
           151,
           152,
           153,
           154,
           155,
           156,
           157,
           158,
           159,
           160,
           161,
           162,
           163,
           164,
           165,
           166,
           167,
           168,
           169,
           170,
           171,
           172,
           173,
           174,
           175,
           176,
           177,
           178,
           179,
           180,
           181,
           182,
           183,
           184,
           185,
           186,
           187,
           188,
           189,
           190,
           191,
           192,
           193,
           194,
           195,
           196,
           197,
           198,
           199,
           200,
           201,
           202,
           203,
           204,
           205,
           206,
           207,
           208,
           209,
           210,
           211,
           212,
           213,
           214,
           215,
           216,
           217,
           218,
           219,
           220,
           221,
           222,
           223,
           224,
           225,
           226,
           227,
           228,
           229,
           230,
           231
          ],
          "colorscale": [
           [
            0,
            "rgb(5, 10, 172)"
           ],
           [
            1,
            "rgb(178, 10, 28)"
           ]
          ],
          "showscale": false,
          "size": 3
         },
         "mode": "markers",
         "showlegend": false,
         "type": "scatter",
         "x": [
          4866700,
          3562200,
          3651700,
          5039500,
          7722200,
          6009800,
          6805600,
          3592100,
          6185700,
          7024800,
          3350600,
          2300900,
          4568700,
          4064300,
          3830400,
          3340500,
          2836900,
          2884500,
          5908600,
          6844500,
          13506600,
          7499900,
          3371900,
          5653200,
          6085000,
          4142100,
          2677800,
          2265900,
          2236200,
          7275100,
          5200200,
          3369600,
          2173300,
          4005600,
          4068100,
          2105900,
          3369600,
          2500800,
          2353700,
          1699200,
          2639200,
          2882900,
          2004900,
          1940600,
          2371700,
          1840700,
          2543600,
          1971900,
          2379900,
          3545700,
          3146600,
          2183900,
          3973500,
          2611600,
          2369400,
          3037400,
          3514300,
          6274400,
          10133700,
          8073400,
          10606400,
          6236000,
          4378200,
          3909000,
          3121300,
          3593500,
          3423800,
          7366600,
          3178900,
          3205400,
          2976200,
          2450800,
          3801200,
          2131200,
          3889000,
          2303700,
          1887600,
          2140900,
          2456600,
          2052800,
          1992600,
          1410800,
          4216200,
          2261600,
          1474100,
          1330100,
          3065900,
          3401100,
          3341000,
          2523500,
          3237200,
          2215900,
          2472700,
          4555400,
          2879600,
          2398500,
          1879400,
          2517600,
          10361400,
          4925700,
          1901200,
          3341100,
          4561800,
          3138800,
          3057600,
          2128300,
          3474400,
          2371000,
          3834400,
          2612600,
          2441200,
          10642600,
          4585400,
          2998700,
          2779700,
          3384400,
          4236900,
          37976000,
          23211000,
          13011100,
          14344500,
          7662000,
          9816600,
          9068100,
          15558300,
          6061200,
          10119000,
          5743500,
          19256300,
          17026700,
          17407500,
          7639800,
          34752500,
          10651200,
          7938800,
          7515200,
          6764300,
          5237600,
          6079000,
          4554100,
          4340500,
          2805000,
          4535400,
          3308600,
          76453600,
          77152800,
          23655700,
          10179700,
          10776800,
          39894800,
          11651600,
          13169100,
          6604000,
          5361900,
          16212200,
          6507300,
          13376300,
          7231000,
          6388600,
          4165800,
          11546900,
          5227000,
          7454500,
          5807900,
          4705200,
          5518200,
          6244900,
          3826000,
          4882600,
          4353300,
          3535900,
          9774800,
          6678200,
          3169200,
          11787600,
          8395400,
          9599100,
          7183200,
          8860100,
          12504200,
          31983500,
          12666000,
          7883400,
          6295000,
          8972700,
          7386300,
          16120200,
          24357900,
          7558900,
          7496900,
          10007100,
          8192900,
          5865100,
          8194900,
          16618800,
          9876100,
          30652700,
          25830300,
          6262200,
          8965900,
          9241400,
          5934400,
          6918900,
          10022500,
          4961500,
          6056200,
          6129300,
          6464500,
          14927600,
          7060700,
          144501700,
          93717400,
          46752200,
          74721900,
          33471800,
          57079800,
          196784300,
          177874000,
          178588000,
          93396700,
          58815800,
          50259200,
          37382200,
          78183100,
          42698500,
          62427300,
          80886300,
          25687300,
          26843100,
          36455000,
          12997400,
          14498000
         ],
         "xaxis": "x3",
         "y": [
          3.930000066757202,
          4.400000095367432,
          4.099999904632568,
          3.7100000381469727,
          4.079999923706055,
          3.5799999237060547,
          3.950000047683716,
          4.150000095367432,
          4.239999771118164,
          4.940000057220459,
          4.21999979019165,
          3.630000114440918,
          3.450000047683716,
          3.259999990463257,
          2.8499999046325684,
          2.859999895095825,
          3.390000104904175,
          3.2300000190734863,
          3.5999999046325684,
          4.25,
          5.210000038146973,
          5.659999847412109,
          5.119999885559082,
          5.21999979019165,
          4.849999904632568,
          5.230000019073486,
          5.139999866485596,
          4.75,
          4.78000020980835,
          4.849999904632568,
          5.920000076293945,
          5.829999923706055,
          5.869999885559082,
          5.650000095367432,
          5.840000152587891,
          5.550000190734863,
          5.400000095367432,
          4.829999923706055,
          4.880000114440918,
          4.920000076293945,
          4.78000020980835,
          4.539999961853027,
          4.150000095367432,
          4.050000190734863,
          4.400000095367432,
          4.579999923706055,
          4.5,
          4.449999809265137,
          4.460000038146973,
          4.340000152587891,
          4.570000171661377,
          4.75,
          4.329999923706055,
          4.119999885559082,
          4.269999980926514,
          4.239999771118164,
          4.440000057220459,
          4.289999961853027,
          4.28000020980835,
          5,
          4.78000020980835,
          4.639999866485596,
          4.599999904632568,
          4.5,
          4.949999809265137,
          4.539999961853027,
          4.670000076293945,
          4.949999809265137,
          4.789999961853027,
          4.949999809265137,
          4.829999923706055,
          4.329999923706055,
          4.480000019073486,
          4.349999904632568,
          4.329999923706055,
          4.309999942779541,
          4.489999771118164,
          4.309999942779541,
          4.199999809265137,
          4.099999904632568,
          4.269999980926514,
          4.199999809265137,
          4.349999904632568,
          4.21999979019165,
          4.130000114440918,
          4.190000057220459,
          4.159999847412109,
          3.950000047683716,
          3.9000000953674316,
          4.019999980926514,
          4.090000152587891,
          4.059999942779541,
          4.019999980926514,
          3.9600000381469727,
          3.940000057220459,
          4,
          4.059999942779541,
          4.03000020980835,
          4.130000114440918,
          4.5,
          4.599999904632568,
          4.389999866485596,
          4.199999809265137,
          4.429999828338623,
          4.400000095367432,
          4.519999980926514,
          4.599999904632568,
          4.78000020980835,
          4.610000133514404,
          4.800000190734863,
          4.619999885559082,
          4.599999904632568,
          5.099999904632568,
          4.880000114440918,
          4.96999979019165,
          5.110000133514404,
          5.300000190734863,
          5.769999980926514,
          7.300000190734863,
          7.800000190734863,
          7.880000114440918,
          7.78000020980835,
          7.550000190734863,
          7.960000038146973,
          6.650000095367432,
          6.260000228881836,
          6.800000190734863,
          6.860000133514404,
          7.03000020980835,
          8.569999694824219,
          9.199999809265137,
          9.350000381469727,
          10.449999809265137,
          10.600000381469727,
          9.710000038146973,
          9.1899995803833,
          10.15999984741211,
          10,
          10.25,
          10.09000015258789,
          9.380000114440918,
          9.4399995803833,
          9.5600004196167,
          9.229999542236328,
          9.539999961853027,
          12.829999923706055,
          11.65999984741211,
          11.729999542236328,
          12.670000076293945,
          11.989999771118164,
          13.770000457763672,
          13.4399995803833,
          14.029999732971191,
          13.899999618530273,
          14.199999809265137,
          15.050000190734863,
          14.930000305175781,
          13.710000038146973,
          12.270000457763672,
          11.880000114440918,
          11.640000343322754,
          10.819999694824219,
          10.75,
          11.760000228881836,
          11.270000457763672,
          11.520000457763672,
          12.760000228881836,
          11.5,
          11.5,
          11.739999771118164,
          11.359999656677246,
          11.15999984741211,
          11.649999618530273,
          11.800000190734863,
          11.600000381469727,
          12.550000190734863,
          12.899999618530273,
          14.229999542236328,
          13.600000381469727,
          15.289999961853027,
          18.170000076293945,
          17.110000610351562,
          15.699999809265137,
          16.479999542236328,
          16.299999237060547,
          17,
          16.3700008392334,
          13.920000076293945,
          13.119999885559082,
          13.90999984741211,
          13.34000015258789,
          12.779999732971191,
          13.960000038146973,
          13.960000038146973,
          15.779999732971191,
          15.8100004196167,
          16.219999313354492,
          20.170000076293945,
          21.010000228881836,
          21.309999465942383,
          20.81999969482422,
          19.3799991607666,
          19.25,
          19,
          17.350000381469727,
          17.34000015258789,
          18.469999313354492,
          18.18000030517578,
          19.40999984741211,
          19.959999084472656,
          20.420000076293945,
          38.09000015258789,
          38.4900016784668,
          41.54999923706055,
          37.369998931884766,
          39.22999954223633,
          42.59000015258789,
          96.7300033569336,
          88.55999755859375,
          354.8299865722656,
          265,
          379.7099914550781,
          316.55999755859375,
          140.75999450683594,
          112.01000213623047,
          91.19000244140625,
          54.040000915527344,
          72.41000366210938,
          56.61000061035156,
          50.77000045776367,
          50.0099983215332,
          50.75
         ],
         "yaxis": "y3"
        },
        {
         "marker": {
          "color": [
           0,
           1,
           2,
           3,
           4,
           5,
           6,
           7,
           8,
           9,
           10,
           11,
           12,
           13,
           14,
           15,
           16,
           17,
           18,
           19,
           20,
           21,
           22,
           23,
           24,
           25,
           26,
           27,
           28,
           29,
           30,
           31,
           32,
           33,
           34,
           35,
           36,
           37,
           38,
           39,
           40,
           41,
           42,
           43,
           44,
           45,
           46,
           47,
           48,
           49,
           50,
           51,
           52,
           53,
           54,
           55,
           56,
           57,
           58,
           59,
           60,
           61,
           62,
           63,
           64,
           65,
           66,
           67,
           68,
           69,
           70,
           71,
           72,
           73,
           74,
           75,
           76,
           77,
           78,
           79,
           80,
           81,
           82,
           83,
           84,
           85,
           86,
           87,
           88,
           89,
           90,
           91,
           92,
           93,
           94,
           95,
           96,
           97,
           98,
           99,
           100,
           101,
           102,
           103,
           104,
           105,
           106,
           107,
           108,
           109,
           110,
           111,
           112,
           113,
           114,
           115,
           116,
           117,
           118,
           119,
           120,
           121,
           122,
           123,
           124,
           125,
           126,
           127,
           128,
           129,
           130,
           131,
           132,
           133,
           134,
           135,
           136,
           137,
           138,
           139,
           140,
           141,
           142,
           143,
           144,
           145,
           146,
           147,
           148,
           149,
           150,
           151,
           152,
           153,
           154,
           155,
           156,
           157,
           158,
           159,
           160,
           161,
           162,
           163,
           164,
           165,
           166,
           167,
           168,
           169,
           170,
           171,
           172,
           173,
           174,
           175,
           176,
           177,
           178,
           179,
           180,
           181,
           182,
           183,
           184,
           185,
           186,
           187,
           188,
           189,
           190,
           191,
           192,
           193,
           194,
           195,
           196,
           197,
           198,
           199,
           200,
           201,
           202,
           203,
           204,
           205,
           206,
           207,
           208,
           209,
           210,
           211,
           212,
           213,
           214,
           215,
           216,
           217,
           218,
           219,
           220,
           221,
           222,
           223,
           224,
           225,
           226,
           227,
           228,
           229,
           230,
           231
          ],
          "colorscale": [
           [
            0,
            "rgb(5, 10, 172)"
           ],
           [
            1,
            "rgb(178, 10, 28)"
           ]
          ],
          "showscale": false,
          "size": 3
         },
         "mode": "markers",
         "showlegend": false,
         "type": "scatter",
         "x": [
          3.930000066757202,
          4.400000095367432,
          4.099999904632568,
          3.7100000381469727,
          4.079999923706055,
          3.5799999237060547,
          3.950000047683716,
          4.150000095367432,
          4.239999771118164,
          4.940000057220459,
          4.21999979019165,
          3.630000114440918,
          3.450000047683716,
          3.259999990463257,
          2.8499999046325684,
          2.859999895095825,
          3.390000104904175,
          3.2300000190734863,
          3.5999999046325684,
          4.25,
          5.210000038146973,
          5.659999847412109,
          5.119999885559082,
          5.21999979019165,
          4.849999904632568,
          5.230000019073486,
          5.139999866485596,
          4.75,
          4.78000020980835,
          4.849999904632568,
          5.920000076293945,
          5.829999923706055,
          5.869999885559082,
          5.650000095367432,
          5.840000152587891,
          5.550000190734863,
          5.400000095367432,
          4.829999923706055,
          4.880000114440918,
          4.920000076293945,
          4.78000020980835,
          4.539999961853027,
          4.150000095367432,
          4.050000190734863,
          4.400000095367432,
          4.579999923706055,
          4.5,
          4.449999809265137,
          4.460000038146973,
          4.340000152587891,
          4.570000171661377,
          4.75,
          4.329999923706055,
          4.119999885559082,
          4.269999980926514,
          4.239999771118164,
          4.440000057220459,
          4.289999961853027,
          4.28000020980835,
          5,
          4.78000020980835,
          4.639999866485596,
          4.599999904632568,
          4.5,
          4.949999809265137,
          4.539999961853027,
          4.670000076293945,
          4.949999809265137,
          4.789999961853027,
          4.949999809265137,
          4.829999923706055,
          4.329999923706055,
          4.480000019073486,
          4.349999904632568,
          4.329999923706055,
          4.309999942779541,
          4.489999771118164,
          4.309999942779541,
          4.199999809265137,
          4.099999904632568,
          4.269999980926514,
          4.199999809265137,
          4.349999904632568,
          4.21999979019165,
          4.130000114440918,
          4.190000057220459,
          4.159999847412109,
          3.950000047683716,
          3.9000000953674316,
          4.019999980926514,
          4.090000152587891,
          4.059999942779541,
          4.019999980926514,
          3.9600000381469727,
          3.940000057220459,
          4,
          4.059999942779541,
          4.03000020980835,
          4.130000114440918,
          4.5,
          4.599999904632568,
          4.389999866485596,
          4.199999809265137,
          4.429999828338623,
          4.400000095367432,
          4.519999980926514,
          4.599999904632568,
          4.78000020980835,
          4.610000133514404,
          4.800000190734863,
          4.619999885559082,
          4.599999904632568,
          5.099999904632568,
          4.880000114440918,
          4.96999979019165,
          5.110000133514404,
          5.300000190734863,
          5.769999980926514,
          7.300000190734863,
          7.800000190734863,
          7.880000114440918,
          7.78000020980835,
          7.550000190734863,
          7.960000038146973,
          6.650000095367432,
          6.260000228881836,
          6.800000190734863,
          6.860000133514404,
          7.03000020980835,
          8.569999694824219,
          9.199999809265137,
          9.350000381469727,
          10.449999809265137,
          10.600000381469727,
          9.710000038146973,
          9.1899995803833,
          10.15999984741211,
          10,
          10.25,
          10.09000015258789,
          9.380000114440918,
          9.4399995803833,
          9.5600004196167,
          9.229999542236328,
          9.539999961853027,
          12.829999923706055,
          11.65999984741211,
          11.729999542236328,
          12.670000076293945,
          11.989999771118164,
          13.770000457763672,
          13.4399995803833,
          14.029999732971191,
          13.899999618530273,
          14.199999809265137,
          15.050000190734863,
          14.930000305175781,
          13.710000038146973,
          12.270000457763672,
          11.880000114440918,
          11.640000343322754,
          10.819999694824219,
          10.75,
          11.760000228881836,
          11.270000457763672,
          11.520000457763672,
          12.760000228881836,
          11.5,
          11.5,
          11.739999771118164,
          11.359999656677246,
          11.15999984741211,
          11.649999618530273,
          11.800000190734863,
          11.600000381469727,
          12.550000190734863,
          12.899999618530273,
          14.229999542236328,
          13.600000381469727,
          15.289999961853027,
          18.170000076293945,
          17.110000610351562,
          15.699999809265137,
          16.479999542236328,
          16.299999237060547,
          17,
          16.3700008392334,
          13.920000076293945,
          13.119999885559082,
          13.90999984741211,
          13.34000015258789,
          12.779999732971191,
          13.960000038146973,
          13.960000038146973,
          15.779999732971191,
          15.8100004196167,
          16.219999313354492,
          20.170000076293945,
          21.010000228881836,
          21.309999465942383,
          20.81999969482422,
          19.3799991607666,
          19.25,
          19,
          17.350000381469727,
          17.34000015258789,
          18.469999313354492,
          18.18000030517578,
          19.40999984741211,
          19.959999084472656,
          20.420000076293945,
          38.09000015258789,
          38.4900016784668,
          41.54999923706055,
          37.369998931884766,
          39.22999954223633,
          42.59000015258789,
          96.7300033569336,
          88.55999755859375,
          354.8299865722656,
          265,
          379.7099914550781,
          316.55999755859375,
          140.75999450683594,
          112.01000213623047,
          91.19000244140625,
          54.040000915527344,
          72.41000366210938,
          56.61000061035156,
          50.77000045776367,
          50.0099983215332,
          50.75
         ],
         "xaxis": "x4",
         "y": [
          4.369999885559082,
          4.230000019073486,
          3.7699999809265137,
          4.190000057220459,
          3.759999990463257,
          3.809999942779541,
          4.159999847412109,
          4.170000076293945,
          4.409999847412109,
          4.21999979019165,
          3.6500000953674316,
          3.5,
          3.25,
          2.8499999046325684,
          2.799999952316284,
          3.0899999141693115,
          3.2699999809265137,
          3.4100000858306885,
          3.890000104904175,
          4.739999771118164,
          5.949999809265137,
          5.269999980926514,
          5.03000020980835,
          4.880000114440918,
          5.610000133514404,
          4.78000020980835,
          4.889999866485596,
          4.699999809265137,
          4.769999980926514,
          5.820000171661377,
          5.639999866485596,
          6.039999961853027,
          5.730000019073486,
          6.050000190734863,
          5.480000019073486,
          5.389999866485596,
          4.929999828338623,
          4.869999885559082,
          4.980000019073486,
          4.760000228881836,
          4.539999961853027,
          4.210000038146973,
          4.130000114440918,
          4.21999979019165,
          4.579999923706055,
          4.440000057220459,
          4.429999828338623,
          4.440000057220459,
          4.179999828338623,
          4.420000076293945,
          4.690000057220459,
          4.329999923706055,
          4.059999942779541,
          4.130000114440918,
          4.179999828338623,
          4.440000057220459,
          4.46999979019165,
          4.139999866485596,
          5.010000228881836,
          4.960000038146973,
          5.070000171661377,
          4.369999885559082,
          4.71999979019165,
          4.690000057220459,
          4.639999866485596,
          4.760000228881836,
          4.949999809265137,
          4.880000114440918,
          4.869999885559082,
          4.829999923706055,
          4.409999847412109,
          4.460000038146973,
          4.349999904632568,
          4.380000114440918,
          4.340000152587891,
          4.440000057220459,
          4.289999961853027,
          4.239999771118164,
          4.090000152587891,
          4.260000228881836,
          4.210000038146973,
          4.340000152587891,
          4.260000228881836,
          4.079999923706055,
          4.190000057220459,
          4.170000076293945,
          3.9600000381469727,
          3.8499999046325684,
          4.010000228881836,
          4.110000133514404,
          4.110000133514404,
          4.03000020980835,
          4.010000228881836,
          3.940000057220459,
          4.059999942779541,
          4.099999904632568,
          4.010000228881836,
          4.150000095367432,
          4.429999828338623,
          4.630000114440918,
          4.429999828338623,
          4.159999847412109,
          4.329999923706055,
          4.349999904632568,
          4.519999980926514,
          4.639999866485596,
          4.75,
          4.630000114440918,
          4.809999942779541,
          4.71999979019165,
          4.610000133514404,
          5.03000020980835,
          4.869999885559082,
          4.980000019073486,
          5.110000133514404,
          5.25,
          5.389999866485596,
          6.679999828338623,
          7.650000095367432,
          7.710000038146973,
          7.820000171661377,
          7.650000095367432,
          7.699999809265137,
          7.349999904632568,
          6.230000019073486,
          6.090000152587891,
          6.909999847412109,
          7.090000152587891,
          8.680000305175781,
          9.199999809265137,
          9.470000267028809,
          8.75,
          10.5600004196167,
          10.039999961853027,
          9.140000343322754,
          10.020000457763672,
          10.09000015258789,
          10.350000381469727,
          10.199999809265137,
          9.770000457763672,
          9.390000343322754,
          9.460000038146973,
          9.130000114440918,
          9.359999656677246,
          13.489999771118164,
          12.020000457763672,
          11.800000190734863,
          11.880000114440918,
          12.25,
          13.829999923706055,
          13.3100004196167,
          13.90999984741211,
          13.859999656677246,
          14.100000381469727,
          14.90999984741211,
          15,
          13.449999809265137,
          12.6899995803833,
          11.819999694824219,
          11.729999542236328,
          10.470000267028809,
          10.75,
          11.569999694824219,
          10.90999984741211,
          11.449999809265137,
          11.859999656677246,
          11.489999771118164,
          11.100000381469727,
          11.75,
          11.130000114440918,
          11.010000228881836,
          12.0600004196167,
          11.630000114440918,
          11.569999694824219,
          12.460000038146973,
          12.710000038146973,
          13.899999618530273,
          13.670000076293945,
          14.75,
          16.079999923706055,
          16.559999465942383,
          15.800000190734863,
          16.579999923706055,
          16.1200008392334,
          16.899999618530273,
          16.350000381469727,
          16.940000534057617,
          13.65999984741211,
          14.119999885559082,
          13.3100004196167,
          12.720000267028809,
          13.850000381469727,
          13.850000381469727,
          14.829999923706055,
          15.630000114440918,
          15.529999732971191,
          19.459999084472656,
          20.56999969482422,
          20.149999618530273,
          20.989999771118164,
          19.3799991607666,
          19.260000228881836,
          18.84000015258789,
          17.25,
          17.3700008392334,
          18.360000610351562,
          18.079999923706055,
          17.690000534057617,
          19.940000534057617,
          19.950000762939453,
          31.399999618530273,
          39.90999984741211,
          35.5,
          39.36000061035156,
          39.119998931884766,
          43.029998779296875,
          65.01000213623047,
          76.79000091552734,
          147.97999572753906,
          347.510009765625,
          193.60000610351562,
          325,
          225,
          90,
          92.41000366210938,
          53.5,
          63.77000045776367,
          60,
          50.310001373291016,
          51.20000076293945,
          51.099998474121094,
          52.400001525878906
         ],
         "yaxis": "y4"
        },
        {
         "marker": {
          "color": "rgb(5, 10, 172)"
         },
         "showlegend": false,
         "type": "box",
         "xaxis": "x5",
         "y": [
          4.369999885559082,
          4.230000019073486,
          3.7699999809265137,
          4.190000057220459,
          3.759999990463257,
          3.809999942779541,
          4.159999847412109,
          4.170000076293945,
          4.409999847412109,
          4.21999979019165,
          3.6500000953674316,
          3.5,
          3.25,
          2.8499999046325684,
          2.799999952316284,
          3.0899999141693115,
          3.2699999809265137,
          3.4100000858306885,
          3.890000104904175,
          4.739999771118164,
          5.949999809265137,
          5.269999980926514,
          5.03000020980835,
          4.880000114440918,
          5.610000133514404,
          4.78000020980835,
          4.889999866485596,
          4.699999809265137,
          4.769999980926514,
          5.820000171661377,
          5.639999866485596,
          6.039999961853027,
          5.730000019073486,
          6.050000190734863,
          5.480000019073486,
          5.389999866485596,
          4.929999828338623,
          4.869999885559082,
          4.980000019073486,
          4.760000228881836,
          4.539999961853027,
          4.210000038146973,
          4.130000114440918,
          4.21999979019165,
          4.579999923706055,
          4.440000057220459,
          4.429999828338623,
          4.440000057220459,
          4.179999828338623,
          4.420000076293945,
          4.690000057220459,
          4.329999923706055,
          4.059999942779541,
          4.130000114440918,
          4.179999828338623,
          4.440000057220459,
          4.46999979019165,
          4.139999866485596,
          5.010000228881836,
          4.960000038146973,
          5.070000171661377,
          4.369999885559082,
          4.71999979019165,
          4.690000057220459,
          4.639999866485596,
          4.760000228881836,
          4.949999809265137,
          4.880000114440918,
          4.869999885559082,
          4.829999923706055,
          4.409999847412109,
          4.460000038146973,
          4.349999904632568,
          4.380000114440918,
          4.340000152587891,
          4.440000057220459,
          4.289999961853027,
          4.239999771118164,
          4.090000152587891,
          4.260000228881836,
          4.210000038146973,
          4.340000152587891,
          4.260000228881836,
          4.079999923706055,
          4.190000057220459,
          4.170000076293945,
          3.9600000381469727,
          3.8499999046325684,
          4.010000228881836,
          4.110000133514404,
          4.110000133514404,
          4.03000020980835,
          4.010000228881836,
          3.940000057220459,
          4.059999942779541,
          4.099999904632568,
          4.010000228881836,
          4.150000095367432,
          4.429999828338623,
          4.630000114440918,
          4.429999828338623,
          4.159999847412109,
          4.329999923706055,
          4.349999904632568,
          4.519999980926514,
          4.639999866485596,
          4.75,
          4.630000114440918,
          4.809999942779541,
          4.71999979019165,
          4.610000133514404,
          5.03000020980835,
          4.869999885559082,
          4.980000019073486,
          5.110000133514404,
          5.25,
          5.389999866485596,
          6.679999828338623,
          7.650000095367432,
          7.710000038146973,
          7.820000171661377,
          7.650000095367432,
          7.699999809265137,
          7.349999904632568,
          6.230000019073486,
          6.090000152587891,
          6.909999847412109,
          7.090000152587891,
          8.680000305175781,
          9.199999809265137,
          9.470000267028809,
          8.75,
          10.5600004196167,
          10.039999961853027,
          9.140000343322754,
          10.020000457763672,
          10.09000015258789,
          10.350000381469727,
          10.199999809265137,
          9.770000457763672,
          9.390000343322754,
          9.460000038146973,
          9.130000114440918,
          9.359999656677246,
          13.489999771118164,
          12.020000457763672,
          11.800000190734863,
          11.880000114440918,
          12.25,
          13.829999923706055,
          13.3100004196167,
          13.90999984741211,
          13.859999656677246,
          14.100000381469727,
          14.90999984741211,
          15,
          13.449999809265137,
          12.6899995803833,
          11.819999694824219,
          11.729999542236328,
          10.470000267028809,
          10.75,
          11.569999694824219,
          10.90999984741211,
          11.449999809265137,
          11.859999656677246,
          11.489999771118164,
          11.100000381469727,
          11.75,
          11.130000114440918,
          11.010000228881836,
          12.0600004196167,
          11.630000114440918,
          11.569999694824219,
          12.460000038146973,
          12.710000038146973,
          13.899999618530273,
          13.670000076293945,
          14.75,
          16.079999923706055,
          16.559999465942383,
          15.800000190734863,
          16.579999923706055,
          16.1200008392334,
          16.899999618530273,
          16.350000381469727,
          16.940000534057617,
          13.65999984741211,
          14.119999885559082,
          13.3100004196167,
          12.720000267028809,
          13.850000381469727,
          13.850000381469727,
          14.829999923706055,
          15.630000114440918,
          15.529999732971191,
          19.459999084472656,
          20.56999969482422,
          20.149999618530273,
          20.989999771118164,
          19.3799991607666,
          19.260000228881836,
          18.84000015258789,
          17.25,
          17.3700008392334,
          18.360000610351562,
          18.079999923706055,
          17.690000534057617,
          19.940000534057617,
          19.950000762939453,
          31.399999618530273,
          39.90999984741211,
          35.5,
          39.36000061035156,
          39.119998931884766,
          43.029998779296875,
          65.01000213623047,
          76.79000091552734,
          147.97999572753906,
          347.510009765625,
          193.60000610351562,
          325,
          225,
          90,
          92.41000366210938,
          53.5,
          63.77000045776367,
          60,
          50.310001373291016,
          51.20000076293945,
          51.099998474121094,
          52.400001525878906
         ],
         "yaxis": "y5"
        },
        {
         "marker": {
          "color": [
           0,
           1,
           2,
           3,
           4,
           5,
           6,
           7,
           8,
           9,
           10,
           11,
           12,
           13,
           14,
           15,
           16,
           17,
           18,
           19,
           20,
           21,
           22,
           23,
           24,
           25,
           26,
           27,
           28,
           29,
           30,
           31,
           32,
           33,
           34,
           35,
           36,
           37,
           38,
           39,
           40,
           41,
           42,
           43,
           44,
           45,
           46,
           47,
           48,
           49,
           50,
           51,
           52,
           53,
           54,
           55,
           56,
           57,
           58,
           59,
           60,
           61,
           62,
           63,
           64,
           65,
           66,
           67,
           68,
           69,
           70,
           71,
           72,
           73,
           74,
           75,
           76,
           77,
           78,
           79,
           80,
           81,
           82,
           83,
           84,
           85,
           86,
           87,
           88,
           89,
           90,
           91,
           92,
           93,
           94,
           95,
           96,
           97,
           98,
           99,
           100,
           101,
           102,
           103,
           104,
           105,
           106,
           107,
           108,
           109,
           110,
           111,
           112,
           113,
           114,
           115,
           116,
           117,
           118,
           119,
           120,
           121,
           122,
           123,
           124,
           125,
           126,
           127,
           128,
           129,
           130,
           131,
           132,
           133,
           134,
           135,
           136,
           137,
           138,
           139,
           140,
           141,
           142,
           143,
           144,
           145,
           146,
           147,
           148,
           149,
           150,
           151,
           152,
           153,
           154,
           155,
           156,
           157,
           158,
           159,
           160,
           161,
           162,
           163,
           164,
           165,
           166,
           167,
           168,
           169,
           170,
           171,
           172,
           173,
           174,
           175,
           176,
           177,
           178,
           179,
           180,
           181,
           182,
           183,
           184,
           185,
           186,
           187,
           188,
           189,
           190,
           191,
           192,
           193,
           194,
           195,
           196,
           197,
           198,
           199,
           200,
           201,
           202,
           203,
           204,
           205,
           206,
           207,
           208,
           209,
           210,
           211,
           212,
           213,
           214,
           215,
           216,
           217,
           218,
           219,
           220,
           221,
           222,
           223,
           224,
           225,
           226,
           227,
           228,
           229,
           230,
           231
          ],
          "colorscale": [
           [
            0,
            "rgb(5, 10, 172)"
           ],
           [
            1,
            "rgb(178, 10, 28)"
           ]
          ],
          "showscale": false,
          "size": 3
         },
         "mode": "markers",
         "showlegend": false,
         "type": "scatter",
         "x": [
          4866700,
          3562200,
          3651700,
          5039500,
          7722200,
          6009800,
          6805600,
          3592100,
          6185700,
          7024800,
          3350600,
          2300900,
          4568700,
          4064300,
          3830400,
          3340500,
          2836900,
          2884500,
          5908600,
          6844500,
          13506600,
          7499900,
          3371900,
          5653200,
          6085000,
          4142100,
          2677800,
          2265900,
          2236200,
          7275100,
          5200200,
          3369600,
          2173300,
          4005600,
          4068100,
          2105900,
          3369600,
          2500800,
          2353700,
          1699200,
          2639200,
          2882900,
          2004900,
          1940600,
          2371700,
          1840700,
          2543600,
          1971900,
          2379900,
          3545700,
          3146600,
          2183900,
          3973500,
          2611600,
          2369400,
          3037400,
          3514300,
          6274400,
          10133700,
          8073400,
          10606400,
          6236000,
          4378200,
          3909000,
          3121300,
          3593500,
          3423800,
          7366600,
          3178900,
          3205400,
          2976200,
          2450800,
          3801200,
          2131200,
          3889000,
          2303700,
          1887600,
          2140900,
          2456600,
          2052800,
          1992600,
          1410800,
          4216200,
          2261600,
          1474100,
          1330100,
          3065900,
          3401100,
          3341000,
          2523500,
          3237200,
          2215900,
          2472700,
          4555400,
          2879600,
          2398500,
          1879400,
          2517600,
          10361400,
          4925700,
          1901200,
          3341100,
          4561800,
          3138800,
          3057600,
          2128300,
          3474400,
          2371000,
          3834400,
          2612600,
          2441200,
          10642600,
          4585400,
          2998700,
          2779700,
          3384400,
          4236900,
          37976000,
          23211000,
          13011100,
          14344500,
          7662000,
          9816600,
          9068100,
          15558300,
          6061200,
          10119000,
          5743500,
          19256300,
          17026700,
          17407500,
          7639800,
          34752500,
          10651200,
          7938800,
          7515200,
          6764300,
          5237600,
          6079000,
          4554100,
          4340500,
          2805000,
          4535400,
          3308600,
          76453600,
          77152800,
          23655700,
          10179700,
          10776800,
          39894800,
          11651600,
          13169100,
          6604000,
          5361900,
          16212200,
          6507300,
          13376300,
          7231000,
          6388600,
          4165800,
          11546900,
          5227000,
          7454500,
          5807900,
          4705200,
          5518200,
          6244900,
          3826000,
          4882600,
          4353300,
          3535900,
          9774800,
          6678200,
          3169200,
          11787600,
          8395400,
          9599100,
          7183200,
          8860100,
          12504200,
          31983500,
          12666000,
          7883400,
          6295000,
          8972700,
          7386300,
          16120200,
          24357900,
          7558900,
          7496900,
          10007100,
          8192900,
          5865100,
          8194900,
          16618800,
          9876100,
          30652700,
          25830300,
          6262200,
          8965900,
          9241400,
          5934400,
          6918900,
          10022500,
          4961500,
          6056200,
          6129300,
          6464500,
          14927600,
          7060700,
          144501700,
          93717400,
          46752200,
          74721900,
          33471800,
          57079800,
          196784300,
          177874000,
          178588000,
          93396700,
          58815800,
          50259200,
          37382200,
          78183100,
          42698500,
          62427300,
          80886300,
          25687300,
          26843100,
          36455000,
          12997400,
          14498000
         ],
         "xaxis": "x6",
         "y": [
          4.369999885559082,
          4.230000019073486,
          3.7699999809265137,
          4.190000057220459,
          3.759999990463257,
          3.809999942779541,
          4.159999847412109,
          4.170000076293945,
          4.409999847412109,
          4.21999979019165,
          3.6500000953674316,
          3.5,
          3.25,
          2.8499999046325684,
          2.799999952316284,
          3.0899999141693115,
          3.2699999809265137,
          3.4100000858306885,
          3.890000104904175,
          4.739999771118164,
          5.949999809265137,
          5.269999980926514,
          5.03000020980835,
          4.880000114440918,
          5.610000133514404,
          4.78000020980835,
          4.889999866485596,
          4.699999809265137,
          4.769999980926514,
          5.820000171661377,
          5.639999866485596,
          6.039999961853027,
          5.730000019073486,
          6.050000190734863,
          5.480000019073486,
          5.389999866485596,
          4.929999828338623,
          4.869999885559082,
          4.980000019073486,
          4.760000228881836,
          4.539999961853027,
          4.210000038146973,
          4.130000114440918,
          4.21999979019165,
          4.579999923706055,
          4.440000057220459,
          4.429999828338623,
          4.440000057220459,
          4.179999828338623,
          4.420000076293945,
          4.690000057220459,
          4.329999923706055,
          4.059999942779541,
          4.130000114440918,
          4.179999828338623,
          4.440000057220459,
          4.46999979019165,
          4.139999866485596,
          5.010000228881836,
          4.960000038146973,
          5.070000171661377,
          4.369999885559082,
          4.71999979019165,
          4.690000057220459,
          4.639999866485596,
          4.760000228881836,
          4.949999809265137,
          4.880000114440918,
          4.869999885559082,
          4.829999923706055,
          4.409999847412109,
          4.460000038146973,
          4.349999904632568,
          4.380000114440918,
          4.340000152587891,
          4.440000057220459,
          4.289999961853027,
          4.239999771118164,
          4.090000152587891,
          4.260000228881836,
          4.210000038146973,
          4.340000152587891,
          4.260000228881836,
          4.079999923706055,
          4.190000057220459,
          4.170000076293945,
          3.9600000381469727,
          3.8499999046325684,
          4.010000228881836,
          4.110000133514404,
          4.110000133514404,
          4.03000020980835,
          4.010000228881836,
          3.940000057220459,
          4.059999942779541,
          4.099999904632568,
          4.010000228881836,
          4.150000095367432,
          4.429999828338623,
          4.630000114440918,
          4.429999828338623,
          4.159999847412109,
          4.329999923706055,
          4.349999904632568,
          4.519999980926514,
          4.639999866485596,
          4.75,
          4.630000114440918,
          4.809999942779541,
          4.71999979019165,
          4.610000133514404,
          5.03000020980835,
          4.869999885559082,
          4.980000019073486,
          5.110000133514404,
          5.25,
          5.389999866485596,
          6.679999828338623,
          7.650000095367432,
          7.710000038146973,
          7.820000171661377,
          7.650000095367432,
          7.699999809265137,
          7.349999904632568,
          6.230000019073486,
          6.090000152587891,
          6.909999847412109,
          7.090000152587891,
          8.680000305175781,
          9.199999809265137,
          9.470000267028809,
          8.75,
          10.5600004196167,
          10.039999961853027,
          9.140000343322754,
          10.020000457763672,
          10.09000015258789,
          10.350000381469727,
          10.199999809265137,
          9.770000457763672,
          9.390000343322754,
          9.460000038146973,
          9.130000114440918,
          9.359999656677246,
          13.489999771118164,
          12.020000457763672,
          11.800000190734863,
          11.880000114440918,
          12.25,
          13.829999923706055,
          13.3100004196167,
          13.90999984741211,
          13.859999656677246,
          14.100000381469727,
          14.90999984741211,
          15,
          13.449999809265137,
          12.6899995803833,
          11.819999694824219,
          11.729999542236328,
          10.470000267028809,
          10.75,
          11.569999694824219,
          10.90999984741211,
          11.449999809265137,
          11.859999656677246,
          11.489999771118164,
          11.100000381469727,
          11.75,
          11.130000114440918,
          11.010000228881836,
          12.0600004196167,
          11.630000114440918,
          11.569999694824219,
          12.460000038146973,
          12.710000038146973,
          13.899999618530273,
          13.670000076293945,
          14.75,
          16.079999923706055,
          16.559999465942383,
          15.800000190734863,
          16.579999923706055,
          16.1200008392334,
          16.899999618530273,
          16.350000381469727,
          16.940000534057617,
          13.65999984741211,
          14.119999885559082,
          13.3100004196167,
          12.720000267028809,
          13.850000381469727,
          13.850000381469727,
          14.829999923706055,
          15.630000114440918,
          15.529999732971191,
          19.459999084472656,
          20.56999969482422,
          20.149999618530273,
          20.989999771118164,
          19.3799991607666,
          19.260000228881836,
          18.84000015258789,
          17.25,
          17.3700008392334,
          18.360000610351562,
          18.079999923706055,
          17.690000534057617,
          19.940000534057617,
          19.950000762939453,
          31.399999618530273,
          39.90999984741211,
          35.5,
          39.36000061035156,
          39.119998931884766,
          43.029998779296875,
          65.01000213623047,
          76.79000091552734,
          147.97999572753906,
          347.510009765625,
          193.60000610351562,
          325,
          225,
          90,
          92.41000366210938,
          53.5,
          63.77000045776367,
          60,
          50.310001373291016,
          51.20000076293945,
          51.099998474121094,
          52.400001525878906
         ],
         "yaxis": "y6"
        },
        {
         "marker": {
          "color": [
           0,
           1,
           2,
           3,
           4,
           5,
           6,
           7,
           8,
           9,
           10,
           11,
           12,
           13,
           14,
           15,
           16,
           17,
           18,
           19,
           20,
           21,
           22,
           23,
           24,
           25,
           26,
           27,
           28,
           29,
           30,
           31,
           32,
           33,
           34,
           35,
           36,
           37,
           38,
           39,
           40,
           41,
           42,
           43,
           44,
           45,
           46,
           47,
           48,
           49,
           50,
           51,
           52,
           53,
           54,
           55,
           56,
           57,
           58,
           59,
           60,
           61,
           62,
           63,
           64,
           65,
           66,
           67,
           68,
           69,
           70,
           71,
           72,
           73,
           74,
           75,
           76,
           77,
           78,
           79,
           80,
           81,
           82,
           83,
           84,
           85,
           86,
           87,
           88,
           89,
           90,
           91,
           92,
           93,
           94,
           95,
           96,
           97,
           98,
           99,
           100,
           101,
           102,
           103,
           104,
           105,
           106,
           107,
           108,
           109,
           110,
           111,
           112,
           113,
           114,
           115,
           116,
           117,
           118,
           119,
           120,
           121,
           122,
           123,
           124,
           125,
           126,
           127,
           128,
           129,
           130,
           131,
           132,
           133,
           134,
           135,
           136,
           137,
           138,
           139,
           140,
           141,
           142,
           143,
           144,
           145,
           146,
           147,
           148,
           149,
           150,
           151,
           152,
           153,
           154,
           155,
           156,
           157,
           158,
           159,
           160,
           161,
           162,
           163,
           164,
           165,
           166,
           167,
           168,
           169,
           170,
           171,
           172,
           173,
           174,
           175,
           176,
           177,
           178,
           179,
           180,
           181,
           182,
           183,
           184,
           185,
           186,
           187,
           188,
           189,
           190,
           191,
           192,
           193,
           194,
           195,
           196,
           197,
           198,
           199,
           200,
           201,
           202,
           203,
           204,
           205,
           206,
           207,
           208,
           209,
           210,
           211,
           212,
           213,
           214,
           215,
           216,
           217,
           218,
           219,
           220,
           221,
           222,
           223,
           224,
           225,
           226,
           227,
           228,
           229,
           230,
           231
          ],
          "colorscale": [
           [
            0,
            "rgb(5, 10, 172)"
           ],
           [
            1,
            "rgb(178, 10, 28)"
           ]
          ],
          "showscale": false,
          "size": 3
         },
         "mode": "markers",
         "showlegend": false,
         "type": "scatter",
         "x": [
          3.930000066757202,
          4.400000095367432,
          4.099999904632568,
          3.7100000381469727,
          4.079999923706055,
          3.5799999237060547,
          3.950000047683716,
          4.150000095367432,
          4.239999771118164,
          4.940000057220459,
          4.21999979019165,
          3.630000114440918,
          3.450000047683716,
          3.259999990463257,
          2.8499999046325684,
          2.859999895095825,
          3.390000104904175,
          3.2300000190734863,
          3.5999999046325684,
          4.25,
          5.210000038146973,
          5.659999847412109,
          5.119999885559082,
          5.21999979019165,
          4.849999904632568,
          5.230000019073486,
          5.139999866485596,
          4.75,
          4.78000020980835,
          4.849999904632568,
          5.920000076293945,
          5.829999923706055,
          5.869999885559082,
          5.650000095367432,
          5.840000152587891,
          5.550000190734863,
          5.400000095367432,
          4.829999923706055,
          4.880000114440918,
          4.920000076293945,
          4.78000020980835,
          4.539999961853027,
          4.150000095367432,
          4.050000190734863,
          4.400000095367432,
          4.579999923706055,
          4.5,
          4.449999809265137,
          4.460000038146973,
          4.340000152587891,
          4.570000171661377,
          4.75,
          4.329999923706055,
          4.119999885559082,
          4.269999980926514,
          4.239999771118164,
          4.440000057220459,
          4.289999961853027,
          4.28000020980835,
          5,
          4.78000020980835,
          4.639999866485596,
          4.599999904632568,
          4.5,
          4.949999809265137,
          4.539999961853027,
          4.670000076293945,
          4.949999809265137,
          4.789999961853027,
          4.949999809265137,
          4.829999923706055,
          4.329999923706055,
          4.480000019073486,
          4.349999904632568,
          4.329999923706055,
          4.309999942779541,
          4.489999771118164,
          4.309999942779541,
          4.199999809265137,
          4.099999904632568,
          4.269999980926514,
          4.199999809265137,
          4.349999904632568,
          4.21999979019165,
          4.130000114440918,
          4.190000057220459,
          4.159999847412109,
          3.950000047683716,
          3.9000000953674316,
          4.019999980926514,
          4.090000152587891,
          4.059999942779541,
          4.019999980926514,
          3.9600000381469727,
          3.940000057220459,
          4,
          4.059999942779541,
          4.03000020980835,
          4.130000114440918,
          4.5,
          4.599999904632568,
          4.389999866485596,
          4.199999809265137,
          4.429999828338623,
          4.400000095367432,
          4.519999980926514,
          4.599999904632568,
          4.78000020980835,
          4.610000133514404,
          4.800000190734863,
          4.619999885559082,
          4.599999904632568,
          5.099999904632568,
          4.880000114440918,
          4.96999979019165,
          5.110000133514404,
          5.300000190734863,
          5.769999980926514,
          7.300000190734863,
          7.800000190734863,
          7.880000114440918,
          7.78000020980835,
          7.550000190734863,
          7.960000038146973,
          6.650000095367432,
          6.260000228881836,
          6.800000190734863,
          6.860000133514404,
          7.03000020980835,
          8.569999694824219,
          9.199999809265137,
          9.350000381469727,
          10.449999809265137,
          10.600000381469727,
          9.710000038146973,
          9.1899995803833,
          10.15999984741211,
          10,
          10.25,
          10.09000015258789,
          9.380000114440918,
          9.4399995803833,
          9.5600004196167,
          9.229999542236328,
          9.539999961853027,
          12.829999923706055,
          11.65999984741211,
          11.729999542236328,
          12.670000076293945,
          11.989999771118164,
          13.770000457763672,
          13.4399995803833,
          14.029999732971191,
          13.899999618530273,
          14.199999809265137,
          15.050000190734863,
          14.930000305175781,
          13.710000038146973,
          12.270000457763672,
          11.880000114440918,
          11.640000343322754,
          10.819999694824219,
          10.75,
          11.760000228881836,
          11.270000457763672,
          11.520000457763672,
          12.760000228881836,
          11.5,
          11.5,
          11.739999771118164,
          11.359999656677246,
          11.15999984741211,
          11.649999618530273,
          11.800000190734863,
          11.600000381469727,
          12.550000190734863,
          12.899999618530273,
          14.229999542236328,
          13.600000381469727,
          15.289999961853027,
          18.170000076293945,
          17.110000610351562,
          15.699999809265137,
          16.479999542236328,
          16.299999237060547,
          17,
          16.3700008392334,
          13.920000076293945,
          13.119999885559082,
          13.90999984741211,
          13.34000015258789,
          12.779999732971191,
          13.960000038146973,
          13.960000038146973,
          15.779999732971191,
          15.8100004196167,
          16.219999313354492,
          20.170000076293945,
          21.010000228881836,
          21.309999465942383,
          20.81999969482422,
          19.3799991607666,
          19.25,
          19,
          17.350000381469727,
          17.34000015258789,
          18.469999313354492,
          18.18000030517578,
          19.40999984741211,
          19.959999084472656,
          20.420000076293945,
          38.09000015258789,
          38.4900016784668,
          41.54999923706055,
          37.369998931884766,
          39.22999954223633,
          42.59000015258789,
          96.7300033569336,
          88.55999755859375,
          354.8299865722656,
          265,
          379.7099914550781,
          316.55999755859375,
          140.75999450683594,
          112.01000213623047,
          91.19000244140625,
          54.040000915527344,
          72.41000366210938,
          56.61000061035156,
          50.77000045776367,
          50.0099983215332,
          50.75
         ],
         "xaxis": "x7",
         "y": [
          4866700,
          3562200,
          3651700,
          5039500,
          7722200,
          6009800,
          6805600,
          3592100,
          6185700,
          7024800,
          3350600,
          2300900,
          4568700,
          4064300,
          3830400,
          3340500,
          2836900,
          2884500,
          5908600,
          6844500,
          13506600,
          7499900,
          3371900,
          5653200,
          6085000,
          4142100,
          2677800,
          2265900,
          2236200,
          7275100,
          5200200,
          3369600,
          2173300,
          4005600,
          4068100,
          2105900,
          3369600,
          2500800,
          2353700,
          1699200,
          2639200,
          2882900,
          2004900,
          1940600,
          2371700,
          1840700,
          2543600,
          1971900,
          2379900,
          3545700,
          3146600,
          2183900,
          3973500,
          2611600,
          2369400,
          3037400,
          3514300,
          6274400,
          10133700,
          8073400,
          10606400,
          6236000,
          4378200,
          3909000,
          3121300,
          3593500,
          3423800,
          7366600,
          3178900,
          3205400,
          2976200,
          2450800,
          3801200,
          2131200,
          3889000,
          2303700,
          1887600,
          2140900,
          2456600,
          2052800,
          1992600,
          1410800,
          4216200,
          2261600,
          1474100,
          1330100,
          3065900,
          3401100,
          3341000,
          2523500,
          3237200,
          2215900,
          2472700,
          4555400,
          2879600,
          2398500,
          1879400,
          2517600,
          10361400,
          4925700,
          1901200,
          3341100,
          4561800,
          3138800,
          3057600,
          2128300,
          3474400,
          2371000,
          3834400,
          2612600,
          2441200,
          10642600,
          4585400,
          2998700,
          2779700,
          3384400,
          4236900,
          37976000,
          23211000,
          13011100,
          14344500,
          7662000,
          9816600,
          9068100,
          15558300,
          6061200,
          10119000,
          5743500,
          19256300,
          17026700,
          17407500,
          7639800,
          34752500,
          10651200,
          7938800,
          7515200,
          6764300,
          5237600,
          6079000,
          4554100,
          4340500,
          2805000,
          4535400,
          3308600,
          76453600,
          77152800,
          23655700,
          10179700,
          10776800,
          39894800,
          11651600,
          13169100,
          6604000,
          5361900,
          16212200,
          6507300,
          13376300,
          7231000,
          6388600,
          4165800,
          11546900,
          5227000,
          7454500,
          5807900,
          4705200,
          5518200,
          6244900,
          3826000,
          4882600,
          4353300,
          3535900,
          9774800,
          6678200,
          3169200,
          11787600,
          8395400,
          9599100,
          7183200,
          8860100,
          12504200,
          31983500,
          12666000,
          7883400,
          6295000,
          8972700,
          7386300,
          16120200,
          24357900,
          7558900,
          7496900,
          10007100,
          8192900,
          5865100,
          8194900,
          16618800,
          9876100,
          30652700,
          25830300,
          6262200,
          8965900,
          9241400,
          5934400,
          6918900,
          10022500,
          4961500,
          6056200,
          6129300,
          6464500,
          14927600,
          7060700,
          144501700,
          93717400,
          46752200,
          74721900,
          33471800,
          57079800,
          196784300,
          177874000,
          178588000,
          93396700,
          58815800,
          50259200,
          37382200,
          78183100,
          42698500,
          62427300,
          80886300,
          25687300,
          26843100,
          36455000,
          12997400,
          14498000
         ],
         "yaxis": "y7"
        },
        {
         "marker": {
          "color": [
           0,
           1,
           2,
           3,
           4,
           5,
           6,
           7,
           8,
           9,
           10,
           11,
           12,
           13,
           14,
           15,
           16,
           17,
           18,
           19,
           20,
           21,
           22,
           23,
           24,
           25,
           26,
           27,
           28,
           29,
           30,
           31,
           32,
           33,
           34,
           35,
           36,
           37,
           38,
           39,
           40,
           41,
           42,
           43,
           44,
           45,
           46,
           47,
           48,
           49,
           50,
           51,
           52,
           53,
           54,
           55,
           56,
           57,
           58,
           59,
           60,
           61,
           62,
           63,
           64,
           65,
           66,
           67,
           68,
           69,
           70,
           71,
           72,
           73,
           74,
           75,
           76,
           77,
           78,
           79,
           80,
           81,
           82,
           83,
           84,
           85,
           86,
           87,
           88,
           89,
           90,
           91,
           92,
           93,
           94,
           95,
           96,
           97,
           98,
           99,
           100,
           101,
           102,
           103,
           104,
           105,
           106,
           107,
           108,
           109,
           110,
           111,
           112,
           113,
           114,
           115,
           116,
           117,
           118,
           119,
           120,
           121,
           122,
           123,
           124,
           125,
           126,
           127,
           128,
           129,
           130,
           131,
           132,
           133,
           134,
           135,
           136,
           137,
           138,
           139,
           140,
           141,
           142,
           143,
           144,
           145,
           146,
           147,
           148,
           149,
           150,
           151,
           152,
           153,
           154,
           155,
           156,
           157,
           158,
           159,
           160,
           161,
           162,
           163,
           164,
           165,
           166,
           167,
           168,
           169,
           170,
           171,
           172,
           173,
           174,
           175,
           176,
           177,
           178,
           179,
           180,
           181,
           182,
           183,
           184,
           185,
           186,
           187,
           188,
           189,
           190,
           191,
           192,
           193,
           194,
           195,
           196,
           197,
           198,
           199,
           200,
           201,
           202,
           203,
           204,
           205,
           206,
           207,
           208,
           209,
           210,
           211,
           212,
           213,
           214,
           215,
           216,
           217,
           218,
           219,
           220,
           221,
           222,
           223,
           224,
           225,
           226,
           227,
           228,
           229,
           230,
           231
          ],
          "colorscale": [
           [
            0,
            "rgb(5, 10, 172)"
           ],
           [
            1,
            "rgb(178, 10, 28)"
           ]
          ],
          "showscale": false,
          "size": 3
         },
         "mode": "markers",
         "showlegend": false,
         "type": "scatter",
         "x": [
          4.369999885559082,
          4.230000019073486,
          3.7699999809265137,
          4.190000057220459,
          3.759999990463257,
          3.809999942779541,
          4.159999847412109,
          4.170000076293945,
          4.409999847412109,
          4.21999979019165,
          3.6500000953674316,
          3.5,
          3.25,
          2.8499999046325684,
          2.799999952316284,
          3.0899999141693115,
          3.2699999809265137,
          3.4100000858306885,
          3.890000104904175,
          4.739999771118164,
          5.949999809265137,
          5.269999980926514,
          5.03000020980835,
          4.880000114440918,
          5.610000133514404,
          4.78000020980835,
          4.889999866485596,
          4.699999809265137,
          4.769999980926514,
          5.820000171661377,
          5.639999866485596,
          6.039999961853027,
          5.730000019073486,
          6.050000190734863,
          5.480000019073486,
          5.389999866485596,
          4.929999828338623,
          4.869999885559082,
          4.980000019073486,
          4.760000228881836,
          4.539999961853027,
          4.210000038146973,
          4.130000114440918,
          4.21999979019165,
          4.579999923706055,
          4.440000057220459,
          4.429999828338623,
          4.440000057220459,
          4.179999828338623,
          4.420000076293945,
          4.690000057220459,
          4.329999923706055,
          4.059999942779541,
          4.130000114440918,
          4.179999828338623,
          4.440000057220459,
          4.46999979019165,
          4.139999866485596,
          5.010000228881836,
          4.960000038146973,
          5.070000171661377,
          4.369999885559082,
          4.71999979019165,
          4.690000057220459,
          4.639999866485596,
          4.760000228881836,
          4.949999809265137,
          4.880000114440918,
          4.869999885559082,
          4.829999923706055,
          4.409999847412109,
          4.460000038146973,
          4.349999904632568,
          4.380000114440918,
          4.340000152587891,
          4.440000057220459,
          4.289999961853027,
          4.239999771118164,
          4.090000152587891,
          4.260000228881836,
          4.210000038146973,
          4.340000152587891,
          4.260000228881836,
          4.079999923706055,
          4.190000057220459,
          4.170000076293945,
          3.9600000381469727,
          3.8499999046325684,
          4.010000228881836,
          4.110000133514404,
          4.110000133514404,
          4.03000020980835,
          4.010000228881836,
          3.940000057220459,
          4.059999942779541,
          4.099999904632568,
          4.010000228881836,
          4.150000095367432,
          4.429999828338623,
          4.630000114440918,
          4.429999828338623,
          4.159999847412109,
          4.329999923706055,
          4.349999904632568,
          4.519999980926514,
          4.639999866485596,
          4.75,
          4.630000114440918,
          4.809999942779541,
          4.71999979019165,
          4.610000133514404,
          5.03000020980835,
          4.869999885559082,
          4.980000019073486,
          5.110000133514404,
          5.25,
          5.389999866485596,
          6.679999828338623,
          7.650000095367432,
          7.710000038146973,
          7.820000171661377,
          7.650000095367432,
          7.699999809265137,
          7.349999904632568,
          6.230000019073486,
          6.090000152587891,
          6.909999847412109,
          7.090000152587891,
          8.680000305175781,
          9.199999809265137,
          9.470000267028809,
          8.75,
          10.5600004196167,
          10.039999961853027,
          9.140000343322754,
          10.020000457763672,
          10.09000015258789,
          10.350000381469727,
          10.199999809265137,
          9.770000457763672,
          9.390000343322754,
          9.460000038146973,
          9.130000114440918,
          9.359999656677246,
          13.489999771118164,
          12.020000457763672,
          11.800000190734863,
          11.880000114440918,
          12.25,
          13.829999923706055,
          13.3100004196167,
          13.90999984741211,
          13.859999656677246,
          14.100000381469727,
          14.90999984741211,
          15,
          13.449999809265137,
          12.6899995803833,
          11.819999694824219,
          11.729999542236328,
          10.470000267028809,
          10.75,
          11.569999694824219,
          10.90999984741211,
          11.449999809265137,
          11.859999656677246,
          11.489999771118164,
          11.100000381469727,
          11.75,
          11.130000114440918,
          11.010000228881836,
          12.0600004196167,
          11.630000114440918,
          11.569999694824219,
          12.460000038146973,
          12.710000038146973,
          13.899999618530273,
          13.670000076293945,
          14.75,
          16.079999923706055,
          16.559999465942383,
          15.800000190734863,
          16.579999923706055,
          16.1200008392334,
          16.899999618530273,
          16.350000381469727,
          16.940000534057617,
          13.65999984741211,
          14.119999885559082,
          13.3100004196167,
          12.720000267028809,
          13.850000381469727,
          13.850000381469727,
          14.829999923706055,
          15.630000114440918,
          15.529999732971191,
          19.459999084472656,
          20.56999969482422,
          20.149999618530273,
          20.989999771118164,
          19.3799991607666,
          19.260000228881836,
          18.84000015258789,
          17.25,
          17.3700008392334,
          18.360000610351562,
          18.079999923706055,
          17.690000534057617,
          19.940000534057617,
          19.950000762939453,
          31.399999618530273,
          39.90999984741211,
          35.5,
          39.36000061035156,
          39.119998931884766,
          43.029998779296875,
          65.01000213623047,
          76.79000091552734,
          147.97999572753906,
          347.510009765625,
          193.60000610351562,
          325,
          225,
          90,
          92.41000366210938,
          53.5,
          63.77000045776367,
          60,
          50.310001373291016,
          51.20000076293945,
          51.099998474121094,
          52.400001525878906
         ],
         "xaxis": "x8",
         "y": [
          4866700,
          3562200,
          3651700,
          5039500,
          7722200,
          6009800,
          6805600,
          3592100,
          6185700,
          7024800,
          3350600,
          2300900,
          4568700,
          4064300,
          3830400,
          3340500,
          2836900,
          2884500,
          5908600,
          6844500,
          13506600,
          7499900,
          3371900,
          5653200,
          6085000,
          4142100,
          2677800,
          2265900,
          2236200,
          7275100,
          5200200,
          3369600,
          2173300,
          4005600,
          4068100,
          2105900,
          3369600,
          2500800,
          2353700,
          1699200,
          2639200,
          2882900,
          2004900,
          1940600,
          2371700,
          1840700,
          2543600,
          1971900,
          2379900,
          3545700,
          3146600,
          2183900,
          3973500,
          2611600,
          2369400,
          3037400,
          3514300,
          6274400,
          10133700,
          8073400,
          10606400,
          6236000,
          4378200,
          3909000,
          3121300,
          3593500,
          3423800,
          7366600,
          3178900,
          3205400,
          2976200,
          2450800,
          3801200,
          2131200,
          3889000,
          2303700,
          1887600,
          2140900,
          2456600,
          2052800,
          1992600,
          1410800,
          4216200,
          2261600,
          1474100,
          1330100,
          3065900,
          3401100,
          3341000,
          2523500,
          3237200,
          2215900,
          2472700,
          4555400,
          2879600,
          2398500,
          1879400,
          2517600,
          10361400,
          4925700,
          1901200,
          3341100,
          4561800,
          3138800,
          3057600,
          2128300,
          3474400,
          2371000,
          3834400,
          2612600,
          2441200,
          10642600,
          4585400,
          2998700,
          2779700,
          3384400,
          4236900,
          37976000,
          23211000,
          13011100,
          14344500,
          7662000,
          9816600,
          9068100,
          15558300,
          6061200,
          10119000,
          5743500,
          19256300,
          17026700,
          17407500,
          7639800,
          34752500,
          10651200,
          7938800,
          7515200,
          6764300,
          5237600,
          6079000,
          4554100,
          4340500,
          2805000,
          4535400,
          3308600,
          76453600,
          77152800,
          23655700,
          10179700,
          10776800,
          39894800,
          11651600,
          13169100,
          6604000,
          5361900,
          16212200,
          6507300,
          13376300,
          7231000,
          6388600,
          4165800,
          11546900,
          5227000,
          7454500,
          5807900,
          4705200,
          5518200,
          6244900,
          3826000,
          4882600,
          4353300,
          3535900,
          9774800,
          6678200,
          3169200,
          11787600,
          8395400,
          9599100,
          7183200,
          8860100,
          12504200,
          31983500,
          12666000,
          7883400,
          6295000,
          8972700,
          7386300,
          16120200,
          24357900,
          7558900,
          7496900,
          10007100,
          8192900,
          5865100,
          8194900,
          16618800,
          9876100,
          30652700,
          25830300,
          6262200,
          8965900,
          9241400,
          5934400,
          6918900,
          10022500,
          4961500,
          6056200,
          6129300,
          6464500,
          14927600,
          7060700,
          144501700,
          93717400,
          46752200,
          74721900,
          33471800,
          57079800,
          196784300,
          177874000,
          178588000,
          93396700,
          58815800,
          50259200,
          37382200,
          78183100,
          42698500,
          62427300,
          80886300,
          25687300,
          26843100,
          36455000,
          12997400,
          14498000
         ],
         "yaxis": "y8"
        },
        {
         "marker": {
          "color": "rgb(5, 10, 172)"
         },
         "showlegend": false,
         "type": "box",
         "xaxis": "x9",
         "y": [
          4866700,
          3562200,
          3651700,
          5039500,
          7722200,
          6009800,
          6805600,
          3592100,
          6185700,
          7024800,
          3350600,
          2300900,
          4568700,
          4064300,
          3830400,
          3340500,
          2836900,
          2884500,
          5908600,
          6844500,
          13506600,
          7499900,
          3371900,
          5653200,
          6085000,
          4142100,
          2677800,
          2265900,
          2236200,
          7275100,
          5200200,
          3369600,
          2173300,
          4005600,
          4068100,
          2105900,
          3369600,
          2500800,
          2353700,
          1699200,
          2639200,
          2882900,
          2004900,
          1940600,
          2371700,
          1840700,
          2543600,
          1971900,
          2379900,
          3545700,
          3146600,
          2183900,
          3973500,
          2611600,
          2369400,
          3037400,
          3514300,
          6274400,
          10133700,
          8073400,
          10606400,
          6236000,
          4378200,
          3909000,
          3121300,
          3593500,
          3423800,
          7366600,
          3178900,
          3205400,
          2976200,
          2450800,
          3801200,
          2131200,
          3889000,
          2303700,
          1887600,
          2140900,
          2456600,
          2052800,
          1992600,
          1410800,
          4216200,
          2261600,
          1474100,
          1330100,
          3065900,
          3401100,
          3341000,
          2523500,
          3237200,
          2215900,
          2472700,
          4555400,
          2879600,
          2398500,
          1879400,
          2517600,
          10361400,
          4925700,
          1901200,
          3341100,
          4561800,
          3138800,
          3057600,
          2128300,
          3474400,
          2371000,
          3834400,
          2612600,
          2441200,
          10642600,
          4585400,
          2998700,
          2779700,
          3384400,
          4236900,
          37976000,
          23211000,
          13011100,
          14344500,
          7662000,
          9816600,
          9068100,
          15558300,
          6061200,
          10119000,
          5743500,
          19256300,
          17026700,
          17407500,
          7639800,
          34752500,
          10651200,
          7938800,
          7515200,
          6764300,
          5237600,
          6079000,
          4554100,
          4340500,
          2805000,
          4535400,
          3308600,
          76453600,
          77152800,
          23655700,
          10179700,
          10776800,
          39894800,
          11651600,
          13169100,
          6604000,
          5361900,
          16212200,
          6507300,
          13376300,
          7231000,
          6388600,
          4165800,
          11546900,
          5227000,
          7454500,
          5807900,
          4705200,
          5518200,
          6244900,
          3826000,
          4882600,
          4353300,
          3535900,
          9774800,
          6678200,
          3169200,
          11787600,
          8395400,
          9599100,
          7183200,
          8860100,
          12504200,
          31983500,
          12666000,
          7883400,
          6295000,
          8972700,
          7386300,
          16120200,
          24357900,
          7558900,
          7496900,
          10007100,
          8192900,
          5865100,
          8194900,
          16618800,
          9876100,
          30652700,
          25830300,
          6262200,
          8965900,
          9241400,
          5934400,
          6918900,
          10022500,
          4961500,
          6056200,
          6129300,
          6464500,
          14927600,
          7060700,
          144501700,
          93717400,
          46752200,
          74721900,
          33471800,
          57079800,
          196784300,
          177874000,
          178588000,
          93396700,
          58815800,
          50259200,
          37382200,
          78183100,
          42698500,
          62427300,
          80886300,
          25687300,
          26843100,
          36455000,
          12997400,
          14498000
         ],
         "yaxis": "y9"
        }
       ],
       "layout": {
        "height": 600,
        "showlegend": true,
        "template": {
         "data": {
          "bar": [
           {
            "error_x": {
             "color": "#f2f5fa"
            },
            "error_y": {
             "color": "#f2f5fa"
            },
            "marker": {
             "line": {
              "color": "rgb(17,17,17)",
              "width": 0.5
             }
            },
            "type": "bar"
           }
          ],
          "barpolar": [
           {
            "marker": {
             "line": {
              "color": "rgb(17,17,17)",
              "width": 0.5
             }
            },
            "type": "barpolar"
           }
          ],
          "carpet": [
           {
            "aaxis": {
             "endlinecolor": "#A2B1C6",
             "gridcolor": "#506784",
             "linecolor": "#506784",
             "minorgridcolor": "#506784",
             "startlinecolor": "#A2B1C6"
            },
            "baxis": {
             "endlinecolor": "#A2B1C6",
             "gridcolor": "#506784",
             "linecolor": "#506784",
             "minorgridcolor": "#506784",
             "startlinecolor": "#A2B1C6"
            },
            "type": "carpet"
           }
          ],
          "choropleth": [
           {
            "colorbar": {
             "outlinewidth": 0,
             "ticks": ""
            },
            "type": "choropleth"
           }
          ],
          "contour": [
           {
            "colorbar": {
             "outlinewidth": 0,
             "ticks": ""
            },
            "colorscale": [
             [
              0,
              "#0d0887"
             ],
             [
              0.1111111111111111,
              "#46039f"
             ],
             [
              0.2222222222222222,
              "#7201a8"
             ],
             [
              0.3333333333333333,
              "#9c179e"
             ],
             [
              0.4444444444444444,
              "#bd3786"
             ],
             [
              0.5555555555555556,
              "#d8576b"
             ],
             [
              0.6666666666666666,
              "#ed7953"
             ],
             [
              0.7777777777777778,
              "#fb9f3a"
             ],
             [
              0.8888888888888888,
              "#fdca26"
             ],
             [
              1,
              "#f0f921"
             ]
            ],
            "type": "contour"
           }
          ],
          "contourcarpet": [
           {
            "colorbar": {
             "outlinewidth": 0,
             "ticks": ""
            },
            "type": "contourcarpet"
           }
          ],
          "heatmap": [
           {
            "colorbar": {
             "outlinewidth": 0,
             "ticks": ""
            },
            "colorscale": [
             [
              0,
              "#0d0887"
             ],
             [
              0.1111111111111111,
              "#46039f"
             ],
             [
              0.2222222222222222,
              "#7201a8"
             ],
             [
              0.3333333333333333,
              "#9c179e"
             ],
             [
              0.4444444444444444,
              "#bd3786"
             ],
             [
              0.5555555555555556,
              "#d8576b"
             ],
             [
              0.6666666666666666,
              "#ed7953"
             ],
             [
              0.7777777777777778,
              "#fb9f3a"
             ],
             [
              0.8888888888888888,
              "#fdca26"
             ],
             [
              1,
              "#f0f921"
             ]
            ],
            "type": "heatmap"
           }
          ],
          "heatmapgl": [
           {
            "colorbar": {
             "outlinewidth": 0,
             "ticks": ""
            },
            "colorscale": [
             [
              0,
              "#0d0887"
             ],
             [
              0.1111111111111111,
              "#46039f"
             ],
             [
              0.2222222222222222,
              "#7201a8"
             ],
             [
              0.3333333333333333,
              "#9c179e"
             ],
             [
              0.4444444444444444,
              "#bd3786"
             ],
             [
              0.5555555555555556,
              "#d8576b"
             ],
             [
              0.6666666666666666,
              "#ed7953"
             ],
             [
              0.7777777777777778,
              "#fb9f3a"
             ],
             [
              0.8888888888888888,
              "#fdca26"
             ],
             [
              1,
              "#f0f921"
             ]
            ],
            "type": "heatmapgl"
           }
          ],
          "histogram": [
           {
            "marker": {
             "colorbar": {
              "outlinewidth": 0,
              "ticks": ""
             }
            },
            "type": "histogram"
           }
          ],
          "histogram2d": [
           {
            "colorbar": {
             "outlinewidth": 0,
             "ticks": ""
            },
            "colorscale": [
             [
              0,
              "#0d0887"
             ],
             [
              0.1111111111111111,
              "#46039f"
             ],
             [
              0.2222222222222222,
              "#7201a8"
             ],
             [
              0.3333333333333333,
              "#9c179e"
             ],
             [
              0.4444444444444444,
              "#bd3786"
             ],
             [
              0.5555555555555556,
              "#d8576b"
             ],
             [
              0.6666666666666666,
              "#ed7953"
             ],
             [
              0.7777777777777778,
              "#fb9f3a"
             ],
             [
              0.8888888888888888,
              "#fdca26"
             ],
             [
              1,
              "#f0f921"
             ]
            ],
            "type": "histogram2d"
           }
          ],
          "histogram2dcontour": [
           {
            "colorbar": {
             "outlinewidth": 0,
             "ticks": ""
            },
            "colorscale": [
             [
              0,
              "#0d0887"
             ],
             [
              0.1111111111111111,
              "#46039f"
             ],
             [
              0.2222222222222222,
              "#7201a8"
             ],
             [
              0.3333333333333333,
              "#9c179e"
             ],
             [
              0.4444444444444444,
              "#bd3786"
             ],
             [
              0.5555555555555556,
              "#d8576b"
             ],
             [
              0.6666666666666666,
              "#ed7953"
             ],
             [
              0.7777777777777778,
              "#fb9f3a"
             ],
             [
              0.8888888888888888,
              "#fdca26"
             ],
             [
              1,
              "#f0f921"
             ]
            ],
            "type": "histogram2dcontour"
           }
          ],
          "mesh3d": [
           {
            "colorbar": {
             "outlinewidth": 0,
             "ticks": ""
            },
            "type": "mesh3d"
           }
          ],
          "parcoords": [
           {
            "line": {
             "colorbar": {
              "outlinewidth": 0,
              "ticks": ""
             }
            },
            "type": "parcoords"
           }
          ],
          "pie": [
           {
            "automargin": true,
            "type": "pie"
           }
          ],
          "scatter": [
           {
            "marker": {
             "line": {
              "color": "#283442"
             }
            },
            "type": "scatter"
           }
          ],
          "scatter3d": [
           {
            "line": {
             "colorbar": {
              "outlinewidth": 0,
              "ticks": ""
             }
            },
            "marker": {
             "colorbar": {
              "outlinewidth": 0,
              "ticks": ""
             }
            },
            "type": "scatter3d"
           }
          ],
          "scattercarpet": [
           {
            "marker": {
             "colorbar": {
              "outlinewidth": 0,
              "ticks": ""
             }
            },
            "type": "scattercarpet"
           }
          ],
          "scattergeo": [
           {
            "marker": {
             "colorbar": {
              "outlinewidth": 0,
              "ticks": ""
             }
            },
            "type": "scattergeo"
           }
          ],
          "scattergl": [
           {
            "marker": {
             "line": {
              "color": "#283442"
             }
            },
            "type": "scattergl"
           }
          ],
          "scattermapbox": [
           {
            "marker": {
             "colorbar": {
              "outlinewidth": 0,
              "ticks": ""
             }
            },
            "type": "scattermapbox"
           }
          ],
          "scatterpolar": [
           {
            "marker": {
             "colorbar": {
              "outlinewidth": 0,
              "ticks": ""
             }
            },
            "type": "scatterpolar"
           }
          ],
          "scatterpolargl": [
           {
            "marker": {
             "colorbar": {
              "outlinewidth": 0,
              "ticks": ""
             }
            },
            "type": "scatterpolargl"
           }
          ],
          "scatterternary": [
           {
            "marker": {
             "colorbar": {
              "outlinewidth": 0,
              "ticks": ""
             }
            },
            "type": "scatterternary"
           }
          ],
          "surface": [
           {
            "colorbar": {
             "outlinewidth": 0,
             "ticks": ""
            },
            "colorscale": [
             [
              0,
              "#0d0887"
             ],
             [
              0.1111111111111111,
              "#46039f"
             ],
             [
              0.2222222222222222,
              "#7201a8"
             ],
             [
              0.3333333333333333,
              "#9c179e"
             ],
             [
              0.4444444444444444,
              "#bd3786"
             ],
             [
              0.5555555555555556,
              "#d8576b"
             ],
             [
              0.6666666666666666,
              "#ed7953"
             ],
             [
              0.7777777777777778,
              "#fb9f3a"
             ],
             [
              0.8888888888888888,
              "#fdca26"
             ],
             [
              1,
              "#f0f921"
             ]
            ],
            "type": "surface"
           }
          ],
          "table": [
           {
            "cells": {
             "fill": {
              "color": "#506784"
             },
             "line": {
              "color": "rgb(17,17,17)"
             }
            },
            "header": {
             "fill": {
              "color": "#2a3f5f"
             },
             "line": {
              "color": "rgb(17,17,17)"
             }
            },
            "type": "table"
           }
          ]
         },
         "layout": {
          "annotationdefaults": {
           "arrowcolor": "#f2f5fa",
           "arrowhead": 0,
           "arrowwidth": 1
          },
          "autotypenumbers": "strict",
          "coloraxis": {
           "colorbar": {
            "outlinewidth": 0,
            "ticks": ""
           }
          },
          "colorscale": {
           "diverging": [
            [
             0,
             "#8e0152"
            ],
            [
             0.1,
             "#c51b7d"
            ],
            [
             0.2,
             "#de77ae"
            ],
            [
             0.3,
             "#f1b6da"
            ],
            [
             0.4,
             "#fde0ef"
            ],
            [
             0.5,
             "#f7f7f7"
            ],
            [
             0.6,
             "#e6f5d0"
            ],
            [
             0.7,
             "#b8e186"
            ],
            [
             0.8,
             "#7fbc41"
            ],
            [
             0.9,
             "#4d9221"
            ],
            [
             1,
             "#276419"
            ]
           ],
           "sequential": [
            [
             0,
             "#0d0887"
            ],
            [
             0.1111111111111111,
             "#46039f"
            ],
            [
             0.2222222222222222,
             "#7201a8"
            ],
            [
             0.3333333333333333,
             "#9c179e"
            ],
            [
             0.4444444444444444,
             "#bd3786"
            ],
            [
             0.5555555555555556,
             "#d8576b"
            ],
            [
             0.6666666666666666,
             "#ed7953"
            ],
            [
             0.7777777777777778,
             "#fb9f3a"
            ],
            [
             0.8888888888888888,
             "#fdca26"
            ],
            [
             1,
             "#f0f921"
            ]
           ],
           "sequentialminus": [
            [
             0,
             "#0d0887"
            ],
            [
             0.1111111111111111,
             "#46039f"
            ],
            [
             0.2222222222222222,
             "#7201a8"
            ],
            [
             0.3333333333333333,
             "#9c179e"
            ],
            [
             0.4444444444444444,
             "#bd3786"
            ],
            [
             0.5555555555555556,
             "#d8576b"
            ],
            [
             0.6666666666666666,
             "#ed7953"
            ],
            [
             0.7777777777777778,
             "#fb9f3a"
            ],
            [
             0.8888888888888888,
             "#fdca26"
            ],
            [
             1,
             "#f0f921"
            ]
           ]
          },
          "colorway": [
           "#636efa",
           "#EF553B",
           "#00cc96",
           "#ab63fa",
           "#FFA15A",
           "#19d3f3",
           "#FF6692",
           "#B6E880",
           "#FF97FF",
           "#FECB52"
          ],
          "font": {
           "color": "#f2f5fa"
          },
          "geo": {
           "bgcolor": "rgb(17,17,17)",
           "lakecolor": "rgb(17,17,17)",
           "landcolor": "rgb(17,17,17)",
           "showlakes": true,
           "showland": true,
           "subunitcolor": "#506784"
          },
          "hoverlabel": {
           "align": "left"
          },
          "hovermode": "closest",
          "mapbox": {
           "style": "dark"
          },
          "paper_bgcolor": "rgb(17,17,17)",
          "plot_bgcolor": "rgb(17,17,17)",
          "polar": {
           "angularaxis": {
            "gridcolor": "#506784",
            "linecolor": "#506784",
            "ticks": ""
           },
           "bgcolor": "rgb(17,17,17)",
           "radialaxis": {
            "gridcolor": "#506784",
            "linecolor": "#506784",
            "ticks": ""
           }
          },
          "scene": {
           "xaxis": {
            "backgroundcolor": "rgb(17,17,17)",
            "gridcolor": "#506784",
            "gridwidth": 2,
            "linecolor": "#506784",
            "showbackground": true,
            "ticks": "",
            "zerolinecolor": "#C8D4E3"
           },
           "yaxis": {
            "backgroundcolor": "rgb(17,17,17)",
            "gridcolor": "#506784",
            "gridwidth": 2,
            "linecolor": "#506784",
            "showbackground": true,
            "ticks": "",
            "zerolinecolor": "#C8D4E3"
           },
           "zaxis": {
            "backgroundcolor": "rgb(17,17,17)",
            "gridcolor": "#506784",
            "gridwidth": 2,
            "linecolor": "#506784",
            "showbackground": true,
            "ticks": "",
            "zerolinecolor": "#C8D4E3"
           }
          },
          "shapedefaults": {
           "line": {
            "color": "#f2f5fa"
           }
          },
          "sliderdefaults": {
           "bgcolor": "#C8D4E3",
           "bordercolor": "rgb(17,17,17)",
           "borderwidth": 1,
           "tickwidth": 0
          },
          "ternary": {
           "aaxis": {
            "gridcolor": "#506784",
            "linecolor": "#506784",
            "ticks": ""
           },
           "baxis": {
            "gridcolor": "#506784",
            "linecolor": "#506784",
            "ticks": ""
           },
           "bgcolor": "rgb(17,17,17)",
           "caxis": {
            "gridcolor": "#506784",
            "linecolor": "#506784",
            "ticks": ""
           }
          },
          "title": {
           "x": 0.05
          },
          "updatemenudefaults": {
           "bgcolor": "#506784",
           "borderwidth": 0
          },
          "xaxis": {
           "automargin": true,
           "gridcolor": "#283442",
           "linecolor": "#506784",
           "ticks": "",
           "title": {
            "standoff": 15
           },
           "zerolinecolor": "#283442",
           "zerolinewidth": 2
          },
          "yaxis": {
           "automargin": true,
           "gridcolor": "#283442",
           "linecolor": "#506784",
           "ticks": "",
           "title": {
            "standoff": 15
           },
           "zerolinecolor": "#283442",
           "zerolinewidth": 2
          }
         }
        },
        "title": {
         "text": "GameStop Stock Price (Scatterplot Matrix)",
         "x": 0.5,
         "xanchor": "center"
        },
        "width": 1150,
        "xaxis": {
         "anchor": "y",
         "domain": [
          0,
          0.2888888888888889
         ],
         "showticklabels": false
        },
        "xaxis2": {
         "anchor": "y2",
         "domain": [
          0.35555555555555557,
          0.6444444444444445
         ]
        },
        "xaxis3": {
         "anchor": "y3",
         "domain": [
          0.7111111111111111,
          1
         ]
        },
        "xaxis4": {
         "anchor": "y4",
         "domain": [
          0,
          0.2888888888888889
         ]
        },
        "xaxis5": {
         "anchor": "y5",
         "domain": [
          0.35555555555555557,
          0.6444444444444445
         ],
         "showticklabels": false
        },
        "xaxis6": {
         "anchor": "y6",
         "domain": [
          0.7111111111111111,
          1
         ]
        },
        "xaxis7": {
         "anchor": "y7",
         "domain": [
          0,
          0.2888888888888889
         ],
         "title": {
          "text": "Open"
         }
        },
        "xaxis8": {
         "anchor": "y8",
         "domain": [
          0.35555555555555557,
          0.6444444444444445
         ],
         "title": {
          "text": "Close"
         }
        },
        "xaxis9": {
         "anchor": "y9",
         "domain": [
          0.7111111111111111,
          1
         ],
         "showticklabels": false,
         "title": {
          "text": "Volume"
         }
        },
        "yaxis": {
         "anchor": "x",
         "domain": [
          0.7333333333333333,
          1
         ],
         "title": {
          "text": "Open"
         }
        },
        "yaxis2": {
         "anchor": "x2",
         "domain": [
          0.7333333333333333,
          1
         ]
        },
        "yaxis3": {
         "anchor": "x3",
         "domain": [
          0.7333333333333333,
          1
         ]
        },
        "yaxis4": {
         "anchor": "x4",
         "domain": [
          0.36666666666666664,
          0.6333333333333333
         ],
         "title": {
          "text": "Close"
         }
        },
        "yaxis5": {
         "anchor": "x5",
         "domain": [
          0.36666666666666664,
          0.6333333333333333
         ]
        },
        "yaxis6": {
         "anchor": "x6",
         "domain": [
          0.36666666666666664,
          0.6333333333333333
         ]
        },
        "yaxis7": {
         "anchor": "x7",
         "domain": [
          0,
          0.26666666666666666
         ],
         "title": {
          "text": "Volume"
         }
        },
        "yaxis8": {
         "anchor": "x8",
         "domain": [
          0,
          0.26666666666666666
         ]
        },
        "yaxis9": {
         "anchor": "x9",
         "domain": [
          0,
          0.26666666666666666
         ]
        }
       }
      },
      "text/html": [
       "<div>                            <div id=\"1a1399d6-4cfa-4c7b-b482-cc89ed9b0988\" class=\"plotly-graph-div\" style=\"height:600px; width:1150px;\"></div>            <script type=\"text/javascript\">                require([\"plotly\"], function(Plotly) {                    window.PLOTLYENV=window.PLOTLYENV || {};                                    if (document.getElementById(\"1a1399d6-4cfa-4c7b-b482-cc89ed9b0988\")) {                    Plotly.newPlot(                        \"1a1399d6-4cfa-4c7b-b482-cc89ed9b0988\",                        [{\"marker\": {\"color\": \"rgb(5, 10, 172)\"}, \"showlegend\": false, \"type\": \"box\", \"xaxis\": \"x\", \"y\": [3.930000066757202, 4.400000095367432, 4.099999904632568, 3.7100000381469727, 4.079999923706055, 3.5799999237060547, 3.950000047683716, 4.150000095367432, 4.239999771118164, 4.940000057220459, 4.21999979019165, 3.630000114440918, 3.450000047683716, 3.259999990463257, 2.8499999046325684, 2.859999895095825, 3.390000104904175, 3.2300000190734863, 3.5999999046325684, 4.25, 5.210000038146973, 5.659999847412109, 5.119999885559082, 5.21999979019165, 4.849999904632568, 5.230000019073486, 5.139999866485596, 4.75, 4.78000020980835, 4.849999904632568, 5.920000076293945, 5.829999923706055, 5.869999885559082, 5.650000095367432, 5.840000152587891, 5.550000190734863, 5.400000095367432, 4.829999923706055, 4.880000114440918, 4.920000076293945, 4.78000020980835, 4.539999961853027, 4.150000095367432, 4.050000190734863, 4.400000095367432, 4.579999923706055, 4.5, 4.449999809265137, 4.460000038146973, 4.340000152587891, 4.570000171661377, 4.75, 4.329999923706055, 4.119999885559082, 4.269999980926514, 4.239999771118164, 4.440000057220459, 4.289999961853027, 4.28000020980835, 5.0, 4.78000020980835, 4.639999866485596, 4.599999904632568, 4.5, 4.949999809265137, 4.539999961853027, 4.670000076293945, 4.949999809265137, 4.789999961853027, 4.949999809265137, 4.829999923706055, 4.329999923706055, 4.480000019073486, 4.349999904632568, 4.329999923706055, 4.309999942779541, 4.489999771118164, 4.309999942779541, 4.199999809265137, 4.099999904632568, 4.269999980926514, 4.199999809265137, 4.349999904632568, 4.21999979019165, 4.130000114440918, 4.190000057220459, 4.159999847412109, 3.950000047683716, 3.9000000953674316, 4.019999980926514, 4.090000152587891, 4.059999942779541, 4.019999980926514, 3.9600000381469727, 3.940000057220459, 4.0, 4.059999942779541, 4.03000020980835, 4.130000114440918, 4.5, 4.599999904632568, 4.389999866485596, 4.199999809265137, 4.429999828338623, 4.400000095367432, 4.519999980926514, 4.599999904632568, 4.78000020980835, 4.610000133514404, 4.800000190734863, 4.619999885559082, 4.599999904632568, 5.099999904632568, 4.880000114440918, 4.96999979019165, 5.110000133514404, 5.300000190734863, 5.769999980926514, 7.300000190734863, 7.800000190734863, 7.880000114440918, 7.78000020980835, 7.550000190734863, 7.960000038146973, 6.650000095367432, 6.260000228881836, 6.800000190734863, 6.860000133514404, 7.03000020980835, 8.569999694824219, 9.199999809265137, 9.350000381469727, 10.449999809265137, 10.600000381469727, 9.710000038146973, 9.1899995803833, 10.15999984741211, 10.0, 10.25, 10.09000015258789, 9.380000114440918, 9.4399995803833, 9.5600004196167, 9.229999542236328, 9.539999961853027, 12.829999923706055, 11.65999984741211, 11.729999542236328, 12.670000076293945, 11.989999771118164, 13.770000457763672, 13.4399995803833, 14.029999732971191, 13.899999618530273, 14.199999809265137, 15.050000190734863, 14.930000305175781, 13.710000038146973, 12.270000457763672, 11.880000114440918, 11.640000343322754, 10.819999694824219, 10.75, 11.760000228881836, 11.270000457763672, 11.520000457763672, 12.760000228881836, 11.5, 11.5, 11.739999771118164, 11.359999656677246, 11.15999984741211, 11.649999618530273, 11.800000190734863, 11.600000381469727, 12.550000190734863, 12.899999618530273, 14.229999542236328, 13.600000381469727, 15.289999961853027, 18.170000076293945, 17.110000610351562, 15.699999809265137, 16.479999542236328, 16.299999237060547, 17.0, 16.3700008392334, 13.920000076293945, 13.119999885559082, 13.90999984741211, 13.34000015258789, 12.779999732971191, 13.960000038146973, 13.960000038146973, 15.779999732971191, 15.8100004196167, 16.219999313354492, 20.170000076293945, 21.010000228881836, 21.309999465942383, 20.81999969482422, 19.3799991607666, 19.25, 19.0, 17.350000381469727, 17.34000015258789, 18.469999313354492, 18.18000030517578, 19.40999984741211, 19.959999084472656, 20.420000076293945, 38.09000015258789, 38.4900016784668, 41.54999923706055, 37.369998931884766, 39.22999954223633, 42.59000015258789, 96.7300033569336, 88.55999755859375, 354.8299865722656, 265.0, 379.7099914550781, 316.55999755859375, 140.75999450683594, 112.01000213623047, 91.19000244140625, 54.040000915527344, 72.41000366210938, 56.61000061035156, 50.77000045776367, 50.0099983215332, 50.75], \"yaxis\": \"y\"}, {\"marker\": {\"color\": [0, 1, 2, 3, 4, 5, 6, 7, 8, 9, 10, 11, 12, 13, 14, 15, 16, 17, 18, 19, 20, 21, 22, 23, 24, 25, 26, 27, 28, 29, 30, 31, 32, 33, 34, 35, 36, 37, 38, 39, 40, 41, 42, 43, 44, 45, 46, 47, 48, 49, 50, 51, 52, 53, 54, 55, 56, 57, 58, 59, 60, 61, 62, 63, 64, 65, 66, 67, 68, 69, 70, 71, 72, 73, 74, 75, 76, 77, 78, 79, 80, 81, 82, 83, 84, 85, 86, 87, 88, 89, 90, 91, 92, 93, 94, 95, 96, 97, 98, 99, 100, 101, 102, 103, 104, 105, 106, 107, 108, 109, 110, 111, 112, 113, 114, 115, 116, 117, 118, 119, 120, 121, 122, 123, 124, 125, 126, 127, 128, 129, 130, 131, 132, 133, 134, 135, 136, 137, 138, 139, 140, 141, 142, 143, 144, 145, 146, 147, 148, 149, 150, 151, 152, 153, 154, 155, 156, 157, 158, 159, 160, 161, 162, 163, 164, 165, 166, 167, 168, 169, 170, 171, 172, 173, 174, 175, 176, 177, 178, 179, 180, 181, 182, 183, 184, 185, 186, 187, 188, 189, 190, 191, 192, 193, 194, 195, 196, 197, 198, 199, 200, 201, 202, 203, 204, 205, 206, 207, 208, 209, 210, 211, 212, 213, 214, 215, 216, 217, 218, 219, 220, 221, 222, 223, 224, 225, 226, 227, 228, 229, 230, 231], \"colorscale\": [[0.0, \"rgb(5, 10, 172)\"], [1.0, \"rgb(178, 10, 28)\"]], \"showscale\": true, \"size\": 3}, \"mode\": \"markers\", \"showlegend\": false, \"type\": \"scatter\", \"x\": [4.369999885559082, 4.230000019073486, 3.7699999809265137, 4.190000057220459, 3.759999990463257, 3.809999942779541, 4.159999847412109, 4.170000076293945, 4.409999847412109, 4.21999979019165, 3.6500000953674316, 3.5, 3.25, 2.8499999046325684, 2.799999952316284, 3.0899999141693115, 3.2699999809265137, 3.4100000858306885, 3.890000104904175, 4.739999771118164, 5.949999809265137, 5.269999980926514, 5.03000020980835, 4.880000114440918, 5.610000133514404, 4.78000020980835, 4.889999866485596, 4.699999809265137, 4.769999980926514, 5.820000171661377, 5.639999866485596, 6.039999961853027, 5.730000019073486, 6.050000190734863, 5.480000019073486, 5.389999866485596, 4.929999828338623, 4.869999885559082, 4.980000019073486, 4.760000228881836, 4.539999961853027, 4.210000038146973, 4.130000114440918, 4.21999979019165, 4.579999923706055, 4.440000057220459, 4.429999828338623, 4.440000057220459, 4.179999828338623, 4.420000076293945, 4.690000057220459, 4.329999923706055, 4.059999942779541, 4.130000114440918, 4.179999828338623, 4.440000057220459, 4.46999979019165, 4.139999866485596, 5.010000228881836, 4.960000038146973, 5.070000171661377, 4.369999885559082, 4.71999979019165, 4.690000057220459, 4.639999866485596, 4.760000228881836, 4.949999809265137, 4.880000114440918, 4.869999885559082, 4.829999923706055, 4.409999847412109, 4.460000038146973, 4.349999904632568, 4.380000114440918, 4.340000152587891, 4.440000057220459, 4.289999961853027, 4.239999771118164, 4.090000152587891, 4.260000228881836, 4.210000038146973, 4.340000152587891, 4.260000228881836, 4.079999923706055, 4.190000057220459, 4.170000076293945, 3.9600000381469727, 3.8499999046325684, 4.010000228881836, 4.110000133514404, 4.110000133514404, 4.03000020980835, 4.010000228881836, 3.940000057220459, 4.059999942779541, 4.099999904632568, 4.010000228881836, 4.150000095367432, 4.429999828338623, 4.630000114440918, 4.429999828338623, 4.159999847412109, 4.329999923706055, 4.349999904632568, 4.519999980926514, 4.639999866485596, 4.75, 4.630000114440918, 4.809999942779541, 4.71999979019165, 4.610000133514404, 5.03000020980835, 4.869999885559082, 4.980000019073486, 5.110000133514404, 5.25, 5.389999866485596, 6.679999828338623, 7.650000095367432, 7.710000038146973, 7.820000171661377, 7.650000095367432, 7.699999809265137, 7.349999904632568, 6.230000019073486, 6.090000152587891, 6.909999847412109, 7.090000152587891, 8.680000305175781, 9.199999809265137, 9.470000267028809, 8.75, 10.5600004196167, 10.039999961853027, 9.140000343322754, 10.020000457763672, 10.09000015258789, 10.350000381469727, 10.199999809265137, 9.770000457763672, 9.390000343322754, 9.460000038146973, 9.130000114440918, 9.359999656677246, 13.489999771118164, 12.020000457763672, 11.800000190734863, 11.880000114440918, 12.25, 13.829999923706055, 13.3100004196167, 13.90999984741211, 13.859999656677246, 14.100000381469727, 14.90999984741211, 15.0, 13.449999809265137, 12.6899995803833, 11.819999694824219, 11.729999542236328, 10.470000267028809, 10.75, 11.569999694824219, 10.90999984741211, 11.449999809265137, 11.859999656677246, 11.489999771118164, 11.100000381469727, 11.75, 11.130000114440918, 11.010000228881836, 12.0600004196167, 11.630000114440918, 11.569999694824219, 12.460000038146973, 12.710000038146973, 13.899999618530273, 13.670000076293945, 14.75, 16.079999923706055, 16.559999465942383, 15.800000190734863, 16.579999923706055, 16.1200008392334, 16.899999618530273, 16.350000381469727, 16.940000534057617, 13.65999984741211, 14.119999885559082, 13.3100004196167, 12.720000267028809, 13.850000381469727, 13.850000381469727, 14.829999923706055, 15.630000114440918, 15.529999732971191, 19.459999084472656, 20.56999969482422, 20.149999618530273, 20.989999771118164, 19.3799991607666, 19.260000228881836, 18.84000015258789, 17.25, 17.3700008392334, 18.360000610351562, 18.079999923706055, 17.690000534057617, 19.940000534057617, 19.950000762939453, 31.399999618530273, 39.90999984741211, 35.5, 39.36000061035156, 39.119998931884766, 43.029998779296875, 65.01000213623047, 76.79000091552734, 147.97999572753906, 347.510009765625, 193.60000610351562, 325.0, 225.0, 90.0, 92.41000366210938, 53.5, 63.77000045776367, 60.0, 50.310001373291016, 51.20000076293945, 51.099998474121094, 52.400001525878906], \"xaxis\": \"x2\", \"y\": [3.930000066757202, 4.400000095367432, 4.099999904632568, 3.7100000381469727, 4.079999923706055, 3.5799999237060547, 3.950000047683716, 4.150000095367432, 4.239999771118164, 4.940000057220459, 4.21999979019165, 3.630000114440918, 3.450000047683716, 3.259999990463257, 2.8499999046325684, 2.859999895095825, 3.390000104904175, 3.2300000190734863, 3.5999999046325684, 4.25, 5.210000038146973, 5.659999847412109, 5.119999885559082, 5.21999979019165, 4.849999904632568, 5.230000019073486, 5.139999866485596, 4.75, 4.78000020980835, 4.849999904632568, 5.920000076293945, 5.829999923706055, 5.869999885559082, 5.650000095367432, 5.840000152587891, 5.550000190734863, 5.400000095367432, 4.829999923706055, 4.880000114440918, 4.920000076293945, 4.78000020980835, 4.539999961853027, 4.150000095367432, 4.050000190734863, 4.400000095367432, 4.579999923706055, 4.5, 4.449999809265137, 4.460000038146973, 4.340000152587891, 4.570000171661377, 4.75, 4.329999923706055, 4.119999885559082, 4.269999980926514, 4.239999771118164, 4.440000057220459, 4.289999961853027, 4.28000020980835, 5.0, 4.78000020980835, 4.639999866485596, 4.599999904632568, 4.5, 4.949999809265137, 4.539999961853027, 4.670000076293945, 4.949999809265137, 4.789999961853027, 4.949999809265137, 4.829999923706055, 4.329999923706055, 4.480000019073486, 4.349999904632568, 4.329999923706055, 4.309999942779541, 4.489999771118164, 4.309999942779541, 4.199999809265137, 4.099999904632568, 4.269999980926514, 4.199999809265137, 4.349999904632568, 4.21999979019165, 4.130000114440918, 4.190000057220459, 4.159999847412109, 3.950000047683716, 3.9000000953674316, 4.019999980926514, 4.090000152587891, 4.059999942779541, 4.019999980926514, 3.9600000381469727, 3.940000057220459, 4.0, 4.059999942779541, 4.03000020980835, 4.130000114440918, 4.5, 4.599999904632568, 4.389999866485596, 4.199999809265137, 4.429999828338623, 4.400000095367432, 4.519999980926514, 4.599999904632568, 4.78000020980835, 4.610000133514404, 4.800000190734863, 4.619999885559082, 4.599999904632568, 5.099999904632568, 4.880000114440918, 4.96999979019165, 5.110000133514404, 5.300000190734863, 5.769999980926514, 7.300000190734863, 7.800000190734863, 7.880000114440918, 7.78000020980835, 7.550000190734863, 7.960000038146973, 6.650000095367432, 6.260000228881836, 6.800000190734863, 6.860000133514404, 7.03000020980835, 8.569999694824219, 9.199999809265137, 9.350000381469727, 10.449999809265137, 10.600000381469727, 9.710000038146973, 9.1899995803833, 10.15999984741211, 10.0, 10.25, 10.09000015258789, 9.380000114440918, 9.4399995803833, 9.5600004196167, 9.229999542236328, 9.539999961853027, 12.829999923706055, 11.65999984741211, 11.729999542236328, 12.670000076293945, 11.989999771118164, 13.770000457763672, 13.4399995803833, 14.029999732971191, 13.899999618530273, 14.199999809265137, 15.050000190734863, 14.930000305175781, 13.710000038146973, 12.270000457763672, 11.880000114440918, 11.640000343322754, 10.819999694824219, 10.75, 11.760000228881836, 11.270000457763672, 11.520000457763672, 12.760000228881836, 11.5, 11.5, 11.739999771118164, 11.359999656677246, 11.15999984741211, 11.649999618530273, 11.800000190734863, 11.600000381469727, 12.550000190734863, 12.899999618530273, 14.229999542236328, 13.600000381469727, 15.289999961853027, 18.170000076293945, 17.110000610351562, 15.699999809265137, 16.479999542236328, 16.299999237060547, 17.0, 16.3700008392334, 13.920000076293945, 13.119999885559082, 13.90999984741211, 13.34000015258789, 12.779999732971191, 13.960000038146973, 13.960000038146973, 15.779999732971191, 15.8100004196167, 16.219999313354492, 20.170000076293945, 21.010000228881836, 21.309999465942383, 20.81999969482422, 19.3799991607666, 19.25, 19.0, 17.350000381469727, 17.34000015258789, 18.469999313354492, 18.18000030517578, 19.40999984741211, 19.959999084472656, 20.420000076293945, 38.09000015258789, 38.4900016784668, 41.54999923706055, 37.369998931884766, 39.22999954223633, 42.59000015258789, 96.7300033569336, 88.55999755859375, 354.8299865722656, 265.0, 379.7099914550781, 316.55999755859375, 140.75999450683594, 112.01000213623047, 91.19000244140625, 54.040000915527344, 72.41000366210938, 56.61000061035156, 50.77000045776367, 50.0099983215332, 50.75], \"yaxis\": \"y2\"}, {\"marker\": {\"color\": [0, 1, 2, 3, 4, 5, 6, 7, 8, 9, 10, 11, 12, 13, 14, 15, 16, 17, 18, 19, 20, 21, 22, 23, 24, 25, 26, 27, 28, 29, 30, 31, 32, 33, 34, 35, 36, 37, 38, 39, 40, 41, 42, 43, 44, 45, 46, 47, 48, 49, 50, 51, 52, 53, 54, 55, 56, 57, 58, 59, 60, 61, 62, 63, 64, 65, 66, 67, 68, 69, 70, 71, 72, 73, 74, 75, 76, 77, 78, 79, 80, 81, 82, 83, 84, 85, 86, 87, 88, 89, 90, 91, 92, 93, 94, 95, 96, 97, 98, 99, 100, 101, 102, 103, 104, 105, 106, 107, 108, 109, 110, 111, 112, 113, 114, 115, 116, 117, 118, 119, 120, 121, 122, 123, 124, 125, 126, 127, 128, 129, 130, 131, 132, 133, 134, 135, 136, 137, 138, 139, 140, 141, 142, 143, 144, 145, 146, 147, 148, 149, 150, 151, 152, 153, 154, 155, 156, 157, 158, 159, 160, 161, 162, 163, 164, 165, 166, 167, 168, 169, 170, 171, 172, 173, 174, 175, 176, 177, 178, 179, 180, 181, 182, 183, 184, 185, 186, 187, 188, 189, 190, 191, 192, 193, 194, 195, 196, 197, 198, 199, 200, 201, 202, 203, 204, 205, 206, 207, 208, 209, 210, 211, 212, 213, 214, 215, 216, 217, 218, 219, 220, 221, 222, 223, 224, 225, 226, 227, 228, 229, 230, 231], \"colorscale\": [[0.0, \"rgb(5, 10, 172)\"], [1.0, \"rgb(178, 10, 28)\"]], \"showscale\": false, \"size\": 3}, \"mode\": \"markers\", \"showlegend\": false, \"type\": \"scatter\", \"x\": [4866700, 3562200, 3651700, 5039500, 7722200, 6009800, 6805600, 3592100, 6185700, 7024800, 3350600, 2300900, 4568700, 4064300, 3830400, 3340500, 2836900, 2884500, 5908600, 6844500, 13506600, 7499900, 3371900, 5653200, 6085000, 4142100, 2677800, 2265900, 2236200, 7275100, 5200200, 3369600, 2173300, 4005600, 4068100, 2105900, 3369600, 2500800, 2353700, 1699200, 2639200, 2882900, 2004900, 1940600, 2371700, 1840700, 2543600, 1971900, 2379900, 3545700, 3146600, 2183900, 3973500, 2611600, 2369400, 3037400, 3514300, 6274400, 10133700, 8073400, 10606400, 6236000, 4378200, 3909000, 3121300, 3593500, 3423800, 7366600, 3178900, 3205400, 2976200, 2450800, 3801200, 2131200, 3889000, 2303700, 1887600, 2140900, 2456600, 2052800, 1992600, 1410800, 4216200, 2261600, 1474100, 1330100, 3065900, 3401100, 3341000, 2523500, 3237200, 2215900, 2472700, 4555400, 2879600, 2398500, 1879400, 2517600, 10361400, 4925700, 1901200, 3341100, 4561800, 3138800, 3057600, 2128300, 3474400, 2371000, 3834400, 2612600, 2441200, 10642600, 4585400, 2998700, 2779700, 3384400, 4236900, 37976000, 23211000, 13011100, 14344500, 7662000, 9816600, 9068100, 15558300, 6061200, 10119000, 5743500, 19256300, 17026700, 17407500, 7639800, 34752500, 10651200, 7938800, 7515200, 6764300, 5237600, 6079000, 4554100, 4340500, 2805000, 4535400, 3308600, 76453600, 77152800, 23655700, 10179700, 10776800, 39894800, 11651600, 13169100, 6604000, 5361900, 16212200, 6507300, 13376300, 7231000, 6388600, 4165800, 11546900, 5227000, 7454500, 5807900, 4705200, 5518200, 6244900, 3826000, 4882600, 4353300, 3535900, 9774800, 6678200, 3169200, 11787600, 8395400, 9599100, 7183200, 8860100, 12504200, 31983500, 12666000, 7883400, 6295000, 8972700, 7386300, 16120200, 24357900, 7558900, 7496900, 10007100, 8192900, 5865100, 8194900, 16618800, 9876100, 30652700, 25830300, 6262200, 8965900, 9241400, 5934400, 6918900, 10022500, 4961500, 6056200, 6129300, 6464500, 14927600, 7060700, 144501700, 93717400, 46752200, 74721900, 33471800, 57079800, 196784300, 177874000, 178588000, 93396700, 58815800, 50259200, 37382200, 78183100, 42698500, 62427300, 80886300, 25687300, 26843100, 36455000, 12997400, 14498000], \"xaxis\": \"x3\", \"y\": [3.930000066757202, 4.400000095367432, 4.099999904632568, 3.7100000381469727, 4.079999923706055, 3.5799999237060547, 3.950000047683716, 4.150000095367432, 4.239999771118164, 4.940000057220459, 4.21999979019165, 3.630000114440918, 3.450000047683716, 3.259999990463257, 2.8499999046325684, 2.859999895095825, 3.390000104904175, 3.2300000190734863, 3.5999999046325684, 4.25, 5.210000038146973, 5.659999847412109, 5.119999885559082, 5.21999979019165, 4.849999904632568, 5.230000019073486, 5.139999866485596, 4.75, 4.78000020980835, 4.849999904632568, 5.920000076293945, 5.829999923706055, 5.869999885559082, 5.650000095367432, 5.840000152587891, 5.550000190734863, 5.400000095367432, 4.829999923706055, 4.880000114440918, 4.920000076293945, 4.78000020980835, 4.539999961853027, 4.150000095367432, 4.050000190734863, 4.400000095367432, 4.579999923706055, 4.5, 4.449999809265137, 4.460000038146973, 4.340000152587891, 4.570000171661377, 4.75, 4.329999923706055, 4.119999885559082, 4.269999980926514, 4.239999771118164, 4.440000057220459, 4.289999961853027, 4.28000020980835, 5.0, 4.78000020980835, 4.639999866485596, 4.599999904632568, 4.5, 4.949999809265137, 4.539999961853027, 4.670000076293945, 4.949999809265137, 4.789999961853027, 4.949999809265137, 4.829999923706055, 4.329999923706055, 4.480000019073486, 4.349999904632568, 4.329999923706055, 4.309999942779541, 4.489999771118164, 4.309999942779541, 4.199999809265137, 4.099999904632568, 4.269999980926514, 4.199999809265137, 4.349999904632568, 4.21999979019165, 4.130000114440918, 4.190000057220459, 4.159999847412109, 3.950000047683716, 3.9000000953674316, 4.019999980926514, 4.090000152587891, 4.059999942779541, 4.019999980926514, 3.9600000381469727, 3.940000057220459, 4.0, 4.059999942779541, 4.03000020980835, 4.130000114440918, 4.5, 4.599999904632568, 4.389999866485596, 4.199999809265137, 4.429999828338623, 4.400000095367432, 4.519999980926514, 4.599999904632568, 4.78000020980835, 4.610000133514404, 4.800000190734863, 4.619999885559082, 4.599999904632568, 5.099999904632568, 4.880000114440918, 4.96999979019165, 5.110000133514404, 5.300000190734863, 5.769999980926514, 7.300000190734863, 7.800000190734863, 7.880000114440918, 7.78000020980835, 7.550000190734863, 7.960000038146973, 6.650000095367432, 6.260000228881836, 6.800000190734863, 6.860000133514404, 7.03000020980835, 8.569999694824219, 9.199999809265137, 9.350000381469727, 10.449999809265137, 10.600000381469727, 9.710000038146973, 9.1899995803833, 10.15999984741211, 10.0, 10.25, 10.09000015258789, 9.380000114440918, 9.4399995803833, 9.5600004196167, 9.229999542236328, 9.539999961853027, 12.829999923706055, 11.65999984741211, 11.729999542236328, 12.670000076293945, 11.989999771118164, 13.770000457763672, 13.4399995803833, 14.029999732971191, 13.899999618530273, 14.199999809265137, 15.050000190734863, 14.930000305175781, 13.710000038146973, 12.270000457763672, 11.880000114440918, 11.640000343322754, 10.819999694824219, 10.75, 11.760000228881836, 11.270000457763672, 11.520000457763672, 12.760000228881836, 11.5, 11.5, 11.739999771118164, 11.359999656677246, 11.15999984741211, 11.649999618530273, 11.800000190734863, 11.600000381469727, 12.550000190734863, 12.899999618530273, 14.229999542236328, 13.600000381469727, 15.289999961853027, 18.170000076293945, 17.110000610351562, 15.699999809265137, 16.479999542236328, 16.299999237060547, 17.0, 16.3700008392334, 13.920000076293945, 13.119999885559082, 13.90999984741211, 13.34000015258789, 12.779999732971191, 13.960000038146973, 13.960000038146973, 15.779999732971191, 15.8100004196167, 16.219999313354492, 20.170000076293945, 21.010000228881836, 21.309999465942383, 20.81999969482422, 19.3799991607666, 19.25, 19.0, 17.350000381469727, 17.34000015258789, 18.469999313354492, 18.18000030517578, 19.40999984741211, 19.959999084472656, 20.420000076293945, 38.09000015258789, 38.4900016784668, 41.54999923706055, 37.369998931884766, 39.22999954223633, 42.59000015258789, 96.7300033569336, 88.55999755859375, 354.8299865722656, 265.0, 379.7099914550781, 316.55999755859375, 140.75999450683594, 112.01000213623047, 91.19000244140625, 54.040000915527344, 72.41000366210938, 56.61000061035156, 50.77000045776367, 50.0099983215332, 50.75], \"yaxis\": \"y3\"}, {\"marker\": {\"color\": [0, 1, 2, 3, 4, 5, 6, 7, 8, 9, 10, 11, 12, 13, 14, 15, 16, 17, 18, 19, 20, 21, 22, 23, 24, 25, 26, 27, 28, 29, 30, 31, 32, 33, 34, 35, 36, 37, 38, 39, 40, 41, 42, 43, 44, 45, 46, 47, 48, 49, 50, 51, 52, 53, 54, 55, 56, 57, 58, 59, 60, 61, 62, 63, 64, 65, 66, 67, 68, 69, 70, 71, 72, 73, 74, 75, 76, 77, 78, 79, 80, 81, 82, 83, 84, 85, 86, 87, 88, 89, 90, 91, 92, 93, 94, 95, 96, 97, 98, 99, 100, 101, 102, 103, 104, 105, 106, 107, 108, 109, 110, 111, 112, 113, 114, 115, 116, 117, 118, 119, 120, 121, 122, 123, 124, 125, 126, 127, 128, 129, 130, 131, 132, 133, 134, 135, 136, 137, 138, 139, 140, 141, 142, 143, 144, 145, 146, 147, 148, 149, 150, 151, 152, 153, 154, 155, 156, 157, 158, 159, 160, 161, 162, 163, 164, 165, 166, 167, 168, 169, 170, 171, 172, 173, 174, 175, 176, 177, 178, 179, 180, 181, 182, 183, 184, 185, 186, 187, 188, 189, 190, 191, 192, 193, 194, 195, 196, 197, 198, 199, 200, 201, 202, 203, 204, 205, 206, 207, 208, 209, 210, 211, 212, 213, 214, 215, 216, 217, 218, 219, 220, 221, 222, 223, 224, 225, 226, 227, 228, 229, 230, 231], \"colorscale\": [[0.0, \"rgb(5, 10, 172)\"], [1.0, \"rgb(178, 10, 28)\"]], \"showscale\": false, \"size\": 3}, \"mode\": \"markers\", \"showlegend\": false, \"type\": \"scatter\", \"x\": [3.930000066757202, 4.400000095367432, 4.099999904632568, 3.7100000381469727, 4.079999923706055, 3.5799999237060547, 3.950000047683716, 4.150000095367432, 4.239999771118164, 4.940000057220459, 4.21999979019165, 3.630000114440918, 3.450000047683716, 3.259999990463257, 2.8499999046325684, 2.859999895095825, 3.390000104904175, 3.2300000190734863, 3.5999999046325684, 4.25, 5.210000038146973, 5.659999847412109, 5.119999885559082, 5.21999979019165, 4.849999904632568, 5.230000019073486, 5.139999866485596, 4.75, 4.78000020980835, 4.849999904632568, 5.920000076293945, 5.829999923706055, 5.869999885559082, 5.650000095367432, 5.840000152587891, 5.550000190734863, 5.400000095367432, 4.829999923706055, 4.880000114440918, 4.920000076293945, 4.78000020980835, 4.539999961853027, 4.150000095367432, 4.050000190734863, 4.400000095367432, 4.579999923706055, 4.5, 4.449999809265137, 4.460000038146973, 4.340000152587891, 4.570000171661377, 4.75, 4.329999923706055, 4.119999885559082, 4.269999980926514, 4.239999771118164, 4.440000057220459, 4.289999961853027, 4.28000020980835, 5.0, 4.78000020980835, 4.639999866485596, 4.599999904632568, 4.5, 4.949999809265137, 4.539999961853027, 4.670000076293945, 4.949999809265137, 4.789999961853027, 4.949999809265137, 4.829999923706055, 4.329999923706055, 4.480000019073486, 4.349999904632568, 4.329999923706055, 4.309999942779541, 4.489999771118164, 4.309999942779541, 4.199999809265137, 4.099999904632568, 4.269999980926514, 4.199999809265137, 4.349999904632568, 4.21999979019165, 4.130000114440918, 4.190000057220459, 4.159999847412109, 3.950000047683716, 3.9000000953674316, 4.019999980926514, 4.090000152587891, 4.059999942779541, 4.019999980926514, 3.9600000381469727, 3.940000057220459, 4.0, 4.059999942779541, 4.03000020980835, 4.130000114440918, 4.5, 4.599999904632568, 4.389999866485596, 4.199999809265137, 4.429999828338623, 4.400000095367432, 4.519999980926514, 4.599999904632568, 4.78000020980835, 4.610000133514404, 4.800000190734863, 4.619999885559082, 4.599999904632568, 5.099999904632568, 4.880000114440918, 4.96999979019165, 5.110000133514404, 5.300000190734863, 5.769999980926514, 7.300000190734863, 7.800000190734863, 7.880000114440918, 7.78000020980835, 7.550000190734863, 7.960000038146973, 6.650000095367432, 6.260000228881836, 6.800000190734863, 6.860000133514404, 7.03000020980835, 8.569999694824219, 9.199999809265137, 9.350000381469727, 10.449999809265137, 10.600000381469727, 9.710000038146973, 9.1899995803833, 10.15999984741211, 10.0, 10.25, 10.09000015258789, 9.380000114440918, 9.4399995803833, 9.5600004196167, 9.229999542236328, 9.539999961853027, 12.829999923706055, 11.65999984741211, 11.729999542236328, 12.670000076293945, 11.989999771118164, 13.770000457763672, 13.4399995803833, 14.029999732971191, 13.899999618530273, 14.199999809265137, 15.050000190734863, 14.930000305175781, 13.710000038146973, 12.270000457763672, 11.880000114440918, 11.640000343322754, 10.819999694824219, 10.75, 11.760000228881836, 11.270000457763672, 11.520000457763672, 12.760000228881836, 11.5, 11.5, 11.739999771118164, 11.359999656677246, 11.15999984741211, 11.649999618530273, 11.800000190734863, 11.600000381469727, 12.550000190734863, 12.899999618530273, 14.229999542236328, 13.600000381469727, 15.289999961853027, 18.170000076293945, 17.110000610351562, 15.699999809265137, 16.479999542236328, 16.299999237060547, 17.0, 16.3700008392334, 13.920000076293945, 13.119999885559082, 13.90999984741211, 13.34000015258789, 12.779999732971191, 13.960000038146973, 13.960000038146973, 15.779999732971191, 15.8100004196167, 16.219999313354492, 20.170000076293945, 21.010000228881836, 21.309999465942383, 20.81999969482422, 19.3799991607666, 19.25, 19.0, 17.350000381469727, 17.34000015258789, 18.469999313354492, 18.18000030517578, 19.40999984741211, 19.959999084472656, 20.420000076293945, 38.09000015258789, 38.4900016784668, 41.54999923706055, 37.369998931884766, 39.22999954223633, 42.59000015258789, 96.7300033569336, 88.55999755859375, 354.8299865722656, 265.0, 379.7099914550781, 316.55999755859375, 140.75999450683594, 112.01000213623047, 91.19000244140625, 54.040000915527344, 72.41000366210938, 56.61000061035156, 50.77000045776367, 50.0099983215332, 50.75], \"xaxis\": \"x4\", \"y\": [4.369999885559082, 4.230000019073486, 3.7699999809265137, 4.190000057220459, 3.759999990463257, 3.809999942779541, 4.159999847412109, 4.170000076293945, 4.409999847412109, 4.21999979019165, 3.6500000953674316, 3.5, 3.25, 2.8499999046325684, 2.799999952316284, 3.0899999141693115, 3.2699999809265137, 3.4100000858306885, 3.890000104904175, 4.739999771118164, 5.949999809265137, 5.269999980926514, 5.03000020980835, 4.880000114440918, 5.610000133514404, 4.78000020980835, 4.889999866485596, 4.699999809265137, 4.769999980926514, 5.820000171661377, 5.639999866485596, 6.039999961853027, 5.730000019073486, 6.050000190734863, 5.480000019073486, 5.389999866485596, 4.929999828338623, 4.869999885559082, 4.980000019073486, 4.760000228881836, 4.539999961853027, 4.210000038146973, 4.130000114440918, 4.21999979019165, 4.579999923706055, 4.440000057220459, 4.429999828338623, 4.440000057220459, 4.179999828338623, 4.420000076293945, 4.690000057220459, 4.329999923706055, 4.059999942779541, 4.130000114440918, 4.179999828338623, 4.440000057220459, 4.46999979019165, 4.139999866485596, 5.010000228881836, 4.960000038146973, 5.070000171661377, 4.369999885559082, 4.71999979019165, 4.690000057220459, 4.639999866485596, 4.760000228881836, 4.949999809265137, 4.880000114440918, 4.869999885559082, 4.829999923706055, 4.409999847412109, 4.460000038146973, 4.349999904632568, 4.380000114440918, 4.340000152587891, 4.440000057220459, 4.289999961853027, 4.239999771118164, 4.090000152587891, 4.260000228881836, 4.210000038146973, 4.340000152587891, 4.260000228881836, 4.079999923706055, 4.190000057220459, 4.170000076293945, 3.9600000381469727, 3.8499999046325684, 4.010000228881836, 4.110000133514404, 4.110000133514404, 4.03000020980835, 4.010000228881836, 3.940000057220459, 4.059999942779541, 4.099999904632568, 4.010000228881836, 4.150000095367432, 4.429999828338623, 4.630000114440918, 4.429999828338623, 4.159999847412109, 4.329999923706055, 4.349999904632568, 4.519999980926514, 4.639999866485596, 4.75, 4.630000114440918, 4.809999942779541, 4.71999979019165, 4.610000133514404, 5.03000020980835, 4.869999885559082, 4.980000019073486, 5.110000133514404, 5.25, 5.389999866485596, 6.679999828338623, 7.650000095367432, 7.710000038146973, 7.820000171661377, 7.650000095367432, 7.699999809265137, 7.349999904632568, 6.230000019073486, 6.090000152587891, 6.909999847412109, 7.090000152587891, 8.680000305175781, 9.199999809265137, 9.470000267028809, 8.75, 10.5600004196167, 10.039999961853027, 9.140000343322754, 10.020000457763672, 10.09000015258789, 10.350000381469727, 10.199999809265137, 9.770000457763672, 9.390000343322754, 9.460000038146973, 9.130000114440918, 9.359999656677246, 13.489999771118164, 12.020000457763672, 11.800000190734863, 11.880000114440918, 12.25, 13.829999923706055, 13.3100004196167, 13.90999984741211, 13.859999656677246, 14.100000381469727, 14.90999984741211, 15.0, 13.449999809265137, 12.6899995803833, 11.819999694824219, 11.729999542236328, 10.470000267028809, 10.75, 11.569999694824219, 10.90999984741211, 11.449999809265137, 11.859999656677246, 11.489999771118164, 11.100000381469727, 11.75, 11.130000114440918, 11.010000228881836, 12.0600004196167, 11.630000114440918, 11.569999694824219, 12.460000038146973, 12.710000038146973, 13.899999618530273, 13.670000076293945, 14.75, 16.079999923706055, 16.559999465942383, 15.800000190734863, 16.579999923706055, 16.1200008392334, 16.899999618530273, 16.350000381469727, 16.940000534057617, 13.65999984741211, 14.119999885559082, 13.3100004196167, 12.720000267028809, 13.850000381469727, 13.850000381469727, 14.829999923706055, 15.630000114440918, 15.529999732971191, 19.459999084472656, 20.56999969482422, 20.149999618530273, 20.989999771118164, 19.3799991607666, 19.260000228881836, 18.84000015258789, 17.25, 17.3700008392334, 18.360000610351562, 18.079999923706055, 17.690000534057617, 19.940000534057617, 19.950000762939453, 31.399999618530273, 39.90999984741211, 35.5, 39.36000061035156, 39.119998931884766, 43.029998779296875, 65.01000213623047, 76.79000091552734, 147.97999572753906, 347.510009765625, 193.60000610351562, 325.0, 225.0, 90.0, 92.41000366210938, 53.5, 63.77000045776367, 60.0, 50.310001373291016, 51.20000076293945, 51.099998474121094, 52.400001525878906], \"yaxis\": \"y4\"}, {\"marker\": {\"color\": \"rgb(5, 10, 172)\"}, \"showlegend\": false, \"type\": \"box\", \"xaxis\": \"x5\", \"y\": [4.369999885559082, 4.230000019073486, 3.7699999809265137, 4.190000057220459, 3.759999990463257, 3.809999942779541, 4.159999847412109, 4.170000076293945, 4.409999847412109, 4.21999979019165, 3.6500000953674316, 3.5, 3.25, 2.8499999046325684, 2.799999952316284, 3.0899999141693115, 3.2699999809265137, 3.4100000858306885, 3.890000104904175, 4.739999771118164, 5.949999809265137, 5.269999980926514, 5.03000020980835, 4.880000114440918, 5.610000133514404, 4.78000020980835, 4.889999866485596, 4.699999809265137, 4.769999980926514, 5.820000171661377, 5.639999866485596, 6.039999961853027, 5.730000019073486, 6.050000190734863, 5.480000019073486, 5.389999866485596, 4.929999828338623, 4.869999885559082, 4.980000019073486, 4.760000228881836, 4.539999961853027, 4.210000038146973, 4.130000114440918, 4.21999979019165, 4.579999923706055, 4.440000057220459, 4.429999828338623, 4.440000057220459, 4.179999828338623, 4.420000076293945, 4.690000057220459, 4.329999923706055, 4.059999942779541, 4.130000114440918, 4.179999828338623, 4.440000057220459, 4.46999979019165, 4.139999866485596, 5.010000228881836, 4.960000038146973, 5.070000171661377, 4.369999885559082, 4.71999979019165, 4.690000057220459, 4.639999866485596, 4.760000228881836, 4.949999809265137, 4.880000114440918, 4.869999885559082, 4.829999923706055, 4.409999847412109, 4.460000038146973, 4.349999904632568, 4.380000114440918, 4.340000152587891, 4.440000057220459, 4.289999961853027, 4.239999771118164, 4.090000152587891, 4.260000228881836, 4.210000038146973, 4.340000152587891, 4.260000228881836, 4.079999923706055, 4.190000057220459, 4.170000076293945, 3.9600000381469727, 3.8499999046325684, 4.010000228881836, 4.110000133514404, 4.110000133514404, 4.03000020980835, 4.010000228881836, 3.940000057220459, 4.059999942779541, 4.099999904632568, 4.010000228881836, 4.150000095367432, 4.429999828338623, 4.630000114440918, 4.429999828338623, 4.159999847412109, 4.329999923706055, 4.349999904632568, 4.519999980926514, 4.639999866485596, 4.75, 4.630000114440918, 4.809999942779541, 4.71999979019165, 4.610000133514404, 5.03000020980835, 4.869999885559082, 4.980000019073486, 5.110000133514404, 5.25, 5.389999866485596, 6.679999828338623, 7.650000095367432, 7.710000038146973, 7.820000171661377, 7.650000095367432, 7.699999809265137, 7.349999904632568, 6.230000019073486, 6.090000152587891, 6.909999847412109, 7.090000152587891, 8.680000305175781, 9.199999809265137, 9.470000267028809, 8.75, 10.5600004196167, 10.039999961853027, 9.140000343322754, 10.020000457763672, 10.09000015258789, 10.350000381469727, 10.199999809265137, 9.770000457763672, 9.390000343322754, 9.460000038146973, 9.130000114440918, 9.359999656677246, 13.489999771118164, 12.020000457763672, 11.800000190734863, 11.880000114440918, 12.25, 13.829999923706055, 13.3100004196167, 13.90999984741211, 13.859999656677246, 14.100000381469727, 14.90999984741211, 15.0, 13.449999809265137, 12.6899995803833, 11.819999694824219, 11.729999542236328, 10.470000267028809, 10.75, 11.569999694824219, 10.90999984741211, 11.449999809265137, 11.859999656677246, 11.489999771118164, 11.100000381469727, 11.75, 11.130000114440918, 11.010000228881836, 12.0600004196167, 11.630000114440918, 11.569999694824219, 12.460000038146973, 12.710000038146973, 13.899999618530273, 13.670000076293945, 14.75, 16.079999923706055, 16.559999465942383, 15.800000190734863, 16.579999923706055, 16.1200008392334, 16.899999618530273, 16.350000381469727, 16.940000534057617, 13.65999984741211, 14.119999885559082, 13.3100004196167, 12.720000267028809, 13.850000381469727, 13.850000381469727, 14.829999923706055, 15.630000114440918, 15.529999732971191, 19.459999084472656, 20.56999969482422, 20.149999618530273, 20.989999771118164, 19.3799991607666, 19.260000228881836, 18.84000015258789, 17.25, 17.3700008392334, 18.360000610351562, 18.079999923706055, 17.690000534057617, 19.940000534057617, 19.950000762939453, 31.399999618530273, 39.90999984741211, 35.5, 39.36000061035156, 39.119998931884766, 43.029998779296875, 65.01000213623047, 76.79000091552734, 147.97999572753906, 347.510009765625, 193.60000610351562, 325.0, 225.0, 90.0, 92.41000366210938, 53.5, 63.77000045776367, 60.0, 50.310001373291016, 51.20000076293945, 51.099998474121094, 52.400001525878906], \"yaxis\": \"y5\"}, {\"marker\": {\"color\": [0, 1, 2, 3, 4, 5, 6, 7, 8, 9, 10, 11, 12, 13, 14, 15, 16, 17, 18, 19, 20, 21, 22, 23, 24, 25, 26, 27, 28, 29, 30, 31, 32, 33, 34, 35, 36, 37, 38, 39, 40, 41, 42, 43, 44, 45, 46, 47, 48, 49, 50, 51, 52, 53, 54, 55, 56, 57, 58, 59, 60, 61, 62, 63, 64, 65, 66, 67, 68, 69, 70, 71, 72, 73, 74, 75, 76, 77, 78, 79, 80, 81, 82, 83, 84, 85, 86, 87, 88, 89, 90, 91, 92, 93, 94, 95, 96, 97, 98, 99, 100, 101, 102, 103, 104, 105, 106, 107, 108, 109, 110, 111, 112, 113, 114, 115, 116, 117, 118, 119, 120, 121, 122, 123, 124, 125, 126, 127, 128, 129, 130, 131, 132, 133, 134, 135, 136, 137, 138, 139, 140, 141, 142, 143, 144, 145, 146, 147, 148, 149, 150, 151, 152, 153, 154, 155, 156, 157, 158, 159, 160, 161, 162, 163, 164, 165, 166, 167, 168, 169, 170, 171, 172, 173, 174, 175, 176, 177, 178, 179, 180, 181, 182, 183, 184, 185, 186, 187, 188, 189, 190, 191, 192, 193, 194, 195, 196, 197, 198, 199, 200, 201, 202, 203, 204, 205, 206, 207, 208, 209, 210, 211, 212, 213, 214, 215, 216, 217, 218, 219, 220, 221, 222, 223, 224, 225, 226, 227, 228, 229, 230, 231], \"colorscale\": [[0.0, \"rgb(5, 10, 172)\"], [1.0, \"rgb(178, 10, 28)\"]], \"showscale\": false, \"size\": 3}, \"mode\": \"markers\", \"showlegend\": false, \"type\": \"scatter\", \"x\": [4866700, 3562200, 3651700, 5039500, 7722200, 6009800, 6805600, 3592100, 6185700, 7024800, 3350600, 2300900, 4568700, 4064300, 3830400, 3340500, 2836900, 2884500, 5908600, 6844500, 13506600, 7499900, 3371900, 5653200, 6085000, 4142100, 2677800, 2265900, 2236200, 7275100, 5200200, 3369600, 2173300, 4005600, 4068100, 2105900, 3369600, 2500800, 2353700, 1699200, 2639200, 2882900, 2004900, 1940600, 2371700, 1840700, 2543600, 1971900, 2379900, 3545700, 3146600, 2183900, 3973500, 2611600, 2369400, 3037400, 3514300, 6274400, 10133700, 8073400, 10606400, 6236000, 4378200, 3909000, 3121300, 3593500, 3423800, 7366600, 3178900, 3205400, 2976200, 2450800, 3801200, 2131200, 3889000, 2303700, 1887600, 2140900, 2456600, 2052800, 1992600, 1410800, 4216200, 2261600, 1474100, 1330100, 3065900, 3401100, 3341000, 2523500, 3237200, 2215900, 2472700, 4555400, 2879600, 2398500, 1879400, 2517600, 10361400, 4925700, 1901200, 3341100, 4561800, 3138800, 3057600, 2128300, 3474400, 2371000, 3834400, 2612600, 2441200, 10642600, 4585400, 2998700, 2779700, 3384400, 4236900, 37976000, 23211000, 13011100, 14344500, 7662000, 9816600, 9068100, 15558300, 6061200, 10119000, 5743500, 19256300, 17026700, 17407500, 7639800, 34752500, 10651200, 7938800, 7515200, 6764300, 5237600, 6079000, 4554100, 4340500, 2805000, 4535400, 3308600, 76453600, 77152800, 23655700, 10179700, 10776800, 39894800, 11651600, 13169100, 6604000, 5361900, 16212200, 6507300, 13376300, 7231000, 6388600, 4165800, 11546900, 5227000, 7454500, 5807900, 4705200, 5518200, 6244900, 3826000, 4882600, 4353300, 3535900, 9774800, 6678200, 3169200, 11787600, 8395400, 9599100, 7183200, 8860100, 12504200, 31983500, 12666000, 7883400, 6295000, 8972700, 7386300, 16120200, 24357900, 7558900, 7496900, 10007100, 8192900, 5865100, 8194900, 16618800, 9876100, 30652700, 25830300, 6262200, 8965900, 9241400, 5934400, 6918900, 10022500, 4961500, 6056200, 6129300, 6464500, 14927600, 7060700, 144501700, 93717400, 46752200, 74721900, 33471800, 57079800, 196784300, 177874000, 178588000, 93396700, 58815800, 50259200, 37382200, 78183100, 42698500, 62427300, 80886300, 25687300, 26843100, 36455000, 12997400, 14498000], \"xaxis\": \"x6\", \"y\": [4.369999885559082, 4.230000019073486, 3.7699999809265137, 4.190000057220459, 3.759999990463257, 3.809999942779541, 4.159999847412109, 4.170000076293945, 4.409999847412109, 4.21999979019165, 3.6500000953674316, 3.5, 3.25, 2.8499999046325684, 2.799999952316284, 3.0899999141693115, 3.2699999809265137, 3.4100000858306885, 3.890000104904175, 4.739999771118164, 5.949999809265137, 5.269999980926514, 5.03000020980835, 4.880000114440918, 5.610000133514404, 4.78000020980835, 4.889999866485596, 4.699999809265137, 4.769999980926514, 5.820000171661377, 5.639999866485596, 6.039999961853027, 5.730000019073486, 6.050000190734863, 5.480000019073486, 5.389999866485596, 4.929999828338623, 4.869999885559082, 4.980000019073486, 4.760000228881836, 4.539999961853027, 4.210000038146973, 4.130000114440918, 4.21999979019165, 4.579999923706055, 4.440000057220459, 4.429999828338623, 4.440000057220459, 4.179999828338623, 4.420000076293945, 4.690000057220459, 4.329999923706055, 4.059999942779541, 4.130000114440918, 4.179999828338623, 4.440000057220459, 4.46999979019165, 4.139999866485596, 5.010000228881836, 4.960000038146973, 5.070000171661377, 4.369999885559082, 4.71999979019165, 4.690000057220459, 4.639999866485596, 4.760000228881836, 4.949999809265137, 4.880000114440918, 4.869999885559082, 4.829999923706055, 4.409999847412109, 4.460000038146973, 4.349999904632568, 4.380000114440918, 4.340000152587891, 4.440000057220459, 4.289999961853027, 4.239999771118164, 4.090000152587891, 4.260000228881836, 4.210000038146973, 4.340000152587891, 4.260000228881836, 4.079999923706055, 4.190000057220459, 4.170000076293945, 3.9600000381469727, 3.8499999046325684, 4.010000228881836, 4.110000133514404, 4.110000133514404, 4.03000020980835, 4.010000228881836, 3.940000057220459, 4.059999942779541, 4.099999904632568, 4.010000228881836, 4.150000095367432, 4.429999828338623, 4.630000114440918, 4.429999828338623, 4.159999847412109, 4.329999923706055, 4.349999904632568, 4.519999980926514, 4.639999866485596, 4.75, 4.630000114440918, 4.809999942779541, 4.71999979019165, 4.610000133514404, 5.03000020980835, 4.869999885559082, 4.980000019073486, 5.110000133514404, 5.25, 5.389999866485596, 6.679999828338623, 7.650000095367432, 7.710000038146973, 7.820000171661377, 7.650000095367432, 7.699999809265137, 7.349999904632568, 6.230000019073486, 6.090000152587891, 6.909999847412109, 7.090000152587891, 8.680000305175781, 9.199999809265137, 9.470000267028809, 8.75, 10.5600004196167, 10.039999961853027, 9.140000343322754, 10.020000457763672, 10.09000015258789, 10.350000381469727, 10.199999809265137, 9.770000457763672, 9.390000343322754, 9.460000038146973, 9.130000114440918, 9.359999656677246, 13.489999771118164, 12.020000457763672, 11.800000190734863, 11.880000114440918, 12.25, 13.829999923706055, 13.3100004196167, 13.90999984741211, 13.859999656677246, 14.100000381469727, 14.90999984741211, 15.0, 13.449999809265137, 12.6899995803833, 11.819999694824219, 11.729999542236328, 10.470000267028809, 10.75, 11.569999694824219, 10.90999984741211, 11.449999809265137, 11.859999656677246, 11.489999771118164, 11.100000381469727, 11.75, 11.130000114440918, 11.010000228881836, 12.0600004196167, 11.630000114440918, 11.569999694824219, 12.460000038146973, 12.710000038146973, 13.899999618530273, 13.670000076293945, 14.75, 16.079999923706055, 16.559999465942383, 15.800000190734863, 16.579999923706055, 16.1200008392334, 16.899999618530273, 16.350000381469727, 16.940000534057617, 13.65999984741211, 14.119999885559082, 13.3100004196167, 12.720000267028809, 13.850000381469727, 13.850000381469727, 14.829999923706055, 15.630000114440918, 15.529999732971191, 19.459999084472656, 20.56999969482422, 20.149999618530273, 20.989999771118164, 19.3799991607666, 19.260000228881836, 18.84000015258789, 17.25, 17.3700008392334, 18.360000610351562, 18.079999923706055, 17.690000534057617, 19.940000534057617, 19.950000762939453, 31.399999618530273, 39.90999984741211, 35.5, 39.36000061035156, 39.119998931884766, 43.029998779296875, 65.01000213623047, 76.79000091552734, 147.97999572753906, 347.510009765625, 193.60000610351562, 325.0, 225.0, 90.0, 92.41000366210938, 53.5, 63.77000045776367, 60.0, 50.310001373291016, 51.20000076293945, 51.099998474121094, 52.400001525878906], \"yaxis\": \"y6\"}, {\"marker\": {\"color\": [0, 1, 2, 3, 4, 5, 6, 7, 8, 9, 10, 11, 12, 13, 14, 15, 16, 17, 18, 19, 20, 21, 22, 23, 24, 25, 26, 27, 28, 29, 30, 31, 32, 33, 34, 35, 36, 37, 38, 39, 40, 41, 42, 43, 44, 45, 46, 47, 48, 49, 50, 51, 52, 53, 54, 55, 56, 57, 58, 59, 60, 61, 62, 63, 64, 65, 66, 67, 68, 69, 70, 71, 72, 73, 74, 75, 76, 77, 78, 79, 80, 81, 82, 83, 84, 85, 86, 87, 88, 89, 90, 91, 92, 93, 94, 95, 96, 97, 98, 99, 100, 101, 102, 103, 104, 105, 106, 107, 108, 109, 110, 111, 112, 113, 114, 115, 116, 117, 118, 119, 120, 121, 122, 123, 124, 125, 126, 127, 128, 129, 130, 131, 132, 133, 134, 135, 136, 137, 138, 139, 140, 141, 142, 143, 144, 145, 146, 147, 148, 149, 150, 151, 152, 153, 154, 155, 156, 157, 158, 159, 160, 161, 162, 163, 164, 165, 166, 167, 168, 169, 170, 171, 172, 173, 174, 175, 176, 177, 178, 179, 180, 181, 182, 183, 184, 185, 186, 187, 188, 189, 190, 191, 192, 193, 194, 195, 196, 197, 198, 199, 200, 201, 202, 203, 204, 205, 206, 207, 208, 209, 210, 211, 212, 213, 214, 215, 216, 217, 218, 219, 220, 221, 222, 223, 224, 225, 226, 227, 228, 229, 230, 231], \"colorscale\": [[0.0, \"rgb(5, 10, 172)\"], [1.0, \"rgb(178, 10, 28)\"]], \"showscale\": false, \"size\": 3}, \"mode\": \"markers\", \"showlegend\": false, \"type\": \"scatter\", \"x\": [3.930000066757202, 4.400000095367432, 4.099999904632568, 3.7100000381469727, 4.079999923706055, 3.5799999237060547, 3.950000047683716, 4.150000095367432, 4.239999771118164, 4.940000057220459, 4.21999979019165, 3.630000114440918, 3.450000047683716, 3.259999990463257, 2.8499999046325684, 2.859999895095825, 3.390000104904175, 3.2300000190734863, 3.5999999046325684, 4.25, 5.210000038146973, 5.659999847412109, 5.119999885559082, 5.21999979019165, 4.849999904632568, 5.230000019073486, 5.139999866485596, 4.75, 4.78000020980835, 4.849999904632568, 5.920000076293945, 5.829999923706055, 5.869999885559082, 5.650000095367432, 5.840000152587891, 5.550000190734863, 5.400000095367432, 4.829999923706055, 4.880000114440918, 4.920000076293945, 4.78000020980835, 4.539999961853027, 4.150000095367432, 4.050000190734863, 4.400000095367432, 4.579999923706055, 4.5, 4.449999809265137, 4.460000038146973, 4.340000152587891, 4.570000171661377, 4.75, 4.329999923706055, 4.119999885559082, 4.269999980926514, 4.239999771118164, 4.440000057220459, 4.289999961853027, 4.28000020980835, 5.0, 4.78000020980835, 4.639999866485596, 4.599999904632568, 4.5, 4.949999809265137, 4.539999961853027, 4.670000076293945, 4.949999809265137, 4.789999961853027, 4.949999809265137, 4.829999923706055, 4.329999923706055, 4.480000019073486, 4.349999904632568, 4.329999923706055, 4.309999942779541, 4.489999771118164, 4.309999942779541, 4.199999809265137, 4.099999904632568, 4.269999980926514, 4.199999809265137, 4.349999904632568, 4.21999979019165, 4.130000114440918, 4.190000057220459, 4.159999847412109, 3.950000047683716, 3.9000000953674316, 4.019999980926514, 4.090000152587891, 4.059999942779541, 4.019999980926514, 3.9600000381469727, 3.940000057220459, 4.0, 4.059999942779541, 4.03000020980835, 4.130000114440918, 4.5, 4.599999904632568, 4.389999866485596, 4.199999809265137, 4.429999828338623, 4.400000095367432, 4.519999980926514, 4.599999904632568, 4.78000020980835, 4.610000133514404, 4.800000190734863, 4.619999885559082, 4.599999904632568, 5.099999904632568, 4.880000114440918, 4.96999979019165, 5.110000133514404, 5.300000190734863, 5.769999980926514, 7.300000190734863, 7.800000190734863, 7.880000114440918, 7.78000020980835, 7.550000190734863, 7.960000038146973, 6.650000095367432, 6.260000228881836, 6.800000190734863, 6.860000133514404, 7.03000020980835, 8.569999694824219, 9.199999809265137, 9.350000381469727, 10.449999809265137, 10.600000381469727, 9.710000038146973, 9.1899995803833, 10.15999984741211, 10.0, 10.25, 10.09000015258789, 9.380000114440918, 9.4399995803833, 9.5600004196167, 9.229999542236328, 9.539999961853027, 12.829999923706055, 11.65999984741211, 11.729999542236328, 12.670000076293945, 11.989999771118164, 13.770000457763672, 13.4399995803833, 14.029999732971191, 13.899999618530273, 14.199999809265137, 15.050000190734863, 14.930000305175781, 13.710000038146973, 12.270000457763672, 11.880000114440918, 11.640000343322754, 10.819999694824219, 10.75, 11.760000228881836, 11.270000457763672, 11.520000457763672, 12.760000228881836, 11.5, 11.5, 11.739999771118164, 11.359999656677246, 11.15999984741211, 11.649999618530273, 11.800000190734863, 11.600000381469727, 12.550000190734863, 12.899999618530273, 14.229999542236328, 13.600000381469727, 15.289999961853027, 18.170000076293945, 17.110000610351562, 15.699999809265137, 16.479999542236328, 16.299999237060547, 17.0, 16.3700008392334, 13.920000076293945, 13.119999885559082, 13.90999984741211, 13.34000015258789, 12.779999732971191, 13.960000038146973, 13.960000038146973, 15.779999732971191, 15.8100004196167, 16.219999313354492, 20.170000076293945, 21.010000228881836, 21.309999465942383, 20.81999969482422, 19.3799991607666, 19.25, 19.0, 17.350000381469727, 17.34000015258789, 18.469999313354492, 18.18000030517578, 19.40999984741211, 19.959999084472656, 20.420000076293945, 38.09000015258789, 38.4900016784668, 41.54999923706055, 37.369998931884766, 39.22999954223633, 42.59000015258789, 96.7300033569336, 88.55999755859375, 354.8299865722656, 265.0, 379.7099914550781, 316.55999755859375, 140.75999450683594, 112.01000213623047, 91.19000244140625, 54.040000915527344, 72.41000366210938, 56.61000061035156, 50.77000045776367, 50.0099983215332, 50.75], \"xaxis\": \"x7\", \"y\": [4866700, 3562200, 3651700, 5039500, 7722200, 6009800, 6805600, 3592100, 6185700, 7024800, 3350600, 2300900, 4568700, 4064300, 3830400, 3340500, 2836900, 2884500, 5908600, 6844500, 13506600, 7499900, 3371900, 5653200, 6085000, 4142100, 2677800, 2265900, 2236200, 7275100, 5200200, 3369600, 2173300, 4005600, 4068100, 2105900, 3369600, 2500800, 2353700, 1699200, 2639200, 2882900, 2004900, 1940600, 2371700, 1840700, 2543600, 1971900, 2379900, 3545700, 3146600, 2183900, 3973500, 2611600, 2369400, 3037400, 3514300, 6274400, 10133700, 8073400, 10606400, 6236000, 4378200, 3909000, 3121300, 3593500, 3423800, 7366600, 3178900, 3205400, 2976200, 2450800, 3801200, 2131200, 3889000, 2303700, 1887600, 2140900, 2456600, 2052800, 1992600, 1410800, 4216200, 2261600, 1474100, 1330100, 3065900, 3401100, 3341000, 2523500, 3237200, 2215900, 2472700, 4555400, 2879600, 2398500, 1879400, 2517600, 10361400, 4925700, 1901200, 3341100, 4561800, 3138800, 3057600, 2128300, 3474400, 2371000, 3834400, 2612600, 2441200, 10642600, 4585400, 2998700, 2779700, 3384400, 4236900, 37976000, 23211000, 13011100, 14344500, 7662000, 9816600, 9068100, 15558300, 6061200, 10119000, 5743500, 19256300, 17026700, 17407500, 7639800, 34752500, 10651200, 7938800, 7515200, 6764300, 5237600, 6079000, 4554100, 4340500, 2805000, 4535400, 3308600, 76453600, 77152800, 23655700, 10179700, 10776800, 39894800, 11651600, 13169100, 6604000, 5361900, 16212200, 6507300, 13376300, 7231000, 6388600, 4165800, 11546900, 5227000, 7454500, 5807900, 4705200, 5518200, 6244900, 3826000, 4882600, 4353300, 3535900, 9774800, 6678200, 3169200, 11787600, 8395400, 9599100, 7183200, 8860100, 12504200, 31983500, 12666000, 7883400, 6295000, 8972700, 7386300, 16120200, 24357900, 7558900, 7496900, 10007100, 8192900, 5865100, 8194900, 16618800, 9876100, 30652700, 25830300, 6262200, 8965900, 9241400, 5934400, 6918900, 10022500, 4961500, 6056200, 6129300, 6464500, 14927600, 7060700, 144501700, 93717400, 46752200, 74721900, 33471800, 57079800, 196784300, 177874000, 178588000, 93396700, 58815800, 50259200, 37382200, 78183100, 42698500, 62427300, 80886300, 25687300, 26843100, 36455000, 12997400, 14498000], \"yaxis\": \"y7\"}, {\"marker\": {\"color\": [0, 1, 2, 3, 4, 5, 6, 7, 8, 9, 10, 11, 12, 13, 14, 15, 16, 17, 18, 19, 20, 21, 22, 23, 24, 25, 26, 27, 28, 29, 30, 31, 32, 33, 34, 35, 36, 37, 38, 39, 40, 41, 42, 43, 44, 45, 46, 47, 48, 49, 50, 51, 52, 53, 54, 55, 56, 57, 58, 59, 60, 61, 62, 63, 64, 65, 66, 67, 68, 69, 70, 71, 72, 73, 74, 75, 76, 77, 78, 79, 80, 81, 82, 83, 84, 85, 86, 87, 88, 89, 90, 91, 92, 93, 94, 95, 96, 97, 98, 99, 100, 101, 102, 103, 104, 105, 106, 107, 108, 109, 110, 111, 112, 113, 114, 115, 116, 117, 118, 119, 120, 121, 122, 123, 124, 125, 126, 127, 128, 129, 130, 131, 132, 133, 134, 135, 136, 137, 138, 139, 140, 141, 142, 143, 144, 145, 146, 147, 148, 149, 150, 151, 152, 153, 154, 155, 156, 157, 158, 159, 160, 161, 162, 163, 164, 165, 166, 167, 168, 169, 170, 171, 172, 173, 174, 175, 176, 177, 178, 179, 180, 181, 182, 183, 184, 185, 186, 187, 188, 189, 190, 191, 192, 193, 194, 195, 196, 197, 198, 199, 200, 201, 202, 203, 204, 205, 206, 207, 208, 209, 210, 211, 212, 213, 214, 215, 216, 217, 218, 219, 220, 221, 222, 223, 224, 225, 226, 227, 228, 229, 230, 231], \"colorscale\": [[0.0, \"rgb(5, 10, 172)\"], [1.0, \"rgb(178, 10, 28)\"]], \"showscale\": false, \"size\": 3}, \"mode\": \"markers\", \"showlegend\": false, \"type\": \"scatter\", \"x\": [4.369999885559082, 4.230000019073486, 3.7699999809265137, 4.190000057220459, 3.759999990463257, 3.809999942779541, 4.159999847412109, 4.170000076293945, 4.409999847412109, 4.21999979019165, 3.6500000953674316, 3.5, 3.25, 2.8499999046325684, 2.799999952316284, 3.0899999141693115, 3.2699999809265137, 3.4100000858306885, 3.890000104904175, 4.739999771118164, 5.949999809265137, 5.269999980926514, 5.03000020980835, 4.880000114440918, 5.610000133514404, 4.78000020980835, 4.889999866485596, 4.699999809265137, 4.769999980926514, 5.820000171661377, 5.639999866485596, 6.039999961853027, 5.730000019073486, 6.050000190734863, 5.480000019073486, 5.389999866485596, 4.929999828338623, 4.869999885559082, 4.980000019073486, 4.760000228881836, 4.539999961853027, 4.210000038146973, 4.130000114440918, 4.21999979019165, 4.579999923706055, 4.440000057220459, 4.429999828338623, 4.440000057220459, 4.179999828338623, 4.420000076293945, 4.690000057220459, 4.329999923706055, 4.059999942779541, 4.130000114440918, 4.179999828338623, 4.440000057220459, 4.46999979019165, 4.139999866485596, 5.010000228881836, 4.960000038146973, 5.070000171661377, 4.369999885559082, 4.71999979019165, 4.690000057220459, 4.639999866485596, 4.760000228881836, 4.949999809265137, 4.880000114440918, 4.869999885559082, 4.829999923706055, 4.409999847412109, 4.460000038146973, 4.349999904632568, 4.380000114440918, 4.340000152587891, 4.440000057220459, 4.289999961853027, 4.239999771118164, 4.090000152587891, 4.260000228881836, 4.210000038146973, 4.340000152587891, 4.260000228881836, 4.079999923706055, 4.190000057220459, 4.170000076293945, 3.9600000381469727, 3.8499999046325684, 4.010000228881836, 4.110000133514404, 4.110000133514404, 4.03000020980835, 4.010000228881836, 3.940000057220459, 4.059999942779541, 4.099999904632568, 4.010000228881836, 4.150000095367432, 4.429999828338623, 4.630000114440918, 4.429999828338623, 4.159999847412109, 4.329999923706055, 4.349999904632568, 4.519999980926514, 4.639999866485596, 4.75, 4.630000114440918, 4.809999942779541, 4.71999979019165, 4.610000133514404, 5.03000020980835, 4.869999885559082, 4.980000019073486, 5.110000133514404, 5.25, 5.389999866485596, 6.679999828338623, 7.650000095367432, 7.710000038146973, 7.820000171661377, 7.650000095367432, 7.699999809265137, 7.349999904632568, 6.230000019073486, 6.090000152587891, 6.909999847412109, 7.090000152587891, 8.680000305175781, 9.199999809265137, 9.470000267028809, 8.75, 10.5600004196167, 10.039999961853027, 9.140000343322754, 10.020000457763672, 10.09000015258789, 10.350000381469727, 10.199999809265137, 9.770000457763672, 9.390000343322754, 9.460000038146973, 9.130000114440918, 9.359999656677246, 13.489999771118164, 12.020000457763672, 11.800000190734863, 11.880000114440918, 12.25, 13.829999923706055, 13.3100004196167, 13.90999984741211, 13.859999656677246, 14.100000381469727, 14.90999984741211, 15.0, 13.449999809265137, 12.6899995803833, 11.819999694824219, 11.729999542236328, 10.470000267028809, 10.75, 11.569999694824219, 10.90999984741211, 11.449999809265137, 11.859999656677246, 11.489999771118164, 11.100000381469727, 11.75, 11.130000114440918, 11.010000228881836, 12.0600004196167, 11.630000114440918, 11.569999694824219, 12.460000038146973, 12.710000038146973, 13.899999618530273, 13.670000076293945, 14.75, 16.079999923706055, 16.559999465942383, 15.800000190734863, 16.579999923706055, 16.1200008392334, 16.899999618530273, 16.350000381469727, 16.940000534057617, 13.65999984741211, 14.119999885559082, 13.3100004196167, 12.720000267028809, 13.850000381469727, 13.850000381469727, 14.829999923706055, 15.630000114440918, 15.529999732971191, 19.459999084472656, 20.56999969482422, 20.149999618530273, 20.989999771118164, 19.3799991607666, 19.260000228881836, 18.84000015258789, 17.25, 17.3700008392334, 18.360000610351562, 18.079999923706055, 17.690000534057617, 19.940000534057617, 19.950000762939453, 31.399999618530273, 39.90999984741211, 35.5, 39.36000061035156, 39.119998931884766, 43.029998779296875, 65.01000213623047, 76.79000091552734, 147.97999572753906, 347.510009765625, 193.60000610351562, 325.0, 225.0, 90.0, 92.41000366210938, 53.5, 63.77000045776367, 60.0, 50.310001373291016, 51.20000076293945, 51.099998474121094, 52.400001525878906], \"xaxis\": \"x8\", \"y\": [4866700, 3562200, 3651700, 5039500, 7722200, 6009800, 6805600, 3592100, 6185700, 7024800, 3350600, 2300900, 4568700, 4064300, 3830400, 3340500, 2836900, 2884500, 5908600, 6844500, 13506600, 7499900, 3371900, 5653200, 6085000, 4142100, 2677800, 2265900, 2236200, 7275100, 5200200, 3369600, 2173300, 4005600, 4068100, 2105900, 3369600, 2500800, 2353700, 1699200, 2639200, 2882900, 2004900, 1940600, 2371700, 1840700, 2543600, 1971900, 2379900, 3545700, 3146600, 2183900, 3973500, 2611600, 2369400, 3037400, 3514300, 6274400, 10133700, 8073400, 10606400, 6236000, 4378200, 3909000, 3121300, 3593500, 3423800, 7366600, 3178900, 3205400, 2976200, 2450800, 3801200, 2131200, 3889000, 2303700, 1887600, 2140900, 2456600, 2052800, 1992600, 1410800, 4216200, 2261600, 1474100, 1330100, 3065900, 3401100, 3341000, 2523500, 3237200, 2215900, 2472700, 4555400, 2879600, 2398500, 1879400, 2517600, 10361400, 4925700, 1901200, 3341100, 4561800, 3138800, 3057600, 2128300, 3474400, 2371000, 3834400, 2612600, 2441200, 10642600, 4585400, 2998700, 2779700, 3384400, 4236900, 37976000, 23211000, 13011100, 14344500, 7662000, 9816600, 9068100, 15558300, 6061200, 10119000, 5743500, 19256300, 17026700, 17407500, 7639800, 34752500, 10651200, 7938800, 7515200, 6764300, 5237600, 6079000, 4554100, 4340500, 2805000, 4535400, 3308600, 76453600, 77152800, 23655700, 10179700, 10776800, 39894800, 11651600, 13169100, 6604000, 5361900, 16212200, 6507300, 13376300, 7231000, 6388600, 4165800, 11546900, 5227000, 7454500, 5807900, 4705200, 5518200, 6244900, 3826000, 4882600, 4353300, 3535900, 9774800, 6678200, 3169200, 11787600, 8395400, 9599100, 7183200, 8860100, 12504200, 31983500, 12666000, 7883400, 6295000, 8972700, 7386300, 16120200, 24357900, 7558900, 7496900, 10007100, 8192900, 5865100, 8194900, 16618800, 9876100, 30652700, 25830300, 6262200, 8965900, 9241400, 5934400, 6918900, 10022500, 4961500, 6056200, 6129300, 6464500, 14927600, 7060700, 144501700, 93717400, 46752200, 74721900, 33471800, 57079800, 196784300, 177874000, 178588000, 93396700, 58815800, 50259200, 37382200, 78183100, 42698500, 62427300, 80886300, 25687300, 26843100, 36455000, 12997400, 14498000], \"yaxis\": \"y8\"}, {\"marker\": {\"color\": \"rgb(5, 10, 172)\"}, \"showlegend\": false, \"type\": \"box\", \"xaxis\": \"x9\", \"y\": [4866700, 3562200, 3651700, 5039500, 7722200, 6009800, 6805600, 3592100, 6185700, 7024800, 3350600, 2300900, 4568700, 4064300, 3830400, 3340500, 2836900, 2884500, 5908600, 6844500, 13506600, 7499900, 3371900, 5653200, 6085000, 4142100, 2677800, 2265900, 2236200, 7275100, 5200200, 3369600, 2173300, 4005600, 4068100, 2105900, 3369600, 2500800, 2353700, 1699200, 2639200, 2882900, 2004900, 1940600, 2371700, 1840700, 2543600, 1971900, 2379900, 3545700, 3146600, 2183900, 3973500, 2611600, 2369400, 3037400, 3514300, 6274400, 10133700, 8073400, 10606400, 6236000, 4378200, 3909000, 3121300, 3593500, 3423800, 7366600, 3178900, 3205400, 2976200, 2450800, 3801200, 2131200, 3889000, 2303700, 1887600, 2140900, 2456600, 2052800, 1992600, 1410800, 4216200, 2261600, 1474100, 1330100, 3065900, 3401100, 3341000, 2523500, 3237200, 2215900, 2472700, 4555400, 2879600, 2398500, 1879400, 2517600, 10361400, 4925700, 1901200, 3341100, 4561800, 3138800, 3057600, 2128300, 3474400, 2371000, 3834400, 2612600, 2441200, 10642600, 4585400, 2998700, 2779700, 3384400, 4236900, 37976000, 23211000, 13011100, 14344500, 7662000, 9816600, 9068100, 15558300, 6061200, 10119000, 5743500, 19256300, 17026700, 17407500, 7639800, 34752500, 10651200, 7938800, 7515200, 6764300, 5237600, 6079000, 4554100, 4340500, 2805000, 4535400, 3308600, 76453600, 77152800, 23655700, 10179700, 10776800, 39894800, 11651600, 13169100, 6604000, 5361900, 16212200, 6507300, 13376300, 7231000, 6388600, 4165800, 11546900, 5227000, 7454500, 5807900, 4705200, 5518200, 6244900, 3826000, 4882600, 4353300, 3535900, 9774800, 6678200, 3169200, 11787600, 8395400, 9599100, 7183200, 8860100, 12504200, 31983500, 12666000, 7883400, 6295000, 8972700, 7386300, 16120200, 24357900, 7558900, 7496900, 10007100, 8192900, 5865100, 8194900, 16618800, 9876100, 30652700, 25830300, 6262200, 8965900, 9241400, 5934400, 6918900, 10022500, 4961500, 6056200, 6129300, 6464500, 14927600, 7060700, 144501700, 93717400, 46752200, 74721900, 33471800, 57079800, 196784300, 177874000, 178588000, 93396700, 58815800, 50259200, 37382200, 78183100, 42698500, 62427300, 80886300, 25687300, 26843100, 36455000, 12997400, 14498000], \"yaxis\": \"y9\"}],                        {\"height\": 600, \"showlegend\": true, \"template\": {\"data\": {\"bar\": [{\"error_x\": {\"color\": \"#f2f5fa\"}, \"error_y\": {\"color\": \"#f2f5fa\"}, \"marker\": {\"line\": {\"color\": \"rgb(17,17,17)\", \"width\": 0.5}}, \"type\": \"bar\"}], \"barpolar\": [{\"marker\": {\"line\": {\"color\": \"rgb(17,17,17)\", \"width\": 0.5}}, \"type\": \"barpolar\"}], \"carpet\": [{\"aaxis\": {\"endlinecolor\": \"#A2B1C6\", \"gridcolor\": \"#506784\", \"linecolor\": \"#506784\", \"minorgridcolor\": \"#506784\", \"startlinecolor\": \"#A2B1C6\"}, \"baxis\": {\"endlinecolor\": \"#A2B1C6\", \"gridcolor\": \"#506784\", \"linecolor\": \"#506784\", \"minorgridcolor\": \"#506784\", \"startlinecolor\": \"#A2B1C6\"}, \"type\": \"carpet\"}], \"choropleth\": [{\"colorbar\": {\"outlinewidth\": 0, \"ticks\": \"\"}, \"type\": \"choropleth\"}], \"contour\": [{\"colorbar\": {\"outlinewidth\": 0, \"ticks\": \"\"}, \"colorscale\": [[0.0, \"#0d0887\"], [0.1111111111111111, \"#46039f\"], [0.2222222222222222, \"#7201a8\"], [0.3333333333333333, \"#9c179e\"], [0.4444444444444444, \"#bd3786\"], [0.5555555555555556, \"#d8576b\"], [0.6666666666666666, \"#ed7953\"], [0.7777777777777778, \"#fb9f3a\"], [0.8888888888888888, \"#fdca26\"], [1.0, \"#f0f921\"]], \"type\": \"contour\"}], \"contourcarpet\": [{\"colorbar\": {\"outlinewidth\": 0, \"ticks\": \"\"}, \"type\": \"contourcarpet\"}], \"heatmap\": [{\"colorbar\": {\"outlinewidth\": 0, \"ticks\": \"\"}, \"colorscale\": [[0.0, \"#0d0887\"], [0.1111111111111111, \"#46039f\"], [0.2222222222222222, \"#7201a8\"], [0.3333333333333333, \"#9c179e\"], [0.4444444444444444, \"#bd3786\"], [0.5555555555555556, \"#d8576b\"], [0.6666666666666666, \"#ed7953\"], [0.7777777777777778, \"#fb9f3a\"], [0.8888888888888888, \"#fdca26\"], [1.0, \"#f0f921\"]], \"type\": \"heatmap\"}], \"heatmapgl\": [{\"colorbar\": {\"outlinewidth\": 0, \"ticks\": \"\"}, \"colorscale\": [[0.0, \"#0d0887\"], [0.1111111111111111, \"#46039f\"], [0.2222222222222222, \"#7201a8\"], [0.3333333333333333, \"#9c179e\"], [0.4444444444444444, \"#bd3786\"], [0.5555555555555556, \"#d8576b\"], [0.6666666666666666, \"#ed7953\"], [0.7777777777777778, \"#fb9f3a\"], [0.8888888888888888, \"#fdca26\"], [1.0, \"#f0f921\"]], \"type\": \"heatmapgl\"}], \"histogram\": [{\"marker\": {\"colorbar\": {\"outlinewidth\": 0, \"ticks\": \"\"}}, \"type\": \"histogram\"}], \"histogram2d\": [{\"colorbar\": {\"outlinewidth\": 0, \"ticks\": \"\"}, \"colorscale\": [[0.0, \"#0d0887\"], [0.1111111111111111, \"#46039f\"], [0.2222222222222222, \"#7201a8\"], [0.3333333333333333, \"#9c179e\"], [0.4444444444444444, \"#bd3786\"], [0.5555555555555556, \"#d8576b\"], [0.6666666666666666, \"#ed7953\"], [0.7777777777777778, \"#fb9f3a\"], [0.8888888888888888, \"#fdca26\"], [1.0, \"#f0f921\"]], \"type\": \"histogram2d\"}], \"histogram2dcontour\": [{\"colorbar\": {\"outlinewidth\": 0, \"ticks\": \"\"}, \"colorscale\": [[0.0, \"#0d0887\"], [0.1111111111111111, \"#46039f\"], [0.2222222222222222, \"#7201a8\"], [0.3333333333333333, \"#9c179e\"], [0.4444444444444444, \"#bd3786\"], [0.5555555555555556, \"#d8576b\"], [0.6666666666666666, \"#ed7953\"], [0.7777777777777778, \"#fb9f3a\"], [0.8888888888888888, \"#fdca26\"], [1.0, \"#f0f921\"]], \"type\": \"histogram2dcontour\"}], \"mesh3d\": [{\"colorbar\": {\"outlinewidth\": 0, \"ticks\": \"\"}, \"type\": \"mesh3d\"}], \"parcoords\": [{\"line\": {\"colorbar\": {\"outlinewidth\": 0, \"ticks\": \"\"}}, \"type\": \"parcoords\"}], \"pie\": [{\"automargin\": true, \"type\": \"pie\"}], \"scatter\": [{\"marker\": {\"line\": {\"color\": \"#283442\"}}, \"type\": \"scatter\"}], \"scatter3d\": [{\"line\": {\"colorbar\": {\"outlinewidth\": 0, \"ticks\": \"\"}}, \"marker\": {\"colorbar\": {\"outlinewidth\": 0, \"ticks\": \"\"}}, \"type\": \"scatter3d\"}], \"scattercarpet\": [{\"marker\": {\"colorbar\": {\"outlinewidth\": 0, \"ticks\": \"\"}}, \"type\": \"scattercarpet\"}], \"scattergeo\": [{\"marker\": {\"colorbar\": {\"outlinewidth\": 0, \"ticks\": \"\"}}, \"type\": \"scattergeo\"}], \"scattergl\": [{\"marker\": {\"line\": {\"color\": \"#283442\"}}, \"type\": \"scattergl\"}], \"scattermapbox\": [{\"marker\": {\"colorbar\": {\"outlinewidth\": 0, \"ticks\": \"\"}}, \"type\": \"scattermapbox\"}], \"scatterpolar\": [{\"marker\": {\"colorbar\": {\"outlinewidth\": 0, \"ticks\": \"\"}}, \"type\": \"scatterpolar\"}], \"scatterpolargl\": [{\"marker\": {\"colorbar\": {\"outlinewidth\": 0, \"ticks\": \"\"}}, \"type\": \"scatterpolargl\"}], \"scatterternary\": [{\"marker\": {\"colorbar\": {\"outlinewidth\": 0, \"ticks\": \"\"}}, \"type\": \"scatterternary\"}], \"surface\": [{\"colorbar\": {\"outlinewidth\": 0, \"ticks\": \"\"}, \"colorscale\": [[0.0, \"#0d0887\"], [0.1111111111111111, \"#46039f\"], [0.2222222222222222, \"#7201a8\"], [0.3333333333333333, \"#9c179e\"], [0.4444444444444444, \"#bd3786\"], [0.5555555555555556, \"#d8576b\"], [0.6666666666666666, \"#ed7953\"], [0.7777777777777778, \"#fb9f3a\"], [0.8888888888888888, \"#fdca26\"], [1.0, \"#f0f921\"]], \"type\": \"surface\"}], \"table\": [{\"cells\": {\"fill\": {\"color\": \"#506784\"}, \"line\": {\"color\": \"rgb(17,17,17)\"}}, \"header\": {\"fill\": {\"color\": \"#2a3f5f\"}, \"line\": {\"color\": \"rgb(17,17,17)\"}}, \"type\": \"table\"}]}, \"layout\": {\"annotationdefaults\": {\"arrowcolor\": \"#f2f5fa\", \"arrowhead\": 0, \"arrowwidth\": 1}, \"autotypenumbers\": \"strict\", \"coloraxis\": {\"colorbar\": {\"outlinewidth\": 0, \"ticks\": \"\"}}, \"colorscale\": {\"diverging\": [[0, \"#8e0152\"], [0.1, \"#c51b7d\"], [0.2, \"#de77ae\"], [0.3, \"#f1b6da\"], [0.4, \"#fde0ef\"], [0.5, \"#f7f7f7\"], [0.6, \"#e6f5d0\"], [0.7, \"#b8e186\"], [0.8, \"#7fbc41\"], [0.9, \"#4d9221\"], [1, \"#276419\"]], \"sequential\": [[0.0, \"#0d0887\"], [0.1111111111111111, \"#46039f\"], [0.2222222222222222, \"#7201a8\"], [0.3333333333333333, \"#9c179e\"], [0.4444444444444444, \"#bd3786\"], [0.5555555555555556, \"#d8576b\"], [0.6666666666666666, \"#ed7953\"], [0.7777777777777778, \"#fb9f3a\"], [0.8888888888888888, \"#fdca26\"], [1.0, \"#f0f921\"]], \"sequentialminus\": [[0.0, \"#0d0887\"], [0.1111111111111111, \"#46039f\"], [0.2222222222222222, \"#7201a8\"], [0.3333333333333333, \"#9c179e\"], [0.4444444444444444, \"#bd3786\"], [0.5555555555555556, \"#d8576b\"], [0.6666666666666666, \"#ed7953\"], [0.7777777777777778, \"#fb9f3a\"], [0.8888888888888888, \"#fdca26\"], [1.0, \"#f0f921\"]]}, \"colorway\": [\"#636efa\", \"#EF553B\", \"#00cc96\", \"#ab63fa\", \"#FFA15A\", \"#19d3f3\", \"#FF6692\", \"#B6E880\", \"#FF97FF\", \"#FECB52\"], \"font\": {\"color\": \"#f2f5fa\"}, \"geo\": {\"bgcolor\": \"rgb(17,17,17)\", \"lakecolor\": \"rgb(17,17,17)\", \"landcolor\": \"rgb(17,17,17)\", \"showlakes\": true, \"showland\": true, \"subunitcolor\": \"#506784\"}, \"hoverlabel\": {\"align\": \"left\"}, \"hovermode\": \"closest\", \"mapbox\": {\"style\": \"dark\"}, \"paper_bgcolor\": \"rgb(17,17,17)\", \"plot_bgcolor\": \"rgb(17,17,17)\", \"polar\": {\"angularaxis\": {\"gridcolor\": \"#506784\", \"linecolor\": \"#506784\", \"ticks\": \"\"}, \"bgcolor\": \"rgb(17,17,17)\", \"radialaxis\": {\"gridcolor\": \"#506784\", \"linecolor\": \"#506784\", \"ticks\": \"\"}}, \"scene\": {\"xaxis\": {\"backgroundcolor\": \"rgb(17,17,17)\", \"gridcolor\": \"#506784\", \"gridwidth\": 2, \"linecolor\": \"#506784\", \"showbackground\": true, \"ticks\": \"\", \"zerolinecolor\": \"#C8D4E3\"}, \"yaxis\": {\"backgroundcolor\": \"rgb(17,17,17)\", \"gridcolor\": \"#506784\", \"gridwidth\": 2, \"linecolor\": \"#506784\", \"showbackground\": true, \"ticks\": \"\", \"zerolinecolor\": \"#C8D4E3\"}, \"zaxis\": {\"backgroundcolor\": \"rgb(17,17,17)\", \"gridcolor\": \"#506784\", \"gridwidth\": 2, \"linecolor\": \"#506784\", \"showbackground\": true, \"ticks\": \"\", \"zerolinecolor\": \"#C8D4E3\"}}, \"shapedefaults\": {\"line\": {\"color\": \"#f2f5fa\"}}, \"sliderdefaults\": {\"bgcolor\": \"#C8D4E3\", \"bordercolor\": \"rgb(17,17,17)\", \"borderwidth\": 1, \"tickwidth\": 0}, \"ternary\": {\"aaxis\": {\"gridcolor\": \"#506784\", \"linecolor\": \"#506784\", \"ticks\": \"\"}, \"baxis\": {\"gridcolor\": \"#506784\", \"linecolor\": \"#506784\", \"ticks\": \"\"}, \"bgcolor\": \"rgb(17,17,17)\", \"caxis\": {\"gridcolor\": \"#506784\", \"linecolor\": \"#506784\", \"ticks\": \"\"}}, \"title\": {\"x\": 0.05}, \"updatemenudefaults\": {\"bgcolor\": \"#506784\", \"borderwidth\": 0}, \"xaxis\": {\"automargin\": true, \"gridcolor\": \"#283442\", \"linecolor\": \"#506784\", \"ticks\": \"\", \"title\": {\"standoff\": 15}, \"zerolinecolor\": \"#283442\", \"zerolinewidth\": 2}, \"yaxis\": {\"automargin\": true, \"gridcolor\": \"#283442\", \"linecolor\": \"#506784\", \"ticks\": \"\", \"title\": {\"standoff\": 15}, \"zerolinecolor\": \"#283442\", \"zerolinewidth\": 2}}}, \"title\": {\"text\": \"GameStop Stock Price (Scatterplot Matrix)\", \"x\": 0.5, \"xanchor\": \"center\"}, \"width\": 1150, \"xaxis\": {\"anchor\": \"y\", \"domain\": [0.0, 0.2888888888888889], \"showticklabels\": false}, \"xaxis2\": {\"anchor\": \"y2\", \"domain\": [0.35555555555555557, 0.6444444444444445]}, \"xaxis3\": {\"anchor\": \"y3\", \"domain\": [0.7111111111111111, 1.0]}, \"xaxis4\": {\"anchor\": \"y4\", \"domain\": [0.0, 0.2888888888888889]}, \"xaxis5\": {\"anchor\": \"y5\", \"domain\": [0.35555555555555557, 0.6444444444444445], \"showticklabels\": false}, \"xaxis6\": {\"anchor\": \"y6\", \"domain\": [0.7111111111111111, 1.0]}, \"xaxis7\": {\"anchor\": \"y7\", \"domain\": [0.0, 0.2888888888888889], \"title\": {\"text\": \"Open\"}}, \"xaxis8\": {\"anchor\": \"y8\", \"domain\": [0.35555555555555557, 0.6444444444444445], \"title\": {\"text\": \"Close\"}}, \"xaxis9\": {\"anchor\": \"y9\", \"domain\": [0.7111111111111111, 1.0], \"showticklabels\": false, \"title\": {\"text\": \"Volume\"}}, \"yaxis\": {\"anchor\": \"x\", \"domain\": [0.7333333333333333, 1.0], \"title\": {\"text\": \"Open\"}}, \"yaxis2\": {\"anchor\": \"x2\", \"domain\": [0.7333333333333333, 1.0]}, \"yaxis3\": {\"anchor\": \"x3\", \"domain\": [0.7333333333333333, 1.0]}, \"yaxis4\": {\"anchor\": \"x4\", \"domain\": [0.36666666666666664, 0.6333333333333333], \"title\": {\"text\": \"Close\"}}, \"yaxis5\": {\"anchor\": \"x5\", \"domain\": [0.36666666666666664, 0.6333333333333333]}, \"yaxis6\": {\"anchor\": \"x6\", \"domain\": [0.36666666666666664, 0.6333333333333333]}, \"yaxis7\": {\"anchor\": \"x7\", \"domain\": [0.0, 0.26666666666666666], \"title\": {\"text\": \"Volume\"}}, \"yaxis8\": {\"anchor\": \"x8\", \"domain\": [0.0, 0.26666666666666666]}, \"yaxis9\": {\"anchor\": \"x9\", \"domain\": [0.0, 0.26666666666666666]}},                        {\"responsive\": true}                    ).then(function(){\n",
       "                            \n",
       "var gd = document.getElementById('1a1399d6-4cfa-4c7b-b482-cc89ed9b0988');\n",
       "var x = new MutationObserver(function (mutations, observer) {{\n",
       "        var display = window.getComputedStyle(gd).display;\n",
       "        if (!display || display === 'none') {{\n",
       "            console.log([gd, 'removed!']);\n",
       "            Plotly.purge(gd);\n",
       "            observer.disconnect();\n",
       "        }}\n",
       "}});\n",
       "\n",
       "// Listen for the removal of the full notebook cells\n",
       "var notebookContainer = gd.closest('#notebook-container');\n",
       "if (notebookContainer) {{\n",
       "    x.observe(notebookContainer, {childList: true});\n",
       "}}\n",
       "\n",
       "// Listen for the clearing of the current output cell\n",
       "var outputEl = gd.closest('.output');\n",
       "if (outputEl) {{\n",
       "    x.observe(outputEl, {childList: true});\n",
       "}}\n",
       "\n",
       "                        })                };                });            </script>        </div>"
      ]
     },
     "metadata": {},
     "output_type": "display_data"
    }
   ],
   "source": [
    "gmstp = gmstp[['Open','Close','Volume']]\n",
    "gmstp[\"index\"] = np.arange(len(gmstp))\n",
    "\n",
    "fig8 = go.Figure(ff.create_scatterplotmatrix(gmstp, diag='box', index='index',size=3,\n",
    "                               height=600, width=1150, colormap='RdBu',\n",
    "                                   title={\n",
    "                                    'text': \"GameStop Stock Price (Scatterplot Matrix)\",\n",
    "                                    'x':0.5,\n",
    "                                    'xanchor': 'center'}))\n",
    "fig8.show()"
   ]
  },
  {
   "cell_type": "code",
   "execution_count": 22,
   "metadata": {},
   "outputs": [
    {
     "name": "stdout",
     "output_type": "stream",
     "text": [
      "Connected successfully to https://datapane.com as vaibhav\r\n"
     ]
    }
   ],
   "source": [
    "\n",
    "\n",
    "# Authenticate with your API token\n",
    "dp.login(token=\"1936fe512f07b727efbfe804283db5bfb54a7f06\")\n"
   ]
  },
  {
   "cell_type": "code",
   "execution_count": 23,
   "metadata": {},
   "outputs": [
    {
     "name": "stdout",
     "output_type": "stream",
     "text": [
      "Publishing report and associated data - please wait..\n",
      "Report successfully published at https://datapane.com/u/vaibhav/reports/stock-report/\n"
     ]
    }
   ],
   "source": [
    "dp.Report(\n",
    "    dp.Group(\n",
    "        dp.Plot(fig0), \n",
    "        dp.Plot(fig1), \n",
    "        dp.Plot(fig2), \n",
    "        dp.Plot(fig3), \n",
    "        dp.Plot(fig4), \n",
    "        dp.Plot(fig5), \n",
    "        dp.Plot(fig6), \n",
    "        dp.Plot(fig7), \n",
    "        columns=2,\n",
    "        rows=4\n",
    "    ), dp.Plot(fig8)\n",
    ").publish(name='stock_report', open=True,description=f'Build Interactive Stock Market report. Support article: https://towardsdatascience.com/creating-automated-python-dashboards-using-plotly-datapane-and-github-actions-ff8aa8b4e3')"
   ]
  },
  {
   "cell_type": "code",
   "execution_count": null,
   "metadata": {},
   "outputs": [],
   "source": []
  }
 ],
 "metadata": {
  "kernelspec": {
   "display_name": "Python 3",
   "language": "python",
   "name": "python3"
  },
  "language_info": {
   "codemirror_mode": {
    "name": "ipython",
    "version": 3
   },
   "file_extension": ".py",
   "mimetype": "text/x-python",
   "name": "python",
   "nbconvert_exporter": "python",
   "pygments_lexer": "ipython3",
   "version": "3.7.6"
  }
 },
 "nbformat": 4,
 "nbformat_minor": 4
}
